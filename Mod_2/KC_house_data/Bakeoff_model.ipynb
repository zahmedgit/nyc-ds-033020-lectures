{
 "cells": [
  {
   "cell_type": "code",
   "execution_count": 1,
   "metadata": {},
   "outputs": [],
   "source": [
    "import pandas as pd\n",
    "pd.set_option('display.max_columns', 300)\n",
    "import numpy as np\n",
    "import matplotlib.pyplot as plt\n",
    "import seaborn as sns\n",
    "from statsmodels.formula.api import ols\n",
    "from sklearn.model_selection import train_test_split\n",
    "from sklearn import linear_model\n",
    "from sklearn.linear_model import LinearRegression\n",
    "from sklearn import metrics\n",
    "from sklearn.preprocessing import PolynomialFeatures\n",
    "from sklearn.preprocessing import StandardScaler\n",
    "from sklearn.linear_model import Lasso\n",
    "from sklearn.linear_model import Ridge\n",
    "from sklearn.feature_selection import RFECV\n",
    "from sklearn.feature_selection import SelectKBest, f_regression,mutual_info_regression\n",
    "from uszipcode import SearchEngine\n"
   ]
  },
  {
   "cell_type": "code",
   "execution_count": 187,
   "metadata": {
    "collapsed": true
   },
   "outputs": [
    {
     "name": "stdout",
     "output_type": "stream",
     "text": [
      "<class 'pandas.core.frame.DataFrame'>\n",
      "Int64Index: 17290 entries, 0 to 17289\n",
      "Data columns (total 21 columns):\n",
      " #   Column         Non-Null Count  Dtype  \n",
      "---  ------         --------------  -----  \n",
      " 0   id             17290 non-null  int64  \n",
      " 1   date           17290 non-null  object \n",
      " 2   price          17290 non-null  float64\n",
      " 3   bedrooms       17290 non-null  int64  \n",
      " 4   bathrooms      17290 non-null  float64\n",
      " 5   sqft_living    17290 non-null  int64  \n",
      " 6   sqft_lot       17290 non-null  int64  \n",
      " 7   floors         17290 non-null  float64\n",
      " 8   waterfront     17290 non-null  int64  \n",
      " 9   view           17290 non-null  int64  \n",
      " 10  condition      17290 non-null  int64  \n",
      " 11  grade          17290 non-null  int64  \n",
      " 12  sqft_above     17290 non-null  int64  \n",
      " 13  sqft_basement  17290 non-null  int64  \n",
      " 14  yr_built       17290 non-null  int64  \n",
      " 15  yr_renovated   17290 non-null  int64  \n",
      " 16  zipcode        17290 non-null  int64  \n",
      " 17  lat            17290 non-null  float64\n",
      " 18  long           17290 non-null  float64\n",
      " 19  sqft_living15  17290 non-null  int64  \n",
      " 20  sqft_lot15     17290 non-null  int64  \n",
      "dtypes: float64(5), int64(15), object(1)\n",
      "memory usage: 2.9+ MB\n"
     ]
    }
   ],
   "source": [
    "df=pd.read_csv('kc_house_data_train.csv', index_col=0)\n",
    "df.info()"
   ]
  },
  {
   "cell_type": "code",
   "execution_count": 3,
   "metadata": {},
   "outputs": [
    {
     "data": {
      "text/html": [
       "<div>\n",
       "<style scoped>\n",
       "    .dataframe tbody tr th:only-of-type {\n",
       "        vertical-align: middle;\n",
       "    }\n",
       "\n",
       "    .dataframe tbody tr th {\n",
       "        vertical-align: top;\n",
       "    }\n",
       "\n",
       "    .dataframe thead th {\n",
       "        text-align: right;\n",
       "    }\n",
       "</style>\n",
       "<table border=\"1\" class=\"dataframe\">\n",
       "  <thead>\n",
       "    <tr style=\"text-align: right;\">\n",
       "      <th></th>\n",
       "      <th>id</th>\n",
       "      <th>price</th>\n",
       "      <th>bedrooms</th>\n",
       "      <th>bathrooms</th>\n",
       "      <th>sqft_living</th>\n",
       "      <th>sqft_lot</th>\n",
       "      <th>floors</th>\n",
       "      <th>waterfront</th>\n",
       "      <th>view</th>\n",
       "      <th>condition</th>\n",
       "      <th>grade</th>\n",
       "      <th>sqft_above</th>\n",
       "      <th>sqft_basement</th>\n",
       "      <th>yr_built</th>\n",
       "      <th>yr_renovated</th>\n",
       "      <th>zipcode</th>\n",
       "      <th>lat</th>\n",
       "      <th>long</th>\n",
       "      <th>sqft_living15</th>\n",
       "      <th>sqft_lot15</th>\n",
       "    </tr>\n",
       "  </thead>\n",
       "  <tbody>\n",
       "    <tr>\n",
       "      <th>count</th>\n",
       "      <td>1.729000e+04</td>\n",
       "      <td>1.729000e+04</td>\n",
       "      <td>17290.000000</td>\n",
       "      <td>17290.000000</td>\n",
       "      <td>17290.000000</td>\n",
       "      <td>1.729000e+04</td>\n",
       "      <td>17290.000000</td>\n",
       "      <td>17290.000000</td>\n",
       "      <td>17290.000000</td>\n",
       "      <td>17290.000000</td>\n",
       "      <td>17290.000000</td>\n",
       "      <td>17290.000000</td>\n",
       "      <td>17290.000000</td>\n",
       "      <td>17290.000000</td>\n",
       "      <td>17290.000000</td>\n",
       "      <td>17290.000000</td>\n",
       "      <td>17290.000000</td>\n",
       "      <td>17290.000000</td>\n",
       "      <td>17290.000000</td>\n",
       "      <td>17290.000000</td>\n",
       "    </tr>\n",
       "    <tr>\n",
       "      <th>mean</th>\n",
       "      <td>4.565502e+09</td>\n",
       "      <td>5.407395e+05</td>\n",
       "      <td>3.372470</td>\n",
       "      <td>2.111943</td>\n",
       "      <td>2081.464604</td>\n",
       "      <td>1.524340e+04</td>\n",
       "      <td>1.490312</td>\n",
       "      <td>0.007981</td>\n",
       "      <td>0.238519</td>\n",
       "      <td>3.408502</td>\n",
       "      <td>7.654425</td>\n",
       "      <td>1789.306015</td>\n",
       "      <td>292.158589</td>\n",
       "      <td>1970.792019</td>\n",
       "      <td>83.806304</td>\n",
       "      <td>98078.193175</td>\n",
       "      <td>47.560058</td>\n",
       "      <td>-122.214258</td>\n",
       "      <td>1987.986698</td>\n",
       "      <td>12873.475824</td>\n",
       "    </tr>\n",
       "    <tr>\n",
       "      <th>std</th>\n",
       "      <td>2.874656e+09</td>\n",
       "      <td>3.733190e+05</td>\n",
       "      <td>0.939346</td>\n",
       "      <td>0.770476</td>\n",
       "      <td>920.018539</td>\n",
       "      <td>4.230462e+04</td>\n",
       "      <td>0.538909</td>\n",
       "      <td>0.088985</td>\n",
       "      <td>0.775229</td>\n",
       "      <td>0.651296</td>\n",
       "      <td>1.174718</td>\n",
       "      <td>829.265107</td>\n",
       "      <td>443.151874</td>\n",
       "      <td>29.343516</td>\n",
       "      <td>400.329376</td>\n",
       "      <td>53.607949</td>\n",
       "      <td>0.138412</td>\n",
       "      <td>0.140857</td>\n",
       "      <td>684.802635</td>\n",
       "      <td>27227.437583</td>\n",
       "    </tr>\n",
       "    <tr>\n",
       "      <th>min</th>\n",
       "      <td>1.000102e+06</td>\n",
       "      <td>7.500000e+04</td>\n",
       "      <td>0.000000</td>\n",
       "      <td>0.000000</td>\n",
       "      <td>290.000000</td>\n",
       "      <td>5.720000e+02</td>\n",
       "      <td>1.000000</td>\n",
       "      <td>0.000000</td>\n",
       "      <td>0.000000</td>\n",
       "      <td>1.000000</td>\n",
       "      <td>1.000000</td>\n",
       "      <td>290.000000</td>\n",
       "      <td>0.000000</td>\n",
       "      <td>1900.000000</td>\n",
       "      <td>0.000000</td>\n",
       "      <td>98001.000000</td>\n",
       "      <td>47.155900</td>\n",
       "      <td>-122.519000</td>\n",
       "      <td>399.000000</td>\n",
       "      <td>659.000000</td>\n",
       "    </tr>\n",
       "    <tr>\n",
       "      <th>25%</th>\n",
       "      <td>2.114701e+09</td>\n",
       "      <td>3.210000e+05</td>\n",
       "      <td>3.000000</td>\n",
       "      <td>1.500000</td>\n",
       "      <td>1430.000000</td>\n",
       "      <td>5.081250e+03</td>\n",
       "      <td>1.000000</td>\n",
       "      <td>0.000000</td>\n",
       "      <td>0.000000</td>\n",
       "      <td>3.000000</td>\n",
       "      <td>7.000000</td>\n",
       "      <td>1200.000000</td>\n",
       "      <td>0.000000</td>\n",
       "      <td>1951.000000</td>\n",
       "      <td>0.000000</td>\n",
       "      <td>98033.000000</td>\n",
       "      <td>47.471200</td>\n",
       "      <td>-122.329000</td>\n",
       "      <td>1490.000000</td>\n",
       "      <td>5111.250000</td>\n",
       "    </tr>\n",
       "    <tr>\n",
       "      <th>50%</th>\n",
       "      <td>3.903650e+09</td>\n",
       "      <td>4.500000e+05</td>\n",
       "      <td>3.000000</td>\n",
       "      <td>2.250000</td>\n",
       "      <td>1920.000000</td>\n",
       "      <td>7.642000e+03</td>\n",
       "      <td>1.500000</td>\n",
       "      <td>0.000000</td>\n",
       "      <td>0.000000</td>\n",
       "      <td>3.000000</td>\n",
       "      <td>7.000000</td>\n",
       "      <td>1560.000000</td>\n",
       "      <td>0.000000</td>\n",
       "      <td>1974.000000</td>\n",
       "      <td>0.000000</td>\n",
       "      <td>98065.000000</td>\n",
       "      <td>47.571600</td>\n",
       "      <td>-122.230000</td>\n",
       "      <td>1840.000000</td>\n",
       "      <td>7622.500000</td>\n",
       "    </tr>\n",
       "    <tr>\n",
       "      <th>75%</th>\n",
       "      <td>7.301150e+09</td>\n",
       "      <td>6.450000e+05</td>\n",
       "      <td>4.000000</td>\n",
       "      <td>2.500000</td>\n",
       "      <td>2550.000000</td>\n",
       "      <td>1.072575e+04</td>\n",
       "      <td>2.000000</td>\n",
       "      <td>0.000000</td>\n",
       "      <td>0.000000</td>\n",
       "      <td>4.000000</td>\n",
       "      <td>8.000000</td>\n",
       "      <td>2214.500000</td>\n",
       "      <td>560.000000</td>\n",
       "      <td>1996.000000</td>\n",
       "      <td>0.000000</td>\n",
       "      <td>98118.000000</td>\n",
       "      <td>47.677900</td>\n",
       "      <td>-122.126000</td>\n",
       "      <td>2360.000000</td>\n",
       "      <td>10101.750000</td>\n",
       "    </tr>\n",
       "    <tr>\n",
       "      <th>max</th>\n",
       "      <td>9.900000e+09</td>\n",
       "      <td>7.700000e+06</td>\n",
       "      <td>33.000000</td>\n",
       "      <td>8.000000</td>\n",
       "      <td>13540.000000</td>\n",
       "      <td>1.651359e+06</td>\n",
       "      <td>3.500000</td>\n",
       "      <td>1.000000</td>\n",
       "      <td>4.000000</td>\n",
       "      <td>5.000000</td>\n",
       "      <td>13.000000</td>\n",
       "      <td>9410.000000</td>\n",
       "      <td>4820.000000</td>\n",
       "      <td>2015.000000</td>\n",
       "      <td>2015.000000</td>\n",
       "      <td>98199.000000</td>\n",
       "      <td>47.777600</td>\n",
       "      <td>-121.315000</td>\n",
       "      <td>6210.000000</td>\n",
       "      <td>858132.000000</td>\n",
       "    </tr>\n",
       "  </tbody>\n",
       "</table>\n",
       "</div>"
      ],
      "text/plain": [
       "                 id         price      bedrooms     bathrooms   sqft_living  \\\n",
       "count  1.729000e+04  1.729000e+04  17290.000000  17290.000000  17290.000000   \n",
       "mean   4.565502e+09  5.407395e+05      3.372470      2.111943   2081.464604   \n",
       "std    2.874656e+09  3.733190e+05      0.939346      0.770476    920.018539   \n",
       "min    1.000102e+06  7.500000e+04      0.000000      0.000000    290.000000   \n",
       "25%    2.114701e+09  3.210000e+05      3.000000      1.500000   1430.000000   \n",
       "50%    3.903650e+09  4.500000e+05      3.000000      2.250000   1920.000000   \n",
       "75%    7.301150e+09  6.450000e+05      4.000000      2.500000   2550.000000   \n",
       "max    9.900000e+09  7.700000e+06     33.000000      8.000000  13540.000000   \n",
       "\n",
       "           sqft_lot        floors    waterfront          view     condition  \\\n",
       "count  1.729000e+04  17290.000000  17290.000000  17290.000000  17290.000000   \n",
       "mean   1.524340e+04      1.490312      0.007981      0.238519      3.408502   \n",
       "std    4.230462e+04      0.538909      0.088985      0.775229      0.651296   \n",
       "min    5.720000e+02      1.000000      0.000000      0.000000      1.000000   \n",
       "25%    5.081250e+03      1.000000      0.000000      0.000000      3.000000   \n",
       "50%    7.642000e+03      1.500000      0.000000      0.000000      3.000000   \n",
       "75%    1.072575e+04      2.000000      0.000000      0.000000      4.000000   \n",
       "max    1.651359e+06      3.500000      1.000000      4.000000      5.000000   \n",
       "\n",
       "              grade    sqft_above  sqft_basement      yr_built  yr_renovated  \\\n",
       "count  17290.000000  17290.000000   17290.000000  17290.000000  17290.000000   \n",
       "mean       7.654425   1789.306015     292.158589   1970.792019     83.806304   \n",
       "std        1.174718    829.265107     443.151874     29.343516    400.329376   \n",
       "min        1.000000    290.000000       0.000000   1900.000000      0.000000   \n",
       "25%        7.000000   1200.000000       0.000000   1951.000000      0.000000   \n",
       "50%        7.000000   1560.000000       0.000000   1974.000000      0.000000   \n",
       "75%        8.000000   2214.500000     560.000000   1996.000000      0.000000   \n",
       "max       13.000000   9410.000000    4820.000000   2015.000000   2015.000000   \n",
       "\n",
       "            zipcode           lat          long  sqft_living15     sqft_lot15  \n",
       "count  17290.000000  17290.000000  17290.000000   17290.000000   17290.000000  \n",
       "mean   98078.193175     47.560058   -122.214258    1987.986698   12873.475824  \n",
       "std       53.607949      0.138412      0.140857     684.802635   27227.437583  \n",
       "min    98001.000000     47.155900   -122.519000     399.000000     659.000000  \n",
       "25%    98033.000000     47.471200   -122.329000    1490.000000    5111.250000  \n",
       "50%    98065.000000     47.571600   -122.230000    1840.000000    7622.500000  \n",
       "75%    98118.000000     47.677900   -122.126000    2360.000000   10101.750000  \n",
       "max    98199.000000     47.777600   -121.315000    6210.000000  858132.000000  "
      ]
     },
     "execution_count": 3,
     "metadata": {},
     "output_type": "execute_result"
    }
   ],
   "source": [
    "df.describe()"
   ]
  },
  {
   "cell_type": "code",
   "execution_count": 188,
   "metadata": {},
   "outputs": [],
   "source": [
    "search = SearchEngine(simple_zipcode=True)\n",
    "main_city = [search.by_zipcode(i).major_city for i in df['zipcode']]\n",
    "df['main_city'] = main_city"
   ]
  },
  {
   "cell_type": "code",
   "execution_count": 165,
   "metadata": {},
   "outputs": [],
   "source": [
    "cities=pd.get_dummies(df['main_city'], drop_first=True)\n",
    "df=pd.concat([df,cities], axis=1)"
   ]
  },
  {
   "cell_type": "code",
   "execution_count": 166,
   "metadata": {},
   "outputs": [],
   "source": [
    "df.columns=[col.replace(' ','_') for col in df.columns]\n"
   ]
  },
  {
   "cell_type": "code",
   "execution_count": 167,
   "metadata": {},
   "outputs": [],
   "source": [
    "df['year']=df['date'].apply(lambda x: int(x[0:4]))\n",
    "df['month']=df['date'].apply(lambda x: int(x[4:6]))\n"
   ]
  },
  {
   "cell_type": "code",
   "execution_count": 168,
   "metadata": {},
   "outputs": [],
   "source": [
    "def make_dummies(df,col_dummies):\n",
    "    new_df=df.copy()\n",
    "    for col in col_dummies:\n",
    "        dummies=pd.get_dummies(new_df[col], prefix='{}_'.format(col),drop_first=True)\n",
    "        new_df=pd.concat([new_df,dummies], axis=1)\n",
    "    return new_df"
   ]
  },
  {
   "cell_type": "code",
   "execution_count": 169,
   "metadata": {},
   "outputs": [],
   "source": [
    "new_df=make_dummies(df,['year','month','view','condition','grade'])"
   ]
  },
  {
   "cell_type": "code",
   "execution_count": 170,
   "metadata": {},
   "outputs": [],
   "source": [
    "extreme_cols=['bedrooms','bathrooms','sqft_living','sqft_lot','sqft_above','sqft_basement']"
   ]
  },
  {
   "cell_type": "code",
   "execution_count": 47,
   "metadata": {},
   "outputs": [],
   "source": [
    "def ext_values(df, extreme_cols):\n",
    "    new_df = df.copy()\n",
    "    for col in extreme_cols:\n",
    "        std = new_df[col].std()\n",
    "        mean = new_df[col].mean()\n",
    "        pos_value = mean+(5*std)\n",
    "        neg_value = mean-(5*std)\n",
    "        new_df[col] = new_df[col].apply(lambda x: pos_value if (x > pos_value) else (neg_value if x < neg_value else x))\n",
    "    return new_df\n",
    "#df=ext_values(df, extreme_cols)"
   ]
  },
  {
   "cell_type": "code",
   "execution_count": 171,
   "metadata": {},
   "outputs": [],
   "source": [
    "new_df=ext_values(new_df, extreme_cols)"
   ]
  },
  {
   "cell_type": "code",
   "execution_count": 45,
   "metadata": {
    "collapsed": true
   },
   "outputs": [
    {
     "data": {
      "text/plain": [
       "<matplotlib.axes._subplots.AxesSubplot at 0x1e13b25fe88>"
      ]
     },
     "execution_count": 45,
     "metadata": {},
     "output_type": "execute_result"
    },
    {
     "data": {
      "image/png": "[encoded data removed]",
      "text/plain": [
       "<Figure size 432x288 with 1 Axes>"
      ]
     },
     "metadata": {
      "needs_background": "light"
     },
     "output_type": "display_data"
    },
    {
     "data": {
      "image/png": "[encoded data removed]",
      "text/plain": [
       "<Figure size 432x288 with 1 Axes>"
      ]
     },
     "metadata": {
      "needs_background": "light"
     },
     "output_type": "display_data"
    }
   ],
   "source": [
    "df.plot(kind='scatter',x='yr_built',y='price')\n",
    "df[df['yr_renovated']>0].plot(kind='scatter',x='yr_renovated',y='price')"
   ]
  },
  {
   "cell_type": "markdown",
   "metadata": {},
   "source": [
    "## Add Interactions"
   ]
  },
  {
   "cell_type": "code",
   "execution_count": 172,
   "metadata": {},
   "outputs": [],
   "source": [
    "inter_df=new_df.drop(['date','id','main_city','year','month','view','condition','grade'], axis=1)\n",
    "# poly_inter= PolynomialFeatures(interaction_only=True, include_bias=False)\n",
    "# poly_inter.fit_transform(inter_df)"
   ]
  },
  {
   "cell_type": "code",
   "execution_count": 55,
   "metadata": {},
   "outputs": [
    {
     "data": {
      "text/plain": [
       "(17290, 251)"
      ]
     },
     "execution_count": 55,
     "metadata": {},
     "output_type": "execute_result"
    }
   ],
   "source": [
    "inter_df.shape"
   ]
  },
  {
   "cell_type": "code",
   "execution_count": 23,
   "metadata": {
    "collapsed": true
   },
   "outputs": [
    {
     "data": {
      "text/html": [
       "<div>\n",
       "<style scoped>\n",
       "    .dataframe tbody tr th:only-of-type {\n",
       "        vertical-align: middle;\n",
       "    }\n",
       "\n",
       "    .dataframe tbody tr th {\n",
       "        vertical-align: top;\n",
       "    }\n",
       "\n",
       "    .dataframe thead th {\n",
       "        text-align: right;\n",
       "    }\n",
       "</style>\n",
       "<table border=\"1\" class=\"dataframe\">\n",
       "  <thead>\n",
       "    <tr style=\"text-align: right;\">\n",
       "      <th></th>\n",
       "      <th>id</th>\n",
       "      <th>price</th>\n",
       "      <th>bedrooms</th>\n",
       "      <th>bathrooms</th>\n",
       "      <th>sqft_living</th>\n",
       "      <th>sqft_lot</th>\n",
       "      <th>floors</th>\n",
       "      <th>waterfront</th>\n",
       "      <th>view</th>\n",
       "      <th>condition</th>\n",
       "      <th>grade</th>\n",
       "      <th>sqft_above</th>\n",
       "      <th>sqft_basement</th>\n",
       "      <th>yr_built</th>\n",
       "      <th>yr_renovated</th>\n",
       "      <th>zipcode</th>\n",
       "      <th>lat</th>\n",
       "      <th>long</th>\n",
       "      <th>sqft_living15</th>\n",
       "      <th>sqft_lot15</th>\n",
       "      <th>price_4</th>\n",
       "      <th>price_log</th>\n",
       "      <th>price_sqrt</th>\n",
       "    </tr>\n",
       "  </thead>\n",
       "  <tbody>\n",
       "    <tr>\n",
       "      <th>count</th>\n",
       "      <td>1.729000e+04</td>\n",
       "      <td>1.729000e+04</td>\n",
       "      <td>17290.000000</td>\n",
       "      <td>17290.000000</td>\n",
       "      <td>17290.000000</td>\n",
       "      <td>17290.000000</td>\n",
       "      <td>17290.000000</td>\n",
       "      <td>17290.000000</td>\n",
       "      <td>17290.000000</td>\n",
       "      <td>17290.000000</td>\n",
       "      <td>17290.000000</td>\n",
       "      <td>17290.000000</td>\n",
       "      <td>17290.000000</td>\n",
       "      <td>17290.000000</td>\n",
       "      <td>17290.000000</td>\n",
       "      <td>17290.000000</td>\n",
       "      <td>17290.000000</td>\n",
       "      <td>17290.000000</td>\n",
       "      <td>17290.000000</td>\n",
       "      <td>17290.000000</td>\n",
       "      <td>17290.000000</td>\n",
       "      <td>17290.000000</td>\n",
       "      <td>17290.000000</td>\n",
       "    </tr>\n",
       "    <tr>\n",
       "      <th>mean</th>\n",
       "      <td>4.565502e+09</td>\n",
       "      <td>5.407395e+05</td>\n",
       "      <td>4.535885</td>\n",
       "      <td>2.245283</td>\n",
       "      <td>2153.033651</td>\n",
       "      <td>13753.075256</td>\n",
       "      <td>1.490312</td>\n",
       "      <td>0.007981</td>\n",
       "      <td>0.238519</td>\n",
       "      <td>3.408502</td>\n",
       "      <td>7.654425</td>\n",
       "      <td>1851.994871</td>\n",
       "      <td>291.767131</td>\n",
       "      <td>1970.792019</td>\n",
       "      <td>83.806304</td>\n",
       "      <td>98078.193175</td>\n",
       "      <td>47.560058</td>\n",
       "      <td>-122.214258</td>\n",
       "      <td>1987.986698</td>\n",
       "      <td>12873.475824</td>\n",
       "      <td>26.334542</td>\n",
       "      <td>13.048109</td>\n",
       "      <td>706.468787</td>\n",
       "    </tr>\n",
       "    <tr>\n",
       "      <th>std</th>\n",
       "      <td>2.874656e+09</td>\n",
       "      <td>3.733190e+05</td>\n",
       "      <td>2.183236</td>\n",
       "      <td>1.080327</td>\n",
       "      <td>1107.595229</td>\n",
       "      <td>25527.976372</td>\n",
       "      <td>0.538909</td>\n",
       "      <td>0.088985</td>\n",
       "      <td>0.775229</td>\n",
       "      <td>0.651296</td>\n",
       "      <td>1.174718</td>\n",
       "      <td>999.988155</td>\n",
       "      <td>439.903216</td>\n",
       "      <td>29.343516</td>\n",
       "      <td>400.329376</td>\n",
       "      <td>53.607949</td>\n",
       "      <td>0.138412</td>\n",
       "      <td>0.140857</td>\n",
       "      <td>684.802635</td>\n",
       "      <td>27227.437583</td>\n",
       "      <td>3.600198</td>\n",
       "      <td>0.526865</td>\n",
       "      <td>204.068149</td>\n",
       "    </tr>\n",
       "    <tr>\n",
       "      <th>min</th>\n",
       "      <td>1.000102e+06</td>\n",
       "      <td>7.500000e+04</td>\n",
       "      <td>0.000000</td>\n",
       "      <td>0.000000</td>\n",
       "      <td>290.000000</td>\n",
       "      <td>572.000000</td>\n",
       "      <td>1.000000</td>\n",
       "      <td>0.000000</td>\n",
       "      <td>0.000000</td>\n",
       "      <td>1.000000</td>\n",
       "      <td>1.000000</td>\n",
       "      <td>290.000000</td>\n",
       "      <td>0.000000</td>\n",
       "      <td>1900.000000</td>\n",
       "      <td>0.000000</td>\n",
       "      <td>98001.000000</td>\n",
       "      <td>47.155900</td>\n",
       "      <td>-122.519000</td>\n",
       "      <td>399.000000</td>\n",
       "      <td>659.000000</td>\n",
       "      <td>16.548755</td>\n",
       "      <td>11.225243</td>\n",
       "      <td>273.861279</td>\n",
       "    </tr>\n",
       "    <tr>\n",
       "      <th>25%</th>\n",
       "      <td>2.114701e+09</td>\n",
       "      <td>3.210000e+05</td>\n",
       "      <td>3.000000</td>\n",
       "      <td>1.500000</td>\n",
       "      <td>1430.000000</td>\n",
       "      <td>5081.250000</td>\n",
       "      <td>1.000000</td>\n",
       "      <td>0.000000</td>\n",
       "      <td>0.000000</td>\n",
       "      <td>3.000000</td>\n",
       "      <td>7.000000</td>\n",
       "      <td>1200.000000</td>\n",
       "      <td>0.000000</td>\n",
       "      <td>1951.000000</td>\n",
       "      <td>0.000000</td>\n",
       "      <td>98033.000000</td>\n",
       "      <td>47.471200</td>\n",
       "      <td>-122.329000</td>\n",
       "      <td>1490.000000</td>\n",
       "      <td>5111.250000</td>\n",
       "      <td>23.802702</td>\n",
       "      <td>12.679196</td>\n",
       "      <td>566.568619</td>\n",
       "    </tr>\n",
       "    <tr>\n",
       "      <th>50%</th>\n",
       "      <td>3.903650e+09</td>\n",
       "      <td>4.500000e+05</td>\n",
       "      <td>3.000000</td>\n",
       "      <td>2.250000</td>\n",
       "      <td>1920.000000</td>\n",
       "      <td>7642.000000</td>\n",
       "      <td>1.500000</td>\n",
       "      <td>0.000000</td>\n",
       "      <td>0.000000</td>\n",
       "      <td>3.000000</td>\n",
       "      <td>7.000000</td>\n",
       "      <td>1560.000000</td>\n",
       "      <td>0.000000</td>\n",
       "      <td>1974.000000</td>\n",
       "      <td>0.000000</td>\n",
       "      <td>98065.000000</td>\n",
       "      <td>47.571600</td>\n",
       "      <td>-122.230000</td>\n",
       "      <td>1840.000000</td>\n",
       "      <td>7622.500000</td>\n",
       "      <td>25.900201</td>\n",
       "      <td>13.017003</td>\n",
       "      <td>670.820393</td>\n",
       "    </tr>\n",
       "    <tr>\n",
       "      <th>75%</th>\n",
       "      <td>7.301150e+09</td>\n",
       "      <td>6.450000e+05</td>\n",
       "      <td>7.129852</td>\n",
       "      <td>2.500000</td>\n",
       "      <td>2550.000000</td>\n",
       "      <td>10725.750000</td>\n",
       "      <td>2.000000</td>\n",
       "      <td>0.000000</td>\n",
       "      <td>0.000000</td>\n",
       "      <td>4.000000</td>\n",
       "      <td>8.000000</td>\n",
       "      <td>2214.500000</td>\n",
       "      <td>560.000000</td>\n",
       "      <td>1996.000000</td>\n",
       "      <td>0.000000</td>\n",
       "      <td>98118.000000</td>\n",
       "      <td>47.677900</td>\n",
       "      <td>-122.126000</td>\n",
       "      <td>2360.000000</td>\n",
       "      <td>10101.750000</td>\n",
       "      <td>28.339353</td>\n",
       "      <td>13.377006</td>\n",
       "      <td>803.118920</td>\n",
       "    </tr>\n",
       "    <tr>\n",
       "      <th>max</th>\n",
       "      <td>9.900000e+09</td>\n",
       "      <td>7.700000e+06</td>\n",
       "      <td>7.129852</td>\n",
       "      <td>5.193849</td>\n",
       "      <td>5761.538761</td>\n",
       "      <td>184461.895037</td>\n",
       "      <td>3.500000</td>\n",
       "      <td>1.000000</td>\n",
       "      <td>4.000000</td>\n",
       "      <td>5.000000</td>\n",
       "      <td>13.000000</td>\n",
       "      <td>5106.366443</td>\n",
       "      <td>2064.766087</td>\n",
       "      <td>2015.000000</td>\n",
       "      <td>2015.000000</td>\n",
       "      <td>98199.000000</td>\n",
       "      <td>47.777600</td>\n",
       "      <td>-121.315000</td>\n",
       "      <td>6210.000000</td>\n",
       "      <td>858132.000000</td>\n",
       "      <td>52.677200</td>\n",
       "      <td>15.856731</td>\n",
       "      <td>2774.887385</td>\n",
       "    </tr>\n",
       "  </tbody>\n",
       "</table>\n",
       "</div>"
      ],
      "text/plain": [
       "                 id         price      bedrooms     bathrooms   sqft_living  \\\n",
       "count  1.729000e+04  1.729000e+04  17290.000000  17290.000000  17290.000000   \n",
       "mean   4.565502e+09  5.407395e+05      4.535885      2.245283   2153.033651   \n",
       "std    2.874656e+09  3.733190e+05      2.183236      1.080327   1107.595229   \n",
       "min    1.000102e+06  7.500000e+04      0.000000      0.000000    290.000000   \n",
       "25%    2.114701e+09  3.210000e+05      3.000000      1.500000   1430.000000   \n",
       "50%    3.903650e+09  4.500000e+05      3.000000      2.250000   1920.000000   \n",
       "75%    7.301150e+09  6.450000e+05      7.129852      2.500000   2550.000000   \n",
       "max    9.900000e+09  7.700000e+06      7.129852      5.193849   5761.538761   \n",
       "\n",
       "            sqft_lot        floors    waterfront          view     condition  \\\n",
       "count   17290.000000  17290.000000  17290.000000  17290.000000  17290.000000   \n",
       "mean    13753.075256      1.490312      0.007981      0.238519      3.408502   \n",
       "std     25527.976372      0.538909      0.088985      0.775229      0.651296   \n",
       "min       572.000000      1.000000      0.000000      0.000000      1.000000   \n",
       "25%      5081.250000      1.000000      0.000000      0.000000      3.000000   \n",
       "50%      7642.000000      1.500000      0.000000      0.000000      3.000000   \n",
       "75%     10725.750000      2.000000      0.000000      0.000000      4.000000   \n",
       "max    184461.895037      3.500000      1.000000      4.000000      5.000000   \n",
       "\n",
       "              grade    sqft_above  sqft_basement      yr_built  yr_renovated  \\\n",
       "count  17290.000000  17290.000000   17290.000000  17290.000000  17290.000000   \n",
       "mean       7.654425   1851.994871     291.767131   1970.792019     83.806304   \n",
       "std        1.174718    999.988155     439.903216     29.343516    400.329376   \n",
       "min        1.000000    290.000000       0.000000   1900.000000      0.000000   \n",
       "25%        7.000000   1200.000000       0.000000   1951.000000      0.000000   \n",
       "50%        7.000000   1560.000000       0.000000   1974.000000      0.000000   \n",
       "75%        8.000000   2214.500000     560.000000   1996.000000      0.000000   \n",
       "max       13.000000   5106.366443    2064.766087   2015.000000   2015.000000   \n",
       "\n",
       "            zipcode           lat          long  sqft_living15     sqft_lot15  \\\n",
       "count  17290.000000  17290.000000  17290.000000   17290.000000   17290.000000   \n",
       "mean   98078.193175     47.560058   -122.214258    1987.986698   12873.475824   \n",
       "std       53.607949      0.138412      0.140857     684.802635   27227.437583   \n",
       "min    98001.000000     47.155900   -122.519000     399.000000     659.000000   \n",
       "25%    98033.000000     47.471200   -122.329000    1490.000000    5111.250000   \n",
       "50%    98065.000000     47.571600   -122.230000    1840.000000    7622.500000   \n",
       "75%    98118.000000     47.677900   -122.126000    2360.000000   10101.750000   \n",
       "max    98199.000000     47.777600   -121.315000    6210.000000  858132.000000   \n",
       "\n",
       "            price_4     price_log    price_sqrt  \n",
       "count  17290.000000  17290.000000  17290.000000  \n",
       "mean      26.334542     13.048109    706.468787  \n",
       "std        3.600198      0.526865    204.068149  \n",
       "min       16.548755     11.225243    273.861279  \n",
       "25%       23.802702     12.679196    566.568619  \n",
       "50%       25.900201     13.017003    670.820393  \n",
       "75%       28.339353     13.377006    803.118920  \n",
       "max       52.677200     15.856731   2774.887385  "
      ]
     },
     "execution_count": 23,
     "metadata": {},
     "output_type": "execute_result"
    }
   ],
   "source": [
    "df.describe()"
   ]
  },
  {
   "cell_type": "code",
   "execution_count": 151,
   "metadata": {},
   "outputs": [],
   "source": [
    "corr=df.corr()"
   ]
  },
  {
   "cell_type": "code",
   "execution_count": 152,
   "metadata": {
    "collapsed": true
   },
   "outputs": [
    {
     "data": {
      "text/plain": [
       "<matplotlib.axes._subplots.AxesSubplot at 0x1e14275bac8>"
      ]
     },
     "execution_count": 152,
     "metadata": {},
     "output_type": "execute_result"
    },
    {
     "data": {
      "image/png": "[encoded data removed]",
      "text/plain": [
       "<Figure size 432x288 with 2 Axes>"
      ]
     },
     "metadata": {
      "needs_background": "light"
     },
     "output_type": "display_data"
    }
   ],
   "source": [
    "sns.heatmap(corr[corr>0.8])"
   ]
  },
  {
   "cell_type": "code",
   "execution_count": 42,
   "metadata": {
    "collapsed": true
   },
   "outputs": [
    {
     "data": {
      "text/plain": [
       "<matplotlib.axes._subplots.AxesSubplot at 0x1e475122348>"
      ]
     },
     "execution_count": 42,
     "metadata": {},
     "output_type": "execute_result"
    },
    {
     "data": {
      "image/png": "[encoded data removed]",
      "text/plain": [
       "<Figure size 432x288 with 1 Axes>"
      ]
     },
     "metadata": {
      "needs_background": "light"
     },
     "output_type": "display_data"
    }
   ],
   "source": [
    "df.boxplot('price', by='grade')\n",
    "# df['grade2']=np.sqrt(df['grade'])\n"
   ]
  },
  {
   "cell_type": "code",
   "execution_count": 55,
   "metadata": {
    "collapsed": true
   },
   "outputs": [
    {
     "data": {
      "image/png": "[encoded data removed]",
      "text/plain": [
       "<Figure size 432x288 with 1 Axes>"
      ]
     },
     "metadata": {
      "needs_background": "light"
     },
     "output_type": "display_data"
    }
   ],
   "source": [
    "x=df['grade']\n",
    "y=df['price']\n",
    "plt.plot( x, y**0.25, 'r.')\n",
    "plt.show()"
   ]
  },
  {
   "cell_type": "code",
   "execution_count": 3,
   "metadata": {
    "collapsed": true
   },
   "outputs": [
    {
     "data": {
      "text/html": [
       "<table class=\"simpletable\">\n",
       "<caption>OLS Regression Results</caption>\n",
       "<tr>\n",
       "  <th>Dep. Variable:</th>         <td>price_4</td>     <th>  R-squared:         </th> <td>   0.509</td> \n",
       "</tr>\n",
       "<tr>\n",
       "  <th>Model:</th>                   <td>OLS</td>       <th>  Adj. R-squared:    </th> <td>   0.509</td> \n",
       "</tr>\n",
       "<tr>\n",
       "  <th>Method:</th>             <td>Least Squares</td>  <th>  F-statistic:       </th> <td>1.791e+04</td>\n",
       "</tr>\n",
       "<tr>\n",
       "  <th>Date:</th>             <td>Fri, 01 May 2020</td> <th>  Prob (F-statistic):</th>  <td>  0.00</td>  \n",
       "</tr>\n",
       "<tr>\n",
       "  <th>Time:</th>                 <td>09:30:07</td>     <th>  Log-Likelihood:    </th> <td> -40536.</td> \n",
       "</tr>\n",
       "<tr>\n",
       "  <th>No. Observations:</th>      <td> 17290</td>      <th>  AIC:               </th> <td>8.108e+04</td>\n",
       "</tr>\n",
       "<tr>\n",
       "  <th>Df Residuals:</th>          <td> 17288</td>      <th>  BIC:               </th> <td>8.109e+04</td>\n",
       "</tr>\n",
       "<tr>\n",
       "  <th>Df Model:</th>              <td>     1</td>      <th>                     </th>     <td> </td>    \n",
       "</tr>\n",
       "<tr>\n",
       "  <th>Covariance Type:</th>      <td>nonrobust</td>    <th>                     </th>     <td> </td>    \n",
       "</tr>\n",
       "</table>\n",
       "<table class=\"simpletable\">\n",
       "<tr>\n",
       "      <td></td>         <th>coef</th>     <th>std err</th>      <th>t</th>      <th>P>|t|</th>  <th>[0.025</th>    <th>0.975]</th>  \n",
       "</tr>\n",
       "<tr>\n",
       "  <th>Intercept</th> <td>    9.6014</td> <td>    0.127</td> <td>   75.896</td> <td> 0.000</td> <td>    9.353</td> <td>    9.849</td>\n",
       "</tr>\n",
       "<tr>\n",
       "  <th>grade</th>     <td>    2.1861</td> <td>    0.016</td> <td>  133.818</td> <td> 0.000</td> <td>    2.154</td> <td>    2.218</td>\n",
       "</tr>\n",
       "</table>\n",
       "<table class=\"simpletable\">\n",
       "<tr>\n",
       "  <th>Omnibus:</th>       <td>1221.561</td> <th>  Durbin-Watson:     </th> <td>   2.006</td>\n",
       "</tr>\n",
       "<tr>\n",
       "  <th>Prob(Omnibus):</th>  <td> 0.000</td>  <th>  Jarque-Bera (JB):  </th> <td>1826.517</td>\n",
       "</tr>\n",
       "<tr>\n",
       "  <th>Skew:</th>           <td> 0.582</td>  <th>  Prob(JB):          </th> <td>    0.00</td>\n",
       "</tr>\n",
       "<tr>\n",
       "  <th>Kurtosis:</th>       <td> 4.087</td>  <th>  Cond. No.          </th> <td>    51.9</td>\n",
       "</tr>\n",
       "</table><br/><br/>Warnings:<br/>[1] Standard Errors assume that the covariance matrix of the errors is correctly specified."
      ],
      "text/plain": [
       "<class 'statsmodels.iolib.summary.Summary'>\n",
       "\"\"\"\n",
       "                            OLS Regression Results                            \n",
       "==============================================================================\n",
       "Dep. Variable:                price_4   R-squared:                       0.509\n",
       "Model:                            OLS   Adj. R-squared:                  0.509\n",
       "Method:                 Least Squares   F-statistic:                 1.791e+04\n",
       "Date:                Fri, 01 May 2020   Prob (F-statistic):               0.00\n",
       "Time:                        09:30:07   Log-Likelihood:                -40536.\n",
       "No. Observations:               17290   AIC:                         8.108e+04\n",
       "Df Residuals:                   17288   BIC:                         8.109e+04\n",
       "Df Model:                           1                                         \n",
       "Covariance Type:            nonrobust                                         \n",
       "==============================================================================\n",
       "                 coef    std err          t      P>|t|      [0.025      0.975]\n",
       "------------------------------------------------------------------------------\n",
       "Intercept      9.6014      0.127     75.896      0.000       9.353       9.849\n",
       "grade          2.1861      0.016    133.818      0.000       2.154       2.218\n",
       "==============================================================================\n",
       "Omnibus:                     1221.561   Durbin-Watson:                   2.006\n",
       "Prob(Omnibus):                  0.000   Jarque-Bera (JB):             1826.517\n",
       "Skew:                           0.582   Prob(JB):                         0.00\n",
       "Kurtosis:                       4.087   Cond. No.                         51.9\n",
       "==============================================================================\n",
       "\n",
       "Warnings:\n",
       "[1] Standard Errors assume that the covariance matrix of the errors is correctly specified.\n",
       "\"\"\""
      ]
     },
     "execution_count": 3,
     "metadata": {},
     "output_type": "execute_result"
    },
    {
     "data": {
      "image/png": "[encoded data removed]",
      "text/plain": [
       "<Figure size 432x288 with 1 Axes>"
      ]
     },
     "metadata": {
      "needs_background": "light"
     },
     "output_type": "display_data"
    }
   ],
   "source": [
    "\n",
    "df.boxplot('price_4',by='grade')\n",
    "ols(formula='price_4~grade',data=df).fit().summary()"
   ]
  },
  {
   "cell_type": "code",
   "execution_count": 14,
   "metadata": {
    "collapsed": true
   },
   "outputs": [
    {
     "data": {
      "text/plain": [
       "array([[<matplotlib.axes._subplots.AxesSubplot object at 0x000001E469903E48>]],\n",
       "      dtype=object)"
      ]
     },
     "execution_count": 14,
     "metadata": {},
     "output_type": "execute_result"
    },
    {
     "data": {
      "image/png": "[encoded data removed]",
      "text/plain": [
       "<Figure size 432x288 with 1 Axes>"
      ]
     },
     "metadata": {
      "needs_background": "light"
     },
     "output_type": "display_data"
    },
    {
     "data": {
      "image/png": "[encoded data removed]",
      "text/plain": [
       "<Figure size 432x288 with 1 Axes>"
      ]
     },
     "metadata": {
      "needs_background": "light"
     },
     "output_type": "display_data"
    }
   ],
   "source": [
    "df.hist('sqft_living')\n",
    "df.hist('sqft_lot')"
   ]
  },
  {
   "cell_type": "code",
   "execution_count": 19,
   "metadata": {
    "collapsed": true
   },
   "outputs": [
    {
     "data": {
      "text/plain": [
       "<matplotlib.axes._subplots.AxesSubplot at 0x1e470e8af48>"
      ]
     },
     "execution_count": 19,
     "metadata": {},
     "output_type": "execute_result"
    },
    {
     "data": {
      "image/png": "[encoded data removed]",
      "text/plain": [
       "<Figure size 432x288 with 1 Axes>"
      ]
     },
     "metadata": {
      "needs_background": "light"
     },
     "output_type": "display_data"
    },
    {
     "data": {
      "image/png": "[encoded data removed]",
      "text/plain": [
       "<Figure size 432x288 with 1 Axes>"
      ]
     },
     "metadata": {
      "needs_background": "light"
     },
     "output_type": "display_data"
    }
   ],
   "source": [
    "df.plot(kind='scatter',y='price',x='sqft_living')\n",
    "df.plot(kind='scatter',y='price',x='sqft_lot')"
   ]
  },
  {
   "cell_type": "code",
   "execution_count": 22,
   "metadata": {
    "collapsed": true
   },
   "outputs": [
    {
     "data": {
      "text/plain": [
       "<matplotlib.axes._subplots.AxesSubplot at 0x1e47143bd88>"
      ]
     },
     "execution_count": 22,
     "metadata": {},
     "output_type": "execute_result"
    },
    {
     "data": {
      "image/png": "[encoded data removed]",
      "text/plain": [
       "<Figure size 432x288 with 1 Axes>"
      ]
     },
     "metadata": {
      "needs_background": "light"
     },
     "output_type": "display_data"
    }
   ],
   "source": [
    "df.plot(kind='scatter',y='price', x='zipcode')"
   ]
  },
  {
   "cell_type": "code",
   "execution_count": 72,
   "metadata": {
    "collapsed": true
   },
   "outputs": [
    {
     "data": {
      "text/plain": [
       "<matplotlib.axes._subplots.AxesSubplot at 0x1e46a3351c8>"
      ]
     },
     "execution_count": 72,
     "metadata": {},
     "output_type": "execute_result"
    },
    {
     "data": {
      "image/png": "[encoded data removed]",
      "text/plain": [
       "<Figure size 432x288 with 1 Axes>"
      ]
     },
     "metadata": {
      "needs_background": "light"
     },
     "output_type": "display_data"
    },
    {
     "data": {
      "image/png": "[encoded data removed]",
      "text/plain": [
       "<Figure size 432x288 with 1 Axes>"
      ]
     },
     "metadata": {
      "needs_background": "light"
     },
     "output_type": "display_data"
    },
    {
     "data": {
      "image/png": "[encoded data removed]",
      "text/plain": [
       "<Figure size 432x288 with 1 Axes>"
      ]
     },
     "metadata": {
      "needs_background": "light"
     },
     "output_type": "display_data"
    },
    {
     "data": {
      "image/png": "[encoded data removed]",
      "text/plain": [
       "<Figure size 432x288 with 1 Axes>"
      ]
     },
     "metadata": {
      "needs_background": "light"
     },
     "output_type": "display_data"
    },
    {
     "data": {
      "image/png": "[encoded data removed]",
      "text/plain": [
       "<Figure size 432x288 with 1 Axes>"
      ]
     },
     "metadata": {
      "needs_background": "light"
     },
     "output_type": "display_data"
    }
   ],
   "source": [
    "df.boxplot('price', by='bedrooms')\n",
    "df.hist('bedrooms',bins=33)\n",
    "df.plot(kind='scatter',x='bedrooms',y='price')\n",
    "df.boxplot('price',by='waterfront')\n",
    "df.boxplot('price', by='view')"
   ]
  },
  {
   "cell_type": "code",
   "execution_count": 71,
   "metadata": {
    "collapsed": true
   },
   "outputs": [
    {
     "data": {
      "text/html": [
       "<table class=\"simpletable\">\n",
       "<caption>OLS Regression Results</caption>\n",
       "<tr>\n",
       "  <th>Dep. Variable:</th>          <td>price</td>      <th>  R-squared:         </th>  <td>   0.546</td>  \n",
       "</tr>\n",
       "<tr>\n",
       "  <th>Model:</th>                   <td>OLS</td>       <th>  Adj. R-squared:    </th>  <td>   0.546</td>  \n",
       "</tr>\n",
       "<tr>\n",
       "  <th>Method:</th>             <td>Least Squares</td>  <th>  F-statistic:       </th>  <td>   5205.</td>  \n",
       "</tr>\n",
       "<tr>\n",
       "  <th>Date:</th>             <td>Thu, 30 Apr 2020</td> <th>  Prob (F-statistic):</th>   <td>  0.00</td>   \n",
       "</tr>\n",
       "<tr>\n",
       "  <th>Time:</th>                 <td>16:06:45</td>     <th>  Log-Likelihood:    </th> <td>-2.3953e+05</td>\n",
       "</tr>\n",
       "<tr>\n",
       "  <th>No. Observations:</th>      <td> 17290</td>      <th>  AIC:               </th>  <td>4.791e+05</td> \n",
       "</tr>\n",
       "<tr>\n",
       "  <th>Df Residuals:</th>          <td> 17285</td>      <th>  BIC:               </th>  <td>4.791e+05</td> \n",
       "</tr>\n",
       "<tr>\n",
       "  <th>Df Model:</th>              <td>     4</td>      <th>                     </th>      <td> </td>     \n",
       "</tr>\n",
       "<tr>\n",
       "  <th>Covariance Type:</th>      <td>nonrobust</td>    <th>                     </th>      <td> </td>     \n",
       "</tr>\n",
       "</table>\n",
       "<table class=\"simpletable\">\n",
       "<tr>\n",
       "       <td></td>          <th>coef</th>     <th>std err</th>      <th>t</th>      <th>P>|t|</th>  <th>[0.025</th>    <th>0.975]</th>  \n",
       "</tr>\n",
       "<tr>\n",
       "  <th>Intercept</th>   <td>   6.6e+04</td> <td> 7158.128</td> <td>    9.220</td> <td> 0.000</td> <td>  5.2e+04</td> <td>    8e+04</td>\n",
       "</tr>\n",
       "<tr>\n",
       "  <th>sqft_living</th> <td>  308.8209</td> <td>    2.599</td> <td>  118.803</td> <td> 0.000</td> <td>  303.726</td> <td>  313.916</td>\n",
       "</tr>\n",
       "<tr>\n",
       "  <th>sqft_lot</th>    <td>   -0.3476</td> <td>    0.046</td> <td>   -7.556</td> <td> 0.000</td> <td>   -0.438</td> <td>   -0.257</td>\n",
       "</tr>\n",
       "<tr>\n",
       "  <th>bedrooms</th>    <td>-5.017e+04</td> <td> 2496.574</td> <td>  -20.094</td> <td> 0.000</td> <td>-5.51e+04</td> <td>-4.53e+04</td>\n",
       "</tr>\n",
       "<tr>\n",
       "  <th>waterfront</th>  <td> 8.046e+05</td> <td> 2.17e+04</td> <td>   37.068</td> <td> 0.000</td> <td> 7.62e+05</td> <td> 8.47e+05</td>\n",
       "</tr>\n",
       "</table>\n",
       "<table class=\"simpletable\">\n",
       "<tr>\n",
       "  <th>Omnibus:</th>       <td>11007.565</td> <th>  Durbin-Watson:     </th>  <td>   2.018</td> \n",
       "</tr>\n",
       "<tr>\n",
       "  <th>Prob(Omnibus):</th>  <td> 0.000</td>   <th>  Jarque-Bera (JB):  </th> <td>384843.992</td>\n",
       "</tr>\n",
       "<tr>\n",
       "  <th>Skew:</th>           <td> 2.534</td>   <th>  Prob(JB):          </th>  <td>    0.00</td> \n",
       "</tr>\n",
       "<tr>\n",
       "  <th>Kurtosis:</th>       <td>25.550</td>   <th>  Cond. No.          </th>  <td>5.11e+05</td> \n",
       "</tr>\n",
       "</table><br/><br/>Warnings:<br/>[1] Standard Errors assume that the covariance matrix of the errors is correctly specified.<br/>[2] The condition number is large, 5.11e+05. This might indicate that there are<br/>strong multicollinearity or other numerical problems."
      ],
      "text/plain": [
       "<class 'statsmodels.iolib.summary.Summary'>\n",
       "\"\"\"\n",
       "                            OLS Regression Results                            \n",
       "==============================================================================\n",
       "Dep. Variable:                  price   R-squared:                       0.546\n",
       "Model:                            OLS   Adj. R-squared:                  0.546\n",
       "Method:                 Least Squares   F-statistic:                     5205.\n",
       "Date:                Thu, 30 Apr 2020   Prob (F-statistic):               0.00\n",
       "Time:                        16:06:45   Log-Likelihood:            -2.3953e+05\n",
       "No. Observations:               17290   AIC:                         4.791e+05\n",
       "Df Residuals:                   17285   BIC:                         4.791e+05\n",
       "Df Model:                           4                                         \n",
       "Covariance Type:            nonrobust                                         \n",
       "===============================================================================\n",
       "                  coef    std err          t      P>|t|      [0.025      0.975]\n",
       "-------------------------------------------------------------------------------\n",
       "Intercept      6.6e+04   7158.128      9.220      0.000     5.2e+04       8e+04\n",
       "sqft_living   308.8209      2.599    118.803      0.000     303.726     313.916\n",
       "sqft_lot       -0.3476      0.046     -7.556      0.000      -0.438      -0.257\n",
       "bedrooms    -5.017e+04   2496.574    -20.094      0.000   -5.51e+04   -4.53e+04\n",
       "waterfront   8.046e+05   2.17e+04     37.068      0.000    7.62e+05    8.47e+05\n",
       "==============================================================================\n",
       "Omnibus:                    11007.565   Durbin-Watson:                   2.018\n",
       "Prob(Omnibus):                  0.000   Jarque-Bera (JB):           384843.992\n",
       "Skew:                           2.534   Prob(JB):                         0.00\n",
       "Kurtosis:                      25.550   Cond. No.                     5.11e+05\n",
       "==============================================================================\n",
       "\n",
       "Warnings:\n",
       "[1] Standard Errors assume that the covariance matrix of the errors is correctly specified.\n",
       "[2] The condition number is large, 5.11e+05. This might indicate that there are\n",
       "strong multicollinearity or other numerical problems.\n",
       "\"\"\""
      ]
     },
     "execution_count": 71,
     "metadata": {},
     "output_type": "execute_result"
    }
   ],
   "source": [
    "ols(formula='price~sqft_living+sqft_lot+bedrooms+waterfront',data=df).fit().summary()"
   ]
  },
  {
   "cell_type": "code",
   "execution_count": 7,
   "metadata": {
    "collapsed": true
   },
   "outputs": [
    {
     "data": {
      "text/html": [
       "<table class=\"simpletable\">\n",
       "<caption>OLS Regression Results</caption>\n",
       "<tr>\n",
       "  <th>Dep. Variable:</th>         <td>price_4</td>     <th>  R-squared:         </th> <td>   0.594</td> \n",
       "</tr>\n",
       "<tr>\n",
       "  <th>Model:</th>                   <td>OLS</td>       <th>  Adj. R-squared:    </th> <td>   0.594</td> \n",
       "</tr>\n",
       "<tr>\n",
       "  <th>Method:</th>             <td>Least Squares</td>  <th>  F-statistic:       </th> <td>   5063.</td> \n",
       "</tr>\n",
       "<tr>\n",
       "  <th>Date:</th>             <td>Fri, 01 May 2020</td> <th>  Prob (F-statistic):</th>  <td>  0.00</td>  \n",
       "</tr>\n",
       "<tr>\n",
       "  <th>Time:</th>                 <td>09:50:46</td>     <th>  Log-Likelihood:    </th> <td> -38883.</td> \n",
       "</tr>\n",
       "<tr>\n",
       "  <th>No. Observations:</th>      <td> 17290</td>      <th>  AIC:               </th> <td>7.778e+04</td>\n",
       "</tr>\n",
       "<tr>\n",
       "  <th>Df Residuals:</th>          <td> 17284</td>      <th>  BIC:               </th> <td>7.782e+04</td>\n",
       "</tr>\n",
       "<tr>\n",
       "  <th>Df Model:</th>              <td>     5</td>      <th>                     </th>     <td> </td>    \n",
       "</tr>\n",
       "<tr>\n",
       "  <th>Covariance Type:</th>      <td>nonrobust</td>    <th>                     </th>     <td> </td>    \n",
       "</tr>\n",
       "</table>\n",
       "<table class=\"simpletable\">\n",
       "<tr>\n",
       "       <td></td>          <th>coef</th>     <th>std err</th>      <th>t</th>      <th>P>|t|</th>  <th>[0.025</th>    <th>0.975]</th>  \n",
       "</tr>\n",
       "<tr>\n",
       "  <th>Intercept</th>   <td>   14.1205</td> <td>    0.153</td> <td>   92.221</td> <td> 0.000</td> <td>   13.820</td> <td>   14.421</td>\n",
       "</tr>\n",
       "<tr>\n",
       "  <th>sqft_living</th> <td>    0.0017</td> <td> 3.43e-05</td> <td>   48.317</td> <td> 0.000</td> <td>    0.002</td> <td>    0.002</td>\n",
       "</tr>\n",
       "<tr>\n",
       "  <th>sqft_lot</th>    <td>-1.459e-06</td> <td>  4.2e-07</td> <td>   -3.474</td> <td> 0.001</td> <td>-2.28e-06</td> <td>-6.36e-07</td>\n",
       "</tr>\n",
       "<tr>\n",
       "  <th>bedrooms</th>    <td>   -0.1478</td> <td>    0.023</td> <td>   -6.412</td> <td> 0.000</td> <td>   -0.193</td> <td>   -0.103</td>\n",
       "</tr>\n",
       "<tr>\n",
       "  <th>waterfront</th>  <td>    5.0146</td> <td>    0.198</td> <td>   25.329</td> <td> 0.000</td> <td>    4.627</td> <td>    5.403</td>\n",
       "</tr>\n",
       "<tr>\n",
       "  <th>grade</th>       <td>    1.2072</td> <td>    0.023</td> <td>   51.912</td> <td> 0.000</td> <td>    1.162</td> <td>    1.253</td>\n",
       "</tr>\n",
       "</table>\n",
       "<table class=\"simpletable\">\n",
       "<tr>\n",
       "  <th>Omnibus:</th>       <td>351.570</td> <th>  Durbin-Watson:     </th> <td>   2.014</td>\n",
       "</tr>\n",
       "<tr>\n",
       "  <th>Prob(Omnibus):</th> <td> 0.000</td>  <th>  Jarque-Bera (JB):  </th> <td> 377.394</td>\n",
       "</tr>\n",
       "<tr>\n",
       "  <th>Skew:</th>          <td> 0.341</td>  <th>  Prob(JB):          </th> <td>1.12e-82</td>\n",
       "</tr>\n",
       "<tr>\n",
       "  <th>Kurtosis:</th>      <td> 3.244</td>  <th>  Cond. No.          </th> <td>5.11e+05</td>\n",
       "</tr>\n",
       "</table><br/><br/>Warnings:<br/>[1] Standard Errors assume that the covariance matrix of the errors is correctly specified.<br/>[2] The condition number is large, 5.11e+05. This might indicate that there are<br/>strong multicollinearity or other numerical problems."
      ],
      "text/plain": [
       "<class 'statsmodels.iolib.summary.Summary'>\n",
       "\"\"\"\n",
       "                            OLS Regression Results                            \n",
       "==============================================================================\n",
       "Dep. Variable:                price_4   R-squared:                       0.594\n",
       "Model:                            OLS   Adj. R-squared:                  0.594\n",
       "Method:                 Least Squares   F-statistic:                     5063.\n",
       "Date:                Fri, 01 May 2020   Prob (F-statistic):               0.00\n",
       "Time:                        09:50:46   Log-Likelihood:                -38883.\n",
       "No. Observations:               17290   AIC:                         7.778e+04\n",
       "Df Residuals:                   17284   BIC:                         7.782e+04\n",
       "Df Model:                           5                                         \n",
       "Covariance Type:            nonrobust                                         \n",
       "===============================================================================\n",
       "                  coef    std err          t      P>|t|      [0.025      0.975]\n",
       "-------------------------------------------------------------------------------\n",
       "Intercept      14.1205      0.153     92.221      0.000      13.820      14.421\n",
       "sqft_living     0.0017   3.43e-05     48.317      0.000       0.002       0.002\n",
       "sqft_lot    -1.459e-06    4.2e-07     -3.474      0.001   -2.28e-06   -6.36e-07\n",
       "bedrooms       -0.1478      0.023     -6.412      0.000      -0.193      -0.103\n",
       "waterfront      5.0146      0.198     25.329      0.000       4.627       5.403\n",
       "grade           1.2072      0.023     51.912      0.000       1.162       1.253\n",
       "==============================================================================\n",
       "Omnibus:                      351.570   Durbin-Watson:                   2.014\n",
       "Prob(Omnibus):                  0.000   Jarque-Bera (JB):              377.394\n",
       "Skew:                           0.341   Prob(JB):                     1.12e-82\n",
       "Kurtosis:                       3.244   Cond. No.                     5.11e+05\n",
       "==============================================================================\n",
       "\n",
       "Warnings:\n",
       "[1] Standard Errors assume that the covariance matrix of the errors is correctly specified.\n",
       "[2] The condition number is large, 5.11e+05. This might indicate that there are\n",
       "strong multicollinearity or other numerical problems.\n",
       "\"\"\""
      ]
     },
     "execution_count": 7,
     "metadata": {},
     "output_type": "execute_result"
    }
   ],
   "source": [
    "ols(formula='price_4~sqft_living+sqft_lot+bedrooms+waterfront+grade',data=df).fit().summary()"
   ]
  },
  {
   "cell_type": "markdown",
   "metadata": {},
   "source": [
    "## Create target and features"
   ]
  },
  {
   "cell_type": "code",
   "execution_count": 173,
   "metadata": {},
   "outputs": [],
   "source": [
    "target=inter_df['price']\n",
    "features=inter_df.drop(['price'], axis=1)"
   ]
  },
  {
   "cell_type": "code",
   "execution_count": 186,
   "metadata": {},
   "outputs": [
    {
     "data": {
      "text/plain": [
       "Index(['bedrooms', 'bathrooms', 'sqft_living', 'sqft_lot', 'floors',\n",
       "       'waterfront', 'sqft_above', 'sqft_basement', 'yr_built', 'yr_renovated',\n",
       "       'zipcode', 'lat', 'long', 'sqft_living15', 'sqft_lot15', 'Bellevue',\n",
       "       'Black_Diamond', 'Bothell', 'Carnation', 'Duvall', 'Enumclaw',\n",
       "       'Fall_City', 'Federal_Way', 'Issaquah', 'Kenmore', 'Kent', 'Kirkland',\n",
       "       'Maple_Valley', 'Medina', 'Mercer_Island', 'North_Bend', 'Redmond',\n",
       "       'Renton', 'Sammamish', 'Seattle', 'Snoqualmie', 'Vashon', 'Woodinville',\n",
       "       'year__2015', 'month__2', 'month__3', 'month__4', 'month__5',\n",
       "       'month__6', 'month__7', 'month__8', 'month__9', 'month__10',\n",
       "       'month__11', 'month__12', 'view__1', 'view__2', 'view__3', 'view__4',\n",
       "       'condition__2', 'condition__3', 'condition__4', 'condition__5',\n",
       "       'grade__3', 'grade__4', 'grade__5', 'grade__6', 'grade__7', 'grade__8',\n",
       "       'grade__9', 'grade__10', 'grade__11', 'grade__12', 'grade__13'],\n",
       "      dtype='object')"
      ]
     },
     "execution_count": 186,
     "metadata": {},
     "output_type": "execute_result"
    }
   ],
   "source": [
    "features.columns"
   ]
  },
  {
   "cell_type": "code",
   "execution_count": 177,
   "metadata": {},
   "outputs": [],
   "source": [
    "X_train, X_test, y_train, y_test = train_test_split(features, target, random_state=22,test_size=0.2)"
   ]
  },
  {
   "cell_type": "code",
   "execution_count": 144,
   "metadata": {},
   "outputs": [],
   "source": [
    "poly_inter= PolynomialFeatures(interaction_only=True, include_bias=False)\n",
    "inter=poly_inter.fit_transform(X_train)\n",
    "inter_test= poly_inter.transform(X_test)\n",
    "\n",
    "inter_cols=poly_inter.get_feature_names(X_train.columns)\n",
    "inter_cols=[col.replace(' ','X') for col in inter_cols]\n",
    "\n",
    "X_train_inter=pd.DataFrame(data=inter,columns=inter_cols)\n",
    "X_test_inter=pd.DataFrame(data=inter_test,columns=inter_cols)"
   ]
  },
  {
   "cell_type": "code",
   "execution_count": 145,
   "metadata": {},
   "outputs": [],
   "source": [
    "scaler= StandardScaler()\n",
    "scaler.fit(X_train)\n",
    "X_train_scaled =pd.DataFrame(data=scaler.transform(X_train), columns=X_train.columns)\n",
    "X_test_scaled =pd.DataFrame(data=scaler.transform(X_test), columns=X_train.columns)\n",
    "# X_test_scaled=scaler.transform(X_test)"
   ]
  },
  {
   "cell_type": "code",
   "execution_count": 57,
   "metadata": {
    "scrolled": false
   },
   "outputs": [
    {
     "data": {
      "text/plain": [
       "(13832, 250)"
      ]
     },
     "execution_count": 57,
     "metadata": {},
     "output_type": "execute_result"
    }
   ],
   "source": [
    "X_train.shape"
   ]
  },
  {
   "cell_type": "code",
   "execution_count": 58,
   "metadata": {},
   "outputs": [
    {
     "data": {
      "text/plain": [
       "(13832, 31375)"
      ]
     },
     "execution_count": 58,
     "metadata": {},
     "output_type": "execute_result"
    }
   ],
   "source": [
    "X_train_inter.shape"
   ]
  },
  {
   "cell_type": "markdown",
   "metadata": {},
   "source": [
    "## \n",
    "\n",
    "\n",
    "## Testing Lasso without filtering first"
   ]
  },
  {
   "cell_type": "code",
   "execution_count": 15,
   "metadata": {},
   "outputs": [
    {
     "data": {
      "text/plain": [
       "Lasso(alpha=0.01, copy_X=True, fit_intercept=True, max_iter=200000,\n",
       "      normalize=False, positive=False, precompute=False, random_state=None,\n",
       "      selection='cyclic', tol=0.0001, warm_start=False)"
      ]
     },
     "execution_count": 15,
     "metadata": {},
     "output_type": "execute_result"
    }
   ],
   "source": [
    "lasso = Lasso(alpha=0.01, normalize=False, max_iter=200000)\n",
    "\n",
    "lasso.fit(X_train,y_train)\n",
    "\n",
    "# y_train_pred = lasso.predict(X_train)\n",
    "\n",
    "# train_rmse_new = np.sqrt(metrics.mean_squared_error(y_train, y_train_pred))\n",
    "# print('Training Error ' + str(train_rmse))"
   ]
  },
  {
   "cell_type": "code",
   "execution_count": 78,
   "metadata": {},
   "outputs": [],
   "source": [
    "lasso_new=lasso"
   ]
  },
  {
   "cell_type": "code",
   "execution_count": 16,
   "metadata": {},
   "outputs": [
    {
     "name": "stdout",
     "output_type": "stream",
     "text": [
      "Training Error: 172186.46936755435\n",
      "Testing Error: 173680.32235940438\n"
     ]
    }
   ],
   "source": [
    "y_train_pred = lasso.predict(X_train)\n",
    "\n",
    "train_rmse_new = np.sqrt(metrics.mean_squared_error(y_train, y_train_pred))\n",
    "\n",
    "y_pred = lasso.predict(X_test)\n",
    "\n",
    "test_rmse_new = np.sqrt(metrics.mean_squared_error(y_test, y_pred))\n",
    "print('Training Error: '+ str(train_rmse_new) )\n",
    "print('Testing Error: '+ str(test_rmse_new) )"
   ]
  },
  {
   "cell_type": "code",
   "execution_count": 92,
   "metadata": {},
   "outputs": [
    {
     "name": "stdout",
     "output_type": "stream",
     "text": [
      "Training Error Orig: 194809.0095180031\n",
      "Testing Error Orig: 186071.58070957768\n",
      "Training Error 2: 190044.7997811811\n",
      "Testing Error 2: 187186.45121387535\n"
     ]
    }
   ],
   "source": [
    "train_rmse_trials.append(train_rmse_new)\n",
    "test_rmse_trials.append(test_rmse_new)\n",
    "print('Training Error Orig: '+ str(train_rmse_trials[0]) )\n",
    "print('Testing Error Orig: '+ str(test_rmse_trials[0]) )\n",
    "print('Training Error 2: '+ str(train_rmse_trials[1]) )\n",
    "print('Testing Error 2: '+ str(test_rmse_trials[1]) )"
   ]
  },
  {
   "cell_type": "code",
   "execution_count": null,
   "metadata": {},
   "outputs": [],
   "source": []
  },
  {
   "cell_type": "code",
   "execution_count": 30,
   "metadata": {},
   "outputs": [
    {
     "data": {
      "text/plain": [
       "Lasso(alpha=0.01, copy_X=True, fit_intercept=True, max_iter=200000,\n",
       "      normalize=False, positive=False, precompute=False, random_state=None,\n",
       "      selection='cyclic', tol=0.0001, warm_start=False)"
      ]
     },
     "execution_count": 30,
     "metadata": {},
     "output_type": "execute_result"
    }
   ],
   "source": [
    "lasso_scaler = Lasso(alpha=0.01, normalize=False, max_iter=200000)\n",
    "\n",
    "lasso_scaler.fit(X_train,y_train)\n"
   ]
  },
  {
   "cell_type": "code",
   "execution_count": 31,
   "metadata": {},
   "outputs": [
    {
     "name": "stdout",
     "output_type": "stream",
     "text": [
      "Training Error: 172186.46854076767\n",
      "Testing Error: 173681.43184403895\n"
     ]
    }
   ],
   "source": [
    "y_train_scaler = lasso_scaler.predict(X_train)\n",
    "\n",
    "train_rmse_scaler = np.sqrt(metrics.mean_squared_error(y_train, y_train_scaler))\n",
    "\n",
    "y_pred_scaler = lasso_scaler.predict(X_test)\n",
    "\n",
    "test_rmse_scaler = np.sqrt(metrics.mean_squared_error(y_test, y_pred_scaler))\n",
    "print('Training Error: '+ str(train_rmse_scaler) )\n",
    "print('Testing Error: '+ str(test_rmse_scaler) )"
   ]
  },
  {
   "cell_type": "markdown",
   "metadata": {},
   "source": [
    "## Testing Lasso with filtering first"
   ]
  },
  {
   "cell_type": "code",
   "execution_count": 155,
   "metadata": {},
   "outputs": [
    {
     "data": {
      "text/plain": [
       "SelectKBest(k=10, score_func=<function f_regression at 0x000001E13B76A0D8>)"
      ]
     },
     "execution_count": 155,
     "metadata": {},
     "output_type": "execute_result"
    }
   ],
   "source": [
    "# Select K best features\n",
    "selector = SelectKBest(f_regression, k=10)\n",
    "\n",
    "selector.fit(X_train, y_train)"
   ]
  },
  {
   "cell_type": "code",
   "execution_count": 156,
   "metadata": {},
   "outputs": [],
   "source": [
    "selected_columns = X_train.columns[selector.get_support()]\n",
    "removed_columns = X_train.columns[~selector.get_support()]"
   ]
  },
  {
   "cell_type": "code",
   "execution_count": 157,
   "metadata": {},
   "outputs": [
    {
     "name": "stdout",
     "output_type": "stream",
     "text": [
      "Training Root Mean Squared Error: 239888.55543040857\n",
      "Testing Root Mean Squared Error: 233739.8671696673\n"
     ]
    }
   ],
   "source": [
    "#instantiate a linear regression object\n",
    "lm_kbest = LinearRegression()\n",
    "\n",
    "#fit the linear regression to the data\n",
    "lm_kbest = lm_kbest.fit(X_train[selected_columns], y_train)\n",
    "\n",
    "y_train_kbest = lm_kbest.predict(X_train[selected_columns])\n",
    "\n",
    "\n",
    "trainK_rmse = np.sqrt(metrics.mean_squared_error(y_train, y_train_kbest))\n",
    "\n",
    "\n",
    "print('Training Root Mean Squared Error:' , trainK_rmse)\n",
    "\n",
    "y_kbest = lm_kbest.predict(X_test[selected_columns])\n",
    "\n",
    "testK_rmse = np.sqrt(metrics.mean_squared_error(y_test, y_kbest))\n",
    "\n",
    "print('Testing Root Mean Squared Error:' , testK_rmse)\n"
   ]
  },
  {
   "cell_type": "code",
   "execution_count": 130,
   "metadata": {},
   "outputs": [
    {
     "name": "stderr",
     "output_type": "stream",
     "text": [
      "C:\\Users\\Drago\\anaconda3\\lib\\site-packages\\sklearn\\linear_model\\_coordinate_descent.py:476: ConvergenceWarning: Objective did not converge. You might want to increase the number of iterations. Duality gap: 228511464786567.78, tolerance: 194381627077.73962\n",
      "  positive)\n"
     ]
    },
    {
     "data": {
      "text/plain": [
       "Lasso(alpha=0.01, copy_X=True, fit_intercept=True, max_iter=100000,\n",
       "      normalize=False, positive=False, precompute=False, random_state=None,\n",
       "      selection='cyclic', tol=0.0001, warm_start=False)"
      ]
     },
     "execution_count": 130,
     "metadata": {},
     "output_type": "execute_result"
    }
   ],
   "source": [
    "lasso_kbest = Lasso(alpha=0.01, normalize=False, max_iter=100000)\n",
    "\n",
    "lasso_kbest.fit(X_train[selected_columns],y_train)\n"
   ]
  },
  {
   "cell_type": "code",
   "execution_count": 133,
   "metadata": {},
   "outputs": [
    {
     "name": "stdout",
     "output_type": "stream",
     "text": [
      "Training Error: 181778.09995060033\n",
      "Testing Error: 179894.89539563222\n"
     ]
    }
   ],
   "source": [
    "y_train_kbest = lasso_kbest.predict(X_train[selected_columns])\n",
    "\n",
    "train_rmse_kbest = np.sqrt(metrics.mean_squared_error(y_train, y_train_kbest))\n",
    "\n",
    "y_pred_kbest = lasso_kbest.predict(X_test[selected_columns])\n",
    "\n",
    "test_rmse_kbest = np.sqrt(metrics.mean_squared_error(y_test, y_pred_kbest))\n",
    "print('Training Error: '+ str(train_rmse_kbest) )\n",
    "print('Testing Error: '+ str(test_rmse_kbest) )"
   ]
  },
  {
   "cell_type": "code",
   "execution_count": 134,
   "metadata": {},
   "outputs": [],
   "source": [
    "\n",
    "train_kmse_trials[50]=train_rmse_kbest\n",
    "test_kmse_trials[50]=test_rmse_kbest"
   ]
  },
  {
   "cell_type": "code",
   "execution_count": 135,
   "metadata": {},
   "outputs": [
    {
     "name": "stdout",
     "output_type": "stream",
     "text": [
      "{200: 173591.52042958848, 150: 174190.64619474436, 100: 177753.192669072, 50: 181778.09995060033}\n",
      "{200: 174082.25717308215, 150: 173865.03499252858, 100: 176723.5856835592, 50: 179894.89539563222}\n"
     ]
    }
   ],
   "source": [
    "print(train_kmse_trials)\n",
    "print(test_kmse_trials)"
   ]
  },
  {
   "cell_type": "markdown",
   "metadata": {},
   "source": [
    "## Testing RFECV no filtering"
   ]
  },
  {
   "cell_type": "code",
   "execution_count": 17,
   "metadata": {},
   "outputs": [],
   "source": [
    "ols = linear_model.LinearRegression()"
   ]
  },
  {
   "cell_type": "code",
   "execution_count": 18,
   "metadata": {},
   "outputs": [
    {
     "data": {
      "text/plain": [
       "RFECV(cv=10,\n",
       "      estimator=LinearRegression(copy_X=True, fit_intercept=True, n_jobs=None,\n",
       "                                 normalize=False),\n",
       "      min_features_to_select=1, n_jobs=None, scoring='neg_mean_squared_error',\n",
       "      step=1, verbose=0)"
      ]
     },
     "execution_count": 18,
     "metadata": {},
     "output_type": "execute_result"
    }
   ],
   "source": [
    "# Create recursive feature eliminator that scores features by mean squared errors\n",
    "selector = RFECV(estimator=ols, step=1, cv=10, scoring='neg_mean_squared_error')\n",
    "\n",
    "# Fit recursive feature eliminator \n",
    "selector.fit(X_train, y_train)\n",
    "\n"
   ]
  },
  {
   "cell_type": "code",
   "execution_count": 19,
   "metadata": {},
   "outputs": [],
   "source": [
    "selected_rfe = X_train.columns[selector.support_]\n",
    "removed_rfe = X_train.columns[~selector.support_]\n"
   ]
  },
  {
   "cell_type": "code",
   "execution_count": 20,
   "metadata": {},
   "outputs": [
    {
     "name": "stdout",
     "output_type": "stream",
     "text": [
      "Training Root Mean Squared Error: 172195.16936238165\n",
      "Testing Root Mean Squared Error: 173632.20408140152\n"
     ]
    }
   ],
   "source": [
    "#instantiate a linear regression object\n",
    "lm_rfe = LinearRegression()\n",
    "\n",
    "#fit the linear regression to the data\n",
    "lm_rfe = lm_rfe.fit(X_train[selected_rfe], y_train)\n",
    "\n",
    "y_rfe = lm_rfe.predict(X_train[selected_rfe])\n",
    "\n",
    "\n",
    "trainRFE_rmse = np.sqrt(metrics.mean_squared_error(y_train, y_rfe))\n",
    "\n",
    "\n",
    "print('Training Root Mean Squared Error:' , trainRFE_rmse)\n",
    "\n",
    "y_pred_rfe = lm_rfe.predict(X_test[selected_rfe])\n",
    "\n",
    "testRFE_rmse = np.sqrt(metrics.mean_squared_error(y_test, y_pred_rfe))\n",
    "\n",
    "print('Testing Root Mean Squared Error:' , testRFE_rmse)\n"
   ]
  },
  {
   "cell_type": "code",
   "execution_count": 142,
   "metadata": {},
   "outputs": [
    {
     "name": "stdout",
     "output_type": "stream",
     "text": [
      "Training Root Mean Squared Error: 235631.0672791981\n",
      "Testing Root Mean Squared Error: 240130.73576589304\n"
     ]
    }
   ],
   "source": [
    "print('Training Root Mean Squared Error:' , trainRFE_rmse)\n",
    "print('Testing Root Mean Squared Error:' , testRFE_rmse)"
   ]
  },
  {
   "cell_type": "code",
   "execution_count": null,
   "metadata": {},
   "outputs": [],
   "source": []
  },
  {
   "cell_type": "code",
   "execution_count": 26,
   "metadata": {},
   "outputs": [],
   "source": [
    "ols_scaler = linear_model.LinearRegression()"
   ]
  },
  {
   "cell_type": "code",
   "execution_count": 27,
   "metadata": {},
   "outputs": [
    {
     "data": {
      "text/plain": [
       "RFECV(cv=10,\n",
       "      estimator=LinearRegression(copy_X=True, fit_intercept=True, n_jobs=None,\n",
       "                                 normalize=False),\n",
       "      min_features_to_select=1, n_jobs=None, scoring='neg_mean_squared_error',\n",
       "      step=1, verbose=0)"
      ]
     },
     "execution_count": 27,
     "metadata": {},
     "output_type": "execute_result"
    }
   ],
   "source": [
    "# Create recursive feature eliminator that scores features by mean squared errors\n",
    "selector_scaler = RFECV(estimator=ols_scaler, step=1, cv=10, scoring='neg_mean_squared_error')\n",
    "\n",
    "# Fit recursive feature eliminator \n",
    "selector_scaler.fit(X_train, y_train)\n",
    "\n"
   ]
  },
  {
   "cell_type": "code",
   "execution_count": 28,
   "metadata": {},
   "outputs": [],
   "source": [
    "selected_rfe_scaler = X_train.columns[selector.support_]\n",
    "removed_rfe_scaler = X_train.columns[~selector.support_]\n"
   ]
  },
  {
   "cell_type": "code",
   "execution_count": 29,
   "metadata": {},
   "outputs": [
    {
     "name": "stdout",
     "output_type": "stream",
     "text": [
      "Training Root Mean Squared Error: 172195.16936238162\n",
      "Testing Root Mean Squared Error: 173632.2040808021\n"
     ]
    }
   ],
   "source": [
    "#instantiate a linear regression object\n",
    "lm_rfe_scaler = LinearRegression()\n",
    "\n",
    "#fit the linear regression to the data\n",
    "lm_rfe_scaler = lm_rfe_scaler.fit(X_train[selected_rfe_scaler], y_train)\n",
    "\n",
    "y_rfe_scaler = lm_rfe_scaler.predict(X_train[selected_rfe_scaler])\n",
    "\n",
    "\n",
    "trainRFE_rmse_scaler = np.sqrt(metrics.mean_squared_error(y_train, y_rfe_scaler))\n",
    "\n",
    "\n",
    "print('Training Root Mean Squared Error:' , trainRFE_rmse_scaler)\n",
    "\n",
    "y_pred_rfe_scaler = lm_rfe_scaler.predict(X_test[selected_rfe_scaler])\n",
    "\n",
    "testRFE_rmse_scaler = np.sqrt(metrics.mean_squared_error(y_test, y_pred_rfe_scaler))\n",
    "\n",
    "print('Testing Root Mean Squared Error:' , testRFE_rmse_scaler)\n"
   ]
  },
  {
   "cell_type": "markdown",
   "metadata": {},
   "source": [
    "## Testing RFECV with filtering"
   ]
  },
  {
   "cell_type": "code",
   "execution_count": null,
   "metadata": {},
   "outputs": [],
   "source": []
  },
  {
   "cell_type": "markdown",
   "metadata": {},
   "source": [
    "## Testing with Ridge"
   ]
  },
  {
   "cell_type": "code",
   "execution_count": 182,
   "metadata": {},
   "outputs": [],
   "source": [
    "ridge= Ridge(alpha=0.01)\n",
    "\n",
    "ridge.fit(X_train, y_train)\n",
    "\n",
    "y_train_ridge= ridge.predict(X_train)\n",
    "y_pred_ridge= ridge.predict(X_test)\n",
    "\n",
    "train_rmse_ridge= np.sqrt(metrics.mean_squared_error(y_train, y_train_ridge))\n",
    "test_rmse_ridge= np.sqrt(metrics.mean_squared_error(y_test, y_pred_ridge))"
   ]
  },
  {
   "cell_type": "code",
   "execution_count": 183,
   "metadata": {},
   "outputs": [
    {
     "name": "stdout",
     "output_type": "stream",
     "text": [
      "Training Root Mean Squared Error: 174639.19242418866\n",
      "Testing Root Mean Squared Error: 171425.64356935673\n"
     ]
    }
   ],
   "source": [
    "print('Training Root Mean Squared Error:' , train_rmse_ridge)\n",
    "print('Testing Root Mean Squared Error:' , test_rmse_ridge)"
   ]
  },
  {
   "cell_type": "code",
   "execution_count": 180,
   "metadata": {},
   "outputs": [
    {
     "data": {
      "text/plain": [
       "173791.9528606784"
      ]
     },
     "execution_count": 180,
     "metadata": {},
     "output_type": "execute_result"
    }
   ],
   "source": [
    "ridge= Ridge(alpha=0.01)\n",
    "\n",
    "ridge.fit(features, target)\n",
    "\n",
    "y_pred_all=ridge.predict(features)\n",
    "\n",
    "rmse_ridge=np.sqrt(metrics.mean_squared_error(target, y_pred_all))\n",
    "rmse_ridge"
   ]
  },
  {
   "cell_type": "code",
   "execution_count": 181,
   "metadata": {},
   "outputs": [],
   "source": [
    "import pickle\n",
    "\n",
    "pickle.dump(ridge, open('ridge_model','wb'))"
   ]
  },
  {
   "cell_type": "code",
   "execution_count": 184,
   "metadata": {},
   "outputs": [
    {
     "data": {
      "text/plain": [
       "173791.9528606784"
      ]
     },
     "execution_count": 184,
     "metadata": {},
     "output_type": "execute_result"
    }
   ],
   "source": [
    "ridge=pickle.load(open('ridge_model','rb'))\n",
    "y_pred_all=ridge.predict(features)\n",
    "\n",
    "rmse_ridge=np.sqrt(metrics.mean_squared_error(target, y_pred_all))\n",
    "rmse_ridge"
   ]
  },
  {
   "cell_type": "code",
   "execution_count": 120,
   "metadata": {},
   "outputs": [
    {
     "name": "stdout",
     "output_type": "stream",
     "text": [
      "Training Root Mean Squared Error: 178880.52801311327\n",
      "Testing Root Mean Squared Error: 181151.3827268653\n"
     ]
    }
   ],
   "source": [
    "print('Training Root Mean Squared Error:' , train_rmse_ridge)\n",
    "print('Testing Root Mean Squared Error:' , test_rmse_ridge)"
   ]
  },
  {
   "cell_type": "code",
   "execution_count": 55,
   "metadata": {},
   "outputs": [
    {
     "name": "stdout",
     "output_type": "stream",
     "text": [
      "Training Root Mean Squared Error: 170500.0877275441\n",
      "Testing Root Mean Squared Error: 171825.5995255874\n"
     ]
    }
   ],
   "source": [
    "print('Training Root Mean Squared Error:' , train_rmse_ridge)\n",
    "print('Testing Root Mean Squared Error:' , test_rmse_ridge)"
   ]
  },
  {
   "cell_type": "code",
   "execution_count": 22,
   "metadata": {},
   "outputs": [
    {
     "name": "stdout",
     "output_type": "stream",
     "text": [
      "Training Root Mean Squared Error: 172186.7400017372\n",
      "Testing Root Mean Squared Error: 173623.13231132258\n"
     ]
    }
   ],
   "source": [
    "print('Training Root Mean Squared Error:' , train_rmse_ridge)\n",
    "print('Testing Root Mean Squared Error:' , test_rmse_ridge)"
   ]
  },
  {
   "cell_type": "code",
   "execution_count": null,
   "metadata": {},
   "outputs": [],
   "source": [
    "ridge.coef_"
   ]
  },
  {
   "cell_type": "code",
   "execution_count": null,
   "metadata": {},
   "outputs": [],
   "source": []
  },
  {
   "cell_type": "code",
   "execution_count": 122,
   "metadata": {},
   "outputs": [
    {
     "name": "stderr",
     "output_type": "stream",
     "text": [
      "C:\\Users\\Drago\\anaconda3\\lib\\site-packages\\sklearn\\linear_model\\_ridge.py:190: UserWarning: Singular matrix in solving dual problem. Using least-squares solution instead.\n",
      "  warnings.warn(\"Singular matrix in solving dual problem. Using \"\n"
     ]
    },
    {
     "name": "stdout",
     "output_type": "stream",
     "text": [
      "Training Root Mean Squared Error: 148390.77972782622\n",
      "Testing Root Mean Squared Error: 219232.14778088566\n"
     ]
    }
   ],
   "source": [
    "ridge_inter= Ridge(alpha=0.01)\n",
    "\n",
    "ridge_inter.fit(X_train_inter, y_train)\n",
    "\n",
    "y_train_rinter= ridge_inter.predict(X_train_inter)\n",
    "y_pred_rinter= ridge_inter.predict(X_test_inter)\n",
    "\n",
    "train_rmse_rinter= np.sqrt(metrics.mean_squared_error(y_train, y_train_rinter))\n",
    "test_rmse_rinter= np.sqrt(metrics.mean_squared_error(y_test, y_pred_rinter))\n",
    "\n",
    "print('Training Root Mean Squared Error:' , train_rmse_rinter)\n",
    "print('Testing Root Mean Squared Error:' , test_rmse_rinter)"
   ]
  },
  {
   "cell_type": "code",
   "execution_count": null,
   "metadata": {},
   "outputs": [],
   "source": [
    "Training Root Mean Squared Error: 147455.58220687739\n",
    "Testing Root Mean Squared Error: 226783.59297110018"
   ]
  },
  {
   "cell_type": "code",
   "execution_count": 44,
   "metadata": {},
   "outputs": [
    {
     "data": {
      "text/plain": [
       "<matplotlib.axes._subplots.AxesSubplot at 0x2b00625ed08>"
      ]
     },
     "execution_count": 44,
     "metadata": {},
     "output_type": "execute_result"
    },
    {
     "data": {
      "image/png": "[encoded data removed]",
      "text/plain": [
       "<Figure size 432x288 with 1 Axes>"
      ]
     },
     "metadata": {
      "needs_background": "light"
     },
     "output_type": "display_data"
    }
   ],
   "source": [
    "sns.residplot(y_train_rinter, y_train, lowess=True, color=\"g\")"
   ]
  },
  {
   "cell_type": "code",
   "execution_count": null,
   "metadata": {},
   "outputs": [],
   "source": []
  },
  {
   "cell_type": "code",
   "execution_count": 108,
   "metadata": {},
   "outputs": [
    {
     "name": "stderr",
     "output_type": "stream",
     "text": [
      "C:\\Users\\Drago\\anaconda3\\lib\\site-packages\\sklearn\\feature_selection\\_univariate_selection.py:299: RuntimeWarning: invalid value encountered in true_divide\n",
      "  corr /= X_norms\n",
      "C:\\Users\\Drago\\anaconda3\\lib\\site-packages\\scipy\\stats\\_distn_infrastructure.py:903: RuntimeWarning: invalid value encountered in greater\n",
      "  return (a < x) & (x < b)\n",
      "C:\\Users\\Drago\\anaconda3\\lib\\site-packages\\scipy\\stats\\_distn_infrastructure.py:903: RuntimeWarning: invalid value encountered in less\n",
      "  return (a < x) & (x < b)\n",
      "C:\\Users\\Drago\\anaconda3\\lib\\site-packages\\scipy\\stats\\_distn_infrastructure.py:1912: RuntimeWarning: invalid value encountered in less_equal\n",
      "  cond2 = cond0 & (x <= _a)\n"
     ]
    },
    {
     "data": {
      "text/plain": [
       "SelectKBest(k=275, score_func=<function f_regression at 0x000002B07602F4C8>)"
      ]
     },
     "execution_count": 108,
     "metadata": {},
     "output_type": "execute_result"
    }
   ],
   "source": [
    "# Select K best features\n",
    "selector_rinter = SelectKBest(f_regression, k=275)\n",
    "\n",
    "selector_rinter.fit(X_train_inter, y_train)"
   ]
  },
  {
   "cell_type": "code",
   "execution_count": 109,
   "metadata": {},
   "outputs": [],
   "source": [
    "selected_columns_rinter = X_train_inter.columns[selector_rinter.get_support()]\n",
    "removed_columns_rinter = X_train_inter.columns[~selector_rinter.get_support()]"
   ]
  },
  {
   "cell_type": "code",
   "execution_count": 110,
   "metadata": {},
   "outputs": [
    {
     "name": "stdout",
     "output_type": "stream",
     "text": [
      "Training Root Mean Squared Error: 138517.70819275884\n",
      "Testing Root Mean Squared Error: 21528189.87355333\n"
     ]
    }
   ],
   "source": [
    "#instantiate a linear regression object\n",
    "lm_kbest = LinearRegression()\n",
    "\n",
    "#fit the linear regression to the data\n",
    "lm_kbest = lm_kbest.fit(X_train_inter[selected_columns_rinter], y_train)\n",
    "\n",
    "y_train_krinter = lm_kbest.predict(X_train_inter[selected_columns_rinter])\n",
    "\n",
    "\n",
    "trainKrinter_rmse = np.sqrt(metrics.mean_squared_error(y_train, y_train_krinter))\n",
    "\n",
    "\n",
    "print('Training Root Mean Squared Error:' , trainKrinter_rmse)\n",
    "\n",
    "y_krinter = lm_kbest.predict(X_test_inter[selected_columns_rinter])\n",
    "\n",
    "testKrinter_rmse = np.sqrt(metrics.mean_squared_error(y_test, y_krinter))\n",
    "\n",
    "print('Testing Root Mean Squared Error:' , testKrinter_rmse)\n"
   ]
  },
  {
   "cell_type": "code",
   "execution_count": 111,
   "metadata": {},
   "outputs": [
    {
     "name": "stdout",
     "output_type": "stream",
     "text": [
      "Training Root Mean Squared Error: 139341.17453596048\n",
      "Testing Root Mean Squared Error: 13987050.18510051\n"
     ]
    },
    {
     "name": "stderr",
     "output_type": "stream",
     "text": [
      "C:\\Users\\Drago\\anaconda3\\lib\\site-packages\\sklearn\\linear_model\\_ridge.py:148: LinAlgWarning: Ill-conditioned matrix (rcond=1.42523e-23): result may not be accurate.\n",
      "  overwrite_a=True).T\n"
     ]
    }
   ],
   "source": [
    "ridge_inter= Ridge(alpha=0.01)\n",
    "\n",
    "ridge_inter.fit(X_train_inter[selected_columns_rinter], y_train)\n",
    "\n",
    "y_train_rinter= ridge_inter.predict(X_train_inter[selected_columns_rinter])\n",
    "y_pred_rinter= ridge_inter.predict(X_test_inter[selected_columns_rinter])\n",
    "\n",
    "train_rmse_rinter= np.sqrt(metrics.mean_squared_error(y_train, y_train_rinter))\n",
    "test_rmse_rinter= np.sqrt(metrics.mean_squared_error(y_test, y_pred_rinter))\n",
    "\n",
    "print('Training Root Mean Squared Error:' , train_rmse_rinter)\n",
    "print('Testing Root Mean Squared Error:' , test_rmse_rinter)"
   ]
  },
  {
   "cell_type": "code",
   "execution_count": 113,
   "metadata": {},
   "outputs": [],
   "source": [
    "from statsmodels.stats.outliers_influence import variance_inflation_factor\n"
   ]
  },
  {
   "cell_type": "code",
   "execution_count": 123,
   "metadata": {
    "scrolled": true
   },
   "outputs": [
    {
     "data": {
      "text/html": [
       "<div>\n",
       "<style scoped>\n",
       "    .dataframe tbody tr th:only-of-type {\n",
       "        vertical-align: middle;\n",
       "    }\n",
       "\n",
       "    .dataframe tbody tr th {\n",
       "        vertical-align: top;\n",
       "    }\n",
       "\n",
       "    .dataframe thead th {\n",
       "        text-align: right;\n",
       "    }\n",
       "</style>\n",
       "<table border=\"1\" class=\"dataframe\">\n",
       "  <thead>\n",
       "    <tr style=\"text-align: right;\">\n",
       "      <th></th>\n",
       "      <th>VIF Factor</th>\n",
       "      <th>features</th>\n",
       "    </tr>\n",
       "  </thead>\n",
       "  <tbody>\n",
       "    <tr>\n",
       "      <th>0</th>\n",
       "      <td>28.3</td>\n",
       "      <td>bedrooms</td>\n",
       "    </tr>\n",
       "    <tr>\n",
       "      <th>1</th>\n",
       "      <td>31.2</td>\n",
       "      <td>bathrooms</td>\n",
       "    </tr>\n",
       "    <tr>\n",
       "      <th>2</th>\n",
       "      <td>58.5</td>\n",
       "      <td>sqft_living</td>\n",
       "    </tr>\n",
       "    <tr>\n",
       "      <th>3</th>\n",
       "      <td>3.6</td>\n",
       "      <td>sqft_lot</td>\n",
       "    </tr>\n",
       "    <tr>\n",
       "      <th>4</th>\n",
       "      <td>23.9</td>\n",
       "      <td>floors</td>\n",
       "    </tr>\n",
       "    <tr>\n",
       "      <th>...</th>\n",
       "      <td>...</td>\n",
       "      <td>...</td>\n",
       "    </tr>\n",
       "    <tr>\n",
       "      <th>241</th>\n",
       "      <td>140.5</td>\n",
       "      <td>grade__9</td>\n",
       "    </tr>\n",
       "    <tr>\n",
       "      <th>242</th>\n",
       "      <td>60.8</td>\n",
       "      <td>grade__10</td>\n",
       "    </tr>\n",
       "    <tr>\n",
       "      <th>243</th>\n",
       "      <td>24.2</td>\n",
       "      <td>grade__11</td>\n",
       "    </tr>\n",
       "    <tr>\n",
       "      <th>244</th>\n",
       "      <td>6.2</td>\n",
       "      <td>grade__12</td>\n",
       "    </tr>\n",
       "    <tr>\n",
       "      <th>245</th>\n",
       "      <td>1.6</td>\n",
       "      <td>grade__13</td>\n",
       "    </tr>\n",
       "  </tbody>\n",
       "</table>\n",
       "<p>246 rows × 2 columns</p>\n",
       "</div>"
      ],
      "text/plain": [
       "     VIF Factor     features\n",
       "0          28.3     bedrooms\n",
       "1          31.2    bathrooms\n",
       "2          58.5  sqft_living\n",
       "3           3.6     sqft_lot\n",
       "4          23.9       floors\n",
       "..          ...          ...\n",
       "241       140.5     grade__9\n",
       "242        60.8    grade__10\n",
       "243        24.2    grade__11\n",
       "244         6.2    grade__12\n",
       "245         1.6    grade__13\n",
       "\n",
       "[246 rows x 2 columns]"
      ]
     },
     "execution_count": 123,
     "metadata": {},
     "output_type": "execute_result"
    }
   ],
   "source": [
    "vif = pd.DataFrame()\n",
    "vif[\"VIF Factor\"] = [variance_inflation_factor(X_train.values, i) for i in range(X_train.shape[1])]\n",
    "vif[\"features\"] = X_train.columns\n",
    "vif.round(1)"
   ]
  },
  {
   "cell_type": "code",
   "execution_count": 133,
   "metadata": {},
   "outputs": [
    {
     "data": {
      "text/html": [
       "<div>\n",
       "<style scoped>\n",
       "    .dataframe tbody tr th:only-of-type {\n",
       "        vertical-align: middle;\n",
       "    }\n",
       "\n",
       "    .dataframe tbody tr th {\n",
       "        vertical-align: top;\n",
       "    }\n",
       "\n",
       "    .dataframe thead th {\n",
       "        text-align: right;\n",
       "    }\n",
       "</style>\n",
       "<table border=\"1\" class=\"dataframe\">\n",
       "  <thead>\n",
       "    <tr style=\"text-align: right;\">\n",
       "      <th></th>\n",
       "      <th>VIF Factor</th>\n",
       "      <th>features</th>\n",
       "    </tr>\n",
       "  </thead>\n",
       "  <tbody>\n",
       "    <tr>\n",
       "      <th>0</th>\n",
       "      <td>28.3</td>\n",
       "      <td>bedrooms</td>\n",
       "    </tr>\n",
       "    <tr>\n",
       "      <th>1</th>\n",
       "      <td>31.2</td>\n",
       "      <td>bathrooms</td>\n",
       "    </tr>\n",
       "    <tr>\n",
       "      <th>2</th>\n",
       "      <td>58.5</td>\n",
       "      <td>sqft_living</td>\n",
       "    </tr>\n",
       "    <tr>\n",
       "      <th>4</th>\n",
       "      <td>23.9</td>\n",
       "      <td>floors</td>\n",
       "    </tr>\n",
       "    <tr>\n",
       "      <th>6</th>\n",
       "      <td>45.0</td>\n",
       "      <td>sqft_above</td>\n",
       "    </tr>\n",
       "    <tr>\n",
       "      <th>7</th>\n",
       "      <td>31.6</td>\n",
       "      <td>sqft_living15</td>\n",
       "    </tr>\n",
       "    <tr>\n",
       "      <th>28</th>\n",
       "      <td>12.7</td>\n",
       "      <td>Seattle</td>\n",
       "    </tr>\n",
       "    <tr>\n",
       "      <th>32</th>\n",
       "      <td>14.9</td>\n",
       "      <td>year__2015</td>\n",
       "    </tr>\n",
       "    <tr>\n",
       "      <th>36</th>\n",
       "      <td>6.3</td>\n",
       "      <td>month__5</td>\n",
       "    </tr>\n",
       "    <tr>\n",
       "      <th>37</th>\n",
       "      <td>8.1</td>\n",
       "      <td>month__6</td>\n",
       "    </tr>\n",
       "    <tr>\n",
       "      <th>38</th>\n",
       "      <td>8.1</td>\n",
       "      <td>month__7</td>\n",
       "    </tr>\n",
       "    <tr>\n",
       "      <th>39</th>\n",
       "      <td>7.2</td>\n",
       "      <td>month__8</td>\n",
       "    </tr>\n",
       "    <tr>\n",
       "      <th>40</th>\n",
       "      <td>6.5</td>\n",
       "      <td>month__9</td>\n",
       "    </tr>\n",
       "    <tr>\n",
       "      <th>41</th>\n",
       "      <td>7.0</td>\n",
       "      <td>month__10</td>\n",
       "    </tr>\n",
       "    <tr>\n",
       "      <th>42</th>\n",
       "      <td>5.6</td>\n",
       "      <td>month__11</td>\n",
       "    </tr>\n",
       "    <tr>\n",
       "      <th>43</th>\n",
       "      <td>5.6</td>\n",
       "      <td>month__12</td>\n",
       "    </tr>\n",
       "    <tr>\n",
       "      <th>110</th>\n",
       "      <td>5.5</td>\n",
       "      <td>yr_built__1967</td>\n",
       "    </tr>\n",
       "    <tr>\n",
       "      <th>111</th>\n",
       "      <td>5.6</td>\n",
       "      <td>yr_built__1968</td>\n",
       "    </tr>\n",
       "    <tr>\n",
       "      <th>120</th>\n",
       "      <td>5.6</td>\n",
       "      <td>yr_built__1977</td>\n",
       "    </tr>\n",
       "    <tr>\n",
       "      <th>121</th>\n",
       "      <td>5.6</td>\n",
       "      <td>yr_built__1978</td>\n",
       "    </tr>\n",
       "    <tr>\n",
       "      <th>146</th>\n",
       "      <td>6.0</td>\n",
       "      <td>yr_built__2003</td>\n",
       "    </tr>\n",
       "    <tr>\n",
       "      <th>147</th>\n",
       "      <td>6.4</td>\n",
       "      <td>yr_built__2004</td>\n",
       "    </tr>\n",
       "    <tr>\n",
       "      <th>148</th>\n",
       "      <td>6.4</td>\n",
       "      <td>yr_built__2005</td>\n",
       "    </tr>\n",
       "    <tr>\n",
       "      <th>149</th>\n",
       "      <td>6.1</td>\n",
       "      <td>yr_built__2006</td>\n",
       "    </tr>\n",
       "    <tr>\n",
       "      <th>150</th>\n",
       "      <td>6.2</td>\n",
       "      <td>yr_built__2007</td>\n",
       "    </tr>\n",
       "    <tr>\n",
       "      <th>151</th>\n",
       "      <td>5.5</td>\n",
       "      <td>yr_built__2008</td>\n",
       "    </tr>\n",
       "    <tr>\n",
       "      <th>157</th>\n",
       "      <td>7.6</td>\n",
       "      <td>yr_built__2014</td>\n",
       "    </tr>\n",
       "    <tr>\n",
       "      <th>231</th>\n",
       "      <td>6.5</td>\n",
       "      <td>condition__2</td>\n",
       "    </tr>\n",
       "    <tr>\n",
       "      <th>232</th>\n",
       "      <td>496.0</td>\n",
       "      <td>condition__3</td>\n",
       "    </tr>\n",
       "    <tr>\n",
       "      <th>233</th>\n",
       "      <td>200.2</td>\n",
       "      <td>condition__4</td>\n",
       "    </tr>\n",
       "    <tr>\n",
       "      <th>234</th>\n",
       "      <td>61.2</td>\n",
       "      <td>condition__5</td>\n",
       "    </tr>\n",
       "    <tr>\n",
       "      <th>237</th>\n",
       "      <td>11.6</td>\n",
       "      <td>grade__5</td>\n",
       "    </tr>\n",
       "    <tr>\n",
       "      <th>238</th>\n",
       "      <td>105.0</td>\n",
       "      <td>grade__6</td>\n",
       "    </tr>\n",
       "    <tr>\n",
       "      <th>239</th>\n",
       "      <td>463.7</td>\n",
       "      <td>grade__7</td>\n",
       "    </tr>\n",
       "    <tr>\n",
       "      <th>240</th>\n",
       "      <td>315.6</td>\n",
       "      <td>grade__8</td>\n",
       "    </tr>\n",
       "    <tr>\n",
       "      <th>241</th>\n",
       "      <td>140.5</td>\n",
       "      <td>grade__9</td>\n",
       "    </tr>\n",
       "    <tr>\n",
       "      <th>242</th>\n",
       "      <td>60.8</td>\n",
       "      <td>grade__10</td>\n",
       "    </tr>\n",
       "    <tr>\n",
       "      <th>243</th>\n",
       "      <td>24.2</td>\n",
       "      <td>grade__11</td>\n",
       "    </tr>\n",
       "    <tr>\n",
       "      <th>244</th>\n",
       "      <td>6.2</td>\n",
       "      <td>grade__12</td>\n",
       "    </tr>\n",
       "  </tbody>\n",
       "</table>\n",
       "</div>"
      ],
      "text/plain": [
       "     VIF Factor        features\n",
       "0          28.3        bedrooms\n",
       "1          31.2       bathrooms\n",
       "2          58.5     sqft_living\n",
       "4          23.9          floors\n",
       "6          45.0      sqft_above\n",
       "7          31.6   sqft_living15\n",
       "28         12.7         Seattle\n",
       "32         14.9      year__2015\n",
       "36          6.3        month__5\n",
       "37          8.1        month__6\n",
       "38          8.1        month__7\n",
       "39          7.2        month__8\n",
       "40          6.5        month__9\n",
       "41          7.0       month__10\n",
       "42          5.6       month__11\n",
       "43          5.6       month__12\n",
       "110         5.5  yr_built__1967\n",
       "111         5.6  yr_built__1968\n",
       "120         5.6  yr_built__1977\n",
       "121         5.6  yr_built__1978\n",
       "146         6.0  yr_built__2003\n",
       "147         6.4  yr_built__2004\n",
       "148         6.4  yr_built__2005\n",
       "149         6.1  yr_built__2006\n",
       "150         6.2  yr_built__2007\n",
       "151         5.5  yr_built__2008\n",
       "157         7.6  yr_built__2014\n",
       "231         6.5    condition__2\n",
       "232       496.0    condition__3\n",
       "233       200.2    condition__4\n",
       "234        61.2    condition__5\n",
       "237        11.6        grade__5\n",
       "238       105.0        grade__6\n",
       "239       463.7        grade__7\n",
       "240       315.6        grade__8\n",
       "241       140.5        grade__9\n",
       "242        60.8       grade__10\n",
       "243        24.2       grade__11\n",
       "244         6.2       grade__12"
      ]
     },
     "execution_count": 133,
     "metadata": {},
     "output_type": "execute_result"
    }
   ],
   "source": [
    "vif.round(1)[vif['VIF Factor']>=5]"
   ]
  },
  {
   "cell_type": "code",
   "execution_count": 135,
   "metadata": {},
   "outputs": [
    {
     "data": {
      "text/plain": [
       "<matplotlib.axes._subplots.AxesSubplot at 0x2b00c24d608>"
      ]
     },
     "execution_count": 135,
     "metadata": {},
     "output_type": "execute_result"
    },
    {
     "data": {
      "image/png": "[encoded data removed]",
      "text/plain": [
       "<Figure size 432x288 with 2 Axes>"
      ]
     },
     "metadata": {
      "needs_background": "light"
     },
     "output_type": "display_data"
    }
   ],
   "source": [
    "corr_cols=list(vif.round(1)[vif['VIF Factor']>=5]['features'].values)\n",
    "sns.heatmap(features[['bedrooms','bathrooms','sqft_living','floors','sqft_above','sqft_living15']].corr())"
   ]
  },
  {
   "cell_type": "markdown",
   "metadata": {},
   "source": [
    ".\n",
    "\n",
    ".\n",
    "\n",
    ".\n",
    "\n",
    ".\n",
    "\n",
    ".\n",
    "\n",
    ".\n",
    "\n",
    ".\n",
    "\n",
    ".\n",
    "\n",
    ".\n",
    "\n",
    ".\n",
    "\n",
    "# Ridge Scaler"
   ]
  },
  {
   "cell_type": "code",
   "execution_count": 48,
   "metadata": {},
   "outputs": [
    {
     "name": "stdout",
     "output_type": "stream",
     "text": [
      "Training Root Mean Squared Error: 172186.4688978995\n",
      "Testing Root Mean Squared Error: 173682.0087539485\n"
     ]
    }
   ],
   "source": [
    "ridge_scaler= Ridge(alpha=0.01)\n",
    "\n",
    "ridge_scaler.fit(X_train, y_train)\n",
    "\n",
    "y_train_ridge_scaler= ridge_scaler.predict(X_train)\n",
    "y_pred_ridge_scaler= ridge_scaler.predict(X_test)\n",
    "\n",
    "train_rmse_ridge_scaler= np.sqrt(metrics.mean_squared_error(y_train, y_train_ridge_scaler))\n",
    "test_rmse_ridge_scaler= np.sqrt(metrics.mean_squared_error(y_test, y_pred_ridge_scaler))\n",
    "\n",
    "print('Training Root Mean Squared Error:' , train_rmse_ridge_scaler)\n",
    "print('Testing Root Mean Squared Error:' , test_rmse_ridge_scaler)"
   ]
  },
  {
   "cell_type": "code",
   "execution_count": 49,
   "metadata": {},
   "outputs": [
    {
     "data": {
      "text/plain": [
       "<matplotlib.axes._subplots.AxesSubplot at 0x1c388718288>"
      ]
     },
     "execution_count": 49,
     "metadata": {},
     "output_type": "execute_result"
    },
    {
     "data": {
      "image/png": "[encoded data removed]",
      "text/plain": [
       "<Figure size 432x288 with 1 Axes>"
      ]
     },
     "metadata": {
      "needs_background": "light"
     },
     "output_type": "display_data"
    }
   ],
   "source": [
    "sns.residplot(y_train_ridge_scaler, y_train, lowess=True, color=\"g\")"
   ]
  },
  {
   "cell_type": "code",
   "execution_count": 36,
   "metadata": {},
   "outputs": [
    {
     "name": "stdout",
     "output_type": "stream",
     "text": [
      "Training Root Mean Squared Error: 625584.2958301085\n",
      "Testing Root Mean Squared Error: 627438.2022508939\n"
     ]
    }
   ],
   "source": [
    "# price_log\n",
    "ridge_scaler= Ridge(alpha=0.01)\n",
    "\n",
    "ridge_scaler.fit(X_train, y_train)\n",
    "\n",
    "y_train_ridge_scaler= np.exp(ridge_scaler.predict(X_train))\n",
    "y_pred_ridge_scaler= np.exp(ridge_scaler.predict(X_test))\n",
    "\n",
    "train_rmse_ridge_scaler= np.sqrt(metrics.mean_squared_error(y_train, y_train_ridge_scaler))\n",
    "test_rmse_ridge_scaler= np.sqrt(metrics.mean_squared_error(y_test, y_pred_ridge_scaler))\n",
    "\n",
    "print('Training Root Mean Squared Error:' , train_rmse_ridge_scaler)\n",
    "print('Testing Root Mean Squared Error:' , test_rmse_ridge_scaler)"
   ]
  },
  {
   "cell_type": "code",
   "execution_count": 40,
   "metadata": {},
   "outputs": [
    {
     "name": "stdout",
     "output_type": "stream",
     "text": [
      "Training Root Mean Squared Error: 621087.445234778\n",
      "Testing Root Mean Squared Error: 626632.682494985\n"
     ]
    }
   ],
   "source": [
    "# price_sqrt\n",
    "ridge_scaler= Ridge(alpha=0.01)\n",
    "\n",
    "ridge_scaler.fit(X_train, y_train)\n",
    "\n",
    "y_train_ridge_scaler= (ridge_scaler.predict(X_train))**2\n",
    "y_pred_ridge_scaler= (ridge_scaler.predict(X_test))**2\n",
    "\n",
    "train_rmse_ridge_scaler= np.sqrt(metrics.mean_squared_error(y_train, y_train_ridge_scaler))\n",
    "test_rmse_ridge_scaler= np.sqrt(metrics.mean_squared_error(y_test, y_pred_ridge_scaler))\n",
    "\n",
    "print('Training Root Mean Squared Error:' , train_rmse_ridge_scaler)\n",
    "print('Testing Root Mean Squared Error:' , test_rmse_ridge_scaler)"
   ]
  },
  {
   "cell_type": "code",
   "execution_count": 44,
   "metadata": {},
   "outputs": [
    {
     "name": "stdout",
     "output_type": "stream",
     "text": [
      "Training Root Mean Squared Error: 620096.0321569052\n",
      "Testing Root Mean Squared Error: 624112.1535260717\n"
     ]
    }
   ],
   "source": [
    "# price_4rt\n",
    "ridge_scaler= Ridge(alpha=0.01)\n",
    "\n",
    "ridge_scaler.fit(X_train, y_train)\n",
    "\n",
    "y_train_ridge_scaler= (ridge_scaler.predict(X_train))**4\n",
    "y_pred_ridge_scaler= (ridge_scaler.predict(X_test))**4\n",
    "\n",
    "train_rmse_ridge_scaler= np.sqrt(metrics.mean_squared_error(y_train, y_train_ridge_scaler))\n",
    "test_rmse_ridge_scaler= np.sqrt(metrics.mean_squared_error(y_test, y_pred_ridge_scaler))\n",
    "\n",
    "print('Training Root Mean Squared Error:' , train_rmse_ridge_scaler)\n",
    "print('Testing Root Mean Squared Error:' , test_rmse_ridge_scaler)"
   ]
  },
  {
   "cell_type": "code",
   "execution_count": 149,
   "metadata": {},
   "outputs": [
    {
     "name": "stdout",
     "output_type": "stream",
     "text": [
      "Training Root Mean Squared Error: 170499.8647702953\n",
      "Testing Root Mean Squared Error: 171870.9777023283\n"
     ]
    }
   ],
   "source": [
    "# interactions\n",
    "ridge_scaler= Ridge(alpha=0.01)\n",
    "\n",
    "ridge_scaler.fit(X_train_scaled, y_train)\n",
    "\n",
    "y_train_ridge_scaler= ridge_scaler.predict(X_train_scaled)\n",
    "y_pred_ridge_scaler= ridge_scaler.predict(X_test_scaled)\n",
    "\n",
    "train_rmse_ridge_scaler= np.sqrt(metrics.mean_squared_error(y_train, y_train_ridge_scaler))\n",
    "test_rmse_ridge_scaler= np.sqrt(metrics.mean_squared_error(y_test, y_pred_ridge_scaler))\n",
    "\n",
    "print('Training Root Mean Squared Error:' , train_rmse_ridge_scaler)\n",
    "print('Testing Root Mean Squared Error:' , test_rmse_ridge_scaler)"
   ]
  },
  {
   "cell_type": "code",
   "execution_count": 43,
   "metadata": {},
   "outputs": [
    {
     "data": {
      "text/plain": [
       "<matplotlib.axes._subplots.AxesSubplot at 0x2b005753448>"
      ]
     },
     "execution_count": 43,
     "metadata": {},
     "output_type": "execute_result"
    },
    {
     "data": {
      "image/png": "[encoded data removed]",
      "text/plain": [
       "<Figure size 432x288 with 1 Axes>"
      ]
     },
     "metadata": {
      "needs_background": "light"
     },
     "output_type": "display_data"
    }
   ],
   "source": [
    "sns.residplot(y_train_ridge_scaler, y_train, lowess=True, color=\"g\")"
   ]
  },
  {
   "cell_type": "code",
   "execution_count": null,
   "metadata": {},
   "outputs": [],
   "source": []
  }
 ],
 "metadata": {
  "kernelspec": {
   "display_name": "Python 3",
   "language": "python",
   "name": "python3"
  },
  "language_info": {
   "codemirror_mode": {
    "name": "ipython",
    "version": 3
   },
   "file_extension": ".py",
   "mimetype": "text/x-python",
   "name": "python",
   "nbconvert_exporter": "python",
   "pygments_lexer": "ipython3",
   "version": "3.7.7"
  }
 },
 "nbformat": 4,
 "nbformat_minor": 4
}
