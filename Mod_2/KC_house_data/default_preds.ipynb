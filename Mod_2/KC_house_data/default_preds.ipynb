{
 "cells": [
  {
   "cell_type": "code",
   "execution_count": 14,
   "metadata": {},
   "outputs": [],
   "source": [
    "import pandas as pd\n",
    "pd.set_option('display.max_columns', 300)\n",
    "import numpy as np\n",
    "import matplotlib.pyplot as plt\n",
    "import seaborn as sns\n",
    "from statsmodels.formula.api import ols\n",
    "from sklearn.model_selection import train_test_split\n",
    "from sklearn import linear_model\n",
    "from sklearn.linear_model import LinearRegression\n",
    "from sklearn import metrics\n",
    "from sklearn.preprocessing import PolynomialFeatures\n",
    "from sklearn.preprocessing import StandardScaler\n",
    "from sklearn.linear_model import Lasso\n",
    "from sklearn.linear_model import Ridge\n",
    "from sklearn.feature_selection import RFECV\n",
    "from sklearn.feature_selection import SelectKBest, f_regression,mutual_info_regression\n",
    "from uszipcode import SearchEngine\n",
    "import pickle"
   ]
  },
  {
   "cell_type": "code",
   "execution_count": 32,
   "metadata": {},
   "outputs": [
    {
     "name": "stdout",
     "output_type": "stream",
     "text": [
      "<class 'pandas.core.frame.DataFrame'>\n",
      "Int64Index: 4323 entries, 0 to 4322\n",
      "Data columns (total 20 columns):\n",
      " #   Column         Non-Null Count  Dtype  \n",
      "---  ------         --------------  -----  \n",
      " 0   id             4323 non-null   int64  \n",
      " 1   date           4323 non-null   object \n",
      " 2   bedrooms       4323 non-null   int64  \n",
      " 3   bathrooms      4323 non-null   float64\n",
      " 4   sqft_living    4323 non-null   int64  \n",
      " 5   sqft_lot       4323 non-null   int64  \n",
      " 6   floors         4323 non-null   float64\n",
      " 7   waterfront     4323 non-null   int64  \n",
      " 8   view           4323 non-null   int64  \n",
      " 9   condition      4323 non-null   int64  \n",
      " 10  grade          4323 non-null   int64  \n",
      " 11  sqft_above     4323 non-null   int64  \n",
      " 12  sqft_basement  4323 non-null   int64  \n",
      " 13  yr_built       4323 non-null   int64  \n",
      " 14  yr_renovated   4323 non-null   int64  \n",
      " 15  zipcode        4323 non-null   int64  \n",
      " 16  lat            4323 non-null   float64\n",
      " 17  long           4323 non-null   float64\n",
      " 18  sqft_living15  4323 non-null   int64  \n",
      " 19  sqft_lot15     4323 non-null   int64  \n",
      "dtypes: float64(4), int64(15), object(1)\n",
      "memory usage: 709.2+ KB\n"
     ]
    }
   ],
   "source": [
    "df=pd.read_csv('kc_house_data_test_features.csv', index_col=0)\n",
    "df.info()"
   ]
  },
  {
   "cell_type": "code",
   "execution_count": 33,
   "metadata": {},
   "outputs": [],
   "source": [
    "search = SearchEngine(simple_zipcode=True)\n",
    "main_city = [search.by_zipcode(i).major_city for i in df['zipcode']]\n",
    "df['main_city'] = main_city"
   ]
  },
  {
   "cell_type": "code",
   "execution_count": 34,
   "metadata": {},
   "outputs": [],
   "source": [
    "cities=pd.get_dummies(df['main_city'], drop_first=True)\n",
    "df=pd.concat([df,cities], axis=1)"
   ]
  },
  {
   "cell_type": "code",
   "execution_count": 35,
   "metadata": {},
   "outputs": [],
   "source": [
    "df.columns=[col.replace(' ','_') for col in df.columns]\n"
   ]
  },
  {
   "cell_type": "code",
   "execution_count": 36,
   "metadata": {},
   "outputs": [],
   "source": [
    "df['year']=df['date'].apply(lambda x: int(x[0:4]))\n",
    "df['month']=df['date'].apply(lambda x: int(x[4:6]))\n"
   ]
  },
  {
   "cell_type": "code",
   "execution_count": 37,
   "metadata": {},
   "outputs": [],
   "source": [
    "def make_dummies(df,col_dummies):\n",
    "    new_df=df.copy()\n",
    "    for col in col_dummies:\n",
    "        dummies=pd.get_dummies(new_df[col], prefix='{}_'.format(col),drop_first=True)\n",
    "        new_df=pd.concat([new_df,dummies], axis=1)\n",
    "    return new_df"
   ]
  },
  {
   "cell_type": "code",
   "execution_count": 38,
   "metadata": {},
   "outputs": [],
   "source": [
    "new_df=make_dummies(df,['year','month','view','condition'])"
   ]
  },
  {
   "cell_type": "code",
   "execution_count": 59,
   "metadata": {},
   "outputs": [
    {
     "data": {
      "text/html": [
       "<div>\n",
       "<style scoped>\n",
       "    .dataframe tbody tr th:only-of-type {\n",
       "        vertical-align: middle;\n",
       "    }\n",
       "\n",
       "    .dataframe tbody tr th {\n",
       "        vertical-align: top;\n",
       "    }\n",
       "\n",
       "    .dataframe thead th {\n",
       "        text-align: right;\n",
       "    }\n",
       "</style>\n",
       "<table border=\"1\" class=\"dataframe\">\n",
       "  <thead>\n",
       "    <tr style=\"text-align: right;\">\n",
       "      <th></th>\n",
       "      <th>grade__3</th>\n",
       "      <th>grade__4</th>\n",
       "      <th>grade__5</th>\n",
       "      <th>grade__6</th>\n",
       "      <th>grade__7</th>\n",
       "      <th>grade__8</th>\n",
       "      <th>grade__9</th>\n",
       "      <th>grade__10</th>\n",
       "      <th>grade__11</th>\n",
       "      <th>grade__12</th>\n",
       "      <th>grade__13</th>\n",
       "    </tr>\n",
       "  </thead>\n",
       "  <tbody>\n",
       "    <tr>\n",
       "      <th>104</th>\n",
       "      <td>0</td>\n",
       "      <td>1</td>\n",
       "      <td>0</td>\n",
       "      <td>0</td>\n",
       "      <td>0</td>\n",
       "      <td>0</td>\n",
       "      <td>0</td>\n",
       "      <td>0</td>\n",
       "      <td>0</td>\n",
       "      <td>0</td>\n",
       "      <td>0</td>\n",
       "    </tr>\n",
       "    <tr>\n",
       "      <th>762</th>\n",
       "      <td>0</td>\n",
       "      <td>1</td>\n",
       "      <td>0</td>\n",
       "      <td>0</td>\n",
       "      <td>0</td>\n",
       "      <td>0</td>\n",
       "      <td>0</td>\n",
       "      <td>0</td>\n",
       "      <td>0</td>\n",
       "      <td>0</td>\n",
       "      <td>0</td>\n",
       "    </tr>\n",
       "    <tr>\n",
       "      <th>876</th>\n",
       "      <td>0</td>\n",
       "      <td>1</td>\n",
       "      <td>0</td>\n",
       "      <td>0</td>\n",
       "      <td>0</td>\n",
       "      <td>0</td>\n",
       "      <td>0</td>\n",
       "      <td>0</td>\n",
       "      <td>0</td>\n",
       "      <td>0</td>\n",
       "      <td>0</td>\n",
       "    </tr>\n",
       "    <tr>\n",
       "      <th>1089</th>\n",
       "      <td>0</td>\n",
       "      <td>1</td>\n",
       "      <td>0</td>\n",
       "      <td>0</td>\n",
       "      <td>0</td>\n",
       "      <td>0</td>\n",
       "      <td>0</td>\n",
       "      <td>0</td>\n",
       "      <td>0</td>\n",
       "      <td>0</td>\n",
       "      <td>0</td>\n",
       "    </tr>\n",
       "    <tr>\n",
       "      <th>2054</th>\n",
       "      <td>0</td>\n",
       "      <td>1</td>\n",
       "      <td>0</td>\n",
       "      <td>0</td>\n",
       "      <td>0</td>\n",
       "      <td>0</td>\n",
       "      <td>0</td>\n",
       "      <td>0</td>\n",
       "      <td>0</td>\n",
       "      <td>0</td>\n",
       "      <td>0</td>\n",
       "    </tr>\n",
       "  </tbody>\n",
       "</table>\n",
       "</div>"
      ],
      "text/plain": [
       "      grade__3  grade__4  grade__5  grade__6  grade__7  grade__8  grade__9  \\\n",
       "104          0         1         0         0         0         0         0   \n",
       "762          0         1         0         0         0         0         0   \n",
       "876          0         1         0         0         0         0         0   \n",
       "1089         0         1         0         0         0         0         0   \n",
       "2054         0         1         0         0         0         0         0   \n",
       "\n",
       "      grade__10  grade__11  grade__12  grade__13  \n",
       "104           0          0          0          0  \n",
       "762           0          0          0          0  \n",
       "876           0          0          0          0  \n",
       "1089          0          0          0          0  \n",
       "2054          0          0          0          0  "
      ]
     },
     "execution_count": 59,
     "metadata": {},
     "output_type": "execute_result"
    }
   ],
   "source": [
    "dummies=pd.get_dummies(new_df['grade'], prefix='grade_',drop_first=True)\n",
    "dummies['grade__3']=0\n",
    "dummies=dummies[['grade__3', 'grade__4', 'grade__5', 'grade__6', 'grade__7', 'grade__8', 'grade__9', 'grade__10', 'grade__11', 'grade__12', 'grade__13']]\n",
    "dummies[dummies['grade__4']==1]"
   ]
  },
  {
   "cell_type": "code",
   "execution_count": 61,
   "metadata": {},
   "outputs": [],
   "source": [
    "new_df=pd.concat([new_df,dummies], axis=1)"
   ]
  },
  {
   "cell_type": "code",
   "execution_count": 63,
   "metadata": {},
   "outputs": [],
   "source": [
    "extreme_cols=['bedrooms','bathrooms','sqft_living','sqft_lot','sqft_above','sqft_basement']"
   ]
  },
  {
   "cell_type": "code",
   "execution_count": 64,
   "metadata": {},
   "outputs": [],
   "source": [
    "def ext_values(df, extreme_cols):\n",
    "    new_df = df.copy()\n",
    "    for col in extreme_cols:\n",
    "        std = new_df[col].std()\n",
    "        mean = new_df[col].mean()\n",
    "        pos_value = mean+(5*std)\n",
    "        neg_value = mean-(5*std)\n",
    "        new_df[col] = new_df[col].apply(lambda x: pos_value if (x > pos_value) else (neg_value if x < neg_value else x))\n",
    "    return new_df\n",
    "#df=ext_values(df, extreme_cols)"
   ]
  },
  {
   "cell_type": "code",
   "execution_count": 65,
   "metadata": {},
   "outputs": [],
   "source": [
    "new_df=ext_values(new_df, extreme_cols)"
   ]
  },
  {
   "cell_type": "code",
   "execution_count": 66,
   "metadata": {},
   "outputs": [
    {
     "data": {
      "text/plain": [
       "array([ 8,  7,  6,  9, 10,  5,  4, 11, 12, 13,  1], dtype=int64)"
      ]
     },
     "execution_count": 66,
     "metadata": {},
     "output_type": "execute_result"
    }
   ],
   "source": [
    "new_df['grade'].unique()"
   ]
  },
  {
   "cell_type": "code",
   "execution_count": 67,
   "metadata": {},
   "outputs": [],
   "source": [
    "inter_df=new_df.drop(['date','id','main_city','year','month','view','condition','grade'], axis=1)\n"
   ]
  },
  {
   "cell_type": "code",
   "execution_count": 68,
   "metadata": {},
   "outputs": [
    {
     "data": {
      "text/plain": [
       "Index(['bedrooms', 'bathrooms', 'sqft_living', 'sqft_lot', 'floors',\n",
       "       'waterfront', 'sqft_above', 'sqft_basement', 'yr_built', 'yr_renovated',\n",
       "       'zipcode', 'lat', 'long', 'sqft_living15', 'sqft_lot15', 'Bellevue',\n",
       "       'Black_Diamond', 'Bothell', 'Carnation', 'Duvall', 'Enumclaw',\n",
       "       'Fall_City', 'Federal_Way', 'Issaquah', 'Kenmore', 'Kent', 'Kirkland',\n",
       "       'Maple_Valley', 'Medina', 'Mercer_Island', 'North_Bend', 'Redmond',\n",
       "       'Renton', 'Sammamish', 'Seattle', 'Snoqualmie', 'Vashon', 'Woodinville',\n",
       "       'year__2015', 'month__2', 'month__3', 'month__4', 'month__5',\n",
       "       'month__6', 'month__7', 'month__8', 'month__9', 'month__10',\n",
       "       'month__11', 'month__12', 'view__1', 'view__2', 'view__3', 'view__4',\n",
       "       'condition__2', 'condition__3', 'condition__4', 'condition__5',\n",
       "       'grade__3', 'grade__4', 'grade__5', 'grade__6', 'grade__7', 'grade__8',\n",
       "       'grade__9', 'grade__10', 'grade__11', 'grade__12', 'grade__13'],\n",
       "      dtype='object')"
      ]
     },
     "execution_count": 68,
     "metadata": {},
     "output_type": "execute_result"
    }
   ],
   "source": [
    "inter_df.columns"
   ]
  },
  {
   "cell_type": "code",
   "execution_count": 69,
   "metadata": {},
   "outputs": [
    {
     "data": {
      "text/plain": [
       "array([623368.12108632, 630771.51962779, 354283.01372368, ...,\n",
       "       213133.57188136, 412765.46481233, 205949.12360501])"
      ]
     },
     "execution_count": 69,
     "metadata": {},
     "output_type": "execute_result"
    }
   ],
   "source": [
    "ridge=pickle.load(open('ridge_model','rb'))\n",
    "y_pred_all=ridge.predict(inter_df)\n",
    "\n",
    "# rmse_ridge=np.sqrt(metrics.mean_squared_error(target, y_pred_all))\n",
    "# rmse_ridge\n",
    "y_pred_all"
   ]
  },
  {
   "cell_type": "code",
   "execution_count": 72,
   "metadata": {},
   "outputs": [
    {
     "data": {
      "text/html": [
       "<div>\n",
       "<style scoped>\n",
       "    .dataframe tbody tr th:only-of-type {\n",
       "        vertical-align: middle;\n",
       "    }\n",
       "\n",
       "    .dataframe tbody tr th {\n",
       "        vertical-align: top;\n",
       "    }\n",
       "\n",
       "    .dataframe thead th {\n",
       "        text-align: right;\n",
       "    }\n",
       "</style>\n",
       "<table border=\"1\" class=\"dataframe\">\n",
       "  <thead>\n",
       "    <tr style=\"text-align: right;\">\n",
       "      <th></th>\n",
       "      <th>price</th>\n",
       "    </tr>\n",
       "  </thead>\n",
       "  <tbody>\n",
       "    <tr>\n",
       "      <th>0</th>\n",
       "      <td>623368.121086</td>\n",
       "    </tr>\n",
       "    <tr>\n",
       "      <th>1</th>\n",
       "      <td>630771.519628</td>\n",
       "    </tr>\n",
       "    <tr>\n",
       "      <th>2</th>\n",
       "      <td>354283.013724</td>\n",
       "    </tr>\n",
       "    <tr>\n",
       "      <th>3</th>\n",
       "      <td>264540.409648</td>\n",
       "    </tr>\n",
       "    <tr>\n",
       "      <th>4</th>\n",
       "      <td>498348.415558</td>\n",
       "    </tr>\n",
       "    <tr>\n",
       "      <th>...</th>\n",
       "      <td>...</td>\n",
       "    </tr>\n",
       "    <tr>\n",
       "      <th>4318</th>\n",
       "      <td>526927.062303</td>\n",
       "    </tr>\n",
       "    <tr>\n",
       "      <th>4319</th>\n",
       "      <td>472274.940065</td>\n",
       "    </tr>\n",
       "    <tr>\n",
       "      <th>4320</th>\n",
       "      <td>213133.571881</td>\n",
       "    </tr>\n",
       "    <tr>\n",
       "      <th>4321</th>\n",
       "      <td>412765.464812</td>\n",
       "    </tr>\n",
       "    <tr>\n",
       "      <th>4322</th>\n",
       "      <td>205949.123605</td>\n",
       "    </tr>\n",
       "  </tbody>\n",
       "</table>\n",
       "<p>4323 rows × 1 columns</p>\n",
       "</div>"
      ],
      "text/plain": [
       "              price\n",
       "0     623368.121086\n",
       "1     630771.519628\n",
       "2     354283.013724\n",
       "3     264540.409648\n",
       "4     498348.415558\n",
       "...             ...\n",
       "4318  526927.062303\n",
       "4319  472274.940065\n",
       "4320  213133.571881\n",
       "4321  412765.464812\n",
       "4322  205949.123605\n",
       "\n",
       "[4323 rows x 1 columns]"
      ]
     },
     "execution_count": 72,
     "metadata": {},
     "output_type": "execute_result"
    }
   ],
   "source": [
    "pred_df=pd.DataFrame()\n",
    "pred_df['price']=y_pred_all\n",
    "pred_df"
   ]
  },
  {
   "cell_type": "code",
   "execution_count": 73,
   "metadata": {},
   "outputs": [],
   "source": [
    "pred_df.to_csv('housing_preds_GAZA.csv', header=None)"
   ]
  },
  {
   "cell_type": "code",
   "execution_count": null,
   "metadata": {},
   "outputs": [],
   "source": []
  }
 ],
 "metadata": {
  "kernelspec": {
   "display_name": "Python 3",
   "language": "python",
   "name": "python3"
  },
  "language_info": {
   "codemirror_mode": {
    "name": "ipython",
    "version": 3
   },
   "file_extension": ".py",
   "mimetype": "text/x-python",
   "name": "python",
   "nbconvert_exporter": "python",
   "pygments_lexer": "ipython3",
   "version": "3.7.7"
  }
 },
 "nbformat": 4,
 "nbformat_minor": 4
}
