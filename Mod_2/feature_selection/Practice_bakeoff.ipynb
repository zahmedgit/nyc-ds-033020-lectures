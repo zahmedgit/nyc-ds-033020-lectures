{
 "cells": [
  {
   "cell_type": "code",
   "execution_count": 1,
   "metadata": {},
   "outputs": [],
   "source": [
    "import pandas as pd\n",
    "pd.set_option('display.max_columns', 300)\n",
    "import numpy as np\n",
    "from matplotlib import pyplot as plt\n",
    "from sklearn import linear_model\n",
    "from sklearn.linear_model import LinearRegression\n",
    "from sklearn.model_selection import train_test_split\n",
    "from sklearn import metrics\n",
    "from sklearn.preprocessing import PolynomialFeatures\n",
    "from sklearn.preprocessing import StandardScaler\n",
    "import seaborn as sns\n",
    "sns.set(style=\"whitegrid\")"
   ]
  },
  {
   "cell_type": "code",
   "execution_count": 4,
   "metadata": {},
   "outputs": [],
   "source": [
    "data = pd.read_csv('resources/movies_training.csv', index_col=0)"
   ]
  },
  {
   "cell_type": "code",
   "execution_count": 7,
   "metadata": {},
   "outputs": [
    {
     "data": {
      "text/plain": [
       "Index(['num_critic_for_reviews', 'duration', 'director_facebook_likes',\n",
       "       'actor_3_facebook_likes', 'actor_1_facebook_likes',\n",
       "       'cast_total_facebook_likes', 'facenumber_in_poster',\n",
       "       'num_user_for_reviews', 'budget', 'title_year',\n",
       "       'actor_2_facebook_likes', 'imdb_score', 'G', 'PG', 'PG-13', 'R',\n",
       "       'gross'],\n",
       "      dtype='object')"
      ]
     },
     "execution_count": 7,
     "metadata": {},
     "output_type": "execute_result"
    }
   ],
   "source": [
    "data.columns"
   ]
  },
  {
   "cell_type": "markdown",
   "metadata": {},
   "source": [
    "## Determine our best model "
   ]
  },
  {
   "cell_type": "markdown",
   "metadata": {},
   "source": [
    "Do we want to transform the target variable by taking the log or square root of it?"
   ]
  },
  {
   "cell_type": "code",
   "execution_count": 18,
   "metadata": {},
   "outputs": [],
   "source": [
    "target = data['gross']\n",
    "features = data.drop(['gross'], axis=1)\n"
   ]
  },
  {
   "cell_type": "markdown",
   "metadata": {},
   "source": [
    "Create a train test split of our data."
   ]
  },
  {
   "cell_type": "code",
   "execution_count": 23,
   "metadata": {},
   "outputs": [],
   "source": [
    "X_train, X_test, y_train, y_test = train_test_split(features, target, random_state=22,test_size=0.2)\n"
   ]
  },
  {
   "cell_type": "code",
   "execution_count": 24,
   "metadata": {},
   "outputs": [
    {
     "data": {
      "text/html": [
       "<div>\n",
       "<style scoped>\n",
       "    .dataframe tbody tr th:only-of-type {\n",
       "        vertical-align: middle;\n",
       "    }\n",
       "\n",
       "    .dataframe tbody tr th {\n",
       "        vertical-align: top;\n",
       "    }\n",
       "\n",
       "    .dataframe thead th {\n",
       "        text-align: right;\n",
       "    }\n",
       "</style>\n",
       "<table border=\"1\" class=\"dataframe\">\n",
       "  <thead>\n",
       "    <tr style=\"text-align: right;\">\n",
       "      <th></th>\n",
       "      <th>num_critic_for_reviews</th>\n",
       "      <th>duration</th>\n",
       "      <th>director_facebook_likes</th>\n",
       "      <th>actor_3_facebook_likes</th>\n",
       "      <th>actor_1_facebook_likes</th>\n",
       "      <th>cast_total_facebook_likes</th>\n",
       "      <th>facenumber_in_poster</th>\n",
       "      <th>num_user_for_reviews</th>\n",
       "      <th>budget</th>\n",
       "      <th>title_year</th>\n",
       "      <th>actor_2_facebook_likes</th>\n",
       "      <th>imdb_score</th>\n",
       "      <th>G</th>\n",
       "      <th>PG</th>\n",
       "      <th>PG-13</th>\n",
       "      <th>R</th>\n",
       "    </tr>\n",
       "  </thead>\n",
       "  <tbody>\n",
       "    <tr>\n",
       "      <th>2830</th>\n",
       "      <td>157.0</td>\n",
       "      <td>125.0</td>\n",
       "      <td>448.0</td>\n",
       "      <td>93.0</td>\n",
       "      <td>273.0</td>\n",
       "      <td>529</td>\n",
       "      <td>1.0</td>\n",
       "      <td>140.0</td>\n",
       "      <td>10000000.0</td>\n",
       "      <td>2004.0</td>\n",
       "      <td>114.0</td>\n",
       "      <td>8.1</td>\n",
       "      <td>0</td>\n",
       "      <td>0</td>\n",
       "      <td>1</td>\n",
       "      <td>0</td>\n",
       "    </tr>\n",
       "    <tr>\n",
       "      <th>1065</th>\n",
       "      <td>142.0</td>\n",
       "      <td>102.0</td>\n",
       "      <td>148.0</td>\n",
       "      <td>135.0</td>\n",
       "      <td>8000.0</td>\n",
       "      <td>9176</td>\n",
       "      <td>4.0</td>\n",
       "      <td>343.0</td>\n",
       "      <td>48000000.0</td>\n",
       "      <td>2001.0</td>\n",
       "      <td>973.0</td>\n",
       "      <td>5.7</td>\n",
       "      <td>0</td>\n",
       "      <td>0</td>\n",
       "      <td>1</td>\n",
       "      <td>0</td>\n",
       "    </tr>\n",
       "    <tr>\n",
       "      <th>80</th>\n",
       "      <td>453.0</td>\n",
       "      <td>124.0</td>\n",
       "      <td>4000.0</td>\n",
       "      <td>4000.0</td>\n",
       "      <td>21000.0</td>\n",
       "      <td>48638</td>\n",
       "      <td>4.0</td>\n",
       "      <td>723.0</td>\n",
       "      <td>200000000.0</td>\n",
       "      <td>2010.0</td>\n",
       "      <td>19000.0</td>\n",
       "      <td>7.0</td>\n",
       "      <td>0</td>\n",
       "      <td>0</td>\n",
       "      <td>1</td>\n",
       "      <td>0</td>\n",
       "    </tr>\n",
       "    <tr>\n",
       "      <th>3764</th>\n",
       "      <td>61.0</td>\n",
       "      <td>90.0</td>\n",
       "      <td>4.0</td>\n",
       "      <td>556.0</td>\n",
       "      <td>2000.0</td>\n",
       "      <td>5202</td>\n",
       "      <td>0.0</td>\n",
       "      <td>202.0</td>\n",
       "      <td>36998505.3</td>\n",
       "      <td>2006.0</td>\n",
       "      <td>936.0</td>\n",
       "      <td>7.0</td>\n",
       "      <td>0</td>\n",
       "      <td>0</td>\n",
       "      <td>0</td>\n",
       "      <td>1</td>\n",
       "    </tr>\n",
       "    <tr>\n",
       "      <th>2402</th>\n",
       "      <td>195.0</td>\n",
       "      <td>98.0</td>\n",
       "      <td>72.0</td>\n",
       "      <td>566.0</td>\n",
       "      <td>1000.0</td>\n",
       "      <td>3151</td>\n",
       "      <td>2.0</td>\n",
       "      <td>485.0</td>\n",
       "      <td>18000000.0</td>\n",
       "      <td>2003.0</td>\n",
       "      <td>624.0</td>\n",
       "      <td>7.1</td>\n",
       "      <td>0</td>\n",
       "      <td>0</td>\n",
       "      <td>0</td>\n",
       "      <td>1</td>\n",
       "    </tr>\n",
       "  </tbody>\n",
       "</table>\n",
       "</div>"
      ],
      "text/plain": [
       "      num_critic_for_reviews  duration  director_facebook_likes  \\\n",
       "2830                   157.0     125.0                    448.0   \n",
       "1065                   142.0     102.0                    148.0   \n",
       "80                     453.0     124.0                   4000.0   \n",
       "3764                    61.0      90.0                      4.0   \n",
       "2402                   195.0      98.0                     72.0   \n",
       "\n",
       "      actor_3_facebook_likes  actor_1_facebook_likes  \\\n",
       "2830                    93.0                   273.0   \n",
       "1065                   135.0                  8000.0   \n",
       "80                    4000.0                 21000.0   \n",
       "3764                   556.0                  2000.0   \n",
       "2402                   566.0                  1000.0   \n",
       "\n",
       "      cast_total_facebook_likes  facenumber_in_poster  num_user_for_reviews  \\\n",
       "2830                        529                   1.0                 140.0   \n",
       "1065                       9176                   4.0                 343.0   \n",
       "80                        48638                   4.0                 723.0   \n",
       "3764                       5202                   0.0                 202.0   \n",
       "2402                       3151                   2.0                 485.0   \n",
       "\n",
       "           budget  title_year  actor_2_facebook_likes  imdb_score  G  PG  \\\n",
       "2830   10000000.0      2004.0                   114.0         8.1  0   0   \n",
       "1065   48000000.0      2001.0                   973.0         5.7  0   0   \n",
       "80    200000000.0      2010.0                 19000.0         7.0  0   0   \n",
       "3764   36998505.3      2006.0                   936.0         7.0  0   0   \n",
       "2402   18000000.0      2003.0                   624.0         7.1  0   0   \n",
       "\n",
       "      PG-13  R  \n",
       "2830      1  0  \n",
       "1065      1  0  \n",
       "80        1  0  \n",
       "3764      0  1  \n",
       "2402      0  1  "
      ]
     },
     "execution_count": 24,
     "metadata": {},
     "output_type": "execute_result"
    }
   ],
   "source": [
    "X_train.head()"
   ]
  },
  {
   "cell_type": "markdown",
   "metadata": {},
   "source": [
    "How do you want to handle extreme values for some of the continuous columns?"
   ]
  },
  {
   "cell_type": "code",
   "execution_count": 25,
   "metadata": {},
   "outputs": [
    {
     "data": {
      "text/html": [
       "<div>\n",
       "<style scoped>\n",
       "    .dataframe tbody tr th:only-of-type {\n",
       "        vertical-align: middle;\n",
       "    }\n",
       "\n",
       "    .dataframe tbody tr th {\n",
       "        vertical-align: top;\n",
       "    }\n",
       "\n",
       "    .dataframe thead th {\n",
       "        text-align: right;\n",
       "    }\n",
       "</style>\n",
       "<table border=\"1\" class=\"dataframe\">\n",
       "  <thead>\n",
       "    <tr style=\"text-align: right;\">\n",
       "      <th></th>\n",
       "      <th>num_critic_for_reviews</th>\n",
       "      <th>duration</th>\n",
       "      <th>director_facebook_likes</th>\n",
       "      <th>actor_3_facebook_likes</th>\n",
       "      <th>actor_1_facebook_likes</th>\n",
       "      <th>cast_total_facebook_likes</th>\n",
       "      <th>facenumber_in_poster</th>\n",
       "      <th>num_user_for_reviews</th>\n",
       "      <th>budget</th>\n",
       "      <th>title_year</th>\n",
       "      <th>actor_2_facebook_likes</th>\n",
       "      <th>imdb_score</th>\n",
       "      <th>G</th>\n",
       "      <th>PG</th>\n",
       "      <th>PG-13</th>\n",
       "      <th>R</th>\n",
       "    </tr>\n",
       "  </thead>\n",
       "  <tbody>\n",
       "    <tr>\n",
       "      <th>count</th>\n",
       "      <td>1938.000000</td>\n",
       "      <td>1938.000000</td>\n",
       "      <td>1938.000000</td>\n",
       "      <td>1938.000000</td>\n",
       "      <td>1938.000000</td>\n",
       "      <td>1938.000000</td>\n",
       "      <td>1938.000000</td>\n",
       "      <td>1938.000000</td>\n",
       "      <td>1.938000e+03</td>\n",
       "      <td>1938.000000</td>\n",
       "      <td>1938.000000</td>\n",
       "      <td>1938.000000</td>\n",
       "      <td>1938.000000</td>\n",
       "      <td>1938.000000</td>\n",
       "      <td>1938.000000</td>\n",
       "      <td>1938.000000</td>\n",
       "    </tr>\n",
       "    <tr>\n",
       "      <th>mean</th>\n",
       "      <td>188.203818</td>\n",
       "      <td>109.404541</td>\n",
       "      <td>752.603199</td>\n",
       "      <td>898.403095</td>\n",
       "      <td>8448.017544</td>\n",
       "      <td>12749.148607</td>\n",
       "      <td>1.436691</td>\n",
       "      <td>359.930341</td>\n",
       "      <td>4.848001e+07</td>\n",
       "      <td>2006.297214</td>\n",
       "      <td>2316.650155</td>\n",
       "      <td>6.402425</td>\n",
       "      <td>0.025800</td>\n",
       "      <td>0.148607</td>\n",
       "      <td>0.410733</td>\n",
       "      <td>0.409701</td>\n",
       "    </tr>\n",
       "    <tr>\n",
       "      <th>std</th>\n",
       "      <td>124.788044</td>\n",
       "      <td>19.787551</td>\n",
       "      <td>2946.005715</td>\n",
       "      <td>2145.737933</td>\n",
       "      <td>11738.067750</td>\n",
       "      <td>17123.788297</td>\n",
       "      <td>2.077983</td>\n",
       "      <td>415.673179</td>\n",
       "      <td>7.467260e+07</td>\n",
       "      <td>5.543967</td>\n",
       "      <td>5270.858278</td>\n",
       "      <td>1.057827</td>\n",
       "      <td>0.158578</td>\n",
       "      <td>0.355792</td>\n",
       "      <td>0.492094</td>\n",
       "      <td>0.491905</td>\n",
       "    </tr>\n",
       "    <tr>\n",
       "      <th>min</th>\n",
       "      <td>3.000000</td>\n",
       "      <td>42.000000</td>\n",
       "      <td>0.000000</td>\n",
       "      <td>0.000000</td>\n",
       "      <td>0.000000</td>\n",
       "      <td>0.000000</td>\n",
       "      <td>0.000000</td>\n",
       "      <td>5.000000</td>\n",
       "      <td>1.500000e+04</td>\n",
       "      <td>1996.000000</td>\n",
       "      <td>0.000000</td>\n",
       "      <td>1.600000</td>\n",
       "      <td>0.000000</td>\n",
       "      <td>0.000000</td>\n",
       "      <td>0.000000</td>\n",
       "      <td>0.000000</td>\n",
       "    </tr>\n",
       "    <tr>\n",
       "      <th>25%</th>\n",
       "      <td>97.000000</td>\n",
       "      <td>96.000000</td>\n",
       "      <td>12.000000</td>\n",
       "      <td>223.000000</td>\n",
       "      <td>820.000000</td>\n",
       "      <td>2176.000000</td>\n",
       "      <td>0.000000</td>\n",
       "      <td>127.250000</td>\n",
       "      <td>1.500000e+07</td>\n",
       "      <td>2002.000000</td>\n",
       "      <td>436.000000</td>\n",
       "      <td>5.800000</td>\n",
       "      <td>0.000000</td>\n",
       "      <td>0.000000</td>\n",
       "      <td>0.000000</td>\n",
       "      <td>0.000000</td>\n",
       "    </tr>\n",
       "    <tr>\n",
       "      <th>50%</th>\n",
       "      <td>160.000000</td>\n",
       "      <td>106.000000</td>\n",
       "      <td>65.000000</td>\n",
       "      <td>471.500000</td>\n",
       "      <td>2000.000000</td>\n",
       "      <td>4861.500000</td>\n",
       "      <td>1.000000</td>\n",
       "      <td>233.000000</td>\n",
       "      <td>3.400000e+07</td>\n",
       "      <td>2006.000000</td>\n",
       "      <td>722.000000</td>\n",
       "      <td>6.500000</td>\n",
       "      <td>0.000000</td>\n",
       "      <td>0.000000</td>\n",
       "      <td>0.000000</td>\n",
       "      <td>0.000000</td>\n",
       "    </tr>\n",
       "    <tr>\n",
       "      <th>75%</th>\n",
       "      <td>248.000000</td>\n",
       "      <td>119.000000</td>\n",
       "      <td>234.000000</td>\n",
       "      <td>735.500000</td>\n",
       "      <td>14000.000000</td>\n",
       "      <td>17880.500000</td>\n",
       "      <td>2.000000</td>\n",
       "      <td>432.000000</td>\n",
       "      <td>6.000000e+07</td>\n",
       "      <td>2011.000000</td>\n",
       "      <td>1000.000000</td>\n",
       "      <td>7.100000</td>\n",
       "      <td>0.000000</td>\n",
       "      <td>0.000000</td>\n",
       "      <td>1.000000</td>\n",
       "      <td>1.000000</td>\n",
       "    </tr>\n",
       "    <tr>\n",
       "      <th>max</th>\n",
       "      <td>813.000000</td>\n",
       "      <td>280.000000</td>\n",
       "      <td>23000.000000</td>\n",
       "      <td>23000.000000</td>\n",
       "      <td>164000.000000</td>\n",
       "      <td>303717.000000</td>\n",
       "      <td>31.000000</td>\n",
       "      <td>5060.000000</td>\n",
       "      <td>2.400000e+09</td>\n",
       "      <td>2016.000000</td>\n",
       "      <td>137000.000000</td>\n",
       "      <td>8.900000</td>\n",
       "      <td>1.000000</td>\n",
       "      <td>1.000000</td>\n",
       "      <td>1.000000</td>\n",
       "      <td>1.000000</td>\n",
       "    </tr>\n",
       "  </tbody>\n",
       "</table>\n",
       "</div>"
      ],
      "text/plain": [
       "       num_critic_for_reviews     duration  director_facebook_likes  \\\n",
       "count             1938.000000  1938.000000              1938.000000   \n",
       "mean               188.203818   109.404541               752.603199   \n",
       "std                124.788044    19.787551              2946.005715   \n",
       "min                  3.000000    42.000000                 0.000000   \n",
       "25%                 97.000000    96.000000                12.000000   \n",
       "50%                160.000000   106.000000                65.000000   \n",
       "75%                248.000000   119.000000               234.000000   \n",
       "max                813.000000   280.000000             23000.000000   \n",
       "\n",
       "       actor_3_facebook_likes  actor_1_facebook_likes  \\\n",
       "count             1938.000000             1938.000000   \n",
       "mean               898.403095             8448.017544   \n",
       "std               2145.737933            11738.067750   \n",
       "min                  0.000000                0.000000   \n",
       "25%                223.000000              820.000000   \n",
       "50%                471.500000             2000.000000   \n",
       "75%                735.500000            14000.000000   \n",
       "max              23000.000000           164000.000000   \n",
       "\n",
       "       cast_total_facebook_likes  facenumber_in_poster  num_user_for_reviews  \\\n",
       "count                1938.000000           1938.000000           1938.000000   \n",
       "mean                12749.148607              1.436691            359.930341   \n",
       "std                 17123.788297              2.077983            415.673179   \n",
       "min                     0.000000              0.000000              5.000000   \n",
       "25%                  2176.000000              0.000000            127.250000   \n",
       "50%                  4861.500000              1.000000            233.000000   \n",
       "75%                 17880.500000              2.000000            432.000000   \n",
       "max                303717.000000             31.000000           5060.000000   \n",
       "\n",
       "             budget   title_year  actor_2_facebook_likes   imdb_score  \\\n",
       "count  1.938000e+03  1938.000000             1938.000000  1938.000000   \n",
       "mean   4.848001e+07  2006.297214             2316.650155     6.402425   \n",
       "std    7.467260e+07     5.543967             5270.858278     1.057827   \n",
       "min    1.500000e+04  1996.000000                0.000000     1.600000   \n",
       "25%    1.500000e+07  2002.000000              436.000000     5.800000   \n",
       "50%    3.400000e+07  2006.000000              722.000000     6.500000   \n",
       "75%    6.000000e+07  2011.000000             1000.000000     7.100000   \n",
       "max    2.400000e+09  2016.000000           137000.000000     8.900000   \n",
       "\n",
       "                 G           PG        PG-13            R  \n",
       "count  1938.000000  1938.000000  1938.000000  1938.000000  \n",
       "mean      0.025800     0.148607     0.410733     0.409701  \n",
       "std       0.158578     0.355792     0.492094     0.491905  \n",
       "min       0.000000     0.000000     0.000000     0.000000  \n",
       "25%       0.000000     0.000000     0.000000     0.000000  \n",
       "50%       0.000000     0.000000     0.000000     0.000000  \n",
       "75%       0.000000     0.000000     1.000000     1.000000  \n",
       "max       1.000000     1.000000     1.000000     1.000000  "
      ]
     },
     "execution_count": 25,
     "metadata": {},
     "output_type": "execute_result"
    }
   ],
   "source": [
    "X_train.describe()"
   ]
  },
  {
   "cell_type": "code",
   "execution_count": 26,
   "metadata": {},
   "outputs": [],
   "source": [
    "extreme_cols = ['budget', 'cast_total_facebook_likes', 'director_facebook_likes', 'actor_3_facebook_likes']"
   ]
  },
  {
   "cell_type": "markdown",
   "metadata": {},
   "source": [
    "Create any polynomial or interaction terms?"
   ]
  },
  {
   "cell_type": "markdown",
   "metadata": {},
   "source": [
    "What type of scaler do we want to use?"
   ]
  },
  {
   "cell_type": "markdown",
   "metadata": {},
   "source": [
    "What feature selection methods will we implement?"
   ]
  },
  {
   "cell_type": "markdown",
   "metadata": {},
   "source": [
    "Fit our model"
   ]
  },
  {
   "cell_type": "markdown",
   "metadata": {},
   "source": [
    "Evaluate how our model performance on the test set. "
   ]
  },
  {
   "cell_type": "markdown",
   "metadata": {},
   "source": [
    "## Once we are happy with our performance and have solidified the process, let's refit this process to the entire dataset.  "
   ]
  },
  {
   "cell_type": "markdown",
   "metadata": {},
   "source": [
    "## Now with our model including more data points, let's apply it to the holdout set. "
   ]
  },
  {
   "cell_type": "code",
   "execution_count": 15,
   "metadata": {},
   "outputs": [],
   "source": [
    "holdout = pd.read_csv('resources/movies_holdout_features.csv', index_col=0)"
   ]
  },
  {
   "cell_type": "markdown",
   "metadata": {},
   "source": [
    "Remember we have to perform the same transformations on our holdout data (feature engineering, extreme values and scaling) that we performed on the original data.  "
   ]
  },
  {
   "cell_type": "markdown",
   "metadata": {},
   "source": [
    "Predict using the fitted model. "
   ]
  },
  {
   "cell_type": "markdown",
   "metadata": {},
   "source": [
    "Grade our predictions.  "
   ]
  },
  {
   "cell_type": "code",
   "execution_count": null,
   "metadata": {},
   "outputs": [],
   "source": []
  }
 ],
 "metadata": {
  "kernelspec": {
   "display_name": "Python 3",
   "language": "python",
   "name": "python3"
  },
  "language_info": {
   "codemirror_mode": {
    "name": "ipython",
    "version": 3
   },
   "file_extension": ".py",
   "mimetype": "text/x-python",
   "name": "python",
   "nbconvert_exporter": "python",
   "pygments_lexer": "ipython3",
   "version": "3.7.3"
  }
 },
 "nbformat": 4,
 "nbformat_minor": 2
}
