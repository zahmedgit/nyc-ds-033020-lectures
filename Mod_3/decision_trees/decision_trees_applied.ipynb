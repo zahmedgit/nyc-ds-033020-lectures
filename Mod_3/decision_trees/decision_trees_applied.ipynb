{
 "cells": [
  {
   "cell_type": "markdown",
   "metadata": {},
   "source": [
    "### Starting Off\n",
    "\n",
    "We know that using test train split is a good way to measure the accuracy of your model. Is this the best way though? What are some potential problems with test train split?  \n",
    "\n",
    "Think about how we get the testing data and issues with sampling and variance"
   ]
  },
  {
   "cell_type": "markdown",
   "metadata": {},
   "source": [
    "# Implementing a Decision Tree Classifier"
   ]
  },
  {
   "cell_type": "markdown",
   "metadata": {},
   "source": [
    "## Agenda\n",
    "\n",
    "- Create and visualize a Decision Tree Classifier\n",
    "- Utilize GridsearchCV to find the best hyperparameters of the model\n",
    "- Discuss the role of Cross validation in the process"
   ]
  },
  {
   "cell_type": "code",
   "execution_count": 1,
   "metadata": {},
   "outputs": [],
   "source": [
    "# Load libraries\n",
    "import pandas as pd\n",
    "import numpy as np\n",
    "from sklearn import metrics \n",
    "from sklearn.tree import DecisionTreeClassifier # Import Decision Tree Classifier\n",
    "from sklearn.model_selection import train_test_split # Import train_test_split function\n",
    "from sklearn.metrics import make_scorer, accuracy_score #Import scikit-learn metrics module for accuracy calculation\n",
    "from matplotlib import pyplot as plt\n"
   ]
  },
  {
   "cell_type": "code",
   "execution_count": 2,
   "metadata": {},
   "outputs": [],
   "source": [
    "# Read in data and split data to be used in the models\n",
    "titanic = pd.read_csv('cleaned_titanic.csv', index_col='PassengerId')\n",
    "\n",
    "# Create matrix of features\n",
    "X = titanic.drop('Survived', axis = 1) # grabs everything else but 'Survived'\n",
    "\n",
    "# Create target variable\n",
    "y = titanic['Survived'] # y is the column we're trying to predict\n",
    "\n",
    "# Create a list of the features being used in the \n",
    "feature_cols = X.columns"
   ]
  },
  {
   "cell_type": "code",
   "execution_count": 3,
   "metadata": {},
   "outputs": [],
   "source": [
    "# Use x and y variables to split the training data into train and test set\n",
    "\n",
    "from sklearn.model_selection import train_test_split\n",
    "X_train, X_test, y_train, y_test = train_test_split(X, y, random_state=1)"
   ]
  },
  {
   "cell_type": "code",
   "execution_count": 4,
   "metadata": {},
   "outputs": [],
   "source": [
    "# Create Decision Tree classifer object\n",
    "clf = DecisionTreeClassifier()\n",
    "\n"
   ]
  },
  {
   "cell_type": "markdown",
   "metadata": {},
   "source": [
    "Let's look at the default settings for this model"
   ]
  },
  {
   "cell_type": "code",
   "execution_count": 5,
   "metadata": {},
   "outputs": [
    {
     "data": {
      "text/plain": [
       "DecisionTreeClassifier(ccp_alpha=0.0, class_weight=None, criterion='gini',\n",
       "                       max_depth=None, max_features=None, max_leaf_nodes=None,\n",
       "                       min_impurity_decrease=0.0, min_impurity_split=None,\n",
       "                       min_samples_leaf=1, min_samples_split=2,\n",
       "                       min_weight_fraction_leaf=0.0, presort='deprecated',\n",
       "                       random_state=None, splitter='best')"
      ]
     },
     "execution_count": 5,
     "metadata": {},
     "output_type": "execute_result"
    }
   ],
   "source": [
    "clf"
   ]
  },
  {
   "cell_type": "code",
   "execution_count": 6,
   "metadata": {},
   "outputs": [
    {
     "name": "stdout",
     "output_type": "stream",
     "text": [
      "Training F1 Score: 0.9841897233201581\n",
      "Testing F1 Score: 0.7455621301775148\n"
     ]
    }
   ],
   "source": [
    "# Create Decision Tree classifer object\n",
    "clf = DecisionTreeClassifier()\n",
    "\n",
    "# Train Decision Tree Classifer\n",
    "clf = clf.fit(X_train,y_train)\n",
    "\n",
    "#predict the training set\n",
    "y_pred_train = clf.predict(X_train)\n",
    "\n",
    "#Predict the response for test dataset\n",
    "y_pred_test = clf.predict(X_test)\n",
    "\n",
    "# Model Accuracy, how often is the classifier correct?\n",
    "print(\"Training F1 Score:\",metrics.f1_score(y_train, y_pred_train))\n",
    "print(\"Testing F1 Score:\",metrics.f1_score(y_test, y_pred_test))"
   ]
  },
  {
   "cell_type": "markdown",
   "metadata": {},
   "source": [
    "## Visualizing the decision tree"
   ]
  },
  {
   "cell_type": "code",
   "execution_count": 10,
   "metadata": {},
   "outputs": [
    {
     "name": "stderr",
     "output_type": "stream",
     "text": [
      "WARNING: Skipping pydotplus as it is not installed.\n"
     ]
    }
   ],
   "source": [
    " !pip uninstall pydotplus"
   ]
  },
  {
   "cell_type": "code",
   "execution_count": 9,
   "metadata": {},
   "outputs": [
    {
     "name": "stderr",
     "output_type": "stream",
     "text": [
      "WARNING: Skipping graphviz as it is not installed.\n"
     ]
    }
   ],
   "source": [
    "!pip uninstall graphviz"
   ]
  },
  {
   "cell_type": "code",
   "execution_count": 7,
   "metadata": {},
   "outputs": [
    {
     "name": "stderr",
     "output_type": "stream",
     "text": [
      "C:\\Users\\Drago\\anaconda3\\lib\\site-packages\\sklearn\\externals\\six.py:31: FutureWarning: The module is deprecated in version 0.21 and will be removed in version 0.23 since we've dropped support for Python 2.7. Please rely on the official version of six (https://pypi.org/project/six/).\n",
      "  \"(https://pypi.org/project/six/).\", FutureWarning)\n"
     ]
    },
    {
     "ename": "InvocationException",
     "evalue": "GraphViz's executables not found",
     "output_type": "error",
     "traceback": [
      "\u001b[1;31m---------------------------------------------------------------------------\u001b[0m",
      "\u001b[1;31mInvocationException\u001b[0m                       Traceback (most recent call last)",
      "\u001b[1;32m<ipython-input-7-4def64ab9714>\u001b[0m in \u001b[0;36m<module>\u001b[1;34m\u001b[0m\n\u001b[0;32m      9\u001b[0m                 special_characters=True,feature_names = feature_cols,class_names=['0','1'])\n\u001b[0;32m     10\u001b[0m \u001b[0mgraph\u001b[0m \u001b[1;33m=\u001b[0m \u001b[0mpydotplus\u001b[0m\u001b[1;33m.\u001b[0m\u001b[0mgraph_from_dot_data\u001b[0m\u001b[1;33m(\u001b[0m\u001b[0mdot_data\u001b[0m\u001b[1;33m.\u001b[0m\u001b[0mgetvalue\u001b[0m\u001b[1;33m(\u001b[0m\u001b[1;33m)\u001b[0m\u001b[1;33m)\u001b[0m\u001b[1;33m\u001b[0m\u001b[1;33m\u001b[0m\u001b[0m\n\u001b[1;32m---> 11\u001b[1;33m \u001b[0mgraph\u001b[0m\u001b[1;33m.\u001b[0m\u001b[0mwrite_png\u001b[0m\u001b[1;33m(\u001b[0m\u001b[1;34m'titanic.png'\u001b[0m\u001b[1;33m)\u001b[0m\u001b[1;33m\u001b[0m\u001b[1;33m\u001b[0m\u001b[0m\n\u001b[0m\u001b[0;32m     12\u001b[0m \u001b[0mImage\u001b[0m\u001b[1;33m(\u001b[0m\u001b[0mgraph\u001b[0m\u001b[1;33m.\u001b[0m\u001b[0mcreate_png\u001b[0m\u001b[1;33m(\u001b[0m\u001b[1;33m)\u001b[0m\u001b[1;33m)\u001b[0m\u001b[1;33m\u001b[0m\u001b[1;33m\u001b[0m\u001b[0m\n",
      "\u001b[1;32m~\\anaconda3\\lib\\site-packages\\pydotplus\\graphviz.py\u001b[0m in \u001b[0;36m<lambda>\u001b[1;34m(path, f, prog)\u001b[0m\n\u001b[0;32m   1808\u001b[0m                 \u001b[1;32mlambda\u001b[0m \u001b[0mpath\u001b[0m\u001b[1;33m,\u001b[0m\u001b[1;33m\u001b[0m\u001b[1;33m\u001b[0m\u001b[0m\n\u001b[0;32m   1809\u001b[0m                 \u001b[0mf\u001b[0m\u001b[1;33m=\u001b[0m\u001b[0mfrmt\u001b[0m\u001b[1;33m,\u001b[0m\u001b[1;33m\u001b[0m\u001b[1;33m\u001b[0m\u001b[0m\n\u001b[1;32m-> 1810\u001b[1;33m                 \u001b[0mprog\u001b[0m\u001b[1;33m=\u001b[0m\u001b[0mself\u001b[0m\u001b[1;33m.\u001b[0m\u001b[0mprog\u001b[0m\u001b[1;33m:\u001b[0m \u001b[0mself\u001b[0m\u001b[1;33m.\u001b[0m\u001b[0mwrite\u001b[0m\u001b[1;33m(\u001b[0m\u001b[0mpath\u001b[0m\u001b[1;33m,\u001b[0m \u001b[0mformat\u001b[0m\u001b[1;33m=\u001b[0m\u001b[0mf\u001b[0m\u001b[1;33m,\u001b[0m \u001b[0mprog\u001b[0m\u001b[1;33m=\u001b[0m\u001b[0mprog\u001b[0m\u001b[1;33m)\u001b[0m\u001b[1;33m\u001b[0m\u001b[1;33m\u001b[0m\u001b[0m\n\u001b[0m\u001b[0;32m   1811\u001b[0m             )\n\u001b[0;32m   1812\u001b[0m \u001b[1;33m\u001b[0m\u001b[0m\n",
      "\u001b[1;32m~\\anaconda3\\lib\\site-packages\\pydotplus\\graphviz.py\u001b[0m in \u001b[0;36mwrite\u001b[1;34m(self, path, prog, format)\u001b[0m\n\u001b[0;32m   1916\u001b[0m \u001b[1;33m\u001b[0m\u001b[0m\n\u001b[0;32m   1917\u001b[0m             \u001b[1;32melse\u001b[0m\u001b[1;33m:\u001b[0m\u001b[1;33m\u001b[0m\u001b[1;33m\u001b[0m\u001b[0m\n\u001b[1;32m-> 1918\u001b[1;33m                 \u001b[0mfobj\u001b[0m\u001b[1;33m.\u001b[0m\u001b[0mwrite\u001b[0m\u001b[1;33m(\u001b[0m\u001b[0mself\u001b[0m\u001b[1;33m.\u001b[0m\u001b[0mcreate\u001b[0m\u001b[1;33m(\u001b[0m\u001b[0mprog\u001b[0m\u001b[1;33m,\u001b[0m \u001b[0mformat\u001b[0m\u001b[1;33m)\u001b[0m\u001b[1;33m)\u001b[0m\u001b[1;33m\u001b[0m\u001b[1;33m\u001b[0m\u001b[0m\n\u001b[0m\u001b[0;32m   1919\u001b[0m         \u001b[1;32mfinally\u001b[0m\u001b[1;33m:\u001b[0m\u001b[1;33m\u001b[0m\u001b[1;33m\u001b[0m\u001b[0m\n\u001b[0;32m   1920\u001b[0m             \u001b[1;32mif\u001b[0m \u001b[0mclose\u001b[0m\u001b[1;33m:\u001b[0m\u001b[1;33m\u001b[0m\u001b[1;33m\u001b[0m\u001b[0m\n",
      "\u001b[1;32m~\\anaconda3\\lib\\site-packages\\pydotplus\\graphviz.py\u001b[0m in \u001b[0;36mcreate\u001b[1;34m(self, prog, format)\u001b[0m\n\u001b[0;32m   1958\u001b[0m             \u001b[1;32mif\u001b[0m \u001b[0mself\u001b[0m\u001b[1;33m.\u001b[0m\u001b[0mprogs\u001b[0m \u001b[1;32mis\u001b[0m \u001b[1;32mNone\u001b[0m\u001b[1;33m:\u001b[0m\u001b[1;33m\u001b[0m\u001b[1;33m\u001b[0m\u001b[0m\n\u001b[0;32m   1959\u001b[0m                 raise InvocationException(\n\u001b[1;32m-> 1960\u001b[1;33m                     'GraphViz\\'s executables not found')\n\u001b[0m\u001b[0;32m   1961\u001b[0m \u001b[1;33m\u001b[0m\u001b[0m\n\u001b[0;32m   1962\u001b[0m         \u001b[1;32mif\u001b[0m \u001b[0mprog\u001b[0m \u001b[1;32mnot\u001b[0m \u001b[1;32min\u001b[0m \u001b[0mself\u001b[0m\u001b[1;33m.\u001b[0m\u001b[0mprogs\u001b[0m\u001b[1;33m:\u001b[0m\u001b[1;33m\u001b[0m\u001b[1;33m\u001b[0m\u001b[0m\n",
      "\u001b[1;31mInvocationException\u001b[0m: GraphViz's executables not found"
     ]
    }
   ],
   "source": [
    "from sklearn.tree import export_graphviz\n",
    "from sklearn.externals.six import StringIO  \n",
    "from IPython.display import Image  \n",
    "import pydotplus\n",
    "\n",
    "dot_data = StringIO()\n",
    "export_graphviz(clf, out_file=dot_data,  \n",
    "                filled=True, rounded=True,\n",
    "                special_characters=True,feature_names = feature_cols,class_names=['0','1'])\n",
    "graph = pydotplus.graph_from_dot_data(dot_data.getvalue())  \n",
    "graph.write_png('titanic.png')\n",
    "Image(graph.create_png())"
   ]
  },
  {
   "cell_type": "markdown",
   "metadata": {},
   "source": [
    "Let's create another tree but make it really short by setting max_depth=3"
   ]
  },
  {
   "cell_type": "code",
   "execution_count": 12,
   "metadata": {},
   "outputs": [
    {
     "name": "stdout",
     "output_type": "stream",
     "text": [
      "Training F1 Score: 0.7520661157024793\n",
      "Testing F1 Score: 0.8074534161490684\n"
     ]
    }
   ],
   "source": [
    "# Create Decision Tree classifer object\n",
    "clf = DecisionTreeClassifier(criterion=\"entropy\", max_depth=3)\n",
    "\n",
    "# Train Decision Tree Classifer\n",
    "clf = clf.fit(X_train,y_train)\n",
    "\n",
    "#predict the training set\n",
    "y_pred_train = clf.predict(X_train)\n",
    "\n",
    "#Predict the response for test dataset\n",
    "y_pred_test = clf.predict(X_test)\n",
    "\n",
    "# Model Accuracy, how often is the classifier correct?\n",
    "print(\"Training F1 Score:\",metrics.f1_score(y_train, y_pred_train))\n",
    "print(\"Testing F1 Score:\",metrics.f1_score(y_test, y_pred_test))"
   ]
  },
  {
   "cell_type": "code",
   "execution_count": 13,
   "metadata": {},
   "outputs": [
    {
     "ename": "InvocationException",
     "evalue": "GraphViz's executables not found",
     "output_type": "error",
     "traceback": [
      "\u001b[1;31m---------------------------------------------------------------------------\u001b[0m",
      "\u001b[1;31mInvocationException\u001b[0m                       Traceback (most recent call last)",
      "\u001b[1;32m<ipython-input-13-8f7bfc0feee4>\u001b[0m in \u001b[0;36m<module>\u001b[1;34m\u001b[0m\n\u001b[0;32m      4\u001b[0m                 special_characters=True,feature_names = feature_cols,class_names=['0','1'])\n\u001b[0;32m      5\u001b[0m \u001b[0mgraph\u001b[0m \u001b[1;33m=\u001b[0m \u001b[0mpydotplus\u001b[0m\u001b[1;33m.\u001b[0m\u001b[0mgraph_from_dot_data\u001b[0m\u001b[1;33m(\u001b[0m\u001b[0mdot_data\u001b[0m\u001b[1;33m.\u001b[0m\u001b[0mgetvalue\u001b[0m\u001b[1;33m(\u001b[0m\u001b[1;33m)\u001b[0m\u001b[1;33m)\u001b[0m\u001b[1;33m\u001b[0m\u001b[1;33m\u001b[0m\u001b[0m\n\u001b[1;32m----> 6\u001b[1;33m \u001b[0mgraph\u001b[0m\u001b[1;33m.\u001b[0m\u001b[0mwrite_png\u001b[0m\u001b[1;33m(\u001b[0m\u001b[1;34m'titanic_depth3.png'\u001b[0m\u001b[1;33m)\u001b[0m\u001b[1;33m\u001b[0m\u001b[1;33m\u001b[0m\u001b[0m\n\u001b[0m\u001b[0;32m      7\u001b[0m \u001b[0mImage\u001b[0m\u001b[1;33m(\u001b[0m\u001b[0mgraph\u001b[0m\u001b[1;33m.\u001b[0m\u001b[0mcreate_png\u001b[0m\u001b[1;33m(\u001b[0m\u001b[1;33m)\u001b[0m\u001b[1;33m)\u001b[0m\u001b[1;33m\u001b[0m\u001b[1;33m\u001b[0m\u001b[0m\n",
      "\u001b[1;32m~\\anaconda3\\lib\\site-packages\\pydotplus\\graphviz.py\u001b[0m in \u001b[0;36m<lambda>\u001b[1;34m(path, f, prog)\u001b[0m\n\u001b[0;32m   1808\u001b[0m                 \u001b[1;32mlambda\u001b[0m \u001b[0mpath\u001b[0m\u001b[1;33m,\u001b[0m\u001b[1;33m\u001b[0m\u001b[1;33m\u001b[0m\u001b[0m\n\u001b[0;32m   1809\u001b[0m                 \u001b[0mf\u001b[0m\u001b[1;33m=\u001b[0m\u001b[0mfrmt\u001b[0m\u001b[1;33m,\u001b[0m\u001b[1;33m\u001b[0m\u001b[1;33m\u001b[0m\u001b[0m\n\u001b[1;32m-> 1810\u001b[1;33m                 \u001b[0mprog\u001b[0m\u001b[1;33m=\u001b[0m\u001b[0mself\u001b[0m\u001b[1;33m.\u001b[0m\u001b[0mprog\u001b[0m\u001b[1;33m:\u001b[0m \u001b[0mself\u001b[0m\u001b[1;33m.\u001b[0m\u001b[0mwrite\u001b[0m\u001b[1;33m(\u001b[0m\u001b[0mpath\u001b[0m\u001b[1;33m,\u001b[0m \u001b[0mformat\u001b[0m\u001b[1;33m=\u001b[0m\u001b[0mf\u001b[0m\u001b[1;33m,\u001b[0m \u001b[0mprog\u001b[0m\u001b[1;33m=\u001b[0m\u001b[0mprog\u001b[0m\u001b[1;33m)\u001b[0m\u001b[1;33m\u001b[0m\u001b[1;33m\u001b[0m\u001b[0m\n\u001b[0m\u001b[0;32m   1811\u001b[0m             )\n\u001b[0;32m   1812\u001b[0m \u001b[1;33m\u001b[0m\u001b[0m\n",
      "\u001b[1;32m~\\anaconda3\\lib\\site-packages\\pydotplus\\graphviz.py\u001b[0m in \u001b[0;36mwrite\u001b[1;34m(self, path, prog, format)\u001b[0m\n\u001b[0;32m   1916\u001b[0m \u001b[1;33m\u001b[0m\u001b[0m\n\u001b[0;32m   1917\u001b[0m             \u001b[1;32melse\u001b[0m\u001b[1;33m:\u001b[0m\u001b[1;33m\u001b[0m\u001b[1;33m\u001b[0m\u001b[0m\n\u001b[1;32m-> 1918\u001b[1;33m                 \u001b[0mfobj\u001b[0m\u001b[1;33m.\u001b[0m\u001b[0mwrite\u001b[0m\u001b[1;33m(\u001b[0m\u001b[0mself\u001b[0m\u001b[1;33m.\u001b[0m\u001b[0mcreate\u001b[0m\u001b[1;33m(\u001b[0m\u001b[0mprog\u001b[0m\u001b[1;33m,\u001b[0m \u001b[0mformat\u001b[0m\u001b[1;33m)\u001b[0m\u001b[1;33m)\u001b[0m\u001b[1;33m\u001b[0m\u001b[1;33m\u001b[0m\u001b[0m\n\u001b[0m\u001b[0;32m   1919\u001b[0m         \u001b[1;32mfinally\u001b[0m\u001b[1;33m:\u001b[0m\u001b[1;33m\u001b[0m\u001b[1;33m\u001b[0m\u001b[0m\n\u001b[0;32m   1920\u001b[0m             \u001b[1;32mif\u001b[0m \u001b[0mclose\u001b[0m\u001b[1;33m:\u001b[0m\u001b[1;33m\u001b[0m\u001b[1;33m\u001b[0m\u001b[0m\n",
      "\u001b[1;32m~\\anaconda3\\lib\\site-packages\\pydotplus\\graphviz.py\u001b[0m in \u001b[0;36mcreate\u001b[1;34m(self, prog, format)\u001b[0m\n\u001b[0;32m   1958\u001b[0m             \u001b[1;32mif\u001b[0m \u001b[0mself\u001b[0m\u001b[1;33m.\u001b[0m\u001b[0mprogs\u001b[0m \u001b[1;32mis\u001b[0m \u001b[1;32mNone\u001b[0m\u001b[1;33m:\u001b[0m\u001b[1;33m\u001b[0m\u001b[1;33m\u001b[0m\u001b[0m\n\u001b[0;32m   1959\u001b[0m                 raise InvocationException(\n\u001b[1;32m-> 1960\u001b[1;33m                     'GraphViz\\'s executables not found')\n\u001b[0m\u001b[0;32m   1961\u001b[0m \u001b[1;33m\u001b[0m\u001b[0m\n\u001b[0;32m   1962\u001b[0m         \u001b[1;32mif\u001b[0m \u001b[0mprog\u001b[0m \u001b[1;32mnot\u001b[0m \u001b[1;32min\u001b[0m \u001b[0mself\u001b[0m\u001b[1;33m.\u001b[0m\u001b[0mprogs\u001b[0m\u001b[1;33m:\u001b[0m\u001b[1;33m\u001b[0m\u001b[1;33m\u001b[0m\u001b[0m\n",
      "\u001b[1;31mInvocationException\u001b[0m: GraphViz's executables not found"
     ]
    }
   ],
   "source": [
    "dot_data = StringIO()\n",
    "export_graphviz(clf, out_file=dot_data,  \n",
    "                filled=True, rounded=True,\n",
    "                special_characters=True,feature_names = feature_cols,class_names=['0','1'])\n",
    "graph = pydotplus.graph_from_dot_data(dot_data.getvalue())  \n",
    "graph.write_png('titanic_depth3.png')\n",
    "Image(graph.create_png())"
   ]
  },
  {
   "cell_type": "markdown",
   "metadata": {},
   "source": [
    "**Using this visualization and the scoring metrics, write a sentence comparing the model with no restrictions to the model with `max_depth=3`**"
   ]
  },
  {
   "cell_type": "markdown",
   "metadata": {},
   "source": [
    "answer:"
   ]
  },
  {
   "cell_type": "markdown",
   "metadata": {},
   "source": [
    "## Tuning Hyperparameters\n",
    "\n",
    "As you can see above, limiting the tree depth greatly improved our test performance and prevented our model from over fitting. \n",
    "\n",
    "- Is a max-depth of 3 the best parameter? \n",
    "\n",
    "- How would we figure this out?"
   ]
  },
  {
   "cell_type": "code",
   "execution_count": 14,
   "metadata": {},
   "outputs": [],
   "source": [
    "# Import Grid search\n",
    "from sklearn.model_selection import GridSearchCV\n",
    "\n"
   ]
  },
  {
   "cell_type": "markdown",
   "metadata": {},
   "source": [
    "## Cross-Validation\n",
    "\n",
    "\n",
    "Earlier we mentioned some of the potential issues with the train/test split method. In order to avoid this, we can perform something called **cross validation**. It’s very similar to train/test split, but it’s applied to more subsets. Meaning, we split our data into k subsets, and train on k-1 one of those subset. What we do is to hold the last subset for test. We’re able to do it for each of the subsets.\n"
   ]
  },
  {
   "cell_type": "markdown",
   "metadata": {},
   "source": [
    "<img src='./images/tts_cv.png' /> "
   ]
  },
  {
   "cell_type": "markdown",
   "metadata": {},
   "source": [
    "### K-Folds Cross Validation\n",
    "\n",
    "In K-Folds Cross Validation we split our data into k different subsets (or folds). We use k-1 subsets to train our data and leave the last subset (or the last fold) as test data. We then average the model against each of the folds and then finalize our model. After that we test it against the test set."
   ]
  },
  {
   "cell_type": "markdown",
   "metadata": {},
   "source": [
    "### Create Parameter Candidates\n",
    "\n",
    "\n",
    "Before looking for which combination of parameter values produces the most accurate model, we must specify the different candidate values we want to try. In the code below we have a number of candidate parameter values, including different values for min_samples_leaf and max_depth. The grid search will try all combinations of parameter values and select the set of parameters which provides the most accurate model."
   ]
  },
  {
   "cell_type": "code",
   "execution_count": 15,
   "metadata": {},
   "outputs": [],
   "source": [
    "# creating our parameters to test\n",
    "# create a parameters dictionare that will loop over a range of 1-20 for the 'max_depth' parameter\n",
    "parameters={'max_depth': list(range(1,21))}\n"
   ]
  },
  {
   "cell_type": "code",
   "execution_count": 17,
   "metadata": {},
   "outputs": [
    {
     "data": {
      "text/plain": [
       "GridSearchCV(cv=10, error_score=nan,\n",
       "             estimator=DecisionTreeClassifier(ccp_alpha=0.0, class_weight=None,\n",
       "                                              criterion='gini', max_depth=None,\n",
       "                                              max_features=None,\n",
       "                                              max_leaf_nodes=None,\n",
       "                                              min_impurity_decrease=0.0,\n",
       "                                              min_impurity_split=None,\n",
       "                                              min_samples_leaf=1,\n",
       "                                              min_samples_split=2,\n",
       "                                              min_weight_fraction_leaf=0.0,\n",
       "                                              presort='deprecated',\n",
       "                                              random_state=1, splitter='best'),\n",
       "             iid='deprecated', n_jobs=None,\n",
       "             param_grid={'max_depth': [1, 2, 3, 4, 5, 6, 7, 8, 9, 10, 11, 12,\n",
       "                                       13, 14, 15, 16, 17, 18, 19, 20]},\n",
       "             pre_dispatch='2*n_jobs', refit=True, return_train_score=False,\n",
       "             scoring='f1', verbose=0)"
      ]
     },
     "execution_count": 17,
     "metadata": {},
     "output_type": "execute_result"
    }
   ],
   "source": [
    "#create our estimaor\n",
    "tree = DecisionTreeClassifier(random_state=1)\n",
    "\n",
    "#create the instance of GridSearchCV\n",
    "grid_tree = GridSearchCV(tree, parameters, cv=10, scoring='f1')\n",
    "\n",
    "#fit the Gridsearch to our data\n",
    "grid_tree.fit(X_train,y_train)"
   ]
  },
  {
   "cell_type": "code",
   "execution_count": 18,
   "metadata": {},
   "outputs": [
    {
     "name": "stdout",
     "output_type": "stream",
     "text": [
      "0.720581836711766\n",
      "{'max_depth': 4}\n",
      "DecisionTreeClassifier(ccp_alpha=0.0, class_weight=None, criterion='gini',\n",
      "                       max_depth=4, max_features=None, max_leaf_nodes=None,\n",
      "                       min_impurity_decrease=0.0, min_impurity_split=None,\n",
      "                       min_samples_leaf=1, min_samples_split=2,\n",
      "                       min_weight_fraction_leaf=0.0, presort='deprecated',\n",
      "                       random_state=1, splitter='best')\n"
     ]
    }
   ],
   "source": [
    "# examine the best model\n",
    "\n",
    "# Single best score achieved across all params (min_samples_split)\n",
    "print(grid_tree.best_score_)\n",
    "\n",
    "# Dictionary containing the parameters (min_samples_split) used to generate that score\n",
    "print(grid_tree.best_params_)\n",
    "\n",
    "# Actual model object fit with those best parameters\n",
    "# Shows default parameters that we did not specify\n",
    "print(grid_tree.best_estimator_)"
   ]
  },
  {
   "cell_type": "markdown",
   "metadata": {},
   "source": [
    "**Now let's take that best model and see how it does on our testing data**"
   ]
  },
  {
   "cell_type": "code",
   "execution_count": 19,
   "metadata": {},
   "outputs": [
    {
     "name": "stdout",
     "output_type": "stream",
     "text": [
      "Accuracy: 0.7702702702702703\n"
     ]
    }
   ],
   "source": [
    "#Predict the response for test dataset\n",
    "y_pred = grid_tree.best_estimator_.predict(X_test)\n",
    "\n",
    "# Model Accuracy, how often is the classifier correct?\n",
    "print(\"Accuracy:\",metrics.f1_score(y_test, y_pred))"
   ]
  },
  {
   "cell_type": "markdown",
   "metadata": {},
   "source": [
    "## Let's vizualize our best Decision Tree"
   ]
  },
  {
   "cell_type": "code",
   "execution_count": null,
   "metadata": {},
   "outputs": [],
   "source": [
    "dot_data = StringIO()\n",
    "export_graphviz(grid_tree.best_estimator_, out_file=dot_data,  \n",
    "                filled=True, rounded=True,\n",
    "                special_characters=True,feature_names = feature_cols,class_names=['0','1'])\n",
    "graph = pydotplus.graph_from_dot_data(dot_data.getvalue())  \n",
    "graph.write_png('titanic_gs.png')\n",
    "Image(graph.create_png())"
   ]
  },
  {
   "cell_type": "markdown",
   "metadata": {},
   "source": [
    "## Working with different scorers\n",
    "\n",
    "The grid search object allows you to score the different models using different scoring metrics. Look into the documentation and see which parameters allow you to do this.  "
   ]
  },
  {
   "cell_type": "code",
   "execution_count": 30,
   "metadata": {},
   "outputs": [
    {
     "ename": "TypeError",
     "evalue": "__init__() missing 2 required positional arguments: 'estimator' and 'param_grid'",
     "output_type": "error",
     "traceback": [
      "\u001b[1;31m---------------------------------------------------------------------------\u001b[0m",
      "\u001b[1;31mTypeError\u001b[0m                                 Traceback (most recent call last)",
      "\u001b[1;32m<ipython-input-30-ca1c00363d91>\u001b[0m in \u001b[0;36m<module>\u001b[1;34m\u001b[0m\n\u001b[1;32m----> 1\u001b[1;33m \u001b[0mGridSearchCV\u001b[0m\u001b[1;33m(\u001b[0m\u001b[1;33m)\u001b[0m\u001b[1;33m\u001b[0m\u001b[1;33m\u001b[0m\u001b[0m\n\u001b[0m",
      "\u001b[1;31mTypeError\u001b[0m: __init__() missing 2 required positional arguments: 'estimator' and 'param_grid'"
     ]
    }
   ],
   "source": [
    "GridSearchCV()"
   ]
  },
  {
   "cell_type": "markdown",
   "metadata": {},
   "source": [
    "The scorers can be either be one of the predefined metric strings or a scorer callable, like the one returned by make_scorer"
   ]
  },
  {
   "cell_type": "code",
   "execution_count": 31,
   "metadata": {},
   "outputs": [],
   "source": [
    "\n",
    "scoring = {'AUC': 'roc_auc', 'Accuracy': make_scorer(accuracy_score)}\n",
    "\n",
    "# Setting refit='AUC', refits an estimator on the whole dataset with the\n",
    "# parameter setting that has the best cross-validated AUC score.\n",
    "# That estimator is made available at ``gs.best_estimator_`` along with\n",
    "# parameters like ``gs.best_score_``, ``gs.best_params_`` and\n",
    "# ``gs.best_index_``\n",
    "gs = GridSearchCV(DecisionTreeClassifier(random_state=42),\n",
    "                  param_grid= parameters,\n",
    "                  scoring=scoring, cv=5, refit='AUC', return_train_score=True)\n",
    "gs.fit(X, y)\n",
    "results = gs.cv_results_"
   ]
  },
  {
   "cell_type": "code",
   "execution_count": 32,
   "metadata": {},
   "outputs": [
    {
     "data": {
      "text/plain": [
       "{'mean_fit_time': array([0.0083034 , 0.00330124, 0.0033999 , 0.00440121, 0.00399551,\n",
       "        0.0035985 , 0.00339851, 0.00339622, 0.00419779, 0.00519962,\n",
       "        0.00399957, 0.00400066, 0.00399799, 0.00439548, 0.00460443,\n",
       "        0.00380101, 0.00579829, 0.00459538, 0.00380011, 0.00419931]),\n",
       " 'std_fit_time': array([0.00723168, 0.00074931, 0.00048868, 0.0011975 , 0.00089085,\n",
       "        0.00080257, 0.00079949, 0.00079539, 0.00117258, 0.00342783,\n",
       "        0.00063219, 0.00063175, 0.00109536, 0.00135716, 0.00120326,\n",
       "        0.00075175, 0.00292294, 0.00184909, 0.00040091, 0.00074915]),\n",
       " 'mean_score_time': array([0.01329937, 0.00310259, 0.00279717, 0.0031002 , 0.00220137,\n",
       "        0.00300102, 0.00319943, 0.0038043 , 0.00279684, 0.00439849,\n",
       "        0.00419812, 0.00300088, 0.00359955, 0.00299869, 0.00259871,\n",
       "        0.00279655, 0.00519943, 0.00320058, 0.00279236, 0.00479565]),\n",
       " 'std_score_time': array([1.06175279e-02, 1.28868299e-03, 3.99149257e-04, 4.88127381e-04,\n",
       "        3.98402979e-04, 6.31825364e-04, 9.80961492e-04, 1.47184516e-03,\n",
       "        3.98880636e-04, 3.82460206e-03, 7.46951222e-04, 1.13649413e-05,\n",
       "        1.19405635e-03, 6.84390073e-07, 4.89420753e-04, 7.47492712e-04,\n",
       "        3.05805708e-03, 1.46876356e-03, 4.02256531e-04, 2.48080141e-03]),\n",
       " 'param_max_depth': masked_array(data=[1, 2, 3, 4, 5, 6, 7, 8, 9, 10, 11, 12, 13, 14, 15, 16,\n",
       "                    17, 18, 19, 20],\n",
       "              mask=[False, False, False, False, False, False, False, False,\n",
       "                    False, False, False, False, False, False, False, False,\n",
       "                    False, False, False, False],\n",
       "        fill_value='?',\n",
       "             dtype=object),\n",
       " 'params': [{'max_depth': 1},\n",
       "  {'max_depth': 2},\n",
       "  {'max_depth': 3},\n",
       "  {'max_depth': 4},\n",
       "  {'max_depth': 5},\n",
       "  {'max_depth': 6},\n",
       "  {'max_depth': 7},\n",
       "  {'max_depth': 8},\n",
       "  {'max_depth': 9},\n",
       "  {'max_depth': 10},\n",
       "  {'max_depth': 11},\n",
       "  {'max_depth': 12},\n",
       "  {'max_depth': 13},\n",
       "  {'max_depth': 14},\n",
       "  {'max_depth': 15},\n",
       "  {'max_depth': 16},\n",
       "  {'max_depth': 17},\n",
       "  {'max_depth': 18},\n",
       "  {'max_depth': 19},\n",
       "  {'max_depth': 20}],\n",
       " 'split0_test_AUC': array([0.79037433, 0.8217246 , 0.82319519, 0.8138369 , 0.81483957,\n",
       "        0.80574866, 0.75748663, 0.775     , 0.73897059, 0.77707219,\n",
       "        0.76410428, 0.7388369 , 0.73963904, 0.72479947, 0.7059492 ,\n",
       "        0.69906417, 0.73081551, 0.72747326, 0.72747326, 0.72747326]),\n",
       " 'split1_test_AUC': array([0.78756684, 0.81945187, 0.81838235, 0.81671123, 0.82319519,\n",
       "        0.81717914, 0.82934492, 0.83014706, 0.80260695, 0.79719251,\n",
       "        0.79458556, 0.79752674, 0.77413102, 0.77406417, 0.7709893 ,\n",
       "        0.76410428, 0.76504011, 0.76504011, 0.75855615, 0.75855615]),\n",
       " 'split2_test_AUC': array([0.76831551, 0.81029412, 0.8677139 , 0.85280749, 0.85735294,\n",
       "        0.87199198, 0.85641711, 0.85040107, 0.85073529, 0.82139037,\n",
       "        0.82881016, 0.80233957, 0.80367647, 0.82673797, 0.78502674,\n",
       "        0.80307487, 0.78696524, 0.78081551, 0.78816845, 0.78816845]),\n",
       " 'split3_test_AUC': array([0.72139037, 0.75240642, 0.81510695, 0.80762032, 0.80407754,\n",
       "        0.78215241, 0.7776738 , 0.76530749, 0.75046791, 0.7381016 ,\n",
       "        0.69779412, 0.71530749, 0.69953209, 0.69759358, 0.71584225,\n",
       "        0.7065508 , 0.70715241, 0.69839572, 0.70354278, 0.70354278]),\n",
       " 'split4_test_AUC': array([0.76207501, 0.82987048, 0.88376956, 0.9046816 , 0.89166217,\n",
       "        0.84828656, 0.82669995, 0.80936319, 0.79917701, 0.80302213,\n",
       "        0.81907717, 0.8048435 , 0.79519698, 0.79364544, 0.78872099,\n",
       "        0.78993524, 0.78528063, 0.78528063, 0.78528063, 0.78528063]),\n",
       " 'mean_test_AUC': array([0.76594441, 0.8067495 , 0.84163359, 0.83913151, 0.83822548,\n",
       "        0.82507175, 0.80952448, 0.80604376, 0.78839155, 0.78735576,\n",
       "        0.78087426, 0.77177084, 0.76243512, 0.76336813, 0.7533057 ,\n",
       "        0.75254587, 0.75505078, 0.75140104, 0.75260425, 0.75260425]),\n",
       " 'std_test_AUC': array([0.02477905, 0.02787801, 0.02842492, 0.03638485, 0.03212548,\n",
       "        0.03168022, 0.03635703, 0.0321954 , 0.04021388, 0.02839815,\n",
       "        0.04717808, 0.03732122, 0.03843809, 0.0466062 , 0.03526847,\n",
       "        0.04256895, 0.03134889, 0.03341007, 0.03288336, 0.03288336]),\n",
       " 'rank_test_AUC': array([12,  6,  1,  2,  3,  4,  5,  7,  8,  9, 10, 11, 14, 13, 16, 19, 15,\n",
       "        20, 17, 17]),\n",
       " 'split0_train_AUC': array([0.75982765, 0.83597414, 0.87788507, 0.89929485, 0.91423104,\n",
       "        0.93187224, 0.9460212 , 0.96233083, 0.9741014 , 0.98462833,\n",
       "        0.99042359, 0.99544   , 0.99675901, 0.99821201, 0.99901179,\n",
       "        0.99917091, 0.99922116, 0.99941377, 0.99942634, 0.99942634]),\n",
       " 'split1_train_AUC': array([0.76052693, 0.83566009, 0.88159504, 0.90233485, 0.91811269,\n",
       "        0.93745813, 0.95084081, 0.96460455, 0.97883308, 0.98819175,\n",
       "        0.99198127, 0.9945816 , 0.99703956, 0.99777653, 0.99815758,\n",
       "        0.998614  , 0.99897411, 0.9991416 , 0.99922535, 0.9994389 ]),\n",
       " 'split2_train_AUC': array([0.76534236, 0.81339609, 0.85881599, 0.88696737, 0.89830665,\n",
       "        0.91313396, 0.93030618, 0.94143608, 0.95686219, 0.9668992 ,\n",
       "        0.97771087, 0.98564585, 0.99234557, 0.99498359, 0.99764254,\n",
       "        0.99849675, 0.99878986, 0.99927141, 0.99929234, 0.99938865]),\n",
       " 'split3_train_AUC': array([0.77707105, 0.83101635, 0.86809092, 0.89208847, 0.90541254,\n",
       "        0.92290299, 0.9410676 , 0.9526623 , 0.96074802, 0.9710949 ,\n",
       "        0.97977522, 0.98630326, 0.98989599, 0.99284386, 0.99654964,\n",
       "        0.99739967, 0.99830413, 0.9991416 , 0.99925884, 0.99938865]),\n",
       " 'split4_train_AUC': array([0.76691176, 0.82855949, 0.85677223, 0.88178894, 0.9038018 ,\n",
       "        0.92625752, 0.94493232, 0.96449281, 0.97656668, 0.98518967,\n",
       "        0.99234626, 0.99583473, 0.99757269, 0.99864639, 0.9990015 ,\n",
       "        0.99924799, 0.99924799, 0.99924799, 0.99924799, 0.99924799]),\n",
       " 'mean_train_AUC': array([0.76593595, 0.82892123, 0.86863185, 0.8924949 , 0.90797294,\n",
       "        0.92632497, 0.94263362, 0.95710532, 0.96942227, 0.97920077,\n",
       "        0.98644744, 0.99156109, 0.99472257, 0.99649248, 0.99807261,\n",
       "        0.99858586, 0.99890745, 0.99924327, 0.99929017, 0.99937811]),\n",
       " 'std_train_AUC': array([6.19457554e-03, 8.25477053e-03, 9.90919319e-03, 7.59474061e-03,\n",
       "        7.20235527e-03, 8.25150380e-03, 6.90704074e-03, 8.98203585e-03,\n",
       "        8.88254854e-03, 8.52287162e-03, 6.35728211e-03, 4.58406396e-03,\n",
       "        3.05236879e-03, 2.22863530e-03, 9.22660424e-04, 6.62794137e-04,\n",
       "        3.45439809e-04, 1.00558368e-04, 7.14260979e-05, 6.80782924e-05]),\n",
       " 'split0_test_Accuracy': array([0.80337079, 0.74719101, 0.81460674, 0.76404494, 0.82022472,\n",
       "        0.80898876, 0.80898876, 0.79213483, 0.7752809 , 0.79213483,\n",
       "        0.74157303, 0.73033708, 0.74719101, 0.7247191 , 0.7247191 ,\n",
       "        0.71910112, 0.75280899, 0.74719101, 0.74719101, 0.74719101]),\n",
       " 'split1_test_Accuracy': array([0.80337079, 0.79213483, 0.81460674, 0.8258427 , 0.8258427 ,\n",
       "        0.81460674, 0.82022472, 0.83146067, 0.79213483, 0.78089888,\n",
       "        0.81460674, 0.80898876, 0.79213483, 0.79213483, 0.79213483,\n",
       "        0.78089888, 0.78651685, 0.78651685, 0.78089888, 0.78089888]),\n",
       " 'split2_test_Accuracy': array([0.78651685, 0.78651685, 0.81460674, 0.80898876, 0.81460674,\n",
       "        0.8258427 , 0.80898876, 0.84269663, 0.81460674, 0.80337079,\n",
       "        0.8258427 , 0.78651685, 0.79213483, 0.82022472, 0.79213483,\n",
       "        0.80337079, 0.79213483, 0.78089888, 0.79213483, 0.79213483]),\n",
       " 'split3_test_Accuracy': array([0.75280899, 0.75280899, 0.78089888, 0.78651685, 0.76404494,\n",
       "        0.78089888, 0.78089888, 0.78651685, 0.78089888, 0.75842697,\n",
       "        0.76404494, 0.76404494, 0.75842697, 0.74719101, 0.74719101,\n",
       "        0.74157303, 0.74157303, 0.73033708, 0.73595506, 0.73595506]),\n",
       " 'split4_test_Accuracy': array([0.78531073, 0.78531073, 0.8079096 , 0.84745763, 0.84745763,\n",
       "        0.82485876, 0.83050847, 0.81355932, 0.82485876, 0.82485876,\n",
       "        0.81355932, 0.8079096 , 0.80225989, 0.80225989, 0.80225989,\n",
       "        0.80225989, 0.79661017, 0.79661017, 0.79661017, 0.79661017]),\n",
       " 'mean_test_Accuracy': array([0.78627563, 0.77279248, 0.80652574, 0.80657018, 0.81443535,\n",
       "        0.81103917, 0.80992192, 0.81327366, 0.79755602, 0.79193804,\n",
       "        0.79192535, 0.77955945, 0.77842951, 0.77730591, 0.77168793,\n",
       "        0.76944074, 0.77392878, 0.7683108 , 0.77055799, 0.77055799]),\n",
       " 'std_test_Accuracy': array([0.01846886, 0.01883596, 0.01307332, 0.02918765, 0.02754392,\n",
       "        0.01634316, 0.01657729, 0.02172251, 0.01917914, 0.02217826,\n",
       "        0.03300162, 0.02960325, 0.02153836, 0.03565642, 0.03025547,\n",
       "        0.03367586, 0.02234863, 0.02521437, 0.0244728 , 0.0244728 ]),\n",
       " 'rank_test_Accuracy': array([10, 15,  6,  5,  1,  3,  4,  2,  7,  8,  9, 11, 12, 13, 16, 19, 14,\n",
       "        20, 17, 17]),\n",
       " 'split0_train_Accuracy': array([0.78199719, 0.79606188, 0.82278481, 0.83544304, 0.85232068,\n",
       "        0.8649789 , 0.88326301, 0.90014065, 0.91983122, 0.92827004,\n",
       "        0.94233474, 0.95921238, 0.96343179, 0.97468354, 0.98030942,\n",
       "        0.98171589, 0.98171589, 0.98452883, 0.98452883, 0.98452883]),\n",
       " 'split1_train_Accuracy': array([0.78199719, 0.78481013, 0.82278481, 0.84528833, 0.85232068,\n",
       "        0.86919831, 0.89029536, 0.89873418, 0.92405063, 0.93670886,\n",
       "        0.95077356, 0.96202532, 0.9718706 , 0.97327707, 0.97327707,\n",
       "        0.97890295, 0.98030942, 0.98312236, 0.98312236, 0.9859353 ]),\n",
       " 'split2_train_Accuracy': array([0.7862166 , 0.79746835, 0.82559775, 0.83684951, 0.84106892,\n",
       "        0.84950774, 0.86357243, 0.87482419, 0.89451477, 0.907173  ,\n",
       "        0.91983122, 0.93248945, 0.94655415, 0.95780591, 0.97046414,\n",
       "        0.97749648, 0.97749648, 0.98312236, 0.98312236, 0.98452883]),\n",
       " 'split3_train_Accuracy': array([0.79465541, 0.80590717, 0.83966245, 0.84388186, 0.85654008,\n",
       "        0.8790436 , 0.89592124, 0.907173  , 0.92123769, 0.93530239,\n",
       "        0.94374121, 0.94936709, 0.95639944, 0.96343179, 0.9718706 ,\n",
       "        0.97468354, 0.97468354, 0.98171589, 0.98312236, 0.98452883]),\n",
       " 'split4_train_Accuracy': array([0.78651685, 0.78651685, 0.81460674, 0.84269663, 0.85955056,\n",
       "        0.88202247, 0.8988764 , 0.91011236, 0.92977528, 0.93960674,\n",
       "        0.95224719, 0.96207865, 0.96910112, 0.9761236 , 0.97893258,\n",
       "        0.98174157, 0.98174157, 0.98174157, 0.98174157, 0.98174157]),\n",
       " 'mean_train_Accuracy': array([0.78627665, 0.79415288, 0.82508731, 0.84083187, 0.85236018,\n",
       "        0.8689502 , 0.88638569, 0.89819687, 0.91788192, 0.92941221,\n",
       "        0.94178558, 0.95303458, 0.96147142, 0.96906438, 0.97497076,\n",
       "        0.97890809, 0.97918938, 0.9828462 , 0.9831275 , 0.98425267]),\n",
       " 'std_train_Accuracy': array([0.00462369, 0.00772523, 0.0081626 , 0.00393798, 0.00627167,\n",
       "        0.01154646, 0.01258909, 0.01243301, 0.01217037, 0.01172818,\n",
       "        0.01163055, 0.01128137, 0.00914821, 0.00717821, 0.00392394,\n",
       "        0.00267402, 0.00273203, 0.00104705, 0.00088143, 0.00136862])}"
      ]
     },
     "execution_count": 32,
     "metadata": {},
     "output_type": "execute_result"
    }
   ],
   "source": [
    "results"
   ]
  },
  {
   "cell_type": "code",
   "execution_count": 33,
   "metadata": {
    "scrolled": true
   },
   "outputs": [
    {
     "data": {
      "text/plain": [
       "masked_array(data=[1, 2, 3, 4, 5, 6, 7, 8, 9, 10, 11, 12, 13, 14, 15, 16,\n",
       "                   17, 18, 19, 20],\n",
       "             mask=[False, False, False, False, False, False, False, False,\n",
       "                   False, False, False, False, False, False, False, False,\n",
       "                   False, False, False, False],\n",
       "       fill_value='?',\n",
       "            dtype=object)"
      ]
     },
     "execution_count": 33,
     "metadata": {},
     "output_type": "execute_result"
    }
   ],
   "source": [
    "results['param_max_depth']"
   ]
  },
  {
   "cell_type": "markdown",
   "metadata": {},
   "source": [
    "## How the depth of the trees affects the  the bias versus variance tradeoff.\n",
    "\n",
    "Below is a graph of the results across different `max_depth` values. "
   ]
  },
  {
   "cell_type": "code",
   "execution_count": 34,
   "metadata": {},
   "outputs": [
    {
     "data": {
      "image/png": "[encoded data removed]",
      "text/plain": [
       "<Figure size 936x936 with 1 Axes>"
      ]
     },
     "metadata": {
      "needs_background": "light"
     },
     "output_type": "display_data"
    }
   ],
   "source": [
    "\n",
    "\n",
    "\n",
    "\n",
    "plt.figure(figsize=(13, 13))\n",
    "plt.title(\"GridSearchCV evaluating using multiple scorers simultaneously\",\n",
    "          fontsize=16)\n",
    "\n",
    "plt.xlabel(\"max_depth\")\n",
    "plt.ylabel(\"Score\")\n",
    "\n",
    "ax = plt.gca()\n",
    "ax.set_xlim(0, 21)\n",
    "ax.set_ylim(0.65, 1.1)\n",
    "\n",
    "# Get the regular numpy array from the MaskedArray\n",
    "X_axis = np.array(results['param_max_depth'].data, dtype=float)\n",
    "\n",
    "for scorer, color in zip(sorted(scoring), ['g', 'k']):\n",
    "    for sample, style in (('train', '--'), ('test', '-')):\n",
    "        sample_score_mean = results['mean_%s_%s' % (sample, scorer)]\n",
    "        sample_score_std = results['std_%s_%s' % (sample, scorer)]\n",
    "        ax.fill_between(X_axis, sample_score_mean - sample_score_std,\n",
    "                        sample_score_mean + sample_score_std,\n",
    "                        alpha=0.1 if sample == 'test' else 0, color=color)\n",
    "        ax.plot(X_axis, sample_score_mean, style, color=color,\n",
    "                alpha=1 if sample == 'test' else 0.7,\n",
    "                label=\"%s (%s)\" % (scorer, sample))\n",
    "\n",
    "    best_index = np.nonzero(results['rank_test_%s' % scorer] == 1)[0][0]\n",
    "    best_score = results['mean_test_%s' % scorer][best_index]\n",
    "\n",
    "    # Plot a dotted vertical line at the best score for that scorer marked by x\n",
    "    ax.plot([X_axis[best_index], ] * 2, [0, best_score],\n",
    "            linestyle='-.', color=color, marker='x', markeredgewidth=3, ms=8)\n",
    "\n",
    "    # Annotate the best score for that scorer\n",
    "    ax.annotate(\"%0.2f\" % best_score,\n",
    "                (X_axis[best_index], best_score + 0.005))\n",
    "\n",
    "plt.legend(loc=\"best\")\n",
    "plt.grid('off')\n",
    "plt.show();"
   ]
  },
  {
   "cell_type": "markdown",
   "metadata": {},
   "source": [
    "What happens to our model as we allow it to grow to deeper? "
   ]
  },
  {
   "cell_type": "markdown",
   "metadata": {},
   "source": [
    "___"
   ]
  },
  {
   "cell_type": "markdown",
   "metadata": {},
   "source": [
    "## Your turn\n",
    "\n",
    "Using the code examples from above, generate your own gridsearch model that tunes at least 3 different parameters for the decision tree. \n"
   ]
  },
  {
   "cell_type": "markdown",
   "metadata": {},
   "source": [
    "## Step 1:\n",
    "\n",
    "Instantiate your classifier and set any parameters you want to be consistent across all model fittings"
   ]
  },
  {
   "cell_type": "code",
   "execution_count": 36,
   "metadata": {},
   "outputs": [
    {
     "data": {
      "text/plain": [
       "DecisionTreeClassifier(ccp_alpha=0.0, class_weight=None, criterion='gini',\n",
       "                       max_depth=None, max_features=None, max_leaf_nodes=None,\n",
       "                       min_impurity_decrease=0.0, min_impurity_split=None,\n",
       "                       min_samples_leaf=1, min_samples_split=2,\n",
       "                       min_weight_fraction_leaf=0.0, presort='deprecated',\n",
       "                       random_state=1, splitter='best')"
      ]
     },
     "execution_count": 36,
     "metadata": {},
     "output_type": "execute_result"
    }
   ],
   "source": [
    "#create our estimaor\n",
    "dtree = DecisionTreeClassifier(random_state=1)\n",
    "dtree"
   ]
  },
  {
   "cell_type": "markdown",
   "metadata": {},
   "source": [
    "## Step 2:\n",
    "\n",
    "Create the grid of parameters you want to test."
   ]
  },
  {
   "cell_type": "code",
   "execution_count": 44,
   "metadata": {},
   "outputs": [],
   "source": [
    "# creating our parameters to test\n",
    "params={'min_samples_leaf': list(range(2,21)),\n",
    "            'max_leaf_nodes': list(range(2,30,2)),\n",
    "            'min_samples_split': list(range(2,10))}\n"
   ]
  },
  {
   "cell_type": "markdown",
   "metadata": {},
   "source": [
    "## Step 3 :\n",
    "    \n",
    "Create your GridSearch object and fit it"
   ]
  },
  {
   "cell_type": "code",
   "execution_count": 45,
   "metadata": {},
   "outputs": [],
   "source": [
    "\n",
    "#create the instance of GridSearchCV using the F1 metric for our scoring. \n",
    "grid_tree=GridSearchCV(dtree, params, cv=5, scoring='f1')\n",
    "\n"
   ]
  },
  {
   "cell_type": "code",
   "execution_count": 46,
   "metadata": {},
   "outputs": [
    {
     "data": {
      "text/plain": [
       "GridSearchCV(cv=5, error_score=nan,\n",
       "             estimator=DecisionTreeClassifier(ccp_alpha=0.0, class_weight=None,\n",
       "                                              criterion='gini', max_depth=None,\n",
       "                                              max_features=None,\n",
       "                                              max_leaf_nodes=None,\n",
       "                                              min_impurity_decrease=0.0,\n",
       "                                              min_impurity_split=None,\n",
       "                                              min_samples_leaf=1,\n",
       "                                              min_samples_split=2,\n",
       "                                              min_weight_fraction_leaf=0.0,\n",
       "                                              presort='deprecated',\n",
       "                                              random_state=1, splitter='best'),\n",
       "             iid='deprecated', n_jobs=None,\n",
       "             param_grid={'max_leaf_nodes': [2, 4, 6, 8, 10, 12, 14, 16, 18, 20,\n",
       "                                            22, 24, 26, 28],\n",
       "                         'min_samples_leaf': [2, 3, 4, 5, 6, 7, 8, 9, 10, 11,\n",
       "                                              12, 13, 14, 15, 16, 17, 18, 19,\n",
       "                                              20],\n",
       "                         'min_samples_split': [2, 3, 4, 5, 6, 7, 8, 9]},\n",
       "             pre_dispatch='2*n_jobs', refit=True, return_train_score=False,\n",
       "             scoring='f1', verbose=0)"
      ]
     },
     "execution_count": 46,
     "metadata": {},
     "output_type": "execute_result"
    }
   ],
   "source": [
    "#fit the Gridsearch to our data\n",
    "grid_tree.fit(X_train,y_train)"
   ]
  },
  {
   "cell_type": "markdown",
   "metadata": {},
   "source": [
    "## Step 4:\n",
    "\n",
    "Identify the best performing model"
   ]
  },
  {
   "cell_type": "code",
   "execution_count": 47,
   "metadata": {},
   "outputs": [
    {
     "name": "stdout",
     "output_type": "stream",
     "text": [
      "0.7522969903189071\n",
      "{'max_leaf_nodes': 22, 'min_samples_leaf': 3, 'min_samples_split': 2}\n",
      "DecisionTreeClassifier(ccp_alpha=0.0, class_weight=None, criterion='gini',\n",
      "                       max_depth=None, max_features=None, max_leaf_nodes=22,\n",
      "                       min_impurity_decrease=0.0, min_impurity_split=None,\n",
      "                       min_samples_leaf=3, min_samples_split=2,\n",
      "                       min_weight_fraction_leaf=0.0, presort='deprecated',\n",
      "                       random_state=1, splitter='best')\n"
     ]
    }
   ],
   "source": [
    "# examine the best model\n",
    "\n",
    "# Single best score achieved across all params (min_samples_split)\n",
    "print(grid_tree.best_score_)\n",
    "\n",
    "# Dictionary containing the parameters (min_samples_split) used to generate that score\n",
    "print(grid_tree.best_params_)\n",
    "\n",
    "# Actual model object fit with those best parameters\n",
    "# Shows default parameters that we did not specify\n",
    "print(grid_tree.best_estimator_)"
   ]
  },
  {
   "cell_type": "markdown",
   "metadata": {},
   "source": [
    "**Now let's take that best model and see how it does on our testing data**"
   ]
  },
  {
   "cell_type": "markdown",
   "metadata": {},
   "source": [
    "# Step 5: \n",
    "\n",
    "Evaluate that model against the test set"
   ]
  },
  {
   "cell_type": "code",
   "execution_count": 48,
   "metadata": {},
   "outputs": [
    {
     "name": "stdout",
     "output_type": "stream",
     "text": [
      "Accuracy: 0.7831325301204819\n"
     ]
    }
   ],
   "source": [
    "#Predict the response for test dataset\n",
    "y_preds = grid_tree.best_estimator_.predict(X_test)\n",
    "\n",
    "# Model Accuracy, how often is the classifier correct?\n",
    "print(\"Accuracy:\",metrics.f1_score(y_test, y_preds))"
   ]
  },
  {
   "cell_type": "markdown",
   "metadata": {},
   "source": [
    "# Step 6:\n",
    "\n",
    "Using pickle, save the model to a file to use for later.  "
   ]
  },
  {
   "cell_type": "code",
   "execution_count": null,
   "metadata": {},
   "outputs": [],
   "source": []
  }
 ],
 "metadata": {
  "kernelspec": {
   "display_name": "Python 3",
   "language": "python",
   "name": "python3"
  },
  "language_info": {
   "codemirror_mode": {
    "name": "ipython",
    "version": 3
   },
   "file_extension": ".py",
   "mimetype": "text/x-python",
   "name": "python",
   "nbconvert_exporter": "python",
   "pygments_lexer": "ipython3",
   "version": "3.7.7"
  }
 },
 "nbformat": 4,
 "nbformat_minor": 2
}
