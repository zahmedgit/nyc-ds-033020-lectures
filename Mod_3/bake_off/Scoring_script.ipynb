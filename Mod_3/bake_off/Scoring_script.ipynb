{
 "cells": [
  {
   "cell_type": "code",
   "execution_count": 1,
   "metadata": {},
   "outputs": [],
   "source": [
    "import pandas as pd\n",
    "import numpy as np\n",
    "from sklearn import metrics\n",
    "import time\n",
    "import os\n",
    "import glob\n",
    "import re"
   ]
  },
  {
   "cell_type": "code",
   "execution_count": 2,
   "metadata": {},
   "outputs": [],
   "source": [
    "actuals = pd.read_csv('answers.csv', names = ['answers'], header=0, index_col=0)\n"
   ]
  },
  {
   "cell_type": "code",
   "execution_count": 3,
   "metadata": {},
   "outputs": [],
   "source": [
    "actuals.reset_index(drop=True, inplace =True)"
   ]
  },
  {
   "cell_type": "code",
   "execution_count": 4,
   "metadata": {},
   "outputs": [
    {
     "data": {
      "text/plain": [
       "(7500, 1)"
      ]
     },
     "execution_count": 4,
     "metadata": {},
     "output_type": "execute_result"
    }
   ],
   "source": [
    "actuals.shape"
   ]
  },
  {
   "cell_type": "code",
   "execution_count": 7,
   "metadata": {},
   "outputs": [
    {
     "data": {
      "text/html": [
       "<div>\n",
       "<style scoped>\n",
       "    .dataframe tbody tr th:only-of-type {\n",
       "        vertical-align: middle;\n",
       "    }\n",
       "\n",
       "    .dataframe tbody tr th {\n",
       "        vertical-align: top;\n",
       "    }\n",
       "\n",
       "    .dataframe thead th {\n",
       "        text-align: right;\n",
       "    }\n",
       "</style>\n",
       "<table border=\"1\" class=\"dataframe\">\n",
       "  <thead>\n",
       "    <tr style=\"text-align: right;\">\n",
       "      <th></th>\n",
       "      <th>answers</th>\n",
       "    </tr>\n",
       "  </thead>\n",
       "  <tbody>\n",
       "    <tr>\n",
       "      <th>0</th>\n",
       "      <td>0</td>\n",
       "    </tr>\n",
       "    <tr>\n",
       "      <th>1</th>\n",
       "      <td>0</td>\n",
       "    </tr>\n",
       "    <tr>\n",
       "      <th>2</th>\n",
       "      <td>1</td>\n",
       "    </tr>\n",
       "    <tr>\n",
       "      <th>3</th>\n",
       "      <td>0</td>\n",
       "    </tr>\n",
       "    <tr>\n",
       "      <th>4</th>\n",
       "      <td>0</td>\n",
       "    </tr>\n",
       "    <tr>\n",
       "      <th>5</th>\n",
       "      <td>1</td>\n",
       "    </tr>\n",
       "    <tr>\n",
       "      <th>6</th>\n",
       "      <td>0</td>\n",
       "    </tr>\n",
       "    <tr>\n",
       "      <th>7</th>\n",
       "      <td>0</td>\n",
       "    </tr>\n",
       "    <tr>\n",
       "      <th>8</th>\n",
       "      <td>0</td>\n",
       "    </tr>\n",
       "    <tr>\n",
       "      <th>9</th>\n",
       "      <td>1</td>\n",
       "    </tr>\n",
       "    <tr>\n",
       "      <th>10</th>\n",
       "      <td>0</td>\n",
       "    </tr>\n",
       "    <tr>\n",
       "      <th>11</th>\n",
       "      <td>0</td>\n",
       "    </tr>\n",
       "    <tr>\n",
       "      <th>12</th>\n",
       "      <td>0</td>\n",
       "    </tr>\n",
       "    <tr>\n",
       "      <th>13</th>\n",
       "      <td>0</td>\n",
       "    </tr>\n",
       "    <tr>\n",
       "      <th>14</th>\n",
       "      <td>0</td>\n",
       "    </tr>\n",
       "    <tr>\n",
       "      <th>15</th>\n",
       "      <td>1</td>\n",
       "    </tr>\n",
       "    <tr>\n",
       "      <th>16</th>\n",
       "      <td>0</td>\n",
       "    </tr>\n",
       "    <tr>\n",
       "      <th>17</th>\n",
       "      <td>0</td>\n",
       "    </tr>\n",
       "    <tr>\n",
       "      <th>18</th>\n",
       "      <td>0</td>\n",
       "    </tr>\n",
       "    <tr>\n",
       "      <th>19</th>\n",
       "      <td>0</td>\n",
       "    </tr>\n",
       "  </tbody>\n",
       "</table>\n",
       "</div>"
      ],
      "text/plain": [
       "    answers\n",
       "0         0\n",
       "1         0\n",
       "2         1\n",
       "3         0\n",
       "4         0\n",
       "5         1\n",
       "6         0\n",
       "7         0\n",
       "8         0\n",
       "9         1\n",
       "10        0\n",
       "11        0\n",
       "12        0\n",
       "13        0\n",
       "14        0\n",
       "15        1\n",
       "16        0\n",
       "17        0\n",
       "18        0\n",
       "19        0"
      ]
     },
     "execution_count": 7,
     "metadata": {},
     "output_type": "execute_result"
    }
   ],
   "source": [
    "actuals.head(20)"
   ]
  },
  {
   "cell_type": "code",
   "execution_count": 6,
   "metadata": {},
   "outputs": [
    {
     "data": {
      "text/plain": [
       "answers    int64\n",
       "dtype: object"
      ]
     },
     "execution_count": 6,
     "metadata": {},
     "output_type": "execute_result"
    }
   ],
   "source": [
    "actuals.dtypes"
   ]
  },
  {
   "cell_type": "code",
   "execution_count": 14,
   "metadata": {},
   "outputs": [
    {
     "data": {
      "text/plain": [
       "answers    0.2212\n",
       "dtype: float64"
      ]
     },
     "execution_count": 14,
     "metadata": {},
     "output_type": "execute_result"
    }
   ],
   "source": [
    "actuals.mean()"
   ]
  },
  {
   "cell_type": "code",
   "execution_count": 8,
   "metadata": {},
   "outputs": [],
   "source": [
    "path = '/Users/swilson5/Documents/DSC/ds-033020/nyc-ds-033020-lectures/Mod_3/bake_off/answers'\n",
    "extension = 'csv'"
   ]
  },
  {
   "cell_type": "code",
   "execution_count": 9,
   "metadata": {},
   "outputs": [
    {
     "name": "stdout",
     "output_type": "stream",
     "text": [
      "['results_GAAC.csv', 'default_preds_DKZA.csv', 'JBJB_Bakeoff_Results.csv', 'default_finalpreds_ASKM.csv', 'predictions_RMFD.csv', 'predictions_CF_JS .csv', 'Default_predictions_AH.csv', 'validation_prediction_MOSR.csv']\n"
     ]
    }
   ],
   "source": [
    "\n",
    "# create a list of all file names\n",
    "# starting with testlabels_ from the file\n",
    "\n",
    "\n",
    "\n",
    "os.chdir(path)\n",
    "files = glob.glob('*.{}'.format(extension))\n",
    "print(files)"
   ]
  },
  {
   "cell_type": "code",
   "execution_count": 10,
   "metadata": {},
   "outputs": [],
   "source": [
    "#create dictionary to store results\n",
    "results = {}\n"
   ]
  },
  {
   "cell_type": "code",
   "execution_count": 11,
   "metadata": {},
   "outputs": [
    {
     "name": "stdout",
     "output_type": "stream",
     "text": [
      "GAAC\n",
      "DKZA\n",
      "Results\n",
      "ASKM\n",
      "RMFD\n",
      "JS \n",
      "AH\n",
      "MOSR\n"
     ]
    }
   ],
   "source": [
    "for file in files:\n",
    "    name = file.split(\"_\")[-1].split(\".\")[0]\n",
    "    print(name)\n",
    "    guesses = pd.read_csv(file, header=None, index_col=0 )\n",
    "    # guesses.sort_index(inplace=True)\n",
    "\n",
    "    if guesses.shape[0] != 7500:\n",
    "        guesses = pd.read_csv(file, index_col=0 )\n",
    "        if guesses.shape[0] != 7500:\n",
    "            print(name, \"not the correct size\", guesses.shape[0]  )\n",
    "            continue\n",
    "    f1 = metrics.f1_score(actuals['answers'],guesses)\n",
    "    acc = metrics.accuracy_score(actuals['answers'],guesses)\n",
    "    results[name]= [acc, f1]\n"
   ]
  },
  {
   "cell_type": "code",
   "execution_count": 12,
   "metadata": {},
   "outputs": [],
   "source": [
    "\n",
    "sorted_results = sorted(results.items(), key=lambda x: x[1][1])"
   ]
  },
  {
   "cell_type": "code",
   "execution_count": 13,
   "metadata": {},
   "outputs": [
    {
     "name": "stdout",
     "output_type": "stream",
     "text": [
      "Now printing the results with in ascending order\n",
      "DKZA achieved an F1 of 0.39966694421315574 and a Accuracy of  0.8077333333333333\n",
      "\n",
      "GAAC achieved an F1 of 0.4084613447494334 and a Accuracy of  0.6868\n",
      "\n",
      "RMFD achieved an F1 of 0.5484949832775919 and a Accuracy of  0.784\n",
      "\n",
      "JS  achieved an F1 of 0.5520287054926856 and a Accuracy of  0.7836\n",
      "\n",
      "MOSR achieved an F1 of 0.5535094742460634 and a Accuracy of  0.7769333333333334\n",
      "\n",
      "ASKM achieved an F1 of 0.5587424158852731 and a Accuracy of  0.7866666666666666\n",
      "\n",
      "AH achieved an F1 of 0.5590844062947067 and a Accuracy of  0.7945333333333333\n",
      "\n",
      "RESULTS achieved an F1 of 0.5622851097593229 and a Accuracy of  0.7793333333333333\n",
      "\n"
     ]
    }
   ],
   "source": [
    "\n",
    "\n",
    "print('Now printing the results with in ascending order')\n",
    "\n",
    "for k,v in sorted_results:\n",
    "#     print(v[1])\n",
    "    print('{} achieved an F1 of {} and a Accuracy of  {}\\n'.format(\n",
    "          k.upper(), v[1], v[0]))\n",
    "\n",
    "    time.sleep(2)\n"
   ]
  },
  {
   "cell_type": "code",
   "execution_count": null,
   "metadata": {},
   "outputs": [],
   "source": []
  }
 ],
 "metadata": {
  "kernelspec": {
   "display_name": "Python 3",
   "language": "python",
   "name": "python3"
  },
  "language_info": {
   "codemirror_mode": {
    "name": "ipython",
    "version": 3
   },
   "file_extension": ".py",
   "mimetype": "text/x-python",
   "name": "python",
   "nbconvert_exporter": "python",
   "pygments_lexer": "ipython3",
   "version": "3.7.3"
  }
 },
 "nbformat": 4,
 "nbformat_minor": 2
}
