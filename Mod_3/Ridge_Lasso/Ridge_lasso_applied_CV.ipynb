{
 "cells": [
  {
   "cell_type": "markdown",
   "metadata": {},
   "source": [
    "# Cross-Validation with Ridge and Lasso"
   ]
  },
  {
   "cell_type": "code",
   "execution_count": 1,
   "metadata": {},
   "outputs": [],
   "source": [
    "import numpy as np\n",
    "import matplotlib.pyplot as plt\n",
    "import seaborn as sns\n",
    "import pandas as pd\n",
    "import statsmodels.api as sm\n",
    "from statsmodels.formula.api import ols\n",
    "pd.set_option('display.max_columns', 100)\n",
    "pd.set_option('display.max_rows', 200)\n",
    "#SK LEARN\n",
    "from sklearn.preprocessing import StandardScaler\n",
    "\n",
    "from sklearn.linear_model import LinearRegression\n",
    "from sklearn.preprocessing import PolynomialFeatures\n",
    "from sklearn.model_selection import train_test_split\n",
    "import sklearn.metrics as metrics\n",
    "from sklearn.metrics import mean_squared_error\n"
   ]
  },
  {
   "cell_type": "markdown",
   "metadata": {},
   "source": [
    "We will euse the Kings County housing dataset in this notebook"
   ]
  },
  {
   "cell_type": "code",
   "execution_count": 2,
   "metadata": {},
   "outputs": [],
   "source": [
    "df = pd.read_csv('https://raw.githubusercontent.com/learn-co-curriculum/dsc-mod-2-project-v2-1/master/kc_house_data.csv',index_col=0)"
   ]
  },
  {
   "cell_type": "markdown",
   "metadata": {},
   "source": [
    "## Data Cleaning and Prep"
   ]
  },
  {
   "cell_type": "code",
   "execution_count": 3,
   "metadata": {},
   "outputs": [],
   "source": [
    "df['date'] = pd.to_datetime(df['date'])\n",
    "\n",
    "df['yr_sold']=  df['date'].map(lambda x: x.year)\n",
    "\n",
    "df['yrs_old'] =  df['yr_built'].map(lambda x: 2016-x)\n",
    "\n",
    "df['yr_since_reno'] =  df['yr_renovated'].map(lambda x: 2016-x if x > 0 else np.nan)\n",
    "\n",
    "df['yrs_since_update'] = df.apply(lambda x: min(x['yrs_old'], x['yr_since_reno']), axis=1)\n",
    "\n",
    "\n",
    "df['bedrooms']=df['bedrooms'].map(lambda x: x if x < 10 else 10)\n",
    "\n",
    "df.replace('?', 0, inplace=True)\n",
    "\n",
    "df['sqft_basement'] = pd.to_numeric(df['sqft_basement'])\n",
    "\n",
    "df.fillna(0, inplace=True)"
   ]
  },
  {
   "cell_type": "code",
   "execution_count": 4,
   "metadata": {},
   "outputs": [],
   "source": [
    "zip_df = pd.get_dummies(df['zipcode'], drop_first=True)\n"
   ]
  },
  {
   "cell_type": "code",
   "execution_count": 5,
   "metadata": {},
   "outputs": [
    {
     "data": {
      "text/plain": [
       "(21597, 24)"
      ]
     },
     "execution_count": 5,
     "metadata": {},
     "output_type": "execute_result"
    }
   ],
   "source": [
    "df.shape"
   ]
  },
  {
   "cell_type": "code",
   "execution_count": 6,
   "metadata": {},
   "outputs": [
    {
     "data": {
      "text/plain": [
       "(21597, 69)"
      ]
     },
     "execution_count": 6,
     "metadata": {},
     "output_type": "execute_result"
    }
   ],
   "source": [
    "zip_df.shape"
   ]
  },
  {
   "cell_type": "code",
   "execution_count": 7,
   "metadata": {},
   "outputs": [],
   "source": [
    "target= np.log(df.price)\n",
    "\n",
    "features = df.drop(columns=['date', 'price', 'lat', 'long', 'yr_built', 'yr_renovated', 'yr_since_reno', 'zipcode'])"
   ]
  },
  {
   "cell_type": "code",
   "execution_count": 8,
   "metadata": {},
   "outputs": [],
   "source": [
    "polynomial_features_2= PolynomialFeatures(degree=2, include_bias=False)\n",
    "features_poly = polynomial_features_2.fit_transform(features)\n",
    "poly_columns = polynomial_features_2.get_feature_names(features.columns)"
   ]
  },
  {
   "cell_type": "code",
   "execution_count": 9,
   "metadata": {},
   "outputs": [],
   "source": [
    "features_poly = pd.DataFrame(features_poly, columns=poly_columns)"
   ]
  },
  {
   "cell_type": "code",
   "execution_count": 10,
   "metadata": {},
   "outputs": [],
   "source": [
    "zip_df.reset_index(drop=True, inplace=True)"
   ]
  },
  {
   "cell_type": "code",
   "execution_count": 11,
   "metadata": {},
   "outputs": [
    {
     "data": {
      "text/html": [
       "<div>\n",
       "<style scoped>\n",
       "    .dataframe tbody tr th:only-of-type {\n",
       "        vertical-align: middle;\n",
       "    }\n",
       "\n",
       "    .dataframe tbody tr th {\n",
       "        vertical-align: top;\n",
       "    }\n",
       "\n",
       "    .dataframe thead th {\n",
       "        text-align: right;\n",
       "    }\n",
       "</style>\n",
       "<table border=\"1\" class=\"dataframe\">\n",
       "  <thead>\n",
       "    <tr style=\"text-align: right;\">\n",
       "      <th></th>\n",
       "      <th>bedrooms</th>\n",
       "      <th>bathrooms</th>\n",
       "      <th>sqft_living</th>\n",
       "      <th>sqft_lot</th>\n",
       "      <th>floors</th>\n",
       "      <th>waterfront</th>\n",
       "      <th>view</th>\n",
       "      <th>condition</th>\n",
       "      <th>grade</th>\n",
       "      <th>sqft_above</th>\n",
       "      <th>sqft_basement</th>\n",
       "      <th>sqft_living15</th>\n",
       "      <th>sqft_lot15</th>\n",
       "      <th>yr_sold</th>\n",
       "      <th>yrs_old</th>\n",
       "      <th>yrs_since_update</th>\n",
       "      <th>bedrooms^2</th>\n",
       "      <th>bedrooms bathrooms</th>\n",
       "      <th>bedrooms sqft_living</th>\n",
       "      <th>bedrooms sqft_lot</th>\n",
       "      <th>bedrooms floors</th>\n",
       "      <th>bedrooms waterfront</th>\n",
       "      <th>bedrooms view</th>\n",
       "      <th>bedrooms condition</th>\n",
       "      <th>bedrooms grade</th>\n",
       "      <th>bedrooms sqft_above</th>\n",
       "      <th>bedrooms sqft_basement</th>\n",
       "      <th>bedrooms sqft_living15</th>\n",
       "      <th>bedrooms sqft_lot15</th>\n",
       "      <th>bedrooms yr_sold</th>\n",
       "      <th>bedrooms yrs_old</th>\n",
       "      <th>bedrooms yrs_since_update</th>\n",
       "      <th>bathrooms^2</th>\n",
       "      <th>bathrooms sqft_living</th>\n",
       "      <th>bathrooms sqft_lot</th>\n",
       "      <th>bathrooms floors</th>\n",
       "      <th>bathrooms waterfront</th>\n",
       "      <th>bathrooms view</th>\n",
       "      <th>bathrooms condition</th>\n",
       "      <th>bathrooms grade</th>\n",
       "      <th>bathrooms sqft_above</th>\n",
       "      <th>bathrooms sqft_basement</th>\n",
       "      <th>bathrooms sqft_living15</th>\n",
       "      <th>bathrooms sqft_lot15</th>\n",
       "      <th>bathrooms yr_sold</th>\n",
       "      <th>bathrooms yrs_old</th>\n",
       "      <th>bathrooms yrs_since_update</th>\n",
       "      <th>sqft_living^2</th>\n",
       "      <th>sqft_living sqft_lot</th>\n",
       "      <th>sqft_living floors</th>\n",
       "      <th>...</th>\n",
       "      <th>view sqft_living15</th>\n",
       "      <th>view sqft_lot15</th>\n",
       "      <th>view yr_sold</th>\n",
       "      <th>view yrs_old</th>\n",
       "      <th>view yrs_since_update</th>\n",
       "      <th>condition^2</th>\n",
       "      <th>condition grade</th>\n",
       "      <th>condition sqft_above</th>\n",
       "      <th>condition sqft_basement</th>\n",
       "      <th>condition sqft_living15</th>\n",
       "      <th>condition sqft_lot15</th>\n",
       "      <th>condition yr_sold</th>\n",
       "      <th>condition yrs_old</th>\n",
       "      <th>condition yrs_since_update</th>\n",
       "      <th>grade^2</th>\n",
       "      <th>grade sqft_above</th>\n",
       "      <th>grade sqft_basement</th>\n",
       "      <th>grade sqft_living15</th>\n",
       "      <th>grade sqft_lot15</th>\n",
       "      <th>grade yr_sold</th>\n",
       "      <th>grade yrs_old</th>\n",
       "      <th>grade yrs_since_update</th>\n",
       "      <th>sqft_above^2</th>\n",
       "      <th>sqft_above sqft_basement</th>\n",
       "      <th>sqft_above sqft_living15</th>\n",
       "      <th>sqft_above sqft_lot15</th>\n",
       "      <th>sqft_above yr_sold</th>\n",
       "      <th>sqft_above yrs_old</th>\n",
       "      <th>sqft_above yrs_since_update</th>\n",
       "      <th>sqft_basement^2</th>\n",
       "      <th>sqft_basement sqft_living15</th>\n",
       "      <th>sqft_basement sqft_lot15</th>\n",
       "      <th>sqft_basement yr_sold</th>\n",
       "      <th>sqft_basement yrs_old</th>\n",
       "      <th>sqft_basement yrs_since_update</th>\n",
       "      <th>sqft_living15^2</th>\n",
       "      <th>sqft_living15 sqft_lot15</th>\n",
       "      <th>sqft_living15 yr_sold</th>\n",
       "      <th>sqft_living15 yrs_old</th>\n",
       "      <th>sqft_living15 yrs_since_update</th>\n",
       "      <th>sqft_lot15^2</th>\n",
       "      <th>sqft_lot15 yr_sold</th>\n",
       "      <th>sqft_lot15 yrs_old</th>\n",
       "      <th>sqft_lot15 yrs_since_update</th>\n",
       "      <th>yr_sold^2</th>\n",
       "      <th>yr_sold yrs_old</th>\n",
       "      <th>yr_sold yrs_since_update</th>\n",
       "      <th>yrs_old^2</th>\n",
       "      <th>yrs_old yrs_since_update</th>\n",
       "      <th>yrs_since_update^2</th>\n",
       "    </tr>\n",
       "  </thead>\n",
       "  <tbody>\n",
       "    <tr>\n",
       "      <th>0</th>\n",
       "      <td>3.0</td>\n",
       "      <td>1.00</td>\n",
       "      <td>1180.0</td>\n",
       "      <td>5650.0</td>\n",
       "      <td>1.0</td>\n",
       "      <td>0.0</td>\n",
       "      <td>0.0</td>\n",
       "      <td>3.0</td>\n",
       "      <td>7.0</td>\n",
       "      <td>1180.0</td>\n",
       "      <td>0.0</td>\n",
       "      <td>1340.0</td>\n",
       "      <td>5650.0</td>\n",
       "      <td>2014.0</td>\n",
       "      <td>61.0</td>\n",
       "      <td>61.0</td>\n",
       "      <td>9.0</td>\n",
       "      <td>3.00</td>\n",
       "      <td>3540.0</td>\n",
       "      <td>16950.0</td>\n",
       "      <td>3.0</td>\n",
       "      <td>0.0</td>\n",
       "      <td>0.0</td>\n",
       "      <td>9.0</td>\n",
       "      <td>21.0</td>\n",
       "      <td>3540.0</td>\n",
       "      <td>0.0</td>\n",
       "      <td>4020.0</td>\n",
       "      <td>16950.0</td>\n",
       "      <td>6042.0</td>\n",
       "      <td>183.0</td>\n",
       "      <td>183.0</td>\n",
       "      <td>1.0000</td>\n",
       "      <td>1180.0</td>\n",
       "      <td>5650.0</td>\n",
       "      <td>1.0</td>\n",
       "      <td>0.0</td>\n",
       "      <td>0.0</td>\n",
       "      <td>3.00</td>\n",
       "      <td>7.00</td>\n",
       "      <td>1180.0</td>\n",
       "      <td>0.0</td>\n",
       "      <td>1340.0</td>\n",
       "      <td>5650.00</td>\n",
       "      <td>2014.0</td>\n",
       "      <td>61.00</td>\n",
       "      <td>61.00</td>\n",
       "      <td>1392400.0</td>\n",
       "      <td>6667000.0</td>\n",
       "      <td>1180.0</td>\n",
       "      <td>...</td>\n",
       "      <td>0.0</td>\n",
       "      <td>0.0</td>\n",
       "      <td>0.0</td>\n",
       "      <td>0.0</td>\n",
       "      <td>0.0</td>\n",
       "      <td>9.0</td>\n",
       "      <td>21.0</td>\n",
       "      <td>3540.0</td>\n",
       "      <td>0.0</td>\n",
       "      <td>4020.0</td>\n",
       "      <td>16950.0</td>\n",
       "      <td>6042.0</td>\n",
       "      <td>183.0</td>\n",
       "      <td>183.0</td>\n",
       "      <td>49.0</td>\n",
       "      <td>8260.0</td>\n",
       "      <td>0.0</td>\n",
       "      <td>9380.0</td>\n",
       "      <td>39550.0</td>\n",
       "      <td>14098.0</td>\n",
       "      <td>427.0</td>\n",
       "      <td>427.0</td>\n",
       "      <td>1392400.0</td>\n",
       "      <td>0.0</td>\n",
       "      <td>1581200.0</td>\n",
       "      <td>6667000.0</td>\n",
       "      <td>2376520.0</td>\n",
       "      <td>71980.0</td>\n",
       "      <td>71980.0</td>\n",
       "      <td>0.0</td>\n",
       "      <td>0.0</td>\n",
       "      <td>0.0</td>\n",
       "      <td>0.0</td>\n",
       "      <td>0.0</td>\n",
       "      <td>0.0</td>\n",
       "      <td>1795600.0</td>\n",
       "      <td>7571000.0</td>\n",
       "      <td>2698760.0</td>\n",
       "      <td>81740.0</td>\n",
       "      <td>81740.0</td>\n",
       "      <td>31922500.0</td>\n",
       "      <td>11379100.0</td>\n",
       "      <td>344650.0</td>\n",
       "      <td>344650.0</td>\n",
       "      <td>4056196.0</td>\n",
       "      <td>122854.0</td>\n",
       "      <td>122854.0</td>\n",
       "      <td>3721.0</td>\n",
       "      <td>3721.0</td>\n",
       "      <td>3721.0</td>\n",
       "    </tr>\n",
       "    <tr>\n",
       "      <th>1</th>\n",
       "      <td>3.0</td>\n",
       "      <td>2.25</td>\n",
       "      <td>2570.0</td>\n",
       "      <td>7242.0</td>\n",
       "      <td>2.0</td>\n",
       "      <td>0.0</td>\n",
       "      <td>0.0</td>\n",
       "      <td>3.0</td>\n",
       "      <td>7.0</td>\n",
       "      <td>2170.0</td>\n",
       "      <td>400.0</td>\n",
       "      <td>1690.0</td>\n",
       "      <td>7639.0</td>\n",
       "      <td>2014.0</td>\n",
       "      <td>65.0</td>\n",
       "      <td>25.0</td>\n",
       "      <td>9.0</td>\n",
       "      <td>6.75</td>\n",
       "      <td>7710.0</td>\n",
       "      <td>21726.0</td>\n",
       "      <td>6.0</td>\n",
       "      <td>0.0</td>\n",
       "      <td>0.0</td>\n",
       "      <td>9.0</td>\n",
       "      <td>21.0</td>\n",
       "      <td>6510.0</td>\n",
       "      <td>1200.0</td>\n",
       "      <td>5070.0</td>\n",
       "      <td>22917.0</td>\n",
       "      <td>6042.0</td>\n",
       "      <td>195.0</td>\n",
       "      <td>75.0</td>\n",
       "      <td>5.0625</td>\n",
       "      <td>5782.5</td>\n",
       "      <td>16294.5</td>\n",
       "      <td>4.5</td>\n",
       "      <td>0.0</td>\n",
       "      <td>0.0</td>\n",
       "      <td>6.75</td>\n",
       "      <td>15.75</td>\n",
       "      <td>4882.5</td>\n",
       "      <td>900.0</td>\n",
       "      <td>3802.5</td>\n",
       "      <td>17187.75</td>\n",
       "      <td>4531.5</td>\n",
       "      <td>146.25</td>\n",
       "      <td>56.25</td>\n",
       "      <td>6604900.0</td>\n",
       "      <td>18611940.0</td>\n",
       "      <td>5140.0</td>\n",
       "      <td>...</td>\n",
       "      <td>0.0</td>\n",
       "      <td>0.0</td>\n",
       "      <td>0.0</td>\n",
       "      <td>0.0</td>\n",
       "      <td>0.0</td>\n",
       "      <td>9.0</td>\n",
       "      <td>21.0</td>\n",
       "      <td>6510.0</td>\n",
       "      <td>1200.0</td>\n",
       "      <td>5070.0</td>\n",
       "      <td>22917.0</td>\n",
       "      <td>6042.0</td>\n",
       "      <td>195.0</td>\n",
       "      <td>75.0</td>\n",
       "      <td>49.0</td>\n",
       "      <td>15190.0</td>\n",
       "      <td>2800.0</td>\n",
       "      <td>11830.0</td>\n",
       "      <td>53473.0</td>\n",
       "      <td>14098.0</td>\n",
       "      <td>455.0</td>\n",
       "      <td>175.0</td>\n",
       "      <td>4708900.0</td>\n",
       "      <td>868000.0</td>\n",
       "      <td>3667300.0</td>\n",
       "      <td>16576630.0</td>\n",
       "      <td>4370380.0</td>\n",
       "      <td>141050.0</td>\n",
       "      <td>54250.0</td>\n",
       "      <td>160000.0</td>\n",
       "      <td>676000.0</td>\n",
       "      <td>3055600.0</td>\n",
       "      <td>805600.0</td>\n",
       "      <td>26000.0</td>\n",
       "      <td>10000.0</td>\n",
       "      <td>2856100.0</td>\n",
       "      <td>12909910.0</td>\n",
       "      <td>3403660.0</td>\n",
       "      <td>109850.0</td>\n",
       "      <td>42250.0</td>\n",
       "      <td>58354321.0</td>\n",
       "      <td>15384946.0</td>\n",
       "      <td>496535.0</td>\n",
       "      <td>190975.0</td>\n",
       "      <td>4056196.0</td>\n",
       "      <td>130910.0</td>\n",
       "      <td>50350.0</td>\n",
       "      <td>4225.0</td>\n",
       "      <td>1625.0</td>\n",
       "      <td>625.0</td>\n",
       "    </tr>\n",
       "    <tr>\n",
       "      <th>2</th>\n",
       "      <td>2.0</td>\n",
       "      <td>1.00</td>\n",
       "      <td>770.0</td>\n",
       "      <td>10000.0</td>\n",
       "      <td>1.0</td>\n",
       "      <td>0.0</td>\n",
       "      <td>0.0</td>\n",
       "      <td>3.0</td>\n",
       "      <td>6.0</td>\n",
       "      <td>770.0</td>\n",
       "      <td>0.0</td>\n",
       "      <td>2720.0</td>\n",
       "      <td>8062.0</td>\n",
       "      <td>2015.0</td>\n",
       "      <td>83.0</td>\n",
       "      <td>83.0</td>\n",
       "      <td>4.0</td>\n",
       "      <td>2.00</td>\n",
       "      <td>1540.0</td>\n",
       "      <td>20000.0</td>\n",
       "      <td>2.0</td>\n",
       "      <td>0.0</td>\n",
       "      <td>0.0</td>\n",
       "      <td>6.0</td>\n",
       "      <td>12.0</td>\n",
       "      <td>1540.0</td>\n",
       "      <td>0.0</td>\n",
       "      <td>5440.0</td>\n",
       "      <td>16124.0</td>\n",
       "      <td>4030.0</td>\n",
       "      <td>166.0</td>\n",
       "      <td>166.0</td>\n",
       "      <td>1.0000</td>\n",
       "      <td>770.0</td>\n",
       "      <td>10000.0</td>\n",
       "      <td>1.0</td>\n",
       "      <td>0.0</td>\n",
       "      <td>0.0</td>\n",
       "      <td>3.00</td>\n",
       "      <td>6.00</td>\n",
       "      <td>770.0</td>\n",
       "      <td>0.0</td>\n",
       "      <td>2720.0</td>\n",
       "      <td>8062.00</td>\n",
       "      <td>2015.0</td>\n",
       "      <td>83.00</td>\n",
       "      <td>83.00</td>\n",
       "      <td>592900.0</td>\n",
       "      <td>7700000.0</td>\n",
       "      <td>770.0</td>\n",
       "      <td>...</td>\n",
       "      <td>0.0</td>\n",
       "      <td>0.0</td>\n",
       "      <td>0.0</td>\n",
       "      <td>0.0</td>\n",
       "      <td>0.0</td>\n",
       "      <td>9.0</td>\n",
       "      <td>18.0</td>\n",
       "      <td>2310.0</td>\n",
       "      <td>0.0</td>\n",
       "      <td>8160.0</td>\n",
       "      <td>24186.0</td>\n",
       "      <td>6045.0</td>\n",
       "      <td>249.0</td>\n",
       "      <td>249.0</td>\n",
       "      <td>36.0</td>\n",
       "      <td>4620.0</td>\n",
       "      <td>0.0</td>\n",
       "      <td>16320.0</td>\n",
       "      <td>48372.0</td>\n",
       "      <td>12090.0</td>\n",
       "      <td>498.0</td>\n",
       "      <td>498.0</td>\n",
       "      <td>592900.0</td>\n",
       "      <td>0.0</td>\n",
       "      <td>2094400.0</td>\n",
       "      <td>6207740.0</td>\n",
       "      <td>1551550.0</td>\n",
       "      <td>63910.0</td>\n",
       "      <td>63910.0</td>\n",
       "      <td>0.0</td>\n",
       "      <td>0.0</td>\n",
       "      <td>0.0</td>\n",
       "      <td>0.0</td>\n",
       "      <td>0.0</td>\n",
       "      <td>0.0</td>\n",
       "      <td>7398400.0</td>\n",
       "      <td>21928640.0</td>\n",
       "      <td>5480800.0</td>\n",
       "      <td>225760.0</td>\n",
       "      <td>225760.0</td>\n",
       "      <td>64995844.0</td>\n",
       "      <td>16244930.0</td>\n",
       "      <td>669146.0</td>\n",
       "      <td>669146.0</td>\n",
       "      <td>4060225.0</td>\n",
       "      <td>167245.0</td>\n",
       "      <td>167245.0</td>\n",
       "      <td>6889.0</td>\n",
       "      <td>6889.0</td>\n",
       "      <td>6889.0</td>\n",
       "    </tr>\n",
       "    <tr>\n",
       "      <th>3</th>\n",
       "      <td>4.0</td>\n",
       "      <td>3.00</td>\n",
       "      <td>1960.0</td>\n",
       "      <td>5000.0</td>\n",
       "      <td>1.0</td>\n",
       "      <td>0.0</td>\n",
       "      <td>0.0</td>\n",
       "      <td>5.0</td>\n",
       "      <td>7.0</td>\n",
       "      <td>1050.0</td>\n",
       "      <td>910.0</td>\n",
       "      <td>1360.0</td>\n",
       "      <td>5000.0</td>\n",
       "      <td>2014.0</td>\n",
       "      <td>51.0</td>\n",
       "      <td>51.0</td>\n",
       "      <td>16.0</td>\n",
       "      <td>12.00</td>\n",
       "      <td>7840.0</td>\n",
       "      <td>20000.0</td>\n",
       "      <td>4.0</td>\n",
       "      <td>0.0</td>\n",
       "      <td>0.0</td>\n",
       "      <td>20.0</td>\n",
       "      <td>28.0</td>\n",
       "      <td>4200.0</td>\n",
       "      <td>3640.0</td>\n",
       "      <td>5440.0</td>\n",
       "      <td>20000.0</td>\n",
       "      <td>8056.0</td>\n",
       "      <td>204.0</td>\n",
       "      <td>204.0</td>\n",
       "      <td>9.0000</td>\n",
       "      <td>5880.0</td>\n",
       "      <td>15000.0</td>\n",
       "      <td>3.0</td>\n",
       "      <td>0.0</td>\n",
       "      <td>0.0</td>\n",
       "      <td>15.00</td>\n",
       "      <td>21.00</td>\n",
       "      <td>3150.0</td>\n",
       "      <td>2730.0</td>\n",
       "      <td>4080.0</td>\n",
       "      <td>15000.00</td>\n",
       "      <td>6042.0</td>\n",
       "      <td>153.00</td>\n",
       "      <td>153.00</td>\n",
       "      <td>3841600.0</td>\n",
       "      <td>9800000.0</td>\n",
       "      <td>1960.0</td>\n",
       "      <td>...</td>\n",
       "      <td>0.0</td>\n",
       "      <td>0.0</td>\n",
       "      <td>0.0</td>\n",
       "      <td>0.0</td>\n",
       "      <td>0.0</td>\n",
       "      <td>25.0</td>\n",
       "      <td>35.0</td>\n",
       "      <td>5250.0</td>\n",
       "      <td>4550.0</td>\n",
       "      <td>6800.0</td>\n",
       "      <td>25000.0</td>\n",
       "      <td>10070.0</td>\n",
       "      <td>255.0</td>\n",
       "      <td>255.0</td>\n",
       "      <td>49.0</td>\n",
       "      <td>7350.0</td>\n",
       "      <td>6370.0</td>\n",
       "      <td>9520.0</td>\n",
       "      <td>35000.0</td>\n",
       "      <td>14098.0</td>\n",
       "      <td>357.0</td>\n",
       "      <td>357.0</td>\n",
       "      <td>1102500.0</td>\n",
       "      <td>955500.0</td>\n",
       "      <td>1428000.0</td>\n",
       "      <td>5250000.0</td>\n",
       "      <td>2114700.0</td>\n",
       "      <td>53550.0</td>\n",
       "      <td>53550.0</td>\n",
       "      <td>828100.0</td>\n",
       "      <td>1237600.0</td>\n",
       "      <td>4550000.0</td>\n",
       "      <td>1832740.0</td>\n",
       "      <td>46410.0</td>\n",
       "      <td>46410.0</td>\n",
       "      <td>1849600.0</td>\n",
       "      <td>6800000.0</td>\n",
       "      <td>2739040.0</td>\n",
       "      <td>69360.0</td>\n",
       "      <td>69360.0</td>\n",
       "      <td>25000000.0</td>\n",
       "      <td>10070000.0</td>\n",
       "      <td>255000.0</td>\n",
       "      <td>255000.0</td>\n",
       "      <td>4056196.0</td>\n",
       "      <td>102714.0</td>\n",
       "      <td>102714.0</td>\n",
       "      <td>2601.0</td>\n",
       "      <td>2601.0</td>\n",
       "      <td>2601.0</td>\n",
       "    </tr>\n",
       "    <tr>\n",
       "      <th>4</th>\n",
       "      <td>3.0</td>\n",
       "      <td>2.00</td>\n",
       "      <td>1680.0</td>\n",
       "      <td>8080.0</td>\n",
       "      <td>1.0</td>\n",
       "      <td>0.0</td>\n",
       "      <td>0.0</td>\n",
       "      <td>3.0</td>\n",
       "      <td>8.0</td>\n",
       "      <td>1680.0</td>\n",
       "      <td>0.0</td>\n",
       "      <td>1800.0</td>\n",
       "      <td>7503.0</td>\n",
       "      <td>2015.0</td>\n",
       "      <td>29.0</td>\n",
       "      <td>29.0</td>\n",
       "      <td>9.0</td>\n",
       "      <td>6.00</td>\n",
       "      <td>5040.0</td>\n",
       "      <td>24240.0</td>\n",
       "      <td>3.0</td>\n",
       "      <td>0.0</td>\n",
       "      <td>0.0</td>\n",
       "      <td>9.0</td>\n",
       "      <td>24.0</td>\n",
       "      <td>5040.0</td>\n",
       "      <td>0.0</td>\n",
       "      <td>5400.0</td>\n",
       "      <td>22509.0</td>\n",
       "      <td>6045.0</td>\n",
       "      <td>87.0</td>\n",
       "      <td>87.0</td>\n",
       "      <td>4.0000</td>\n",
       "      <td>3360.0</td>\n",
       "      <td>16160.0</td>\n",
       "      <td>2.0</td>\n",
       "      <td>0.0</td>\n",
       "      <td>0.0</td>\n",
       "      <td>6.00</td>\n",
       "      <td>16.00</td>\n",
       "      <td>3360.0</td>\n",
       "      <td>0.0</td>\n",
       "      <td>3600.0</td>\n",
       "      <td>15006.00</td>\n",
       "      <td>4030.0</td>\n",
       "      <td>58.00</td>\n",
       "      <td>58.00</td>\n",
       "      <td>2822400.0</td>\n",
       "      <td>13574400.0</td>\n",
       "      <td>1680.0</td>\n",
       "      <td>...</td>\n",
       "      <td>0.0</td>\n",
       "      <td>0.0</td>\n",
       "      <td>0.0</td>\n",
       "      <td>0.0</td>\n",
       "      <td>0.0</td>\n",
       "      <td>9.0</td>\n",
       "      <td>24.0</td>\n",
       "      <td>5040.0</td>\n",
       "      <td>0.0</td>\n",
       "      <td>5400.0</td>\n",
       "      <td>22509.0</td>\n",
       "      <td>6045.0</td>\n",
       "      <td>87.0</td>\n",
       "      <td>87.0</td>\n",
       "      <td>64.0</td>\n",
       "      <td>13440.0</td>\n",
       "      <td>0.0</td>\n",
       "      <td>14400.0</td>\n",
       "      <td>60024.0</td>\n",
       "      <td>16120.0</td>\n",
       "      <td>232.0</td>\n",
       "      <td>232.0</td>\n",
       "      <td>2822400.0</td>\n",
       "      <td>0.0</td>\n",
       "      <td>3024000.0</td>\n",
       "      <td>12605040.0</td>\n",
       "      <td>3385200.0</td>\n",
       "      <td>48720.0</td>\n",
       "      <td>48720.0</td>\n",
       "      <td>0.0</td>\n",
       "      <td>0.0</td>\n",
       "      <td>0.0</td>\n",
       "      <td>0.0</td>\n",
       "      <td>0.0</td>\n",
       "      <td>0.0</td>\n",
       "      <td>3240000.0</td>\n",
       "      <td>13505400.0</td>\n",
       "      <td>3627000.0</td>\n",
       "      <td>52200.0</td>\n",
       "      <td>52200.0</td>\n",
       "      <td>56295009.0</td>\n",
       "      <td>15118545.0</td>\n",
       "      <td>217587.0</td>\n",
       "      <td>217587.0</td>\n",
       "      <td>4060225.0</td>\n",
       "      <td>58435.0</td>\n",
       "      <td>58435.0</td>\n",
       "      <td>841.0</td>\n",
       "      <td>841.0</td>\n",
       "      <td>841.0</td>\n",
       "    </tr>\n",
       "  </tbody>\n",
       "</table>\n",
       "<p>5 rows × 152 columns</p>\n",
       "</div>"
      ],
      "text/plain": [
       "   bedrooms  bathrooms  sqft_living  sqft_lot  floors  waterfront  view  \\\n",
       "0       3.0       1.00       1180.0    5650.0     1.0         0.0   0.0   \n",
       "1       3.0       2.25       2570.0    7242.0     2.0         0.0   0.0   \n",
       "2       2.0       1.00        770.0   10000.0     1.0         0.0   0.0   \n",
       "3       4.0       3.00       1960.0    5000.0     1.0         0.0   0.0   \n",
       "4       3.0       2.00       1680.0    8080.0     1.0         0.0   0.0   \n",
       "\n",
       "   condition  grade  sqft_above  sqft_basement  sqft_living15  sqft_lot15  \\\n",
       "0        3.0    7.0      1180.0            0.0         1340.0      5650.0   \n",
       "1        3.0    7.0      2170.0          400.0         1690.0      7639.0   \n",
       "2        3.0    6.0       770.0            0.0         2720.0      8062.0   \n",
       "3        5.0    7.0      1050.0          910.0         1360.0      5000.0   \n",
       "4        3.0    8.0      1680.0            0.0         1800.0      7503.0   \n",
       "\n",
       "   yr_sold  yrs_old  yrs_since_update  bedrooms^2  bedrooms bathrooms  \\\n",
       "0   2014.0     61.0              61.0         9.0                3.00   \n",
       "1   2014.0     65.0              25.0         9.0                6.75   \n",
       "2   2015.0     83.0              83.0         4.0                2.00   \n",
       "3   2014.0     51.0              51.0        16.0               12.00   \n",
       "4   2015.0     29.0              29.0         9.0                6.00   \n",
       "\n",
       "   bedrooms sqft_living  bedrooms sqft_lot  bedrooms floors  \\\n",
       "0                3540.0            16950.0              3.0   \n",
       "1                7710.0            21726.0              6.0   \n",
       "2                1540.0            20000.0              2.0   \n",
       "3                7840.0            20000.0              4.0   \n",
       "4                5040.0            24240.0              3.0   \n",
       "\n",
       "   bedrooms waterfront  bedrooms view  bedrooms condition  bedrooms grade  \\\n",
       "0                  0.0            0.0                 9.0            21.0   \n",
       "1                  0.0            0.0                 9.0            21.0   \n",
       "2                  0.0            0.0                 6.0            12.0   \n",
       "3                  0.0            0.0                20.0            28.0   \n",
       "4                  0.0            0.0                 9.0            24.0   \n",
       "\n",
       "   bedrooms sqft_above  bedrooms sqft_basement  bedrooms sqft_living15  \\\n",
       "0               3540.0                     0.0                  4020.0   \n",
       "1               6510.0                  1200.0                  5070.0   \n",
       "2               1540.0                     0.0                  5440.0   \n",
       "3               4200.0                  3640.0                  5440.0   \n",
       "4               5040.0                     0.0                  5400.0   \n",
       "\n",
       "   bedrooms sqft_lot15  bedrooms yr_sold  bedrooms yrs_old  \\\n",
       "0              16950.0            6042.0             183.0   \n",
       "1              22917.0            6042.0             195.0   \n",
       "2              16124.0            4030.0             166.0   \n",
       "3              20000.0            8056.0             204.0   \n",
       "4              22509.0            6045.0              87.0   \n",
       "\n",
       "   bedrooms yrs_since_update  bathrooms^2  bathrooms sqft_living  \\\n",
       "0                      183.0       1.0000                 1180.0   \n",
       "1                       75.0       5.0625                 5782.5   \n",
       "2                      166.0       1.0000                  770.0   \n",
       "3                      204.0       9.0000                 5880.0   \n",
       "4                       87.0       4.0000                 3360.0   \n",
       "\n",
       "   bathrooms sqft_lot  bathrooms floors  bathrooms waterfront  bathrooms view  \\\n",
       "0              5650.0               1.0                   0.0             0.0   \n",
       "1             16294.5               4.5                   0.0             0.0   \n",
       "2             10000.0               1.0                   0.0             0.0   \n",
       "3             15000.0               3.0                   0.0             0.0   \n",
       "4             16160.0               2.0                   0.0             0.0   \n",
       "\n",
       "   bathrooms condition  bathrooms grade  bathrooms sqft_above  \\\n",
       "0                 3.00             7.00                1180.0   \n",
       "1                 6.75            15.75                4882.5   \n",
       "2                 3.00             6.00                 770.0   \n",
       "3                15.00            21.00                3150.0   \n",
       "4                 6.00            16.00                3360.0   \n",
       "\n",
       "   bathrooms sqft_basement  bathrooms sqft_living15  bathrooms sqft_lot15  \\\n",
       "0                      0.0                   1340.0               5650.00   \n",
       "1                    900.0                   3802.5              17187.75   \n",
       "2                      0.0                   2720.0               8062.00   \n",
       "3                   2730.0                   4080.0              15000.00   \n",
       "4                      0.0                   3600.0              15006.00   \n",
       "\n",
       "   bathrooms yr_sold  bathrooms yrs_old  bathrooms yrs_since_update  \\\n",
       "0             2014.0              61.00                       61.00   \n",
       "1             4531.5             146.25                       56.25   \n",
       "2             2015.0              83.00                       83.00   \n",
       "3             6042.0             153.00                      153.00   \n",
       "4             4030.0              58.00                       58.00   \n",
       "\n",
       "   sqft_living^2  sqft_living sqft_lot  sqft_living floors  ...  \\\n",
       "0      1392400.0             6667000.0              1180.0  ...   \n",
       "1      6604900.0            18611940.0              5140.0  ...   \n",
       "2       592900.0             7700000.0               770.0  ...   \n",
       "3      3841600.0             9800000.0              1960.0  ...   \n",
       "4      2822400.0            13574400.0              1680.0  ...   \n",
       "\n",
       "   view sqft_living15  view sqft_lot15  view yr_sold  view yrs_old  \\\n",
       "0                 0.0              0.0           0.0           0.0   \n",
       "1                 0.0              0.0           0.0           0.0   \n",
       "2                 0.0              0.0           0.0           0.0   \n",
       "3                 0.0              0.0           0.0           0.0   \n",
       "4                 0.0              0.0           0.0           0.0   \n",
       "\n",
       "   view yrs_since_update  condition^2  condition grade  condition sqft_above  \\\n",
       "0                    0.0          9.0             21.0                3540.0   \n",
       "1                    0.0          9.0             21.0                6510.0   \n",
       "2                    0.0          9.0             18.0                2310.0   \n",
       "3                    0.0         25.0             35.0                5250.0   \n",
       "4                    0.0          9.0             24.0                5040.0   \n",
       "\n",
       "   condition sqft_basement  condition sqft_living15  condition sqft_lot15  \\\n",
       "0                      0.0                   4020.0               16950.0   \n",
       "1                   1200.0                   5070.0               22917.0   \n",
       "2                      0.0                   8160.0               24186.0   \n",
       "3                   4550.0                   6800.0               25000.0   \n",
       "4                      0.0                   5400.0               22509.0   \n",
       "\n",
       "   condition yr_sold  condition yrs_old  condition yrs_since_update  grade^2  \\\n",
       "0             6042.0              183.0                       183.0     49.0   \n",
       "1             6042.0              195.0                        75.0     49.0   \n",
       "2             6045.0              249.0                       249.0     36.0   \n",
       "3            10070.0              255.0                       255.0     49.0   \n",
       "4             6045.0               87.0                        87.0     64.0   \n",
       "\n",
       "   grade sqft_above  grade sqft_basement  grade sqft_living15  \\\n",
       "0            8260.0                  0.0               9380.0   \n",
       "1           15190.0               2800.0              11830.0   \n",
       "2            4620.0                  0.0              16320.0   \n",
       "3            7350.0               6370.0               9520.0   \n",
       "4           13440.0                  0.0              14400.0   \n",
       "\n",
       "   grade sqft_lot15  grade yr_sold  grade yrs_old  grade yrs_since_update  \\\n",
       "0           39550.0        14098.0          427.0                   427.0   \n",
       "1           53473.0        14098.0          455.0                   175.0   \n",
       "2           48372.0        12090.0          498.0                   498.0   \n",
       "3           35000.0        14098.0          357.0                   357.0   \n",
       "4           60024.0        16120.0          232.0                   232.0   \n",
       "\n",
       "   sqft_above^2  sqft_above sqft_basement  sqft_above sqft_living15  \\\n",
       "0     1392400.0                       0.0                 1581200.0   \n",
       "1     4708900.0                  868000.0                 3667300.0   \n",
       "2      592900.0                       0.0                 2094400.0   \n",
       "3     1102500.0                  955500.0                 1428000.0   \n",
       "4     2822400.0                       0.0                 3024000.0   \n",
       "\n",
       "   sqft_above sqft_lot15  sqft_above yr_sold  sqft_above yrs_old  \\\n",
       "0              6667000.0           2376520.0             71980.0   \n",
       "1             16576630.0           4370380.0            141050.0   \n",
       "2              6207740.0           1551550.0             63910.0   \n",
       "3              5250000.0           2114700.0             53550.0   \n",
       "4             12605040.0           3385200.0             48720.0   \n",
       "\n",
       "   sqft_above yrs_since_update  sqft_basement^2  sqft_basement sqft_living15  \\\n",
       "0                      71980.0              0.0                          0.0   \n",
       "1                      54250.0         160000.0                     676000.0   \n",
       "2                      63910.0              0.0                          0.0   \n",
       "3                      53550.0         828100.0                    1237600.0   \n",
       "4                      48720.0              0.0                          0.0   \n",
       "\n",
       "   sqft_basement sqft_lot15  sqft_basement yr_sold  sqft_basement yrs_old  \\\n",
       "0                       0.0                    0.0                    0.0   \n",
       "1                 3055600.0               805600.0                26000.0   \n",
       "2                       0.0                    0.0                    0.0   \n",
       "3                 4550000.0              1832740.0                46410.0   \n",
       "4                       0.0                    0.0                    0.0   \n",
       "\n",
       "   sqft_basement yrs_since_update  sqft_living15^2  sqft_living15 sqft_lot15  \\\n",
       "0                             0.0        1795600.0                 7571000.0   \n",
       "1                         10000.0        2856100.0                12909910.0   \n",
       "2                             0.0        7398400.0                21928640.0   \n",
       "3                         46410.0        1849600.0                 6800000.0   \n",
       "4                             0.0        3240000.0                13505400.0   \n",
       "\n",
       "   sqft_living15 yr_sold  sqft_living15 yrs_old  \\\n",
       "0              2698760.0                81740.0   \n",
       "1              3403660.0               109850.0   \n",
       "2              5480800.0               225760.0   \n",
       "3              2739040.0                69360.0   \n",
       "4              3627000.0                52200.0   \n",
       "\n",
       "   sqft_living15 yrs_since_update  sqft_lot15^2  sqft_lot15 yr_sold  \\\n",
       "0                         81740.0    31922500.0          11379100.0   \n",
       "1                         42250.0    58354321.0          15384946.0   \n",
       "2                        225760.0    64995844.0          16244930.0   \n",
       "3                         69360.0    25000000.0          10070000.0   \n",
       "4                         52200.0    56295009.0          15118545.0   \n",
       "\n",
       "   sqft_lot15 yrs_old  sqft_lot15 yrs_since_update  yr_sold^2  \\\n",
       "0            344650.0                     344650.0  4056196.0   \n",
       "1            496535.0                     190975.0  4056196.0   \n",
       "2            669146.0                     669146.0  4060225.0   \n",
       "3            255000.0                     255000.0  4056196.0   \n",
       "4            217587.0                     217587.0  4060225.0   \n",
       "\n",
       "   yr_sold yrs_old  yr_sold yrs_since_update  yrs_old^2  \\\n",
       "0         122854.0                  122854.0     3721.0   \n",
       "1         130910.0                   50350.0     4225.0   \n",
       "2         167245.0                  167245.0     6889.0   \n",
       "3         102714.0                  102714.0     2601.0   \n",
       "4          58435.0                   58435.0      841.0   \n",
       "\n",
       "   yrs_old yrs_since_update  yrs_since_update^2  \n",
       "0                    3721.0              3721.0  \n",
       "1                    1625.0               625.0  \n",
       "2                    6889.0              6889.0  \n",
       "3                    2601.0              2601.0  \n",
       "4                     841.0               841.0  \n",
       "\n",
       "[5 rows x 152 columns]"
      ]
     },
     "execution_count": 11,
     "metadata": {},
     "output_type": "execute_result"
    }
   ],
   "source": [
    "features_poly.head()"
   ]
  },
  {
   "cell_type": "code",
   "execution_count": 12,
   "metadata": {},
   "outputs": [],
   "source": [
    "features_poly = pd.merge(features_poly, zip_df, left_index=True, right_index=True)"
   ]
  },
  {
   "cell_type": "code",
   "execution_count": 13,
   "metadata": {},
   "outputs": [],
   "source": [
    "#call train_test_split on the data and capture the results\n",
    "X_train, X_test, y_train, y_test = train_test_split(features_poly, target, random_state=22,test_size=0.25)\n"
   ]
  },
  {
   "cell_type": "code",
   "execution_count": 14,
   "metadata": {},
   "outputs": [],
   "source": [
    "scaler = StandardScaler()\n",
    "scaler.fit(X_train)\n",
    "X_train_scaled =pd.DataFrame(data=scaler.transform(X_train), columns=features_poly.columns)\n",
    "X_test_scaled =pd.DataFrame(data=scaler.transform(X_test), columns=features_poly.columns)"
   ]
  },
  {
   "cell_type": "code",
   "execution_count": 15,
   "metadata": {
    "collapsed": true
   },
   "outputs": [
    {
     "name": "stdout",
     "output_type": "stream",
     "text": [
      "13.049903861156416\n",
      "[ 8.08025912e+00 -1.01133320e+01  1.04941807e+02 -4.64872845e+00\n",
      " -1.43477299e+01 -5.18587475e+00  8.40690391e+00  3.01622411e+01\n",
      "  8.32723972e-01 -8.63885605e+01 -5.32452667e+01  3.46420622e+00\n",
      "  2.50311259e+00  2.40279026e-02 -1.00601863e+01 -2.72591225e+01\n",
      "  1.37126475e-02 -1.17816966e-02 -5.11910932e-03  5.23645615e-02\n",
      "  6.01561750e-02  4.27629316e-04  6.35957653e-04 -9.73613937e-03\n",
      "  1.18344701e-01 -1.73332284e-01 -3.83254400e-02 -7.56426404e-03\n",
      " -4.47044150e-02 -8.13336132e+00 -1.52639253e-02  2.71755713e-02\n",
      " -8.35275072e-02  2.80916440e-01 -3.63185374e-02 -4.81369246e-02\n",
      "  1.07795136e-02 -2.07636713e-02 -4.68840946e-03 -4.77510679e-02\n",
      " -8.28666126e-02 -5.39584846e-02  6.91707057e-04  1.38991241e-02\n",
      "  1.02420255e+01 -1.48479332e-02 -1.56968574e-02 -3.73297648e-01\n",
      " -2.18139194e-02 -4.09708681e-01  1.99289100e-01 -5.55497506e-02\n",
      " -5.04298489e-02 -4.07379385e-01  4.16016317e-01  2.57322154e-02\n",
      "  1.44906786e-01  8.91760897e-03 -1.04313777e+02  1.26553579e-01\n",
      " -1.65349894e-01 -3.11250483e-02 -8.97558096e-03  3.75691489e-04\n",
      " -5.93800160e-03  5.51876263e-04  3.68844105e-02 -1.88060045e-02\n",
      " -7.88103458e-03  2.22180117e-02  9.34224622e-03  4.67342921e+00\n",
      " -7.27671452e-03  4.08441853e-03  1.49782388e-02 -1.07952281e-02\n",
      "  1.15939170e-02  2.75406468e-02 -1.96047590e-02  4.47889295e-01\n",
      "  1.08966907e-01  2.17832412e-03  8.15407355e-03  1.42310979e+01\n",
      "  3.71598526e-02 -3.25929441e-03 -5.18587475e+00  3.62225347e-05\n",
      " -3.46156469e-03 -4.70554498e-02 -1.36116813e-01 -6.00864234e-02\n",
      " -2.85948772e-04 -3.69666938e-03  1.04528263e+01 -5.59030220e-04\n",
      " -9.12265913e-03  1.44661705e-02  3.50901089e-03  2.70818449e-02\n",
      "  2.62613865e-02  1.91111136e-02  1.45895522e-02  2.80145026e-03\n",
      " -8.40345680e+00 -6.17855701e-03  1.33584433e-02 -6.05717639e-02\n",
      " -6.97633639e-02  2.05875794e-02  3.57487416e-02  5.90014084e-02\n",
      " -3.22890628e-03 -3.00475605e+01  3.10114297e-02  2.15256698e-02\n",
      "  1.08945672e-01  3.37374623e-01  1.35444262e-01 -8.13324531e-02\n",
      " -2.87394089e-02 -8.09343432e-01  1.03120357e-01 -1.76728832e-03\n",
      " -1.81271395e-01  2.98481968e-02 -1.84818108e-01  2.04505272e-02\n",
      "  8.61681286e+01 -9.63189542e-02  1.10305217e-01  1.72033852e-02\n",
      " -6.96412507e-02  6.43403228e-03  5.30588491e+01 -4.00649797e-02\n",
      "  5.42385838e-02  2.16029530e-02 -3.27889511e-02 -3.40641963e+00\n",
      "  1.86913346e-02 -3.99709663e-03 -1.38932583e-02 -2.43220279e+00\n",
      " -4.07344648e-03 -2.51146823e-03  2.40279008e-02  1.00000400e+01\n",
      "  2.70818343e+01 -8.49798914e-02  4.92885009e-02  1.14520881e-01\n",
      " -5.71617736e-04  3.34841607e-03  1.31954130e-01  6.84578520e-02\n",
      "  9.91853667e-02  5.32881850e-02  7.82123673e-02  1.68011004e-02\n",
      "  4.39663996e-02  2.20122871e-02  2.68652181e-02  2.27539140e-03\n",
      " -3.15846479e-03  2.68403337e-02  7.07691284e-02  4.62452636e-02\n",
      "  7.30602224e-02  4.46636706e-03  8.49113462e-03 -2.80336583e-04\n",
      "  1.09926022e-01  8.73589601e-02  2.46017953e-02  6.07545649e-02\n",
      "  1.01022694e-01  8.68862846e-03  3.27709503e-02  1.03676215e-01\n",
      "  7.46909058e-02  1.54723957e-02  4.30220243e-02  2.48238616e-02\n",
      "  4.80936160e-02  4.39724819e-02  2.33334830e-02  5.37553959e-02\n",
      "  7.87158468e-02  7.20931244e-02  4.22982428e-02  1.31605101e-04\n",
      "  6.80418869e-02  1.40026865e-01  9.41520206e-02  4.33128039e-02\n",
      "  9.63100762e-02  3.36708923e-02  6.60451301e-02  1.11568113e-01\n",
      "  1.36134902e-01  9.31455927e-02  1.32572822e-01  6.87130416e-02\n",
      "  9.12158869e-02  9.50296993e-02  8.07388241e-02  7.03901878e-02\n",
      "  7.25809801e-02  7.64191420e-02  8.47302257e-02  3.45049611e-02\n",
      "  1.01839402e-02  6.49231284e-02  3.53052122e-02  1.26089429e-02\n",
      "  6.38895211e-02  1.71151321e-02  8.18303823e-03  9.49248374e-03\n",
      "  1.04789594e-01]\n"
     ]
    }
   ],
   "source": [
    "#instantiate a linear regression object\n",
    "lm = LinearRegression()\n",
    "\n",
    "#fit the linear regression to the data\n",
    "lm = lm.fit(X_train_scaled, y_train)\n",
    "\n",
    "\n",
    "print(lm.intercept_)\n",
    "print(lm.coef_)"
   ]
  },
  {
   "cell_type": "code",
   "execution_count": 16,
   "metadata": {},
   "outputs": [],
   "source": [
    "y_train_pred = lm.predict(X_train)\n",
    "y_pred = lm.predict(X_test)"
   ]
  },
  {
   "cell_type": "code",
   "execution_count": 17,
   "metadata": {},
   "outputs": [
    {
     "name": "stdout",
     "output_type": "stream",
     "text": [
      "Mean Absolute Error: 105006091.13314073\n",
      "Mean Squared Error: 5.209109205726952e+17\n",
      "Root Mean Squared Error: 721741588.5015185\n"
     ]
    }
   ],
   "source": [
    "train_mae = metrics.mean_absolute_error(y_train, y_train_pred)\n",
    "train_mse = metrics.mean_squared_error(y_train, y_train_pred)\n",
    "train_rmse = np.sqrt(metrics.mean_squared_error(y_train, y_train_pred))\n",
    "\n",
    "\n",
    "print('Mean Absolute Error:', train_mae )\n",
    "print('Mean Squared Error:',  train_mse)\n",
    "print('Root Mean Squared Error:' , train_rmse)"
   ]
  },
  {
   "cell_type": "code",
   "execution_count": 18,
   "metadata": {},
   "outputs": [],
   "source": [
    "from sklearn.feature_selection import RFECV\n",
    "ols = LinearRegression()"
   ]
  },
  {
   "cell_type": "code",
   "execution_count": 19,
   "metadata": {},
   "outputs": [
    {
     "name": "stdout",
     "output_type": "stream",
     "text": [
      "Fitting estimator with 221 features.\n",
      "Fitting estimator with 218 features.\n",
      "Fitting estimator with 215 features.\n",
      "Fitting estimator with 212 features.\n",
      "Fitting estimator with 209 features.\n",
      "Fitting estimator with 206 features.\n",
      "Fitting estimator with 203 features.\n",
      "Fitting estimator with 200 features.\n",
      "Fitting estimator with 197 features.\n",
      "Fitting estimator with 194 features.\n"
     ]
    },
    {
     "data": {
      "text/plain": [
       "RFECV(cv=5,\n",
       "      estimator=LinearRegression(copy_X=True, fit_intercept=True, n_jobs=None,\n",
       "                                 normalize=False),\n",
       "      min_features_to_select=1, n_jobs=-1, scoring='neg_mean_squared_error',\n",
       "      step=3, verbose=1)"
      ]
     },
     "execution_count": 19,
     "metadata": {},
     "output_type": "execute_result"
    }
   ],
   "source": [
    "#recursive wrapper method\n",
    "\n",
    "# Create recursive feature eliminator that scores features by mean squared errors\n",
    "selector = RFECV(estimator=ols, step=3, cv=5, scoring='neg_mean_squared_error', verbose =1, n_jobs=-1)\n",
    "\n",
    "# Fit recursive feature eliminator \n",
    "selector.fit(X_train_scaled, y_train)\n",
    "\n"
   ]
  },
  {
   "cell_type": "code",
   "execution_count": 20,
   "metadata": {},
   "outputs": [],
   "source": [
    "selected_columns = X_train_scaled.columns[selector.support_]\n",
    "removed_columns = X_train_scaled.columns[~selector.support_]"
   ]
  },
  {
   "cell_type": "code",
   "execution_count": 21,
   "metadata": {},
   "outputs": [
    {
     "data": {
      "text/plain": [
       "191"
      ]
     },
     "execution_count": 21,
     "metadata": {},
     "output_type": "execute_result"
    }
   ],
   "source": [
    "len(selected_columns)"
   ]
  },
  {
   "cell_type": "code",
   "execution_count": 22,
   "metadata": {},
   "outputs": [
    {
     "name": "stdout",
     "output_type": "stream",
     "text": [
      "Training Root Mean Squared Error: 0.1721665513896679\n",
      "Testing Root Mean Squared Error: 0.18094078197433625\n",
      "Train RMSE 0 Test RMSE:  0\n"
     ]
    }
   ],
   "source": [
    "lm_rfe = LinearRegression()\n",
    "\n",
    "lm_rfe = lm_rfe.fit(X_train_scaled[selected_columns], y_train)\n",
    "\n",
    "y_rfe=lm_rfe.predict(X_train_scaled[selected_columns])\n",
    "\n",
    "trainRFE_rmse = np.sqrt(metrics.mean_squared_error(y_train, y_rfe))\n",
    "\n",
    "print('Training Root Mean Squared Error:' , trainRFE_rmse)\n",
    "\n",
    "y_pred_rfe = lm_rfe.predict(X_test_scaled[selected_columns])\n",
    "\n",
    "testRFE_rmse = np.sqrt(metrics.mean_squared_error(y_test, y_pred_rfe))\n",
    "\n",
    "print('Testing Root Mean Squared Error:' , testRFE_rmse)\n",
    "\n",
    "\n",
    "print(\"Train RMSE\", int(trainRFE_rmse), \"Test RMSE: \", int(testRFE_rmse))"
   ]
  },
  {
   "cell_type": "code",
   "execution_count": 23,
   "metadata": {},
   "outputs": [],
   "source": [
    "#Calculate sum of coefficients for this model"
   ]
  },
  {
   "cell_type": "code",
   "execution_count": 25,
   "metadata": {},
   "outputs": [
    {
     "name": "stdout",
     "output_type": "stream",
     "text": [
      "Training Error: 0.1570219176728787\n",
      "Testing Error: 0.2124900450050747\n"
     ]
    }
   ],
   "source": [
    "## training the model\n",
    "from sklearn.linear_model import Lasso\n",
    "\n",
    "lasso = Lasso(alpha=0.01, normalize=False)\n",
    "\n",
    "lasso.fit(X_train_scaled,y_train)\n",
    "\n",
    "y_train_pred_lasso = lasso.predict(X_train_scaled)\n",
    "y_pred_lasso = lasso.predict(X_test_scaled)\n",
    "\n",
    "train_rmse_lasso = metrics.mean_absolute_error(y_train, y_train_pred_lasso)\n",
    "test_rmse_lasso = np.sqrt(metrics.mean_squared_error(y_test, y_pred_lasso))\n",
    "print('Training Error: '+ str(train_rmse_lasso) )\n",
    "print('Testing Error: '+ str(test_rmse_lasso) )\n",
    "\n"
   ]
  },
  {
   "cell_type": "code",
   "execution_count": 26,
   "metadata": {},
   "outputs": [],
   "source": [
    "from sklearn.linear_model import SGDRegressor\n"
   ]
  },
  {
   "cell_type": "code",
   "execution_count": 27,
   "metadata": {},
   "outputs": [
    {
     "name": "stdout",
     "output_type": "stream",
     "text": [
      "-- Epoch 1\n",
      "Norm: 121446079527.76, NNZs: 221, Bias: -3644150769.197832, T: 14577, Avg. loss: 8878306384561901142016.000000\n",
      "Total training time: 0.05 seconds.\n",
      "-- Epoch 2\n",
      "Norm: 142442617351.42, NNZs: 221, Bias: 483083307.407479, T: 29154, Avg. loss: 7717969029409954332672.000000\n",
      "Total training time: 0.08 seconds.\n",
      "-- Epoch 3\n",
      "Norm: 67737371382.54, NNZs: 221, Bias: 1235269695.888133, T: 43731, Avg. loss: 6504499853399560290304.000000\n",
      "Total training time: 0.13 seconds.\n",
      "-- Epoch 4\n",
      "Norm: 77772101419.64, NNZs: 221, Bias: 267444760.586261, T: 58308, Avg. loss: 3830581982302479319040.000000\n",
      "Total training time: 0.17 seconds.\n",
      "-- Epoch 5\n",
      "Norm: 83910864909.54, NNZs: 221, Bias: -1426852446.347853, T: 72885, Avg. loss: 2818217575577080037376.000000\n",
      "Total training time: 0.22 seconds.\n",
      "-- Epoch 6\n",
      "Norm: 86078807323.17, NNZs: 221, Bias: 1742099175.044543, T: 87462, Avg. loss: 2737209804175282536448.000000\n",
      "Total training time: 0.31 seconds.\n",
      "-- Epoch 7\n",
      "Norm: 70043387688.41, NNZs: 221, Bias: -1375677931.861110, T: 102039, Avg. loss: 2568267127813336203264.000000\n",
      "Total training time: 0.38 seconds.\n",
      "-- Epoch 8\n",
      "Norm: 79755397532.48, NNZs: 221, Bias: -2285578301.272395, T: 116616, Avg. loss: 1767508085153966850048.000000\n",
      "Total training time: 0.44 seconds.\n",
      "-- Epoch 9\n",
      "Norm: 51617913438.50, NNZs: 221, Bias: 599925075.280556, T: 131193, Avg. loss: 2949962782618194804736.000000\n",
      "Total training time: 0.48 seconds.\n",
      "-- Epoch 10\n",
      "Norm: 67908717117.43, NNZs: 221, Bias: -2116087447.219683, T: 145770, Avg. loss: 2636469262379931140096.000000\n",
      "Total training time: 0.53 seconds.\n",
      "-- Epoch 11\n",
      "Norm: 56536020072.44, NNZs: 221, Bias: -694812857.640479, T: 160347, Avg. loss: 2550024844028768944128.000000\n",
      "Total training time: 0.57 seconds.\n",
      "Convergence after 11 epochs took 0.58 seconds\n"
     ]
    },
    {
     "data": {
      "text/plain": [
       "SGDRegressor(alpha=0.01, average=False, early_stopping=True, epsilon=0.1,\n",
       "             eta0=0.01, fit_intercept=True, l1_ratio=0.15,\n",
       "             learning_rate='invscaling', loss='squared_loss', max_iter=1000,\n",
       "             n_iter_no_change=5, penalty='l1', power_t=0.25, random_state=None,\n",
       "             shuffle=True, tol=0.001, validation_fraction=0.1, verbose=1,\n",
       "             warm_start=False)"
      ]
     },
     "execution_count": 27,
     "metadata": {},
     "output_type": "execute_result"
    }
   ],
   "source": [
    "lasso = SGDRegressor(penalty='l1', alpha=0.01, early_stopping=True, verbose=1)\n",
    "\n",
    "lasso.fit(X_train_scaled,y_train)\n",
    "\n",
    "\n"
   ]
  },
  {
   "cell_type": "code",
   "execution_count": 28,
   "metadata": {},
   "outputs": [
    {
     "name": "stdout",
     "output_type": "stream",
     "text": [
      "Training Error: 8452581604.625785\n",
      "Testing Error: 33680563738.496895\n"
     ]
    }
   ],
   "source": [
    "y_train_pred_lasso = lasso.predict(X_train_scaled)\n",
    "y_pred_lasso = lasso.predict(X_test_scaled)\n",
    "\n",
    "train_rmse_lasso = metrics.mean_absolute_error(y_train, y_train_pred_lasso)\n",
    "test_rmse_lasso = np.sqrt(metrics.mean_squared_error(y_test, y_pred_lasso))\n",
    "print('Training Error: '+ str(train_rmse_lasso) )\n",
    "print('Testing Error: '+ str(test_rmse_lasso) )"
   ]
  },
  {
   "cell_type": "code",
   "execution_count": null,
   "metadata": {},
   "outputs": [],
   "source": [
    "#Calculate sum of coefficients for this model"
   ]
  },
  {
   "cell_type": "code",
   "execution_count": null,
   "metadata": {},
   "outputs": [],
   "source": [
    "ridge = SGDRegressor(penalty='l2', alpha=0.01, early_stopping=True, verbose=1)\n",
    "\n",
    "ridge.fit(X_train_scaled,y_train)\n",
    "\n"
   ]
  },
  {
   "cell_type": "code",
   "execution_count": null,
   "metadata": {},
   "outputs": [],
   "source": [
    "y_train_pred_ridge = ridge.predict(X_train_scaled)\n",
    "y_pred_ridge = ridge.predict(X_test_scaled)\n",
    "\n",
    "train_rmse_ridge = metrics.mean_absolute_error(y_train, y_train_pred_ridge)\n",
    "test_rmse_ridge = np.sqrt(metrics.mean_squared_error(y_test, y_pred_ridge))\n",
    "print('Training Error: '+ str(train_rmse_ridge) )\n",
    "print('Testing Error: '+ str(test_rmse_ridge) )"
   ]
  },
  {
   "cell_type": "code",
   "execution_count": null,
   "metadata": {},
   "outputs": [],
   "source": [
    "#Calculate sum of coefficients for this model"
   ]
  },
  {
   "cell_type": "code",
   "execution_count": null,
   "metadata": {},
   "outputs": [],
   "source": [
    "lasso_coef01 = pd.DataFrame(data=lasso.coef_).T\n",
    "lasso_coef01.columns = X_train_scaled.columns\n",
    "lasso_coef01 = lasso_coef01.T.sort_values(by=0).T\n",
    "#lasso_coef01.plot(kind='bar', title='Modal Coefficients', legend=False, figsize=(16,8))\n",
    "lasso_coef01.T"
   ]
  },
  {
   "cell_type": "markdown",
   "metadata": {},
   "source": [
    "We want to pick our best model, but this is more complicated than just choosing between linear regression, Lasso, or Ridge. We now have to also consider the different models that we get from different alpha values for Ridge and Lasso.\n",
    "\n",
    "\n",
    "How do we determine the best model that will not overfit to the training data? "
   ]
  },
  {
   "cell_type": "markdown",
   "metadata": {},
   "source": [
    "___"
   ]
  },
  {
   "cell_type": "markdown",
   "metadata": {},
   "source": [
    "## Cross Validation\n",
    "\n",
    "Cross-validation is a statistical method used to protect against overfitting a predictive model, particularly in a case where the amount of data may be limited. In cross-validation, you make a fixed number of folds (or partitions) of the data, run the analysis on each fold, and then average the overall error estimate."
   ]
  },
  {
   "cell_type": "markdown",
   "metadata": {},
   "source": [
    "### Steps for K-fold cross-validation\n"
   ]
  },
  {
   "cell_type": "markdown",
   "metadata": {},
   "source": [
    "\n",
    "1. Split the dataset into K **equal** partitions (or \"folds\").\n",
    "2. Use fold 1 as the **testing set** and the union of the other folds as the **training set**.\n",
    "3. Calculate **testing accuracy**.\n",
    "4. Repeat steps 2 and 3 K times, using a **different fold** as the testing set each time.\n",
    "5. Use the **average testing accuracy** as the estimate of out-of-sample accuracy."
   ]
  },
  {
   "cell_type": "markdown",
   "metadata": {},
   "source": [
    "Diagram of **10-fold cross-validation:**\n",
    "\n",
    "<img src=\"https://miro.medium.com/max/1354/1*qPMFLEbvc8QQf38Cf77wQg.png\">"
   ]
  },
  {
   "cell_type": "code",
   "execution_count": null,
   "metadata": {},
   "outputs": [],
   "source": [
    "# simulate splitting a dataset of 25 observations into 5 folds\n",
    "from sklearn.model_selection import KFold\n",
    "kf = KFold(n_splits=5, shuffle=False).split(range(25))"
   ]
  },
  {
   "cell_type": "code",
   "execution_count": null,
   "metadata": {},
   "outputs": [],
   "source": [
    "# print the contents of each training and testing set\n",
    "print('{} {:^61} {}'.format('Iteration', 'Training set observations', 'Testing set observations'))\n",
    "for iteration, data in enumerate(kf, start=1):\n",
    "    print('{:^9} {} {:^25}'.format(iteration, data[0], str(data[1])))"
   ]
  },
  {
   "cell_type": "markdown",
   "metadata": {},
   "source": [
    "- Dataset contains **25 observations** (numbered 0 through 24)\n",
    "- 5-fold cross-validation, thus it runs for **5 iterations**\n",
    "- For each iteration, every observation is either in the training set or the testing set, **but not both**\n",
    "- Every observation is in the testing set **exactly once**"
   ]
  },
  {
   "cell_type": "markdown",
   "metadata": {},
   "source": [
    "### Comparing cross-validation to train/test split\n"
   ]
  },
  {
   "cell_type": "markdown",
   "metadata": {},
   "source": [
    "\n",
    "Advantages of **cross-validation:**\n",
    "\n",
    "- More accurate estimate of out-of-sample accuracy\n",
    "- More \"efficient\" use of data (every observation is used for both training and testing)\n",
    "\n",
    "Advantages of **train/test split:**\n",
    "\n",
    "- Runs K times faster than K-fold cross-validation\n",
    "- Simpler to examine the detailed results of the testing process"
   ]
  },
  {
   "cell_type": "markdown",
   "metadata": {},
   "source": [
    "### Cross-validation recommendations\n"
   ]
  },
  {
   "cell_type": "markdown",
   "metadata": {},
   "source": [
    "\n",
    "1. K can be any number, but **K=10** is generally recommended\n",
    "2. For classification problems, **stratified sampling** is recommended for creating the folds\n",
    "    - Each response class should be represented with equal proportions in each of the K folds\n",
    "    - scikit-learn's `cross_val_score` function does this by default"
   ]
  },
  {
   "cell_type": "code",
   "execution_count": 29,
   "metadata": {},
   "outputs": [],
   "source": [
    "from sklearn.linear_model import LassoCV, RidgeCV"
   ]
  },
  {
   "cell_type": "code",
   "execution_count": 30,
   "metadata": {},
   "outputs": [
    {
     "name": "stderr",
     "output_type": "stream",
     "text": [
      "[Parallel(n_jobs=1)]: Using backend SequentialBackend with 1 concurrent workers.\n",
      "....................................................................................................................................................................................................................................................................................................................................................................................................................................................................................................................[Parallel(n_jobs=1)]: Done   5 out of   5 | elapsed:    3.2s finished\n",
      "C:\\Users\\Drago\\anaconda3\\lib\\site-packages\\sklearn\\linear_model\\_coordinate_descent.py:476: ConvergenceWarning: Objective did not converge. You might want to increase the number of iterations. Duality gap: 1.5269777891152785, tolerance: 0.4424574981601789\n",
      "  positive)\n"
     ]
    },
    {
     "data": {
      "text/plain": [
       "LassoCV(alphas=None, copy_X=True, cv=5, eps=0.001, fit_intercept=True,\n",
       "        max_iter=1000, n_alphas=100, n_jobs=None, normalize=False,\n",
       "        positive=False, precompute='auto', random_state=0, selection='cyclic',\n",
       "        tol=0.0001, verbose=1)"
      ]
     },
     "execution_count": 30,
     "metadata": {},
     "output_type": "execute_result"
    }
   ],
   "source": [
    "lassoCV_model = LassoCV(cv=5, random_state=0, verbose=1)\n",
    "lassoCV_model.fit(X_train_scaled, y_train)"
   ]
  },
  {
   "cell_type": "code",
   "execution_count": 31,
   "metadata": {},
   "outputs": [
    {
     "data": {
      "text/plain": [
       "0.0003732575008002979"
      ]
     },
     "execution_count": 31,
     "metadata": {},
     "output_type": "execute_result"
    }
   ],
   "source": [
    "lassoCV_model.alpha_"
   ]
  },
  {
   "cell_type": "code",
   "execution_count": 32,
   "metadata": {},
   "outputs": [
    {
     "data": {
      "text/plain": [
       "RidgeCV(alphas=array([ 0.1,  1. , 10. ]), cv=5, fit_intercept=True,\n",
       "        gcv_mode=None, normalize=False, scoring=None, store_cv_values=False)"
      ]
     },
     "execution_count": 32,
     "metadata": {},
     "output_type": "execute_result"
    }
   ],
   "source": [
    "RidgeCV_model = RidgeCV(cv=5)\n",
    "RidgeCV_model.fit(X_train_scaled, y_train)"
   ]
  },
  {
   "cell_type": "code",
   "execution_count": 33,
   "metadata": {},
   "outputs": [
    {
     "data": {
      "text/plain": [
       "10.0"
      ]
     },
     "execution_count": 33,
     "metadata": {},
     "output_type": "execute_result"
    }
   ],
   "source": [
    "RidgeCV_model.alpha_"
   ]
  },
  {
   "cell_type": "markdown",
   "metadata": {},
   "source": [
    "Now that we have used cross validation to help us determine the best **alpha** for Ridge and Lasso, we can then use those fitted models to compare on our test set.  "
   ]
  },
  {
   "cell_type": "markdown",
   "metadata": {},
   "source": [
    "## Improvements to cross-validation"
   ]
  },
  {
   "cell_type": "markdown",
   "metadata": {},
   "source": [
    "**Repeated cross-validation**\n",
    "\n",
    "- Repeat cross-validation multiple times (with **different random splits** of the data) and average the results\n",
    "- More reliable estimate of out-of-sample performance by **reducing the variance** associated with a single trial of cross-validation\n",
    "\n",
    "**Creating a hold-out set**\n",
    "\n",
    "- \"Hold out\" a portion of the data **before** beginning the model building process\n",
    "- Locate the best model using cross-validation on the remaining data, and test it **using the hold-out set**\n",
    "- More reliable estimate of out-of-sample performance since hold-out set is **truly out-of-sample**\n",
    "\n",
    "**Feature engineering and selection within cross-validation iterations**\n",
    "\n",
    "- Normally, feature engineering and selection occurs **before** cross-validation\n",
    "- Instead, perform all feature engineering and selection **within each cross-validation iteration**\n",
    "- More reliable estimate of out-of-sample performance since it **better mimics** the application of the model to out-of-sample data\n"
   ]
  },
  {
   "cell_type": "markdown",
   "metadata": {},
   "source": [
    "## Resources\n"
   ]
  },
  {
   "cell_type": "markdown",
   "metadata": {},
   "source": [
    "- scikit-learn documentation: [Cross-validation](http://scikit-learn.org/stable/modules/cross_validation.html), [Model evaluation](http://scikit-learn.org/stable/modules/model_evaluation.html)\n",
    "- scikit-learn issue on GitHub: [MSE is negative when returned by cross_val_score](https://github.com/scikit-learn/scikit-learn/issues/2439)\n",
    "- Section 5.1 of [An Introduction to Statistical Learning](http://www-bcf.usc.edu/~gareth/ISL/) (11 pages) and related videos: [K-fold and leave-one-out cross-validation](https://www.youtube.com/watch?v=nZAM5OXrktY&list=PL5-da3qGB5IA6E6ZNXu7dp89_uv8yocmf) (14 minutes), [Cross-validation the right and wrong ways](https://www.youtube.com/watch?v=S06JpVoNaA0&list=PL5-da3qGB5IA6E6ZNXu7dp89_uv8yocmf) (10 minutes)\n",
    "- Scott Fortmann-Roe: [Accurately Measuring Model Prediction Error](http://scott.fortmann-roe.com/docs/MeasuringError.html)\n",
    "- Machine Learning Mastery: [An Introduction to Feature Selection](http://machinelearningmastery.com/an-introduction-to-feature-selection/)\n",
    "- Harvard CS109: [Cross-Validation: The Right and Wrong Way](https://github.com/cs109/content/blob/master/lec_10_cross_val.ipynb)\n",
    "- Journal of Cheminformatics: [Cross-validation pitfalls when selecting and assessing regression and classification models](http://www.jcheminf.com/content/pdf/1758-2946-6-10.pdf)"
   ]
  },
  {
   "cell_type": "code",
   "execution_count": null,
   "metadata": {},
   "outputs": [],
   "source": []
  }
 ],
 "metadata": {
  "kernelspec": {
   "display_name": "Python 3",
   "language": "python",
   "name": "python3"
  },
  "language_info": {
   "codemirror_mode": {
    "name": "ipython",
    "version": 3
   },
   "file_extension": ".py",
   "mimetype": "text/x-python",
   "name": "python",
   "nbconvert_exporter": "python",
   "pygments_lexer": "ipython3",
   "version": "3.7.6"
  }
 },
 "nbformat": 4,
 "nbformat_minor": 2
}
