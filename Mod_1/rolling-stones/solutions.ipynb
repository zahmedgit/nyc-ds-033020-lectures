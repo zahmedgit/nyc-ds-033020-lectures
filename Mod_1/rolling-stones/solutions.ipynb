{
 "cells": [
  {
   "cell_type": "markdown",
   "metadata": {},
   "source": [
    "# Instructions:\n",
    "## Getting Started\n",
    "In this exercise, we will be using data from `rolling stone's top 500 albums`. We have this data contained in the `data.csv` file. We will be building out the following functions to answer questions and interact with this data.\n",
    "\n",
    "> **remember:** reading from a csv file in python looks like the following:\n",
    "\n",
    "```python \n",
    "import csv\n",
    "\n",
    "    with open(file_name) as f:\n",
    "        # we are using DictReader because we want our information to be in dictionary format.\n",
    "        reader = csv.DictReader(f)\n",
    "        # some more code\n",
    "```\n",
    "\n",
    "Once we have our `reader` reading our file as dictionaries, we want our data to be a list of dictionaries. So, we need to loop through our `reader` and create a list. *hint: list comprehension / for loops are your friend\"\n",
    "\n",
    "```python\n",
    "# our data will look something like this once we have read it and turned it into a list of `OrderedDict`s\n",
    "# don't worry, the ordered dicts look different but we can interact with them the same way we do normal dicts\n",
    "[OrderedDict([('number', '1'), ('year', '1967'), ('album', \"Sgt. Pepper's Lonely Hearts Club Band\"), ('artist', 'The Beatles'), ('genre', 'Rock'), ('subgenre', 'Rock & Roll, Psychedelic Rock')]), OrderedDict([('number', '2'), ('year', '1966'), ('album', 'Pet Sounds'), ('artist', 'The Beach Boys'), ('genre', 'Rock'), ('subgenre', 'Pop Rock, Psychedelic Rock')]), OrderedDict([('number', '3'), ('year', '1966'), ('album', 'Revolver'), ('artist', 'The Beatles'), ('genre', 'Rock'), ('subgenre', 'Psychedelic Rock, Pop Rock')])]\n",
    "```\n",
    "\n",
    "After we have our data formated the way we want it, we can now begin working on defining our functions."
   ]
  },
  {
   "cell_type": "markdown",
   "metadata": {},
   "source": [
    "## Importing our data"
   ]
  },
  {
   "cell_type": "code",
   "execution_count": 1,
   "metadata": {},
   "outputs": [],
   "source": [
    "import csv\n",
    "\n",
    "our_data = []\n",
    "with open('./data.csv') as f:\n",
    "    reader = csv.DictReader(f)\n",
    "    for item in reader:\n",
    "        our_data.append(item)\n",
    "        "
   ]
  },
  {
   "cell_type": "code",
   "execution_count": 2,
   "metadata": {
    "scrolled": true
   },
   "outputs": [],
   "source": [
    "our_data[0]"
   ]
  },
  {
   "cell_type": "markdown",
   "metadata": {},
   "source": [
    "## Functions to build-out\n",
    "### Searching Functions"
   ]
  },
  {
   "cell_type": "markdown",
   "metadata": {},
   "source": [
    "* Find by name - Takes in a string that represents the name of an album. Should return a dictionary with the correct album, or return None."
   ]
  },
  {
   "cell_type": "code",
   "execution_count": 3,
   "metadata": {},
   "outputs": [],
   "source": [
    "def find_by_name(our_data,name):\n",
    "    for album in our_data:\n",
    "        if album['album'] == name:\n",
    "            return album\n",
    "    return None"
   ]
  },
  {
   "cell_type": "code",
   "execution_count": 4,
   "metadata": {},
   "outputs": [],
   "source": [
    "find_by_name(our_data, 'Revolver' )"
   ]
  },
  {
   "cell_type": "markdown",
   "metadata": {},
   "source": [
    "* Find by rank - Takes in a number that represents the rank in the list of top albums and returns the album with that rank. If there is no album with that rank, it returns None."
   ]
  },
  {
   "cell_type": "code",
   "execution_count": 5,
   "metadata": {},
   "outputs": [],
   "source": [
    "def find_by_rank(our_data,rank):\n",
    "    for album in our_data:\n",
    "        if album['number'] == str(rank):\n",
    "            return album\n",
    "    return None\n",
    "    "
   ]
  },
  {
   "cell_type": "code",
   "execution_count": 6,
   "metadata": {},
   "outputs": [],
   "source": [
    "find_by_rank(our_data,42)"
   ]
  },
  {
   "cell_type": "markdown",
   "metadata": {},
   "source": [
    "* Find by year - Takes in a number for the year in which an album was released and returns a list of albums that were released in that year. If there are no albums released in the given year, it returns an empty list."
   ]
  },
  {
   "cell_type": "code",
   "execution_count": 7,
   "metadata": {},
   "outputs": [],
   "source": [
    "def find_by_year(our_data,year):\n",
    "    return [album for album in our_data if album['year'] == str(year)]"
   ]
  },
  {
   "cell_type": "code",
   "execution_count": 8,
   "metadata": {},
   "outputs": [
    {
     "data": {
      "text/plain": [
       "[OrderedDict([('number', '156'),\n",
       "              ('year', '1989'),\n",
       "              ('album', \"Paul's Boutique\"),\n",
       "              ('artist', 'Beastie Boys'),\n",
       "              ('genre', 'Hip Hop, Rock, Funk / Soul'),\n",
       "              ('subgenre', 'Alternative Rock, Pop Rap, Psychedelic')]),\n",
       " OrderedDict([('number', '227'),\n",
       "              ('year', '1989'),\n",
       "              ('album', 'Doolittle'),\n",
       "              ('artist', 'Pixies'),\n",
       "              ('genre', 'Rock'),\n",
       "              ('subgenre', 'Indie Rock')]),\n",
       " OrderedDict([('number', '230'),\n",
       "              ('year', '1989'),\n",
       "              ('album', 'Nick of Time'),\n",
       "              ('artist', 'Bonnie Raitt'),\n",
       "              ('genre', 'Rock, Pop'),\n",
       "              ('subgenre', 'Blues Rock, Pop Rock')]),\n",
       " OrderedDict([('number', '239'),\n",
       "              ('year', '1989'),\n",
       "              ('album', 'Like a Prayer'),\n",
       "              ('artist', 'Madonna'),\n",
       "              ('genre', 'Electronic, Pop'),\n",
       "              ('subgenre', 'Synth-pop')]),\n",
       " OrderedDict([('number', '277'),\n",
       "              ('year', '1989'),\n",
       "              ('album', 'Rhythm Nation 1814'),\n",
       "              ('artist', 'Janet Jackson'),\n",
       "              ('genre', 'Electronic, Hip Hop, Pop'),\n",
       "              ('subgenre', 'RnB/Swing, Downtempo, Synth-pop')]),\n",
       " OrderedDict([('number', '326'),\n",
       "              ('year', '1989'),\n",
       "              ('album', 'Disintegration'),\n",
       "              ('artist', 'The Cure'),\n",
       "              ('genre', 'Electronic, Rock'),\n",
       "              ('subgenre', 'New Wave, Alternative Rock')]),\n",
       " OrderedDict([('number', '389'),\n",
       "              ('year', '1989'),\n",
       "              ('album', 'The End of the Innocence'),\n",
       "              ('artist', 'Don Henley'),\n",
       "              ('genre', 'Rock'),\n",
       "              ('subgenre', 'Pop Rock')]),\n",
       " OrderedDict([('number', '408'),\n",
       "              ('year', '1989'),\n",
       "              ('album', \"I Do Not Want What I Haven't Got\"),\n",
       "              ('artist', \"Sinead O'Connor\"),\n",
       "              ('genre', 'Rock, Funk / Soul, Blues'),\n",
       "              ('subgenre', 'Blues Rock, Rhythm & Blues, Soul')]),\n",
       " OrderedDict([('number', '498'),\n",
       "              ('year', '1989'),\n",
       "              ('album', 'The Stone Roses'),\n",
       "              ('artist', 'The Stone Roses'),\n",
       "              ('genre', 'Rock'),\n",
       "              ('subgenre', 'Indie Rock')])]"
      ]
     },
     "execution_count": 8,
     "metadata": {},
     "output_type": "execute_result"
    }
   ],
   "source": [
    "find_by_year(our_data,1989)"
   ]
  },
  {
   "cell_type": "markdown",
   "metadata": {},
   "source": [
    "* Find by years - Takes in a start year and end year. Returns a list of all albums that were released on or between the start and end years. If no albums are found for those years, then an empty list is returned."
   ]
  },
  {
   "cell_type": "code",
   "execution_count": 9,
   "metadata": {},
   "outputs": [],
   "source": [
    "def multiple_years(our_data, start, end):\n",
    "    count = start\n",
    "    album_list = []\n",
    "    while count <= end:\n",
    "        album_list.append(find_by_year(our_data,count))\n",
    "        count += 1\n",
    "    return album_list"
   ]
  },
  {
   "cell_type": "code",
   "execution_count": 10,
   "metadata": {},
   "outputs": [
    {
     "data": {
      "text/plain": [
       "[[OrderedDict([('number', '23'),\n",
       "               ('year', '1970'),\n",
       "               ('album', 'John Lennon/Plastic Ono Band'),\n",
       "               ('artist', 'John Lennon / Plastic Ono Band'),\n",
       "               ('genre', 'Rock'),\n",
       "               ('subgenre', 'Pop Rock')]),\n",
       "  OrderedDict([('number', '51'),\n",
       "               ('year', '1970'),\n",
       "               ('album', 'Bridge Over Troubled Water'),\n",
       "               ('artist', 'Simon & Garfunkel'),\n",
       "               ('genre', 'Rock'),\n",
       "               ('subgenre', 'Folk Rock, Classic Rock')]),\n",
       "  OrderedDict([('number', '61'),\n",
       "               ('year', '1970'),\n",
       "               ('album', 'Greatest Hits'),\n",
       "               ('artist', 'Sly & The Family Stone'),\n",
       "               ('genre', 'Funk / Soul'),\n",
       "               ('subgenre', 'Rhythm & Blues, Funk')]),\n",
       "  OrderedDict([('number', '66'),\n",
       "               ('year', '1970'),\n",
       "               ('album', 'Moondance'),\n",
       "               ('artist', 'Van Morrison'),\n",
       "               ('genre', 'Jazz, Rock, Funk / Soul, Folk, World, & Country'),\n",
       "               ('subgenre',\n",
       "                'Folk Rock, Rhythm & Blues, Classic Rock, Contemporary Jazz')]),\n",
       "  OrderedDict([('number', '74'),\n",
       "               ('year', '1970'),\n",
       "               ('album', 'After the Gold Rush'),\n",
       "               ('artist', 'Neil Young'),\n",
       "               ('genre', 'Rock'),\n",
       "               ('subgenre', 'Rock & Roll, Country Rock')]),\n",
       "  OrderedDict([('number', '95'),\n",
       "               ('year', '1970'),\n",
       "               ('album', 'Bitches Brew'),\n",
       "               ('artist', 'Miles Davis'),\n",
       "               ('genre', 'Jazz'),\n",
       "               ('subgenre', 'Fusion')]),\n",
       "  OrderedDict([('number', '104'),\n",
       "               ('year', '1970'),\n",
       "               ('album', 'Sweet Baby James'),\n",
       "               ('artist', 'James Taylor'),\n",
       "               ('genre', 'Rock'),\n",
       "               ('subgenre', 'Folk Rock, Acoustic, Soft Rock')]),\n",
       "  OrderedDict([('number', '110'),\n",
       "               ('year', '1970'),\n",
       "               ('album', 'Loaded'),\n",
       "               ('artist', 'The Velvet Underground'),\n",
       "               ('genre', 'Rock'),\n",
       "               ('subgenre', 'Art Rock, Classic Rock')]),\n",
       "  OrderedDict([('number', '117'),\n",
       "               ('year', '1970'),\n",
       "               ('album', 'Layla and Other Assorted Love Songs'),\n",
       "               ('artist', 'Derek and the Dominos'),\n",
       "               ('genre', 'Rock'),\n",
       "               ('subgenre', 'Blues Rock')]),\n",
       "  OrderedDict([('number', '131'),\n",
       "               ('year', '1970'),\n",
       "               ('album', 'Paranoid'),\n",
       "               ('artist', 'Black Sabbath'),\n",
       "               ('genre', 'Rock'),\n",
       "               ('subgenre', 'Hard Rock, Heavy Metal')]),\n",
       "  OrderedDict([('number', '147'),\n",
       "               ('year', '1970'),\n",
       "               ('album', 'Deja vu'),\n",
       "               ('artist', 'Crosby, Stills, Nash & Young'),\n",
       "               ('genre', 'Rock'),\n",
       "               ('subgenre', 'Classic Rock')]),\n",
       "  OrderedDict([('number', '170'),\n",
       "               ('year', '1970'),\n",
       "               ('album', 'Live at Leeds'),\n",
       "               ('artist', 'The Who'),\n",
       "               ('genre', 'Rock'),\n",
       "               ('subgenre', 'Classic Rock, Blues Rock, Hard Rock')]),\n",
       "  OrderedDict([('number', '175'),\n",
       "               ('year', '1970'),\n",
       "               ('album', 'Close to You'),\n",
       "               ('artist', 'Carpenters'),\n",
       "               ('genre', 'Rock, Pop'),\n",
       "               ('subgenre', 'Pop Rock, Vocal')]),\n",
       "  OrderedDict([('number', '191'),\n",
       "               ('year', '1970'),\n",
       "               ('album', 'Fun House'),\n",
       "               ('artist', 'The Stooges'),\n",
       "               ('genre', 'Rock'),\n",
       "               ('subgenre', 'Garage Rock, Punk')]),\n",
       "  OrderedDict([('number', '207'),\n",
       "               ('year', '1970'),\n",
       "               ('album', 'Abraxas'),\n",
       "               ('artist', 'Santana'),\n",
       "               ('genre', 'Rock, Latin'),\n",
       "               ('subgenre', 'Fusion, Hard Rock, Psychedelic Rock')]),\n",
       "  OrderedDict([('number', '208'),\n",
       "               ('year', '1970'),\n",
       "               ('album', 'Tea for the Tillerman'),\n",
       "               ('artist', 'Cat Stevens'),\n",
       "               ('genre', 'Rock, Stage & Screen'),\n",
       "               ('subgenre', 'Folk Rock, Pop Rock')]),\n",
       "  OrderedDict([('number', '220'),\n",
       "               ('year', '1970'),\n",
       "               ('album', 'Look-Ka Py Py'),\n",
       "               ('artist', 'The Meters'),\n",
       "               ('genre', 'Funk / Soul'),\n",
       "               ('subgenre', 'Bayou Funk, Soul, Funk')]),\n",
       "  OrderedDict([('number', '243'),\n",
       "               ('year', '1970'),\n",
       "               ('album', 'Black Sabbath'),\n",
       "               ('artist', 'Black Sabbath'),\n",
       "               ('genre', 'Rock'),\n",
       "               ('subgenre', 'Blues Rock, Heavy Metal')]),\n",
       "  OrderedDict([('number', '261'),\n",
       "               ('year', '1970'),\n",
       "               ('album', 'American Beauty'),\n",
       "               ('artist', 'Grateful Dead'),\n",
       "               ('genre', 'Rock'),\n",
       "               ('subgenre', 'Folk Rock')]),\n",
       "  OrderedDict([('number', '264'),\n",
       "               ('year', '1970'),\n",
       "               ('album', \"Workingman's Dead\"),\n",
       "               ('artist', 'Grateful Dead'),\n",
       "               ('genre', 'Rock'),\n",
       "               ('subgenre', 'Folk Rock, Country Rock, Classic Rock')]),\n",
       "  OrderedDict([('number', '295'),\n",
       "               ('year', '1970'),\n",
       "               ('album', 'Songs of Love and Hate'),\n",
       "               ('artist', 'Leonard Cohen'),\n",
       "               ('genre', 'Folk, World, & Country'),\n",
       "               ('subgenre', 'Folk Rock, Folk, Ballad')]),\n",
       "  OrderedDict([('number', '356'),\n",
       "               ('year', '1970'),\n",
       "               ('album', '12 Songs'),\n",
       "               ('artist', 'Randy Newman'),\n",
       "               ('genre', 'Rock, Pop'),\n",
       "               ('subgenre', 'Pop Rock, Vocal')]),\n",
       "  OrderedDict([('number', '392'),\n",
       "               ('year', '1970'),\n",
       "               ('album', 'Let It Be'),\n",
       "               ('artist', 'The Beatles'),\n",
       "               ('genre', 'Rock'),\n",
       "               ('subgenre', 'Pop Rock')]),\n",
       "  OrderedDict([('number', '433'),\n",
       "               ('year', '1970'),\n",
       "               ('album', 'All Things Must Pass'),\n",
       "               ('artist', 'George Harrison'),\n",
       "               ('genre', 'Rock'),\n",
       "               ('subgenre', 'Pop Rock')]),\n",
       "  OrderedDict([('number', '446'),\n",
       "               ('year', '1970'),\n",
       "               ('album', 'Back in the USA'),\n",
       "               ('artist', 'MC5'),\n",
       "               ('genre', 'Rock'),\n",
       "               ('subgenre', 'Garage Rock, Rock & Roll')]),\n",
       "  OrderedDict([('number', '458'),\n",
       "               ('year', '1970'),\n",
       "               ('album', 'Tumbleweed Connection'),\n",
       "               ('artist', 'Elton John'),\n",
       "               ('genre', 'Rock, Folk, World, & Country'),\n",
       "               ('subgenre', 'Soft Rock, Country Rock')])],\n",
       " [OrderedDict([('number', '6'),\n",
       "               ('year', '1971'),\n",
       "               ('album', \"What's Going On\"),\n",
       "               ('artist', 'Marvin Gaye'),\n",
       "               ('genre', 'Funk / Soul'),\n",
       "               ('subgenre', 'Soul')]),\n",
       "  OrderedDict([('number', '28'),\n",
       "               ('year', '1971'),\n",
       "               ('album', \"Who's Next\"),\n",
       "               ('artist', 'The Who'),\n",
       "               ('genre', 'Rock'),\n",
       "               ('subgenre', 'Hard Rock, Mod, Prog Rock, Psychedelic Rock')]),\n",
       "  OrderedDict([('number', '30'),\n",
       "               ('year', '1971'),\n",
       "               ('album', 'Blue'),\n",
       "               ('artist', 'Joni Mitchell'),\n",
       "               ('genre', 'Pop'),\n",
       "               ('subgenre', 'Acoustic, Ballad, Folk')]),\n",
       "  OrderedDict([('number', '36'),\n",
       "               ('year', '1971'),\n",
       "               ('album', 'Tapestry'),\n",
       "               ('artist', 'Carole King'),\n",
       "               ('genre', 'Rock, Pop'),\n",
       "               ('subgenre', 'Folk Rock, Soft Rock')]),\n",
       "  OrderedDict([('number', '49'),\n",
       "               ('year', '1971'),\n",
       "               ('album', 'At Fillmore East'),\n",
       "               ('artist', 'The Allman Brothers Band'),\n",
       "               ('genre', 'Rock, Blues'),\n",
       "               ('subgenre', 'Blues Rock')]),\n",
       "  OrderedDict([('number', '64'),\n",
       "               ('year', '1971'),\n",
       "               ('album', 'Sticky Fingers'),\n",
       "               ('artist', 'The Rolling Stones'),\n",
       "               ('genre', 'Rock'),\n",
       "               ('subgenre', 'Classic Rock')]),\n",
       "  OrderedDict([('number', '69'),\n",
       "               ('year', '1971'),\n",
       "               ('album', '[Led Zeppelin IV]'),\n",
       "               ('artist', 'Led Zeppelin'),\n",
       "               ('genre', 'Rock'),\n",
       "               ('subgenre', 'Hard Rock, Classic Rock, Blues Rock')]),\n",
       "  OrderedDict([('number', '80'),\n",
       "               ('year', '1971'),\n",
       "               ('album', 'Imagine'),\n",
       "               ('artist', 'John Lennon'),\n",
       "               ('genre', 'Rock'),\n",
       "               ('subgenre', 'Pop Rock')]),\n",
       "  OrderedDict([('number', '99'),\n",
       "               ('year', '1971'),\n",
       "               ('album', \"There's a Riot Goin' On\"),\n",
       "               ('artist', 'Sly & The Family Stone'),\n",
       "               ('genre', 'Funk / Soul'),\n",
       "               ('subgenre', 'Rhythm & Blues, Funk')]),\n",
       "  OrderedDict([('number', '108'),\n",
       "               ('year', '1971'),\n",
       "               ('album', 'Hunky Dory'),\n",
       "               ('artist', 'David Bowie'),\n",
       "               ('genre', 'Rock'),\n",
       "               ('subgenre', 'Classic Rock, Glam')]),\n",
       "  OrderedDict([('number', '125'),\n",
       "               ('year', '1971'),\n",
       "               ('album', 'Pearl'),\n",
       "               ('artist', 'Janis Joplin'),\n",
       "               ('genre', 'Rock, Blues'),\n",
       "               ('subgenre', 'Blues Rock')]),\n",
       "  OrderedDict([('number', '160'),\n",
       "               ('year', '1971'),\n",
       "               ('album', 'Electric Warrior'),\n",
       "               ('artist', 'T. Rex'),\n",
       "               ('genre', 'Rock'),\n",
       "               ('subgenre', 'Glam, Classic Rock')]),\n",
       "  OrderedDict([('number', '172'),\n",
       "               ('year', '1971'),\n",
       "               ('album', 'Every Picture Tells a Story'),\n",
       "               ('artist', 'Rod Stewart'),\n",
       "               ('genre', 'Rock'),\n",
       "               ('subgenre', 'Pop Rock')]),\n",
       "  OrderedDict([('number', '300'),\n",
       "               ('year', '1971'),\n",
       "               ('album', 'Master of Reality'),\n",
       "               ('artist', 'Black Sabbath'),\n",
       "               ('genre', 'Rock'),\n",
       "               ('subgenre', 'Hard Rock, Heavy Metal')]),\n",
       "  OrderedDict([('number', '301'),\n",
       "               ('year', '1971'),\n",
       "               ('album', 'Coat of Many Colors'),\n",
       "               ('artist', 'Dolly Parton'),\n",
       "               ('genre', 'Folk, World, & Country'),\n",
       "               ('subgenre', 'Country')]),\n",
       "  OrderedDict([('number', '337'),\n",
       "               ('year', '1971'),\n",
       "               ('album', 'Aqualung'),\n",
       "               ('artist', 'Jethro Tull'),\n",
       "               ('genre', 'Rock'),\n",
       "               ('subgenre', 'Classic Rock, Prog Rock')]),\n",
       "  OrderedDict([('number', '364'),\n",
       "               ('year', '1971'),\n",
       "               ('album', 'L.A. Woman'),\n",
       "               ('artist', 'The Doors'),\n",
       "               ('genre', 'Rock'),\n",
       "               ('subgenre', 'Blues Rock, Classic Rock')]),\n",
       "  OrderedDict([('number', '452'),\n",
       "               ('year', '1971'),\n",
       "               ('album', 'John Prine'),\n",
       "               ('artist', 'John Prine'),\n",
       "               ('genre', 'Folk, World, & Country'),\n",
       "               ('subgenre', 'Country, Folk')]),\n",
       "  OrderedDict([('number', '454'),\n",
       "               ('year', '1971'),\n",
       "               ('album', 'Love It to Death'),\n",
       "               ('artist', 'Alice Cooper'),\n",
       "               ('genre', 'Rock'),\n",
       "               ('subgenre', 'Classic Rock')]),\n",
       "  OrderedDict([('number', '479'),\n",
       "               ('year', '1971'),\n",
       "               ('album', 'Maggot Brain'),\n",
       "               ('artist', 'Funkadelic'),\n",
       "               ('genre', 'Rock, Funk / Soul'),\n",
       "               ('subgenre', 'P.Funk, Psychedelic Rock')]),\n",
       "  OrderedDict([('number', '499'),\n",
       "               ('year', '1971'),\n",
       "               ('album', 'Live in Cook County Jail'),\n",
       "               ('artist', 'B.B. King'),\n",
       "               ('genre', 'Blues'),\n",
       "               ('subgenre', 'Electric Blues')])],\n",
       " [OrderedDict([('number', '7'),\n",
       "               ('year', '1972'),\n",
       "               ('album', 'Exile on Main St.'),\n",
       "               ('artist', 'The Rolling Stones'),\n",
       "               ('genre', 'Rock'),\n",
       "               ('subgenre', 'Blues Rock, Rock & Roll, Classic Rock')]),\n",
       "  OrderedDict([('number', '35'),\n",
       "               ('year', '1972'),\n",
       "               ('album',\n",
       "                'The Rise and Fall of Ziggy Stardust and the Spiders From Mars'),\n",
       "               ('artist', 'David Bowie'),\n",
       "               ('genre', 'Rock'),\n",
       "               ('subgenre', 'Classic Rock, Glam')]),\n",
       "  OrderedDict([('number', '72'),\n",
       "               ('year', '1972'),\n",
       "               ('album', 'Superfly'),\n",
       "               ('artist', 'Curtis Mayfield'),\n",
       "               ('genre', 'Funk / Soul, Stage & Screen'),\n",
       "               ('subgenre', 'Soundtrack, Soul')]),\n",
       "  OrderedDict([('number', '82'),\n",
       "               ('year', '1972'),\n",
       "               ('album', 'Harvest'),\n",
       "               ('artist', 'Neil Young'),\n",
       "               ('genre', 'Rock'),\n",
       "               ('subgenre', 'Folk Rock, Country Rock, Classic Rock')]),\n",
       "  OrderedDict([('number', '90'),\n",
       "               ('year', '1972'),\n",
       "               ('album', 'Talking Book'),\n",
       "               ('artist', 'Stevie Wonder'),\n",
       "               ('genre', 'Funk / Soul'),\n",
       "               ('subgenre', 'Soul, Funk')]),\n",
       "  OrderedDict([('number', '122'),\n",
       "               ('year', '1972'),\n",
       "               ('album', 'The Harder They Come'),\n",
       "               ('artist', 'Various Artists'),\n",
       "               ('genre', 'Reggae,Pop,Folk, World, & Country,Stage & Screen'),\n",
       "               ('subgenre',\n",
       "                'Reggae,Roots Reggae,Rocksteady,Contemporary,Soundtrack')]),\n",
       "  OrderedDict([('number', '173'),\n",
       "               ('year', '1972'),\n",
       "               ('album', 'Something/Anything?'),\n",
       "               ('artist', 'Todd Rundgren'),\n",
       "               ('genre', 'Rock'),\n",
       "               ('subgenre', 'Power Pop, Pop Rock, Prog Rock')]),\n",
       "  OrderedDict([('number', '194'),\n",
       "               ('year', '1972'),\n",
       "               ('album', 'Transformer'),\n",
       "               ('artist', 'Lou Reed'),\n",
       "               ('genre', 'Rock'),\n",
       "               ('subgenre', 'Glam')]),\n",
       "  OrderedDict([('number', '222'),\n",
       "               ('year', '1972'),\n",
       "               ('album', 'New Orleans Piano'),\n",
       "               ('artist', 'Professor Longhair'),\n",
       "               ('genre', 'Funk / Soul, Blues'),\n",
       "               ('subgenre', 'Piano Blues')]),\n",
       "  OrderedDict([('number', '240'),\n",
       "               ('year', '1972'),\n",
       "               ('album', \"Can't Buy a Thrill\"),\n",
       "               ('artist', 'Steely Dan'),\n",
       "               ('genre', 'Rock'),\n",
       "               ('subgenre', 'Classic Rock')]),\n",
       "  OrderedDict([('number', '268'),\n",
       "               ('year', '1972'),\n",
       "               ('album', 'Paul Simon'),\n",
       "               ('artist', 'Paul Simon'),\n",
       "               ('genre', 'Rock'),\n",
       "               ('subgenre', 'Folk Rock, Pop Rock')]),\n",
       "  OrderedDict([('number', '285'),\n",
       "               ('year', '1972'),\n",
       "               ('album', 'Music of My Mind'),\n",
       "               ('artist', 'Stevie Wonder'),\n",
       "               ('genre', 'Funk / Soul'),\n",
       "               ('subgenre', 'Soul-Jazz, Soul')]),\n",
       "  OrderedDict([('number', '286'),\n",
       "               ('year', '1972'),\n",
       "               ('album', \"I'm Still in Love With You\"),\n",
       "               ('artist', 'Al Green'),\n",
       "               ('genre', 'Funk / Soul'),\n",
       "               ('subgenre', 'Rhythm & Blues, Soul')]),\n",
       "  OrderedDict([('number', '318'),\n",
       "               ('year', '1972'),\n",
       "               ('album', 'Back Stabbers'),\n",
       "               ('artist', \"The O'Jays\"),\n",
       "               ('genre', 'Funk / Soul'),\n",
       "               ('subgenre', 'Soul')]),\n",
       "  OrderedDict([('number', '321'),\n",
       "               ('year', '1972'),\n",
       "               ('album', 'Pink Moon'),\n",
       "               ('artist', 'Nick Drake'),\n",
       "               ('genre', 'Rock, Folk, World, & Country'),\n",
       "               ('subgenre', 'Folk, Folk Rock, Acoustic')]),\n",
       "  OrderedDict([('number', '322'),\n",
       "               ('year', '1972'),\n",
       "               ('album', 'Sail Away'),\n",
       "               ('artist', 'Randy Newman'),\n",
       "               ('genre', 'Rock, Pop'),\n",
       "               ('subgenre', 'None')]),\n",
       "  OrderedDict([('number', '368'),\n",
       "               ('year', '1972'),\n",
       "               ('album', 'Eagles'),\n",
       "               ('artist', 'Eagles'),\n",
       "               ('genre', 'Rock'),\n",
       "               ('subgenre', 'Country Rock, Classic Rock')]),\n",
       "  OrderedDict([('number', '404'),\n",
       "               ('year', '1972'),\n",
       "               ('album', \"Dr. John's Gumbo\"),\n",
       "               ('artist', 'Dr. John'),\n",
       "               ('genre', 'Funk / Soul'),\n",
       "               ('subgenre', 'Bayou Funk, Funk, Rhythm & Blues')]),\n",
       "  OrderedDict([('number', '434'),\n",
       "               ('year', '1972'),\n",
       "               ('album', '#1 Record'),\n",
       "               ('artist', 'Big Star'),\n",
       "               ('genre', 'Rock'),\n",
       "               ('subgenre', 'Power Pop')]),\n",
       "  OrderedDict([('number', '444'),\n",
       "               ('year', '1972'),\n",
       "               ('album', 'The World Is a Ghetto'),\n",
       "               ('artist', 'War'),\n",
       "               ('genre', 'Funk / Soul'),\n",
       "               ('subgenre', 'Funk')]),\n",
       "  OrderedDict([('number', '484'),\n",
       "               ('year', '1972'),\n",
       "               ('album', 'All the Young Dudes'),\n",
       "               ('artist', 'Mott the Hoople'),\n",
       "               ('genre', 'Rock'),\n",
       "               ('subgenre', 'Classic Rock, Glam')]),\n",
       "  OrderedDict([('number', '495'),\n",
       "               ('year', '1972'),\n",
       "               ('album', 'Give It Up'),\n",
       "               ('artist', 'Bonnie Raitt'),\n",
       "               ('genre', 'Rock'),\n",
       "               ('subgenre', 'Blues Rock')])],\n",
       " [OrderedDict([('number', '24'),\n",
       "               ('year', '1973'),\n",
       "               ('album', 'Innervisions'),\n",
       "               ('artist', 'Stevie Wonder'),\n",
       "               ('genre', 'Funk / Soul'),\n",
       "               ('subgenre', 'Soul')]),\n",
       "  OrderedDict([('number', '43'),\n",
       "               ('year', '1973'),\n",
       "               ('album', 'The Dark Side of the Moon'),\n",
       "               ('artist', 'Pink Floyd'),\n",
       "               ('genre', 'Rock'),\n",
       "               ('subgenre', 'Prog Rock')]),\n",
       "  OrderedDict([('number', '91'),\n",
       "               ('year', '1973'),\n",
       "               ('album', 'Goodbye Yellow Brick Road'),\n",
       "               ('artist', 'Elton John'),\n",
       "               ('genre', 'Rock'),\n",
       "               ('subgenre', 'Pop Rock, Classic Rock')]),\n",
       "  OrderedDict([('number', '126'),\n",
       "               ('year', '1973'),\n",
       "               ('album', 'Catch a Fire'),\n",
       "               ('artist', 'The Wailers'),\n",
       "               ('genre', 'Reggae'),\n",
       "               ('subgenre', 'Roots Reggae')]),\n",
       "  OrderedDict([('number', '128'),\n",
       "               ('year', '1973'),\n",
       "               ('album', 'Raw Power'),\n",
       "               ('artist', 'Iggy and The Stooges'),\n",
       "               ('genre', 'Rock'),\n",
       "               ('subgenre', 'Garage Rock, Hard Rock, Punk')]),\n",
       "  OrderedDict([('number', '133'),\n",
       "               ('year', '1973'),\n",
       "               ('album', 'The Wild, the Innocent & the E Street Shuffle'),\n",
       "               ('artist', 'Bruce Springsteen'),\n",
       "               ('genre', 'Rock'),\n",
       "               ('subgenre', 'None')]),\n",
       "  OrderedDict([('number', '148'),\n",
       "               ('year', '1973'),\n",
       "               ('album', 'Houses of the Holy'),\n",
       "               ('artist', 'Led Zeppelin'),\n",
       "               ('genre', 'Rock'),\n",
       "               ('subgenre', 'Classic Rock')]),\n",
       "  OrderedDict([('number', '165'),\n",
       "               ('year', '1973'),\n",
       "               ('album', \"Let's Get It On\"),\n",
       "               ('artist', 'Marvin Gaye'),\n",
       "               ('genre', 'Funk / Soul'),\n",
       "               ('subgenre', 'Soul')]),\n",
       "  OrderedDict([('number', '186'),\n",
       "               ('year', '1973'),\n",
       "               ('album', 'Fresh'),\n",
       "               ('artist', 'Sly & The Family Stone'),\n",
       "               ('genre', 'Funk / Soul'),\n",
       "               ('subgenre', 'Rhythm & Blues, Funk')]),\n",
       "  OrderedDict([('number', '215'),\n",
       "               ('year', '1973'),\n",
       "               ('album', 'New York Dolls'),\n",
       "               ('artist', 'New York Dolls'),\n",
       "               ('genre', 'Rock'),\n",
       "               ('subgenre', 'Glam')]),\n",
       "  OrderedDict([('number', '267'),\n",
       "               ('year', '1973'),\n",
       "               ('album', 'Quadrophenia'),\n",
       "               ('artist', 'The Who'),\n",
       "               ('genre', 'Rock'),\n",
       "               ('subgenre', 'Hard Rock, Classic Rock, Mod')]),\n",
       "  OrderedDict([('number', '279'),\n",
       "               ('year', '1973'),\n",
       "               ('album', 'Aladdin Sane'),\n",
       "               ('artist', 'David Bowie'),\n",
       "               ('genre', 'Rock'),\n",
       "               ('subgenre', 'Glam')]),\n",
       "  OrderedDict([('number', '290'),\n",
       "               ('year', '1973'),\n",
       "               ('album', 'Call Me'),\n",
       "               ('artist', 'Al Green'),\n",
       "               ('genre', 'Funk / Soul'),\n",
       "               ('subgenre', 'Rhythm & Blues, Soul')]),\n",
       "  OrderedDict([('number', '319'),\n",
       "               ('year', '1973'),\n",
       "               ('album', \"Burnin'\"),\n",
       "               ('artist', 'The Wailers'),\n",
       "               ('genre', 'Reggae'),\n",
       "               ('subgenre', 'Reggae')]),\n",
       "  OrderedDict([('number', '344'),\n",
       "               ('year', '1973'),\n",
       "               ('album', 'Berlin'),\n",
       "               ('artist', 'Lou Reed'),\n",
       "               ('genre', 'Rock'),\n",
       "               ('subgenre', 'Hard Rock')]),\n",
       "  OrderedDict([('number', '370'),\n",
       "               ('year', '1973'),\n",
       "               ('album', 'Mott'),\n",
       "               ('artist', 'Mott the Hoople'),\n",
       "               ('genre', 'Rock'),\n",
       "               ('subgenre', 'Classic Rock')]),\n",
       "  OrderedDict([('number', '380'),\n",
       "               ('year', '1973'),\n",
       "               ('album', 'Funky Kingston'),\n",
       "               ('artist', 'Toots & The Maytals'),\n",
       "               ('genre', 'Reggae'),\n",
       "               ('subgenre',\n",
       "                'Reggae Gospel, Reggae, Roots Reggae, Rocksteady')]),\n",
       "  OrderedDict([('number', '396'),\n",
       "               ('year', '1973'),\n",
       "               ('album', 'For Your Pleasure'),\n",
       "               ('artist', 'Roxy Music'),\n",
       "               ('genre', 'Rock'),\n",
       "               ('subgenre', 'Art Rock, Avantgarde, Glam')]),\n",
       "  OrderedDict([('number', '403'),\n",
       "               ('year', '1973'),\n",
       "               ('album', \"(pronounced 'leh-'nerd 'skin-'nerd)\"),\n",
       "               ('artist', 'Lynyrd Skynyrd'),\n",
       "               ('genre', 'Rock'),\n",
       "               ('subgenre', 'Blues Rock, Hard Rock, Southern Rock')]),\n",
       "  OrderedDict([('number', '418'),\n",
       "               ('year', '1973'),\n",
       "               ('album', 'Band on the Run'),\n",
       "               ('artist', 'Paul McCartney & Wings'),\n",
       "               ('genre', 'Rock'),\n",
       "               ('subgenre', 'Pop Rock')]),\n",
       "  OrderedDict([('number', '432'),\n",
       "               ('year', '1973'),\n",
       "               ('album', 'Here Come the Warm Jets'),\n",
       "               ('artist', 'Brian Eno'),\n",
       "               ('genre', 'Rock'),\n",
       "               ('subgenre', 'Art Rock, Glam')]),\n",
       "  OrderedDict([('number', '450'),\n",
       "               ('year', '1973'),\n",
       "               ('album', 'For Everyman'),\n",
       "               ('artist', 'Jackson Browne'),\n",
       "               ('genre', 'Rock'),\n",
       "               ('subgenre', 'Pop Rock, Classic Rock')]),\n",
       "  OrderedDict([('number', '490'),\n",
       "               ('year', '1973'),\n",
       "               ('album', 'Tres hombres'),\n",
       "               ('artist', 'ZZ Top'),\n",
       "               ('genre', 'Rock'),\n",
       "               ('subgenre', 'Blues Rock, Classic Rock')])],\n",
       " [OrderedDict([('number', '113'),\n",
       "               ('year', '1974'),\n",
       "               ('album', 'Court and Spark'),\n",
       "               ('artist', 'Joni Mitchell'),\n",
       "               ('genre', 'Rock'),\n",
       "               ('subgenre', 'Soft Rock, Pop Rock')]),\n",
       "  OrderedDict([('number', '136'),\n",
       "               ('year', '1974'),\n",
       "               ('album', 'Greatest Hits'),\n",
       "               ('artist', 'Elton John'),\n",
       "               ('genre', 'Rock'),\n",
       "               ('subgenre', 'Classic Rock')]),\n",
       "  OrderedDict([('number', '139'),\n",
       "               ('year', '1974'),\n",
       "               ('album', 'Rejuvenation'),\n",
       "               ('artist', 'The Meters'),\n",
       "               ('genre', 'Funk / Soul'),\n",
       "               ('subgenre', 'Bayou Funk, Soul')]),\n",
       "  OrderedDict([('number', '181'),\n",
       "               ('year', '1974'),\n",
       "               ('album', 'Natty Dread'),\n",
       "               ('artist', 'Bob Marley & The Wailers'),\n",
       "               ('genre', 'Reggae'),\n",
       "               ('subgenre', 'Reggae, Roots Reggae')]),\n",
       "  OrderedDict([('number', '274'),\n",
       "               ('year', '1974'),\n",
       "               ('album', 'Nightbirds'),\n",
       "               ('artist', 'LaBelle'),\n",
       "               ('genre', 'Funk / Soul'),\n",
       "               ('subgenre', 'Funk, Disco')]),\n",
       "  OrderedDict([('number', '283'),\n",
       "               ('year', '1974'),\n",
       "               ('album', \"Can't Get Enough\"),\n",
       "               ('artist', 'Barry White'),\n",
       "               ('genre', 'Funk / Soul'),\n",
       "               ('subgenre', 'Soul, Disco')]),\n",
       "  OrderedDict([('number', '339'),\n",
       "               ('year', '1974'),\n",
       "               ('album', 'The Heart of Saturday Night'),\n",
       "               ('artist', 'Tom Waits'),\n",
       "               ('genre', 'Jazz, Pop, Folk, World, & Country'),\n",
       "               ('subgenre', 'Contemporary Jazz, Spoken Word')]),\n",
       "  OrderedDict([('number', '375'),\n",
       "               ('year', '1974'),\n",
       "               ('album', 'Late for the Sky'),\n",
       "               ('artist', 'Jackson Browne'),\n",
       "               ('genre', 'Rock'),\n",
       "               ('subgenre', 'Pop Rock')]),\n",
       "  OrderedDict([('number', '386'),\n",
       "               ('year', '1974'),\n",
       "               ('album', 'Pretzel Logic'),\n",
       "               ('artist', 'Steely Dan'),\n",
       "               ('genre', 'Jazz, Rock'),\n",
       "               ('subgenre', 'Jazz-Rock, Pop Rock, Classic Rock')]),\n",
       "  OrderedDict([('number', '394'),\n",
       "               ('year', '1974'),\n",
       "               ('album', 'Good Old Boys'),\n",
       "               ('artist', 'Randy Newman'),\n",
       "               ('genre', 'Rock, Pop'),\n",
       "               ('subgenre', 'Pop Rock, Vocal')]),\n",
       "  OrderedDict([('number', '405'),\n",
       "               ('year', '1974'),\n",
       "               ('album', 'Radio City'),\n",
       "               ('artist', 'Big Star'),\n",
       "               ('genre', 'Rock'),\n",
       "               ('subgenre', 'Power Pop')]),\n",
       "  OrderedDict([('number', '411'),\n",
       "               ('year', '1974'),\n",
       "               ('album', '461 Ocean Boulevard'),\n",
       "               ('artist', 'Eric Clapton'),\n",
       "               ('genre', 'Rock'),\n",
       "               ('subgenre', 'Blues Rock')]),\n",
       "  OrderedDict([('number', '425'),\n",
       "               ('year', '1974'),\n",
       "               ('album', 'Grievous Angel'),\n",
       "               ('artist', 'Gram Parsons'),\n",
       "               ('genre', 'Rock, Folk, World, & Country'),\n",
       "               ('subgenre', 'Country Rock, Honky Tonk')]),\n",
       "  OrderedDict([('number', '471'),\n",
       "               ('year', '1974'),\n",
       "               ('album', 'I Want to See the Bright Lights Tonight'),\n",
       "               ('artist', 'Richard & Linda Thompson'),\n",
       "               ('genre', 'Rock'),\n",
       "               ('subgenre', 'Classic Rock, Folk Rock')])],\n",
       " [OrderedDict([('number', '16'),\n",
       "               ('year', '1975'),\n",
       "               ('album', 'Blood on the Tracks'),\n",
       "               ('artist', 'Bob Dylan'),\n",
       "               ('genre', 'Rock'),\n",
       "               ('subgenre', 'Folk Rock, Acoustic, Ballad')]),\n",
       "  OrderedDict([('number', '18'),\n",
       "               ('year', '1975'),\n",
       "               ('album', 'Born to Run'),\n",
       "               ('artist', 'Bruce Springsteen'),\n",
       "               ('genre', 'Rock'),\n",
       "               ('subgenre', 'Pop Rock')]),\n",
       "  OrderedDict([('number', '44'),\n",
       "               ('year', '1975'),\n",
       "               ('album', 'Horses'),\n",
       "               ('artist', 'Patti Smith'),\n",
       "               ('genre', 'Rock'),\n",
       "               ('subgenre', 'Art Rock')]),\n",
       "  OrderedDict([('number', '52'),\n",
       "               ('year', '1975'),\n",
       "               ('album', 'Greatest Hits'),\n",
       "               ('artist', 'Al Green'),\n",
       "               ('genre', 'Funk / Soul'),\n",
       "               ('subgenre', 'Soul')]),\n",
       "  OrderedDict([('number', '73'),\n",
       "               ('year', '1975'),\n",
       "               ('album', 'Physical Graffiti'),\n",
       "               ('artist', 'Led Zeppelin'),\n",
       "               ('genre', 'Rock'),\n",
       "               ('subgenre', 'Classic Rock')]),\n",
       "  OrderedDict([('number', '158'),\n",
       "               ('year', '1975'),\n",
       "               ('album', 'Captain Fantastic and the Brown Dirt Cowboy'),\n",
       "               ('artist', 'Elton John'),\n",
       "               ('genre', 'Rock'),\n",
       "               ('subgenre', 'Pop Rock, Classic Rock')]),\n",
       "  OrderedDict([('number', '159'),\n",
       "               ('year', '1975'),\n",
       "               ('album', 'Alive!'),\n",
       "               ('artist', 'KISS'),\n",
       "               ('genre', 'Rock'),\n",
       "               ('subgenre', 'Hard Rock, Glam')]),\n",
       "  OrderedDict([('number', '182'),\n",
       "               ('year', '1975'),\n",
       "               ('album', 'Fleetwood Mac'),\n",
       "               ('artist', 'Fleetwood Mac'),\n",
       "               ('genre', 'Rock, Pop'),\n",
       "               ('subgenre', 'Folk Rock, Pop Rock')]),\n",
       "  OrderedDict([('number', '183'),\n",
       "               ('year', '1975'),\n",
       "               ('album', 'Red Headed Stranger'),\n",
       "               ('artist', 'Willie Nelson'),\n",
       "               ('genre', 'Folk, World, & Country'),\n",
       "               ('subgenre', 'Country')]),\n",
       "  OrderedDict([('number', '211'),\n",
       "               ('year', '1975'),\n",
       "               ('album', 'Wish You Were Here'),\n",
       "               ('artist', 'Pink Floyd'),\n",
       "               ('genre', 'Rock'),\n",
       "               ('subgenre', 'Classic Rock, Prog Rock')]),\n",
       "  OrderedDict([('number', '229'),\n",
       "               ('year', '1975'),\n",
       "               ('album', 'Toys in the Attic'),\n",
       "               ('artist', 'Aerosmith'),\n",
       "               ('genre', 'Rock'),\n",
       "               ('subgenre', 'Hard Rock, Blues Rock')]),\n",
       "  OrderedDict([('number', '231'),\n",
       "               ('year', '1975'),\n",
       "               ('album', 'A Night at the Opera'),\n",
       "               ('artist', 'Queen'),\n",
       "               ('genre', 'Rock'),\n",
       "               ('subgenre', 'Hard Rock, Pop Rock, Prog Rock')]),\n",
       "  OrderedDict([('number', '276'),\n",
       "               ('year', '1975'),\n",
       "               ('album', 'Mothership Connection'),\n",
       "               ('artist', 'Parliament'),\n",
       "               ('genre', 'Funk / Soul'),\n",
       "               ('subgenre', 'P.Funk, Funk')]),\n",
       "  OrderedDict([('number', '292'),\n",
       "               ('year', '1975'),\n",
       "               ('album', 'The Basement Tapes'),\n",
       "               ('artist', 'Bob Dylan and the Band'),\n",
       "               ('genre', 'Rock'),\n",
       "               ('subgenre', 'Folk Rock, Country Rock, Classic Rock')]),\n",
       "  OrderedDict([('number', '330'),\n",
       "               ('year', '1975'),\n",
       "               ('album', \"Tonight's the Night\"),\n",
       "               ('artist', 'Neil Young'),\n",
       "               ('genre', 'Rock'),\n",
       "               ('subgenre', 'Blues Rock, Folk Rock, Classic Rock')]),\n",
       "  OrderedDict([('number', '374'),\n",
       "               ('year', '1975'),\n",
       "               ('album', 'Siren'),\n",
       "               ('artist', 'Roxy Music'),\n",
       "               ('genre', 'Rock'),\n",
       "               ('subgenre', 'Art Rock, Pop Rock, Glam')]),\n",
       "  OrderedDict([('number', '429'),\n",
       "               ('year', '1975'),\n",
       "               ('album', 'Another Green World'),\n",
       "               ('artist', 'Brian Eno'),\n",
       "               ('genre', 'Electronic'),\n",
       "               ('subgenre', 'Experimental, Ambient')]),\n",
       "  OrderedDict([('number', '486'),\n",
       "               ('year', '1975'),\n",
       "               ('album', \"That's the Way of the World\"),\n",
       "               ('artist', 'Earth, Wind & Fire'),\n",
       "               ('genre', 'Funk / Soul'),\n",
       "               ('subgenre', 'Soul, Funk, Disco')])],\n",
       " [OrderedDict([('number', '11'),\n",
       "               ('year', '1976'),\n",
       "               ('album', 'The Sun Sessions'),\n",
       "               ('artist', 'Elvis Presley'),\n",
       "               ('genre', 'Rock'),\n",
       "               ('subgenre', 'Rock & Roll')]),\n",
       "  OrderedDict([('number', '33'),\n",
       "               ('year', '1976'),\n",
       "               ('album', 'Ramones'),\n",
       "               ('artist', 'Ramones'),\n",
       "               ('genre', 'Rock'),\n",
       "               ('subgenre', 'Rock & Roll, Punk')]),\n",
       "  OrderedDict([('number', '37'),\n",
       "               ('year', '1976'),\n",
       "               ('album', 'Hotel California'),\n",
       "               ('artist', 'Eagles'),\n",
       "               ('genre', 'Rock'),\n",
       "               ('subgenre', 'Classic Rock')]),\n",
       "  OrderedDict([('number', '57'),\n",
       "               ('year', '1976'),\n",
       "               ('album', 'Songs in the Key of Life'),\n",
       "               ('artist', 'Stevie Wonder'),\n",
       "               ('genre', 'Funk / Soul'),\n",
       "               ('subgenre', 'Soul, Disco')]),\n",
       "  OrderedDict([('number', '59'),\n",
       "               ('year', '1976'),\n",
       "               ('album', 'Chronicle: The 20 Greatest Hits'),\n",
       "               ('artist', 'Creedence Clearwater Revival'),\n",
       "               ('genre', 'Rock'),\n",
       "               ('subgenre', 'None')]),\n",
       "  OrderedDict([('number', '174'),\n",
       "               ('year', '1976'),\n",
       "               ('album', 'Desire'),\n",
       "               ('artist', 'Bob Dylan'),\n",
       "               ('genre', 'Rock'),\n",
       "               ('subgenre', 'Folk Rock')]),\n",
       "  OrderedDict([('number', '176'),\n",
       "               ('year', '1976'),\n",
       "               ('album', 'Rocks'),\n",
       "               ('artist', 'Aerosmith'),\n",
       "               ('genre', 'Rock'),\n",
       "               ('subgenre', 'Hard Rock, Classic Rock')]),\n",
       "  OrderedDict([('number', '324'),\n",
       "               ('year', '1976'),\n",
       "               ('album', 'Station to Station'),\n",
       "               ('artist', 'David Bowie'),\n",
       "               ('genre', 'Rock, Funk / Soul'),\n",
       "               ('subgenre', 'Classic Rock, Soul, Funk, Art Rock')]),\n",
       "  OrderedDict([('number', '382'),\n",
       "               ('year', '1976'),\n",
       "               ('album', 'The Modern Lovers'),\n",
       "               ('artist', 'The Modern Lovers'),\n",
       "               ('genre', 'Rock'),\n",
       "               ('subgenre', 'Art Rock, Indie Rock')]),\n",
       "  OrderedDict([('number', '391'),\n",
       "               ('year', '1976'),\n",
       "               ('album', 'The Pretender'),\n",
       "               ('artist', 'Jackson Browne'),\n",
       "               ('genre', 'Rock'),\n",
       "               ('subgenre', 'Soft Rock, Pop Rock')]),\n",
       "  OrderedDict([('number', '445'),\n",
       "               ('year', '1976'),\n",
       "               ('album', 'Fly Like an Eagle'),\n",
       "               ('artist', 'Steve Miller Band'),\n",
       "               ('genre', 'Rock'),\n",
       "               ('subgenre', 'Pop Rock')]),\n",
       "  OrderedDict([('number', '489'),\n",
       "               ('year', '1976'),\n",
       "               ('album', 'Destroyer'),\n",
       "               ('artist', 'KISS'),\n",
       "               ('genre', 'Rock'),\n",
       "               ('subgenre', 'Hard Rock')])],\n",
       " [OrderedDict([('number', '26'),\n",
       "               ('year', '1977'),\n",
       "               ('album', 'Rumours'),\n",
       "               ('artist', 'Fleetwood Mac'),\n",
       "               ('genre', 'Rock'),\n",
       "               ('subgenre', 'Pop Rock')]),\n",
       "  OrderedDict([('number', '41'),\n",
       "               ('year', '1977'),\n",
       "               ('album', \"Never Mind the Bollocks Here's the Sex Pistols\"),\n",
       "               ('artist', 'Sex Pistols'),\n",
       "               ('genre', 'Rock'),\n",
       "               ('subgenre', 'Punk')]),\n",
       "  OrderedDict([('number', '70'),\n",
       "               ('year', '1977'),\n",
       "               ('album', 'The Stranger'),\n",
       "               ('artist', 'Billy Joel'),\n",
       "               ('genre', 'Rock'),\n",
       "               ('subgenre', 'Pop Rock')]),\n",
       "  OrderedDict([('number', '81'),\n",
       "               ('year', '1977'),\n",
       "               ('album', 'The Clash'),\n",
       "               ('artist', 'The Clash'),\n",
       "               ('genre', 'Rock'),\n",
       "               ('subgenre', 'Punk')]),\n",
       "  OrderedDict([('number', '106'),\n",
       "               ('year', '1977'),\n",
       "               ('album', 'Rocket to Russia'),\n",
       "               ('artist', 'Ramones'),\n",
       "               ('genre', 'Rock'),\n",
       "               ('subgenre', 'Rock & Roll, Punk')]),\n",
       "  OrderedDict([('number', '130'),\n",
       "               ('year', '1977'),\n",
       "               ('album', 'Marquee Moon'),\n",
       "               ('artist', 'Television'),\n",
       "               ('genre', 'Rock'),\n",
       "               ('subgenre', 'New Wave, Punk')]),\n",
       "  OrderedDict([('number', '132'),\n",
       "               ('year', '1977'),\n",
       "               ('album',\n",
       "                'Saturday Night Fever: The Original Movie Soundtrack Deluxe Edition'),\n",
       "               ('artist', 'Various Artists'),\n",
       "               ('genre', 'Electronic,Stage & Screen'),\n",
       "               ('subgenre', 'Soundtrack,Disco')]),\n",
       "  OrderedDict([('number', '145'),\n",
       "               ('year', '1977'),\n",
       "               ('album', 'Aja'),\n",
       "               ('artist', 'Steely Dan'),\n",
       "               ('genre', 'Jazz, Rock'),\n",
       "               ('subgenre', 'Jazz-Rock, Classic Rock')]),\n",
       "  OrderedDict([('number', '168'),\n",
       "               ('year', '1977'),\n",
       "               ('album', 'My Aim Is True'),\n",
       "               ('artist', 'Elvis Costello'),\n",
       "               ('genre', 'Rock'),\n",
       "               ('subgenre', 'New Wave, Pop Rock')]),\n",
       "  OrderedDict([('number', '169'),\n",
       "               ('year', '1977'),\n",
       "               ('album', 'Exodus'),\n",
       "               ('artist', 'Bob Marley & The Wailers'),\n",
       "               ('genre', 'Reggae'),\n",
       "               ('subgenre', 'Reggae, Roots Reggae')]),\n",
       "  OrderedDict([('number', '251'),\n",
       "               ('year', '1977'),\n",
       "               ('album', 'Low'),\n",
       "               ('artist', 'David Bowie'),\n",
       "               ('genre', 'Electronic, Rock'),\n",
       "               ('subgenre', 'Art Rock, Ambient, Experimental')]),\n",
       "  OrderedDict([('number', '291'),\n",
       "               ('year', '1977'),\n",
       "               ('album', 'Talking Heads: 77'),\n",
       "               ('artist', 'Talking Heads'),\n",
       "               ('genre', 'Rock'),\n",
       "               ('subgenre', 'New Wave')]),\n",
       "  OrderedDict([('number', '325'),\n",
       "               ('year', '1977'),\n",
       "               ('album', 'Slowhand'),\n",
       "               ('artist', 'Eric Clapton'),\n",
       "               ('genre', 'Rock'),\n",
       "               ('subgenre', 'None')]),\n",
       "  OrderedDict([('number', '343'),\n",
       "               ('year', '1977'),\n",
       "               ('album', 'Bat Out of Hell'),\n",
       "               ('artist', 'Meat Loaf'),\n",
       "               ('genre', 'Rock'),\n",
       "               ('subgenre', 'Pop Rock')]),\n",
       "  OrderedDict([('number', '412'),\n",
       "               ('year', '1977'),\n",
       "               ('album', 'Pink Flag'),\n",
       "               ('artist', 'Wire'),\n",
       "               ('genre', 'Rock'),\n",
       "               ('subgenre', 'Punk')]),\n",
       "  OrderedDict([('number', '441'),\n",
       "               ('year', '1977'),\n",
       "               ('album', 'Suicide'),\n",
       "               ('artist', 'Suicide'),\n",
       "               ('genre', 'Electronic, Rock'),\n",
       "               ('subgenre', 'New Wave, Experimental')]),\n",
       "  OrderedDict([('number', '443'),\n",
       "               ('year', '1977'),\n",
       "               ('album', 'In Color'),\n",
       "               ('artist', 'Cheap Trick'),\n",
       "               ('genre', 'Rock'),\n",
       "               ('subgenre', 'Power Pop, Pop Rock, Hard Rock')])],\n",
       " [OrderedDict([('number', '92'),\n",
       "               ('year', '1978'),\n",
       "               ('album', '20 Golden Greats'),\n",
       "               ('artist', 'Buddy Holly'),\n",
       "               ('genre', 'Rock'),\n",
       "               ('subgenre', 'Rock & Roll')]),\n",
       "  OrderedDict([('number', '98'),\n",
       "               ('year', '1978'),\n",
       "               ('album', \"This Year's Model\"),\n",
       "               ('artist', 'Elvis Costello'),\n",
       "               ('genre', 'Rock'),\n",
       "               ('subgenre', 'New Wave')]),\n",
       "  OrderedDict([('number', '140'),\n",
       "               ('year', '1978'),\n",
       "               ('album', 'Parallel Lines'),\n",
       "               ('artist', 'Blondie'),\n",
       "               ('genre', 'Electronic, Rock'),\n",
       "               ('subgenre', 'New Wave, Pop Rock, Punk, Disco')]),\n",
       "  OrderedDict([('number', '150'),\n",
       "               ('year', '1978'),\n",
       "               ('album', 'Darkness on the Edge of Town'),\n",
       "               ('artist', 'Bruce Springsteen'),\n",
       "               ('genre', 'Rock'),\n",
       "               ('subgenre', 'Pop Rock')]),\n",
       "  OrderedDict([('number', '177'),\n",
       "               ('year', '1978'),\n",
       "               ('album', 'One Nation Under a Groove'),\n",
       "               ('artist', 'Funkadelic'),\n",
       "               ('genre', 'Funk / Soul'),\n",
       "               ('subgenre', 'P.Funk')]),\n",
       "  OrderedDict([('number', '260'),\n",
       "               ('year', '1978'),\n",
       "               ('album', 'Stardust'),\n",
       "               ('artist', 'Willie Nelson'),\n",
       "               ('genre', 'Pop, Folk, World, & Country'),\n",
       "               ('subgenre', 'Vocal')]),\n",
       "  OrderedDict([('number', '270'),\n",
       "               ('year', '1978'),\n",
       "               ('album', 'Some Girls'),\n",
       "               ('artist', 'The Rolling Stones'),\n",
       "               ('genre', 'Rock'),\n",
       "               ('subgenre', 'Blues Rock, Rock & Roll, Classic Rock, Disco')]),\n",
       "  OrderedDict([('number', '284'),\n",
       "               ('year', '1978'),\n",
       "               ('album', 'The Cars'),\n",
       "               ('artist', 'The Cars'),\n",
       "               ('genre', 'Electronic, Rock'),\n",
       "               ('subgenre', 'New Wave, Pop Rock, Synth-pop')]),\n",
       "  OrderedDict([('number', '354'),\n",
       "               ('year', '1978'),\n",
       "               ('album', '52nd Street'),\n",
       "               ('artist', 'Billy Joel'),\n",
       "               ('genre', 'Jazz, Rock, Pop'),\n",
       "               ('subgenre', 'Pop Rock, Ballad, Latin Jazz')]),\n",
       "  OrderedDict([('number', '383'),\n",
       "               ('year', '1978'),\n",
       "               ('album', 'More Songs About Buildings and Food'),\n",
       "               ('artist', 'Talking Heads'),\n",
       "               ('genre', 'Rock'),\n",
       "               ('subgenre', 'New Wave, Indie Rock')]),\n",
       "  OrderedDict([('number', '415'),\n",
       "               ('year', '1978'),\n",
       "               ('album', 'Van Halen'),\n",
       "               ('artist', 'Van Halen'),\n",
       "               ('genre', 'Rock'),\n",
       "               ('subgenre', 'Hard Rock')]),\n",
       "  OrderedDict([('number', '428'),\n",
       "               ('year', '1978'),\n",
       "               ('album', \"Outlandos d'Amour\"),\n",
       "               ('artist', 'The Police'),\n",
       "               ('genre', 'Rock'),\n",
       "               ('subgenre', 'Alternative Rock, New Wave, Punk')]),\n",
       "  OrderedDict([('number', '442'),\n",
       "               ('year', '1978'),\n",
       "               ('album', 'Q: Are We Not Men? A: We Are Devo!'),\n",
       "               ('artist', 'DEVO'),\n",
       "               ('genre', 'Rock'),\n",
       "               ('subgenre', 'New Wave')]),\n",
       "  OrderedDict([('number', '456'),\n",
       "               ('year', '1978'),\n",
       "               ('album', 'Here, My Dear'),\n",
       "               ('artist', 'Marvin Gaye'),\n",
       "               ('genre', 'Funk / Soul'),\n",
       "               ('subgenre', 'Soul')])],\n",
       " [OrderedDict([('number', '8'),\n",
       "               ('year', '1979'),\n",
       "               ('album', 'London Calling'),\n",
       "               ('artist', 'The Clash'),\n",
       "               ('genre', 'Rock'),\n",
       "               ('subgenre', 'Punk, New Wave')]),\n",
       "  OrderedDict([('number', '68'),\n",
       "               ('year', '1979'),\n",
       "               ('album', 'Off the Wall'),\n",
       "               ('artist', 'Michael Jackson'),\n",
       "               ('genre', 'Funk / Soul, Pop'),\n",
       "               ('subgenre', 'Disco, Soul, Ballad')]),\n",
       "  OrderedDict([('number', '87'),\n",
       "               ('year', '1979'),\n",
       "               ('album', 'The Wall'),\n",
       "               ('artist', 'Pink Floyd'),\n",
       "               ('genre', 'Rock'),\n",
       "               ('subgenre', 'Alternative Rock, Prog Rock')]),\n",
       "  OrderedDict([('number', '152'),\n",
       "               ('year', '1979'),\n",
       "               ('album', \"The B 52's\"),\n",
       "               ('artist', \"The B 52's\"),\n",
       "               ('genre', 'Electronic, Rock, Pop'),\n",
       "               ('subgenre', 'New Wave, Punk, Mod')]),\n",
       "  OrderedDict([('number', '200'),\n",
       "               ('year', '1979'),\n",
       "               ('album', 'Highway to Hell'),\n",
       "               ('artist', 'AC/DC'),\n",
       "               ('genre', 'Rock'),\n",
       "               ('subgenre', 'Hard Rock')]),\n",
       "  OrderedDict([('number', '315'),\n",
       "               ('year', '1979'),\n",
       "               ('album', 'Damn the Torpedoes'),\n",
       "               ('artist', 'Tom Petty and the Heartbreakers'),\n",
       "               ('genre', 'Rock'),\n",
       "               ('subgenre', 'Soft Rock, Hard Rock, Pop Rock')]),\n",
       "  OrderedDict([('number', '334'),\n",
       "               ('year', '1979'),\n",
       "               ('album', 'Squeezing Out Sparks'),\n",
       "               ('artist', 'Graham Parker & The Rumour'),\n",
       "               ('genre', 'Rock, Blues'),\n",
       "               ('subgenre', 'None')]),\n",
       "  OrderedDict([('number', '351'),\n",
       "               ('year', '1979'),\n",
       "               ('album', 'Rust Never Sleeps'),\n",
       "               ('artist', 'Neil Young & Crazy Horse'),\n",
       "               ('genre', 'Rock'),\n",
       "               ('subgenre', 'Hard Rock, Arena Rock')]),\n",
       "  OrderedDict([('number', '360'),\n",
       "               ('year', '1979'),\n",
       "               ('album', 'Singles Going Steady'),\n",
       "               ('artist', 'Buzzcocks'),\n",
       "               ('genre', 'Rock'),\n",
       "               ('subgenre', 'Punk')]),\n",
       "  OrderedDict([('number', '372'),\n",
       "               ('year', '1979'),\n",
       "               ('album', 'Reggatta de Blanc'),\n",
       "               ('artist', 'The Police'),\n",
       "               ('genre', 'Rock, Pop'),\n",
       "               ('subgenre', 'New Wave, Pop Rock')]),\n",
       "  OrderedDict([('number', '438'),\n",
       "               ('year', '1979'),\n",
       "               ('album', \"Boys Don't Cry\"),\n",
       "               ('artist', 'The Cure'),\n",
       "               ('genre', 'Rock'),\n",
       "               ('subgenre', 'New Wave, Post-Punk')]),\n",
       "  OrderedDict([('number', '461'),\n",
       "               ('year', '1979'),\n",
       "               ('album', 'Metal Box'),\n",
       "               ('artist', 'Public Image Ltd.'),\n",
       "               ('genre', 'Electronic, Rock'),\n",
       "               ('subgenre', 'Post-Punk, Dub, Avantgarde, Experimental')]),\n",
       "  OrderedDict([('number', '475'),\n",
       "               ('year', '1979'),\n",
       "               ('album', 'Armed Forces'),\n",
       "               ('artist', 'Elvis Costello & The Attractions'),\n",
       "               ('genre', 'Rock'),\n",
       "               ('subgenre', 'New Wave, Pop Rock')]),\n",
       "  OrderedDict([('number', '483'),\n",
       "               ('year', '1979'),\n",
       "               ('album', 'Entertainment!'),\n",
       "               ('artist', 'Gang of Four'),\n",
       "               ('genre', 'Rock'),\n",
       "               ('subgenre', 'Post-Punk, New Wave')])]]"
      ]
     },
     "execution_count": 10,
     "metadata": {},
     "output_type": "execute_result"
    }
   ],
   "source": [
    "multiple_years(our_data, 1970,1979)"
   ]
  },
  {
   "cell_type": "markdown",
   "metadata": {},
   "source": [
    "* Find by ranks - Takes in a start rank and end rank. Returns a list of albums that are ranked between the start and end ranks. If no albums are found for those ranks, then an empty list is returned."
   ]
  },
  {
   "cell_type": "code",
   "execution_count": 11,
   "metadata": {},
   "outputs": [],
   "source": [
    "def multiple_ranks(our_data,start, end):\n",
    "    count = start\n",
    "    album_list = []\n",
    "    while count <= end:\n",
    "        album_list.append(find_by_rank(our_data, count))\n",
    "        count += 1\n",
    "    return album_list"
   ]
  },
  {
   "cell_type": "code",
   "execution_count": 12,
   "metadata": {},
   "outputs": [
    {
     "data": {
      "text/plain": [
       "[OrderedDict([('number', '1'),\n",
       "              ('year', '1967'),\n",
       "              ('album', \"Sgt. Pepper's Lonely Hearts Club Band\"),\n",
       "              ('artist', 'The Beatles'),\n",
       "              ('genre', 'Rock'),\n",
       "              ('subgenre', 'Rock & Roll, Psychedelic Rock')]),\n",
       " OrderedDict([('number', '2'),\n",
       "              ('year', '1966'),\n",
       "              ('album', 'Pet Sounds'),\n",
       "              ('artist', 'The Beach Boys'),\n",
       "              ('genre', 'Rock'),\n",
       "              ('subgenre', 'Pop Rock, Psychedelic Rock')]),\n",
       " OrderedDict([('number', '3'),\n",
       "              ('year', '1966'),\n",
       "              ('album', 'Revolver'),\n",
       "              ('artist', 'The Beatles'),\n",
       "              ('genre', 'Rock'),\n",
       "              ('subgenre', 'Psychedelic Rock, Pop Rock')]),\n",
       " OrderedDict([('number', '4'),\n",
       "              ('year', '1965'),\n",
       "              ('album', 'Highway 61 Revisited'),\n",
       "              ('artist', 'Bob Dylan'),\n",
       "              ('genre', 'Rock'),\n",
       "              ('subgenre', 'Folk Rock, Blues Rock')]),\n",
       " OrderedDict([('number', '5'),\n",
       "              ('year', '1965'),\n",
       "              ('album', 'Rubber Soul'),\n",
       "              ('artist', 'The Beatles'),\n",
       "              ('genre', 'Rock, Pop'),\n",
       "              ('subgenre', 'Pop Rock')]),\n",
       " OrderedDict([('number', '6'),\n",
       "              ('year', '1971'),\n",
       "              ('album', \"What's Going On\"),\n",
       "              ('artist', 'Marvin Gaye'),\n",
       "              ('genre', 'Funk / Soul'),\n",
       "              ('subgenre', 'Soul')]),\n",
       " OrderedDict([('number', '7'),\n",
       "              ('year', '1972'),\n",
       "              ('album', 'Exile on Main St.'),\n",
       "              ('artist', 'The Rolling Stones'),\n",
       "              ('genre', 'Rock'),\n",
       "              ('subgenre', 'Blues Rock, Rock & Roll, Classic Rock')]),\n",
       " OrderedDict([('number', '8'),\n",
       "              ('year', '1979'),\n",
       "              ('album', 'London Calling'),\n",
       "              ('artist', 'The Clash'),\n",
       "              ('genre', 'Rock'),\n",
       "              ('subgenre', 'Punk, New Wave')]),\n",
       " OrderedDict([('number', '9'),\n",
       "              ('year', '1966'),\n",
       "              ('album', 'Blonde on Blonde'),\n",
       "              ('artist', 'Bob Dylan'),\n",
       "              ('genre', 'Rock, Blues'),\n",
       "              ('subgenre', 'Folk Rock, Rhythm & Blues')]),\n",
       " OrderedDict([('number', '10'),\n",
       "              ('year', '1968'),\n",
       "              ('album', 'The Beatles (\"The White Album\")'),\n",
       "              ('artist', 'The Beatles'),\n",
       "              ('genre', 'Rock'),\n",
       "              ('subgenre',\n",
       "               'Rock & Roll, Pop Rock, Psychedelic Rock, Experimental')])]"
      ]
     },
     "execution_count": 12,
     "metadata": {},
     "output_type": "execute_result"
    }
   ],
   "source": [
    "multiple_ranks(our_data, 1, 10)"
   ]
  },
  {
   "cell_type": "markdown",
   "metadata": {},
   "source": [
    "## All Functions"
   ]
  },
  {
   "cell_type": "markdown",
   "metadata": {},
   "source": [
    "* All titles - Returns a list of titles for each album."
   ]
  },
  {
   "cell_type": "code",
   "execution_count": 13,
   "metadata": {},
   "outputs": [],
   "source": [
    "def all_titles(our_data):\n",
    "    return [album['album'] for album in our_data]"
   ]
  },
  {
   "cell_type": "code",
   "execution_count": 14,
   "metadata": {},
   "outputs": [
    {
     "data": {
      "text/plain": [
       "[\"Sgt. Pepper's Lonely Hearts Club Band\",\n",
       " 'Pet Sounds',\n",
       " 'Revolver',\n",
       " 'Highway 61 Revisited',\n",
       " 'Rubber Soul',\n",
       " \"What's Going On\",\n",
       " 'Exile on Main St.',\n",
       " 'London Calling',\n",
       " 'Blonde on Blonde',\n",
       " 'The Beatles (\"The White Album\")',\n",
       " 'The Sun Sessions',\n",
       " 'Kind of Blue',\n",
       " 'The Velvet Underground & Nico',\n",
       " 'Abbey Road',\n",
       " 'Are You Experienced',\n",
       " 'Blood on the Tracks',\n",
       " 'Nevermind',\n",
       " 'Born to Run',\n",
       " 'Astral Weeks',\n",
       " 'Thriller',\n",
       " 'The Great Twenty Eight',\n",
       " 'The Complete Recordings',\n",
       " 'John Lennon/Plastic Ono Band',\n",
       " 'Innervisions',\n",
       " 'Live at the Apollo, 1962',\n",
       " 'Rumours',\n",
       " 'The Joshua Tree',\n",
       " \"Who's Next\",\n",
       " 'Led Zeppelin',\n",
       " 'Blue',\n",
       " 'Bringing It All Back Home',\n",
       " 'Let It Bleed',\n",
       " 'Ramones',\n",
       " 'Music From Big Pink',\n",
       " 'The Rise and Fall of Ziggy Stardust and the Spiders From Mars',\n",
       " 'Tapestry',\n",
       " 'Hotel California',\n",
       " 'The Anthology',\n",
       " 'Please Please Me',\n",
       " 'Forever Changes',\n",
       " \"Never Mind the Bollocks Here's the Sex Pistols\",\n",
       " 'The Doors',\n",
       " 'The Dark Side of the Moon',\n",
       " 'Horses',\n",
       " 'The Brown Album',\n",
       " 'The Best of Bob Marley and The Wailers',\n",
       " 'A Love Supreme',\n",
       " 'It Takes a Nation of Millions to Hold Us Back',\n",
       " 'At Fillmore East',\n",
       " \"Here's Little Richard\",\n",
       " 'Bridge Over Troubled Water',\n",
       " 'Greatest Hits',\n",
       " 'Meet The Beatles!',\n",
       " 'The Birth of Soul',\n",
       " 'Electric Ladyland',\n",
       " 'Elvis Presley',\n",
       " 'Songs in the Key of Life',\n",
       " 'Beggars Banquet',\n",
       " 'Chronicle: The 20 Greatest Hits',\n",
       " 'Greatest Hits',\n",
       " 'Appetite for Destruction',\n",
       " 'Achtung Baby',\n",
       " 'Sticky Fingers',\n",
       " 'Back to Mono',\n",
       " 'Moondance',\n",
       " 'Kid A',\n",
       " 'Off the Wall',\n",
       " '[Led Zeppelin IV]',\n",
       " 'The Stranger',\n",
       " 'Graceland',\n",
       " 'Superfly',\n",
       " 'Physical Graffiti',\n",
       " 'After the Gold Rush',\n",
       " 'Star Time',\n",
       " 'Purple Rain',\n",
       " 'Back in Black',\n",
       " 'Otis Blue: Otis Redding Sings Soul',\n",
       " 'Led Zeppelin II',\n",
       " 'Imagine',\n",
       " 'The Clash',\n",
       " 'Harvest',\n",
       " 'Axis: Bold as Love',\n",
       " 'I Never Loved a Man the Way I Love You',\n",
       " 'Lady Soul',\n",
       " 'Born in the U.S.A.',\n",
       " 'The Wall',\n",
       " 'At Folsom Prison',\n",
       " 'Dusty in Memphis',\n",
       " 'Talking Book',\n",
       " 'Goodbye Yellow Brick Road',\n",
       " '20 Golden Greats',\n",
       " \"Sign 'O' the Times\",\n",
       " '40 Greatest Hits',\n",
       " 'Bitches Brew',\n",
       " 'Tommy',\n",
       " \"The Freewheelin' Bob Dylan\",\n",
       " \"This Year's Model\",\n",
       " \"There's a Riot Goin' On\",\n",
       " 'Odessey and Oracle',\n",
       " 'In the Wee Small Hours',\n",
       " 'Fresh Cream',\n",
       " 'Giant Steps',\n",
       " 'Sweet Baby James',\n",
       " 'Rocket to Russia',\n",
       " 'Portrait of a Legend 1951-1964',\n",
       " 'Hunky Dory',\n",
       " 'Aftermath',\n",
       " 'Loaded',\n",
       " 'The Bends',\n",
       " 'If You Can Believe Your Eyes and Ears',\n",
       " 'Court and Spark',\n",
       " 'Disraeli Gears',\n",
       " 'The Who Sell Out',\n",
       " 'Out of Our Heads',\n",
       " 'Layla and Other Assorted Love Songs',\n",
       " 'Late Registration',\n",
       " 'At Last!',\n",
       " 'Sweetheart of the Rodeo',\n",
       " 'Stand!',\n",
       " 'The Harder They Come',\n",
       " 'Raising Hell',\n",
       " 'Moby Grape',\n",
       " 'Pearl',\n",
       " 'Catch a Fire',\n",
       " 'Younger Than Yesterday',\n",
       " 'Raw Power',\n",
       " 'Remain in Light',\n",
       " 'Marquee Moon',\n",
       " 'Paranoid',\n",
       " 'Saturday Night Fever: The Original Movie Soundtrack Deluxe Edition',\n",
       " 'The Wild, the Innocent & the E Street Shuffle',\n",
       " 'Ready to Die',\n",
       " 'Slanted and Enchanted',\n",
       " 'Greatest Hits',\n",
       " 'Tim',\n",
       " 'The Chronic',\n",
       " 'Rejuvenation',\n",
       " 'Parallel Lines',\n",
       " 'Live at the Regal',\n",
       " 'A Christmas Gift for You From Phil Spector',\n",
       " 'Gris-Gris',\n",
       " 'Straight Outta Compton',\n",
       " 'Aja',\n",
       " 'Surrealistic Pillow',\n",
       " 'Deja vu',\n",
       " 'Houses of the Holy',\n",
       " 'Santana',\n",
       " 'Darkness on the Edge of Town',\n",
       " 'Funeral',\n",
       " \"The B 52's\",\n",
       " 'The Low End Theory',\n",
       " \"Moanin' in the Moonlight\",\n",
       " 'Pretenders',\n",
       " \"Paul's Boutique\",\n",
       " 'Closer',\n",
       " 'Captain Fantastic and the Brown Dirt Cowboy',\n",
       " 'Alive!',\n",
       " 'Electric Warrior',\n",
       " 'The Dock of the Bay',\n",
       " 'OK Computer',\n",
       " '1999',\n",
       " \"Let's Get It On\",\n",
       " 'Imperial Bedroom',\n",
       " 'Master of Puppets',\n",
       " 'My Aim Is True',\n",
       " 'Exodus',\n",
       " 'Live at Leeds',\n",
       " 'The Notorious Byrd Brothers',\n",
       " 'Every Picture Tells a Story',\n",
       " 'Something/Anything?',\n",
       " 'Desire',\n",
       " 'Close to You',\n",
       " 'Rocks',\n",
       " 'One Nation Under a Groove',\n",
       " 'The Anthology: 1961-1977',\n",
       " 'The Definitive Collection',\n",
       " 'The Rolling Stones, Now!',\n",
       " 'Natty Dread',\n",
       " 'Fleetwood Mac',\n",
       " 'Red Headed Stranger',\n",
       " 'The Immaculate Collection',\n",
       " 'The Stooges',\n",
       " 'Fresh',\n",
       " 'So',\n",
       " 'Buffalo Springfield Again',\n",
       " 'Happy Trails',\n",
       " 'From Elvis in Memphis',\n",
       " 'Fun House',\n",
       " 'The Gilded Palace of Sin',\n",
       " 'Dookie',\n",
       " 'Transformer',\n",
       " 'The Beano Album',\n",
       " 'Murmur',\n",
       " 'Is This It',\n",
       " 'Highway to Hell',\n",
       " 'The Downward Spiral',\n",
       " 'Parsley, Sage, Rosemary and Thyme',\n",
       " 'Bad',\n",
       " 'Modern Times',\n",
       " 'Wheels of Fire',\n",
       " 'Dirty Mind',\n",
       " 'Abraxas',\n",
       " 'Tea for the Tillerman',\n",
       " 'Ten',\n",
       " 'Everybody Knows This Is Nowhere',\n",
       " 'Wish You Were Here',\n",
       " 'Crooked Rain Crooked Rain',\n",
       " 'Tattoo You',\n",
       " 'New York Dolls',\n",
       " 'Bo Diddley / Go Bo Diddley',\n",
       " 'Two Steps From the Blues',\n",
       " 'The Queen Is Dead',\n",
       " 'Licensed to Ill',\n",
       " 'Look-Ka Py Py',\n",
       " 'Loveless',\n",
       " 'New Orleans Piano',\n",
       " 'War',\n",
       " 'The Neil Diamond Collection',\n",
       " 'American Idiot',\n",
       " 'Nebraska',\n",
       " 'Doolittle',\n",
       " 'Paid in Full',\n",
       " 'Toys in the Attic',\n",
       " 'Nick of Time',\n",
       " 'A Night at the Opera',\n",
       " 'Mr. Tambourine Man',\n",
       " 'Bookends',\n",
       " 'The Ultimate Collection',\n",
       " 'Mr. Excitement!',\n",
       " 'My Generation',\n",
       " \"Howlin' Wolf\",\n",
       " 'Like a Prayer',\n",
       " \"Can't Buy a Thrill\",\n",
       " 'Let It Be',\n",
       " 'Run D.M.C.',\n",
       " 'Black Sabbath',\n",
       " 'The Marshall Mathers LP',\n",
       " 'Freak Out!',\n",
       " 'Live/Dead',\n",
       " 'The Shape of Jazz to Come',\n",
       " 'Automatic for the People',\n",
       " 'Reasonable Doubt',\n",
       " 'Low',\n",
       " 'The Blueprint',\n",
       " 'The River',\n",
       " 'Complete & Unbelievable: The Otis Redding Dictionary of Soul',\n",
       " 'Metallica (\"The Black Album\")',\n",
       " 'Whitney Houston',\n",
       " 'The Kinks Are The Village Green Preservation Society',\n",
       " 'The Velvet Rope',\n",
       " 'Stardust',\n",
       " 'American Beauty',\n",
       " 'Crosby, Stills & Nash',\n",
       " 'Tracy Chapman',\n",
       " \"Workingman's Dead\",\n",
       " 'The Genius of Ray Charles',\n",
       " 'Child Is Father to the Man',\n",
       " 'Quadrophenia',\n",
       " 'Paul Simon',\n",
       " 'Psychocandy',\n",
       " 'Some Girls',\n",
       " 'The Beach Boys Today!',\n",
       " 'Dig Me Out',\n",
       " 'Going to a Go-Go',\n",
       " 'Nightbirds',\n",
       " 'The Slim Shady LP',\n",
       " 'Mothership Connection',\n",
       " 'Rhythm Nation 1814',\n",
       " 'Aladdin Sane',\n",
       " \"All That You Can't Leave Behind\",\n",
       " 'My Life',\n",
       " 'Folk Singer',\n",
       " \"Can't Get Enough\",\n",
       " 'The Cars',\n",
       " 'Music of My Mind',\n",
       " \"I'm Still in Love With You\",\n",
       " 'Los Angeles',\n",
       " 'Anthem of the Sun',\n",
       " 'Call Me',\n",
       " 'Talking Heads: 77',\n",
       " 'The Basement Tapes',\n",
       " 'White Light/White Heat',\n",
       " 'Kick Out the Jams',\n",
       " 'Songs of Love and Hate',\n",
       " 'Meat Is Murder',\n",
       " \"We're Only in It for the Money\",\n",
       " 'The College Dropout',\n",
       " 'Weezer (Blue Album)',\n",
       " 'Master of Reality',\n",
       " 'Coat of Many Colors',\n",
       " 'Fear of a Black Planet',\n",
       " 'John Wesley Harding',\n",
       " 'Grace',\n",
       " 'Car Wheels on a Gravel Road',\n",
       " 'Odelay',\n",
       " \"A Hard Day's Night\",\n",
       " 'Willy and the Poor Boys',\n",
       " 'Blood Sugar Sex Magik',\n",
       " 'The Sun Records Collection',\n",
       " \"Nothing's Shocking\",\n",
       " 'MTV Unplugged in New York',\n",
       " 'The Miseducation of Lauryn Hill',\n",
       " 'Damn the Torpedoes',\n",
       " 'The Velvet Underground',\n",
       " 'Surfer Rosa',\n",
       " 'Back Stabbers',\n",
       " \"Burnin'\",\n",
       " 'Amnesiac',\n",
       " 'Pink Moon',\n",
       " 'Sail Away',\n",
       " 'Ghost in the Machine',\n",
       " 'Station to Station',\n",
       " 'Slowhand',\n",
       " 'Disintegration',\n",
       " 'Exile in Guyville',\n",
       " 'Daydream Nation',\n",
       " 'In the Jungle Groove',\n",
       " \"Tonight's the Night\",\n",
       " 'Help!',\n",
       " 'Shoot Out the Lights',\n",
       " 'Wild Gift',\n",
       " 'Squeezing Out Sparks',\n",
       " 'Superunknown',\n",
       " 'In Rainbows',\n",
       " 'Aqualung',\n",
       " 'Cheap Thrills',\n",
       " 'The Heart of Saturday Night',\n",
       " 'Damaged',\n",
       " 'Play',\n",
       " 'Violator',\n",
       " 'Bat Out of Hell',\n",
       " 'Berlin',\n",
       " 'Stop Making Sense',\n",
       " 'The Piper at the Gates of Dawn',\n",
       " 'Muddy Waters at Newport 1960',\n",
       " 'The Black Album',\n",
       " 'Roger the Engineer',\n",
       " 'Rust Never Sleeps',\n",
       " 'Brothers in Arms',\n",
       " 'My Beautiful Dark Twisted Fantasy',\n",
       " '52nd Street',\n",
       " '12 Songs',\n",
       " 'Between the Buttons',\n",
       " 'Sketches of Spain',\n",
       " 'Singles Going Steady',\n",
       " 'Stankonia',\n",
       " 'Siamese Dream',\n",
       " 'L.A. Woman',\n",
       " 'Rage Against the Machine',\n",
       " 'American Recordings',\n",
       " 'Ray of Light',\n",
       " 'Eagles',\n",
       " 'Louder Than Bombs',\n",
       " 'Mott',\n",
       " \"Whatever People Say I Am, That's What I'm Not\",\n",
       " 'Reggatta de Blanc',\n",
       " 'Volunteers',\n",
       " 'Siren',\n",
       " 'Late for the Sky',\n",
       " 'Post',\n",
       " \"(What's the Story) Morning Glory?\",\n",
       " 'CrazySexyCool',\n",
       " 'Funky Kingston',\n",
       " 'The Smile Sessions',\n",
       " 'The Modern Lovers',\n",
       " 'More Songs About Buildings and Food',\n",
       " 'A Quick One',\n",
       " '\"Love and Theft\"',\n",
       " 'Pretzel Logic',\n",
       " 'Enter the Wu Tang: 36 Chambers',\n",
       " 'The Indestructible Beat of Soweto',\n",
       " 'The End of the Innocence',\n",
       " 'Elephant',\n",
       " 'The Pretender',\n",
       " 'Let It Be',\n",
       " 'Kala',\n",
       " 'Good Old Boys',\n",
       " 'Sound of Silver',\n",
       " 'For Your Pleasure',\n",
       " 'Blue Lines',\n",
       " 'Eliminator',\n",
       " 'Rain Dogs',\n",
       " 'Californication',\n",
       " 'Illmatic',\n",
       " \"(pronounced 'leh-'nerd 'skin-'nerd)\",\n",
       " \"Dr. John's Gumbo\",\n",
       " 'Radio City',\n",
       " 'Rid of Me',\n",
       " 'Sandinista!',\n",
       " \"I Do Not Want What I Haven't Got\",\n",
       " 'Strange Days',\n",
       " 'Time Out of Mind',\n",
       " '461 Ocean Boulevard',\n",
       " 'Pink Flag',\n",
       " 'Double Nickels on the Dime',\n",
       " 'Beauty and the Beat',\n",
       " 'Van Halen',\n",
       " 'Mule Variations',\n",
       " 'Boy',\n",
       " 'Band on the Run',\n",
       " 'Dummy',\n",
       " 'The \"Chirping\" Crickets',\n",
       " 'Presenting the Fabulous Ronettes Featuring Veronica',\n",
       " 'Anthology',\n",
       " 'The Rising',\n",
       " 'Grievous Angel',\n",
       " 'Sleepless',\n",
       " \"Outlandos d'Amour\",\n",
       " 'Another Green World',\n",
       " 'Vampire Weekend',\n",
       " 'Stories From the City, Stories From the Sea',\n",
       " 'Here Come the Warm Jets',\n",
       " 'All Things Must Pass',\n",
       " '#1 Record',\n",
       " 'In Utero',\n",
       " 'Sea Change',\n",
       " 'Tha Carter III',\n",
       " \"Boys Don't Cry\",\n",
       " 'Live at the Harlem Square Club, 1963',\n",
       " 'Rum Sodomy & the Lash',\n",
       " 'Suicide',\n",
       " 'Q: Are We Not Men? A: We Are Devo!',\n",
       " 'In Color',\n",
       " 'The World Is a Ghetto',\n",
       " 'Fly Like an Eagle',\n",
       " 'Back in the USA',\n",
       " 'Getz / Gilberto',\n",
       " 'Synchronicity',\n",
       " 'For Everyman',\n",
       " 'Back to Black',\n",
       " 'John Prine',\n",
       " 'Strictly Business',\n",
       " 'Love It to Death',\n",
       " 'How Will the Wolf Survive?',\n",
       " 'Here, My Dear',\n",
       " 'Z',\n",
       " 'Tumbleweed Connection',\n",
       " 'Live Through This',\n",
       " 'Metal Box',\n",
       " 'Document',\n",
       " 'Heaven Up Here',\n",
       " 'Hysteria',\n",
       " '69 Love Songs',\n",
       " 'A Rush of Blood to the Head',\n",
       " 'Tunnel of Love',\n",
       " 'The Paul Butterfield Blues Band',\n",
       " 'The Score',\n",
       " 'Radio',\n",
       " 'I Want to See the Bright Lights Tonight',\n",
       " 'Faith',\n",
       " 'The Smiths',\n",
       " 'Proxima estacion: Esperanza',\n",
       " 'Armed Forces',\n",
       " 'Life After Death',\n",
       " 'Down Every Road',\n",
       " 'All Time Greatest Hits',\n",
       " 'Maggot Brain',\n",
       " 'Only Built 4 Cuban Linx',\n",
       " 'Voodoo',\n",
       " 'Guitar Town',\n",
       " 'Entertainment!',\n",
       " 'All the Young Dudes',\n",
       " 'Vitalogy',\n",
       " \"That's the Way of the World\",\n",
       " \"She's So Unusual\",\n",
       " 'New Day Rising',\n",
       " 'Destroyer',\n",
       " 'Tres hombres',\n",
       " 'Born Under a Bad Sign',\n",
       " 'Touch',\n",
       " 'Yankee Hotel Foxtrot',\n",
       " 'Oracular Spectacular',\n",
       " 'Give It Up',\n",
       " 'Boz Scaggs',\n",
       " 'White Blood Cells',\n",
       " 'The Stone Roses',\n",
       " 'Live in Cook County Jail',\n",
       " 'Aquemini']"
      ]
     },
     "execution_count": 14,
     "metadata": {},
     "output_type": "execute_result"
    }
   ],
   "source": [
    "all_titles(our_data)"
   ]
  },
  {
   "cell_type": "markdown",
   "metadata": {},
   "source": [
    "* All artists - Returns a list of artist names for each album."
   ]
  },
  {
   "cell_type": "code",
   "execution_count": 15,
   "metadata": {},
   "outputs": [],
   "source": [
    "def all_artists(our_data):\n",
    "    return [album['artist'] for album in our_data]"
   ]
  },
  {
   "cell_type": "code",
   "execution_count": 16,
   "metadata": {},
   "outputs": [
    {
     "data": {
      "text/plain": [
       "['The Beatles',\n",
       " 'The Beach Boys',\n",
       " 'The Beatles',\n",
       " 'Bob Dylan',\n",
       " 'The Beatles',\n",
       " 'Marvin Gaye',\n",
       " 'The Rolling Stones',\n",
       " 'The Clash',\n",
       " 'Bob Dylan',\n",
       " 'The Beatles',\n",
       " 'Elvis Presley',\n",
       " 'Miles Davis',\n",
       " 'The Velvet Underground',\n",
       " 'The Beatles',\n",
       " 'The Jimi Hendrix Experience',\n",
       " 'Bob Dylan',\n",
       " 'Nirvana',\n",
       " 'Bruce Springsteen',\n",
       " 'Van Morrison',\n",
       " 'Michael Jackson',\n",
       " 'Chuck Berry',\n",
       " 'Robert Johnson',\n",
       " 'John Lennon / Plastic Ono Band',\n",
       " 'Stevie Wonder',\n",
       " 'James Brown',\n",
       " 'Fleetwood Mac',\n",
       " 'U2',\n",
       " 'The Who',\n",
       " 'Led Zeppelin',\n",
       " 'Joni Mitchell',\n",
       " 'Bob Dylan',\n",
       " 'The Rolling Stones',\n",
       " 'Ramones',\n",
       " 'The Band',\n",
       " 'David Bowie',\n",
       " 'Carole King',\n",
       " 'Eagles',\n",
       " 'Muddy Waters',\n",
       " 'The Beatles',\n",
       " 'Love',\n",
       " 'Sex Pistols',\n",
       " 'The Doors',\n",
       " 'Pink Floyd',\n",
       " 'Patti Smith',\n",
       " 'The Band',\n",
       " 'Bob Marley & The Wailers',\n",
       " 'John Coltrane',\n",
       " 'Public Enemy',\n",
       " 'The Allman Brothers Band',\n",
       " 'Little Richard',\n",
       " 'Simon & Garfunkel',\n",
       " 'Al Green',\n",
       " 'The Beatles',\n",
       " 'Ray Charles',\n",
       " 'The Jimi Hendrix Experience',\n",
       " 'Elvis Presley',\n",
       " 'Stevie Wonder',\n",
       " 'The Rolling Stones',\n",
       " 'Creedence Clearwater Revival',\n",
       " 'Sly & The Family Stone',\n",
       " \"Guns N' Roses\",\n",
       " 'U2',\n",
       " 'The Rolling Stones',\n",
       " 'Phil Spector',\n",
       " 'Van Morrison',\n",
       " 'Radiohead',\n",
       " 'Michael Jackson',\n",
       " 'Led Zeppelin',\n",
       " 'Billy Joel',\n",
       " 'Paul Simon',\n",
       " 'Curtis Mayfield',\n",
       " 'Led Zeppelin',\n",
       " 'Neil Young',\n",
       " 'James Brown',\n",
       " 'Prince and the Revolution',\n",
       " 'AC/DC',\n",
       " 'Otis Redding',\n",
       " 'Led Zeppelin',\n",
       " 'John Lennon',\n",
       " 'The Clash',\n",
       " 'Neil Young',\n",
       " 'The Jimi Hendrix Experience',\n",
       " 'Aretha Franklin',\n",
       " 'Aretha Franklin',\n",
       " 'Bruce Springsteen',\n",
       " 'Pink Floyd',\n",
       " 'Johnny Cash',\n",
       " 'Dusty Springfield',\n",
       " 'Stevie Wonder',\n",
       " 'Elton John',\n",
       " 'Buddy Holly',\n",
       " 'Prince',\n",
       " 'Hank Williams',\n",
       " 'Miles Davis',\n",
       " 'The Who',\n",
       " 'Bob Dylan',\n",
       " 'Elvis Costello',\n",
       " 'Sly & The Family Stone',\n",
       " 'The Zombies',\n",
       " 'Frank Sinatra',\n",
       " 'Cream',\n",
       " 'John Coltrane',\n",
       " 'James Taylor',\n",
       " 'Ramones',\n",
       " 'Sam Cooke',\n",
       " 'David Bowie',\n",
       " 'The Rolling Stones',\n",
       " 'The Velvet Underground',\n",
       " 'Radiohead',\n",
       " 'The Mamas and the Papas',\n",
       " 'Joni Mitchell',\n",
       " 'Cream',\n",
       " 'The Who',\n",
       " 'The Rolling Stones',\n",
       " 'Derek and the Dominos',\n",
       " 'Kanye West',\n",
       " 'Etta James',\n",
       " 'The Byrds',\n",
       " 'Sly & The Family Stone',\n",
       " 'Various Artists',\n",
       " 'Run D.M.C.',\n",
       " 'Moby Grape',\n",
       " 'Janis Joplin',\n",
       " 'The Wailers',\n",
       " 'The Byrds',\n",
       " 'Iggy and The Stooges',\n",
       " 'Talking Heads',\n",
       " 'Television',\n",
       " 'Black Sabbath',\n",
       " 'Various Artists',\n",
       " 'Bruce Springsteen',\n",
       " 'The Notorious B.I.G.',\n",
       " 'Pavement',\n",
       " 'Elton John',\n",
       " 'The Replacements',\n",
       " 'Dr. Dre',\n",
       " 'The Meters',\n",
       " 'Blondie',\n",
       " 'B.B. King',\n",
       " 'Phil Spector',\n",
       " 'Dr. John, the Night Tripper',\n",
       " 'N.W.A',\n",
       " 'Steely Dan',\n",
       " 'Jefferson Airplane',\n",
       " 'Crosby, Stills, Nash & Young',\n",
       " 'Led Zeppelin',\n",
       " 'Santana',\n",
       " 'Bruce Springsteen',\n",
       " 'Arcade Fire',\n",
       " \"The B 52's\",\n",
       " 'A Tribe Called Quest',\n",
       " \"Howlin' Wolf\",\n",
       " 'Pretenders',\n",
       " 'Beastie Boys',\n",
       " 'Joy Division',\n",
       " 'Elton John',\n",
       " 'KISS',\n",
       " 'T. Rex',\n",
       " 'Otis Redding',\n",
       " 'Radiohead',\n",
       " 'Prince',\n",
       " 'Marvin Gaye',\n",
       " 'Elvis Costello & The Attractions',\n",
       " 'Metallica',\n",
       " 'Elvis Costello',\n",
       " 'Bob Marley & The Wailers',\n",
       " 'The Who',\n",
       " 'The Byrds',\n",
       " 'Rod Stewart',\n",
       " 'Todd Rundgren',\n",
       " 'Bob Dylan',\n",
       " 'Carpenters',\n",
       " 'Aerosmith',\n",
       " 'Funkadelic',\n",
       " 'Curtis Mayfield and The Impressions',\n",
       " 'ABBA',\n",
       " 'The Rolling Stones',\n",
       " 'Bob Marley & The Wailers',\n",
       " 'Fleetwood Mac',\n",
       " 'Willie Nelson',\n",
       " 'Madonna',\n",
       " 'The Stooges',\n",
       " 'Sly & The Family Stone',\n",
       " 'Peter Gabriel',\n",
       " 'Buffalo Springfield',\n",
       " 'Quicksilver Messenger Service',\n",
       " 'Elvis Presley',\n",
       " 'The Stooges',\n",
       " 'The Flying Burrito Brothers',\n",
       " 'Green Day',\n",
       " 'Lou Reed',\n",
       " 'John Mayall & The Bluesbreakers',\n",
       " 'R.E.M.',\n",
       " 'The Strokes',\n",
       " 'AC/DC',\n",
       " 'Nine Inch Nails',\n",
       " 'Simon & Garfunkel',\n",
       " 'Michael Jackson',\n",
       " 'Bob Dylan',\n",
       " 'Cream',\n",
       " 'Prince',\n",
       " 'Santana',\n",
       " 'Cat Stevens',\n",
       " 'Pearl Jam',\n",
       " 'Neil Young & Crazy Horse',\n",
       " 'Pink Floyd',\n",
       " 'Pavement',\n",
       " 'The Rolling Stones',\n",
       " 'New York Dolls',\n",
       " 'Bo Diddley',\n",
       " 'Bobby \"Blue\" Bland',\n",
       " 'The Smiths',\n",
       " 'Beastie Boys',\n",
       " 'The Meters',\n",
       " 'My Bloody Valentine',\n",
       " 'Professor Longhair',\n",
       " 'U2',\n",
       " 'Neil Diamond',\n",
       " 'Green Day',\n",
       " 'Bruce Springsteen',\n",
       " 'Pixies',\n",
       " 'Eric B. & Rakim',\n",
       " 'Aerosmith',\n",
       " 'Bonnie Raitt',\n",
       " 'Queen',\n",
       " 'The Byrds',\n",
       " 'Simon & Garfunkel',\n",
       " 'Patsy Cline',\n",
       " 'Jackie Wilson',\n",
       " 'The Who',\n",
       " \"Howlin' Wolf\",\n",
       " 'Madonna',\n",
       " 'Steely Dan',\n",
       " 'The Replacements',\n",
       " 'Run D.M.C.',\n",
       " 'Black Sabbath',\n",
       " 'Eminem',\n",
       " 'The Mothers of Invention',\n",
       " 'The Grateful Dead',\n",
       " 'Ornette Coleman',\n",
       " 'R.E.M.',\n",
       " 'Jay Z',\n",
       " 'David Bowie',\n",
       " 'Jay Z',\n",
       " 'Bruce Springsteen',\n",
       " 'Otis Redding',\n",
       " 'Metallica',\n",
       " 'Whitney Houston',\n",
       " 'The Kinks',\n",
       " 'Janet',\n",
       " 'Willie Nelson',\n",
       " 'Grateful Dead',\n",
       " 'Crosby, Stills & Nash',\n",
       " 'Tracy Chapman',\n",
       " 'Grateful Dead',\n",
       " 'Ray Charles',\n",
       " 'Blood, Sweat & Tears',\n",
       " 'The Who',\n",
       " 'Paul Simon',\n",
       " 'The Jesus and Mary Chain',\n",
       " 'The Rolling Stones',\n",
       " 'The Beach Boys',\n",
       " 'Sleater Kinney',\n",
       " 'Smokey Robinson & The Miracles',\n",
       " 'LaBelle',\n",
       " 'Eminem',\n",
       " 'Parliament',\n",
       " 'Janet Jackson',\n",
       " 'David Bowie',\n",
       " 'U2',\n",
       " 'Mary J. Blige',\n",
       " 'Muddy Waters',\n",
       " 'Barry White',\n",
       " 'The Cars',\n",
       " 'Stevie Wonder',\n",
       " 'Al Green',\n",
       " 'X',\n",
       " 'Grateful Dead',\n",
       " 'Al Green',\n",
       " 'Talking Heads',\n",
       " 'Bob Dylan and the Band',\n",
       " 'The Velvet Underground',\n",
       " 'MC5',\n",
       " 'Leonard Cohen',\n",
       " 'The Smiths',\n",
       " 'The Mothers of Invention',\n",
       " 'Kanye West',\n",
       " 'Weezer',\n",
       " 'Black Sabbath',\n",
       " 'Dolly Parton',\n",
       " 'Public Enemy',\n",
       " 'Bob Dylan',\n",
       " 'Jeff Buckley',\n",
       " 'Lucinda Williams',\n",
       " 'Beck',\n",
       " 'The Beatles',\n",
       " 'Creedence Clearwater Revival',\n",
       " 'Red Hot Chili Peppers',\n",
       " 'Various',\n",
       " \"Jane's Addiction\",\n",
       " 'Nirvana',\n",
       " 'Lauryn Hill',\n",
       " 'Tom Petty and the Heartbreakers',\n",
       " 'The Velvet Underground',\n",
       " 'Pixies',\n",
       " \"The O'Jays\",\n",
       " 'The Wailers',\n",
       " 'Radiohead',\n",
       " 'Nick Drake',\n",
       " 'Randy Newman',\n",
       " 'The Police',\n",
       " 'David Bowie',\n",
       " 'Eric Clapton',\n",
       " 'The Cure',\n",
       " 'Liz Phair',\n",
       " 'Sonic Youth',\n",
       " 'James Brown',\n",
       " 'Neil Young',\n",
       " 'The Beatles',\n",
       " 'Richard & Linda Thompson',\n",
       " 'X',\n",
       " 'Graham Parker & The Rumour',\n",
       " 'Soundgarden',\n",
       " 'Radiohead',\n",
       " 'Jethro Tull',\n",
       " 'Big Brother & the Holding Company',\n",
       " 'Tom Waits',\n",
       " 'Black Flag',\n",
       " 'Moby',\n",
       " 'Depeche Mode',\n",
       " 'Meat Loaf',\n",
       " 'Lou Reed',\n",
       " 'Talking Heads',\n",
       " 'Pink Floyd',\n",
       " 'Muddy Waters',\n",
       " 'Jay Z',\n",
       " 'The Yardbirds',\n",
       " 'Neil Young & Crazy Horse',\n",
       " 'Dire Straits',\n",
       " 'Kanye West',\n",
       " 'Billy Joel',\n",
       " 'Randy Newman',\n",
       " 'The Rolling Stones',\n",
       " 'Miles Davis',\n",
       " 'Buzzcocks',\n",
       " 'OutKast',\n",
       " 'The Smashing Pumpkins',\n",
       " 'The Doors',\n",
       " 'Rage Against the Machine',\n",
       " 'Johnny Cash',\n",
       " 'Madonna',\n",
       " 'Eagles',\n",
       " 'The Smiths',\n",
       " 'Mott the Hoople',\n",
       " 'Arctic Monkeys',\n",
       " 'The Police',\n",
       " 'Jefferson Airplane',\n",
       " 'Roxy Music',\n",
       " 'Jackson Browne',\n",
       " 'Bjork',\n",
       " 'Oasis',\n",
       " 'TLC',\n",
       " 'Toots & The Maytals',\n",
       " 'The Beach Boys',\n",
       " 'The Modern Lovers',\n",
       " 'Talking Heads',\n",
       " 'The Who',\n",
       " 'Bob Dylan',\n",
       " 'Steely Dan',\n",
       " 'Wu Tang Clan',\n",
       " 'Various Artists',\n",
       " 'Don Henley',\n",
       " 'The White Stripes',\n",
       " 'Jackson Browne',\n",
       " 'The Beatles',\n",
       " 'M.I.A.',\n",
       " 'Randy Newman',\n",
       " 'LCD Soundsystem',\n",
       " 'Roxy Music',\n",
       " 'Massive Attack',\n",
       " 'ZZ Top',\n",
       " 'Tom Waits',\n",
       " 'Red Hot Chili Peppers',\n",
       " 'Nas',\n",
       " 'Lynyrd Skynyrd',\n",
       " 'Dr. John',\n",
       " 'Big Star',\n",
       " 'PJ Harvey',\n",
       " 'The Clash',\n",
       " \"Sinead O'Connor\",\n",
       " 'The Doors',\n",
       " 'Bob Dylan',\n",
       " 'Eric Clapton',\n",
       " 'Wire',\n",
       " 'Minutemen',\n",
       " \"The Go Go's\",\n",
       " 'Van Halen',\n",
       " 'Tom Waits',\n",
       " 'U2',\n",
       " 'Paul McCartney & Wings',\n",
       " 'Portishead',\n",
       " 'The Crickets',\n",
       " 'The Ronettes',\n",
       " 'Diana Ross & The Supremes',\n",
       " 'Bruce Springsteen',\n",
       " 'Gram Parsons',\n",
       " 'Peter Wolf',\n",
       " 'The Police',\n",
       " 'Brian Eno',\n",
       " 'Vampire Weekend',\n",
       " 'PJ Harvey',\n",
       " 'Brian Eno',\n",
       " 'George Harrison',\n",
       " 'Big Star',\n",
       " 'Nirvana',\n",
       " 'Beck',\n",
       " 'Lil Wayne',\n",
       " 'The Cure',\n",
       " 'Sam Cooke',\n",
       " 'The Pogues',\n",
       " 'Suicide',\n",
       " 'DEVO',\n",
       " 'Cheap Trick',\n",
       " 'War',\n",
       " 'Steve Miller Band',\n",
       " 'MC5',\n",
       " 'Stan Getz/Joao Gilberto featuring Antonio Carlos Jobim',\n",
       " 'The Police',\n",
       " 'Jackson Browne',\n",
       " 'Amy Winehouse',\n",
       " 'John Prine',\n",
       " 'EPMD',\n",
       " 'Alice Cooper',\n",
       " 'Los Lobos',\n",
       " 'Marvin Gaye',\n",
       " 'My Morning Jacket',\n",
       " 'Elton John',\n",
       " 'Hole',\n",
       " 'Public Image Ltd.',\n",
       " 'R.E.M.',\n",
       " 'Echo and The Bunnymen',\n",
       " 'Def Leppard',\n",
       " 'The Magnetic Fields',\n",
       " 'Coldplay',\n",
       " 'Bruce Springsteen',\n",
       " 'The Paul Butterfield Blues Band',\n",
       " 'Fugees',\n",
       " 'L.L. Cool J',\n",
       " 'Richard & Linda Thompson',\n",
       " 'George Michael',\n",
       " 'The Smiths',\n",
       " 'Manu Chao',\n",
       " 'Elvis Costello & The Attractions',\n",
       " 'The Notorious B.I.G.',\n",
       " 'Merle Haggard',\n",
       " 'Loretta Lynn',\n",
       " 'Funkadelic',\n",
       " 'Raekwon',\n",
       " \"D'Angelo\",\n",
       " 'Steve Earle',\n",
       " 'Gang of Four',\n",
       " 'Mott the Hoople',\n",
       " 'Pearl Jam',\n",
       " 'Earth, Wind & Fire',\n",
       " 'Cyndi Lauper',\n",
       " 'Husker Du',\n",
       " 'KISS',\n",
       " 'ZZ Top',\n",
       " 'Albert King',\n",
       " 'Eurythmics',\n",
       " 'Wilco',\n",
       " 'MGMT',\n",
       " 'Bonnie Raitt',\n",
       " 'Boz Scaggs',\n",
       " 'The White Stripes',\n",
       " 'The Stone Roses',\n",
       " 'B.B. King',\n",
       " 'OutKast']"
      ]
     },
     "execution_count": 16,
     "metadata": {},
     "output_type": "execute_result"
    }
   ],
   "source": [
    "all_artists(our_data)"
   ]
  },
  {
   "cell_type": "markdown",
   "metadata": {},
   "source": [
    "## Questions to answer/functions"
   ]
  },
  {
   "cell_type": "markdown",
   "metadata": {},
   "source": [
    "* Artists with the most albums - Returns the artist with the highest amount of albums on the list of top albums"
   ]
  },
  {
   "cell_type": "code",
   "execution_count": 17,
   "metadata": {},
   "outputs": [],
   "source": [
    "def most_popular_artist(our_data):\n",
    "    counter_dict = {}\n",
    "    for artist in all_artists(our_data):\n",
    "        if artist in counter_dict:\n",
    "            counter_dict[artist] += 1\n",
    "        else:\n",
    "            counter_dict[artist] = 1\n",
    "    maximum_albums = max(counter_dict.values())\n",
    "    artist_lists = []\n",
    "    for keys, values in counter_dict.items():\n",
    "        if values == maximum_albums:\n",
    "            artist_lists.append(keys) \n",
    "    return artist_lists\n",
    "        "
   ]
  },
  {
   "cell_type": "code",
   "execution_count": 18,
   "metadata": {},
   "outputs": [
    {
     "data": {
      "text/plain": [
       "['The Beatles', 'Bob Dylan', 'The Rolling Stones']"
      ]
     },
     "execution_count": 18,
     "metadata": {},
     "output_type": "execute_result"
    }
   ],
   "source": [
    "most_popular_artist(our_data)"
   ]
  },
  {
   "cell_type": "markdown",
   "metadata": {},
   "source": [
    "* Histogram of albums by decade - Returns a histogram with each decade pointing to the number of albums released during that decade."
   ]
  },
  {
   "cell_type": "code",
   "execution_count": 19,
   "metadata": {},
   "outputs": [],
   "source": [
    "def histogram_decades(our_data):\n",
    "    decade_dict = {}\n",
    "    for album in our_data:\n",
    "        decade = int(album['year'])//10\n",
    "        if decade in decade_dict:\n",
    "            decade_dict[decade] += 1\n",
    "        else:\n",
    "            decade_dict[decade] = 1\n",
    "    return decade_dict"
   ]
  },
  {
   "cell_type": "code",
   "execution_count": 20,
   "metadata": {},
   "outputs": [
    {
     "name": "stdout",
     "output_type": "stream",
     "text": [
      "Collecting plotly\n",
      "\u001b[?25l  Downloading https://files.pythonhosted.org/packages/15/90/918bccb0ca60dc6d126d921e2c67126d75949f5da777e6b18c51fb12603d/plotly-4.6.0-py2.py3-none-any.whl (7.1MB)\n",
      "\u001b[K    100% |████████████████████████████████| 7.2MB 547kB/s ta 0:00:01\n",
      "\u001b[?25hRequirement already satisfied: six in /anaconda3/lib/python3.7/site-packages (from plotly) (1.12.0)\n",
      "Collecting retrying>=1.3.3 (from plotly)\n",
      "  Downloading https://files.pythonhosted.org/packages/44/ef/beae4b4ef80902f22e3af073397f079c96969c69b2c7d52a57ea9ae61c9d/retrying-1.3.3.tar.gz\n",
      "Building wheels for collected packages: retrying\n",
      "  Building wheel for retrying (setup.py) ... \u001b[?25ldone\n",
      "\u001b[?25h  Stored in directory: /Users/swilson5/Library/Caches/pip/wheels/d7/a9/33/acc7b709e2a35caa7d4cae442f6fe6fbf2c43f80823d46460c\n",
      "Successfully built retrying\n",
      "Installing collected packages: retrying, plotly\n",
      "Successfully installed plotly-4.6.0 retrying-1.3.3\n"
     ]
    },
    {
     "data": {
      "text/html": [
       "        <script type=\"text/javascript\">\n",
       "        window.PlotlyConfig = {MathJaxConfig: 'local'};\n",
       "        if (window.MathJax) {MathJax.Hub.Config({SVG: {font: \"STIX-Web\"}});}\n",
       "        if (typeof require !== 'undefined') {\n",
       "        require.undef(\"plotly\");\n",
       "        requirejs.config({\n",
       "            paths: {\n",
       "                'plotly': ['https://cdn.plot.ly/plotly-latest.min']\n",
       "            }\n",
       "        });\n",
       "        require(['plotly'], function(Plotly) {\n",
       "            window._Plotly = Plotly;\n",
       "        });\n",
       "        }\n",
       "        </script>\n",
       "        "
      ]
     },
     "metadata": {},
     "output_type": "display_data"
    },
    {
     "data": {
      "application/vnd.plotly.v1+json": {
       "config": {
        "linkText": "Export to plot.ly",
        "plotlyServerURL": "https://plot.ly",
        "showLink": false
       },
       "data": [
        {
         "type": "bar",
         "x": [
          "1950s",
          "1960s",
          "1970s",
          "1980s",
          "1990s",
          "2000s",
          "2010s"
         ],
         "y": [
          99,
          181,
          9,
          65,
          83,
          39,
          2
         ]
        }
       ],
       "layout": {
        "template": {
         "data": {
          "bar": [
           {
            "error_x": {
             "color": "#2a3f5f"
            },
            "error_y": {
             "color": "#2a3f5f"
            },
            "marker": {
             "line": {
              "color": "#E5ECF6",
              "width": 0.5
             }
            },
            "type": "bar"
           }
          ],
          "barpolar": [
           {
            "marker": {
             "line": {
              "color": "#E5ECF6",
              "width": 0.5
             }
            },
            "type": "barpolar"
           }
          ],
          "carpet": [
           {
            "aaxis": {
             "endlinecolor": "#2a3f5f",
             "gridcolor": "white",
             "linecolor": "white",
             "minorgridcolor": "white",
             "startlinecolor": "#2a3f5f"
            },
            "baxis": {
             "endlinecolor": "#2a3f5f",
             "gridcolor": "white",
             "linecolor": "white",
             "minorgridcolor": "white",
             "startlinecolor": "#2a3f5f"
            },
            "type": "carpet"
           }
          ],
          "choropleth": [
           {
            "colorbar": {
             "outlinewidth": 0,
             "ticks": ""
            },
            "type": "choropleth"
           }
          ],
          "contour": [
           {
            "colorbar": {
             "outlinewidth": 0,
             "ticks": ""
            },
            "colorscale": [
             [
              0,
              "#0d0887"
             ],
             [
              0.1111111111111111,
              "#46039f"
             ],
             [
              0.2222222222222222,
              "#7201a8"
             ],
             [
              0.3333333333333333,
              "#9c179e"
             ],
             [
              0.4444444444444444,
              "#bd3786"
             ],
             [
              0.5555555555555556,
              "#d8576b"
             ],
             [
              0.6666666666666666,
              "#ed7953"
             ],
             [
              0.7777777777777778,
              "#fb9f3a"
             ],
             [
              0.8888888888888888,
              "#fdca26"
             ],
             [
              1,
              "#f0f921"
             ]
            ],
            "type": "contour"
           }
          ],
          "contourcarpet": [
           {
            "colorbar": {
             "outlinewidth": 0,
             "ticks": ""
            },
            "type": "contourcarpet"
           }
          ],
          "heatmap": [
           {
            "colorbar": {
             "outlinewidth": 0,
             "ticks": ""
            },
            "colorscale": [
             [
              0,
              "#0d0887"
             ],
             [
              0.1111111111111111,
              "#46039f"
             ],
             [
              0.2222222222222222,
              "#7201a8"
             ],
             [
              0.3333333333333333,
              "#9c179e"
             ],
             [
              0.4444444444444444,
              "#bd3786"
             ],
             [
              0.5555555555555556,
              "#d8576b"
             ],
             [
              0.6666666666666666,
              "#ed7953"
             ],
             [
              0.7777777777777778,
              "#fb9f3a"
             ],
             [
              0.8888888888888888,
              "#fdca26"
             ],
             [
              1,
              "#f0f921"
             ]
            ],
            "type": "heatmap"
           }
          ],
          "heatmapgl": [
           {
            "colorbar": {
             "outlinewidth": 0,
             "ticks": ""
            },
            "colorscale": [
             [
              0,
              "#0d0887"
             ],
             [
              0.1111111111111111,
              "#46039f"
             ],
             [
              0.2222222222222222,
              "#7201a8"
             ],
             [
              0.3333333333333333,
              "#9c179e"
             ],
             [
              0.4444444444444444,
              "#bd3786"
             ],
             [
              0.5555555555555556,
              "#d8576b"
             ],
             [
              0.6666666666666666,
              "#ed7953"
             ],
             [
              0.7777777777777778,
              "#fb9f3a"
             ],
             [
              0.8888888888888888,
              "#fdca26"
             ],
             [
              1,
              "#f0f921"
             ]
            ],
            "type": "heatmapgl"
           }
          ],
          "histogram": [
           {
            "marker": {
             "colorbar": {
              "outlinewidth": 0,
              "ticks": ""
             }
            },
            "type": "histogram"
           }
          ],
          "histogram2d": [
           {
            "colorbar": {
             "outlinewidth": 0,
             "ticks": ""
            },
            "colorscale": [
             [
              0,
              "#0d0887"
             ],
             [
              0.1111111111111111,
              "#46039f"
             ],
             [
              0.2222222222222222,
              "#7201a8"
             ],
             [
              0.3333333333333333,
              "#9c179e"
             ],
             [
              0.4444444444444444,
              "#bd3786"
             ],
             [
              0.5555555555555556,
              "#d8576b"
             ],
             [
              0.6666666666666666,
              "#ed7953"
             ],
             [
              0.7777777777777778,
              "#fb9f3a"
             ],
             [
              0.8888888888888888,
              "#fdca26"
             ],
             [
              1,
              "#f0f921"
             ]
            ],
            "type": "histogram2d"
           }
          ],
          "histogram2dcontour": [
           {
            "colorbar": {
             "outlinewidth": 0,
             "ticks": ""
            },
            "colorscale": [
             [
              0,
              "#0d0887"
             ],
             [
              0.1111111111111111,
              "#46039f"
             ],
             [
              0.2222222222222222,
              "#7201a8"
             ],
             [
              0.3333333333333333,
              "#9c179e"
             ],
             [
              0.4444444444444444,
              "#bd3786"
             ],
             [
              0.5555555555555556,
              "#d8576b"
             ],
             [
              0.6666666666666666,
              "#ed7953"
             ],
             [
              0.7777777777777778,
              "#fb9f3a"
             ],
             [
              0.8888888888888888,
              "#fdca26"
             ],
             [
              1,
              "#f0f921"
             ]
            ],
            "type": "histogram2dcontour"
           }
          ],
          "mesh3d": [
           {
            "colorbar": {
             "outlinewidth": 0,
             "ticks": ""
            },
            "type": "mesh3d"
           }
          ],
          "parcoords": [
           {
            "line": {
             "colorbar": {
              "outlinewidth": 0,
              "ticks": ""
             }
            },
            "type": "parcoords"
           }
          ],
          "pie": [
           {
            "automargin": true,
            "type": "pie"
           }
          ],
          "scatter": [
           {
            "marker": {
             "colorbar": {
              "outlinewidth": 0,
              "ticks": ""
             }
            },
            "type": "scatter"
           }
          ],
          "scatter3d": [
           {
            "line": {
             "colorbar": {
              "outlinewidth": 0,
              "ticks": ""
             }
            },
            "marker": {
             "colorbar": {
              "outlinewidth": 0,
              "ticks": ""
             }
            },
            "type": "scatter3d"
           }
          ],
          "scattercarpet": [
           {
            "marker": {
             "colorbar": {
              "outlinewidth": 0,
              "ticks": ""
             }
            },
            "type": "scattercarpet"
           }
          ],
          "scattergeo": [
           {
            "marker": {
             "colorbar": {
              "outlinewidth": 0,
              "ticks": ""
             }
            },
            "type": "scattergeo"
           }
          ],
          "scattergl": [
           {
            "marker": {
             "colorbar": {
              "outlinewidth": 0,
              "ticks": ""
             }
            },
            "type": "scattergl"
           }
          ],
          "scattermapbox": [
           {
            "marker": {
             "colorbar": {
              "outlinewidth": 0,
              "ticks": ""
             }
            },
            "type": "scattermapbox"
           }
          ],
          "scatterpolar": [
           {
            "marker": {
             "colorbar": {
              "outlinewidth": 0,
              "ticks": ""
             }
            },
            "type": "scatterpolar"
           }
          ],
          "scatterpolargl": [
           {
            "marker": {
             "colorbar": {
              "outlinewidth": 0,
              "ticks": ""
             }
            },
            "type": "scatterpolargl"
           }
          ],
          "scatterternary": [
           {
            "marker": {
             "colorbar": {
              "outlinewidth": 0,
              "ticks": ""
             }
            },
            "type": "scatterternary"
           }
          ],
          "surface": [
           {
            "colorbar": {
             "outlinewidth": 0,
             "ticks": ""
            },
            "colorscale": [
             [
              0,
              "#0d0887"
             ],
             [
              0.1111111111111111,
              "#46039f"
             ],
             [
              0.2222222222222222,
              "#7201a8"
             ],
             [
              0.3333333333333333,
              "#9c179e"
             ],
             [
              0.4444444444444444,
              "#bd3786"
             ],
             [
              0.5555555555555556,
              "#d8576b"
             ],
             [
              0.6666666666666666,
              "#ed7953"
             ],
             [
              0.7777777777777778,
              "#fb9f3a"
             ],
             [
              0.8888888888888888,
              "#fdca26"
             ],
             [
              1,
              "#f0f921"
             ]
            ],
            "type": "surface"
           }
          ],
          "table": [
           {
            "cells": {
             "fill": {
              "color": "#EBF0F8"
             },
             "line": {
              "color": "white"
             }
            },
            "header": {
             "fill": {
              "color": "#C8D4E3"
             },
             "line": {
              "color": "white"
             }
            },
            "type": "table"
           }
          ]
         },
         "layout": {
          "annotationdefaults": {
           "arrowcolor": "#2a3f5f",
           "arrowhead": 0,
           "arrowwidth": 1
          },
          "coloraxis": {
           "colorbar": {
            "outlinewidth": 0,
            "ticks": ""
           }
          },
          "colorscale": {
           "diverging": [
            [
             0,
             "#8e0152"
            ],
            [
             0.1,
             "#c51b7d"
            ],
            [
             0.2,
             "#de77ae"
            ],
            [
             0.3,
             "#f1b6da"
            ],
            [
             0.4,
             "#fde0ef"
            ],
            [
             0.5,
             "#f7f7f7"
            ],
            [
             0.6,
             "#e6f5d0"
            ],
            [
             0.7,
             "#b8e186"
            ],
            [
             0.8,
             "#7fbc41"
            ],
            [
             0.9,
             "#4d9221"
            ],
            [
             1,
             "#276419"
            ]
           ],
           "sequential": [
            [
             0,
             "#0d0887"
            ],
            [
             0.1111111111111111,
             "#46039f"
            ],
            [
             0.2222222222222222,
             "#7201a8"
            ],
            [
             0.3333333333333333,
             "#9c179e"
            ],
            [
             0.4444444444444444,
             "#bd3786"
            ],
            [
             0.5555555555555556,
             "#d8576b"
            ],
            [
             0.6666666666666666,
             "#ed7953"
            ],
            [
             0.7777777777777778,
             "#fb9f3a"
            ],
            [
             0.8888888888888888,
             "#fdca26"
            ],
            [
             1,
             "#f0f921"
            ]
           ],
           "sequentialminus": [
            [
             0,
             "#0d0887"
            ],
            [
             0.1111111111111111,
             "#46039f"
            ],
            [
             0.2222222222222222,
             "#7201a8"
            ],
            [
             0.3333333333333333,
             "#9c179e"
            ],
            [
             0.4444444444444444,
             "#bd3786"
            ],
            [
             0.5555555555555556,
             "#d8576b"
            ],
            [
             0.6666666666666666,
             "#ed7953"
            ],
            [
             0.7777777777777778,
             "#fb9f3a"
            ],
            [
             0.8888888888888888,
             "#fdca26"
            ],
            [
             1,
             "#f0f921"
            ]
           ]
          },
          "colorway": [
           "#636efa",
           "#EF553B",
           "#00cc96",
           "#ab63fa",
           "#FFA15A",
           "#19d3f3",
           "#FF6692",
           "#B6E880",
           "#FF97FF",
           "#FECB52"
          ],
          "font": {
           "color": "#2a3f5f"
          },
          "geo": {
           "bgcolor": "white",
           "lakecolor": "white",
           "landcolor": "#E5ECF6",
           "showlakes": true,
           "showland": true,
           "subunitcolor": "white"
          },
          "hoverlabel": {
           "align": "left"
          },
          "hovermode": "closest",
          "mapbox": {
           "style": "light"
          },
          "paper_bgcolor": "white",
          "plot_bgcolor": "#E5ECF6",
          "polar": {
           "angularaxis": {
            "gridcolor": "white",
            "linecolor": "white",
            "ticks": ""
           },
           "bgcolor": "#E5ECF6",
           "radialaxis": {
            "gridcolor": "white",
            "linecolor": "white",
            "ticks": ""
           }
          },
          "scene": {
           "xaxis": {
            "backgroundcolor": "#E5ECF6",
            "gridcolor": "white",
            "gridwidth": 2,
            "linecolor": "white",
            "showbackground": true,
            "ticks": "",
            "zerolinecolor": "white"
           },
           "yaxis": {
            "backgroundcolor": "#E5ECF6",
            "gridcolor": "white",
            "gridwidth": 2,
            "linecolor": "white",
            "showbackground": true,
            "ticks": "",
            "zerolinecolor": "white"
           },
           "zaxis": {
            "backgroundcolor": "#E5ECF6",
            "gridcolor": "white",
            "gridwidth": 2,
            "linecolor": "white",
            "showbackground": true,
            "ticks": "",
            "zerolinecolor": "white"
           }
          },
          "shapedefaults": {
           "line": {
            "color": "#2a3f5f"
           }
          },
          "ternary": {
           "aaxis": {
            "gridcolor": "white",
            "linecolor": "white",
            "ticks": ""
           },
           "baxis": {
            "gridcolor": "white",
            "linecolor": "white",
            "ticks": ""
           },
           "bgcolor": "#E5ECF6",
           "caxis": {
            "gridcolor": "white",
            "linecolor": "white",
            "ticks": ""
           }
          },
          "title": {
           "x": 0.05
          },
          "xaxis": {
           "automargin": true,
           "gridcolor": "white",
           "linecolor": "white",
           "ticks": "",
           "title": {
            "standoff": 15
           },
           "zerolinecolor": "white",
           "zerolinewidth": 2
          },
          "yaxis": {
           "automargin": true,
           "gridcolor": "white",
           "linecolor": "white",
           "ticks": "",
           "title": {
            "standoff": 15
           },
           "zerolinecolor": "white",
           "zerolinewidth": 2
          }
         }
        }
       }
      },
      "text/html": [
       "<div>\n",
       "        \n",
       "        \n",
       "            <div id=\"4456ec4c-e5df-4ce8-8832-7c0dbf5cd58f\" class=\"plotly-graph-div\" style=\"height:525px; width:100%;\"></div>\n",
       "            <script type=\"text/javascript\">\n",
       "                require([\"plotly\"], function(Plotly) {\n",
       "                    window.PLOTLYENV=window.PLOTLYENV || {};\n",
       "                    \n",
       "                if (document.getElementById(\"4456ec4c-e5df-4ce8-8832-7c0dbf5cd58f\")) {\n",
       "                    Plotly.newPlot(\n",
       "                        '4456ec4c-e5df-4ce8-8832-7c0dbf5cd58f',\n",
       "                        [{\"type\": \"bar\", \"x\": [\"1950s\", \"1960s\", \"1970s\", \"1980s\", \"1990s\", \"2000s\", \"2010s\"], \"y\": [99, 181, 9, 65, 83, 39, 2]}],\n",
       "                        {\"template\": {\"data\": {\"bar\": [{\"error_x\": {\"color\": \"#2a3f5f\"}, \"error_y\": {\"color\": \"#2a3f5f\"}, \"marker\": {\"line\": {\"color\": \"#E5ECF6\", \"width\": 0.5}}, \"type\": \"bar\"}], \"barpolar\": [{\"marker\": {\"line\": {\"color\": \"#E5ECF6\", \"width\": 0.5}}, \"type\": \"barpolar\"}], \"carpet\": [{\"aaxis\": {\"endlinecolor\": \"#2a3f5f\", \"gridcolor\": \"white\", \"linecolor\": \"white\", \"minorgridcolor\": \"white\", \"startlinecolor\": \"#2a3f5f\"}, \"baxis\": {\"endlinecolor\": \"#2a3f5f\", \"gridcolor\": \"white\", \"linecolor\": \"white\", \"minorgridcolor\": \"white\", \"startlinecolor\": \"#2a3f5f\"}, \"type\": \"carpet\"}], \"choropleth\": [{\"colorbar\": {\"outlinewidth\": 0, \"ticks\": \"\"}, \"type\": \"choropleth\"}], \"contour\": [{\"colorbar\": {\"outlinewidth\": 0, \"ticks\": \"\"}, \"colorscale\": [[0.0, \"#0d0887\"], [0.1111111111111111, \"#46039f\"], [0.2222222222222222, \"#7201a8\"], [0.3333333333333333, \"#9c179e\"], [0.4444444444444444, \"#bd3786\"], [0.5555555555555556, \"#d8576b\"], [0.6666666666666666, \"#ed7953\"], [0.7777777777777778, \"#fb9f3a\"], [0.8888888888888888, \"#fdca26\"], [1.0, \"#f0f921\"]], \"type\": \"contour\"}], \"contourcarpet\": [{\"colorbar\": {\"outlinewidth\": 0, \"ticks\": \"\"}, \"type\": \"contourcarpet\"}], \"heatmap\": [{\"colorbar\": {\"outlinewidth\": 0, \"ticks\": \"\"}, \"colorscale\": [[0.0, \"#0d0887\"], [0.1111111111111111, \"#46039f\"], [0.2222222222222222, \"#7201a8\"], [0.3333333333333333, \"#9c179e\"], [0.4444444444444444, \"#bd3786\"], [0.5555555555555556, \"#d8576b\"], [0.6666666666666666, \"#ed7953\"], [0.7777777777777778, \"#fb9f3a\"], [0.8888888888888888, \"#fdca26\"], [1.0, \"#f0f921\"]], \"type\": \"heatmap\"}], \"heatmapgl\": [{\"colorbar\": {\"outlinewidth\": 0, \"ticks\": \"\"}, \"colorscale\": [[0.0, \"#0d0887\"], [0.1111111111111111, \"#46039f\"], [0.2222222222222222, \"#7201a8\"], [0.3333333333333333, \"#9c179e\"], [0.4444444444444444, \"#bd3786\"], [0.5555555555555556, \"#d8576b\"], [0.6666666666666666, \"#ed7953\"], [0.7777777777777778, \"#fb9f3a\"], [0.8888888888888888, \"#fdca26\"], [1.0, \"#f0f921\"]], \"type\": \"heatmapgl\"}], \"histogram\": [{\"marker\": {\"colorbar\": {\"outlinewidth\": 0, \"ticks\": \"\"}}, \"type\": \"histogram\"}], \"histogram2d\": [{\"colorbar\": {\"outlinewidth\": 0, \"ticks\": \"\"}, \"colorscale\": [[0.0, \"#0d0887\"], [0.1111111111111111, \"#46039f\"], [0.2222222222222222, \"#7201a8\"], [0.3333333333333333, \"#9c179e\"], [0.4444444444444444, \"#bd3786\"], [0.5555555555555556, \"#d8576b\"], [0.6666666666666666, \"#ed7953\"], [0.7777777777777778, \"#fb9f3a\"], [0.8888888888888888, \"#fdca26\"], [1.0, \"#f0f921\"]], \"type\": \"histogram2d\"}], \"histogram2dcontour\": [{\"colorbar\": {\"outlinewidth\": 0, \"ticks\": \"\"}, \"colorscale\": [[0.0, \"#0d0887\"], [0.1111111111111111, \"#46039f\"], [0.2222222222222222, \"#7201a8\"], [0.3333333333333333, \"#9c179e\"], [0.4444444444444444, \"#bd3786\"], [0.5555555555555556, \"#d8576b\"], [0.6666666666666666, \"#ed7953\"], [0.7777777777777778, \"#fb9f3a\"], [0.8888888888888888, \"#fdca26\"], [1.0, \"#f0f921\"]], \"type\": \"histogram2dcontour\"}], \"mesh3d\": [{\"colorbar\": {\"outlinewidth\": 0, \"ticks\": \"\"}, \"type\": \"mesh3d\"}], \"parcoords\": [{\"line\": {\"colorbar\": {\"outlinewidth\": 0, \"ticks\": \"\"}}, \"type\": \"parcoords\"}], \"pie\": [{\"automargin\": true, \"type\": \"pie\"}], \"scatter\": [{\"marker\": {\"colorbar\": {\"outlinewidth\": 0, \"ticks\": \"\"}}, \"type\": \"scatter\"}], \"scatter3d\": [{\"line\": {\"colorbar\": {\"outlinewidth\": 0, \"ticks\": \"\"}}, \"marker\": {\"colorbar\": {\"outlinewidth\": 0, \"ticks\": \"\"}}, \"type\": \"scatter3d\"}], \"scattercarpet\": [{\"marker\": {\"colorbar\": {\"outlinewidth\": 0, \"ticks\": \"\"}}, \"type\": \"scattercarpet\"}], \"scattergeo\": [{\"marker\": {\"colorbar\": {\"outlinewidth\": 0, \"ticks\": \"\"}}, \"type\": \"scattergeo\"}], \"scattergl\": [{\"marker\": {\"colorbar\": {\"outlinewidth\": 0, \"ticks\": \"\"}}, \"type\": \"scattergl\"}], \"scattermapbox\": [{\"marker\": {\"colorbar\": {\"outlinewidth\": 0, \"ticks\": \"\"}}, \"type\": \"scattermapbox\"}], \"scatterpolar\": [{\"marker\": {\"colorbar\": {\"outlinewidth\": 0, \"ticks\": \"\"}}, \"type\": \"scatterpolar\"}], \"scatterpolargl\": [{\"marker\": {\"colorbar\": {\"outlinewidth\": 0, \"ticks\": \"\"}}, \"type\": \"scatterpolargl\"}], \"scatterternary\": [{\"marker\": {\"colorbar\": {\"outlinewidth\": 0, \"ticks\": \"\"}}, \"type\": \"scatterternary\"}], \"surface\": [{\"colorbar\": {\"outlinewidth\": 0, \"ticks\": \"\"}, \"colorscale\": [[0.0, \"#0d0887\"], [0.1111111111111111, \"#46039f\"], [0.2222222222222222, \"#7201a8\"], [0.3333333333333333, \"#9c179e\"], [0.4444444444444444, \"#bd3786\"], [0.5555555555555556, \"#d8576b\"], [0.6666666666666666, \"#ed7953\"], [0.7777777777777778, \"#fb9f3a\"], [0.8888888888888888, \"#fdca26\"], [1.0, \"#f0f921\"]], \"type\": \"surface\"}], \"table\": [{\"cells\": {\"fill\": {\"color\": \"#EBF0F8\"}, \"line\": {\"color\": \"white\"}}, \"header\": {\"fill\": {\"color\": \"#C8D4E3\"}, \"line\": {\"color\": \"white\"}}, \"type\": \"table\"}]}, \"layout\": {\"annotationdefaults\": {\"arrowcolor\": \"#2a3f5f\", \"arrowhead\": 0, \"arrowwidth\": 1}, \"coloraxis\": {\"colorbar\": {\"outlinewidth\": 0, \"ticks\": \"\"}}, \"colorscale\": {\"diverging\": [[0, \"#8e0152\"], [0.1, \"#c51b7d\"], [0.2, \"#de77ae\"], [0.3, \"#f1b6da\"], [0.4, \"#fde0ef\"], [0.5, \"#f7f7f7\"], [0.6, \"#e6f5d0\"], [0.7, \"#b8e186\"], [0.8, \"#7fbc41\"], [0.9, \"#4d9221\"], [1, \"#276419\"]], \"sequential\": [[0.0, \"#0d0887\"], [0.1111111111111111, \"#46039f\"], [0.2222222222222222, \"#7201a8\"], [0.3333333333333333, \"#9c179e\"], [0.4444444444444444, \"#bd3786\"], [0.5555555555555556, \"#d8576b\"], [0.6666666666666666, \"#ed7953\"], [0.7777777777777778, \"#fb9f3a\"], [0.8888888888888888, \"#fdca26\"], [1.0, \"#f0f921\"]], \"sequentialminus\": [[0.0, \"#0d0887\"], [0.1111111111111111, \"#46039f\"], [0.2222222222222222, \"#7201a8\"], [0.3333333333333333, \"#9c179e\"], [0.4444444444444444, \"#bd3786\"], [0.5555555555555556, \"#d8576b\"], [0.6666666666666666, \"#ed7953\"], [0.7777777777777778, \"#fb9f3a\"], [0.8888888888888888, \"#fdca26\"], [1.0, \"#f0f921\"]]}, \"colorway\": [\"#636efa\", \"#EF553B\", \"#00cc96\", \"#ab63fa\", \"#FFA15A\", \"#19d3f3\", \"#FF6692\", \"#B6E880\", \"#FF97FF\", \"#FECB52\"], \"font\": {\"color\": \"#2a3f5f\"}, \"geo\": {\"bgcolor\": \"white\", \"lakecolor\": \"white\", \"landcolor\": \"#E5ECF6\", \"showlakes\": true, \"showland\": true, \"subunitcolor\": \"white\"}, \"hoverlabel\": {\"align\": \"left\"}, \"hovermode\": \"closest\", \"mapbox\": {\"style\": \"light\"}, \"paper_bgcolor\": \"white\", \"plot_bgcolor\": \"#E5ECF6\", \"polar\": {\"angularaxis\": {\"gridcolor\": \"white\", \"linecolor\": \"white\", \"ticks\": \"\"}, \"bgcolor\": \"#E5ECF6\", \"radialaxis\": {\"gridcolor\": \"white\", \"linecolor\": \"white\", \"ticks\": \"\"}}, \"scene\": {\"xaxis\": {\"backgroundcolor\": \"#E5ECF6\", \"gridcolor\": \"white\", \"gridwidth\": 2, \"linecolor\": \"white\", \"showbackground\": true, \"ticks\": \"\", \"zerolinecolor\": \"white\"}, \"yaxis\": {\"backgroundcolor\": \"#E5ECF6\", \"gridcolor\": \"white\", \"gridwidth\": 2, \"linecolor\": \"white\", \"showbackground\": true, \"ticks\": \"\", \"zerolinecolor\": \"white\"}, \"zaxis\": {\"backgroundcolor\": \"#E5ECF6\", \"gridcolor\": \"white\", \"gridwidth\": 2, \"linecolor\": \"white\", \"showbackground\": true, \"ticks\": \"\", \"zerolinecolor\": \"white\"}}, \"shapedefaults\": {\"line\": {\"color\": \"#2a3f5f\"}}, \"ternary\": {\"aaxis\": {\"gridcolor\": \"white\", \"linecolor\": \"white\", \"ticks\": \"\"}, \"baxis\": {\"gridcolor\": \"white\", \"linecolor\": \"white\", \"ticks\": \"\"}, \"bgcolor\": \"#E5ECF6\", \"caxis\": {\"gridcolor\": \"white\", \"linecolor\": \"white\", \"ticks\": \"\"}}, \"title\": {\"x\": 0.05}, \"xaxis\": {\"automargin\": true, \"gridcolor\": \"white\", \"linecolor\": \"white\", \"ticks\": \"\", \"title\": {\"standoff\": 15}, \"zerolinecolor\": \"white\", \"zerolinewidth\": 2}, \"yaxis\": {\"automargin\": true, \"gridcolor\": \"white\", \"linecolor\": \"white\", \"ticks\": \"\", \"title\": {\"standoff\": 15}, \"zerolinecolor\": \"white\", \"zerolinewidth\": 2}}}},\n",
       "                        {\"responsive\": true}\n",
       "                    ).then(function(){\n",
       "                            \n",
       "var gd = document.getElementById('4456ec4c-e5df-4ce8-8832-7c0dbf5cd58f');\n",
       "var x = new MutationObserver(function (mutations, observer) {{\n",
       "        var display = window.getComputedStyle(gd).display;\n",
       "        if (!display || display === 'none') {{\n",
       "            console.log([gd, 'removed!']);\n",
       "            Plotly.purge(gd);\n",
       "            observer.disconnect();\n",
       "        }}\n",
       "}});\n",
       "\n",
       "// Listen for the removal of the full notebook cells\n",
       "var notebookContainer = gd.closest('#notebook-container');\n",
       "if (notebookContainer) {{\n",
       "    x.observe(notebookContainer, {childList: true});\n",
       "}}\n",
       "\n",
       "// Listen for the clearing of the current output cell\n",
       "var outputEl = gd.closest('.output');\n",
       "if (outputEl) {{\n",
       "    x.observe(outputEl, {childList: true});\n",
       "}}\n",
       "\n",
       "                        })\n",
       "                };\n",
       "                });\n",
       "            </script>\n",
       "        </div>"
      ]
     },
     "metadata": {},
     "output_type": "display_data"
    }
   ],
   "source": [
    "!pip install plotly\n",
    "from plotly.offline import init_notebook_mode, plot, iplot\n",
    "import plotly.graph_objs as go\n",
    "hist_decades = histogram_decades(our_data)\n",
    "\n",
    "\n",
    "init_notebook_mode(connected=True)\n",
    "iplot([{'type':'bar','x' : ['1950s','1960s','1970s','1980s','1990s','2000s','2010s'],'y': list(hist_decades.values())}])\n"
   ]
  },
  {
   "cell_type": "markdown",
   "metadata": {},
   "source": [
    "* Histogram by genre - Returns a histogram with each genre pointing to the number of albums that are categorized as being in that genre."
   ]
  },
  {
   "cell_type": "code",
   "execution_count": 21,
   "metadata": {},
   "outputs": [],
   "source": [
    "def histogram_genres(our_data):\n",
    "    genre_list = []\n",
    "    for album in our_data:\n",
    "        genre_list.extend(genre.strip() for genre in album['genre'].split(','))\n",
    "    genre_dict = {}\n",
    "    for genre in genre_list:\n",
    "        if genre in genre_dict:\n",
    "            genre_dict[genre] += 1\n",
    "        else:\n",
    "            genre_dict[genre] = 1\n",
    "    return genre_dict"
   ]
  },
  {
   "cell_type": "code",
   "execution_count": 22,
   "metadata": {},
   "outputs": [
    {
     "name": "stdout",
     "output_type": "stream",
     "text": [
      "{'Rock': 339, 'Pop': 51, 'Funk / Soul': 76, 'Blues': 33, 'Jazz': 18, 'Folk': 32, 'World': 32, '& Country': 32, 'Classical': 1, 'Stage & Screen': 8, 'Reggae': 12, 'Hip Hop': 37, 'Electronic': 42, 'Latin': 5}\n"
     ]
    }
   ],
   "source": [
    "genre_hist = histogram_genres(our_data)\n",
    "print(genre_hist)"
   ]
  },
  {
   "cell_type": "code",
   "execution_count": 23,
   "metadata": {
    "scrolled": true
   },
   "outputs": [
    {
     "data": {
      "application/vnd.plotly.v1+json": {
       "config": {
        "linkText": "Export to plot.ly",
        "plotlyServerURL": "https://plot.ly",
        "showLink": false
       },
       "data": [
        {
         "name": "Number of albums by genre",
         "type": "bar",
         "x": [
          "Rock",
          "Pop",
          "Funk / Soul",
          "Blues",
          "Jazz",
          "Folk",
          "World",
          "& Country",
          "Classical",
          "Stage & Screen",
          "Reggae",
          "Hip Hop",
          "Electronic",
          "Latin"
         ],
         "y": [
          339,
          51,
          76,
          33,
          18,
          32,
          32,
          32,
          1,
          8,
          12,
          37,
          42,
          5
         ]
        }
       ],
       "layout": {
        "template": {
         "data": {
          "bar": [
           {
            "error_x": {
             "color": "#2a3f5f"
            },
            "error_y": {
             "color": "#2a3f5f"
            },
            "marker": {
             "line": {
              "color": "#E5ECF6",
              "width": 0.5
             }
            },
            "type": "bar"
           }
          ],
          "barpolar": [
           {
            "marker": {
             "line": {
              "color": "#E5ECF6",
              "width": 0.5
             }
            },
            "type": "barpolar"
           }
          ],
          "carpet": [
           {
            "aaxis": {
             "endlinecolor": "#2a3f5f",
             "gridcolor": "white",
             "linecolor": "white",
             "minorgridcolor": "white",
             "startlinecolor": "#2a3f5f"
            },
            "baxis": {
             "endlinecolor": "#2a3f5f",
             "gridcolor": "white",
             "linecolor": "white",
             "minorgridcolor": "white",
             "startlinecolor": "#2a3f5f"
            },
            "type": "carpet"
           }
          ],
          "choropleth": [
           {
            "colorbar": {
             "outlinewidth": 0,
             "ticks": ""
            },
            "type": "choropleth"
           }
          ],
          "contour": [
           {
            "colorbar": {
             "outlinewidth": 0,
             "ticks": ""
            },
            "colorscale": [
             [
              0,
              "#0d0887"
             ],
             [
              0.1111111111111111,
              "#46039f"
             ],
             [
              0.2222222222222222,
              "#7201a8"
             ],
             [
              0.3333333333333333,
              "#9c179e"
             ],
             [
              0.4444444444444444,
              "#bd3786"
             ],
             [
              0.5555555555555556,
              "#d8576b"
             ],
             [
              0.6666666666666666,
              "#ed7953"
             ],
             [
              0.7777777777777778,
              "#fb9f3a"
             ],
             [
              0.8888888888888888,
              "#fdca26"
             ],
             [
              1,
              "#f0f921"
             ]
            ],
            "type": "contour"
           }
          ],
          "contourcarpet": [
           {
            "colorbar": {
             "outlinewidth": 0,
             "ticks": ""
            },
            "type": "contourcarpet"
           }
          ],
          "heatmap": [
           {
            "colorbar": {
             "outlinewidth": 0,
             "ticks": ""
            },
            "colorscale": [
             [
              0,
              "#0d0887"
             ],
             [
              0.1111111111111111,
              "#46039f"
             ],
             [
              0.2222222222222222,
              "#7201a8"
             ],
             [
              0.3333333333333333,
              "#9c179e"
             ],
             [
              0.4444444444444444,
              "#bd3786"
             ],
             [
              0.5555555555555556,
              "#d8576b"
             ],
             [
              0.6666666666666666,
              "#ed7953"
             ],
             [
              0.7777777777777778,
              "#fb9f3a"
             ],
             [
              0.8888888888888888,
              "#fdca26"
             ],
             [
              1,
              "#f0f921"
             ]
            ],
            "type": "heatmap"
           }
          ],
          "heatmapgl": [
           {
            "colorbar": {
             "outlinewidth": 0,
             "ticks": ""
            },
            "colorscale": [
             [
              0,
              "#0d0887"
             ],
             [
              0.1111111111111111,
              "#46039f"
             ],
             [
              0.2222222222222222,
              "#7201a8"
             ],
             [
              0.3333333333333333,
              "#9c179e"
             ],
             [
              0.4444444444444444,
              "#bd3786"
             ],
             [
              0.5555555555555556,
              "#d8576b"
             ],
             [
              0.6666666666666666,
              "#ed7953"
             ],
             [
              0.7777777777777778,
              "#fb9f3a"
             ],
             [
              0.8888888888888888,
              "#fdca26"
             ],
             [
              1,
              "#f0f921"
             ]
            ],
            "type": "heatmapgl"
           }
          ],
          "histogram": [
           {
            "marker": {
             "colorbar": {
              "outlinewidth": 0,
              "ticks": ""
             }
            },
            "type": "histogram"
           }
          ],
          "histogram2d": [
           {
            "colorbar": {
             "outlinewidth": 0,
             "ticks": ""
            },
            "colorscale": [
             [
              0,
              "#0d0887"
             ],
             [
              0.1111111111111111,
              "#46039f"
             ],
             [
              0.2222222222222222,
              "#7201a8"
             ],
             [
              0.3333333333333333,
              "#9c179e"
             ],
             [
              0.4444444444444444,
              "#bd3786"
             ],
             [
              0.5555555555555556,
              "#d8576b"
             ],
             [
              0.6666666666666666,
              "#ed7953"
             ],
             [
              0.7777777777777778,
              "#fb9f3a"
             ],
             [
              0.8888888888888888,
              "#fdca26"
             ],
             [
              1,
              "#f0f921"
             ]
            ],
            "type": "histogram2d"
           }
          ],
          "histogram2dcontour": [
           {
            "colorbar": {
             "outlinewidth": 0,
             "ticks": ""
            },
            "colorscale": [
             [
              0,
              "#0d0887"
             ],
             [
              0.1111111111111111,
              "#46039f"
             ],
             [
              0.2222222222222222,
              "#7201a8"
             ],
             [
              0.3333333333333333,
              "#9c179e"
             ],
             [
              0.4444444444444444,
              "#bd3786"
             ],
             [
              0.5555555555555556,
              "#d8576b"
             ],
             [
              0.6666666666666666,
              "#ed7953"
             ],
             [
              0.7777777777777778,
              "#fb9f3a"
             ],
             [
              0.8888888888888888,
              "#fdca26"
             ],
             [
              1,
              "#f0f921"
             ]
            ],
            "type": "histogram2dcontour"
           }
          ],
          "mesh3d": [
           {
            "colorbar": {
             "outlinewidth": 0,
             "ticks": ""
            },
            "type": "mesh3d"
           }
          ],
          "parcoords": [
           {
            "line": {
             "colorbar": {
              "outlinewidth": 0,
              "ticks": ""
             }
            },
            "type": "parcoords"
           }
          ],
          "pie": [
           {
            "automargin": true,
            "type": "pie"
           }
          ],
          "scatter": [
           {
            "marker": {
             "colorbar": {
              "outlinewidth": 0,
              "ticks": ""
             }
            },
            "type": "scatter"
           }
          ],
          "scatter3d": [
           {
            "line": {
             "colorbar": {
              "outlinewidth": 0,
              "ticks": ""
             }
            },
            "marker": {
             "colorbar": {
              "outlinewidth": 0,
              "ticks": ""
             }
            },
            "type": "scatter3d"
           }
          ],
          "scattercarpet": [
           {
            "marker": {
             "colorbar": {
              "outlinewidth": 0,
              "ticks": ""
             }
            },
            "type": "scattercarpet"
           }
          ],
          "scattergeo": [
           {
            "marker": {
             "colorbar": {
              "outlinewidth": 0,
              "ticks": ""
             }
            },
            "type": "scattergeo"
           }
          ],
          "scattergl": [
           {
            "marker": {
             "colorbar": {
              "outlinewidth": 0,
              "ticks": ""
             }
            },
            "type": "scattergl"
           }
          ],
          "scattermapbox": [
           {
            "marker": {
             "colorbar": {
              "outlinewidth": 0,
              "ticks": ""
             }
            },
            "type": "scattermapbox"
           }
          ],
          "scatterpolar": [
           {
            "marker": {
             "colorbar": {
              "outlinewidth": 0,
              "ticks": ""
             }
            },
            "type": "scatterpolar"
           }
          ],
          "scatterpolargl": [
           {
            "marker": {
             "colorbar": {
              "outlinewidth": 0,
              "ticks": ""
             }
            },
            "type": "scatterpolargl"
           }
          ],
          "scatterternary": [
           {
            "marker": {
             "colorbar": {
              "outlinewidth": 0,
              "ticks": ""
             }
            },
            "type": "scatterternary"
           }
          ],
          "surface": [
           {
            "colorbar": {
             "outlinewidth": 0,
             "ticks": ""
            },
            "colorscale": [
             [
              0,
              "#0d0887"
             ],
             [
              0.1111111111111111,
              "#46039f"
             ],
             [
              0.2222222222222222,
              "#7201a8"
             ],
             [
              0.3333333333333333,
              "#9c179e"
             ],
             [
              0.4444444444444444,
              "#bd3786"
             ],
             [
              0.5555555555555556,
              "#d8576b"
             ],
             [
              0.6666666666666666,
              "#ed7953"
             ],
             [
              0.7777777777777778,
              "#fb9f3a"
             ],
             [
              0.8888888888888888,
              "#fdca26"
             ],
             [
              1,
              "#f0f921"
             ]
            ],
            "type": "surface"
           }
          ],
          "table": [
           {
            "cells": {
             "fill": {
              "color": "#EBF0F8"
             },
             "line": {
              "color": "white"
             }
            },
            "header": {
             "fill": {
              "color": "#C8D4E3"
             },
             "line": {
              "color": "white"
             }
            },
            "type": "table"
           }
          ]
         },
         "layout": {
          "annotationdefaults": {
           "arrowcolor": "#2a3f5f",
           "arrowhead": 0,
           "arrowwidth": 1
          },
          "coloraxis": {
           "colorbar": {
            "outlinewidth": 0,
            "ticks": ""
           }
          },
          "colorscale": {
           "diverging": [
            [
             0,
             "#8e0152"
            ],
            [
             0.1,
             "#c51b7d"
            ],
            [
             0.2,
             "#de77ae"
            ],
            [
             0.3,
             "#f1b6da"
            ],
            [
             0.4,
             "#fde0ef"
            ],
            [
             0.5,
             "#f7f7f7"
            ],
            [
             0.6,
             "#e6f5d0"
            ],
            [
             0.7,
             "#b8e186"
            ],
            [
             0.8,
             "#7fbc41"
            ],
            [
             0.9,
             "#4d9221"
            ],
            [
             1,
             "#276419"
            ]
           ],
           "sequential": [
            [
             0,
             "#0d0887"
            ],
            [
             0.1111111111111111,
             "#46039f"
            ],
            [
             0.2222222222222222,
             "#7201a8"
            ],
            [
             0.3333333333333333,
             "#9c179e"
            ],
            [
             0.4444444444444444,
             "#bd3786"
            ],
            [
             0.5555555555555556,
             "#d8576b"
            ],
            [
             0.6666666666666666,
             "#ed7953"
            ],
            [
             0.7777777777777778,
             "#fb9f3a"
            ],
            [
             0.8888888888888888,
             "#fdca26"
            ],
            [
             1,
             "#f0f921"
            ]
           ],
           "sequentialminus": [
            [
             0,
             "#0d0887"
            ],
            [
             0.1111111111111111,
             "#46039f"
            ],
            [
             0.2222222222222222,
             "#7201a8"
            ],
            [
             0.3333333333333333,
             "#9c179e"
            ],
            [
             0.4444444444444444,
             "#bd3786"
            ],
            [
             0.5555555555555556,
             "#d8576b"
            ],
            [
             0.6666666666666666,
             "#ed7953"
            ],
            [
             0.7777777777777778,
             "#fb9f3a"
            ],
            [
             0.8888888888888888,
             "#fdca26"
            ],
            [
             1,
             "#f0f921"
            ]
           ]
          },
          "colorway": [
           "#636efa",
           "#EF553B",
           "#00cc96",
           "#ab63fa",
           "#FFA15A",
           "#19d3f3",
           "#FF6692",
           "#B6E880",
           "#FF97FF",
           "#FECB52"
          ],
          "font": {
           "color": "#2a3f5f"
          },
          "geo": {
           "bgcolor": "white",
           "lakecolor": "white",
           "landcolor": "#E5ECF6",
           "showlakes": true,
           "showland": true,
           "subunitcolor": "white"
          },
          "hoverlabel": {
           "align": "left"
          },
          "hovermode": "closest",
          "mapbox": {
           "style": "light"
          },
          "paper_bgcolor": "white",
          "plot_bgcolor": "#E5ECF6",
          "polar": {
           "angularaxis": {
            "gridcolor": "white",
            "linecolor": "white",
            "ticks": ""
           },
           "bgcolor": "#E5ECF6",
           "radialaxis": {
            "gridcolor": "white",
            "linecolor": "white",
            "ticks": ""
           }
          },
          "scene": {
           "xaxis": {
            "backgroundcolor": "#E5ECF6",
            "gridcolor": "white",
            "gridwidth": 2,
            "linecolor": "white",
            "showbackground": true,
            "ticks": "",
            "zerolinecolor": "white"
           },
           "yaxis": {
            "backgroundcolor": "#E5ECF6",
            "gridcolor": "white",
            "gridwidth": 2,
            "linecolor": "white",
            "showbackground": true,
            "ticks": "",
            "zerolinecolor": "white"
           },
           "zaxis": {
            "backgroundcolor": "#E5ECF6",
            "gridcolor": "white",
            "gridwidth": 2,
            "linecolor": "white",
            "showbackground": true,
            "ticks": "",
            "zerolinecolor": "white"
           }
          },
          "shapedefaults": {
           "line": {
            "color": "#2a3f5f"
           }
          },
          "ternary": {
           "aaxis": {
            "gridcolor": "white",
            "linecolor": "white",
            "ticks": ""
           },
           "baxis": {
            "gridcolor": "white",
            "linecolor": "white",
            "ticks": ""
           },
           "bgcolor": "#E5ECF6",
           "caxis": {
            "gridcolor": "white",
            "linecolor": "white",
            "ticks": ""
           }
          },
          "title": {
           "x": 0.05
          },
          "xaxis": {
           "automargin": true,
           "gridcolor": "white",
           "linecolor": "white",
           "ticks": "",
           "title": {
            "standoff": 15
           },
           "zerolinecolor": "white",
           "zerolinewidth": 2
          },
          "yaxis": {
           "automargin": true,
           "gridcolor": "white",
           "linecolor": "white",
           "ticks": "",
           "title": {
            "standoff": 15
           },
           "zerolinecolor": "white",
           "zerolinewidth": 2
          }
         }
        }
       }
      },
      "text/html": [
       "<div>\n",
       "        \n",
       "        \n",
       "            <div id=\"8fb47577-922d-422f-adcd-da22fe2d5b43\" class=\"plotly-graph-div\" style=\"height:525px; width:100%;\"></div>\n",
       "            <script type=\"text/javascript\">\n",
       "                require([\"plotly\"], function(Plotly) {\n",
       "                    window.PLOTLYENV=window.PLOTLYENV || {};\n",
       "                    \n",
       "                if (document.getElementById(\"8fb47577-922d-422f-adcd-da22fe2d5b43\")) {\n",
       "                    Plotly.newPlot(\n",
       "                        '8fb47577-922d-422f-adcd-da22fe2d5b43',\n",
       "                        [{\"name\": \"Number of albums by genre\", \"type\": \"bar\", \"x\": [\"Rock\", \"Pop\", \"Funk / Soul\", \"Blues\", \"Jazz\", \"Folk\", \"World\", \"& Country\", \"Classical\", \"Stage & Screen\", \"Reggae\", \"Hip Hop\", \"Electronic\", \"Latin\"], \"y\": [339, 51, 76, 33, 18, 32, 32, 32, 1, 8, 12, 37, 42, 5]}],\n",
       "                        {\"template\": {\"data\": {\"bar\": [{\"error_x\": {\"color\": \"#2a3f5f\"}, \"error_y\": {\"color\": \"#2a3f5f\"}, \"marker\": {\"line\": {\"color\": \"#E5ECF6\", \"width\": 0.5}}, \"type\": \"bar\"}], \"barpolar\": [{\"marker\": {\"line\": {\"color\": \"#E5ECF6\", \"width\": 0.5}}, \"type\": \"barpolar\"}], \"carpet\": [{\"aaxis\": {\"endlinecolor\": \"#2a3f5f\", \"gridcolor\": \"white\", \"linecolor\": \"white\", \"minorgridcolor\": \"white\", \"startlinecolor\": \"#2a3f5f\"}, \"baxis\": {\"endlinecolor\": \"#2a3f5f\", \"gridcolor\": \"white\", \"linecolor\": \"white\", \"minorgridcolor\": \"white\", \"startlinecolor\": \"#2a3f5f\"}, \"type\": \"carpet\"}], \"choropleth\": [{\"colorbar\": {\"outlinewidth\": 0, \"ticks\": \"\"}, \"type\": \"choropleth\"}], \"contour\": [{\"colorbar\": {\"outlinewidth\": 0, \"ticks\": \"\"}, \"colorscale\": [[0.0, \"#0d0887\"], [0.1111111111111111, \"#46039f\"], [0.2222222222222222, \"#7201a8\"], [0.3333333333333333, \"#9c179e\"], [0.4444444444444444, \"#bd3786\"], [0.5555555555555556, \"#d8576b\"], [0.6666666666666666, \"#ed7953\"], [0.7777777777777778, \"#fb9f3a\"], [0.8888888888888888, \"#fdca26\"], [1.0, \"#f0f921\"]], \"type\": \"contour\"}], \"contourcarpet\": [{\"colorbar\": {\"outlinewidth\": 0, \"ticks\": \"\"}, \"type\": \"contourcarpet\"}], \"heatmap\": [{\"colorbar\": {\"outlinewidth\": 0, \"ticks\": \"\"}, \"colorscale\": [[0.0, \"#0d0887\"], [0.1111111111111111, \"#46039f\"], [0.2222222222222222, \"#7201a8\"], [0.3333333333333333, \"#9c179e\"], [0.4444444444444444, \"#bd3786\"], [0.5555555555555556, \"#d8576b\"], [0.6666666666666666, \"#ed7953\"], [0.7777777777777778, \"#fb9f3a\"], [0.8888888888888888, \"#fdca26\"], [1.0, \"#f0f921\"]], \"type\": \"heatmap\"}], \"heatmapgl\": [{\"colorbar\": {\"outlinewidth\": 0, \"ticks\": \"\"}, \"colorscale\": [[0.0, \"#0d0887\"], [0.1111111111111111, \"#46039f\"], [0.2222222222222222, \"#7201a8\"], [0.3333333333333333, \"#9c179e\"], [0.4444444444444444, \"#bd3786\"], [0.5555555555555556, \"#d8576b\"], [0.6666666666666666, \"#ed7953\"], [0.7777777777777778, \"#fb9f3a\"], [0.8888888888888888, \"#fdca26\"], [1.0, \"#f0f921\"]], \"type\": \"heatmapgl\"}], \"histogram\": [{\"marker\": {\"colorbar\": {\"outlinewidth\": 0, \"ticks\": \"\"}}, \"type\": \"histogram\"}], \"histogram2d\": [{\"colorbar\": {\"outlinewidth\": 0, \"ticks\": \"\"}, \"colorscale\": [[0.0, \"#0d0887\"], [0.1111111111111111, \"#46039f\"], [0.2222222222222222, \"#7201a8\"], [0.3333333333333333, \"#9c179e\"], [0.4444444444444444, \"#bd3786\"], [0.5555555555555556, \"#d8576b\"], [0.6666666666666666, \"#ed7953\"], [0.7777777777777778, \"#fb9f3a\"], [0.8888888888888888, \"#fdca26\"], [1.0, \"#f0f921\"]], \"type\": \"histogram2d\"}], \"histogram2dcontour\": [{\"colorbar\": {\"outlinewidth\": 0, \"ticks\": \"\"}, \"colorscale\": [[0.0, \"#0d0887\"], [0.1111111111111111, \"#46039f\"], [0.2222222222222222, \"#7201a8\"], [0.3333333333333333, \"#9c179e\"], [0.4444444444444444, \"#bd3786\"], [0.5555555555555556, \"#d8576b\"], [0.6666666666666666, \"#ed7953\"], [0.7777777777777778, \"#fb9f3a\"], [0.8888888888888888, \"#fdca26\"], [1.0, \"#f0f921\"]], \"type\": \"histogram2dcontour\"}], \"mesh3d\": [{\"colorbar\": {\"outlinewidth\": 0, \"ticks\": \"\"}, \"type\": \"mesh3d\"}], \"parcoords\": [{\"line\": {\"colorbar\": {\"outlinewidth\": 0, \"ticks\": \"\"}}, \"type\": \"parcoords\"}], \"pie\": [{\"automargin\": true, \"type\": \"pie\"}], \"scatter\": [{\"marker\": {\"colorbar\": {\"outlinewidth\": 0, \"ticks\": \"\"}}, \"type\": \"scatter\"}], \"scatter3d\": [{\"line\": {\"colorbar\": {\"outlinewidth\": 0, \"ticks\": \"\"}}, \"marker\": {\"colorbar\": {\"outlinewidth\": 0, \"ticks\": \"\"}}, \"type\": \"scatter3d\"}], \"scattercarpet\": [{\"marker\": {\"colorbar\": {\"outlinewidth\": 0, \"ticks\": \"\"}}, \"type\": \"scattercarpet\"}], \"scattergeo\": [{\"marker\": {\"colorbar\": {\"outlinewidth\": 0, \"ticks\": \"\"}}, \"type\": \"scattergeo\"}], \"scattergl\": [{\"marker\": {\"colorbar\": {\"outlinewidth\": 0, \"ticks\": \"\"}}, \"type\": \"scattergl\"}], \"scattermapbox\": [{\"marker\": {\"colorbar\": {\"outlinewidth\": 0, \"ticks\": \"\"}}, \"type\": \"scattermapbox\"}], \"scatterpolar\": [{\"marker\": {\"colorbar\": {\"outlinewidth\": 0, \"ticks\": \"\"}}, \"type\": \"scatterpolar\"}], \"scatterpolargl\": [{\"marker\": {\"colorbar\": {\"outlinewidth\": 0, \"ticks\": \"\"}}, \"type\": \"scatterpolargl\"}], \"scatterternary\": [{\"marker\": {\"colorbar\": {\"outlinewidth\": 0, \"ticks\": \"\"}}, \"type\": \"scatterternary\"}], \"surface\": [{\"colorbar\": {\"outlinewidth\": 0, \"ticks\": \"\"}, \"colorscale\": [[0.0, \"#0d0887\"], [0.1111111111111111, \"#46039f\"], [0.2222222222222222, \"#7201a8\"], [0.3333333333333333, \"#9c179e\"], [0.4444444444444444, \"#bd3786\"], [0.5555555555555556, \"#d8576b\"], [0.6666666666666666, \"#ed7953\"], [0.7777777777777778, \"#fb9f3a\"], [0.8888888888888888, \"#fdca26\"], [1.0, \"#f0f921\"]], \"type\": \"surface\"}], \"table\": [{\"cells\": {\"fill\": {\"color\": \"#EBF0F8\"}, \"line\": {\"color\": \"white\"}}, \"header\": {\"fill\": {\"color\": \"#C8D4E3\"}, \"line\": {\"color\": \"white\"}}, \"type\": \"table\"}]}, \"layout\": {\"annotationdefaults\": {\"arrowcolor\": \"#2a3f5f\", \"arrowhead\": 0, \"arrowwidth\": 1}, \"coloraxis\": {\"colorbar\": {\"outlinewidth\": 0, \"ticks\": \"\"}}, \"colorscale\": {\"diverging\": [[0, \"#8e0152\"], [0.1, \"#c51b7d\"], [0.2, \"#de77ae\"], [0.3, \"#f1b6da\"], [0.4, \"#fde0ef\"], [0.5, \"#f7f7f7\"], [0.6, \"#e6f5d0\"], [0.7, \"#b8e186\"], [0.8, \"#7fbc41\"], [0.9, \"#4d9221\"], [1, \"#276419\"]], \"sequential\": [[0.0, \"#0d0887\"], [0.1111111111111111, \"#46039f\"], [0.2222222222222222, \"#7201a8\"], [0.3333333333333333, \"#9c179e\"], [0.4444444444444444, \"#bd3786\"], [0.5555555555555556, \"#d8576b\"], [0.6666666666666666, \"#ed7953\"], [0.7777777777777778, \"#fb9f3a\"], [0.8888888888888888, \"#fdca26\"], [1.0, \"#f0f921\"]], \"sequentialminus\": [[0.0, \"#0d0887\"], [0.1111111111111111, \"#46039f\"], [0.2222222222222222, \"#7201a8\"], [0.3333333333333333, \"#9c179e\"], [0.4444444444444444, \"#bd3786\"], [0.5555555555555556, \"#d8576b\"], [0.6666666666666666, \"#ed7953\"], [0.7777777777777778, \"#fb9f3a\"], [0.8888888888888888, \"#fdca26\"], [1.0, \"#f0f921\"]]}, \"colorway\": [\"#636efa\", \"#EF553B\", \"#00cc96\", \"#ab63fa\", \"#FFA15A\", \"#19d3f3\", \"#FF6692\", \"#B6E880\", \"#FF97FF\", \"#FECB52\"], \"font\": {\"color\": \"#2a3f5f\"}, \"geo\": {\"bgcolor\": \"white\", \"lakecolor\": \"white\", \"landcolor\": \"#E5ECF6\", \"showlakes\": true, \"showland\": true, \"subunitcolor\": \"white\"}, \"hoverlabel\": {\"align\": \"left\"}, \"hovermode\": \"closest\", \"mapbox\": {\"style\": \"light\"}, \"paper_bgcolor\": \"white\", \"plot_bgcolor\": \"#E5ECF6\", \"polar\": {\"angularaxis\": {\"gridcolor\": \"white\", \"linecolor\": \"white\", \"ticks\": \"\"}, \"bgcolor\": \"#E5ECF6\", \"radialaxis\": {\"gridcolor\": \"white\", \"linecolor\": \"white\", \"ticks\": \"\"}}, \"scene\": {\"xaxis\": {\"backgroundcolor\": \"#E5ECF6\", \"gridcolor\": \"white\", \"gridwidth\": 2, \"linecolor\": \"white\", \"showbackground\": true, \"ticks\": \"\", \"zerolinecolor\": \"white\"}, \"yaxis\": {\"backgroundcolor\": \"#E5ECF6\", \"gridcolor\": \"white\", \"gridwidth\": 2, \"linecolor\": \"white\", \"showbackground\": true, \"ticks\": \"\", \"zerolinecolor\": \"white\"}, \"zaxis\": {\"backgroundcolor\": \"#E5ECF6\", \"gridcolor\": \"white\", \"gridwidth\": 2, \"linecolor\": \"white\", \"showbackground\": true, \"ticks\": \"\", \"zerolinecolor\": \"white\"}}, \"shapedefaults\": {\"line\": {\"color\": \"#2a3f5f\"}}, \"ternary\": {\"aaxis\": {\"gridcolor\": \"white\", \"linecolor\": \"white\", \"ticks\": \"\"}, \"baxis\": {\"gridcolor\": \"white\", \"linecolor\": \"white\", \"ticks\": \"\"}, \"bgcolor\": \"#E5ECF6\", \"caxis\": {\"gridcolor\": \"white\", \"linecolor\": \"white\", \"ticks\": \"\"}}, \"title\": {\"x\": 0.05}, \"xaxis\": {\"automargin\": true, \"gridcolor\": \"white\", \"linecolor\": \"white\", \"ticks\": \"\", \"title\": {\"standoff\": 15}, \"zerolinecolor\": \"white\", \"zerolinewidth\": 2}, \"yaxis\": {\"automargin\": true, \"gridcolor\": \"white\", \"linecolor\": \"white\", \"ticks\": \"\", \"title\": {\"standoff\": 15}, \"zerolinecolor\": \"white\", \"zerolinewidth\": 2}}}},\n",
       "                        {\"responsive\": true}\n",
       "                    ).then(function(){\n",
       "                            \n",
       "var gd = document.getElementById('8fb47577-922d-422f-adcd-da22fe2d5b43');\n",
       "var x = new MutationObserver(function (mutations, observer) {{\n",
       "        var display = window.getComputedStyle(gd).display;\n",
       "        if (!display || display === 'none') {{\n",
       "            console.log([gd, 'removed!']);\n",
       "            Plotly.purge(gd);\n",
       "            observer.disconnect();\n",
       "        }}\n",
       "}});\n",
       "\n",
       "// Listen for the removal of the full notebook cells\n",
       "var notebookContainer = gd.closest('#notebook-container');\n",
       "if (notebookContainer) {{\n",
       "    x.observe(notebookContainer, {childList: true});\n",
       "}}\n",
       "\n",
       "// Listen for the clearing of the current output cell\n",
       "var outputEl = gd.closest('.output');\n",
       "if (outputEl) {{\n",
       "    x.observe(outputEl, {childList: true});\n",
       "}}\n",
       "\n",
       "                        })\n",
       "                };\n",
       "                });\n",
       "            </script>\n",
       "        </div>"
      ]
     },
     "metadata": {},
     "output_type": "display_data"
    }
   ],
   "source": [
    "iplot([{'type':'bar','x':list(genre_hist.keys()),'y':list(genre_hist.values()),'name':'Number of albums by genre'}])"
   ]
  },
  {
   "cell_type": "markdown",
   "metadata": {},
   "source": [
    "## Next Steps"
   ]
  },
  {
   "cell_type": "markdown",
   "metadata": {},
   "source": [
    "Now that we have our functions querying our Album data, let's compare that data with the top 500 songs. We have another file -- a text file! -- that contains the data we need for the top 500 songs. Reading a text file is pretty similar to reading a csv file, however, it tends to need a bit more massaging to get your data formatted the way you want it.\n",
    "\n",
    "```python\n",
    "    # open the text file in read\n",
    "    text_file = open('top-500-songs.txt', 'r')\n",
    "    # read each line of the text file\n",
    "    # here is where you can print out the lines to your terminal and get an idea \n",
    "    # for how you might think about re-formatting the data\n",
    "    lines = text_file.readlines()\n",
    "\n",
    "    print(lines)\n",
    "    # the output will look something like this:\n",
    "['1\\tLike a Rolling Stone\\tBob Dylan\\t1965\\n', '2\\tSatisfaction\\tThe Rolling Stones\\t1965\\n', '3\\tImagine\\tJohn Lennon\\t1971\\n', \"4\\tWhat's Going On\\tMarvin Gaye\\t1971\\n\", '5\\tRespect\\tAretha Franklin\\t1967\\n', '6\\tGood Vibrations\\tThe Beach Boys\\t1966\\n', '7\\tJohnny B. Goode\\tChuck Berry\\t1958\\n', '8\\tHey Jude\\tThe Beatles\\t1968\\n', ...]\n",
    "```\n",
    "\n",
    "It looks like `\\t` is how the text file is separating each element on a line. So, we need a function that can separate a string into a list. Then we can tell this function on what to split our string (i.e. `\\t`). From there we will have a list of lists that are formatted like the following:\n",
    "```python\n",
    "[\"RANK\", \"NAME\", \"ARTIST\", \"YEAR\"]\n",
    "```\n",
    "We need to use our knowledge of iterating to go through each of these elements and turn them into dictionaries with the keys, \"rank\", \"name\", \"artist\", \"year\", pointing to the appropriate values. So, for song number 1, we want it to look like:\n",
    "```python\n",
    "{'rank': 1, 'name': \"Like a Rolling Stone\", 'artist'\"Bob Dylan\": , 'year': 1965}\n",
    "```\n",
    "\n",
    "Once we have a list of songs that are formatted like the above, we can move on to figuring out which songs are from the top albums and which albums and artists have the most 'top songs'."
   ]
  },
  {
   "cell_type": "code",
   "execution_count": 24,
   "metadata": {},
   "outputs": [],
   "source": [
    "text_file = open('top-500-songs.txt', 'r')\n",
    "lines = text_file.readlines()\n",
    "\n",
    "def file_splitter(delimiter):\n",
    "    return [line.strip().split(delimiter) for line in lines]"
   ]
  },
  {
   "cell_type": "code",
   "execution_count": 25,
   "metadata": {},
   "outputs": [],
   "source": [
    "songs = file_splitter('\\t')"
   ]
  },
  {
   "cell_type": "code",
   "execution_count": 26,
   "metadata": {
    "scrolled": true
   },
   "outputs": [
    {
     "data": {
      "text/plain": [
       "[['1', 'Like a Rolling Stone', 'Bob Dylan', '1965'],\n",
       " ['2', 'Satisfaction', 'The Rolling Stones', '1965'],\n",
       " ['3', 'Imagine', 'John Lennon', '1971'],\n",
       " ['4', \"What's Going On\", 'Marvin Gaye', '1971'],\n",
       " ['5', 'Respect', 'Aretha Franklin', '1967'],\n",
       " ['6', 'Good Vibrations', 'The Beach Boys', '1966'],\n",
       " ['7', 'Johnny B. Goode', 'Chuck Berry', '1958'],\n",
       " ['8', 'Hey Jude', 'The Beatles', '1968'],\n",
       " ['9', 'Smells Like Teen Spirit', 'Nirvana', '1991'],\n",
       " ['10', \"What'd I Say\", 'Ray Charles', '1959']]"
      ]
     },
     "execution_count": 26,
     "metadata": {},
     "output_type": "execute_result"
    }
   ],
   "source": [
    "songs[:10]"
   ]
  },
  {
   "cell_type": "code",
   "execution_count": 27,
   "metadata": {},
   "outputs": [],
   "source": [
    "def song_dict_maker(songs):\n",
    "    output_list = []\n",
    "    for song in songs:\n",
    "        new_dict = {}\n",
    "        new_dict['rank'] = song[0]\n",
    "        new_dict['song'] = song[1]\n",
    "        new_dict['artist'] = song[2]\n",
    "        new_dict['year'] = song[3]\n",
    "        output_list.append(new_dict)\n",
    "    return output_list\n",
    "    "
   ]
  },
  {
   "cell_type": "code",
   "execution_count": 28,
   "metadata": {},
   "outputs": [],
   "source": [
    "song_dict = song_dict_maker(songs)"
   ]
  },
  {
   "cell_type": "code",
   "execution_count": 29,
   "metadata": {},
   "outputs": [
    {
     "name": "stdout",
     "output_type": "stream",
     "text": [
      "[{'artist': 'The Beatles', 'album': \"Sgt. Pepper's Lonely Hearts Club Band\", 'tracks': [\"Sgt. Pepper's Lonely Hearts Club Band - Remix\", 'With A Little Help From My Friends - Remix', 'Lucy In The Sky With Diamonds - Remix', 'Getting Better - Remix', 'Fixing A Hole - Remix', \"She's Leaving Home - Remix\", 'Being For The Benefit Of Mr. Kite! - Remix', 'Within You Without You - Remix', \"When I'm Sixty-Four - Remix\", 'Lovely Rita - Remix', 'Good Morning Good Morning - Remix', \"Sgt. Pepper's Lonely Hearts Club Band (Reprise) - Remix\", 'A Day In The Life - Remix', \"Sgt. Pepper's Lonely Hearts Club Band - Take 9 And Speech\", 'With A Little Help From My Friends - Take 1 / False Start And Take 2 / Instrumental', 'Lucy In The Sky With Diamonds - Take 1', 'Getting Better - Take 1 / Instrumental And Speech At The End', 'Fixing A Hole - Speech And Take 3', \"She's Leaving Home - Take 1 / Instrumental\", 'Being For The Benefit Of Mr. Kite! - Take 4', 'Within You Without You - Take 1 / Indian Instruments', \"When I'm Sixty-Four - Take 2\", 'Lovely Rita - Speech And Take 9', 'Good Morning Good Morning - Take 8', \"Sgt. Pepper's Lonely Hearts Club Band (Reprise) - Speech And Take 8\", 'A Day In The Life - Take 1 With Hums', 'Strawberry Fields Forever - Take 7', 'Strawberry Fields Forever - Take 26', 'Strawberry Fields Forever - Stereo Mix 2015', 'Penny Lane - Take 6 / Instrumental', 'Penny Lane - Stereo Mix 2017']}, {'artist': 'The Beach Boys', 'album': 'Pet Sounds', 'tracks': [\"Wouldn't It Be Nice - Digitally Remastered 96\", 'You Still Believe In Me - Digitally Remastered 96', \"That's Not Me - 1996 Digital Remaster\", \"Don't Talk (Put Your Head On My Shoulder) - 1996 Digital Remaster\", \"I'm Waiting For The Day - Digitally Remastered 96\", \"Let's Go Away For Awhile - Digitally Remastered 96\", 'Sloop John B - 1996 - Remaster', 'God Only Knows - 1997 - Remaster', \"I Know There's An Answer - Digitally Remastered 96\", 'Here Today - Digitally Remastered 96', \"I Just Wasn't Made For These Times - Digitally Remastered 96\", 'Pet Sounds - Digitally Remastered 96', 'Caroline, No - 1996 Digital Remaster', 'Hang On To Your Ego', \"Wouldn't It Be Nice - 2000 - Remaster\", 'You Still Believe In Me - 1996 Digital Remaster', \"That's Not Me - 1996 Digital Remaster\", \"Don't Talk (Put Your Head On My Shoulder) - 1996 Digital Remaster\", \"I'm Waiting For The Day - 1996 Digital Remaster\", \"Let's Go Away For Awhile - 1996 Digital Remaster\", 'Sloop John B - 1996 Digital Remaster', 'God Only Knows - 1996 Digital Remaster', \"I Know There's An Answer - 1996 Digital Remaster\", 'Here Today - 1996 Digital Remaster', \"I Just Wasn't Made For These Times - 1996 Digital Remaster\", 'Pet Sounds - 1996 Digital Remaster', 'Caroline, No - 1996 Digital Remaster']}, {'artist': 'The Beatles', 'album': 'Revolver', 'tracks': ['Taxman - Remastered', 'Eleanor Rigby - Remastered', \"I'm Only Sleeping - Remastered\", 'Love You To - Remastered', 'Here, There And Everywhere - Remastered', 'Yellow Submarine - Remastered', 'She Said She Said - Remastered', 'Good Day Sunshine - Remastered', 'And Your Bird Can Sing - Remastered', 'For No One - Remastered', 'Doctor Robert - Remastered', 'I Want To Tell You - Remastered', 'Got To Get You Into My Life - Remastered', 'Tomorrow Never Knows - Remastered']}, {'artist': 'Bob Dylan', 'album': 'Highway 61 Revisited', 'tracks': ['Like a Rolling Stone', 'Tombstone Blues', 'It Takes a Lot to Laugh, It Takes a Train to Cry', 'From a Buick 6', 'Ballad of a Thin Man', 'Queen Jane Approximately', 'Highway 61 Revisited', \"Just Like Tom Thumb's Blues\", 'Desolation Row']}, {'artist': 'The Beatles', 'album': 'Rubber Soul', 'tracks': ['Drive My Car - Remastered', 'Norwegian Wood (This Bird Has Flown) - Remastered', \"You Won't See Me - Remastered\", 'Nowhere Man - Remastered', 'Think For Yourself - Remastered', 'The Word - Remastered', 'Michelle - Remastered', 'What Goes On - Remastered', 'Girl - Remastered', \"I'm Looking Through You - Remastered\", 'In My Life - Remastered', 'Wait - Remastered', 'If I Needed Someone - Remastered', 'Run For Your Life - Remastered']}, {'artist': 'Marvin Gaye', 'album': \"What's Going On\", 'tracks': [\"What's Going On\", \"What's Happening Brother\", \"Flyin' High (In The Friendly Sky)\", 'Save The Children', 'God Is Love', 'Mercy Mercy Me (The Ecology)', 'Right On', 'Wholy Holy', 'Inner City Blues (Make Me Wanna Holler)', \"What's Going On - Original Single Mix\", 'Head Title aka Distant Lover - Demo Version', 'Symphony - Demo Version', 'I Love The Ground You Walk On - Instrumental', \"What's Going On - Mono Single Version\", 'God Is Love - Mono Single Version', 'Mercy Mercy Me (The Ecology) - Single Version (Mono)', 'Sad Tomorrows - Mono Single Version', 'Inner City Blues (Make Me Wanna Holler) - Mono Single Version', 'Wholy Holy - Mono Single Version', 'Checking Out (Double Clutch)', 'Chained', 'Country Stud', 'Help The People', 'Running From Love - Version 1', 'Daybreak', 'Doing My Thing', '\"T\" Stands For Time', 'Jesus Is Our Love Song', 'Funky Nation', 'Infinity', 'Mandota', \"Struttin' The Blues\", 'Running From Love - Version 2 (with strings)', \"I'm Going Home (Move)\", \"You're The Man - Pts. I & II - Original Mono Single Version\", \"You're The Man - Alternate Version 1\", \"You're The Man - Alternate Version 2\", \"What's Going On - Detroit Mix\", \"What's Happening Brother - Detroit Mix\", \"Flyin' High (In The Friendly Sky) - Detroit Mix\", 'Save The Children - Detroit Mix', 'God Is Love - Detroit Mix', 'Mercy Mercy Me (The Ecology) - Detroit Mix', 'Right On - Detroit Mix', 'Wholy Holy - Detroit Mix', 'Inner City Blues (Make Me Wanna Holler) - Detroit MIx']}, {'artist': 'The Rolling Stones', 'album': 'Exile on Main St.', 'tracks': ['Rocks Off', 'Rip This Joint', 'Shake Your Hips', 'Casino Boogie', 'Tumbling Dice', 'Sweet Virginia', 'Torn and Frayed', 'Sweet Black Angel', 'Loving Cup', 'Happy', 'Turd on the Run', 'Ventilator Blues', 'I Just Want to See His Face', 'Let It Loose', 'All Down the Line', 'Stop Breaking Down', 'Shine a Light', 'Soul Survivor']}, {'artist': 'The Clash', 'album': 'London Calling', 'tracks': ['London Calling - Remastered', 'Brand New Cadillac', 'Jimmy Jazz', 'Hateful', \"Rudie Can't Fail\", 'Spanish Bombs', 'The Right Profile', 'Lost in the Supermarket', 'Clampdown', 'The Guns of Brixton', \"Wrong 'Em Boyo\", 'Death or Glory', 'Koka Kola', 'The Card Cheat', \"Lover's Rock\", 'Four Horsemen', \"I'm Not Down\", 'Revolution Rock', 'Train in Vain - Remastered']}, {'artist': 'Bob Dylan', 'album': 'Blonde on Blonde', 'tracks': ['Rainy Day Women #12 & 35', 'Pledging My Time', 'Visions of Johanna', 'One of Us Must Know (Sooner or Later)', 'I Want You', 'Stuck Inside of Mobile with the Memphis Blues Again', 'Leopard-Skin Pill-Box Hat', 'Just Like a Woman', \"Most Likely You Go Your Way (And I'll Go Mine)\", 'Temporary Like Achilles', 'Absolutely Sweet Marie', 'Fourth Time Around', 'Obviously Five Believers', 'Sad-Eyed Lady of the Lowlands']}, {'artist': 'The Beatles', 'album': 'The Beatles (\"The White Album\")', 'tracks': ['Back In The U.S.S.R. - Remastered', 'Dear Prudence - Remastered', 'Glass Onion - Remastered', 'Ob-La-Di, Ob-La-Da - Remastered', 'Wild Honey Pie - Remastered', 'The Continuing Story Of Bungalow Bill - Remastered', 'While My Guitar Gently Weeps - Remastered', 'Happiness Is A Warm Gun - Remastered', 'Martha My Dear - Remastered', \"I'm So Tired - Remastered\", 'Blackbird - Remastered', 'Piggies - Remastered', 'Rocky Raccoon - Remastered', \"Don't Pass Me By - Remastered\", \"Why Don't We Do It In The Road? - Remastered\", 'I Will - Remastered', 'Julia - Remastered', 'Birthday - Remastered', 'Yer Blues - Remastered', \"Mother Nature's Son - Remastered\", \"Everybody's Got Something To Hide Except Me And My Monkey - Remastered\", 'Sexy Sadie - Remastered', 'Helter Skelter - Remastered', 'Long, Long, Long - Remastered', 'Revolution 1 - Remastered', 'Honey Pie - Remastered', 'Savoy Truffle - Remastered', 'Cry Baby Cry - Remastered', 'Revolution 9 - Remastered', 'Good Night - Remastered']}, {'artist': 'Elvis Presley', 'album': 'The Sun Sessions', 'tracks': ['Crazy Arms', 'End Of The Road', 'Goodnight Irene', 'Hand Me Down My Walking Cane', 'Sixty Minute Man', \"Whole Lot of Shakin' Going On\", \"It'll Be Me\", 'Lewis Boogie', \"When The Saints Go Marchin' In\", \"Drinkin' Wine Spo-Dee-O-Dee\", 'Ubangi Stomp', 'You Win Again', 'Mean Woman Blues', 'Great Balls of Fire', 'Milkshake Mademoiselle', 'Breathless', \"Good Rockin' Tonight\", 'Jailhouse Rock', 'Jambalaya (On The Bayou)', 'Big Legged Woman', 'Hello, Hello Baby', 'Fools Like Me', 'Put Me Down', 'High School Confidential', 'Wild One (Real Wild Child)', 'Breakup', \"Big Blon' Baby\", \"Lovin' Up A Storm\", 'Hillbilly Fever', \"Let's Talk About Us\", 'Old Black Joe', \"What'd I Say\", \"It Won't Happen With Me\", 'Cold Cold Heart', 'Waiting For A Train', 'One Minute Past Eternity', 'Invitation To Your Party', \"I Can't Seem To Say Goodbye\", 'Will The Circle Be Unbroken', 'Setting The Woods on Fire']}, {'artist': 'Miles Davis', 'album': 'Kind of Blue', 'tracks': ['So What', 'Freddie Freeloader', 'Blue in Green', 'All Blues', 'Flamenco Sketches', 'Flamenco Sketches - Alternate Take', 'Freddie Freeloader - Studio Sequence 1', 'Freddie Freeloader - False Start', 'Freddie Freeloader - Studio Sequence 2', 'So What - Studio Sequence 1', 'So What - Studio Sequence 2', 'Blue in Green - Studio Sequence', 'Flamenco Sketches - Studio Sequence 1', 'Flamenco Sketches - Studio Sequence 2', 'All Blues - Studio Sequence', 'On Green Dolphin Street', 'Fran-Dance', 'Stella By Starlight', 'Love For Sale', 'Fran-Dance - alternate take', 'So What - Live April 9th, 1960']}, {'artist': 'The Velvet Underground', 'album': 'The Velvet Underground & Nico', 'tracks': ['Sunday Morning', \"I'm Waiting For The Man - Album Version (Stereo)\", 'Femme Fatale', 'Venus In Furs', 'Run Run Run', \"All Tomorrow's Parties\", 'Heroin', 'There She Goes Again', \"I'll Be Your Mirror\", \"The Black Angel's Death Song\", 'European Son', \"All Tomorrow's Parties - Alternate Single Voice Version\", 'European Son - Alternate Version', 'Heroin - Alternate Version', \"All Tomorrow's Parties - Alternate Instrumental Mix\", \"I'll Be Your Mirror - Alternate Mix\", 'Sunday Morning - Album Version (Mono)', \"I'm Waiting For The Man - Album Version (Mono)\", 'Femme Fatale - Album Version (Mono)', 'Venus In Furs - Album Version (Mono)', 'Run Run Run - Album Version (Mono)', \"All Tomorrow's Parties - Album Version (Mono)\", 'Heroin - Album Version (Mono)', 'There She Goes Again - Album Version (Mono)', \"I'll Be Your Mirror - Album Version (Mono)\", \"Black Angel's Death Song - Album Version (Mono)\", 'European Son - Album Version (Mono)', \"All Tomorrow's Parties - Mono Single\", \"I'll Be Your Mirror - Mono Single - Alternate Ending\", 'Sunday Morning - Mono Single - Alternate Mix', 'Femme Fatale - Mono Single', 'The Fairest Of The Seasons', 'These Days', 'Little Sister', 'Winter Song', 'It Was A Pleasure Then', 'Chelsea Girls', \"I'll Keep It With Mine\", \"Somewhere There's A Feather\", 'Wrap Your Troubles In Dreams', 'Eulogy To Lenny Bruce', 'European Son - Scepter Studios Sessions - alternate version', \"Black Angel's Death Song - Scepter Studios Sessions - alternate mix\", \"All Tomorrow's Parties - Scepter Studios Sessions - alternate version\", \"I'll Be Your Mirror - Scepter Studios Sessions - alternate version\", 'Heroin - Scepter Studios Sessions - alternate version', 'Femme Fatale - Scepter Studios Sessions - alternate mix', 'Venus In Furs - Scepter Studios Sessions - alternate version', 'Waiting For The Man - Scepter Studios Sessions - alternate version', 'Run Run Run - Scepter Studios Sessions - alternate mix']}, {'artist': 'The Beatles', 'album': 'Abbey Road', 'tracks': ['Come Together - Remastered', 'Something - Remastered', \"Maxwell's Silver Hammer - Remastered\", 'Oh! Darling - Remastered', \"Octopus's Garden - Remastered\", \"I Want You (She's So Heavy) - Remastered\", 'Here Comes The Sun - Remastered', 'Because - Remastered', 'You Never Give Me Your Money - Remastered', 'Sun King - Remastered', 'Mean Mr Mustard - Remastered', 'Polythene Pam - Remastered', 'She Came In Through The Bathroom Window - Remastered', 'Golden Slumbers - Remastered', 'Carry That Weight - Remastered', 'The End - Remastered', 'Her Majesty - Remastered']}, {'artist': 'The Jimi Hendrix Experience', 'album': 'Are You Experienced', 'tracks': ['Purple Haze', 'Manic Depression', 'Hey Joe', 'Love Or Confusion', 'May This Be Love', \"I Don't Live Today\", 'The Wind Cries Mary', 'Fire', 'Third Stone From The Sun', 'Foxey Lady', 'Are You Experienced?', 'Stone Free', '51st Anniversary', 'Highway Chile', 'Can You See Me', 'Remember', 'Red House']}, {'artist': 'Bob Dylan', 'album': 'Blood on the Tracks', 'tracks': ['Tangled up in Blue', 'Simple Twist of Fate', \"You're a Big Girl Now\", 'Idiot Wind', \"You're Gonna Make Me Lonesome When You Go\", 'Meet Me in the Morning', 'Lily, Rosemary and the Jack of Hearts', 'If You See Her, Say Hello', 'Shelter from the Storm', 'Buckets of Rain']}, {'artist': 'Nirvana', 'album': 'Nevermind', 'tracks': ['Nevermind']}, {'artist': 'Bruce Springsteen', 'album': 'Born to Run', 'tracks': ['Thunder Road', 'Tenth Avenue Freeze-Out', 'Night', 'Backstreets', 'Born to Run', \"She's the One\", 'Meeting Across the River', 'Jungleland']}, {'artist': 'Van Morrison', 'album': 'Astral Weeks', 'tracks': ['Astral Weeks', 'Beside You', 'Sweet Thing', 'Cyprus Avenue', 'The Way Young Lovers Do', 'Madame George', 'Ballerina', 'Slim Slow Slider']}, {'artist': 'Michael Jackson', 'album': 'Thriller', 'tracks': [\"Wanna Be Startin' Somethin'\", 'Baby Be Mine', 'The Girl Is Mine', 'Thriller', 'Beat It - Single Version', 'Billie Jean', 'Human Nature', 'P.Y.T. (Pretty Young Thing)', 'The Lady in My Life', 'Vincent Price Excerpt From \"Thriller\" Voice-Over Session - Thriller 25th Anniversary Voice-Over Session', 'The Girl Is Mine 2008 with will.i.am - Thriller 25th Anniversary Remix', 'P.Y.T. (Pretty Young Thing) 2008 with will.i.am - Thriller 25th Anniversary Remix feat. willi.i.am', \"Wanna Be Startin' Somethin' 2008 with Akon - Thriller 25th Anniversary Remix\", 'Beat It 2008 - Thriller 25th Anniversary Remix feat. Fergie', 'Billie Jean 2008 Kanye West Mix - Thriller 25th Anniversary Remix', 'For All Time', 'Voice-Over Intro Quincy Jones Interview #1 / Quincy Jones Interview #1', 'Someone in the Dark', 'Voice-Over Intro Quincy Jones Interview #2/Quincy Jones Interview #2 / Voice-Over Intro Billie Jean (Demo)', 'Billie Jean (Home Demo from 1981)', 'Quincy Jones Interview #3', 'Voice-Over Intro Rod Temperton Interview #1 / Rod Temperton Interview #1', 'Quincy Jones Interview #4', 'Voice-Over Intro / Voice-Over Session from Thriller', 'Voice-Over Intro Rod Temperton Interview #2 / Rod Temperton Interview #2', 'Quincy Jones Interview #5', 'Carousel', 'Voice-Over Intro Quincy Jones Interview #6 / Quincy Jones Interview #6', 'Billie Jean - Underground Mix', 'Thriller - Instrumental']}, {'artist': 'Chuck Berry', 'album': 'The Great Twenty Eight', 'tracks': ['Maybellene - Single Version', 'Thirty Days (To Come Back Home) - Single Version', \"You Can't Catch Me - Single Version\", 'Too Much Monkey Business - Single Version', 'Brown Eyed Handsome Man - Single Version', 'Roll Over Beethoven - Single Version', 'Havana Moon - Single Version', 'School Day (Ring Ring Goes The Bell) - Single Version', 'Rock And Roll Music', 'Oh Baby Doll - 1957 Single Version', \"Reelin' And Rockin' - Single Version\", 'Sweet Little Sixteen - Original Demo', 'Johnny B. Goode - Single Version', 'Around And Around - Single Version', 'Carol - Single Version', 'Beautiful Delilah - Single Version', 'Memphis, Tennessee - Single Version', \"Sweet Little Rock 'N' Roller - Single Version\", 'Little Queenie - Single Version', 'Almost Grown - Single Version', 'Back In The U.S.A. - Single Version', 'Let It Rock - Single Version', 'Bye Bye Johnny - Single Version', \"I'm Talking About You - Single Version\", 'Come On - Single Version (Mono)', 'Nadine - Single Version', 'No Particular Place To Go - Single Version', 'I Want To Be Your Driver']}, {'artist': 'Robert Johnson', 'album': 'The Complete Recordings', 'tracks': ['Pennies From Heaven', 'Please Be Kind', '(Love Is) The Tender Trap', 'Looking At The World Through Rose Colored Glasses', 'My Kind Of Girl', 'I Only Have Eyes For You', 'Nice Work If You Can Get It', \"Learnin' The Blues\", \"I'm Gonna Sit Right Down (And Write Myself A Letter)\", \"I Won't Dance\", 'Fly Me To The Moon', 'I Wish You Love', 'I Believe In You', 'More (Theme From Mondo Cane)', \"I Can't Stop Loving You\", 'Hello, Dolly!', 'I Wanna Be Around', 'The Best Is Yet To Come', 'The Good Life', 'Wives And Lovers']}, {'artist': 'John Lennon / Plastic Ono Band', 'album': 'John Lennon/Plastic Ono Band', 'tracks': ['Happy Xmas War Is Over (Originally Performed By John Lennon and the Plastic Ono Band) [Instrumental Version]']}, {'artist': 'Stevie Wonder', 'album': 'Innervisions', 'tracks': ['Too High', 'Visions', 'Living For The City', 'Golden Lady', 'Higher Ground', 'Jesus Children Of America', 'All In Love Is Fair', \"Don't You Worry 'Bout A Thing\", \"He's Misstra Know-It-All\"]}, {'artist': 'James Brown', 'album': 'Live at the Apollo, 1962', 'tracks': ['Introduction By Fats Gonder/ Opening Fanfare - Live At The Apollo Theater/1962', \"I'll Go Crazy - Live At The Apollo Theater/1962\", 'Try Me - Live At The Apollo Theater/1962', 'Instrumental Bridge - Live At The Apollo Theater/1962', 'Think - Live At The Apollo Theater/1962', 'Instrumental Bridge - Live At The Apollo Theater/1962', \"I Don't Mind - Live At The Apollo Theater/1962\", 'Instrumental Bridge - Live At The Apollo Theater/1962', 'Lost Someone - Live At The Apollo Theater/1962', \"Medley: Please Please Please/You've Got The Power/I Found Someone - Live At The Apollo Theater/1962\", 'Night Train - Live At The Apollo Theater/1962']}, {'artist': 'Fleetwood Mac', 'album': 'Rumours', 'tracks': ['Second Hand News - 2004 Remastered Edition', 'Dreams - 2004 Remastered Edition', 'Never Going Back Again - 2004 Remastered Edition', \"Don't Stop - 2004 Remastered Edition\", 'Go Your Own Way - 2004 Remastered Edition', 'Songbird - 2004 Remastered Edition', 'The Chain - 2004 Remastered Edition', 'You Make Loving Fun - 2004 Remastered Edition', \"I Don't Want To Know - 2004 Remastered Edition\", 'Oh Daddy - 2004 Remastered Edition', 'Gold Dust Woman - 2004 Remastered Edition', 'Silver Springs - 2004 Remastered Edition', 'Intro - Live', 'Monday Morning - Live', 'Dreams - Live', \"Don't Stop - Live\", 'The Chain - Live', 'Oh Daddy - Live', 'Rhiannon - Live', 'Never Going Back Again - Live', 'Gold Dust Woman - Live', 'World Turning - Live', 'Go Your Own Way - Live', 'Songbird - Live', 'Second Hand News - Early Take', 'Dreams - Take 2', 'Never Going Back Again - Acoustic Duet', 'Go Your Own Way - Early Take', 'Songbird - Demo', 'Songbird - Instrumental , Take 10', \"I Don't Want To Know - Early Take\", 'Keep Me There - Instrumental', 'The Chain - Demo', 'Keep Me There - With Vocal', 'Gold Dust Woman - Early Take', 'Oh Daddy - Early Take', 'Silver Springs - Early Take', 'Planets Of The Universe - Demo', \"Doesn't Anything Last - Acoustic Duet\", 'Never Going Back Again - (Instrumental', 'Second Hand News (Sessions, Roughs & Outtakes) - 2004 Remastered Edition', 'Dreams (Sessions, Roughs & Outtakes) - 2004 Remastered Edition', 'Brushes (Never Going Back Again) [Sessions, Roughs & Outtakes] - 2004 Remastered Edition', \"Don't Stop (Sessions, Roughs & Outtakes) - 2004 Remastered Edition\", 'Go Your Own Way (Sessions, Roughs & Outtakes) - 2004 Remastered Edition', 'Songbird (Sessions, Roughs & Outtakes) - 2004 Remastered Edition', 'Silver Springs (Sessions, Roughs & Outtakes) - 2004 Remastered Edition', 'You Make Loving Fun (Sessions, Roughs & Outtakes) - 2004 Remastered Edition', 'Gold Dust Woman #1 (Sessions, Roughs & Outtakes) - 2004 Remastered Edition', 'Oh Daddy (Sessions, Roughs & Outtakes) - 2004 Remastered Edition']}, {'artist': 'U2', 'album': 'The Joshua Tree', 'tracks': ['Where The Streets Have No Name', \"I Still Haven't Found What I'm Looking For\", 'With Or Without You', 'Bullet The Blue Sky', 'Running To Stand Still', 'Red Hill Mining Town', \"In God's Country\", 'Trip Through Your Wires', 'One Tree Hill', 'Exit', 'Mothers Of The Disappeared', 'Where The Streets Have No Name - Live', 'I Will Follow - Live', 'Trip Through Your Wires - Live', 'Medley: I Still Haven’t Found What I’m Looking For / Exodus - Live', 'MLK - Live', 'Bullet The Blue Sky - Live', 'Running To Stand Still - Live', 'In God’s Country - Live', 'Sunday Bloody Sunday - Live', 'Medley: Exit / Gloria - Live', 'October - Live', 'New Year’s Day - Live', 'Pride (In The Name Of Love) - Live', 'With Or Without You - Live', 'Party Girl - Live', 'I Still Haven’t Found What I’m Looking For - Live / Choir Version', '“40” - Live', 'One Tree Hill - St Francis Hotel Remix', 'Bullet The Blue Sky - Jacknife Lee Remix', 'Running To Stand Still - Daniel Lanois Remix', 'Red Hill Mining Town - Steve Lillywhite 2017 Mix', 'With Or Without You - Daniel Lanois Remix', 'Where The Streets Have No Name - Flood Remix', 'Luminous Times (Hold On To Love)', 'Walk To The Water', 'Spanish Eyes', 'Deep In The Heart', 'Silver And Gold', 'Sweetest Thing', 'Race Against Time', \"I Still Haven't Found What I'm Looking For - Lillywhite Alternative Mix ’87\", 'One Tree Hill Reprise - Brian Eno 2017 Mix', 'Silver And Gold', 'Beautiful Ghost / Introduction To Songs Of Experience', 'Wave Of Sorrow (Birdland)', 'Desert Of Our Love', 'Rise Up', 'Drunk Chicken / America']}, {'artist': 'The Who', 'album': \"Who's Next\", 'tracks': [\"Baba O'Riley - Remix\", 'Bargain', \"Love Ain't For Keeping\", 'My Wife - Original Album Version', 'The Song Is Over', 'Getting In Tune', 'Going Mobile - Original Album Version', 'Behind Blue Eyes', \"Won't Get Fooled Again - Remix\", 'Pure And Easy', \"Baby Don't You Do It\", 'Naked Eye', 'Water - The Young Vic Theatre Live Version', 'Too Much Of Anything', \"I Don't Even Know Myself\", 'Behind Blue Eyes - Alternate Studio Version']}, {'artist': 'Led Zeppelin', 'album': 'Led Zeppelin', 'tracks': ['Black Dog', 'Rock And Roll', 'The Battle Of Evermore', 'Stairway To Heaven', 'Misty Mountain Hop', 'Four Sticks', 'Going To California', 'When The Levee Breaks', 'Black Dog - Basic Track With Guitar Overdubs', 'Rock And Roll - Alternate Mix', 'The Battle Of Evermore - Mandolin / Guitar Mix From Headley Grange', 'Stairway To Heaven - Sunset Sound Mix', 'Misty Mountain Hop - Alternate Mix', 'Four Sticks - Alternate Mix', 'Going To California - Mandolin / Guitar Mix', 'When The Levee Breaks - Alternate UK Mix In Progress']}, {'artist': 'Joni Mitchell', 'album': 'Blue', 'tracks': ['WILD', 'BITE', 'FOOLS', 'EASE', 'THE QUIET', 'DKLA', 'TALK ME DOWN', 'COOL', 'HEAVEN', 'YOUTH', 'LOST BOY', 'for him.', 'SUBURBIA', 'TOO GOOD', 'BLUE', 'WILD - XXYYXX Remix']}, {'artist': 'Bob Dylan', 'album': 'Bringing It All Back Home', 'tracks': ['Subterranean Homesick Blues', 'She Belongs to Me', \"Maggie's Farm\", 'Love Minus Zero', 'Outlaw Blues', 'On the Road Again', \"Bob Dylan's 115th Dream\", 'Mr. Tambourine Man', 'Gates of Eden', \"It's Alright, Ma (I'm Only Bleeding)\", \"It's All over Now, Baby Blue\"]}, {'artist': 'The Rolling Stones', 'album': 'Let It Bleed', 'tracks': ['Gimme Shelter', 'Love In Vain', 'Country Honk', 'Live With Me', 'Let It Bleed', 'Midnight Rambler', 'You Got The Silver', 'Monkey Man', \"You Can't Always Get What You Want\"]}, {'artist': 'Ramones', 'album': 'Ramones', 'tracks': ['Blitzkrieg Bop - 2016 Remastered Version', 'Beat On The Brat - 2016 Remastered', 'Judy Is A Punk', 'I Wanna Be Your Boyfriend', 'Chain Saw', 'Now I Wanna Sniff Some Glue', \"I Don't Wanna Go Down To The Basement\", 'Loudmouth', 'Havana Affair', 'Listen To My Heart', '53rd & 3rd', \"Let's Dance\", \"I Don't Wanna Walk Around With You\", 'Today Your Love, Tomorrow The World', 'Blitzkrieg Bop - 40th Anniversary Mono Mix', 'Beat On The Brat - 40th Anniversary Mono Mix', 'Judy Is A Punk - 40th Anniversary Mono Mix', 'I Wanna Be Your Boyfriend - 40th Anniversary Mono Mix', 'Chain Saw - 40th Anniversary Mono Mix', 'Now I Wanna Sniff Some Glue - 40th Anniversary Mono Mix', \"I Don't Wanna Go Down To The Basement - 40th Anniversary Mono Mix\", 'Loudmouth - 40th Anniversary Mono Mix', 'Havana Affair - 40th Anniversary Mono Mix', 'Listen To My Heart - 40th Anniversary Mono Mix', '53rd & 3rd - 40th Anniversary Mono Mix', \"Let's Dance - 40th Anniversary Mono Mix\", \"I Don't Wanna Walk Around With You - 40th Anniversary Mono Mix\", 'Today Your Love, Tomorrow The World - 40th Anniversary Mono Mix', 'Blitzkrieg Bop (Original Stereo) - Single Version', 'Blitzkrieg Bop (Original Mono) - Single Version', 'I Wanna Be Your Boyfriend (Original Stereo) - Single Version', 'I Wanna Be Your Boyfriend (Original Mono) - Single Version', 'Today Your Love, Tomorrow The World - Uncensored Vocals', \"I Don't Care (Demo) - 2016 Remastered\", '53rd & 3rd - Demo', 'Loudmouth - Demo Version', 'Chain Saw - Demo', 'You Should Have Never Opened That Door (Demo)', 'I Wanna Be Your Boyfriend (Demo)', \"I Can't Be (Demo)\", 'Today Your Love, Tomorrow The World (Demo)', \"I Don't Wanna Walk Around With You (Demo)\", 'Now I Wanna Sniff Some Glue (Demo) - 2016 Remastered', \"I Don't Wanna Be Learned / I Don't Wanna Be Tamed (Demo)\", \"You're Gonna Kill That Girl (Demo)\", \"What's Your Name (Demo)\", 'Loudmouth (Set 1) - Live at the Roxy, Hollywood, CA (8/12/76)', 'Beat On The Brat (Set 1) - Live at the Roxy, Hollywood, CA (8/12/76', 'Blitzkrieg Bop (Set 1) - Live at the Roxy, Hollywood, CA (8/12/76)', 'I Remember You (Set 1) - Live at the Roxy, Hollywood, CA (8/12/76)']}, {'artist': 'The Band', 'album': 'Music From Big Pink', 'tracks': ['Tears Of Rage - 2000 Digital Remaster', 'To Kingdom Come - 2000 Digital Remaster', 'In A Station - 2000 Digital Remaster', 'Caledonia Mission - 2000 Digital Remaster', 'The Weight - 2000 - Remaster', 'We Can Talk - 2000 Digital Remaster', 'Long Black Veil - 2000 Digital Remaster', 'Chest Fever - 2000 Digital Remaster', 'Lonesome Suzie - 2000 Digital Remaster', \"This Wheel's On Fire - 2000 Digital Remaster\", 'I Shall Be Released - 2000 Digital Remaster', 'Yazoo Street Scandal - 2000 Digital Remaster', 'Tears Of Rage - 2000 Digital Remaster', \"Katie's Been Gone - 2000 Digital Remaster\", 'If I Lose - 2000 Digital Remaster', 'Long Distance Operator - 2000 Digital Remaster', 'Lonesome Suzie - 2000 Digital Remaster', 'Orange Juice Blues (Blues For Breakfast)(Outtake Demo) - 2000 Digital Remaster', 'Key To The Highway - 2000 Digital Remaster', 'Ferdinand The Imposter - 2000 Digital Remaster']}, {'artist': 'David Bowie', 'album': 'The Rise and Fall of Ziggy Stardust and the Spiders From Mars', 'tracks': ['Five Years - 2012 Remastered Version', 'Soul Love - 2012 Remastered Version', 'Moonage Daydream - 2012 Remastered Version', 'Starman - 2012 Remastered Version', \"It Ain't Easy - 2012 Remastered Version\", 'Lady Stardust - 2012 Remastered Version', 'Star - 2012 Remastered Version', 'Hang On To Yourself - 2012 Remastered Version', 'Ziggy Stardust - 2012 Remastered Version', 'Suffragette City - 2012 Remastered Version', \"Rock 'N' Roll Suicide - 2012 Remastered Version\"]}, {'artist': 'Carole King', 'album': 'Tapestry', 'tracks': ['I Feel the Earth Move', 'So Far Away', \"It's Too Late\", 'Home Again', 'Beautiful', 'Way over Yonder', \"You've Got a Friend\", 'Where You Lead', 'Will You Love Me Tomorrow?', 'Smackwater Jack', 'Tapestry', '(You Make Me Feel Like) A Natural Woman']}, {'artist': 'Eagles', 'album': 'Hotel California', 'tracks': ['Hotel California - Remastered', 'New Kid In Town - Remastered', 'Life In The Fast Lane - Remastered', 'Wasted Time - Remastered', 'Wasted Time - Reprise; Remastered', 'Victim Of Love - Remastered', 'Pretty Maids All In A Row - Remastered', 'Try And Love Again - Remastered', 'The Last Resort - Remastered']}, {'artist': 'Muddy Waters', 'album': 'The Anthology', 'tracks': ['Breakdown', 'American Girl', 'Hometown Blues', 'The Wild One, Forever', 'I Need To Know', 'Listen To Her Heart', \"Too Much Ain't Enough\", 'Refugee', 'Here Comes My Girl', \"Don't Do Me Like That\", 'Even The Losers', 'The Waiting', \"A Woman In Love (It's Not Me)\", \"Stop Draggin' My Heart Around\", 'You Got Lucky', 'Straight Into Darkness', 'Change Of Heart', 'Rebels', \"Don't Come Around Here No More\", 'The Best Of Everything', \"So You Want To Be A Rock 'N' Roll Star\", \"Jammin' Me\", \"It'll All Work Out\", 'Love Is A Long Road', \"Free Fallin'\", 'Yer So Bad', \"I Won't Back Down\", \"Runnin' Down A Dream\", 'Learning To Fly', 'Into The Great Wide Open', 'Two Gunslingers', \"Mary Jane's Last Dance\", 'Waiting For Tonight', 'Surrender']}, {'artist': 'The Beatles', 'album': 'Please Please Me', 'tracks': ['I Saw Her Standing There - Remastered', 'Misery - Remastered', 'Anna (Go To Him) - Remastered', 'Chains - Remastered', 'Boys - Remastered', 'Ask Me Why - Remastered', 'Please Please Me - Remastered', 'Love Me Do - Remastered', 'P.S. I Love You - Remastered', \"Baby It's You - Remastered\", 'Do You Want To Know A Secret - Remastered', 'A Taste Of Honey - Remastered', \"There's A Place - Remastered\", 'Twist And Shout - Remastered']}, {'artist': 'Love', 'album': 'Forever Changes', 'tracks': ['Alone Again Or - 2015 Remastered Version', 'A House Is Not A Motel - 2015 Remastered Version', 'Andmoreagain - 2015 Remastered Version', 'The Daily Planet - 2015 Remastered Version', 'Old Man - 2015 Remastered Version', 'The Red Telephone - 2015 Remastered Version', 'Maybe The People Would Be The Times Or Between Clark And Hilldale - 2015 Remastered Version', 'Live And Let Live - 2015 Remastered Version', 'The Good Humor Man He Sees Everything Like This - 2015 Remastered Version', 'Bummer In The Summer - 2015 Remastered Version', 'You Set The Scene - 2015 Remastered Version']}, {'artist': 'Sex Pistols', 'album': \"Never Mind the Bollocks Here's the Sex Pistols\", 'tracks': ['Holidays In The Sun', 'Bodies', 'No Feelings', 'Liar', 'Problems', 'God Save The Queen', 'Seventeen', 'Anarchy In The U.K.', 'Sub-Mission', 'Pretty Vacant', 'New York', 'EMI']}, {'artist': 'The Doors', 'album': 'The Doors', 'tracks': ['Break On Through (To The Other Side)', 'Soul Kitchen', 'The Crystal Ship', 'Twentieth Century Fox', 'Alabama Song (Whisky Bar)', 'Light My Fire', 'Back Door Man', 'I Looked At You', 'End Of The Night', 'Take It As It Comes', 'The End']}, {'artist': 'Pink Floyd', 'album': 'The Dark Side of the Moon', 'tracks': ['Speak to Me', 'Breathe (In the Air)', 'On the Run', 'Time', 'The Great Gig in the Sky', 'Money', 'Us and Them', 'Any Colour You Like', 'Brain Damage', 'Eclipse']}, {'artist': 'Patti Smith', 'album': 'Horses', 'tracks': ['Horses (with PnB Rock, Kodak Black & A Boogie Wit da Hoodie)']}, {'artist': 'The Band', 'album': 'The Brown Album', 'tracks': ['Westside', \"Nothin' Like Me\", 'Ayo', 'Girl You Loud', 'Remember Me', 'I Bet', 'D.G.I.F.U.', 'Better', 'Lights Out', 'Real One', 'Bitches N Marijuana', \"She Goin' Up\", 'Wrong In The Right Way', \"Bunkin'\", \"It's Yo Shit\", 'Banjo']}, {'artist': 'Bob Marley & The Wailers', 'album': 'The Best of Bob Marley and The Wailers', 'tracks': ['Buffalo Soldier (in the style of Bob Marley & The Wailers) (Karaoke Version)', 'Buffalo Soldier (in the style of Bob Marley & The Wailers) (Demonstration Version - includes lead singer)', 'Redemption Song (Acoustic Version) (in the style of Bob Marley & The Wailers) (Karaoke Version)', 'Redemption Song (Acoustic Version) (in the style of Bob Marley & The Wailers) (Demonstration Version - includes lead singer)', 'Could You Be Loved (in the style of Bob Marley & The Wailers) (Karaoke Version)', 'Could You Be Loved (in the style of Bob Marley & The Wailers) (Demonstration Version - includes lead singer)', 'I Shot The Sheriff (in the style of Bob Marley / The Wailers) (Karaoke Version)', 'I Shot The Sheriff (in the style of Bob Marley / The Wailers) (Demonstration Version - includes lead singer)', 'Is This Love (in the style of Bob Marley / The Wailers) (Karaoke Version)', 'Is This Love (in the style of Bob Marley / The Wailers) (Demonstration Version - includes lead singer)', 'Get Up Stand Up (in the style of Bob Marley / The Wailers) (Karaoke Version)', 'Get Up Stand Up (in the style of Bob Marley / The Wailers) (Demonstration Version - includes lead singer)', 'No Woman No Cry (Live Version) (in the style of Bob Marley & The Wailers) (Karaoke Version)', 'No Woman No Cry (Live Version) (in the style of Bob Marley & The Wailers) (Demonstration Version - includes lead singer)']}, {'artist': 'John Coltrane', 'album': 'A Love Supreme', 'tracks': ['A Love Supreme, Pt. I – Acknowledgement', 'A Love Supreme, Pt. II - Resolution', 'A Love Supreme, Pt. III - Pursuance', 'A Love Supreme, Pt. IV - Psalm']}, {'artist': 'Public Enemy', 'album': 'It Takes a Nation of Millions to Hold Us Back', 'tracks': ['Countdown To Armageddon', 'Bring The Noise', \"Don't Believe The Hype\", \"Cold Lampin' With Flavor\", 'Terminator X To The Edge Of Panic', 'Mind Terrorist', 'Louder Than A Bomb', 'Caught, Can We Get A Witness?', \"Show 'Em Whatcha Got\", 'She Watch Channel Zero?!', 'Night Of The Living Baseheads', 'Black Steel In The Hour Of Chaos', 'Security Of The First World', 'Rebel Without A Pause', 'Prophets Of Rage', 'Party For Your Right To Fight']}, {'artist': 'The Allman Brothers Band', 'album': 'At Fillmore East', 'tracks': ['Statesboro Blues - Live At The Fillmore East/1971', 'Trouble No More - Live At The Fillmore East/1971', \"Don't Keep Me Wonderin' - Live At The Fillmore East/1971\", 'Done Somebody Wrong - Live At The Fillmore East/1971', 'Stormy Monday - Live At The Fillmore East/1971', 'One Way Out - Live At The Fillmore East/1971', 'In Memory Of Elizabeth Reed - Live At The Fillmore East/1971', \"You Don't Love Me - Live At The Fillmore East/1971\", 'Midnight Rider - Live At The Fillmore East/1971', \"Hot 'Lanta - Live At The Fillmore East/1971\", 'Whipping Post - Live At The Fillmore East/1971', 'Mountain Jam (Theme From “First There Is A Mountain”) - Live At The Fillmore East/1971', 'Drunken Hearted Boy - Live At The Fillmore East/1971']}, {'artist': 'Little Richard', 'album': \"Here's Little Richard\", 'tracks': ['Tutti Frutti', 'True, Fine Mama', \"Can't Believe You Wanna Leave\", 'Ready Teddy', 'Baby', \"Slippin' And Slidin'\", 'Long Tall Sally (The Thing)', 'Miss Ann', 'Oh Why?', 'Rip It Up', 'Jenny Jenny', \"She's Got It\", 'Tutti Frutti - Take 2', 'True Fine Mama - Incomplete Take', 'Can’t Believe You Wanna Leave - Take 6', 'Can’t Believe You Wanna Leave - Take 8', 'Ready Teddy - Take 1', 'Ready Teddy - Takes 2 & 3', 'Baby - Demo', 'Baby - Take 1', 'Slippin’ And Slidin’ - Demo', 'Slippin’ And Slidin’ - Piano & Drums Demo', 'Long Tall Sally - Take 1', 'Long Tall Sally - Take 6', 'Miss Ann - Demo', 'Miss Ann - Take 1', 'Miss Ann - Take 6', 'Oh Why? - Takes 3 & 4', 'Oh Why? - Take 9', 'Rip It Up - Take 1', 'Rip It Up - Take 3', 'Rip It Up - Take 4', 'Rip It Up - Take 6', 'She’s Got It - Alternate Version']}, {'artist': 'Simon & Garfunkel', 'album': 'Bridge Over Troubled Water', 'tracks': ['Bridge Over Troubled Water', 'El Condor Pasa (If I Could)', 'Cecilia', 'Keep the Customer Satisfied', 'So Long, Frank Lloyd Wright', 'The Boxer', 'Baby Driver', 'The Only Living Boy in New York', \"Why Don't You Write Me\", 'Bye Bye Love - Live at Memorial Auditorium, Burlington, VT - October 1968', 'Song for the Asking']}, {'artist': 'Al Green', 'album': 'Greatest Hits', 'tracks': ['Keep Ya Head Up', '2 Of Amerikaz Most Wanted', 'Temptations', 'God Bless The Dead - 1998 Greatest Hits', 'Hail Mary', 'Me Against The World', 'How Do U Want It', 'So Many Tears', 'Unconditional Love', 'Trapped', 'Life Goes On', \"Hit 'Em Up - Single Version\", \"Troublesome '96\", \"Brenda's Got A Baby\", \"I Ain't Mad At Cha\", 'I Get Around', 'Changes', 'California Love - Original Version', \"Picture Me Rollin'\", 'How Long Will They Mourn Me?', 'Toss It Up', 'Dear Mama', 'All About U', 'To Live & Die In L.A.', 'Heartz Of Men']}, {'artist': 'The Beatles', 'album': 'Meet The Beatles!', 'tracks': ['Little Child', \"I'll Get You\", \"She's A Woman\", \"You Can't Do That\", 'Day Tripper', 'Back In The Ussr', 'We Can Work It Out', 'I Wanna Be Your Man', \"Sgt Pepper's Lonely Hearts Club Band\", 'Birthday', 'I Saw Her Standing There', 'Get Back', \"I'm Down\", 'Hey Jude', 'Dirty Water', 'Jeannie, Jeannie, Jeannie', \"Tell Me What's Wrong\"]}, {'artist': 'Ray Charles', 'album': 'The Birth of Soul', 'tracks': [\"The Sun's Gonna Shine Again\", 'Roll With My Baby', 'The Midnight Hour', \"Jumpin' In The Morning\", 'It Should Have Been Me', 'Losing Hand', 'Heartbreaker', \"Sinner's Prayer\", 'Mess Around', 'Funny But I Still Love You', \"Feelin' Sad\", 'I Wonder Who', \"Don't You Know - Single/\", 'Nobody Cares', \"Ray's Blues\", 'Mr. Charles Blues', 'Blackjack - Single/', \"I've Got A Woman\", 'Greenbacks', 'Come Back Baby', 'A Fool For You', 'This Little Girl Of Mine', 'Hard Times (No One Knows Better Than I) (R&B)', 'A Bit Of Soul', 'Mary Ann', 'Drown In My Own Tears', 'Hallelujah I Love Her So', 'What Would I Do Without You', 'Lonely Avenue', 'I Want To Know', 'Leave My Woman Alone', \"It's Alright\", \"Ain't That Love\", 'Get On The Right Track', 'Rockhouse Parts 1 & 2', \"Swanee River Rock (Talkin' 'Bout That River)\", \"That's Enough\", \"Talkin' About You\", 'What Kind Of Man Are You', 'I Want A Little Girl', 'Yes Indeed', 'I Had A Dream', 'You Be My Baby', 'Tell All The World About You', 'My Bonnie', 'Early In The Morning', 'Night Time Is The Right Time', \"Carryin' That Load\", 'Tell Me How Do You Feel', \"What'd I Say, Pt. I & II\"]}, {'artist': 'The Jimi Hendrix Experience', 'album': 'Electric Ladyland', 'tracks': ['...And the Gods Made Love', 'Have You Ever Been (To Electric Ladyland)', 'Crosstown Traffic', 'Voodoo Chile', 'Little Miss Strange', 'Long Hot Summer Night', 'Come On (Let the Good Times Roll)', 'Gypsy Eyes', 'Burning of the Midnight Lamp', 'Rainy Day, Dream Away', '1983...(A Merman I Should Turn to Be)', 'Moon, Turn the Tides...Gently Gently Away', 'Still Raining, Still Dreaming', 'House Burning Down', 'All Along the Watchtower', 'Voodoo Child (Slight Return)']}, {'artist': 'Elvis Presley', 'album': 'Elvis Presley', 'tracks': ['Heartbreak Hotel', \"Don't Be Cruel\", 'Hound Dog', 'Love Me Tender', 'Too Much', 'All Shook Up', '(Let Me Be Your) Teddy Bear', 'Jailhouse Rock', \"Don't\", 'Hard Headed Woman - From the Hal Wallis Production \"King Creole\", a Paramount Picture', 'One Night', \"(Now and Then There's) A Fool Such as I\", \"A Big Hunk O' Love\", 'Stuck On You', \"It's Now or Never\", 'Are You Lonesome Tonight? - Remastered', 'Wooden Heart', 'Surrender', \"(Marie's The Name) His Latest Flame\", \"Can't Help Falling In Love\", 'Good Luck Charm', \"She's Not You - Remastered\", 'Return to Sender', \"(You're The) Devil in Disguise\", 'Crying In the Chapel', 'In the Ghetto', 'Suspicious Minds', 'The Wonder of You - Live', 'Burning Love', 'Way Down', 'A Little Less Conversation - JXL Radio Edit Remix']}, {'artist': 'Stevie Wonder', 'album': 'Songs in the Key of Life', 'tracks': [\"Love's In Need Of Love Today\", 'Have A Talk With God', 'Village Ghetto Land', 'Contusion', 'Sir Duke', 'I Wish', 'Knocks Me Off My Feet', 'Pastime Paradise', 'Summer Soft', 'Ordinary Pain', \"Isn't She Lovely\", 'Joy Inside My Tears', 'Black Man', 'Ngiculela-Es Una Historia-I Am Singing', \"If It's Magic\", 'As', 'Another Star', 'Saturn', 'Ebony Eyes', 'All Day Sucker', \"Easy Goin' Evening (My Mama's Call)\"]}, {'artist': 'The Rolling Stones', 'album': 'Beggars Banquet', 'tracks': ['Sympathy For The Devil', 'No Expectations', 'Dear Doctor', 'Parachute Woman', 'Jig-Saw Puzzle', 'Street Fighting Man', 'Prodigal Son', 'Stray Cat Blues', 'Factory Girl', 'Salt Of The Earth']}, {'artist': 'Creedence Clearwater Revival', 'album': 'Chronicle: The 20 Greatest Hits', 'tracks': [\"Who's Making Love\", 'Take Care Of Your Homework', 'Testify (I Wonna)', 'I Could Never Be President', 'Love Bones', 'Steal Away', 'I Am Somebody, Part 1', \"Jody's Got Your Girl And Gone\", \"I Don't Wanna Lose You\", \"Hijackin' Love\", 'Standing In For Jody', 'Doing My Own Thing - Part 1', \"Stop Doggin' Me\", 'I Believe In You (You Believe In Me)', 'Cheaper To Keep Her', \"We're Getting Careless With Our Love\", \"I've Been Born Again\", \"It's September\", 'Try Me Tonight', \"Just Keep On Lovin' Me\"]}, {'artist': 'Sly & The Family Stone', 'album': 'Greatest Hits', 'tracks': ['Keep Ya Head Up', '2 Of Amerikaz Most Wanted', 'Temptations', 'God Bless The Dead - 1998 Greatest Hits', 'Hail Mary', 'Me Against The World', 'How Do U Want It', 'So Many Tears', 'Unconditional Love', 'Trapped', 'Life Goes On', \"Hit 'Em Up - Single Version\", \"Troublesome '96\", \"Brenda's Got A Baby\", \"I Ain't Mad At Cha\", 'I Get Around', 'Changes', 'California Love - Original Version', \"Picture Me Rollin'\", 'How Long Will They Mourn Me?', 'Toss It Up', 'Dear Mama', 'All About U', 'To Live & Die In L.A.', 'Heartz Of Men']}, {'artist': \"Guns N' Roses\", 'album': 'Appetite for Destruction', 'tracks': ['Welcome To The Jungle', \"It's So Easy\", 'Nightrain', 'Out Ta Get Me', 'Mr. Brownstone', 'Paradise City', 'My Michelle', 'Think About You', \"Sweet Child O' Mine\", \"You're Crazy\", 'Anything Goes', 'Rocket Queen']}, {'artist': 'U2', 'album': 'Achtung Baby', 'tracks': ['Zoo Station', 'Even Better Than The Real Thing', 'One', 'Until The End Of The World', \"Who's Gonna Ride Your Wild Horses\", 'So Cruel', 'The Fly', 'Mysterious Ways', \"Tryin' To Throw Your Arms Around The World\", 'Ultra Violet (Light My Way)', 'Acrobat', 'Love Is Blindness', 'Lady With The Spinning Head (UV1)', 'Blow Your House Down', 'Salomé', 'Even Better Than The Real Thing - Single Version', 'Satellite Of Love', \"Who's Gonna Ride Your Wild Horses - Temple Bar Remix\", 'Paint It Black', 'Even Better Than The Real Thing - Fish Out Of Water Remix', 'Mysterious Ways - The Perfecto Mix', 'Night And Day - Steel String Remix', 'The Lounge Fly Mix', 'Fortunate Son', 'Alex Descends Into Hell For A Bottle Of Milk / Korova 1', 'Where Did It All Go Wrong?']}, {'artist': 'The Rolling Stones', 'album': 'Sticky Fingers', 'tracks': ['Brown Sugar', 'Sway - Remastered', 'Wild Horses', \"Can't You Hear Me Knocking - Remastered\", 'You Gotta Move - Remastered', 'Bitch', 'I Got The Blues - Remastered', 'Sister Morphine - Remastered', 'Dead Flowers - Remastered', 'Moonlight Mile - Remastered']}, {'artist': 'Phil Spector', 'album': 'Back to Mono', 'tracks': ['Back To Mono']}, {'artist': 'Van Morrison', 'album': 'Moondance', 'tracks': ['And It Stoned Me', 'Moondance', 'Crazy Love', 'Caravan', 'Into The Mystic', 'Come Running', 'These Dreams Of You', 'Brand New Day', 'Everyone', 'Glad Tidings']}, {'artist': 'Radiohead', 'album': 'Kid A', 'tracks': ['Everything In Its Right Place', 'Kid A', 'The National Anthem', 'How To Disappear Completely', 'Treefingers', 'Optimistic', 'In Limbo', 'Idioteque', 'Morning Bell', 'Motion Picture Soundtrack', 'Untitled']}, {'artist': 'Michael Jackson', 'album': 'Off the Wall', 'tracks': [\"Don't Stop 'Til You Get Enough - Single Version\", 'Rock with You - Single Version', \"Workin' Day and Night\", 'Get on the Floor', 'Off the Wall', 'Girlfriend', \"She's Out of My Life - Single Version\", \"I Can't Help It\", \"It's the Falling in Love\", 'Burn This Disco Out']}, {'artist': 'Led Zeppelin', 'album': '[Led Zeppelin IV]', 'tracks': ['Black Dog', 'Rock And Roll', 'The Battle Of Evermore', 'Stairway To Heaven', 'Misty Mountain Hop', 'Four Sticks', 'Going To California', 'When The Levee Breaks', 'Black Dog - Basic Track With Guitar Overdubs', 'Rock And Roll - Alternate Mix', 'The Battle Of Evermore - Mandolin / Guitar Mix From Headley Grange', 'Stairway To Heaven - Sunset Sound Mix', 'Misty Mountain Hop - Alternate Mix', 'Four Sticks - Alternate Mix', 'Going To California - Mandolin / Guitar Mix', 'When The Levee Breaks - Alternate UK Mix In Progress']}, {'artist': 'Billy Joel', 'album': 'The Stranger', 'tracks': [\"Movin' Out (Anthony's Song)\", 'The Stranger', 'Just the Way You Are', 'Scenes from an Italian Restaurant', 'Vienna', 'Only the Good Die Young', \"She's Always a Woman\", 'Get It Right the First Time', 'Everybody Has a Dream', 'Miami 2017 (Seen the Lights Go Out On Broadway) - Live June 1977 At Carnegie Hall, New York, NY', 'Prelude / Angry Young Man - Live June 1977 At Carnegie Hall, New York, NY', 'New York State of Mind - Live June 1977 At Carnegie Hall, New York, NY', 'Just the Way You Are - Live June 1977 At Carnegie Hall, New York, NY', \"She's Got a Way - Live June 1977 At Carnegie Hall, New York, NY\", 'The Entertainer - Live June 1977 At Carnegie Hall, New York, NY', 'Scenes from an Italian Restaurant - Live June 1977 At Carnegie Hall, New York, NY', 'Band Introductions - Live June 1977 At Carnegie Hall, New York, NY', 'Captain Jack - Live June 1977 At Carnegie Hall, New York, NY', \"I've Loved These Days - Live June 1977 At Carnegie Hall, New York, NY\", 'Say Goodbye to Hollywood - Live June 1977 At Carnegie Hall, New York, NY', 'Souvenir - Live June 1977 At Carnegie Hall, New York, NY']}, {'artist': 'Paul Simon', 'album': 'Graceland', 'tracks': ['The Boy In the Bubble', 'Graceland', 'I Know What I Know', 'Gumboots', 'Diamonds on the Soles of Her Shoes', 'You Can Call Me Al', 'Under African Skies', 'Homeless', 'Crazy Love, Vol. II', 'That Was Your Mother', 'All Around the World or the Myth of Fingerprints', 'Homeless (Demo)', 'Diamonds on the Soles of Her Shoes (Unreleased Version) - Alternate Version', 'All Around the World or the Myth of Fingerprints (Early Version) - Early Version', 'You Can Call Me Al - Demo', 'Crazy Love - Demo', 'The Story of \"Graceland\" as Told by Paul Simon']}, {'artist': 'Curtis Mayfield', 'album': 'Superfly', 'tracks': ['If You Want It (Sleepy Brown feat. Scar)', \"What's Up With That (Future feat. 21 Savage)\", 'No Shame (Future feat. PARTYNEXTDOOR)', 'Walk On Minks (Future)', 'Tie My Shoes (Future feat. Young Thug)', 'Stains (Future)', 'Show My Chain Some Love (Future feat. Young Thug)', 'R.A.N. (Miguel)', 'This Way (Khalid x H.E.R.)', 'Bag (Future feat. Yung Bans)', 'Drive Itself (Future feat. Lil Wayne)', 'Money Train (Future feat. Young Thug & Gunna)', 'Nowhere (Future)', \"Trappin' So Hard (Rich The Kid & Rico Love)\", 'New Goals (French Montana)', \"That's How I Grew Up (G Herbo feat. 21 Savage)\", 'Rep Yo Click (Lil Jon feat. Bangladesh, Freeway & CyHi The Prynce)', 'Please Forgive (Lecrae, Sean Garrett & Crystal Nicole)', 'Capone Suite (Rick Ross feat. Smif-N-Wessun)', 'Struggles (Future feat. Sleepy Brown)', 'Find My Way Out (HoodCelebrityy)', 'La Dueña (A.CHAL)', 'Georgia (Future feat. Young Thug)']}, {'artist': 'Led Zeppelin', 'album': 'Physical Graffiti', 'tracks': ['Custard Pie', 'The Rover', 'In My Time Of Dying', 'Houses Of The Holy', 'Trampled Under Foot', 'Kashmir', 'In The Light', 'Bron-Yr-Aur', 'Down By The Seaside', 'Ten Years Gone', 'Night Flight', 'The Wanton Song', 'Boogie With Stu', 'Black Country Woman', 'Sick Again']}, {'artist': 'Neil Young', 'album': 'After the Gold Rush', 'tracks': ['Tell Me Why - Remastered Version', 'After the Gold Rush - Remastered Version', 'Only Love Can Break Your Heart - Remastered Version', 'Southern Man - Remastered Version', 'Till the Morning Comes - Remastered Version', 'Oh Lonesome Me - Remastered Version', \"Don't Let It Bring You Down - Remastered Version\", 'Birds - Remastered Version', 'When You Dance, I Can Really Love - Remastered Version', 'I Believe In You - Remastered Version', 'Cripple Creek Ferry - Remastered Version']}, {'artist': 'James Brown', 'album': 'Star Time', 'tracks': ['Please, Please, Please', 'Why Do You Do Me', 'Try Me', 'Tell Me What I Did Wrong', 'Bewildered', \"Good Good Lovin'\", \"I'll Go Crazy\", \"I Know It's True\", '(Do The) Mashed Potatoes Part 1', 'Think', \"Baby You're Right\", 'Lost Someone', 'Night Train', \"I've Got Money\", \"I Don't Mind\", 'Prisoner Of Love', \"Devil's Den\", 'Out Of The Blue', 'Out Of Sight', 'Grits', 'Maybe The Last Time', \"It's A Man's World\", 'I Got You (I Feel Good)', \"Papa's Got A Brand New Bag\", \"Papa's Got A Brand New Bag\", 'I Got You (I Feel Good)', \"Ain't That A Groove\", \"It's A Man's, Man's, Man's World\", \"Money Won't Change You\", \"Don't Be A Dropout\", 'Bring It Up (Hipsters Avenue)', 'Let Yourself Go', 'Cold Sweat', 'Get It Together', \"I Can't Stand Myself (When You Touch Me), Pt. 1\", \"I Got The Feelin'\", 'Licking Stick - Licking Stick', \"Say It Loud - I'm Black And I'm Proud\", 'There Was A Time', 'Give It Up Or Turnit A Loose', \"I Don't Want Nobody To Give Me Nothing (Open Up The Door, I'll Get It Myself)\", 'Mother Popcorn', 'Funky Drummer', 'Get Up (I Feel Like Being A) Sex Machine', 'Super Bad', \"Talkin' Loud And Sayin' Nothing\", 'Get Up, Get Into It, Get Involved', 'Soul Power (Parts 1 & 2)', \"Medley: Brother Rapp/Ain't It Funky Now\", 'Hot Pants (She Got To Use What She Got To Get What She Wants)']}, {'artist': 'Prince and the Revolution', 'album': 'Purple Rain', 'tracks': [\"Let's Go Crazy\", 'Take Me With U', 'The Beautiful Ones', 'Computer Blue', 'Darling Nikki', 'When Doves Cry', 'I Would Die 4 U', \"Baby I'm A Star\", 'Purple Rain']}, {'artist': 'AC/DC', 'album': 'Back in Black', 'tracks': ['Hells Bells', 'Shoot to Thrill', 'What Do You Do for Money Honey', 'Givin the Dog a Bone', 'Let Me Put My Love Into You', 'Back In Black', 'You Shook Me All Night Long', 'Have a Drink on Me', 'Shake a Leg', \"Rock and Roll Ain't Noise Pollution\"]}, {'artist': 'Otis Redding', 'album': 'Otis Blue: Otis Redding Sings Soul', 'tracks': ['Ole Man Trouble - Remastered Mono', 'Respect - Remastered Mono', 'Change Is Gonna Come - Remastered Mono', 'Down In The Valley - Remastered Mono', \"I've Been Loving You Too Long - Remastered Mono\", 'Shake - Remastered Mono', 'My Girl - Remastered Mono', 'Wonderful World - Remastered Mono', 'Rock Me Baby - Remastered Mono', \"Satisfaction [I Can't Get No] - Remastered Mono\", \"You Don't Miss Your Water - Remastered Mono\", \"I've Been Loving You Too Long - Remastered Mono Mix of Stereo\", \"I'm Depending On You - Remastered Stereo Single Version\", 'Respect', 'Ole Man Trouble - Remastered Mono Mix of Stereo', 'Any Ole Way - Remastered Stereo Single Version', 'Shake - Remastered Live, 1967 - Stereo Mix of Single Version', 'Ole Man Trouble - Remastered Live At The Whisky A Go Go Version', 'Respect - Live at The Whisky, 1968; Remastered Version', \"I've Been Loving You Too Long - Remastered Live At The Whisky A Go Go Version\", \"Satisfaction (I Can't Get No) - Live at The Whisky, 1968; Remastered Version\", \"I'm Depending On You - Live at The Whisky, 1968; Remastered Version\", 'Any Ole Way - Live at the Whisky, 1968; Remastered Version', 'Ole Man Trouble - Remastered Version', 'Respect - Remastered Version', 'Change Is Gonna Come - Remastered Version', 'Down in the Valley - Remastered Version', \"I've Been Loving You Too Long - Remastered Version\", 'Shake - Remastered Stereo', 'My Girl', 'Wonderful World - Remastered Stereo', 'Rock Me Baby - Remastered Stereo', \"(I Can't Get No) Satisfaction - Remastered\", \"You Don't Miss Your Water - Remastered Stereo\", 'Respect - Remastered 1967', \"I've Been Loving You Too Long - Live in Europe; Remastered Version\", 'My Girl - Live in Europe; Remastered Version', 'Shake - Live in Europe; Remastered Version', \"Satisfaction (I Can't Get No) - Live in Europe; Remastered Version\", 'Respect - Live in Europe; Remastered Version']}, {'artist': 'Led Zeppelin', 'album': 'Led Zeppelin II', 'tracks': ['Whole Lotta Love', 'What Is And What Should Never Be', 'The Lemon Song', 'Thank You', 'Heartbreaker', \"Living Loving Maid [She's Just A Woman]\", 'Ramble On', 'Moby Dick', 'Bring It On Home']}, {'artist': 'John Lennon', 'album': 'Imagine', 'tracks': ['imagine if', 'the broken hearts club']}, {'artist': 'The Clash', 'album': 'The Clash', 'tracks': ['Clash the Truth', 'Generational Synthetic', 'Sleep Apnea', 'Careless', 'Modern Holiday', 'Taking Off', 'Shallow', 'Burn You Down', 'Birthday', 'In Vertigo', 'Brighter', 'Caustic Cross', 'Ascension', 'Crashed Out']}, {'artist': 'Neil Young', 'album': 'Harvest', 'tracks': ['Unknown Legend', 'From Hank To Hendrix', 'You And Me', 'Harvest Moon', 'War Of Man', 'One Of These Days', 'Such A Woman', 'Old King', \"Dreamin' Man\", 'Natural Beauty']}, {'artist': 'The Jimi Hendrix Experience', 'album': 'Axis: Bold as Love', 'tracks': ['Exp', 'Up From The Skies', 'Spanish Castle Magic', 'Wait Until Tomorrow', \"Ain't No Telling\", 'Little Wing', 'If 6 Was 9', \"You Got Me Floatin'\", 'Castles Made of Sand', \"She's So Fine\", 'One Rainy Wish', 'Little Miss Lover', 'Bold as Love']}, {'artist': 'Aretha Franklin', 'album': 'I Never Loved a Man the Way I Love You', 'tracks': ['Respect', 'Drown in My Own Tears', 'I Never Loved a Man [The Way I Love You]', 'Soul Serenade', \"Don't Let Me Lose This Dream\", 'Baby, Baby, Baby', 'Dr. Feelgood (Love Is a Serious Business)', 'Good Times', 'Do Right Woman - Do Right Man', 'Save Me', 'A Change Is Gonna Come', 'Respect - Stereo Version', 'I Never Loved A Man [The Way I Love You] [Stereo Version] - Stereo Version', 'Do Right Woman - Do Right Man [Stereo Version]']}, {'artist': 'Aretha Franklin', 'album': 'Lady Soul', 'tracks': ['Chain of Fools', \"Money Won't Change You\", 'People Get Ready', 'Niki Hoeky', '(You Make Me Feel Like) A Natural Woman', \"Since You've Been Gone [Sweet Sweet Baby]\", 'Good to Me As I Am to You', 'Come Back Baby', \"Groovin'\", \"Ain't No Way\", 'Chain of Fools - Unedited', '[You Make Me Feel Like] A Natural Woman [Mono Single Version] - Mono Single Version', \"Since You've Been Gone [Sweet Sweet Baby] [Mono Single Version] - Mono Single Version\", \"Ain't No Way - Mono Single Version\"]}, {'artist': 'Bruce Springsteen', 'album': 'Born in the U.S.A.', 'tracks': ['Born in the U.S.A.', 'Cover Me', 'Darlington County', 'Working on the Highway', 'Downbound Train', \"I'm on Fire\", 'No Surrender', 'Bobby Jean', \"I'm Goin' Down\", 'Glory Days', 'Dancing In the Dark', 'My Hometown']}, {'artist': 'Pink Floyd', 'album': 'The Wall', 'tracks': ['In the Flesh?', 'The Thin Ice', 'Another Brick in the Wall, Pt. 1', 'The Happiest Days of Our Lives', 'Another Brick in the Wall, Pt. 2', 'Mother', 'Goodbye Blue Sky', 'Empty Spaces', 'Young Lust', 'One of My Turns', \"Don't Leave Me Now\", 'Another Brick in the Wall, Pt. 3', 'Goodbye Cruel World', 'Hey You', 'Is There Anybody Out There?', 'Nobody Home', 'Vera', 'Bring the Boys Back Home', 'Comfortably Numb', 'The Show Must Go On', 'In the Flesh', 'Run Like Hell', 'Waiting for the Worms', 'Stop', 'The Trial', 'Outside the Wall']}, {'artist': 'Johnny Cash', 'album': 'At Folsom Prison', 'tracks': ['Opening Announcements from Hugh Cherry - Live at Folsom State Prison, Folsom, CA (1st Show) - January 1968', 'Blue Suede Shoes - Live at Folsom State Prison, Folsom, CA (1st Show) - January 1968', 'This Ole House - Live at Folsom State Prison, Folsom, CA (1st Show) - January 1968', 'Announcements and Johnny Cash Intro from Hugh Cherry - Live at Folsom State Prison, Folsom, CA (1st Show) - January 1968', 'Folsom Prison Blues - Live at Folsom State Prison, Folsom, CA (1st Show) - January 1968', 'Busted - Live at Folsom State Prison, Folsom, CA (1st Show) - January 1968', 'Dark as a Dungeon - Live at Folsom State Prison, Folsom, CA (1st Show) - January 1968', 'I Still Miss Someone - Live at Folsom State Prison, Folsom, CA (1st Show) - January 1968', 'Cocaine Blues - Live at Folsom State Prison, Folsom, CA (1st Show) - January 1968', '25 Minutes to Go - Live at Folsom State Prison, Folsom, CA (1st Show) - January 1968', \"I'm Here to Get My Baby Out of Jail - Live at Folsom State Prison, Folsom, CA (1st Show) - January 1968\", 'Orange Blossom Special - Live at Folsom State Prison, Folsom, CA (1st Show) - January 1968', 'The Long Black Veil - Live at Folsom State Prison, Folsom, CA (1st Show) - January 1968', 'Send a Picture of Mother - Live at Folsom State Prison, Folsom, CA (1st Show) - January 1968', 'The Wall - Live at Folsom State Prison, Folsom, CA (1st Show) - January 1968', \"Dirty Old Egg-Suckin' Dog - Live at Folsom State Prison, Folsom, CA (1st Show) - January 1968\", 'Flushed from the Bathroom of Your Heart - Live at Folsom State Prison, Folsom, CA (1st Show) - January 1968', 'Joe Bean - Live at Folsom State Prison, Folsom, CA (1st Show) - January 1968', 'Jackson - Live at Folsom State Prison, Folsom, CA (1st Show) - January 1968', 'I Got a Woman (with June Carter Cash) - Live at Folsom State Prison, Folsom, CA (1st Show) - January 1968', \"The Legend of John Henry's Hammer - Live at Folsom State Prison, Folsom, CA (1st Show) - January 1968\", \"June's Poem - Live at Folsom State Prison, Folsom, CA (1st Show) - January 1968\", 'Green, Green Grass of Home - Live at Folsom State Prison, Folsom, CA (1st Show) - January 1968', 'Greystone Chapel - Live at Folsom State Prison, Folsom, CA (1st Show) - January 1968', 'Closing Theme and Announcements - Live at Folsom State Prison, Folsom, CA (1st Show) - January 1968', 'The Old Spinning Wheel - Live at Folsom State Prison, Folsom, CA (2nd Show) - January 1968', 'Opening Announcements from Hugh Cherry - Live at Folsom State Prison, Folsom, CA (2nd Show) - January 1968', 'Matchbox - Live at Folsom State Prison, Folsom, CA (2nd Show) - January 1968', 'Blue Suede Shoes - Live at Folsom State Prison, Folsom, CA (2nd Show) - January 1968', \"You Can't Have Your Kate and Edith, Too - Live at Folsom State Prison, Folsom, CA (2nd Show) - January 1968\", 'Flowers On the Wall - Live at Folsom State Prison, Folsom, CA (2nd Show) - January 1968', 'How Great Thou Art - Live at Folsom State Prison, Folsom, CA (2nd Show) - January 1968', 'Announcements and Johnny Cash Intro from Hugh Cherry - Live at Folsom State Prison, Folsom, CA (2nd Show) - January 1968', 'Folsom Prison Blues - Live at Folsom State Prison, Folsom, CA (2nd Show) - January 1968', 'Busted - Live at Folsom State Prison, Folsom, CA (2nd Show) - January 1968', 'Dark as a Dungeon - Live at Folsom State Prison, Folsom, CA (2nd Show) - January 1968', 'Cocaine Blues - Live at Folsom State Prison, Folsom, CA (2nd Show) - January 1968', '25 Minutes to Go - Live at Folsom State Prison, Folsom, CA (2nd Show) - January 1968', 'Orange Blossom Special - Live at Folsom State Prison, Folsom, CA (2nd Show) - January 1968', \"The Legend of John Henry's Hammer - Live at Folsom State Prison, Folsom, CA (2nd Show) - January 1968\", 'Give My Love to Rose - Live at Folsom State Prison, Folsom, CA (2nd Show) - January 1968', 'Dirty Old Egg-Sucking Dog - Live at Folsom State Prison, Folsom, CA (2nd Show) - January 1968', 'Flushed from the Bathroom of Your Heart - Live at Folsom State Prison, Folsom, CA (2nd Show) - January 1968', 'Joe Bean - Live at Folsom State Prison, Folsom, CA (2nd Show) - January 1968', 'Jackson - Live at Folsom State Prison, Folsom, CA (2nd Show) - January 1968', \"Long-Legged Guitar Pickin' Man - Live at Folsom State Prison, Folsom, CA (2nd Show) - January 1968\", 'I Got Stripes - Live at Folsom State Prison, Folsom, CA (2nd Show) - January 1968', 'Green, Green Grass of Home - Live at Folsom State Prison, Folsom, CA (2nd Show) - January 1968', 'Greystone Chapel (Reprise) - Live at Folsom State Prison, Folsom, CA (2nd Show) - January 1968', 'Greystone Chapel (Reprise) - Live at Folsom State Prison, Folsom, CA (2nd Show) - January 1968']}, {'artist': 'Dusty Springfield', 'album': 'Dusty in Memphis', 'tracks': [\"Just A Little Lovin'\", 'So Much Love', 'Son Of A Preacher Man', \"I Don't Want To Hear It Anymore\", \"Don't Forget About Me\", 'Breakfast In Bed', 'Just One Smile', 'The Windmills Of Your Mind', 'In The Land Of Make Believe', 'No Easy Way Down', \"I Can't Make It Alone\", 'What Do You Do When Love Dies', 'Willie & Laura Mae Jones', 'That Old Sweet Roll (Hi-De-Ho)', 'Cherished - Previously unissued Version', 'Goodbye', 'Make It With You - Previously unissued Version', 'Love Shine Down - Previously unissued Version', 'Live Here With You - Previously unissued Version', 'Natchez Trace - Previously unissued Version', \"All The King's Horses - Previously unissued Version\", \"I'll Be Faithful - Stereo Version\", 'Have A Good Life Baby - Previously unissued Version', \"You've Got A Friend - Previously unissued Version\", 'I Found My Way - Previously unissued Version']}, {'artist': 'Stevie Wonder', 'album': 'Talking Book', 'tracks': ['You Are The Sunshine Of My Life', 'Maybe Your Baby', 'You And I', 'Tuesday Heartbreak', \"You've Got It Bad Girl\", 'Superstition', 'Big Brother', 'Blame It On The Sun', \"Lookin' For Another Pure Love\", 'I Believe (When I Fall In Love It Will Be Forever)']}, {'artist': 'Elton John', 'album': 'Goodbye Yellow Brick Road', 'tracks': ['Funeral For A Friend / Love Lies Bleeding', 'Candle In The Wind - Remastered 2014', 'Bennie And The Jets - Remastered 2014', 'Goodbye Yellow Brick Road - Remastered 2014', 'This Song Has No Title - Remastered 2014', 'Grey Seal - Remastered 2014', 'Jamaica Jerk-Off - Remastered 2014', \"I've Seen That Movie Too - Remastered 2014\", 'Sweet Painted Lady - Remastered 2014', 'The Ballad Of Danny Bailey (1909-1934) - Remastered 2014', 'Dirty Little Girl - Remastered 2014', 'All The Girls Love Alice - Remastered 2014', \"Your Sister Can't Twist (But She Can Rock'n' Roll) - Remastered 2014\", 'Saturday Night’s Alright (For Fighting) - Remastered', 'Roy Rogers - Remastered 2014', 'Social Disease - Remastered 2014', 'Harmony - Remastered 2014']}, {'artist': 'Buddy Holly', 'album': '20 Golden Greats', 'tracks': ['The Air That I Breathe', 'Carrie Anne', 'Bus Stop', 'Listen To Me', 'Look Through Any Window', \"I Can't Let Go\", 'Long Cool Woman (In A Black Dress)', 'Here I Go Again', \"I Can't Tell the Bottom from the Top\", \"I'm Alive\", 'Yes I Will', 'Stay', 'Sorry Suzanne', 'Gasoline Alley Bred', \"We're Through\", 'Jennifer Eccles', 'Stop Stop Stop', 'On a Carousel', 'Just One Look', \"He Ain't Heavy He's My Brother\"]}, {'artist': 'Prince', 'album': \"Sign 'O' the Times\", 'tracks': [\"Sign 'O' The Times\", 'Play In The Sunshine', 'Housequake', 'The Ballad Of Dorothy Parker', 'It', 'Starfish And Coffee', 'Slow Love', 'Hot Thing', 'Forever In My Life', 'U Got The Look', 'If I Was Your Girlfriend', 'Strange Relationship', 'I Could Never Take The Place Of Your Man', 'The Cross', \"It's Gonna Be A Beautiful Night - Live\", 'Adore']}, {'artist': 'Hank Williams', 'album': '40 Greatest Hits', 'tracks': ['Move It On Over - Single Version', 'A Mansion On The Hill - Single Version', 'Lovesick Blues - Single Version', 'Wedding Bells - Single Version', 'Mind Your Own Business - Single Version', \"You're Gonna Change (Or I'm Gonna Leave) - Single Version\", 'Lost Highway - Single Version', \"My Bucket's Got A Hole In It - Single Version\", \"I'm So Lonesome I Could Cry - Single Version\", \"I Just Don't Like This Kind Of Living - Single Version\", 'Long Gone Lonesome Blues - Single Version', 'My Son Calls Another Man Daddy - MGM Single Version', \"Why Don't You Love Me - Single Version\", 'Why Should We Try Anymore - Single Version', \"They'll Never Take Her Love From Me - Single Version\", \"Moanin' The Blues - Single Version\", \"Nobody's Lonesome For Me - Single Version\", 'Cold, Cold Heart - Single Version', 'Dear John - Single Version', \"Howlin' At The Moon - Single Version\", \"I Can't Help It (If I'm Still In Love With You) - Single Version\", \"Hey, Good Lookin' - Single Version\", 'Crazy Heart - Single Version', '(I Heard That) Lonesome Whistle - Single Version', \"Baby We're Really In Love - Single Version\", \"Ramblin' Man - Single Version\", 'Honky Tonk Blues - 1952 Single Version', \"I'm Sorry For You My Friend - Single Version\", 'Half As Much - Single Version', 'Jambalaya (On The Bayou) - Single Version', 'Window Shopping - Single Version', \"Settin' The Woods On Fire - Single Version\", 'You Win Again - Single Version', \"I'll Never Get Out Of This World Alive - Single Version\", 'Kaw-Liga - Single Version', \"Your Cheatin' Heart - Single Version\", 'Take These Chains From My Heart - Single Version', \"I Won't Be Home No More - Single Version\", \"Weary Blues From Waitin' - Single Version (Dubbed)\", 'I Saw The Light - Single Version']}, {'artist': 'Miles Davis', 'album': 'Bitches Brew', 'tracks': [\"Pharaoh's Dance\", 'Bitches Brew', 'Spanish Key', 'John McLaughlin', 'Miles Runs the Voodoo Down', 'Sanctuary', 'Spanish Key - alternate take', 'John McLaughlin - alternate take', 'Miles Runs the Voodoo Down - 45-rpm single edit', 'Spanish Key', 'Great Expectations', 'Little Blue Frog']}, {'artist': 'The Who', 'album': 'Tommy', 'tracks': ['Overture', \"It's A Boy\", '1921', 'Amazing Journey', 'Sparks', 'Eyesight To The Blind (The Hawker)', 'Christmas', 'Cousin Kevin', 'The Acid Queen', 'Underture', \"Do You Think It's Alright?\", 'Fiddle About', 'Pinball Wizard', \"There's A Doctor\", 'Go To The Mirror!', 'Tommy Can You Hear Me?', 'Smash The Mirror', 'Sensation', 'Miracle Cure', 'Sally Simpson', \"I'm Free\", 'Welcome', \"Tommy's Holiday Camp\", \"We're Not Gonna Take It\", 'Overture - Demo', \"It's A Boy - Demo\", '1921 - Demo', 'Amazing Journey - Demo', 'Dream One - Demo', 'Sparks - Demo', 'The Hawker (Eyesight To The Blind) - Demo', 'Christmas - Demo', 'The Acid Queen - Demo', 'Underture (Dream Two) - Demo', \"Do You Think It's Alright? - Demo\", 'Pinball Wizard - Demo', \"There's A Doctor - Demo\", 'Go To The Mirror! - Demo', 'Success - Demo', 'Tommy, Can You Hear Me? - Demo', 'Smash The Mirror - Demo', 'Sensation - Demo', 'Miracle Cure - Demo', 'Sally Simpson - Demo', \"I'm Free - Demo\", 'Welcome - Demo', \"We're Not Gonna Take It - Demo\", 'Trying To Get Through - Studio Demo/ Out Take', 'Young Man Blues - Studio Recording', 'Overture (Including Introduction) - Live In Canada / 1969']}, {'artist': 'Bob Dylan', 'album': \"The Freewheelin' Bob Dylan\", 'tracks': [\"Blowin' In the Wind\", 'Girl from the North Country', 'Masters of War', 'Down the Highway', \"Bob Dylan's Blues\", \"A Hard Rain's A-Gonna Fall\", \"Don't Think Twice, It's All Right\", \"Bob Dylan's Dream\", 'Oxford Town', \"Talkin' World War III Blues\", 'Corrina, Corrina', 'Honey, Just Allow Me One More Chance', 'I Shall Be Free']}, {'artist': 'Elvis Costello', 'album': \"This Year's Model\", 'tracks': ['No Action', \"This Year's Girl\", 'The Beat', 'Pump It Up', 'Little Triggers', 'You Belong To Me', 'Hand In Hand', \"(I Don't Want To Go To) Chelsea\", 'Lip Service', 'Living In Paradise', 'Lipstick Vogue', 'Night Rally', 'Radio, Radio']}, {'artist': 'Sly & The Family Stone', 'album': \"There's a Riot Goin' On\", 'tracks': [\"Luv N' Haight - Single Version\", 'Just Like a Baby', 'Poet', 'Family Affair - Single Version', 'Africa Talks to You (\"The Asphalt Jungle\")', \"There's a Riot Goin' On\", 'Brave & Strong - Single Version', \"(You Caught Me) Smilin' - Single Version\", 'Time', 'Spaced Cowboy', \"Runnin' Away - Single Version\", \"Thank You for Talkin' to Me, Africa\", \"Runnin' Away - single master\", 'My Gorilla Is My Butler - Instrumental', 'Do You Know What? - Instrumental', \"That's Pretty Clean - Instrumental\"]}, {'artist': 'The Zombies', 'album': 'Odessey and Oracle', 'tracks': ['Care Of Cell 44', 'A Rose For Emily', \"Maybe After He's Gone (Mono Version)\", 'Beechwood Park (Mono Version)', 'Brief Candles (Mono Version)', 'Hung Up On A Dream (Mono Version)', 'Changes', 'I Want Her She Wants Me', 'This Will Be Our Year', \"Butcher's Tale (Western Front 1914) [Mono Version]\", 'Friends Of Mine (Mono Version)', 'Time Of The Season (Mono Version)']}, {'artist': 'Frank Sinatra', 'album': 'In the Wee Small Hours', 'tracks': ['In The Wee Small Hours Of The Morning - 1998 Digital Remaster', 'Mood Indigo - 1998 Digital Remaster', 'Glad To Be Unhappy - 1998 Digital Remaster', 'I Get Along Without You Very Well - 1998 Digital Remaster', 'Deep In A Dream - 1998 Digital Remaster', 'I See Your Face Before Me - 1998 Digital Remaster', \"Can't We Be Friends? - 1998 Digital Remaster\", 'When Your Lover Has Gone - 1998 Digital Remaster', 'What Is This Thing Called Love - 1998 Digital Remaster', 'Last Night When We Were Young - 1998 Digital Remaster', \"I'll Be Around - 1998 Digital Remaster\", 'Ill Wind - 1998 Digital Remaster', 'It Never Entered My Mind - 1998 Digital Remaster', 'Dancing On The Ceiling - 1998 Digital Remaster', \"I'll Never Be The Same - 1998 Digital Remaster\", 'This Love Of Mine - 1998 Digital Remaster']}, {'artist': 'Cream', 'album': 'Fresh Cream', 'tracks': ['I Feel Free', 'N.S.U.', 'Sleepy Time Time', 'Dreaming', 'Sweet Wine', 'Spoonful', \"Cat's Squirrel\", 'Four Until Late', \"Rollin' And Tumblin'\", \"I'm So Glad\", 'Toad']}, {'artist': 'John Coltrane', 'album': 'Giant Steps', 'tracks': ['Giant Steps', 'Cousin Mary', 'Countdown', 'Spiral', \"Syeeda's Song Flute\", 'Naima', 'Mr. P.C.', 'Giant Steps - Alternate Version, Take 1, Incomplete', 'Naima - Alternate Version, Take 1, Incomplete', 'Cousin Mary - Alternate Take', 'Countdown', \"Syeeda's Song Flute - Alternate Take\", 'Giant Steps - Alternate Version, Take 2, False Start', 'Naima - Alternate Version, Take 2, False Start', 'Giant Steps - Alternate Take']}, {'artist': 'James Taylor', 'album': 'Sweet Baby James', 'tracks': ['Sweet Baby James', 'Lo And Behold', 'Sunny Skies', 'Steamroller', 'Country Road', 'Oh, Susannah', 'Fire And Rain', 'Blossom', 'Anywhere Like Heaven', \"Oh Baby, Don't You Loose Your Lip On Me\", 'Suite For 20 G']}, {'artist': 'Ramones', 'album': 'Rocket to Russia', 'tracks': ['Cretin Hop - Remastered Version', 'Rockaway Beach - Remastered Version', 'Here Today, Gone Tomorrow - Remastered Version', 'Locket Love - Remastered', \"I Don't Care - Remastered Version\", 'Sheena Is a Punk Rocker - 2001 Remastered Version', \"We're A Happy Family - Remastered Version\", 'Teenage Lobotomy - Remastered Version', 'Do You Wanna Dance - Remastered', 'I Wanna Be Well - Remastered', \"I Can't Give You Anything - Remastered\", 'Ramona - Remastered', \"Surfin' Bird - Remastered Version\", 'Why Is It Always This Way - Remastered']}, {'artist': 'Sam Cooke', 'album': 'Portrait of a Legend 1951-1964', 'tracks': ['Touch The Hem Of His Garment', 'Lovable', 'You Send Me', 'Only Sixteen', '(I Love You) For Sentimental Reasons', 'Just For You', 'Win Your Love For Me', 'Everybody Loves To Cha Cha Cha', \"I'll Come Running Back To You\", 'You Were Made For Me', 'Sad Mood', 'Cupid', '(What A) Wonderful World', 'Chain Gang', 'Summertime', 'Little Red Rooster', 'Bring It On Home To Me', 'Nothing Can Change This Love', 'Sugar Dumpling', \"(Ain't That) Good News\", \"Meet Me At Mary's Place\", \"Twistin' The Night Away\", 'Shake', 'Tennessee Waltz', 'Another Saturday Night', 'Good Times', 'Having A Party', \"That's Where It's At\", 'A Change Is Gonna Come', 'Jesus Gave Me Water', 'Soul - Hidden Track']}, {'artist': 'David Bowie', 'album': 'Hunky Dory', 'tracks': ['Changes - 2015 Remastered Version', 'Oh! You Pretty Things - 2015 Remastered Version', 'Eight Line Poem - 2015 Remastered Version', 'Life On Mars? - 2015 Remastered Version', 'Kooks - 2015 Remastered Version', 'Quicksand - 2015 Remastered Version', 'Fill Your Heart - 2015 Remastered Version', 'Andy Warhol - 2015 Remastered Version', 'Song For Bob Dylan - 2015 Remastered Version', 'Queen Bitch - 2015 Remastered Version', 'The Bewlay Brothers - 2015 Remastered Version']}, {'artist': 'The Rolling Stones', 'album': 'Aftermath', 'tracks': ['Paint It, Black', 'Stupid Girl', 'Lady Jane', 'Under My Thumb', 'Doncha Bother Me', 'Think', 'Flight 505', 'High And Dry', \"It's Not Easy\", 'I Am Waiting', 'Going Home']}, {'artist': 'The Velvet Underground', 'album': 'Loaded', 'tracks': ['Who Loves The Sun - 2015 Remastered', 'Sweet Jane - Full Length 2015 Remastered', 'Rock & Roll - 2015 Remastered Full Length Version', 'Cool It Down - 2015 Remastered', 'New Age - 2015 Remastered Full Length Version', 'Head Held High - 2015 Remastered', 'Lonesome Cowboy Bill - 2015 Remastered', 'I Found A Reason - 2015 Remastered', 'Train Round The Bend - 2015 Remastered', \"Oh! Sweet Nuthin' - 2015 Remastered\", \"I'm Sticking With You - 2015 Remastered Session Outtake Version\", 'Ocean - 2015 Remastered Session Outtake Version', 'I Love You - 2015 Remastered Session Outtake Version', 'Ride Into The Sun - 2015 Remastered Session Outtake', 'Who Loves The Sun (Mono) - 2015 Remastered', 'Sweet Jane (Mono) - 2015 Remastered', 'Rock & Roll (Mono) - 2015 Remastered', 'Cool It Down (Mono) - 2015 Remastered', 'New Age (Mono) - 2015 Remastered', 'Head Held High (Mono) - 2015 Remastered', 'Lonesome Cowboy Bill (Mono) - 2015 Remastered', 'I Found A Reason (Mono) - 2015 Remastered', 'Train Round The Bend (Mono) - 2015 Remastered', \"Oh! Sweet Nuthin' (Mono) - 2015 Remastered\", 'Who Loves The Sun (Mono) - 2015 Remastered Single', \"Oh! Sweet Nuthin' (Mono) - 2015 Remastered Single\", 'Rock & Roll (Mono) - 2015 Remastered Unissued Single', 'Lonesome Cowboy Bill (Mono) - 2015 Remastered Unissued Single', 'Rock & Roll (Demo) - 2015 Remastered', 'Sad Song - 2015 Remastered Demo Version', 'Satellite Of Love - 2015 Remastered Demo Version', 'Walk And Talk - 2015 Remastered Demo Version', 'Oh Gin - 2015 Remastered Demo Version', 'Ocean - 2015 Remastered Demo Version', 'I Love You - 2015 Demo Version', 'Love Makes You Feel Ten Feet Tall - Demo Remix; 2015 Remastered', 'I Found A Reason - 2015 Remastered Demo', 'Cool It Down - 2015 Remastered Early Version Remix', 'Sweet Jane - 2015 Remastered Early Version Remix', 'Lonesome Cowboy Bill - 2015 Remastered Early Version Remix', 'Head Held High - 2015 Remastered Early Version Remix', \"Oh! Sweet Nuthin' - 2015 Remastered Early Version Remix\", 'Who Loves The Sun - 2015 Remastered Alternate Mix', 'Sweet Jane - 2015 Remastered Alternate Mix', 'Cool It Down - 2015 Remastered Alternate Mix', 'Lonesome Cowboy Bill - 2015 Remastered Alternate Mix', 'Train Round The Bend - 2015 Remastered Alternate Mix', 'Head Held High - 2015 Remastered Alternate Mix', 'Rock & Roll - 2015 Remastered Alternate Mix', \"I'm Waiting for the Man - Live at Max's Kansas City 2015 Remastered\"]}, {'artist': 'Radiohead', 'album': 'The Bends', 'tracks': ['Planet Telex', 'The Bends', 'High And Dry', 'Fake Plastic Trees', 'Bones', '(Nice Dream)', 'Just', 'My Iron Lung', 'Bullet Proof ... I Wish I Was', 'Black Star', 'Sulk', 'Street Spirit (Fade Out)']}, {'artist': 'The Mamas and the Papas', 'album': 'If You Can Believe Your Eyes and Ears', 'tracks': ['Monday, Monday - Single Version', 'Straight Shooter', \"Got A Feelin'\", 'I Call Your Name', 'Do You Wanna Dance', 'Go Where You Wanna Go', \"California Dreamin' - Single Version\", 'Spanish Harlem', 'Somebody Groovy - Single Version', 'Hey Girl', 'You Baby', 'The \"In\" Crowd']}, {'artist': 'Joni Mitchell', 'album': 'Court and Spark', 'tracks': ['Court And Spark', 'Help Me', 'Free Man In Paris', \"People's Parties\", 'The Same Situation', 'Car On A Hill', 'Down To You', 'Just Like This Train', 'Raised On Robbery', 'Trouble Child', 'Twisted']}, {'artist': 'Cream', 'album': 'Disraeli Gears', 'tracks': ['Strange Brew', 'Sunshine Of Your Love', 'World Of Pain', 'Dance The Night Away', 'Blue Condition', 'Tales Of Brave Ulysses', 'SWLABR', \"We're Going Wrong\", 'Outside Woman Blues', 'Take It Back', \"Mother's Lament\"]}, {'artist': 'The Who', 'album': 'The Who Sell Out', 'tracks': ['Armenia City In The Sky - Includes Two \"Radio London\" Jingles', 'Heinz Baked Beans - Includes \"More Music\" Jingle', 'Mary Anne With The Shaky Hand - Acoustic / Includes \"Premier Drums\" Commercial / \"Radio London\" Jingle', 'Odorono - Includes \"Radio London\" \\'Smooth Sailing\\' Jingle', 'Tattoo - Includes \"Church Of Your Choice\" Jingle', 'Our Love Was - Includes \"Pussycat\" / \"Speakeasy\" / \"Rotosound\" Jingles And Commercials', 'I Can See For Miles', 'I Can\\'t Reach You - Includes \"Charles Atlas\" Commercial', 'Medac', 'Relax', 'Silas Stingy', 'Sunrise', 'Rael - Pt. 1 & 2', 'Rael - Naive - Includes \"John Mason\\'s Cars\" (Rehearsal) Commercial', 'Someone\\'s Coming - Includes \"Radio London\" \\'Weather Word\\' Jingle', 'Early Morning Cold Taxi - Includes \"Radio London\" News Bulletin Jingle', 'Jaguar - Includes \\'Extra Wonderful\\' \"Radio London\" Jingle', 'Coke After Coke', 'Glittering Girl', 'Summertime Blues', 'John Mason Cars', 'Girl\\'s Eyes - Includes \"Bag O\\' Nails\" Jingle', 'Sodding About', 'Premier Drums', 'Odorono - Final Chorus', 'Mary Anne With The Shaky Hand - Mirasound Version', 'Things Go Better With Coke', 'In The Hall Of The Mountain King', 'Top Gear', 'Rael - Pt. 1 & 2 / Remake Version / Includes Track Records Jingle', 'Armenia City In The Sky', 'Heinz Baked Beans', 'Mary Anne With The Shaky Hand - Mono Version', 'Odorono', 'Tattoo', 'Our Love Was', 'I Can See For Miles - Mono Version', \"I Can't Reach You\", 'Medac - Mono Version', 'Relax - Mono Version', 'Silas Stingy - Mono Version', 'Sunrise - Mono Version', 'Rael - Pt. 1 & 2 / Including Track Records Run-Off Groove', 'Mary Anne With The Shaky Hand - Alternative Or Second Version', \"Someone's Coming\", 'Relax - Early Rehearsal', 'Jaguar - Mono Mix', 'Glittering Girl - Extended Version', 'Tattoo - Early Mono Mix', 'Our Love Was - Take 12 / Rejected Mono Mix']}, {'artist': 'The Rolling Stones', 'album': 'Out of Our Heads', 'tracks': ['Mercy Mercy - Remastered 2002', 'Hitch Hike - Remastered 2002', 'The Last Time - Remastered 2002', \"That's How Strong My Love Is - Remastered 2002\", 'Good Times - Remastered 2002', \"I'm Alright - Live / Remastered 2002\", \"(I Can't Get No) Satisfaction - Mono Version / Remastered 2002\", 'Cry To Me - Remastered 2002', 'The Under Assistant West Coast Promotion Man - Edit / Remastered 2002', 'Play With Fire - Mono Version / Remastered 2002', 'The Spider And The Fly - Remastered 2002', 'One More Try - Remastered 2002']}, {'artist': 'Derek and the Dominos', 'album': 'Layla and Other Assorted Love Songs', 'tracks': ['I Looked Away - 40th Anniversary Version / 2010 Remastered', 'Bell Bottom Blues - 40th Anniversary Version / 2010 Remastered', 'Keep On Growing - 40th Anniversary Version / 2010 Remastered', \"Nobody Knows You When You're Down And Out - 40th Anniversary Version / 2010 Remastered\", 'I Am Yours - 40th Anniversary Version / 2010 Remastered', 'Anyday - 40th Anniversary Version / 2010 Remastered', 'Key To The Highway - 40th Anniversary Version / 2010 Remastered', 'Tell The Truth - 40th Anniversary Version / 2010 Remastered', 'Why Does Love Got To Be So Sad? - 40th Anniversary Version / 2010 Remastered', 'Have You Ever Loved A Woman? - 40th Anniversary Version / 2010 Remastered', 'Little Wing - 40th Anniversary Version / 2010 Remastered', \"It's Too Late - 40th Anniversary Version / 2010 Remastered\", 'Layla - 40th Anniversary Version / 2010 Remastered', 'Thorn Tree In The Garden - 40th Anniversary Version / 2010 Remastered']}, {'artist': 'Kanye West', 'album': 'Late Registration', 'tracks': ['Wake Up Mr. West', \"Heard 'Em Say\", 'Touch The Sky', 'Gold Digger', 'Skit #1', 'Drive Slow', 'My Way Home', 'Crack Music', 'Roses', 'Bring Me Down', 'Addiction', 'Skit #2', 'Diamonds From Sierra Leone - Remix', 'We Major', 'Skit #3', 'Hey Mama', 'Celebration', 'Skit #4', 'Gone', 'Diamonds From Sierra Leone - Bonus Track', 'Late']}, {'artist': 'Etta James', 'album': 'At Last!', 'tracks': ['Holy Ghost', 'Canal St.', 'Fine Whine', 'L$D', 'Excuse Me', 'JD', 'Lord Pretty Flacko Jodye 2 (LPFJ2)', 'Electric Body', 'Jukebox Joints', 'Max B', 'Pharsyde', 'Wavybone', 'West Side Highway', 'Better Things', \"M'$\", 'Dreams (Interlude)', 'Everyday', 'Back Home']}, {'artist': 'The Byrds', 'album': 'Sweetheart of the Rodeo', 'tracks': [\"You Ain't Goin' Nowhere\", 'I Am a Pilgrim', 'The Christian Life', \"You Don't Miss Your Water\", \"You're Still On My Mind\", 'Pretty Boy Floyd', 'Hickory Wind', 'One Hundred Years from Now', 'Blue Canadian Rockies', 'Life in Prison', 'Nothing Was Delivered', 'You Got A Reputation', 'Lazy Days', 'Pretty Polly', 'The Christian Life - rehearsal - take #11', 'Life In Prison - rehearsal - take #11', \"You're Still On My Mind - rehearsal - take #43\", 'One Hundred Years From Now - rehearseal - take #2', 'All I Have Are Memories - instrumental']}, {'artist': 'Sly & The Family Stone', 'album': 'Stand!', 'tracks': ['Intro', 'Love in This Club', \"This Ain't Sex\", 'Trading Places', 'Moving Mountains', \"What's Your Name\", 'Prayer for You Interlude', 'Something Special', 'Love You Gently', 'Best Thing', 'Before I Met You', 'His Mistakes', 'Appetite', \"What's a Man to Do\", 'Lifetime', 'Love in This Club, Pt. II', 'Here I Stand', 'Will Work for Love - f/k/a Hidden Bonus Track']}, {'artist': 'Various Artists', 'album': 'The Harder They Come', 'tracks': ['You Can Get It If You Really Want', 'Draw Your Brakes', 'Rivers Of Babylon', 'Many Rivers To Cross - Harder They Come/Soundtrack Version', 'Sweet And Dandy', 'The Harder They Come', 'Johnny Too Bad', '007 (Shanty Town)', 'Pressure Drop - Single Version', 'Sitting In Limbo', 'You Can Get It If You Really Want - Instrumental', 'The Harder They Come - Single Version']}, {'artist': 'Run D.M.C.', 'album': 'Raising Hell', 'tracks': ['Peter Piper', \"It's Tricky\", 'My Adidas', 'Walk This Way', 'Is It Live', 'Perfection', 'Hit It Run', 'Raising Hell', \"You Be Illin'\", 'Dumb Girl', 'Son Of Byford', 'Proud to Be Black']}, {'artist': 'Moby Grape', 'album': 'Moby Grape', 'tracks': ['Hey Grandma', 'Mr. Blues', 'Fall On You', '8:05', 'Come In The Morning', 'Omaha', 'Naked, If I Want To', 'Someday', \"Ain't No Use\", 'Sitting By The Window', 'Changes', 'Lazy Me', 'Indifference', 'Rounder - Instrumental', 'Looper - Audition Version (Mono)', 'Indifference - Audition Version (Mono)', 'Bitter Wind', 'Sweet Ride (Never Again) - Long Version']}, {'artist': 'Janis Joplin', 'album': 'Pearl', 'tracks': ['Move Over', 'Cry Baby', 'A Woman Left Lonely', 'Half Moon', 'Buried Alive In the Blues', 'My Baby', 'Me and Bobby McGee', 'Mercedes Benz', 'Trust Me', 'Get It While You Can', 'Happy Birthday, John (Happy Trails)', 'Me and Bobby McGee - Demo Version', 'Move Over - Alternate Version', 'Cry Baby - Alternate Version', 'My Baby - Alternate Version', 'Pearl - Instrumental', 'Tell Mama - Live', 'Half Moon - Live', 'Move Over - Live', 'Maybe - Live', 'Summertime - Live', 'Little Girl Blue - Live', \"That's Rock 'n Roll - Live\", 'Try (Just a Little Bit Harder) - Live', 'Kozmic Blues - Live', 'Piece of My Heart - Live', 'Cry Baby - Live', 'Get It While You Can - Live', 'Ball and Chain - Live']}, {'artist': 'The Wailers', 'album': 'Catch a Fire', 'tracks': ['Concrete Jungle - Jamaican Version', 'Stir It Up - Jamaican Version', 'High Tide Or Low Tide - Jamaican Version', 'Stop That Train - Jamaican Version', '400 Years - Jamaican Version', \"Baby We've Got A Date (Rock It Baby) - Jamaican Version\", 'Midnight Ravers - Jamaican Version', 'All Day All Night - Jamaican Version', 'Slave Driver - Jamaican Version', 'Kinky Reggae - Jamaican Version', 'No More Trouble - Jamaican Version', 'Concrete Jungle - Original Album Version', 'Slave Driver - Original Album Version', '400 Years - Original Album Version', 'Stop That Train - Original Album Version', \"Baby We've Got A Date (Rock It Baby) - Original Album Version\", 'Stir It Up - Original Album Version', 'Kinky Reggae - Original Album Version', 'No More Trouble - Original Album Version', 'Midnight Ravers - Original Album Version']}, {'artist': 'The Byrds', 'album': 'Younger Than Yesterday', 'tracks': [\"So You Want to Be a Rock 'N' Roll Star\", 'Have You Seen Her Face', 'C.T.A. - 102', 'Renaissance Fair - Single Version', 'Time Between', \"Everybody's Been Burned - Single Version\", 'Thoughts and Words', 'Mind Gardens', 'My Back Pages', 'The Girl With No Name', 'Why', 'It Happens Each Day', \"Don't Make Waves - Single Version\", 'My Back Pages', 'Mind Gardens', 'Lady Friend - Single Version', 'Old John Robertson - Single Version']}, {'artist': 'Iggy and The Stooges', 'album': 'Raw Power', 'tracks': ['Search and Destroy - Iggy Pop Mix', \"Gimme Danger - Alternate 'Violent' Iggy Mix\", \"Your Pretty Face Is Going to Hell - Alternate 'Violent' Iggy Mix\", 'Penetration - Iggy Pop Mix', 'Raw Power - Iggy Pop Mix', 'I Need Somebody - Iggy Pop Mix', 'Shake Appeal - Iggy Pop Mix', 'Death Trip - Iggy Pop Mix']}, {'artist': 'Talking Heads', 'album': 'Remain in Light', 'tracks': ['Born Under Punches (The Heat Goes On) - 2005 Remastered Version', 'Crosseyed And Painless - 2005 Remastered Version', 'The Great Curve - 2005 Remastered Version', 'Once In A Lifetime - 2005 Remastered Version', 'Houses In Motion - 2005 Remastered Version', 'Seen And Not Seen - 2005 Remastered Version', 'Listening Wind - 2005 Remastered Version', 'The Overload - 2005 Remastered Version', \"Fela's Riff - Unfinished Outtake\", 'Unison - Unfinished Outtake', 'Double Groove - Unfinished Outtake', 'Right Start - Unfinished Outtake']}, {'artist': 'Television', 'album': 'Marquee Moon', 'tracks': ['See No Evil', 'Venus', 'Friction', 'Marquee Moon', 'Elevation', 'Guiding Light', 'Prove It', 'Torn Curtain']}, {'artist': 'Black Sabbath', 'album': 'Paranoid', 'tracks': [\"War Pigs/Luke's Wall - Remastered Version\", 'Paranoid - Remastered Version', 'Planet Caravan - Remastered Version', 'Iron Man - Remastered Version', 'Electric Funeral - Remastered Version', 'Hand Of Doom - Remastered Version', 'Rat Salad - Remastered Version', 'Jack The Stripper/Fairies Wear Boots - Remastered Version']}, {'artist': 'Various Artists', 'album': 'Saturday Night Fever: The Original Movie Soundtrack Deluxe Edition', 'tracks': ['Stayin\\' Alive - From \"Saturday Night Fever\" Soundtrack', 'How Deep Is Your Love', 'Night Fever', 'More Than A Woman', 'If I Can\\'t Have You - From \"Saturday Night Fever\"', 'A Fifth Of Beethoven', 'More Than A Woman', 'Manhattan Skyline', 'Calypso Breakdown', 'Night On Disco Mountain', 'Open Sesame', \"Jive Talkin'\", 'You Should Be Dancing - Edit', 'Boogie Shoes', 'Salsation', 'K-Jee', 'Disco Inferno', 'Stayin’ Alive - Serban Mix', 'Night Fever - Serban Mix', 'How Deep Is Your Love - Serban Mix', 'You Should Be Dancing - Serban Mix']}, {'artist': 'Bruce Springsteen', 'album': 'The Wild, the Innocent & the E Street Shuffle', 'tracks': ['The E Street Shuffle', '4th of July, Asbury Park (Sandy)', \"Kitty's Back\", \"Wild Billy's Circus Story\", 'Incident on 57th Street', 'Rosalita (Come Out Tonight)', 'New York City Serenade']}, {'artist': 'The Notorious B.I.G.', 'album': 'Ready to Die', 'tracks': ['Intro', 'Things Done Changed', 'Gimme The Loot', 'Machine Gun Funk', 'Warning', 'Ready To Die', 'One More Chance', '#!*@ Me - Interlude', 'The What', 'Juicy', 'Everyday Struggle', 'Me And My B*tch', 'Big Poppa', 'Respect', 'Friend Of Mine', 'Unbelievable', 'Suicidal Thoughts', 'Who Shot Ya', 'Just Playing (Dreams)']}, {'artist': 'Pavement', 'album': 'Slanted and Enchanted', 'tracks': ['Summer Babe - Winter Version', 'Trigger Cut/Wounded-Kite At :17', 'No Life Singed Her', 'In The Mouth A Desert', 'Conduit For Sale!', 'Zurich Is Stained', \"Chesley's Little Wrists\", \"Loretta's Scars\", 'Here', 'Two States', 'Perfume-V', 'Fame Throwa', 'Jackals, False Grails: The Lonesome Era', 'Our Singer']}, {'artist': 'Elton John', 'album': 'Greatest Hits', 'tracks': ['Keep Ya Head Up', '2 Of Amerikaz Most Wanted', 'Temptations', 'God Bless The Dead - 1998 Greatest Hits', 'Hail Mary', 'Me Against The World', 'How Do U Want It', 'So Many Tears', 'Unconditional Love', 'Trapped', 'Life Goes On', \"Hit 'Em Up - Single Version\", \"Troublesome '96\", \"Brenda's Got A Baby\", \"I Ain't Mad At Cha\", 'I Get Around', 'Changes', 'California Love - Original Version', \"Picture Me Rollin'\", 'How Long Will They Mourn Me?', 'Toss It Up', 'Dear Mama', 'All About U', 'To Live & Die In L.A.', 'Heartz Of Men']}, {'artist': 'The Replacements', 'album': 'Tim', 'tracks': ['Comfort Me', \"Tickin' Away\", 'Home', 'Red Ragtop', \"That's Why God Made Mexico\", 'Watch The Wind Blow By', 'Illegal', 'Sleep Tonight', 'I Know How To Love You Well', 'Sing Me Home', \"She's My Kind Of Rain\", 'Who Are They', 'Real Good Man', 'All We Ever Find', 'Tiny Dancer']}, {'artist': 'Dr. Dre', 'album': 'The Chronic', 'tracks': ['Feather', 'Freedom', 'Spiritual Delight', 'Step With', 'Deep Blue']}, {'artist': 'The Meters', 'album': 'Rejuvenation', 'tracks': ['People Say', 'Love Is For Me', 'Just Kissed My Baby', \"What 'cha Say\", 'Jungle Man', 'Hey Pocky A-Way - Remastered Version', \"It Ain't No Use\", 'Loving You Is On My Mind', 'Africa']}, {'artist': 'Blondie', 'album': 'Parallel Lines', 'tracks': ['Hanging On The Telephone', 'One Way Or Another', 'Picture This', 'Fade Away And Radiate', 'Pretty Baby', \"I Know But I Don't Know\", '11:59', 'Will Anything Happen', 'Sunday Girl', 'Heart Of Glass', \"I'm Gonna Love You Too\", 'Just Go Away']}, {'artist': 'B.B. King', 'album': 'Live at the Regal', 'tracks': ['Every Day I Have The Blues - Live At The Regal Theater/1964', 'Sweet Little Angel - Live At The Regal Theater/1964', \"It's My Own Fault\", 'How Blue Can You Get?', 'Please Love Me - Live At The Regal Theater/1964', 'You Upset Me Baby', 'Worry, Worry', \"Woke Up This Mornin' - Live At The Regal Theater/1964\", 'You Done Lost Your Good Thing Now', 'Help The Poor']}, {'artist': 'Phil Spector', 'album': 'A Christmas Gift for You From Phil Spector', 'tracks': ['White Christmas', 'Frosty the Snowman', 'The Bells of St. Mary', 'Santa Claus Is Coming to Town', 'Sleigh Ride', 'A Marshmallow World', 'I Saw Mommy Kissing Santa Claus', 'Rudolph the Red-Nosed Reindeer', 'Winter Wonderland', 'Parade Of The Wooden Soldiers', 'Christmas (Baby Please Come Home)', 'Here Comes Santa Claus', 'Silent Night']}, {'artist': 'Dr. John, the Night Tripper', 'album': 'Gris-Gris', 'tracks': ['Gris-Gris Gumbo Ya Ya', 'Danse Kalinda Ba Doom', 'Mama Roux', 'Danse Fambeaux', 'Croker Courtbullion', 'Jump Sturdy', 'I Walk On Guilded Splinters']}, {'artist': 'N.W.A', 'album': 'Straight Outta Compton', 'tracks': ['Straight Outta Compton', 'Fuck Tha Police', 'Gangsta Gangsta', \"If It Ain't Ruff\", 'Parental Discretion Iz Advised', '8 Ball - Remix', 'Something Like That', 'Express Yourself', \"Compton's N The House - Remix\", \"I Ain't Tha 1\", 'Dopeman - Remix', 'Quiet On Tha Set', 'Something 2 Dance 2']}, {'artist': 'Steely Dan', 'album': 'Aja', 'tracks': ['Black Cow', 'Aja', 'Deacon Blues', 'Peg', 'Home At Last', 'I Got The News', 'Josie']}, {'artist': 'Jefferson Airplane', 'album': 'Surrealistic Pillow', 'tracks': ['She Has Funny Cars', 'Somebody to Love', 'My Best Friend', 'Today', \"Comin' Back to Me\", '3/5 of a Mile in 10 Seconds', 'D. C. B. A.-25', 'How Do You Feel', 'Embryonic Journey', 'White Rabbit', 'Plastic Fantastic Lover', 'In The Morning', 'J. P. P. Mc Step B. Blues', 'Go To Her', 'Come Back Baby', 'Somebody to Love - Mono Single Version', 'White Rabbit - Mono Single Version']}, {'artist': 'Crosby, Stills, Nash & Young', 'album': 'Deja vu', 'tracks': ['Carry On', 'Teach Your Children', 'Almost Cut My Hair', 'Helpless', 'Woodstock', 'Deja Vu', 'Our House', '4 + 20', 'Country Girl: A. Whiskey Boot Hill. B. Down, Down, Down. C. \"Country Girl\" [I Think You\\'re Pretty]', 'Everybody I Love You']}, {'artist': 'Led Zeppelin', 'album': 'Houses of the Holy', 'tracks': ['The Song Remains The Same', 'The Rain Song', 'Over The Hills And Far Away', 'The Crunge', 'Dancing Days', \"D'yer Mak'er\", 'No Quarter', 'The Ocean']}, {'artist': 'Santana', 'album': 'Santana', 'tracks': ['Into the Night', \"This Boy's Fire\", 'Smooth', 'Maria Maria - Radio Mix', 'Oye Como Va', 'Black Magic Woman', 'Evil Ways', 'Corazon Espinado', \"Europa (Earth's Cry Heaven's Smile)\", 'The Game of Love', 'Put Your Lights On', \"Why Don't You & I - Alt. Version\", \"Everybody's Everything\", 'Just Feel Better', 'Samba Pa Ti', 'No One to Depend On', 'The Game of Love - Main / Radio Mix', 'Interplanetary Party']}, {'artist': 'Bruce Springsteen', 'album': 'Darkness on the Edge of Town', 'tracks': ['Badlands', 'Adam Raised a Cain', 'Something in the Night', \"Candy's Room\", 'Racing in the Street', 'The Promised Land', 'Factory', 'Streets of Fire', 'Prove It All Night', 'Darkness on the Edge of Town']}, {'artist': 'Arcade Fire', 'album': 'Funeral', 'tracks': ['Neighborhood #1 (Tunnels)', 'Neighborhood #2 (Laika)', 'Une Annee Sans Lumiere', 'Neighborhood #3 (Power Out)', 'Neighborhood #4 (7 Kettles)', 'Crown of Love', 'Wake Up', 'Haiti', 'Rebellion (Lies)', 'In the Backseat']}, {'artist': \"The B 52's\", 'album': \"The B 52's\", 'tracks': ['Planet Claire', '52 Girls', 'Dance This Mess Around', 'Rock Lobster', 'Lava', \"There's A Moon In The Sky (Called The Moon)\", 'Hero Worship', '6060-842', 'Downtown']}, {'artist': 'A Tribe Called Quest', 'album': 'The Low End Theory', 'tracks': ['Excursions', \"Buggin' Out\", 'Rap Promoter', 'Butter', 'Verses from the Abstract', 'Show Business', 'Vibes and Stuff', 'Infamous Date Rape', 'Check the Rhime', 'Everything Is Fair', \"Jazz (We've Got)\", 'Skypager', 'What?', 'Scenario - LP Mix']}, {'artist': \"Howlin' Wolf\", 'album': \"Moanin' in the Moonlight\", 'tracks': [\"Moanin' At Midnight\", 'How Many More Years', \"Smokestack Lightnin'\", 'Baby How Long', 'No Place To Go (You Gonna Wreck My Life)', 'All Night Boogie (All Night Long)', 'Evil (Is Going On)', \"I'm Leavin You\", \"Moanin' For My Baby\", 'I Asked For Water', 'Forty Four', 'Somebody In My Home']}, {'artist': 'Pretenders', 'album': 'Pretenders', 'tracks': ['Precious - 2006 Remastered Version', 'The Phone Call - 2006 Remastered Version', 'Up The Neck - 2006 Remastered Version', 'Tattooed Love Boys - 2006 Remastered Version', 'Space Invader - 2006 Remastered Version', 'The Wait - 2006 Remastered Version', 'Stop Your Sobbing - 2006 Remastered Version', 'Kid - 2006 Remastered Version', 'Private Life - 2006 Remastered Version', 'Brass In Pocket - 2006 Remastered Version', 'Lovers Of Today - 2006 Remastered Version', 'Mystery Achievement - 2006 Remastered Version', 'Cuban Slide - 2006 Remastered Single Version', 'Porcelain - 2006 Remastered Single Version', 'The Phone Call - Demo', 'The Wait - Demo', \"I Can't Control Myself - Demo\", 'Swinging London - 2006 Remastered Version Single Version', 'Brass In Pocket - Demo', 'Kid - Demo', 'Stop Your Sobbing - Demo', 'Tequila - Demo', 'Nervous But Shy - 2006 Remastered Single Version', 'Precious - Live at - Paradise Theatre, 1980', 'Tattooed Love Boys - Live Paradise Theatre, 1980', 'Sabre Dance (Live - Marquee Club, London, 1979)']}, {'artist': 'Beastie Boys', 'album': \"Paul's Boutique\", 'tracks': ['To All The Girls', 'Shake Your Rump', 'Johnny Ryall', 'Egg Man', 'High Plains Drifter', 'The Sounds Of Science', '3-Minute Rule', 'Hey Ladies', '5-Piece Chicken Dinner', 'Looking Down The Barrel Of A Gun', 'Car Thief', 'What Comes Around', 'Shadrach', 'Ask For Janice', 'B-Boy Bouillabaisse: 59 Chrystie Street/Get On The Mic/Stop That Train/A Year And A Day/Hello Brooklyn/Dropping Names/Lay It On Me/Mike On The Mic/A.W.O.L. (Medley)']}, {'artist': 'Joy Division', 'album': 'Closer', 'tracks': ['Closer']}, {'artist': 'Elton John', 'album': 'Captain Fantastic and the Brown Dirt Cowboy', 'tracks': ['Captain Fantastic And The Brown Dirt Cowboy', 'Tower Of Babel', 'Bitter Fingers', 'Tell Me When The Whistle Blows', 'Someone Saved My Life Tonight', '(Gotta Get A) Meal Ticket', 'Better Off Dead', 'Writing', 'We All Fall In Love Sometimes', 'Curtains', 'Lucy In The Sky With Diamonds', 'One Day At A Time', 'Philadelphia Freedom']}, {'artist': 'KISS', 'album': 'Alive!', 'tracks': ['Look Alive (feat. Drake)']}, {'artist': 'T. Rex', 'album': 'Electric Warrior', 'tracks': ['Mambo Sun - Remastered', 'Cosmic Dancer - Remastered', 'Jeepster - Remastered', 'Monolith - Remastered', 'Lean Woman Blues - Remastered', 'Bang a Gong (Get It On) - Remastered Version', 'Planet Queen - Remastered', 'Girl - Remastered', 'The Motivator - Remastered', \"Life's A Gas - Remastered\", 'Rip Off - Remastered', 'There Was A Time - Remastered Single Version / bonus track', 'Raw Ramp - Remastered Single Version / bonus track', 'Planet Queen - Acoustic Version / bonus track', 'Hot Love - Remastered Single Version / bonus track', 'Woodland Rock - Remastered Single Version / bonus track', 'King Of The Mountain Cometh - Remastered Single Version / bonus track', 'The T. Rex Electric Warrior Interview - bonus track']}, {'artist': 'Otis Redding', 'album': 'The Dock of the Bay', 'tracks': [\"(Sittin' On) The Dock Of The Bay\", 'I Love You More Than Words Can Say', 'Let Me Come On Home', 'Open The Door', \"Don't Mess With Cupid\", 'The Glory Of Love', \"I'm Coming Home To See About You\", 'Tramp', 'The Huckle-Buck', \"Nobody Knows You (When You're Down And Out)\", 'Ole Man Trouble']}, {'artist': 'Radiohead', 'album': 'OK Computer', 'tracks': ['Airbag', 'Paranoid Android', 'Subterranean Homesick Alien', 'Exit Music (For a Film)', 'Let Down', 'Karma Police', 'Fitter Happier', 'Electioneering', 'Climbing Up the Walls', 'No Surprises', 'Lucky', 'The Tourist']}, {'artist': 'Prince', 'album': '1999', 'tracks': ['Summer Knights', 'Waves', 'FromdaTomb$ (feat. Chuck Strangers)', 'Survival Tactics (feat. Capital STEEZ)', 'Killuminati (feat. Capital STEEZ)', 'Hardknock (feat. CJ Fly)', 'World Domination', 'Pennyroyal', \"Funky Ho'$\", 'Daily Routine', \"Snakes (feat. T'nah Apex)\", \"Don't Front (feat. CJ Fly)\", 'Righteous Minds', \"Where It'$ At? (feat. Kirk Knight)\", \"Third Eye Sh*t (feat. Pro Era, Capital STEEZ, CJ Fly, Chuck Strangers, Dyemond Lewis, Nyck Caution, Kirk Knight, Rokamouth, T'nah Apex & Dessy Hinds)\"]}, {'artist': 'Marvin Gaye', 'album': \"Let's Get It On\", 'tracks': [\"Let's Get It On\", 'Please Stay (Once You Go Away)', 'If I Should Die Tonight', \"Keep Gettin' It On\", 'Come Get To This', 'Distant Lover', 'You Sure Love To Ball', 'Just To Keep You Satisfied', \"Let's Get It On - Single Version\", 'You Sure Love To Ball - Single Edit']}, {'artist': 'Elvis Costello & The Attractions', 'album': 'Imperial Bedroom', 'tracks': ['Beyond Belief', 'Tears Before Bedtime', 'Shabby Doll', 'The Long Honeymoon', 'Man Out Of Time', 'Almost Blue', '...And In Every Home', 'The Loved Ones', 'Human Hands', 'Kid About It', 'Little Savage', 'Boy With A Problem', 'Pidgin English', 'You Little Fool', 'Town Cryer']}, {'artist': 'Metallica', 'album': 'Master of Puppets', 'tracks': ['Battery (Remastered)', 'Master of Puppets (Remastered)', 'The Thing That Should Not Be (Remastered)', 'Welcome Home (Sanitarium) (Remastered)', 'Disposable Heroes (Remastered)', 'Leper Messiah (Remastered)', 'Orion (Remastered)', 'Damage, Inc. (Remastered)', 'Battery (Live at the Aragon Ballroom, Chicago, IL - May 25th, 1986)', 'Master of Puppets (Live at the Aragon Ballroom, Chicago, IL - May 25th, 1986)', 'For Whom The Bell Tolls (Live at the Aragon Ballroom, Chicago, IL - May 25th, 1986)', 'Welcome Home (Sanitarium) (Live at the Aragon Ballroom, Chicago, IL - May 25th, 1986)', 'The Thing That Should Not Be (Live at the Aragon Ballroom, Chicago, IL - May 25th, 1986)', '(Anesthesia) - Pulling Teeth (Live at the Aragon Ballroom, Chicago, IL - May 25th, 1986)', 'Damage, Inc. (Live at the Aragon Ballroom, Chicago, IL - May 25th, 1986)', 'Fade to Black (Live at the Aragon Ballroom, Chicago, IL - May 25th, 1986)', 'Seek & Destroy (Live at the Aragon Ballroom, Chicago, IL - May 25th, 1986)', 'Creeping Death (Live at the Aragon Ballroom, Chicago, IL - May 25th, 1986)', 'The Four Horsemen (Live at the Aragon Ballroom, Chicago, IL - May 25th, 1986)', 'Guitar Solo (Live at the Aragon Ballroom, Chicago, IL - May 25th, 1986)', 'Am I Evil? (Live at the Aragon Ballroom, Chicago, IL - May 25th, 1986)', 'Whiplash (Live at the Aragon Ballroom, Chicago, IL - May 25th, 1986)', 'Battery (October 1985, Work in Progress Rough Mix)', 'Master of Puppets (November 1985, Work in Progress Rough Mix)', 'The Thing That Should Not Be (December 1985, Work in Progress Rough Mix)', 'Welcome Home (Sanitarium) (November 1985, Work in Progress Rough Mix)', 'Disposable Heroes (November 1985, Work in Progress Rough Mix)', 'Leper Messiah (December 1985, Work in Progress Rough Mix)', 'Orion (November 1985, Work in Progress Rough Mix)', 'Damage, Inc. (October 1985, Work in Progress Rough Mix)', 'The Money Will Roll Right In (Work in Progress Rough Mix)', 'The Prince (Work in Progress Rough Mix)', \"Battery (1985, from James' Riff Tapes)\", \"Battery (1985, from James' Riff Tapes II)\", \"Master of Puppets (1985, from Kirk's Riff Tapes)\", \"Master of Puppets (1985, from James' Riff Tapes)\", \"Master of Puppets (1985, from James' Riff Tapes II)\", \"The Thing That Should Not Be (1985, from James' Riff Tapes)\", \"Welcome Home (Sanitarium) (1985, from James' Riff Tapes)\", \"Welcome Home (Sanitarium) (1985, from James' Riff Tapes II)\", \"Disposable Heroes (1985, from Kirk's Riff Tapes)\", \"Disposable Heroes (1985, from James' Riff Tapes)\", \"Leper Messiah (1985, from James' Riff Tapes)\", \"Leper Messiah (1985, from James' Riff Tapes II)\", \"Orion (1985, from James' Riff Tapes)\", \"Damage, Inc. (1985, from James' Riff Tapes)\", 'Disposable Heroes (May 1985, Writing in Progress)', 'Battery (May 1985, Writing in Progress)', 'Welcome Home (Sanitarium) (May 1985, Writing in Progress)', 'Disposable Heroes (May 1985, Writing in Progress II)']}, {'artist': 'Elvis Costello', 'album': 'My Aim Is True', 'tracks': ['Welcome To The Working Week', 'Miracle Man', 'No Dancing', 'Blame It On Cain', 'Alison', 'Sneaky Feelings', '(The Angels Wanna Wear My) Red Shoes', 'Less Than Zero', 'Mystery Dance', 'Pay It Back - \\\\', \"I'm Not Angry\", 'Waiting For The End Of The World', 'Watching The Detectives - Single Version']}, {'artist': 'Bob Marley & The Wailers', 'album': 'Exodus', 'tracks': ['Natural Mystic', 'So Much Things To Say', 'Guiltiness', 'The Heathen', 'Exodus', 'Jamming', 'Waiting In Vain', 'Turn Your Lights Down Low', 'Three Little Birds', 'One Love / People Get Ready', 'Roots', 'Waiting In Vain - Alternate Version', 'Jamming - Long Version', \"Jammin'\", 'Exodus', 'The Heathen - Live', 'Crazy Baldhead / Running Away - Live', 'War / No More Trouble - Live', \"Jammin' - Live\", 'Exodus - Live', 'Punky Reggae Party - Jamaican 12\" Version', 'Punky Reggae Party - Dub / Jamaican 12\" version', 'Keep On Moving', 'Keep On Moving', 'Exodus']}, {'artist': 'The Who', 'album': 'Live at Leeds', 'tracks': ['Heaven And Hell - Live At Leeds', \"I Can't Explain - Live At Leeds 25th Anniversary Edition Version\", 'Fortune Teller - Live At Leeds', 'Tattoo - Live At Leeds', 'Young Man Blues - Remixed Live At Leeds Version', 'Substitute - Remixed Live At Leeds Version', 'Happy Jack - Live At Leeds', \"I'm A Boy - Live At Leeds 25th Anniversary Edition Version\", \"A Quick One, While He's Away - Live\", 'Amazing Journey / Sparks - Remixed Live At Leeds Version', 'Summertime Blues - Remixed Live At Leeds Version', \"Shakin' All Over - Remixed Live At Leeds Version\", 'My Generation - Remixed Live At Leeds Version', 'Magic Bus - Remixed Live At Leeds Version']}, {'artist': 'The Byrds', 'album': 'The Notorious Byrd Brothers', 'tracks': ['Artificial Energy', \"Goin' Back\", 'Natural Harmony', 'Draft Morning', \"Wasn't Born to Follow\", 'Get to You', 'Change Is Now - Single Version', 'Old John Robertson', 'Tribal Gathering', \"Dolphin's Smile\", 'Space Odyssey', 'Moog Raga - instrumental', 'Bound to Fall - instrumental', 'Triad', \"Goin' Back - Extended Version\", 'Draft Morning - alternate end', 'Universal Mind Decoder - Alternate Backing Track']}, {'artist': 'Rod Stewart', 'album': 'Every Picture Tells a Story', 'tracks': ['Every Picture Tells A Story', 'Seems Like A Long Time', \"That's All Right\", 'Tomorrow Is A Long Time', 'Maggie May', 'Mandolin Wind', \"(I Know) I'm Losing You\", '(Find A) Reason To Believe']}, {'artist': 'Todd Rundgren', 'album': 'Something/Anything?', 'tracks': ['I Saw The Light', \"It Wouldn't Have Made Any Difference\", 'Wolfman Jack', 'Cold Morning Light', 'It Takes Two To Tango (This Is For The Girls)', 'Sweeter Memories', 'Intro', 'Breathless - Instrumental', 'The Night The Carousel Burned Down', 'Saving Grace', 'Marlene', 'Song Of The Viking', 'I Went To The Mirror', 'Black Maria', 'One More Day (No Word)', \"Couldn't I Just Tell You\", 'Torch Song', 'Little Red Lights', \"Overture - My Roots: Money (That's What I Want) // Messin' With The Kid\", 'Dust In The Wind', 'Piss Aaron', \"Hello It's Me\", 'Some Folks Is Even Whiter Than Me', 'You Left Me Sore', 'Slut']}, {'artist': 'Bob Dylan', 'album': 'Desire', 'tracks': ['Wild Heart', 'Rollercoaster', 'Shadow', 'I Wanna Get Better', 'Wake Me', 'Reckless Love', 'Take Me Away', 'Like a River Runs', \"You're Still a Mystery\", \"I'm Ready to Move On / Wild Heart Reprise\", 'Who I Want You to Love']}, {'artist': 'Carpenters', 'album': 'Close to You', 'tracks': [\"We've Only Just Begun\", 'Love Is Surrender', \"Maybe It's You\", 'Reason To Believe', 'Help', '(They Long To Be) Close To You', \"Baby It's You\", \"I'll Never Fall In Love Again\", 'Crescent Noon', 'Mr. Guder', 'I Kept On Loving You', 'Another Song']}, {'artist': 'Aerosmith', 'album': 'Rocks', 'tracks': ['Lonely For You Only', 'Make A Little', \"Drinkin' Problem\", 'At Least You Cried', 'Burn Out', 'Out Of Sight', 'More Than A Fever', \"Check Cashin' Country\", \"Nothin' New Under The Neon\", 'This Old Heart', 'Altitude Adjustment', 'Electric Rodeo', 'Somewhere On The Wind']}, {'artist': 'Funkadelic', 'album': 'One Nation Under a Groove', 'tracks': ['One Nation Under A Groove', '(Not Just) Knee Deep', 'Cosmic Slop', 'Flashlight', 'Bop Gun (Endangered Species)', 'Mothership Connection (Star Child)', 'Give Up the Funk (Tear the Roof Off the Sucker)', 'Up for the Downstroke', 'Chocolate City', 'Hit It and Quit It']}, {'artist': 'Curtis Mayfield and The Impressions', 'album': 'The Anthology: 1961-1977', 'tracks': ['Gypsy Woman - Single Version', 'Grow Closer Together', 'Never Let Me Go', 'Little Young Lover', 'Minstrel And Queen', \"I'm The One Who Loves You\", 'Sad Sad Girl And Boy', \"It's All Right\", 'Talking About My Baby', \"I'm So Proud - Single Version\", 'Keep On Pushing - Single Version', 'You Must Believe Me', 'See The Real Me', 'Amen', \"I've Been Trying\", 'People Get Ready - Single Version', \"It's Hard To Believe\", \"Woman's Got Soul - Remix\", 'Meeting Over Yonder', 'I Need You', \"You've Been Cheatin'\", 'Man Oh Man', \"Can't Satisfy\", \"We're A Winner\", 'I Loved And I Lost', \"We're Rolling On (Part One)\", 'Fool For You', 'This Is My Country', 'Choice Of Colors - Single Version', 'Check Out Your Mind', 'Move On Up', \"(Don't Worry) If There's A Hell Below, We're All Going To Go\", 'The Makings Of You', 'Beautiful Brother Of Mine', \"Freddie's Dead\", 'Superfly', 'Pusherman', 'So In Love', 'Only You Babe', 'Do Do Wap Is Strong In Here']}, {'artist': 'ABBA', 'album': 'The Definitive Collection', 'tracks': ['Hello', 'Just To Be Close To You - Single Version', 'Easy - Single Version', 'Running With The Night - Single Version', 'Three Times A Lady - Single Version', 'Still - Single Version', 'All Night Long (All Night) - Single Version', 'Endless Love - From \"The Endless Love\" Soundtrack', 'Truly', 'Penny Lover - Single Version', 'You Are', 'Sail On - Single Version', 'Stuck On You', 'Say You, Say Me', 'Dancing On The Ceiling', 'Do It To Me - Single Radio Edit', 'Ballerina Girl', 'Angel - Metro Mix Radio Edit', 'To Love A Woman', 'Goodbye - Live']}, {'artist': 'The Rolling Stones', 'album': 'The Rolling Stones, Now!', 'tracks': ['Everybody Needs Somebody To Love', 'Down Home Girl', \"You Can't Catch Me\", 'Heart Of Stone - Stereo Version / Remastered 2002', 'What A Shame', 'I Need You Baby (Mona)', 'Down The Road Apiece', 'Off The Hook', 'Pain In My Heart', \"Oh Baby (We Got A Good Thing Goin') - Remastered 2002\", 'Little Red Rooster', 'Surprise, Surprise']}, {'artist': 'Bob Marley & The Wailers', 'album': 'Natty Dread', 'tracks': ['Lively Up Yourself', 'No Woman No Cry', 'Them Belly Full (But We Hungry)', \"Rebel Music (3 O'Clock Roadblock)\", \"So Jah S'eh\", 'Natty Dread', 'Bend Down Low', \"Talkin' Blues\", 'Revolution', 'Am-A-Do']}, {'artist': 'Fleetwood Mac', 'album': 'Fleetwood Mac', 'tracks': ['Monday Morning', 'Warm Ways', 'Blue Letter', 'Rhiannon', 'Over My Head', 'Crystal', 'Say You Love Me', 'Landslide', 'World Turning', 'Sugar Daddy', \"I'm So Afraid\"]}, {'artist': 'Willie Nelson', 'album': 'Red Headed Stranger', 'tracks': ['Time of the Preacher', \"I Couldn't Believe It Was True\", 'Time of the Preacher Theme', 'Medley: Blue Rock Montana / Red Headed Stranger', 'Blue Eyes Crying in the Rain', 'Red Headed Stranger', 'Time of the Preacher Theme', 'Just as I Am', 'Denver', \"O'er the Waves\", 'Down Yonder', 'Can I Sleep in Your Arms', 'Remember Me (When the Candle Lights Are Gleaming)', 'Hands on the Wheel', 'Bandera']}, {'artist': 'Madonna', 'album': 'The Immaculate Collection', 'tracks': ['Holiday', 'Lucky Star', 'Borderline - Remix', 'Like A Virgin', 'Material Girl', 'Crazy For You', 'Into The Groove', 'Live To Tell', \"Papa Don't Preach\", 'Open Your Heart', 'La Isla Bonita - Remix', 'Like A Prayer', 'Express Yourself', 'Cherish', 'Vogue', 'Justify My Love', 'Rescue Me']}, {'artist': 'The Stooges', 'album': 'The Stooges', 'tracks': ['1969', 'I Wanna Be Your Dog', 'We Will Fall', 'No Fun', 'Real Cool Time', 'Ann', 'Not Right', 'Little Doll']}, {'artist': 'Sly & The Family Stone', 'album': 'Fresh', 'tracks': ['Hello Welcome', 'Call Me Up', 'Not U', 'Every Single Thing', 'Wrapping Up', \"Getting Down Pt II (He's Cooling Down)\", 'Timing', 'TV Volume', 'Khmlwugh', 'Fresh Air', 'Serious', 'So She', 'This Way', 'Signing Off']}, {'artist': 'Peter Gabriel', 'album': 'So', 'tracks': ['What They Say', 'Lush Life', 'I Would Like', 'So Good', 'TG4M', 'Only You', 'Never Forget You', 'Sundown', \"Don't Let Me Be Yours\", 'Make That Money Girl', \"Ain't My Fault\", 'One Mississippi', 'Funeral', \"I Can't Fall in Love Without You\", 'Symphony']}, {'artist': 'Buffalo Springfield', 'album': 'Buffalo Springfield Again', 'tracks': ['Mr. Soul', \"A Child's Claim To Fame\", 'Everydays - Live', 'Expecting To Fly', 'Bluebird', 'Hung Upside Down', 'Sad Memory', 'Good Time Boy', 'Rock & Roll Woman', 'Broken Arrow']}, {'artist': 'Quicksilver Messenger Service', 'album': 'Happy Trails', 'tracks': ['Who Do You Love (Part 1)', 'When You Love', 'Where You Love', 'How You Love', 'Which Do You Love', 'Who Do You Love (Part 2)', 'Mona', 'Maiden Of The Cancer Moon', 'Calvary', 'Happy Trails']}, {'artist': 'Elvis Presley', 'album': 'From Elvis in Memphis', 'tracks': [\"Wearin' That Loved On Look\", 'Only the Strong Survive', \"I'll Hold You In My Heart (Till I Can Hold You In My Arms)\", 'Long Black Limousine', \"It Keeps Right On A-Hurtin'\", \"I'm Movin' On\", 'Power of My Love', 'Gentle On My Mind', 'After Loving You', 'True Love Travels On a Gravel Road', 'Any Day Now', 'In the Ghetto', 'Suspicious Minds', \"Don't Cry Daddy\", 'Kentucky Rain', 'Mama Liked the Roses']}, {'artist': 'The Stooges', 'album': 'Fun House', 'tracks': ['Fun House']}, {'artist': 'The Flying Burrito Brothers', 'album': 'The Gilded Palace of Sin', 'tracks': ['Christine’s Tune', 'Sin City', 'Do Right Woman', 'Dark End Of The Street', 'My Uncle', 'Wheels', 'Juanita', 'Hot Burrito #1', 'Hot Burrito #2', 'Do You Know How It Feels', 'Hippie Boy']}, {'artist': 'Green Day', 'album': 'Dookie', 'tracks': ['Burnout', 'Having A Blast', 'Chump', 'Longview', 'Welcome to Paradise', 'Pulling Teeth', 'Basket Case', 'She', 'Sassafras Roots', 'When I Come Around', 'Coming Clean', 'Emenius Sleepus', 'In The End', 'F.O.D.', 'All By Myself']}, {'artist': 'Lou Reed', 'album': 'Transformer', 'tracks': ['Vicious', \"Andy's Chest\", 'Perfect Day', \"Hangin' 'Round\", 'Walk On the Wild Side', 'Make Up', 'Satellite of Love', 'Wagon Wheel', 'New York Telephone Conversation', \"I'm So Free\", 'Goodnight Ladies']}, {'artist': 'John Mayall & The Bluesbreakers', 'album': 'The Beano Album', 'tracks': ['Been a While - Hip Hop On the Line', 'Corporate America - LLC America Getting You', 'G. O. D - Golactical Organizam Digitized Almighty', 'Stick Em Up - I Want the Money', '666 Beast & Religion - How They Get U', 'I Remember - Lord I Remember Dedication to David Hall Sr.', \"I'm Rich - Rich Due to My Energy Not Money\", 'DRP Ballerz - We Hustle With Life', 'Cement Shoes - Getting My Money Dunn', 'Shake It - Are You a Whore or a Lady?', 'DRP Rest - A Place of Peace and Rest', 'This World - The World Must End and Reset', \"What You Claiming - Who's Side Are You On\", 'Xmas Is Here - Christmas Is Here No Money Tho', 'Yehoshua Is Blakk - Jesus Is Black', 'New Jerusalem - Nu World Old World', 'Wrong Path Freestyle Live - Live in Detroit', 'Hands of Time - Time Does Not Exist', 'Just Go - Go With the Flow Remix']}, {'artist': 'R.E.M.', 'album': 'Murmur', 'tracks': ['Radio Free Europe', 'Pilgrimage', 'Laughing', 'Talk About The Passion', 'Moral Kiosk', 'Perfect Circle', 'Catapult', 'Sitting Still', '9-9', 'Shaking Through', 'We Walk', 'West Of The Fields']}, {'artist': 'The Strokes', 'album': 'Is This It', 'tracks': ['Is This It', 'The Modern Age', 'Soma', 'Barely Legal', 'Someday', 'Alone, Together', 'Last Nite', 'Hard To Explain', 'When It Started', 'Trying Your Luck', 'Take It Or Leave It']}, {'artist': 'AC/DC', 'album': 'Highway to Hell', 'tracks': ['Highway to Hell', 'Girls Got Rhythm', 'Walk All over You', 'Touch Too Much', 'Beating Around the Bush', 'Shot Down in Flames', 'Get It Hot', \"If You Want Blood (You've Got It)\", 'Love Hungry Man', 'Night Prowler']}, {'artist': 'Nine Inch Nails', 'album': 'The Downward Spiral', 'tracks': ['Mr. Self Destruct', 'Piggy', 'Heresy', 'March Of The Pigs', 'Closer', 'Ruiner', 'The Becoming', 'I Do Not Want This', 'Big Man With A Gun', 'A Warm Place', 'Eraser', 'Reptile', 'The Downward Spiral', 'Hurt', 'Burn - From \"Natural Born Killers\" Soundtrack', 'Closer (Precursor)', 'Piggy (Nothing Can Stop Me Now)', 'A Violet Fluid', 'Dead Souls - From \"The Crow\" Soundtrack', 'Hurt (Quiet)', 'Closer To God', 'All The Pigs, All Lined Up', 'Memorabilia', 'The Downward Spiral (The Bottom)', 'Ruiner - Demo', 'Liar - Reptile Demo', 'Heresy - Demo']}, {'artist': 'Simon & Garfunkel', 'album': 'Parsley, Sage, Rosemary and Thyme', 'tracks': ['Scarborough Fair / Canticle', 'Patterns', 'Cloudy', 'Homeward Bound', 'The Big Bright Green Pleasure Machine', 'The 59th Street Bridge Song', 'The Dangling Conversation', 'Flowers Never Bend with the Rainfall', 'A Simple Desultory Philippic', 'For Emily, Whenever I May Find Her', 'A Poem on the Underground Wall', \"7 O'clock News / Silent Night\"]}, {'artist': 'Michael Jackson', 'album': 'Bad', 'tracks': ['Umbrella', 'Push Up On Me', \"Don't Stop The Music\", \"Breakin' Dishes\", 'Shut Up And Drive', 'Hate That I Love You', 'Say It', 'Sell Me Candy', 'Lemme Get That', 'Rehab', 'Question Existing', 'Good Girl Gone Bad', 'Disturbia', 'Take A Bow', 'If I Never See Your Face Again']}, {'artist': 'Bob Dylan', 'album': 'Modern Times', 'tracks': ['Friday (feat.Jang Yi-jeong of HISTORY)', 'Crayon', 'Love of B (With Park Ju-won)', 'Everybody has secrets (feat.GAIN of Brown Eyed Girls)', 'Between the lips(50cm)', 'The Red Shoes', 'Modern Times', 'Bad Day', 'Obliviate', 'Walk with me, girl (feat.Choi Baek-ho)', 'Havana', 'A Gloomy Clock (feat.Jong-hyun of SHINee)', 'Daydream (feat.Yang Hee-eun)', 'Wait', '(Bonus Track) Voice Mail (Korean Ver.)']}, {'artist': 'Cream', 'album': 'Wheels of Fire', 'tracks': ['White Room', 'Sitting On Top Of The World', 'Passing The Time', 'As You Said', 'Pressed Rat And Warthog', 'Politician', 'Those Were The Days', 'Born Under A Bad Sign', 'Deserted Cities Of The Heart', 'Crossroads - Live', 'Spoonful - Live', 'Traintime - Live', 'Toad - Live']}, {'artist': 'Prince', 'album': 'Dirty Mind', 'tracks': ['Dirty Mind', 'When You Were Mine', 'Do It All Night', 'Gotta Broken Heart Again', 'Uptown', 'Head', 'Sister', 'Partyup']}, {'artist': 'Santana', 'album': 'Abraxas', 'tracks': ['Singing Winds, Crying Beasts', 'Black Magic Woman / Gypsy Queen', 'Oye Como Va', 'Incident at Neshabur', 'Se a Cabo', \"Mother's Daughter\", 'Samba Pa Ti', \"Hope You're Feeling Better\", 'El Nicoya']}, {'artist': 'Cat Stevens', 'album': 'Tea for the Tillerman', 'tracks': ['Where Do The Children Play?', 'Hard Headed Woman', 'Wild World', 'Sad Lisa', 'Miles From Nowhere', 'But I Might Die Tonight', 'Longer Boats', 'Into White', 'On The Road To Find Out', 'Father And Son', 'Tea For The Tillerman']}, {'artist': 'Pearl Jam', 'album': 'Ten', 'tracks': ['Once', 'Even Flow', 'Alive', 'Why Go', 'Black', 'Jeremy', 'Oceans', 'Porch', 'Garden', 'Deep', 'Release']}, {'artist': 'Neil Young & Crazy Horse', 'album': 'Everybody Knows This Is Nowhere', 'tracks': ['Cinnamon Girl - Remastered Album Version', 'Everybody Knows This Is Nowhere - Remastered Album Version', \"Round & Round (It Won't Be Long) - Remastered Album Version\", 'Down By the River - Remastered Album Version', \"The Losing End (When You're On) - Remastered Album Version\", 'Running Dry (Requiem For the Rockets) - Remastered Album Version', 'Cowgirl In the Sand - Remastered Album Version']}, {'artist': 'Pink Floyd', 'album': 'Wish You Were Here', 'tracks': ['Shine On You Crazy Diamond (Pts. 1-5)', 'Welcome to the Machine', 'Have a Cigar', 'Wish You Were Here', 'Shine On You Crazy Diamond (Pts. 6-9)']}, {'artist': 'Pavement', 'album': 'Crooked Rain Crooked Rain', 'tracks': ['Silence Kid', 'Elevate Me Later', 'Stop Breathin', 'Cut Your Hair', 'Newark Wilder', 'Unfair', 'Gold Soundz', '5-4=Unity', 'Range Life', 'Heaven Is a Truck', 'Hit the Plane Down', 'Fillmore Jive']}, {'artist': 'The Rolling Stones', 'album': 'Tattoo You', 'tracks': ['Start Me Up', 'Hang Fire - Remastered', 'Slave - Remastered', 'Little T&A - Remastered', 'Black Limousine - Remastered', 'Neighbours - Remastered', 'Worried About You - Remastered', 'Tops - Remastered', 'Heaven - Remastered', 'No Use In Crying - Remastered', 'Waiting On A Friend']}, {'artist': 'New York Dolls', 'album': 'New York Dolls', 'tracks': ['Personality Crisis', 'Looking For A Kiss', 'Vietnamese Baby', 'Lonely Planet Boy', 'Frankenstein', 'Trash', 'Bad Girl', 'Subway Train', 'Pills', 'Private World', 'Jet Boy']}, {'artist': 'Bo Diddley', 'album': 'Bo Diddley / Go Bo Diddley', 'tracks': [\"Crackin' Up\", \"I'm Sorry\", \"Bo's Guitar\", 'Willie And Lillie', \"You Don't Love Me (You Don't Care)\", 'Say Man', 'The Great Grandfather', 'Oh Yea', \"Don't Let It Go (Hold On To What You Got)\", 'Little Girl', 'Dearest Darling', 'The Clock Strikes Twelve']}, {'artist': 'Bobby \"Blue\" Bland', 'album': 'Two Steps From the Blues', 'tracks': ['Two Steps From The Blues', 'Cry, Cry, Cry', \"I'm Not Ashamed\", \"Don't Cry No More\", 'Lead Me On', 'I Pity The Fool', \"I've Just Got To Forget You\", 'Little Boy Blue', 'St. James Infirmary', \"I'll Take Care Of You\", \"Don't Want No Woman - Single Version\", \"I've Been Wrong So Long\", \"How Does A Cheatin' Woman Feel\", 'Close To You']}, {'artist': 'The Smiths', 'album': 'The Queen Is Dead', 'tracks': ['The Queen Is Dead - 2011 Remastered Version', 'Frankly, Mr. Shankly - 2011 Remastered Version', \"I Know It's Over - 2011 Remastered Version\", 'Never Had No One Ever - 2011 Remastered Version', 'Cemetry Gates - 2011 Remastered Version', 'Bigmouth Strikes Again - 2011 Remastered Version', 'The Boy With The Thorn In His Side - 2011 Remastered Version', 'Vicar In A Tutu - 2011 Remastered Version', 'There Is A Light That Never Goes Out - 2011 Remastered Version', 'Some Girls Are Bigger Than Others - 2011 Remastered Version']}, {'artist': 'Beastie Boys', 'album': 'Licensed to Ill', 'tracks': ['Rhymin & Stealin', 'The New Style', \"She's Crafty\", 'Posse In Effect', 'Slow Ride', 'Girls', 'Fight For Your Right', 'No Sleep Till Brooklyn', 'Paul Revere', 'Hold It Now, Hit It', 'Brass Monkey', 'Slow And Low', 'Time To Get Ill']}, {'artist': 'The Meters', 'album': 'Look-Ka Py Py', 'tracks': ['Look-Ka Py Py', 'Rigor Mortis', 'Pungee', 'Thinking', 'This Is My Last Affair', 'Funky Miracle', \"Yeah You're Right\", 'Little Old Money Maker', 'Oh, Calcutta!', 'The Mob', \"9 'til 5\", 'Dry Spell']}, {'artist': 'My Bloody Valentine', 'album': 'Loveless', 'tracks': ['Only Shallow', 'Loomer', 'Touched', 'To Here Knows When', 'When You Sleep', 'I Only Said', 'Come In Alone', 'Sometimes', 'Blown A Wish', 'What You Want', 'Soon']}, {'artist': 'Professor Longhair', 'album': 'New Orleans Piano', 'tracks': ['In The Night', 'Tipitina', 'Hey Now Baby', 'Walk Your Blues Away', 'Hey Little Girl', 'Willie Mae', 'Professor Longhair Blues', 'Ball The Wall', \"Who's Been Fooling You\", 'Boogie Woogie', 'Longhair Blues Rhumba', 'Mardi Gras In New Orleans', 'She Walks Right In']}, {'artist': 'U2', 'album': 'War', 'tracks': ['Criminal', 'Pineapple Skies', 'Sky Walker', 'Banana Clip', 'Wolf', 'Harem', 'Told You So', 'City of Angels', 'Caramelo Duro', 'Come Through and Chill', 'Anointed', 'Now']}, {'artist': 'Neil Diamond', 'album': 'The Neil Diamond Collection', 'tracks': ['Sweet Caroline - Single Version', 'Holly Holy - Single Version', 'Song Sung Blue - Single Version', \"Brother Love's Traveling Salvation Show\", 'Play Me', 'Brooklyn Roads', 'Crunchy Granola Suite - Single Version', 'Stones - Single Version', 'Soolaimon', 'I Am...I Said - Single Version', \"Cracklin' Rosie - Single Version\"]}, {'artist': 'Green Day', 'album': 'American Idiot', 'tracks': ['American Idiot', 'Jesus Of Suburbia', 'Holiday/Boulevard Of Broken Dreams', 'Are We The Waiting/St. Jimmy', \"Give Me Novacaine/She's A Rebel\", 'Extraordinary Girl/Letterbomb', 'Wake Me Up When September Ends', 'Homecoming', 'Whatsername']}, {'artist': 'Bruce Springsteen', 'album': 'Nebraska', 'tracks': ['Nebraska', 'Atlantic City', 'Mansion On the Hill', 'Johnny 99', 'Highway Patrolman', 'State Trooper', 'Used Cars', 'Open All Night', \"My Father's House\", 'Reason to Believe']}, {'artist': 'Pixies', 'album': 'Doolittle', 'tracks': ['Debaser', 'Tame', 'Wave of Mutilation', 'I Bleed', 'Here Comes Your Man', 'Dead', 'Monkey Gone to Heaven', 'Mr. Grieves', 'Crackity Jones', 'La La Love You', 'No 13 Baby', 'There Goes My Gun', 'Hey', 'Silver', 'Gouge Away']}, {'artist': 'Eric B. & Rakim', 'album': 'Paid in Full', 'tracks': [\"I Ain't No Joke\", 'Eric B. Is On The Cut', 'My Melody', 'I Know You Got Soul', 'Move The Crowd', 'Paid In Full', 'As The Rhyme Goes On', 'Chinese Arithmetic', 'Eric B. Is President', 'Extended Beat', 'As The Rhyme Goes On - Radio Mix', 'Paid In Full - Mini Madness - The Coldcut Remix']}, {'artist': 'Aerosmith', 'album': 'Toys in the Attic', 'tracks': ['Toys In The Attic', 'Uncle Salty', \"Adam's Apple\", 'Walk This Way', 'Big Ten Inch Record', 'Sweet Emotion', 'No More No More', 'Round And Round', 'You See Me Crying']}, {'artist': 'Bonnie Raitt', 'album': 'Nick of Time', 'tracks': ['Nick Of Time', 'Thing Called Love', 'Love Letter', 'Cry On My Shoulder', 'Real Man', \"Nobody's Girl\", 'Have A Heart', 'Too Soon To Tell', 'I Will Not Be Denied', \"I Ain't Gonna Let You Break My Heart Again\", \"The Road's My Middle Name\"]}, {'artist': 'Queen', 'album': 'A Night at the Opera', 'tracks': ['Death On Two Legs (Dedicated To...)', 'Lazing On A Sunday Afternoon', \"I'm In Love With My Car\", \"You're My Best Friend\", \"'39\", 'Sweet Lady', 'Seaside Rendezvous', \"The Prophet's Song\", 'Love Of My Life', 'Good Company', 'Bohemian Rhapsody', 'God Save The Queen', 'Keep Yourself Alive - Long Lost Retake / June 1975 / Remastered 2011', 'Bohemian Rhapsody - Operatic Section / 2011 A Cappella Mix', 'You’re My Best Friend - Backing Track Mix', 'I’m In Love With My Car - Guitar & Vocal Mix / 2011', \"'39 - Live At Earl’s Court, London / June 1977\", 'Love Of My Life - Live In Argentina / June 1979']}, {'artist': 'The Byrds', 'album': 'Mr. Tambourine Man', 'tracks': ['Mr. Tambourine Man', \"I'll Feel a Whole Lot Better\", 'Spanish Harlem Incident', \"You Won't Have to Cry\", 'Here Without You', 'The Bells of Rhymney', 'All I Really Want to Do', \"I Knew I'd Want You\", \"It's No Use\", \"Don't Doubt Yourself, Babe\", 'Chimes of Freedom', \"We'll Meet Again\", 'She Has a Way', \"I'll Feel a Whole Lot Better - Alternate Version\", \"It's No Use - alternate lead guitar overdub\", \"You Won't Have to Cry - alternate vocal track/take 2\", 'All I Really Want to Do - Single Version', 'You And Me - instrumental backing track - take 13']}, {'artist': 'Simon & Garfunkel', 'album': 'Bookends', 'tracks': ['Bookends Theme', 'Save the Life of My Child', 'America', 'Overs', 'Voices of Old People', 'Old Friends', 'Bookends Theme - Reprise', \"Fakin' It\", \"Punky's Dilemma\", 'Mrs. Robinson', 'A Hazy Shade of Winter', 'At the Zoo']}, {'artist': 'Patsy Cline', 'album': 'The Ultimate Collection', 'tracks': ['Your Love Is King - Remastered', 'Smooth Operator - Remastered', 'Hang On to Your Love - Remastered', 'The Sweetest Taboo - Remastered', 'Is It a Crime - Remastered', 'Never as Good as the First Time - Remastered', 'Jezebel - Remastered', 'Love Is Stronger Than Pride - Remastered', 'Paradise - Remastered Version', 'Nothing Can Come Between Us - Remastered', 'No Ordinary Love - Remastered', 'Kiss of Life - Remastered', 'Feel No Pain - Remastered', 'Bullet Proof Soul - Remastered', 'Cherish the Day - Remastered', 'Pearls - Remastered', 'By Your Side - Remastered', 'Immigrant - Remastered', 'Flow - Remastered', 'King of Sorrow - Remastered', 'The Sweetest Gift - Remastered', 'Soldier of Love - Remastered', 'The Moon and the Sky - Remastered', 'Babyfather - Remastered', 'Still in Love with You', 'Love Is Found', 'I Would Never Have Guessed', 'The Moon and the Sky (Remix)', 'By Your Side (Neptunes Remix) - Remastered']}, {'artist': 'Jackie Wilson', 'album': 'Mr. Excitement!', 'tracks': ['Every 5 Pages - Mr. Excitement']}, {'artist': 'The Who', 'album': 'My Generation', 'tracks': ['Out In The Street - Stereo Version', \"I Don't Mind - Stereo Version\", \"The Good's Gone - Stereo Version\", 'La-La-La Lies - Stereo Version', 'Much Too Much - Stereo Version', 'My Generation - Stereo Version', 'The Kids Are Alright - Stereo Version', 'Please, Please, Please - Stereo Version', \"It's Not True - Stereo Version\", \"I'm A Man - Stereo Version\", 'A Legal Matter - Stereo Version', 'The Ox - Stereo Version', \"I Can't Explain - Stereo Version\", 'Bald Headed Woman - Stereo Version', 'Anyway Anyhow Anywhere - Stereo Version', 'Daddy Rolling Stone - Stereo Version', 'Anytime You Want Me - Stereo Version', 'Shout And Shimmy - Stereo Version', 'Circles - Stereo Version', 'Instant Party Mixture - Stereo Version', 'Leaving Here - Stereo Version', 'Lubie (Come Back Home) - Stereo Version', '(Love Is Like A) Heat Wave - Stereo Version', 'Motoring - Stereo Version', 'Daddy Rolling Stone - Alternate Stereo Version', 'The Kids Are Alright - Alternate Stereo Version', 'My Generation - Instrumental Stereo Version', 'Out In The Street - Alternate Stereo Version', \"I Don't Mind - Full Length Stereo Version\", \"The Good's Gone - Full Length Stereo Version\"]}, {'artist': \"Howlin' Wolf\", 'album': \"Howlin' Wolf\", 'tracks': ['Shake For Me', 'Little Red Rooster', \"You'll Be Mine\", \"Who's Been Talking?\", 'Wang Dang Doodle', 'Little Baby', 'Spoonful', \"Goin' Down Slow\", 'Down In The Bottom', 'Back Door Man', \"Howlin' For My Darlin'\", 'Tell Me']}, {'artist': 'Madonna', 'album': 'Like a Prayer', 'tracks': ['Like A Prayer', 'Express Yourself', 'Love Song', 'Till Death Do Us Part', 'Promise To Try', 'Cherish', 'Dear Jessie', 'Oh Father', 'Keep It Together', 'Pray For Spanish Eyes', 'Act Of Contrition']}, {'artist': 'Steely Dan', 'album': \"Can't Buy a Thrill\", 'tracks': ['Do It Again', 'Dirty Work', 'Kings', 'Midnite Cruiser', 'Only A Fool Would Say That', \"Reelin' In The Years\", 'Fire In The Hole', 'Brooklyn (Owes The Charmer Under Me)', 'Change Of The Guard', 'Turn That Heartbeat Over Again']}, {'artist': 'The Replacements', 'album': 'Let It Be', 'tracks': ['Two Of Us - Remastered', 'Dig A Pony - Remastered', 'Across The Universe - Remastered', 'I Me Mine - Remastered', 'Dig It - Remastered', 'Let It Be - Remastered', 'Maggie Mae - Remastered', \"I've Got A Feeling - Remastered\", 'One After 909 - Remastered', 'The Long And Winding Road - Remastered', 'For You Blue - Remastered', 'Get Back - Remastered']}, {'artist': 'Run D.M.C.', 'album': 'Run D.M.C.', 'tracks': ['Hard Times', 'Rock Box', 'Jam-Master Jay', 'Hollis Crew - Krush-Groove 2', \"Sucker M.C.'s (Krush-Groove 1)\", \"It's Like That\", 'Wake Up', '30 Days', \"Jay's Game\", 'Rock Box - B-Boy Mix', 'Here We Go - Live At The Funhouse', \"Sucker M.C.'s - Live\", 'Russell & Larry Running At The Mouth']}, {'artist': 'Black Sabbath', 'album': 'Black Sabbath', 'tracks': ['Black Sabbath - Remastered Version', 'The Wizard - Remastered Version', 'Wasp / Behind the Wall of Sleep / Bassically/ N.I.B. - Remastered Version', 'Wicked World - Remastered Version', 'A Bit of Finger / Sleeping Village / Warning - Remastered Version']}, {'artist': 'Eminem', 'album': 'The Marshall Mathers LP', 'tracks': ['Public Service Announcement 2000', 'Kill You', 'Stan', 'Paul - Skit', 'Who Knew', 'Steve Berman', 'The Way I Am', 'The Real Slim Shady', 'Remember Me?', \"I'm Back\", 'Marshall Mathers', 'Ken Kaniff - Skit', 'Drug Ballad', 'Amityville', 'Bitch Please II', 'Kim', 'Under The Influence', 'Criminal']}, {'artist': 'The Mothers of Invention', 'album': 'Freak Out!', 'tracks': ['Freak Out!', 'Headbanger', 'Cruising for Chicks', 'Necrocomicon', 'Maverick', 'Done with Love', 'Punk House of Horror', 'Never Gonna Tell You', 'In the Pit', 'Mutilate Me', 'Who Killed Sensei?', 'Radical', 'Summertime', 'Go With the Flow']}, {'artist': 'The Grateful Dead', 'album': 'Live/Dead', 'tracks': ['St. Stephen - Live at The Fillmore West, San Francisco, CA 2/27/69 [Remastered]', 'Bertha - Live at The Fillmore East, New York, NY 4/27/71 [Remastered]', 'Wharf Rat - Live at The Fillmore East, New York, NY 4/26/71 [Remastered]', 'Sugar Magnolia - Live at The Olympia Theatre, Paris France 5/4/72 [Remastered]', 'Jack Straw - Live at The Olympia Theatre, Paris France 5/3/72 [Remastered]', \"Truckin' - Live at Lyceum Theatre, London, England 5/26/72 [Remastered]\", 'Morning Dew - Live at Lyceum Theatre, London, England 5/26/72 [Remastered]', 'Brown-Eyed Women - Live at The Tivoli Concert Hall, Copenhagen, Denmark 4/14/72 [Remastered]', 'The Music Never Stopped - Live at The Great American Music Hall, San Francisco, CA 8/13/75 [Remastered]', 'Estimated Prophet - Live at Barton Hall, Cornell University, Ithaca, NY 5/8/77 [Remastered]', 'Friend Of The Devil - Live at Radio City Music Hall, New York, NY 10/27/80 [Remastered]', 'Feel Like A Stranger - Live at the Warfield Theatre, San Francisco, CA 10/4/80 [Remastered]', 'Fire On The Mountain - Live at Radio City Music Hall, New York, NY 10/31/80 [Remastered]', 'Bird Song - Live 1980 [Remastered]', 'Ripple - Live at the Warfield Theatre, San Francisco, CA 10/4/80 [Remastered]', 'Eyes Of The World - Live at Nassau Coliseum, Uniondale, NY 3/29/90 [Remastered]', 'Touch Of Grey - Live at Rich Stadium, Orchard Park, NY 7/4/89 [Remastered]', 'Blow Away - Live at John F. Kennedy Stadium, Philadelphia, PA 7/7/89 [Remastered]', 'So Many Roads - Live at Soldier Field, Chicago, IL 7/9/95 [Remastered]']}, {'artist': 'Ornette Coleman', 'album': 'The Shape of Jazz to Come', 'tracks': ['Lonely Woman', 'Eventually', 'Peace', 'Focus On Sanity', 'Congeniality', 'Chronology']}, {'artist': 'R.E.M.', 'album': 'Automatic for the People', 'tracks': ['Drive', 'Try Not To Breathe', 'The Sidewinder Sleeps Tonite', 'Everybody Hurts', 'New Orleans Instrumental No. 1', 'Sweetness Follows', 'Monty Got A Raw Deal', 'Ignoreland', 'Star Me Kitten', 'Man On The Moon', 'Nightswimming', 'Find The River']}, {'artist': 'Jay Z', 'album': 'Reasonable Doubt', 'tracks': ['No Escape', 'Uneven Challenge', 'Suicidal Jealousy', 'Wasted Game', 'Alcohol Related', 'Blinded By A Thousand Reasons', 'Narcolepsy', 'The Relentless Quest Of Paul Smith', 'This Is The Line', 'The Worst To Come']}, {'artist': 'David Bowie', 'album': 'Low', 'tracks': ['Take On Me', 'Train Of Thought', 'Hunting High And Low', 'The Blue Sky', \"Living A Boy's Adventure Tale\", 'The Sun Always Shines On T.V.', 'And You Tell Me', 'Love Is Reason', 'I Dream Myself Alive', 'Here I Stand And Face The Rain']}, {'artist': 'Jay Z', 'album': 'The Blueprint', 'tracks': ['THE SEX - Intro', 'My Gun', 'Like Em Young', 'Talking Body', 'Timebomb', 'THE LOVE - Interlude', 'Moments', 'The Way That I Am', 'Got Love', 'Not On Drugs', 'THE PAIN - Interlude', 'Thousand Miles', 'Habits (Stay High)', 'This Time Around', 'Run On Love - QOTC Edit', 'Habits (Stay High) - Hippie Sabotage Remix', 'Love Ballad', 'Paradise', 'Over', 'Out Of Mind', 'Heroes (we could be)', 'Crave', 'Not On Drugs - Ali Payami Remix']}, {'artist': 'Bruce Springsteen', 'album': 'The River', 'tracks': ['The Ties That Bind', 'Sherry Darling', 'Jackson Cage', 'Two Hearts', 'Independence Day', 'Hungry Heart', 'Out In the Street', 'Crush on You', 'You Can Look (But You Better Not Touch)', 'I Wanna Marry You', 'The River', 'Point Blank', 'Cadillac Ranch', \"I'm a Rocker\", 'Fade Away', 'Stolen Car', 'Ramrod', 'The Price You Pay', 'Drive All Night', 'Wreck on the Highway']}, {'artist': 'Otis Redding', 'album': 'Complete & Unbelievable: The Otis Redding Dictionary of Soul', 'tracks': ['Fa-Fa-Fa-Fa-Fa (Sad Song) [Mono] - Remastered', \"I'm Sick Y'All (Mono) - Remastered\", 'Tennessee Waltz (Mono) - Remastered', 'Sweet Lorene (Mono) - Remastered', 'Try A Little Tenderness (Mono) - Remastered', 'Day Tripper (Mono) - Remastered', \"My Lover's Prayer (Mono) - Remastered\", 'She Put The Hurt On Me (Mono) - Remastered', 'Ton Of Joy (Mono) - Remastered', \"You're Still My Baby (Mono) - Remastered\", 'Hawg For You (Mono) - Remastered', 'Love Have Mercy (Mono) - Remastered', 'You Left The Water Running', 'Trick Or Treat (Outtake)', 'Loving By The Pound (Take 1 - Outtake)', \"Don't Mess With Cupid (B-Side)\", 'Try A Little Tenderness (Alternate Take 1)', 'Fa-Fa-Fa-Fa-Fa (Sad Song) - Remastered', \"I'm Sick Y'All - Remastered\", 'Tennessee Waltz - Remastered', 'Sweet Lorene - Remastered', 'Try A Little Tenderness - Remastered', 'Day Tripper - Remastered', \"My Lover's Prayer - Remastered\", 'She Put The Hurt On Me - Remastered', 'Ton Of Joy - Remastered', \"You're Still My Baby - Remastered\", 'Hawg For You - Remastered', 'Love Have Mercy - Remastered', 'Fa-Fa-Fa-Fa-Fa (Sad Song) - Live in Europe 3/67 [Remastered]', 'Day Tripper - Live in Europe 3/67 [Remastered]', 'Try A Little Tenderness (Live In Europe)']}, {'artist': 'Metallica', 'album': 'Metallica (\"The Black Album\")', 'tracks': ['Enter Sandman', 'Sad But True', 'Holier Than Thou', 'The Unforgiven', 'Wherever I May Roam', \"Don't Tread On Me\", 'Through The Never', 'Nothing Else Matters', 'Of Wolf And Man', 'The God That Failed', 'My Friend Of Misery', 'The Struggle Within']}, {'artist': 'Whitney Houston', 'album': 'Whitney Houston', 'tracks': ['I Wanna Dance with Somebody (Who Loves Me)', 'Just the Lonely Talking Again', 'Love Will Save the Day', \"Didn't We Almost Have It All\", 'So Emotional', 'Where You Are', 'Love Is a Contact Sport', \"You're Still My Man\", 'For the Love of You', 'Where Do Broken Hearts Go', 'I Know Him So Well - from \"Chess\"']}, {'artist': 'The Kinks', 'album': 'The Kinks Are The Village Green Preservation Society', 'tracks': ['The Village Green Preservation Society - Stereo Mix', 'Do You Remember Walter? - Stereo Mix', 'Picture Book - Stereo Mix', 'Johnny Thunder - Stereo Mix', 'Last of the Steam-Powered Trains - Stereo Mix', 'Big Sky - Stereo Mix', 'Sitting By the Riverside - Stereo Mix', 'Animal Farm - Stereo Mix', 'Village Green - Stereo Mix', 'Starstruck - Stereo Mix', 'Phenomenal Cat - Stereo Mix', 'All of My Friends Were There - Stereo Mix', 'Wicked Annabella - Stereo Mix', 'Monica - Stereo Mix', 'People Take Pictures of Each Other - Stereo Mix', 'Mr. Songbird - Stereo Mix', 'Days - Stereo Mix', 'Do You Remember Walter? - Stereo Mix;12-track VGPS version', 'People Take Pictures of Each Other - Stereo Mix; 12-track VGPS Version', 'The Village Green Preservation Society - Mono Mix', 'Do You Remember Walter? - Mono Mix', 'Picture Book - Mono Mix', 'Johnny Thunder - Mono Mix', 'Last of the Steam-Powered Trains - Mono Mix', 'Big Sky - Mono Mix', 'Sitting By the Riverside - Mono Mix', 'Animal Farm - Mono Mix', 'Village Green - Mono Mix', 'Starstruck - Mono Mix', 'Phenomenal Cat - Mono Mix', 'All of My Friends Were There - Mono Mix', 'Wicked Annabella - Mono Mix', 'Monica - Mono Mix', 'People Take Pictures of Each Other', 'Days - Mono Mix', 'Mr. Songbird - Mono Mix', 'Polly', 'Wonderboy - Mono Mix', 'Berkeley Mews - Mono Mix', 'Village Green - Mono Mix;No Strings Version', 'Village Green - Stereo Mix;Orchestra Overdub', 'Misty Water - Stereo Mix', 'Berkeley Mews - Stereo Mix', 'Easy Come, There You Went - Stereo Mix', 'Polly - Stereo Mix', 'Animal Farm - Alternate Stereo Mix', 'Phenomenal Cat - Mono Instrumental Version', 'Johnny Thunder - Stereo Remix', 'Did You See His Name - Mono Alternate Version', \"Mick Avory's Underpants - Mono Mix\"]}, {'artist': 'Janet', 'album': 'The Velvet Rope', 'tracks': ['Interlude - Twisted Elegance', 'Velvet Rope', 'You', \"Got 'Til It's Gone - Feat. Q-Tip and Joni Mitchell\", 'Interlude - Speaker Phone', 'My Need', 'Interlude - Fasten Your Seatbelts', 'Go Deep', 'Free Xone', 'Interlude - Memory', 'Together Again', 'Interlude - Online', 'Empty', 'Interlude - Full', 'What About', 'Every Time', \"Tonight's The Night\", 'I Get Lonely', 'Rope Burn', 'Anything', 'Interlude - Sad', \"Special - Contains Hidden Track 'Can't Be Stopped'\"]}, {'artist': 'Willie Nelson', 'album': 'Stardust', 'tracks': ['Five Years - 2012 Remastered Version', 'Soul Love - 2012 Remastered Version', 'Moonage Daydream - 2012 Remastered Version', 'Starman - 2012 Remastered Version', \"It Ain't Easy - 2012 Remastered Version\", 'Lady Stardust - 2012 Remastered Version', 'Star - 2012 Remastered Version', 'Hang On To Yourself - 2012 Remastered Version', 'Ziggy Stardust - 2012 Remastered Version', 'Suffragette City - 2012 Remastered Version', \"Rock 'N' Roll Suicide - 2012 Remastered Version\"]}, {'artist': 'Grateful Dead', 'album': 'American Beauty', 'tracks': ['Irresistible', 'American Beauty/American Psycho', 'Centuries', \"The Kids Aren't Alright\", 'Uma Thurman', 'Jet Pack Blues', 'Novocaine', 'Fourth Of July', 'Favorite Record', 'Immortals', \"Twin Skeleton's (Hotel In NYC)\"]}, {'artist': 'Crosby, Stills & Nash', 'album': 'Crosby, Stills & Nash', 'tracks': ['Suite: Judy Blue Eyes - Remastered', 'Marrakesh Express - Remastered', 'Guinevere - Remastered', \"You Don't Have To Cry - Remastered\", 'Pre-Road Downs - Remastered', 'Wooden Ships - Remastered', 'Lady Of The Island - Remastered', 'Helplessly Hoping - Remastered', 'Long Time Gone - Remastered', '49 Bye-Byes - Remastered', 'Do For The Others - Bonus Track', 'Song With No Words', \"Everybody's Talkin' - Bonus Track\", 'Teach Your Children - Bonus Track']}, {'artist': 'Tracy Chapman', 'album': 'Tracy Chapman', 'tracks': [\"Talkin' Bout A Revolution\", 'Fast Car', 'Across The Lines', 'Behind The Wall', 'Baby Can I Hold You', \"Mountains O' Things\", \"She's Got Her Ticket\", 'Why?', 'For My Lover', 'If Not Now...', 'For You']}, {'artist': 'Grateful Dead', 'album': \"Workingman's Dead\", 'tracks': [\"Uncle John's Band\", 'High Time', 'Dire Wolf', 'New Speedway Boogie', 'Cumberland Blues', 'Black Peter', 'Easy Wind', 'Casey Jones']}, {'artist': 'Ray Charles', 'album': 'The Genius of Ray Charles', 'tracks': ['Let The Good Times Roll', 'It Had To Be You', \"Alexander's Ragtime Band\", 'Two Years Of Torture', 'When Your Lover Has Gone', 'Deed I Do', 'Just For A Thrill', \"You Won't Let Me Go\", \"Tell Me You'll Wait For Me\", \"Don't Let The Sun Catch You Crying\", 'Am I Blue', 'Come Rain Or Come Shine']}, {'artist': 'Blood, Sweat & Tears', 'album': 'Child Is Father to the Man', 'tracks': ['Overture', \"I Love You More Than You'll Ever Know\", 'Morning Glory', 'My Days Are Numbered', 'Without Her', 'Just One Smile', \"I Can't Quit Her\", \"Meagan's Gypsy Eyes\", \"Somethin' Goin' On\", 'House in the Country', 'The Modern Adventures of Plato, Diogenes and Freud', 'So Much Love / Underture', 'Refugee from Yuhupitz - Instrumental', \"I Love You More Than You'll Ever Know\", 'The Modern Adventures of Plato, Diogenes and Freud']}, {'artist': 'The Who', 'album': 'Quadrophenia', 'tracks': ['I Am The Sea', 'The Real Me', 'Quadrophenia', 'Cut My Hair - 5.1 Mix', 'The Punk And The Godfather - 5.1 Mix', \"I'm One\", 'The Dirty Jobs - 5.1 Mix', 'Helpless Dancer', 'Is It In My Head? - 5.1 Mix', \"I've Had Enough\", '5:15', 'Sea And Sand - 5.1 Mix', 'Drowned - 5.1 Mix', 'Bell Boy - 1996 Remastered Version', 'Doctor Jimmy', 'The Rock', \"Love Reign O'er Me - 1996 Remastered Version\"]}, {'artist': 'Paul Simon', 'album': 'Paul Simon', 'tracks': ['Mother and Child Reunion', 'Duncan', 'Everything Put Together Falls Apart', 'Run That Body Down', 'Armistice Day', 'Me and Julio Down by the Schoolyard', 'Peace Like a River', 'Papa Hobo', \"Hobo's Blues\", 'Paranoia Blues', 'Congratulations', 'Me and Julio Down by the Schoolyard (Demo - San Francisco 2/71)', 'Duncan (Demo - San Francisco 2/71)', 'Paranoia Blues (Unreleased Version)']}, {'artist': 'The Jesus and Mary Chain', 'album': 'Psychocandy', 'tracks': ['Just Like Honey', 'The Living End', 'Taste The Floor', 'The Hardest Walk', 'Cut Dead', 'In A Hole', 'Taste Of Cindy', 'Never Understand', 'Inside Me', 'Sowing Seeds', 'My Little Underground', 'You Trip Me Up', \"Something's Wrong\", \"It's So Hard\", 'Suck [Single Version]', 'Ambition [Single Version]', 'Just Out Of Reach', \"Boyfriend's Dead [Single Version]\", 'Head', 'Cracked', 'Upside Down', 'Vegetable Man [Single Version]', 'Just Like Honey - Demo', 'The Living End', 'My Little Underground', 'Never Understand [Alternate Version]', 'Jesus Fuck']}, {'artist': 'The Rolling Stones', 'album': 'Some Girls', 'tracks': ['Miss You - Remastered', 'When The Whip Comes Down - Remastered', 'Just My Imagination (Running Away With Me) - Remastered', 'Some Girls - Remastered', 'Lies - Remastered', 'Far Away Eyes - Remastered', 'Respectable - Remastered', 'Before They Make Me Run - Remastered', 'Beast Of Burden - Remastered', 'Shattered - Remastered']}, {'artist': 'The Beach Boys', 'album': 'The Beach Boys Today!', 'tracks': ['Do You Wanna Dance?', 'Good to My Baby', \"Don't Hurt My Little Sister\", 'When I Grow Up (To Be a Man)', 'Help Me, Rhonda', 'Dance, Dance, Dance', 'Please Let Me Wonder', \"I'm So Young\", 'Kiss Me, Baby', 'She Knows Me Too Well', 'In the Back of My Mind', 'Bull Session With \"Big Daddy\"']}, {'artist': 'Sleater Kinney', 'album': 'Dig Me Out', 'tracks': ['Dig Me Out', 'One More Hour', 'Turn It On', \"The Drama You've Been Craving\", 'Heart Factory', 'Words and Guitar', \"It's Enough\", 'Little Babies', 'Not What You Want', 'Buy Her Candy', 'Things You Say', \"Dance Song '97\", 'Jenny']}, {'artist': 'Smokey Robinson & The Miracles', 'album': 'Going to a Go-Go', 'tracks': ['The Tracks Of My Tears', 'Going To A Go-Go', 'Ooo Baby Baby', 'My Girl Has Gone', 'In Case You Need Love', 'Choosey Beggar', 'Since You Won My Heart', 'From Head To Toe', \"All That's Good\", 'My Baby Changes Like The Weather', 'Let Me Have Some', 'A Fork In The Road']}, {'artist': 'LaBelle', 'album': 'Nightbirds', 'tracks': ['Lady Marmalade', 'Somebody Somewhere', 'Are You Lonely?', 'It Took a Long Time', \"Don't Bring Me Down\", 'What Can I Do For You?', 'Nightbird', 'Space Children', 'All Girl Band', 'You Turn Me On']}, {'artist': 'Eminem', 'album': 'The Slim Shady LP', 'tracks': ['Public Service Announcement', 'My Name Is', 'Guilty Conscience', 'Brain Damage', 'Paul - Skit', 'If I Had', \"'97 Bonnie & Clyde\", 'Bitch - Skit', 'Role Model', 'Lounge - Skit', 'My Fault', 'Ken Kaniff - Skit', 'Cum On Everybody', 'Rock Bottom', \"Just Don't Give A Fuck\", 'Soap - Skit', 'As The World Turns', \"I'm Shady\", 'Bad Meets Evil', \"Still Don't Give A Fuck\"]}, {'artist': 'Parliament', 'album': 'Mothership Connection', 'tracks': ['P-Funk (Wants To Get Funked Up)', 'Mothership Connection (Star Child)', 'Unfunky UFO', 'Supergroovalisticprosifunkstication (The Bumps Bump)', 'Handcuffs', 'Give Up The Funk (Tear The Roof Off The Sucker)', 'Night Of The Thumpasorus Peoples']}, {'artist': 'Janet Jackson', 'album': 'Rhythm Nation 1814', 'tracks': ['Interlude: Pledge', 'Rhythm Nation', 'Interlude: T.V.', 'State Of The World', 'Interlude: Race', 'The Knowledge', \"Interlude: Let's Dance\", 'Miss You Much', 'Interlude: Come Back Interlude', 'Love Will Never Do (Without You)', \"Livin' In A World (They Didn't Make)\", 'Alright', 'Interlude: Hey Baby', 'Escapade', 'Interlude: No Acid', 'Black Cat', 'Lonely', 'Come Back To Me', 'Someday Is Tonight', \"Interlude: Livin'...In Complete Darkness\"]}, {'artist': 'David Bowie', 'album': 'Aladdin Sane', 'tracks': ['Watch That Man - 2013 Remastered Version', 'Aladdin Sane - 2013 Remastered Version', 'Drive-In Saturday - 2013 Remastered Version', 'Panic in Detroit - 2013 Remastered Version', 'Cracked Actor - 2013 Remastered Version', 'Time - 2013 Remastered Version', 'The Prettiest Star - 2013 Remastered Version', \"Let's Spend the Night Together - 2013 Remastered Version\", 'The Jean Genie - 2013 Remastered Version', 'Lady Grinning Soul - 2013 Remastered Version']}, {'artist': 'U2', 'album': \"All That You Can't Leave Behind\", 'tracks': ['Beautiful Day', \"Stuck In A Moment You Can't Get Out Of\", 'Elevation', 'Walk On', 'Kite', 'In A Little While', 'Wild Honey', 'Peace On Earth', 'When I Look At The World', 'New York', 'Grace']}, {'artist': 'Mary J. Blige', 'album': 'My Life', 'tracks': ['Momma Speech Intro', 'BPT', 'I Just Wanna Party', 'Left, Right', 'Bicken Back Being Bool', 'Meet The Flockers', 'My Nigga', 'Do It To Ya', 'Me & My Bitch', 'Who Do You Love?', 'Really Be (Smokin N Drinkin)', '1AM', 'Thank God (Interlude)', 'Sorry Momma', 'When I Was Gone', 'Bompton', 'My Nigga - Remix']}, {'artist': 'Muddy Waters', 'album': 'Folk Singer', 'tracks': ['Midnight Special', 'Long John Dean', 'Stewball', 'Mother Earth', 'Mexican Cowboy', 'James Alley Blues', 'Rock Salt and Nails', 'Bring It With You When You Come', 'Kitty Puss', 'Keep It Clean']}, {'artist': 'Barry White', 'album': \"Can't Get Enough\", 'tracks': ['Mellow Mood - Pt. I', \"You're The First, The Last, My Everything\", \"I Can't Believe You Love Me\", \"Can't Get Enough Of Your Love, Babe\", 'Oh Love, Well We Finally Made It', 'I Love You More Than Anything (In This World Girl)', 'Mellow Mood - Pt. II']}, {'artist': 'The Cars', 'album': 'The Cars', 'tracks': ['Good Times Roll', \"My Best Friend's Girl\", 'Just What I Needed', \"I'm In Touch With Your World\", \"Don't Cha Stop\", \"You're All I've Got Tonight\", 'Bye Bye Love', 'Moving In Stereo', 'All Mixed Up']}, {'artist': 'Stevie Wonder', 'album': 'Music of My Mind', 'tracks': ['Love Having You Around', 'Superwoman', 'I Love Every Little Thing About You', 'Sweet Little Girl', 'Happier Than The Morning Sun', 'Girl Blue', 'Seems So Long', 'Keep On Running', 'Evil']}, {'artist': 'Al Green', 'album': \"I'm Still in Love With You\", 'tracks': [\"I'm Still in Love with You\", \"I'm Glad You're Mine\", 'Love and Happiness', 'What a Wonderful Thing Love Is', 'Simply Beautiful', 'Oh, Pretty Woman', 'For the Good Times', 'Look What You Done for Me', 'One of These Good Old Days']}, {'artist': 'X', 'album': 'Los Angeles', 'tracks': ['Neon - Live at the Nokia Theatre, Los Angeles, CA - December 2007', 'Stop This Train - Live at the Nokia Theatre, Los Angeles, CA - December 2007', 'In Your Atmosphere - Live at the Nokia Theatre, Los Angeles, CA - December 2007', 'Daughters - Live at the Nokia Theatre, Los Angeles, CA - December 2007', \"Free Fallin' - Live at the Nokia Theatre, Los Angeles, CA - December 2007\", 'Everyday I Have The Blues - Live at the Nokia Theatre, Los Angeles, CA - December 2007', 'Wait Until Tomorrow - Live at the Nokia Theatre, Los Angeles, CA - December 2007', 'Who Did You Think I Was - Live at the Nokia Theatre, Los Angeles, CA - December 2007', 'Come When I Call - Live at the Nokia Theatre, Los Angeles, CA - December 2007', 'Good Love Is On the Way - Live at the Nokia Theatre, Los Angeles, CA - December 2007', 'Out of My Mind - Live at the Nokia Theatre, Los Angeles, CA - December 2007', 'Vultures - Live at the Nokia Theatre, Los Angeles, CA - December 2007', 'Bold as Love - Live at the Nokia Theatre, Los Angeles, CA - December 2007', 'Waiting On the World to Change - Live at the Nokia Theatre, Los Angeles, CA - December 2007', 'Slow Dancing in a Burning Room - Live at the Nokia Theatre, Los Angeles, CA - December 2007', 'Why Georgia - Live at the Nokia Theatre, Los Angeles, CA - December 2007', 'The Heart of Life - Live at the Nokia Theatre, Los Angeles, CA - December 2007', \"I Don't Need No Doctor - Live at the Nokia Theatre, Los Angeles, CA - December 2007\", 'Gravity - Live at the Nokia Theatre, Los Angeles, CA - December 2007', \"I Don't Trust Myself (With Loving You) - Live at the Nokia Theatre, Los Angeles, CA - December 2007\", 'Belief - Live at the Nokia Theatre, Los Angeles, CA - December 2007', \"I'm Gonna Find Another You - Live at the Nokia Theatre, Los Angeles, CA - December 2007\"]}, {'artist': 'Grateful Dead', 'album': 'Anthem of the Sun', 'tracks': [\"That's It For The Other One (Parts I-IV)\", 'New Potato Caboose', 'Born Cross-Eyed', 'Alligator', 'Caution (Do Not Stop On The Tracks)']}, {'artist': 'Al Green', 'album': 'Call Me', 'tracks': ['Call On Me - Odd Mob Remix', 'Call On Me - EDWYNN X TIKAL, Spirix Remix', 'Call on Me - Ryan Riback Remix', 'Call On Me - Hella Remix', 'Call On Me - Raffa Remix']}, {'artist': 'Talking Heads', 'album': 'Talking Heads: 77', 'tracks': ['Uh-Oh, Love Comes To Town - 2005 Remastered Version', 'New Feeling - 2005 Remastered Version', 'Tentative Decisions - 2005 Remastered Version', 'Happy Day - 2005 Remastered Version', 'Who Is It? - 2005 Remastered Version', 'No Compassion - 2005 Remastered Version', 'The Book I Read - 2005 Remastered Version', \"Don't Worry About The Government - 2005 Remastered Version\", 'First Week / Last Week....Carefree - 2005 Remastered Version', 'Psycho Killer - 2005 Remastered Version', 'Pulled Up - 2005 Remastered Version', 'Love -> Building on Fire - 2005 Remastered Version', \"I Wish You Wouldn't Say That - 2005 Remastered Version\", 'Psycho Killer - Acoustic', 'I Feel It in My Heart - Remastered Version', 'Sugar On My Tongue - 2005 Remastered Version']}, {'artist': 'Bob Dylan and the Band', 'album': 'The Basement Tapes', 'tracks': ['Down On The Bottom', 'Married To My Hack', 'Kansas City', 'Spanish Mary', 'Liberty Street', 'Nothing To It', 'Golden Tom – Silver Judas', 'When I Get My Hands On You', 'Duncan And Jimmy', 'Florida Key', 'Hidee Hidee Ho #11', 'Lost On The River #12', 'Stranger', 'Card Shark', 'Quick Like A Flash', 'Hidee Hidee Ho #16', 'Diamond Ring', 'The Whistle Is Blowing', 'Six Months In Kansas City (Liberty Street)', 'Lost On The River #20']}, {'artist': 'The Velvet Underground', 'album': 'White Light/White Heat', 'tracks': ['Dear Lover', \"Don't Drag Me Down\", 'Untitled', 'I Was Wrong', 'Through These Eyes', 'Down On The World Again', 'When The Angels Sing', 'Gotta Know The Rules', 'Crown Of Thorns', 'Pleasure Seeker', 'Down Here (w/ The Rest Of Us)', 'Under My Thumb']}, {'artist': 'MC5', 'album': 'Kick Out the Jams', 'tracks': [\"Ramblin' Rose - Intro/ LP Version\", 'Kick Out the Jams', 'Come Together', 'Rocket Reducer No. 62 - Talk/', 'Borderline', 'Motor City Is Burning', 'I Want You Right Now', 'Starship']}, {'artist': 'Leonard Cohen', 'album': 'Songs of Love and Hate', 'tracks': ['Avalanche', \"Last Year's Man\", 'Dress Rehearsal Rag', 'Diamonds in the Mine', 'Love Calls You By Your Name', 'Famous Blue Raincoat', 'Sing Another Song, Boys', 'Joan of Arc']}, {'artist': 'The Smiths', 'album': 'Meat Is Murder', 'tracks': ['The Headmaster Ritual - 2011 Remastered Version', 'Rusholme Ruffians - 2011 Remastered Version', \"I Want The One I Can't Have - 2011 Remastered Version\", 'What She Said - 2011 Remastered Version', \"That Joke Isn't Funny Anymore - single version\", 'Nowhere Fast - 2011 Remastered Version', 'Well I Wonder - 2011 Remastered Version', 'Barbarism Begins At Home - 2011 Remastered Version', 'Meat Is Murder - 2011 Remastered Version']}, {'artist': 'The Mothers of Invention', 'album': \"We're Only in It for the Money\", 'tracks': ['Are You Hung Up?', 'Who Needs The Peace Corps?', 'Concentration Moon', 'Mom & Dad', 'Telephone Conversation', 'Bow Tie Daddy', \"Harry, You're A Beast\", \"What's The Ugliest Part Of Your Body?\", 'Absolutely Free', 'Flower Punk', 'Hot Poop', 'Nasal Retentive Calliope Music', \"Let's Make The Water Turn Black\", 'The Idiot Bastard Son', 'Lonely Little Girl', 'Take Your Clothes Off When You Dance', \"What's The Ugliest Part Of Your Body? - Reprise\", 'Mother People', 'The Chrome Plated Megaphone Of Destiny']}, {'artist': 'Kanye West', 'album': 'The College Dropout', 'tracks': ['Intro', \"We Don't Care\", 'Graduation Day', 'All Falls Down', \"I'll Fly Away\", 'Spaceship', 'Jesus Walks', 'Never Let Me Down', 'Get Em High', 'Workout Plan', 'The New Workout Plan', 'Slow Jamz', 'Breathe In Breathe Out', 'School Spirit Skit 1', 'School Spirit', 'School Spirit Skit 2', 'Lil Jimmy Skit', 'Two Words', 'Through The Wire', 'Family Business', 'Last Call']}, {'artist': 'Weezer', 'album': 'Weezer (Blue Album)', 'tracks': ['My Name Is Jonas', 'No One Else', 'The World Has Turned And Left Me Here', 'Buddy Holly', 'Undone - The Sweater Song', 'Surf Wax America', \"Say It Ain't So - Remix\", 'In The Garage', 'Holiday', 'Only In Dreams', 'Mykel And Carli - Single Version', 'Susanne - Single Version', 'My Evaline - Single Version', 'Jamie - DGC Rarities Version', 'My Name Is Jonas - Live In Rochester, NY/1994', 'Surf Wax America - Live In Rochester, NY/1994', \"Jamie - Live/Acoustic From Cat's Paw Studios/1995\", \"No One Else - Live/Acoustic From Cat's Paw Studios/1995\", 'Undone -- The Sweater Song - Kitchen Tape Demo', 'Paperface - Kitchen Tape Demo', 'Only In Dreams - Kitchen Tape Demo', 'Lullabye For Wayne - Pre-Production Recording', \"I Swear It's True - Pre-Production Recording\", \"Say It Ain't So\"]}, {'artist': 'Black Sabbath', 'album': 'Master of Reality', 'tracks': ['Sweet Leaf - Remastered Version', 'After Forever - Remastered Version', 'Embryo - Remastered Version', 'Children of the Grave - Remastered Version', 'Orchid - Remastered Version', 'Lord of This World - Remastered Version', 'Solitude - Remastered Version', 'Into the Void - Remastered Version']}, {'artist': 'Dolly Parton', 'album': 'Coat of Many Colors', 'tracks': ['Coat of Many Colors', 'Traveling Man', 'My Blue Tears', 'If I Lose My Mind', 'The Mystery Of The Mystery', \"She Never Met A Man (She Didn't Like)\", 'Early Morning Breeze', 'The Way I See You', 'Here I Am', 'A Better Place To Live']}, {'artist': 'Public Enemy', 'album': 'Fear of a Black Planet', 'tracks': ['Contract On The World Love Jam - Instrumental', 'Brothers Gonna Work It Out', '911 Is A Joke', 'Incident At 66.6 FM - Instrumental', 'Welcome To The Terrordome', 'Meet The G That Killed Me', 'Pollywanacraka', 'Anti-Nigger Machine', 'Burn Hollywood Burn', 'Power To The People', 'Who Stole The Soul?', 'Fear Of A Black Planet', 'Revolutionary Generation', \"Can't Do Nuttin' For Ya, Man!\", 'Reggie Jax', 'Leave This Off Your Fu*Kin Charts - Instrumental', 'B Side Wins Again', 'War At 33 1/3', 'Final Count Of The Collision Between Us And The Damned - Instrumental', 'Fight The Power']}, {'artist': 'Bob Dylan', 'album': 'John Wesley Harding', 'tracks': ['John Wesley Harding', 'As I Went out One Morning', 'I Dreamed I Saw St. Augustine', 'All Along the Watchtower', 'The Ballad of Frankie Lee and Judas Priest', \"Drifter's Escape\", 'Dear Landlord', 'I Am a Lonesome Hobo', 'I Pity the Poor Immigrant', 'The Wicked Messenger', 'Down Along the Cove', \"I'll Be Your Baby Tonight\"]}, {'artist': 'Jeff Buckley', 'album': 'Grace', 'tracks': ['Burn', 'Just Like You', 'I Hate Everything About You', 'Home', 'Scared', 'Let You Down', 'Now or Never', 'Born Like This', 'Drown', 'Wake Up', 'Take Me Under', 'Overrated', 'I Hate Everything About You - Live Acoustic - Rolling Stone Original (EP)', 'Are You Ready', 'Drown - Live Acoustic - Rolling Stone Original (EP)']}, {'artist': 'Lucinda Williams', 'album': 'Car Wheels on a Gravel Road', 'tracks': ['Right In Time', 'Car Wheels On A Gravel Road', '2 Kool 2 Be 4-Gotten', 'Drunken Angel', 'Concrete And Barbed Wire', 'Lake Charles', \"Can't Let Go\", 'I Lost It', 'Metal Firecracker', 'Greenville', 'Still I Long For Your Kiss', 'Joy', 'Jackson']}, {'artist': 'Beck', 'album': 'Odelay', 'tracks': ['Devils Haircut', 'Hotwax', 'Lord Only Knows', 'The New Pollution', 'Derelict', 'Novacane', 'Jack-Ass', \"Intro To Where It's At\", \"Where It's At\", 'Minus', 'Sissyneck', 'Readymade', 'High 5 (Rock The Catskills)', 'Ramshackle', 'Computer Rock']}, {'artist': 'The Beatles', 'album': \"A Hard Day's Night\", 'tracks': [\"A Hard Day's Night - Remastered\", 'I Should Have Known Better - Remastered', 'If I Fell - Remastered', \"I'm Happy Just To Dance With You - Remastered\", 'And I Love Her - Remastered', 'Tell Me Why - Remastered', \"Can't Buy Me Love - Remastered\", 'Any Time At All - Remastered', \"I'll Cry Instead - Remastered\", 'Things We Said Today - Remastered', 'When I Get Home - Remastered', \"You Can't Do That - Remastered\", \"I'll Be Back - Remastered\"]}, {'artist': 'Creedence Clearwater Revival', 'album': 'Willy and the Poor Boys', 'tracks': ['Down On The Corner', 'It Came Out Of The Sky', 'Cotton Fields', 'Poorboy Shuffle', \"Feelin' Blue\", 'Fortunate Son', \"Don't Look Now\", 'The Midnight Special', \"Side O' The Road\", 'Effigy', 'Fortunate Son - Live', 'It Came Out Of The Sky - Live', 'Down On The Corner - Jam With Booker T.']}, {'artist': 'Red Hot Chili Peppers', 'album': 'Blood Sugar Sex Magik', 'tracks': ['The Power Of Equality', 'If You Have To Ask', 'Breaking The Girl', 'Funky Monks', 'Suck My Kiss', 'I Could Have Lied', 'Mellowship Slinky In B Major', 'The Righteous & The Wicked', 'Give It Away', 'Blood Sugar Sex Magik', 'Under The Bridge', 'Naked In The Rain', 'Apache Rose Peacock', 'The Greeting Song', 'My Lovely Man', 'Sir Psycho Sexy', \"They're Red Hot\", 'Little Miss Lover - Bonus Track', 'Castles Made Of Sand - Bonus Track']}, {'artist': 'Various', 'album': 'The Sun Records Collection', 'tracks': [\"Drivin' Slow\", 'We All Gotta Go Sometime', 'Easy', \"Just Walkin' In The Rain\", \"Feelin' Good\", 'Tiger Man (King Of The Jungle)', 'Mystery Train', \"Lookin' For My Baby\", 'The Boogie Disease', 'Cotton Crop Blues', \"I'm Gonna Murder My Baby\", \"Rockin' Chair Daddy\", \"That's All Right\", 'I Feel So Worried', 'Red Hot', \"Peepin' Eyes\", 'Mystery Train', 'Folsom Prison Blues', 'Blue Suede Shoes', 'Rock & Roll Ruby', 'Slow Down', 'I Walk the Line', 'Ooby Dooby', 'Red Headed Woman', 'Shoobie Oobie', 'Come On Little Mama', \"Drinkin' Wine\", \"Feelin' Low\", 'Flying Saucers Rock And Roll', 'Matchbox', 'Love My Baby', \"Whole Lot of Shakin' Going On\", \"Rock Boppin' Baby\", 'Raunchy', 'Cat Called Domino', 'Red Cadillac And A Black Moustache', 'High School Confidential', 'Shake Around', 'One More Time', 'Mona Lisa', 'Lonely Weekends', 'Big Dream', 'Who Will The Next Fool Be', 'Cadillac Man']}, {'artist': \"Jane's Addiction\", 'album': \"Nothing's Shocking\", 'tracks': ['Up The Beach', 'Ocean Size', 'Had A Dad', 'Ted, Just Admit It...', 'Standing In The Shower...Thinking', 'Summertime Rolls', 'Mountain Song', 'Idiots Rule', 'Jane Says', 'Thank You Boys', 'Pigs In Zen']}, {'artist': 'Nirvana', 'album': 'MTV Unplugged in New York', 'tracks': ['About A Girl', 'Come As You Are', \"Jesus Doesn't Want Me For A Sunbeam\", 'The Man Who Sold The World', 'Pennyroyal Tea', 'Dumb', 'Polly', 'On A Plain', 'Something In The Way', 'Plateau', 'Oh Me', 'Lake Of Fire', 'All Apologies', 'Where Did You Sleep Last Night']}, {'artist': 'Lauryn Hill', 'album': 'The Miseducation of Lauryn Hill', 'tracks': ['Intro', 'Lost Ones', 'Ex-Factor', 'To Zion', 'Doo Wop (That Thing)', 'Superstar', 'Final Hour', 'When It Hurts so Bad', 'I Used to Love Him', 'Forgive Them Father', 'Every Ghetto, Every City', 'Nothing Even Matters', 'Everything Is Everything', 'The Miseducation of Lauryn Hill', \"Can't Take My Eyes Off of You\", 'Tell Him']}, {'artist': 'Tom Petty and the Heartbreakers', 'album': 'Damn the Torpedoes', 'tracks': ['Refugee', 'Here Comes My Girl', 'Even The Losers', 'Shadow Of A Doubt (A Complex Kid)', 'Century City', \"Don't Do Me Like That\", 'You Tell Me', \"What Are You Doin' In My Life?\", 'Louisiana Rain', 'Nowhere', 'Surrender', 'Casa Dega', \"It's Rainin' Again - Playback 1995 Box Set Version\", 'Shadow Of A Doubt (A Complex Kid) - Live At Hammersmith Odeon, London, England/1980', \"Don't Do Me Like That - Live At Hammersmith Odeon, London, England/1980\", \"Somethin' Else - Live At Hammersmith Odeon, London, England/1980\", 'Casa Dega - Demo', 'Refugee - Alt. Take']}, {'artist': 'The Velvet Underground', 'album': 'The Velvet Underground', 'tracks': ['Candy Says', 'What Goes On', 'Some Kinda Love', 'Pale Blue Eyes', 'Jesus', 'Beginning To See The Light', \"I'm Set Free\", \"That's The Story Of My Life\", 'The Murder Mystery', 'After Hours', \"I'm Waiting For The Man - Live In San Francisco / 1969\", 'What Goes On - Live In San Francisco / 1969', 'Some Kinda Love - Live In San Francisco / 1969', 'Over You - Live In San Francisco / 1969', 'Beginning To See The Light - Live In San Francisco / 1969', 'Lisa Says - Live In San Francisco / 1969', 'Rock And Roll - Live In San Francisco / 1969', 'Pale Blue Eyes - Live In San Francisco / 1969', \"I Can't Stand It Anymore - Live In San Francisco / 1969\", 'Heroin - Live In San Francisco / 1969', 'White Light/White Heat - Live In San Francisco / 1969', 'Sweet Jane - Live In San Francisco / 1969']}, {'artist': 'Pixies', 'album': 'Surfer Rosa', 'tracks': ['Bone Machine', 'Break My Body', 'Something Against You', 'Broken Face', 'Gigantic', 'River Euphrates', 'Where Is My Mind?', 'Cactus', \"Tony's Theme\", 'Oh My Golly!', 'Vamos (Surfer Rosa)', \"I'm Amazed\", 'Brick Is Red']}, {'artist': \"The O'Jays\", 'album': 'Back Stabbers', 'tracks': [\"When the World's at Peace\", 'Back Stabbers', 'Who Am I', '(They Call Me) Mr. Lucky', 'Time to Get Down', '992 Arguments', 'Listen to the Clock on the Wall', 'Shiftless, Shady, Jealous Kind of People', 'Sunshine', 'Love Train']}, {'artist': 'The Wailers', 'album': \"Burnin'\", 'tracks': ['Get Up, Stand Up', 'Hallelujah Time', 'I Shot The Sheriff', \"Burnin' And Lootin'\", 'Put It On', 'Small Axe', 'Pass It On', 'Duppy Conqueror', 'One Foundation', 'Rastaman Chant', 'Reincarnated Soul', 'No Sympathy - Remastered Version', 'The Oppressed Song - Remastered Version']}, {'artist': 'Radiohead', 'album': 'Amnesiac', 'tracks': ['Packt Like Sardines In a Crushed Tin Box', 'Pyramid Song', 'Pulk/Pull Revolving Doors', 'You And Whose Army?', 'I Might Be Wrong', 'Knives Out', 'Morning Bell/Amnesiac', 'Dollars & Cents', 'Hunting Bears', 'Like Spinning Plates', 'Life In a Glasshouse']}, {'artist': 'Nick Drake', 'album': 'Pink Moon', 'tracks': ['Pink Moon', 'Place To Be', 'Road', 'Which Will', 'Horn', 'Things Behind The Sun', 'Know', 'Parasite', 'Free Ride', 'Harvest Breed', 'From The Morning']}, {'artist': 'Randy Newman', 'album': 'Sail Away', 'tracks': ['Sail Away']}, {'artist': 'The Police', 'album': 'Ghost in the Machine', 'tracks': ['Spirits In The Material World - Remastered 2003', 'Every Little Thing She Does Is Magic - Remastered 2003', 'Invisible Sun - Remastered 2003', 'Hungry For You - Remastered 2003', 'Demolition Man - Remastered 2003', 'Too Much Information - Remastered 2003', 'Re-Humanise Yourself - Remastered 2003', 'One World (Not Three) - Remastered 2003', 'Omegaman - Remastered 2003', 'Secret Journey - Remastered 2003', 'Darkness - Remastered 2003']}, {'artist': 'David Bowie', 'album': 'Station to Station', 'tracks': ['Station To Station - 2016 Remastered Version', 'Golden Years - 2016 Remastered Version', 'Word On A Wing - 2016 Remastered Version', 'TVC15 - 2016 Remastered Version', 'Stay - 2016 Remastered Version', 'Wild Is The Wind - 2016 Remastered Version']}, {'artist': 'Eric Clapton', 'album': 'Slowhand', 'tracks': ['Cocaine', 'Wonderful Tonight', 'Lay Down Sally', 'Next Time You See Her', \"We're All The Way\", 'The Core', 'May You Never', 'Mean Old Frisco', 'Peaches And Diesel', 'Looking At The Rain', 'Alberta', 'Greyhound Bus', 'Stars, Strays And Ashtrays', 'Hello Old Friend - Live At Hammersmith Odeon', 'Sign Language - Live At Hammersmith Odeon', 'Alberta - Live At Hammersmith Odeon', 'Tell The Truth - Live At Hammersmith Odeon', \"Knocking On Heaven's Door - Live At Hammersmith Odeon\", \"Steady Rollin' Man - Live At Hammersmith Odeon\", \"Can't Find My Way Home - Live At Hammersmith Odeon\", 'Further On Up The Road - Live At Hammersmith Odeon', 'Stormy Monday - Live At Hammersmith Odeon', 'Badge - Live At Hammersmith Odeon', \"Nobody Knows You When You're Down And Out - Live At Hammersmith Odeon\", 'I Shot The Sheriff - Live At Hammersmith Odeon', 'Layla - Live At Hammersmith Odeon', 'Key To The Highway - Live At Hammersmith Odeon']}, {'artist': 'The Cure', 'album': 'Disintegration', 'tracks': ['Plainsong', 'Pictures Of You', 'Closedown', 'Lovesong', 'Last Dance', 'Lullaby', 'Fascination Street', 'Prayers For Rain', 'The Same Deep Water As You', 'Disintegration', 'Homesick', 'Untitled', 'Prayers For Rain [RS Home Demo (instrumental)-04/88]', 'Pictures Of You [RS Home Demo (instrumental)-04/88]', 'Fascination Street [RS Home Demo (instrumental)-04/88]', 'Homesick [Band Rehearsal (instrumental)-06/88]', 'Fear Of Ghosts [Band Rehearsal (instrumental)-06/88]', 'No Heart [Band Rehearsal (instrumental)-06/88]', 'Esten [Band Demo (instrumental)-09/88]', 'Closedown [Band Demo (instrumental)-09/88]', 'Lovesong [Band Demo (instrumental)-09/88]', '2 Late [(Alt. Version)-Band Demo (instrumental)-09/88]', 'The Same Deep Water As You [Band Demo (instrumental)-09/88]', 'Disintegration', 'Untitled [(Alt. Version)-Studio Rough (instrumental)-11/88]', 'Babble [(Alt. Version)-Studio Rough (instrumental)-11/88]', 'Plainsong [Studio Rough (guide vocal)-11/88]', 'Last Dance [Studio Rough (guide vocal)-11/88]', 'Lullaby [Studio Rough (guide vocal)-11/88]', 'Out Of Mind [Studio Rough (guide vocal)-11/88]', 'Delirious Night [Rough Mix (vocal)-12/88]', 'Pirate Ships [(RS solo) Rough Mix (vocal)-12/89]', 'Plainsong - Live at Wembley 07/89 - remix 07/09', 'Pictures Of You - Live at Wembley 07/89 - remix 07/09', 'Closedown - Live at Wembley 07/89 - remix 07/09', 'Lovesong - Live at Wembley 07/89 - remix 07/09', 'Last Dance - Live at Wembley 07/89 - remix 07/09', 'Lullaby - Live at Wembley 07/89 - remix 07/09', 'Fascination Street - Live at Wembley 07/89 - remix 07/09', 'Prayers For Rain - Live at Wembley 07/89 - remix 07/09', 'The Same Deep Water As You - Live at Wembley 07/89 - remix 07/09', 'Disintegration - Live at Wembley 07/89 - remix 07/09', 'Homesick - Live at Wembley 07/89 - remix 07/09', 'Untitled - Live at Wembley 07/89 - remix 07/09']}, {'artist': 'Liz Phair', 'album': 'Exile in Guyville', 'tracks': ['6\\'1\" (Remastered)', 'Help Me Mary (Remastered)', 'Glory (Remastered)', 'Dance of the Seven Veils (Remastered)', 'Never Said (Remastered)', 'Soap Star Joe (Remastered)', 'Explain It to Me (Remastered)', 'Canary (Remastered)', 'Mesmerizing (Remastered)', 'Fuck and Run (Remastered)', 'Girls! Girls! Girls! (Remastered)', 'Divorce Song (Remastered)', 'Shatter (Remastered)', 'Flower (Remastered)', 'Johnny Sunshine (Remastered)', 'Gunshy (Remastered)', 'Stratford-On-Guy (Remastered)', 'Strange Loop (Remastered)']}, {'artist': 'Sonic Youth', 'album': 'Daydream Nation', 'tracks': ['Teen Age Riot (Album Version)', 'Silver Rocket (Album Version)', 'The Sprawl (Album Version)', \"'Cross the Breeze (Album Version)\", \"Eric's Trip (Album Version)\", 'Total Trash (Album Version)', 'Hey Joni (Album Version)', 'Providence (Album Version)', 'Candle (Album Version)', 'Rain King (Album Version)', 'Kissability (Album Version)', 'A) the Wonder (Album Version)', 'B) Hyperstation (Album Version)', 'Z) Eliminator Jr. (Album Version)', \"Eric's Trip (Home Demo)\", 'The Sprawl (Live)', \"'Cross the Breeze (Live)\", 'Hey Joni (Live)', 'Silver Rocket (Live)', 'Kissability (Live)', \"Eric's Trip (Live)\", 'Candle (Live)', 'The Wonder (Live)', 'Hyperstation (Live)', 'Eliminator Jr. (Live)', 'Providence (Live)', 'Teen Age Riot (Live)', 'Rain King (Live)', 'Totally Trashed (Live)', 'Total Trash (Live)', 'Within You Without You', \"Touch Me I'm Sick\", 'Computer Age', 'Electricity']}, {'artist': 'James Brown', 'album': 'In the Jungle Groove', 'tracks': [\"It's A New Day - Pt. 1 & 2\", 'Funky Drummer - Pt. 1 & 2', 'Give It Up Or Turnit A Loose - Remix', 'I Got To Move', 'Funky Drummer - Bonus Beat Reprise', \"Talkin' Loud And Sayin' Nothing - Remix\", 'Get Up, Get Into It, Get Involved - Pt. 1 & 2', 'Soul Power - Re-Edit / Mono', 'Hot Pants (She Got To Use What She Got To Get What She Wants)', 'Blind Man Can See It - Extended']}, {'artist': 'Neil Young', 'album': \"Tonight's the Night\", 'tracks': ['Tonight Is The Night', 'Stays The Same']}, {'artist': 'The Beatles', 'album': 'Help!', 'tracks': [\"Don't Stop\", 'Oh Lord', 'Slide Thru (feat. Jerry Good)', 'Paragraphs', 'Nervous', 'Where Was U?', 'Help (feat. Maejor)', 'Different Hos', 'Verbatim', 'Hustler']}, {'artist': 'Richard & Linda Thompson', 'album': 'Shoot Out the Lights', 'tracks': [\"Don't Renege On Our Love\", 'Walking On A Wire', 'Man In Need', 'Just The Motion', 'Shoot Out The Lights', 'Back Street Slide', 'Did She Jump Or Was She Pushed?', 'Wall Of Death']}, {'artist': 'X', 'album': 'Wild Gift', 'tracks': ['Orientation', 'A taste for something wild', 'The Adventurer', 'Into the forest', 'The Wild Man', 'The Little Boy', \"Emptiness -- Your mother's pillow\", 'The key', 'Wild Man leaps forth -- Come with me', 'The Gift', 'You are the Gift']}, {'artist': 'Graham Parker & The Rumour', 'album': 'Squeezing Out Sparks', 'tracks': ['Discovering Japan - Digitally Remastered 1996', 'Local Girls - Digitally Remastered 1996', 'Nobody Hurts You - Digitally Remastered 1996', \"You Can't Be Too Strong - Digitally Remastered 1996\", 'Passion Is No Ordinary Word - Digitally Remastered 1996', 'Saturday Nite Is Dead - Digitally Remastered 1996', 'Love Gets You Twisted - Digitally Remastered 1996', 'Protection - Digitally Remastered 1996', \"Waiting For The UFO's - Digitally Remastered 1996\", \"Don't Get Excited - Digitally Remastered 1996\", 'Discovering Japan - Digitally Remastered 1996', 'Local Girls - Digitally Remastered 1996', 'Nobody Hurts You - Digitally Remastered 1996', \"You Can't Be Too Strong - Digitally Remastered 1996\", 'Passion Is No Ordinary Word - Digitally Remastered 1996', 'Saturday Nite Is Dead - Digitally Remastered 1996', 'Love Gets You Twisted - Digitally Remastered 1996', 'Protection - Digitally Remastered 1996', \"Waiting For The UFO's - Digitally Remastered 1996\", \"Don't Get Excited - Digitally Remastered 1996\", 'I Want You Back - Alive/Digitally Remastered 1996', 'Mercury Poisoning - Digitally Remastered 1996']}, {'artist': 'Soundgarden', 'album': 'Superunknown', 'tracks': ['Let Me Drown', 'My Wave', 'Fell On Black Days', 'Mailman', 'Superunknown', 'Head Down', 'Black Hole Sun', 'Spoonman', 'Limo Wreck', 'The Day I Tried To Live', 'Kickstand', 'Fresh Tendrils', '4th Of July', 'Half', 'Like Suicide', 'She Likes Surprises', 'Let Me Drown - Demo Version', 'Black Hole Sun - Demo Version', 'Half - Demo Version', 'Head Down - Rehearsal Version', 'Limo Wreck - Rehearsal Version', 'The Day I Tried To Live - Rehearsal Version', 'Like Suicide - Acoustic Version', 'Black Days III', 'Birth Ritual - Original Demo Version', 'Exit Stonehenge', 'Kyle Petty, Son Of Richard', \"Jerry Garcia's Finger\", 'Spoonman - Alternate Steve Fisk Remix', 'The Day I Tried To Live - Alternate Mix', '4th Of July - Instrumental', 'Superunknown - Instrumental']}, {'artist': 'Radiohead', 'album': 'In Rainbows', 'tracks': ['15 Step', 'Bodysnatchers', 'Nude', 'Weird Fishes/ Arpeggi', 'All I Need', 'Faust Arp', 'Reckoner', 'House Of Cards', 'Jigsaw Falling Into Place', 'Videotape']}, {'artist': 'Jethro Tull', 'album': 'Aqualung', 'tracks': ['Aqualung', 'Cross Eyed Mary', 'Cheap Day Return', 'Mother Goose', \"Wond'Ring Aloud\", 'Up To Me', 'My God', 'Hymn 43', 'Slipstream', 'Locomotive Breath', 'Wind Up', 'Lick Your Fingers Clean', 'Wind Up - Quad Version', 'Ian Anderson Interview']}, {'artist': 'Big Brother & the Holding Company', 'album': 'Cheap Thrills', 'tracks': ['Cheap Thrills']}, {'artist': 'Tom Waits', 'album': 'The Heart of Saturday Night', 'tracks': ['New Coat Of Paint', 'San Diego Serenade', 'Semi Suite', 'Shiver Me Timbers', 'Diamonds On My Windshield', '(Looking For) The Heart Of Saturday Night', \"Fumblin' With The Blues\", 'Please Call Me, Baby', 'Depot, Depot', 'Drunk On The Moon', \"The Ghosts Of Saturday Night (After Hours At Napoleone's Pizza House)\"]}, {'artist': 'Black Flag', 'album': 'Damaged', 'tracks': ['Like This Guy', 'Not A Love Song', 'Lines']}, {'artist': 'Moby', 'album': 'Play', 'tracks': ['OK BITCH', 'PROUD', 'LAND OF THE FREAKS', 'LAMBORGHINI TRUCK (ATLANTA SHIT)']}, {'artist': 'Depeche Mode', 'album': 'Violator', 'tracks': ['World In My Eyes - 2006 Remastered Version', 'Sweetest Perfection - 2006 Remastered Version', 'Personal Jesus - 2006 Remastered Version', 'Halo - 2006 Remastered Version', 'Waiting For The Night - 2006 Remastered Version', 'Enjoy The Silence - 2006 Remastered Version', 'Policy Of Truth - 2006 Remastered Version', 'Blue Dress - 2006 Remastered Version', 'Clean - 2006 Remastered Version', 'Dangerous - 2006 Remastered Version', 'Memphisto - 2006 Remastered Version', 'Sibeling - 2006 Remastered Version', 'Kaleid - 2006 Remastered Version', 'Happiest Girl - 2006 Remastered Jack Mix', 'Sea Of Sin - 2006 Remastered Tonal Mix']}, {'artist': 'Meat Loaf', 'album': 'Bat Out of Hell', 'tracks': ['Bat Out of Hell', 'You Took The Words Right Out of My Mouth (Hot Summer Night)', 'Heaven Can Wait', 'All Revved Up with No Place to Go', \"Two Out of Three Ain't Bad\", 'Paradise By the Dashboard Light', 'For Crying Out Loud']}, {'artist': 'Lou Reed', 'album': 'Berlin', 'tracks': ['Love In An Elevator', 'Falling In Love (Is Hard On The Knees)', 'Monkey On My Back', 'Dude (Looks Like A Lady)', 'Pink', 'Rag Doll', 'Taste Of India', 'Dream On', \"Cryin'\", 'Oh Well/Sweet Emotion', 'Mama Kin', 'Walk This Way']}, {'artist': 'Talking Heads', 'album': 'Stop Making Sense', 'tracks': ['Psycho Killer - Live', 'Heaven - Live', 'Thank You For Sending Me An Angel - Live', 'Found A Job - Live', 'Slippery People - Live', 'Burning Down The House - Live', 'Life During Wartime - Live', 'Making Flippy Floppy - Live', 'Swamp - Live', 'What A Day That Was - Live Edit', 'This Must Be The Place (Naive Melody) - Live', 'Once In A Lifetime - Live', 'Genius Of Love ( Tom Tom Club ) - Live', 'Girlfriend Is Better - Live', 'Take Me To The River - Live', 'Crosseyed And Painless - Live']}, {'artist': 'Pink Floyd', 'album': 'The Piper at the Gates of Dawn', 'tracks': ['Astronomy Domine', 'Lucifer Sam', 'Matilda Mother', 'Flaming', 'Pow R. Toc H.', 'Take Up Thy Stethoscope and Walk', 'Interstellar Overdrive', 'The Gnome', 'Chapter 24', 'The Scarecrow', 'Bike']}, {'artist': 'Muddy Waters', 'album': 'Muddy Waters at Newport 1960', 'tracks': ['I Got My Brand On You - Live At Newport Jazz Festival / 1960', \"I'm Your Hoochie Coochie Man - Live At Newport Jazz Festival/1960\", \"Baby, Please Don't Go - Live At Newport Jazz Festival/1960\", 'Soon Forgotten - Live At Newport Jazz Festival/1960', 'Tiger In Your Tank - Live At Newport Jazz Festival/1960', 'I Feel So Good - Live At Newport Jazz Festival/1960', \"I've Got My Mojo Working - Live At Newport Jazz Festival/1960\", \"I've Got My Mojo Working - Pt. 2 / Live At Newport Jazz Festival/1960\", 'Goodbye Newport Blues - Live At Newport Jazz Festival/1960', 'I Got My Brand On You', 'Soon Forgotten', 'Tiger In Your Tank', 'Meanest Woman']}, {'artist': 'Jay Z', 'album': 'The Black Album', 'tracks': ['Black Panther', 'All The Stars (with SZA)', 'X (with 2 Chainz & Saudi)', 'The Ways (with Swae Lee)', 'Opps (with Yugen Blakrok)', 'I Am', 'Paramedic!', 'Bloody Waters (with Anderson .Paak & James Blake)', \"King's Dead (with Kendrick Lamar, Future & James Blake)\", 'Redemption Interlude', 'Redemption (with Babes Wodumo)', 'Seasons (with Sjava & Reason)', 'Big Shot (with Travis Scott)', 'Pray For Me (with Kendrick Lamar)']}, {'artist': 'The Yardbirds', 'album': 'Roger the Engineer', 'tracks': ['Happenings Ten Years Time Ago - Mono', 'Psycho Daisies - Mono', 'Lost Women - The Mono Album', 'Over Under Sideways Down - The Mono Album', 'The Nazz Are Blue - The Mono Album', \"I Can't Make Your Way - The Mono Album\", 'Rack My Mind - The Mono Album', 'Farewell - The Mono Album', 'Hot House of Omagararshid - The Mono Album', \"Jeff's Boogie - The Mono Album\", \"He's Always There - The Mono Album\", 'Turn into Earth - The Mono Album', 'What Do You Want - The Mono Album', 'Ever Since the World Began - The Mono Album', 'Lost Women - The Stereo Album', 'Over Under Sideways Down - The Stereo Album', 'The Nazz Are Blue - The Stereo Album', \"I Can't Make Your Way - The Stereo Album\", 'Rack My Mind - The Stereo Album', 'Farewell - The Stereo Album', 'Hot House of Omagararshid - The Stereo Album', \"Jeff's Boogie - The Stereo Album\", \"He's Always There - The Stereo Album\", 'Turn into Earth - The Stereo Album', 'What Do You Want - The Stereo Album', 'Ever Since the World Began - The Stereo Album', 'Mr. Zero', 'Knowing', 'Shapes in My Mind - Version 1', 'Shapes in My Mind - Version 2', 'Blue Sands - Excerpt']}, {'artist': 'Neil Young & Crazy Horse', 'album': 'Rust Never Sleeps', 'tracks': ['My My, Hey Hey (Out of the Blue)', 'Thrasher', 'Ride My Llama', 'Pocahontas', 'Sail Away', 'Powderfinger', 'Welfare Mothers', 'Sedan Delivery', 'Hey Hey, My My (Into the Black)']}, {'artist': 'Dire Straits', 'album': 'Brothers in Arms', 'tracks': ['So Far Away', 'Money For Nothing', 'Walk Of Life', 'Your Latest Trick', 'Why Worry', 'Ride Across The River', \"The Man's Too Strong\", 'One World', 'Brothers In Arms']}, {'artist': 'Kanye West', 'album': 'My Beautiful Dark Twisted Fantasy', 'tracks': ['Dark Fantasy', 'Gorgeous', 'POWER', 'All Of The Lights (Interlude)', 'All Of The Lights', 'Monster', 'So Appalled', 'Devil In A New Dress', 'Runaway', 'Hell Of A Life', 'Blame Game', 'Lost In The World', 'Who Will Survive In America']}, {'artist': 'Billy Joel', 'album': '52nd Street', 'tracks': ['Big Shot', 'Honesty', 'My Life', 'Zanzibar', 'Stiletto', \"Rosalinda's Eyes\", 'Half a Mile Away', 'Until the Night', '52nd Street']}, {'artist': 'Randy Newman', 'album': '12 Songs', 'tracks': [\"Abraham's Daughter\", 'Tomorrow Will Be Kinder - from The Hunger Games Soundtrack', 'Nothing To Remember', 'Safe & Sound - from The Hunger Games Soundtrack', 'The Ruler And The Killer', 'Dark Days', 'One Engine - from The Hunger Games Soundtrack', \"Daughter's Lament\", 'Kingdom Come', 'Take The Heartland', 'Come Away To The Water', 'Run Daddy Run', 'Rules', 'Eyes Open', 'Lover Is Childlike', 'Just A Game']}, {'artist': 'The Rolling Stones', 'album': 'Between the Buttons', 'tracks': [\"Let's Spend The Night Together - Stereo Version\", \"Yesterday's Papers\", 'Ruby Tuesday - Stereo Version', 'Connection', 'She Smiled Sweetly', 'Cool, Calm And Collected', 'All Sold Out', 'My Obsession', \"Who's Been Sleeping Here?\", 'Complicated', 'Miss Amanda Jones', 'Something Happened To Me Yesterday']}, {'artist': 'Miles Davis', 'album': 'Sketches of Spain', 'tracks': ['Concierto de Aranjuez: Adagio', \"Will O' the Wisp\", 'The Pan Piper', 'Saeta', 'Solea', 'Song of Our Country', 'The Maids of Cadiz', 'Concierto de Aranjuez (Adagio) - Rehearsal', 'Concierto De Aranjuez, Pt. 1 (Adagio) - Alternate Take', 'Concierto De Aranjuez, Pt. 2 (Adagio) - Alternate Take', 'Concierto de Aranjuez (Adagio) - Alternate Ending', 'The Pan Piper - Take 1', 'Song of Our Country - Take 9', 'Song of Our Country - Take 14', 'Saeta - Full Version of Master', 'Concierto de Aranjuez (Adagio) - Live', 'Teo']}, {'artist': 'Buzzcocks', 'album': 'Singles Going Steady', 'tracks': ['Orgasm Addict - 2001 Remastered Version', 'What Do I Get? - 2001 Remastered Version', \"I Don't Mind - 2001 Remastered Version\", 'Love You More - 2001 Remastered Version', \"Ever Fallen In Love (With Someone You Shouldn't've)\", 'Promises - 2001 Remastered Version', \"Everybody's Happy Nowadays - 2001 Remastered Version\", 'Harmony In My Head - 2001 Remastered Version', \"You Say You Don't Love Me - 2001 Remastered Version\", 'Are Everything - 2001 Remastered Version', 'Strange Thing - 2001 Remastered Version', 'Running Free - 2001 Remastered Version', 'Whatever Happened To...? - 2001 Remastered Version', 'Oh Shit - 2001 Remastered Version', 'Autonomy - 2001 Remastered Version', 'Noise Annoys - 2001 Remastered Version', 'Just Lust - 2001 Remastered Version', 'Lipstick - 2001 Remastered Version', \"Why Can't I Touch It? - 2001 Remastered Version\", \"Something's Gone Wrong Again - 2001 Remastered Version\", \"Raison D'Etre - 2001 Remastered Version\", \"Why She's A Girl From The Chainstore - 2001 Remastered Version\", 'Airwaves Dream - 2001 Remastered Version', 'What Do You Know - 2001 Remastered Version']}, {'artist': 'OutKast', 'album': 'Stankonia', 'tracks': ['Intro', 'Gasoline Dreams', \"I'm Cool (Interlude)\", 'So Fresh, So Clean', 'Ms. Jackson', \"Snappin' & Trappin'\", 'D.F. (Interlude)', 'Spaghetti Junction', 'Kim & Cookie (Interlude)', \"I'll Call B4 I Cum\", 'B.O.B.', 'Xplosion', 'Good Hair (Interlude)', 'We Luv Deez Hoez', 'Humble Mumble', \"Drinkin' Again (Interlude)\", '?', 'Red Velvet', \"Cruisin' In The ATL (Interlude)\", 'Gangsta Sh*t', 'Toilet Tisha', 'Slum Beautiful', 'Pre-Nump (Interlude)', 'Stankonia (Stanklove)']}, {'artist': 'The Smashing Pumpkins', 'album': 'Siamese Dream', 'tracks': ['Cherub Rock', 'Quiet', 'Today', 'Hummer', 'Rocket', 'Disarm', 'Soma', 'Geek U.S.A.', 'Mayonaise', 'Spaceboy', 'Silverfuck', 'Sweet Sweet', 'Luna']}, {'artist': 'The Doors', 'album': 'L.A. Woman', 'tracks': ['The Changeling', 'Love Her Madly', 'Been Down So Long', 'Cars Hiss By My Window', 'L.A. Woman', \"L'America\", 'Hyacinth House', 'Crawling King Snake', 'The WASP ( Texas Radio And The Big Beat )', 'Riders On The Storm']}, {'artist': 'Rage Against the Machine', 'album': 'Rage Against the Machine', 'tracks': ['Bombtrack - Remastered', 'Killing In The Name', 'Take The Power Back - Remastered', 'Settle For Nothing - Remastered', 'Bullet In The Head - Remastered', 'Know Your Enemy - Remastered', 'Wake Up - Remastered', 'Fistful Of Steel - Remastered', 'Township Rebellion - Remastered', 'Freedom - Remastered', 'Bombtrack - Live', 'Bullet In The Head - Live', 'Take the Power Back - Live', 'Bombtrack - Demo', 'Take The Power Back - Demo', 'Bullet In The Head - Demo', 'Darkness of Greed - Demo', 'Clear The Lane - Demo', 'Township Rebellion - Demo', 'Know Your Enemy - Demo', \"Mindset's A Threat - Demo\", 'Killing In The Name - Demo', 'Autologic - Demo', 'The Narrows - Demo', 'Freedom - Demo']}, {'artist': 'Johnny Cash', 'album': 'American Recordings', 'tracks': [\"Delia's Gone\", 'Let The Train Blow The Whistle', 'The Beast In Me', 'Drive On', 'Why Me Lord', 'Thirteen', \"Oh, Bury Me Not (Introduction: A Cowboy's Prayer)\", 'Bird On A Wire', 'Tennessee Stud', 'Down There By The Train', 'Redemption', 'Like A Soldier', \"The Man Who Couldn't Cry\"]}, {'artist': 'Madonna', 'album': 'Ray of Light', 'tracks': ['Drowned World/Substitute For Love', 'Swim', 'Ray Of Light', 'Candy Perfume Girl', 'Skin', 'Nothing Really Matters', 'Sky Fits Heaven', 'Shanti/Ashtangi', 'Frozen', 'The Power Of Good-Bye', 'To Have And Not To Hold', 'Little Star', 'Mer Girl']}, {'artist': 'Eagles', 'album': 'Eagles', 'tracks': ['Take It Easy', 'Witchy Woman', 'Chug All Night', 'Most Of Us Are Sad', 'Nightingale', 'Train Leaves Here This Morning', 'Take The Devil', 'Earlybird', 'Peaceful Easy Feeling', \"Tryin'\"]}, {'artist': 'The Smiths', 'album': 'Louder Than Bombs', 'tracks': ['Is it Really So Strange? - John Peel session, 12/2/86', 'Sheila Take A Bow - 2011 Remastered Version', 'Shoplifters Of The World Unite - 2011 Remastered Version', 'Sweet And Tender Hooligan - John Peel session, 12/2/86', 'Half A Person - 2011 Remastered Version', 'London - 2011 Remastered Version', 'Panic (2011 Remastered Version)', 'Girl Afraid - 2011 Remastered Version', \"Shakespeare's Sister - 2011 Remastered Version\", 'William, It Was Really Nothing - 2011 Remastered Version', \"You Just Haven't Earned It Yet, Baby - US Mix\", \"Heaven Knows I'm Miserable Now - 2011 Remastered Version\", 'Ask - 2011 Remastered Version', 'Golden Lights - 2011 Remastered Version', 'Oscillate Wildly - 2011 Remastered Version', 'These Things Take Time - 2011 Remastered Version', 'Rubber Ring - 2011 Remastered Version', 'Back To The Old House - 2011 Remastered Version', 'Hand in Glove - 2011 Remastered Version', 'Stretch Out And Wait - 2011 Remastered Version Original Version', 'Please, Please, Please Let Me Get What I Want - 2011 Remastered Version', 'This Night Has Opened My Eyes - 2011 Remastered Version', 'Unloveable - 2011 Remastered Version', 'Asleep - 2011 Remastered Version']}, {'artist': 'Mott the Hoople', 'album': 'Mott', 'tracks': ['All the Way from Memphis', 'Whizz Kid', 'Hymn for the Dudes', 'Honaloochie Boogie', 'Violence', \"Drivin' Sister\", 'Ballad of Mott The Hoople', \"I'm a Cadillac / El Camino Dolo Roso\", 'I Wish I Was Your Mother', 'Rose', 'Honaloochie Boogie - Demo Version', 'Nightmare - Demo', \"Drivin' Sister - Live Version\"]}, {'artist': 'Arctic Monkeys', 'album': \"Whatever People Say I Am, That's What I'm Not\", 'tracks': ['The View From The Afternoon', 'I Bet You Look Good On The Dancefloor', 'Fake Tales Of San Francisco', 'Dancing Shoes', \"You Probably Couldn't See For The Lights But You Were Staring Straight At Me\", 'Still Take You Home', 'Riot Van', 'Red Light Indicates Doors Are Secured', 'Mardy Bum', 'Perhaps Vampires Is A Bit Strong But…', 'When The Sun Goes Down', 'From The Ritz To The Rubble', 'A Certain Romance']}, {'artist': 'The Police', 'album': 'Reggatta de Blanc', 'tracks': ['Message In A Bottle - Remastered 2003', 'Reggatta De Blanc - Remastered 2003', \"It's Alright For You - Remastered 2003\", 'Bring On The Night - Remastered 2003', 'Deathwish - Remastered 2003', 'Walking On The Moon - Remastered 2003', 'On Any Other Day - Remastered 2003', \"The Bed's Too Big Without You - Remastered 2003\", 'Contact - Remastered 2003', 'Does Everyone Stare - Remastered 2003', 'No Time This Time - Remastered 2003']}, {'artist': 'Jefferson Airplane', 'album': 'Volunteers', 'tracks': ['We Can Be Together - Remastered', 'Good Shepherd - Remastered', 'The Farm - Remastered', 'Hey Frederick - Remastered', 'Turn My Life Down - Remastered', 'Wooden Ships - Remastered', 'Eskimo Blue Day - Remastered', 'A Song for All Seasons - Remastered', 'Meadowlands - Remastered', 'Volunteers - Remastered', 'Good Shepherd - Live', 'Somebody To Love', 'Plastic Fantastic Lover - Live', 'Wooden Ships', 'Volunteers']}, {'artist': 'Roxy Music', 'album': 'Siren', 'tracks': ['State Of The Union', 'The First Drop', 'Life Less Frightening', 'Paper Wings', 'Blood To Bleed', 'To Them These Streets Belong', 'Tip The Scales', 'Anywhere But Here', 'Give It All', 'Dancing For Rain', 'Swing Life Away', 'Rumors Of My Demise Have Been Greatly Exaggerated']}, {'artist': 'Jackson Browne', 'album': 'Late for the Sky', 'tracks': ['Late For The Sky', 'Fountain Of Sorrow', 'Farther On', 'The Late Show', 'The Road And The Sky', 'For A Dancer', 'Walking Slow', 'Before The Deluge']}, {'artist': 'Bjork', 'album': 'Post', 'tracks': ['Place To Start', 'Over Again', 'Watching As I Fall', 'Nothing Makes Sense Anymore', 'About You (feat. blackbear)', 'Brooding - Instrumental', \"Promises I Can't Keep\", 'Crossing A Line', 'Hold It Together', 'Ghosts', 'Make It Up As I Go (feat. K.Flay)', 'Lift Off (feat. Chino Moreno and Machine Gun Kelly)', 'I.O.U.', 'Running From My Shadow (feat. grandson)', \"World's On Fire\", \"Can't Hear You Now\"]}, {'artist': 'Oasis', 'album': \"(What's the Story) Morning Glory?\", 'tracks': ['Hello - Remastered', 'Roll With It - Remastered', 'Wonderwall - Remastered', \"Don't Look Back In Anger - Remastered\", 'Hey Now! - Remastered', '[Untitled] - Remastered', 'Some Might Say - Remastered', 'Cast No Shadow - Remastered', \"She's Electric - Remastered\", 'Morning Glory - Remastered', '[Untitled] - Remastered', 'Champagne Supernova - Remastered', 'Talk Tonight - Remastered', 'Acquiesce - Remastered', 'Headshrinker - Remastered', \"It's Better People - Remastered\", \"Rockin' Chair - Remastered\", 'Step Out - Remastered', 'Underneath the Sky - Remastered', 'Cum On Feel the Noize - Remastered', 'Round Are Way - Remastered', 'The Swamp Song - Remastered', 'The Masterplan - Remastered', \"Bonehead's Bank Holiday - Remastered\", 'Champagne Supernova (Brendan Lynch Mix) - Remastered', \"You've Got to Hide Your Love Away - Remastered\", 'Acquiesce (Live At Earls Court)', 'Some Might Say (Demo)', 'Some Might Say (Live at Roskilde)', 'She’s Electric (Demo)', 'Talk Tonight (Live At Bath Pavilion)', 'Rockin’ Chair (Demo)', 'Hello (Live At Roskilde)', 'Roll With It (Live At Roskilde)', 'Morning Glory (Live At Roskilde)', 'Hey Now (Demo)', 'Bonehead’s Bank Holiday (Demo)', 'Round Are Way (MTV Unplugged)', 'Cast No Shadow (Live At Maine Road)', 'The Masterplan (Live At Knebworth Park)']}, {'artist': 'TLC', 'album': 'CrazySexyCool', 'tracks': ['Intro-Iude', 'Creep', 'Kick Your Game', \"Diggin' on You\", 'Case of the Fake People', 'CrazySexyCool-Interlude', 'Red Light Special', 'Waterfalls', 'Intermission-lude', \"Let's Do it Again\", 'If I Was Your Girlfriend', 'Sexy-Interlude', 'Take Our Time', 'Can I Get a Witness-Interlude', 'Switch', \"Sumthin' Wicked This Way Comes\"]}, {'artist': 'Toots & The Maytals', 'album': 'Funky Kingston', 'tracks': ['Time Tough', 'In The Dark', 'Funky Kingston', 'Love Is Gonna Let Me Down', 'Louie, Louie', 'Pomps & Pride', 'Got To Be There', 'Country Road', 'Pressure Drop', \"Sailin' On\"]}, {'artist': 'The Beach Boys', 'album': 'The Smile Sessions', 'tracks': ['Our Prayer', 'Gee', 'Heroes and Villains', 'Do You Like Worms (Roll Plymouth Rock)', \"I'm in Great Shape\", 'Barnyard', 'My Only Sunshine (The Old Master Painter/You Are My Sunshine)', 'Cabin Essence', 'Wonderful', 'Look (Song for Children)', 'Child Is Father of the Man', \"Surf's Up\", 'I Wanna Be Around / Workshop', 'Vega-Tables', 'Holidays', 'Wind Chimes', \"The Elements: Fire (Mrs. O'Leary's Cow)\", 'Love to Say Dada', 'Good Vibrations', \"You're Welcome\", 'Heroes and Villains - Stereo Mix', 'Heroes and Villains Sections - Stereo Mix', 'Vega-Tables - Demo', 'He Gives Speeches', 'Smile Backing Vocals Montage', \"Surf's Up 1967 - Solo Version\", 'Psycodelic Sounds: Brian Falls Into a Piano', 'Our Prayer - Dialog', 'Heroes and Villains: Part 1', 'Heroes and Villains: Part 2', 'Heroes and Villains: Children Were Raised', 'Heroes and Villains: Prelude to Fade', 'My Only Sunshine - Parts 1 & 2', 'Cabin Essence - Session Highlights and Stereo Backing Track', \"Surf's Up - 1st Movement\", \"Surf's Up: Piano Demo - Master Take\", 'Vegetables: Fade', 'The Elements: Fire', 'Cool, Cool Water - Version 2', 'Good Vibrations: Session Highlights']}, {'artist': 'The Modern Lovers', 'album': 'The Modern Lovers', 'tracks': ['Roadrunner', 'Astral Plane', 'Old World', 'Pablo Picasso', 'She Cracked', 'Hospital', 'Someone I Care About', 'Girlfriend', 'Modern World', 'Dignified and Old', \"I'm Straight\", 'Government Center', 'I Wanna Sleep In Your Arms', 'Dance With Me', 'Someone I Care About - Alternative Version', 'Modern World - Alternative version', 'Roadrunner (Once) - Alternative Version']}, {'artist': 'Talking Heads', 'album': 'More Songs About Buildings and Food', 'tracks': ['Thank You For Sending Me An Angel - 2005 Remastered Version', 'With Our Love - 2005 Remastered Version', 'The Good Thing - 2005 Remastered Version', 'Warning Sign - 2005 Remastered Version', 'The Girl Wants To Be With The Girls - 2005 Remastered Version', 'Found A Job - 2005 Remastered Version', 'Artists Only - 2005 Remastered Version', \"I'm Not In Love - 2005 Remastered Version\", 'Stay Hungry - 2005 Remastered Version', 'Take Me To The River - 2005 Remastered Version', 'The Big Country - 2005 Remastered Version', 'Stay Hungry - Remastered 1977 Version', \"I'm Not In Love - Alternate Version\", 'The Big Country - Alternate Version', 'Thank You For Sending Me An Angel - Country Angel Version']}, {'artist': 'The Who', 'album': 'A Quick One', 'tracks': ['Run Run Run', 'Boris The Spider - Mono Version', 'I Need You', 'Whiskey Man', 'Heat Wave', 'Cobwebs And Strange', \"Don't Look Away\", 'See My Way', 'So Sad About Us - Mono Version', \"A Quick One, While He's Away - Mono Album Version\", 'Batman', 'Bucket T', 'Barbara Ann', 'Disguises - Original Stereo Version', 'Doctor, Doctor', \"I've Been Away\", 'In The City - Mono Version', 'Happy Jack - Acoustic Mono Version', 'Man With Money', 'My Generation / Land Of Hope And Glory - \"Ready Steady Go\" Live Version']}, {'artist': 'Bob Dylan', 'album': '\"Love and Theft\"', 'tracks': ['Angel Eyes', 'Inside Out', \"Runnin' out of Air\", 'Amen', 'If You Ever Get Lonely', 'Thinking Of You (And Me)', 'Town Drunk', 'Real Good Sign', \"She's Amazing\", 'Girls Love to Shake It', 'Girls Look Hot In Trucks']}, {'artist': 'Steely Dan', 'album': 'Pretzel Logic', 'tracks': [\"Rikki Don't Lose That Number\", 'Night By Night', 'Any Major Dude Will Tell You', 'Barrytown', 'East St. Louis Toodle-Oo', \"Parker's Band\", 'Through With Buzz', 'Pretzel Logic', 'With A Gun', 'Charlie Freak', 'Monkey In Your Soul']}, {'artist': 'Wu Tang Clan', 'album': 'Enter the Wu Tang: 36 Chambers', 'tracks': ['Bring Da Ruckus', 'Shame On a Nigga', 'Clan In Da Front', 'Wu-Tang: 7th Chamber', 'Can It Be All So Simple / Intermission', \"Da Mystery of Chessboxin'\", \"Wu-Tang Clan Aint Nuthing ta F' Wit\", 'C.R.E.A.M.', 'Method Man', 'Protect Ya Neck', 'Tearz', 'Wu-Tang: 7th Chamber - Part II - Conclusion', 'Protect Ya Neck - Shao Lin Version', 'Method Man - Home Grown Version', 'C.R.E.A.M. (Cash Rules Everything Around Me) - A Cappella']}, {'artist': 'Various Artists', 'album': 'The Indestructible Beat of Soweto', 'tracks': ['Awungilobolele', 'Holotelani', 'Qhude Manikiniki', 'Indoda Yejazi Elimnyama', 'Emthonjeni Womculo', 'Sobabamba', 'Qhwayilahle', \"Thul'ulalele\", 'Sini Lindile', 'Ngicabange Ngaqeda', 'Joyce No. 2', 'Nansi Imali']}, {'artist': 'Don Henley', 'album': 'The End of the Innocence', 'tracks': ['The End Of The Innocence', 'How Bad Do You Want It?', 'I Will Not Go Quietly', 'The Last Worthless Evening', 'New York Minute', 'Shangri-La', 'Little Tin God', 'Gimme What You Got', 'If Dirt Were Dollars', 'The Heart Of The Matter']}, {'artist': 'The White Stripes', 'album': 'Elephant', 'tracks': ['Seven Nation Army', 'Black Math', \"There's No Home For You Here\", \"I Just Don't Know What To Do With Myself\", 'In The Cold, Cold Night', \"I Want To Be The Boy To Warm Your Mother's Heart\", \"You've Got Her In Your Pocket\", 'Ball And Biscuit', 'The Hardest Button To Button', 'Little Acorns', 'Hypnotize', 'The Air Near My Fingers', 'Girl, You Have No Faith In Medicine', \"Well It's True That We Love One Another\"]}, {'artist': 'Jackson Browne', 'album': 'The Pretender', 'tracks': ['The Fuse', 'Your Bright Baby Blues', 'Linda Paloma', 'Here Come Those Tears Again', 'The Only Child', \"Daddy's Tune\", \"Sleep's Dark and Silent Gate\", 'The Pretender']}, {'artist': 'The Beatles', 'album': 'Let It Be', 'tracks': ['Two Of Us - Remastered', 'Dig A Pony - Remastered', 'Across The Universe - Remastered', 'I Me Mine - Remastered', 'Dig It - Remastered', 'Let It Be - Remastered', 'Maggie Mae - Remastered', \"I've Got A Feeling - Remastered\", 'One After 909 - Remastered', 'The Long And Winding Road - Remastered', 'For You Blue - Remastered', 'Get Back - Remastered']}, {'artist': 'M.I.A.', 'album': 'Kala', 'tracks': ['Bamboo Banga', 'Bird Flu', 'Boyz', 'Jimmy', 'Hussel', 'Mango Pickle Down River', '20 Dollar', 'World Town', 'The Turn', 'XR2', 'Paper Planes', 'Come Around - Album Version (Edited)']}, {'artist': 'Randy Newman', 'album': 'Good Old Boys', 'tracks': ['Rednecks - Remastered', 'Birmingham - Remastered', 'Marie - Remastered', 'Mr. President (Have Pity On The Working Man) - Remastered', 'Guilty', 'Louisiana 1927 - Remastered', 'Every Man A King - Remastered', 'Kingfish - Remastered', 'Naked Man - Remastered', 'A Wedding In Cherokee County - Remastered', 'Back On My Feet Again - Remastered', \"Rollin' - Remastered\", 'Marie - Demo Version']}, {'artist': 'LCD Soundsystem', 'album': 'Sound of Silver', 'tracks': ['Get Innocuous!', 'Time To Get Away', 'North American Scum', 'Someone Great', 'All My Friends', 'Us V Them', 'Watch The Tapes', 'Sound Of Silver', \"New York, I Love You But You're Bringing Me Down\"]}, {'artist': 'Roxy Music', 'album': 'For Your Pleasure', 'tracks': ['Do The Strand', 'Beauty Queen', 'Strictly Confidential', 'Editions of You', 'In Every Dream Home A Heartache', 'The Bogus Man', 'Grey Lagoons', 'For Your Pleasure']}, {'artist': 'Massive Attack', 'album': 'Blue Lines', 'tracks': ['Safe from Harm - 2012 Mix/Master', 'One Love - 2012 Mix/Master', 'Blue Lines - 2012 Mix/Master', \"Be Thankful for What You've Got - 2012 Mix/Master\", 'Five Man Army - 2012 Mix/Master', 'Unfinished Sympathy - 2012 Mix/Master', 'Daydreaming - 2012 Mix/Master', 'Lately - 2012 Mix/Master', 'Hymn of the Big Wheel - 2012 Mix/Master']}, {'artist': 'ZZ Top', 'album': 'Eliminator', 'tracks': [\"Gimme All Your Lovin'\", 'Got Me Under Pressure - 2008 Remastered Version', 'Sharp Dressed Man - 2008 Remastered Version', 'I Need You Tonight - 2008 Remastered Version', 'I Got the Six - 2008 Remastered Version', 'Legs - 2008 Remastered Version', 'Thug - 2008 Remastered Version', 'TV Dinners - 2008 Remastered Version', 'Dirty Dog - 2008 Remastered Version', 'If I Could Only Flag Her Down - 2008 Remastered Version', 'Bad Girl - 2008 Remastered Version']}, {'artist': 'Tom Waits', 'album': 'Rain Dogs', 'tracks': ['Singapore', 'Clap Hands', 'Cemetery Polka', 'Jockey Full Of Bourbon', \"Tango Till They're Sore\", 'Big Black Mariah', 'Diamonds And Gold', 'Hang Down Your Head', 'Time', 'Rain Dogs', 'Midtown', '9th & Hennepin', 'Gun Street Girl', 'Union Square', 'Blind Love', 'Walking Spanish', 'Downtown Train', 'Bride Of Rain Dog', 'Anywhere I Lay My Head']}, {'artist': 'Red Hot Chili Peppers', 'album': 'Californication', 'tracks': ['Around The World', 'Parallel Universe', 'Scar Tissue', 'Otherside', 'Get On Top', 'Californication', 'Easily', 'Porcelain', 'Emit Remmus', 'I Like Dirt', 'This Velvet Glove', 'Savior', 'Purple Stain', 'Right On Time', \"Road Trippin'\", 'Fat Dance - Bonus Track', 'Over Funk - Bonus Track', 'Quixoticelixer - Bonus Track']}, {'artist': 'Nas', 'album': 'Illmatic', 'tracks': ['The Genesis', 'N.Y. State of Mind', \"Life's a Bitch\", 'The World Is Yours', 'Halftime', \"Memory Lane (Sittin' in da Park)\", 'One Love', 'One Time 4 Your Mind', 'Represent', \"It Ain't Hard to Tell\"]}, {'artist': 'Lynyrd Skynyrd', 'album': \"(pronounced 'leh-'nerd 'skin-'nerd)\", 'tracks': [\"I Ain't The One\", \"Tuesday's Gone\", 'Gimme Three Steps', 'Simple Man', \"Things Goin' On\", 'Mississippi Kid', 'Poison Whiskey', 'Free Bird']}, {'artist': 'Dr. John', 'album': \"Dr. John's Gumbo\", 'tracks': ['Iko Iko', 'Blow Wind Blow', 'Big Chief', 'Somebody Changed The Lock', 'Mess Around', 'Let The Good Times Roll', 'Junko Partner', 'Stack-A-Lee', 'Tipitina', 'Those Lonely Lonely Nights', 'Huey \"Piano\" Smith Medley', 'Little Liza Jane']}, {'artist': 'Big Star', 'album': 'Radio City', 'tracks': ['Bartender - Live at Radio City Music Hall, New York, NY - April 2007', 'When the World Ends - Live at Radio City Music Hall, New York, NY - April 2007', 'Stay or Leave - Live at Radio City Music Hall, New York, NY - April 2007', 'Save Me - Live at Radio City Music Hall, New York, NY - April 2007', 'Crush - Live at Radio City Music Hall, New York, NY - April 2007', 'So Damn Lucky - Live at Radio City Music Hall, New York, NY - April 2007', 'Gravedigger - Live at Radio City Music Hall, New York, NY - April 2007', 'The Maker - Live at Radio City Music Hall, New York, NY - April 2007', 'Old Dirt Hill (Bring That Beat Back) - Live at Radio City Music Hall, New York, NY - April 2007', 'Eh Hee - Live at Radio City Music Hall, New York, NY - April 2007', 'Betrayal - Live at Radio City Music Hall, New York, NY - April 2007', 'Out of My Hands - Live at Radio City Music Hall, New York, NY - April 2007', 'Still Water - Live at Radio City Music Hall, New York, NY - April 2007', \"Don't Drink the Water/This Land Is Your Land - Live at Radio City Music Hall, New York, NY - April 2007\", 'Oh - Live at Radio City Music Hall, New York, NY - April 2007', 'Cornbread - Live at Radio City Music Hall, New York, NY - April 2007', 'Crash Into Me - Live at Radio City Music Hall, New York, NY - April 2007', 'Down by the River - Live at Radio City Music Hall, New York, NY - April 2007', 'You Are My Sanity - Live at Radio City Music Hall, New York, NY - April 2007', 'Sister - Live at Radio City Music Hall, New York, NY - April 2007', 'Lie in Our Graves - Live at Radio City Music Hall, New York, NY - April 2007', 'Some Devil - Live at Radio City Music Hall, New York, NY - April 2007', 'Grace Is Gone - Live at Radio City Music Hall, New York, NY - April 2007', 'Dancing Nancies - Live at Radio City Music Hall, New York, NY - April 2007', '#41 - Live at Radio City Music Hall, New York, NY - April 2007', 'Two Step - Live at Radio City Music Hall, New York, NY - April 2007']}, {'artist': 'PJ Harvey', 'album': 'Rid of Me', 'tracks': ['Rid Of Me', 'Missed', 'Legs', \"Rub 'Till It Bleeds\", 'Hook', 'Man-Size - Sextet', \"Highway '61 Revisited\", '50 Ft Queenie', 'Yuri-G', 'Man-Size', 'Dry', 'Me-Jane', 'Snake', 'Ecstasy']}, {'artist': 'The Clash', 'album': 'Sandinista!', 'tracks': ['The Magnificent Seven - Remastered', 'Hitsville U.K.', 'Junco Partner', 'Ivan Meets G.I. Joe', 'The Leader', 'Something About England', 'Rebel Waltz', 'Look Here', 'The Crooked Beat', 'Somebody Got Murdered', 'One More Time', 'One More Dub', 'Lightning Strikes (Not Once but Twice)', 'Up In Heaven (Not Only Here)', 'Corner Soul', \"Let's Go Crazy\", 'If Music Could Talk', 'The Sound of Sinners', 'Police On My Back - Remastered', 'Midnight Log', 'The Equaliser', 'The Call Up', 'Washington Bullets', 'Broadway', 'Lose This Skin', \"Charlie Don't Surf\", 'Mensforth Hill', 'Junkie Slip', 'Kingston Advice', 'The Street Parade', 'Version City', 'Living In Fame', 'Silicone On Sapphire', 'Version Pardner', 'Career Opportunities', 'Shepherds Delight']}, {'artist': \"Sinead O'Connor\", 'album': \"I Do Not Want What I Haven't Got\", 'tracks': ['Feel so Different', 'I Am Stretched on Your Grave', 'Three Babies', \"The Emperor's New Clothes\", 'Black Boys on Mopeds', 'Nothing Compares 2 U', 'Jump in the River', 'You Cause as Much Sorrow', 'Last Day of Our Acquaintance', \"I Do Not Want What I Haven't Got\"]}, {'artist': 'The Doors', 'album': 'Strange Days', 'tracks': ['Strange Days', \"You're Lost Little Girl\", 'Love Me Two Times', 'Unhappy Girl', 'Horse Latitudes', 'Moonlight Drive', 'People Are Strange', 'My Eyes Have Seen You', \"I Can't See Your Face In My Mind\", \"When The Music's Over\"]}, {'artist': 'Bob Dylan', 'album': 'Time Out of Mind', 'tracks': ['Love Sick', 'Dirt Road Blues', 'Standing in the Doorway', 'Million Miles', 'Trying to Get to Heaven', 'Til I Fell in Love with You', 'Not Dark Yet', 'Cold Irons Bound', 'Make You Feel My Love', \"Can't Wait\", 'Highlands']}, {'artist': 'Eric Clapton', 'album': '461 Ocean Boulevard', 'tracks': ['Motherless Children', 'Give Me Strength', 'Willie And The Hand Jive', 'Get Ready', 'I Shot The Sheriff', \"I Can't Hold Out\", 'Please Be With Me', 'Let It Grow', \"Steady Rollin' Man\", 'Mainline Florida']}, {'artist': 'Wire', 'album': 'Pink Flag', 'tracks': ['Reuters - 2006 Remastered Version', 'Field Day for the Sundays - 2006 Remastered Version', 'Three Girl Rhumba - 2006 Remastered Version', 'Ex Lion Tamer - 2006 Remastered Version', 'Lowdown - 2006 Remastered Version', 'Start to Move - 2006 Remastered Version', 'Brazil - 2006 Remastered Version', \"It's So Obvious - 2006 Remastered Version\", \"Surgeon's Girl - 2006 Remastered Version\", 'Pink Flag - 2006 Remastered Version', 'The Commercial - 2006 Remastered Version', 'Straight Line - 2006 Remastered Version', '106 Beats That - 2006 Remastered Version', 'Mr Suit - 2006 Remastered Version', 'Strange - 2006 Remastered Version', 'Fragile - 2006 Remastered Version', 'Mannequin - 2006 Remastered Version', 'Different to Me - 2006 Remastered Version', 'Champs - 2006 Remastered Version', 'Feeling Called Love - 2006 Remastered Version', '1 2 X U - 2006 Remastered Version']}, {'artist': 'Minutemen', 'album': 'Double Nickels on the Dime', 'tracks': [\"D.'s Car Jam / Anxious Mo-Fo\", 'Theatre Is The Life Of You', 'Viet Nam', 'Cohesion', \"It's Expected I'm Gone\", '#1 Hit Song', 'Two Beads At The End', 'Do You Want New Wave Or Do You Want The Truth', \"Don't Look Now\", 'Shit From An Old Notebook', 'Nature Without Man', 'One Reporters Opinion', 'Political Song For Michael Jackson To Sing', 'Maybe Partying Will Help', 'Toadies', 'Retreat', 'The Big Foist', 'God Bows To Math', 'Corona', 'The Glory Of Man', 'Take 5, D.', 'My Heart And The Real World', 'History Lesson Part 2', 'You Need The Glory', 'The Roar Of The Masses Could Be Farts', 'West Germany', 'The Politics Of Time', 'Themselves', \"Please Don't Be Gentle With Me\", 'Nothing Indeed', 'No Exchange', \"There Ain't Shit On T.V. Tonight\", \"This Ain't No Picnic\", 'Spillage', 'Untitled Song For Latin America', 'Jesus And Tequila', 'June 16th', 'Storm In My House', \"Martin's Story\", 'Dr. Wu', 'The World According To Nouns', 'Love Dance', 'Three Car Jam']}, {'artist': \"The Go Go's\", 'album': 'Beauty and the Beat', 'tracks': ['Our Lips Are Sealed', 'How Much More', 'Tonite', 'Lust To Love', 'This Town', 'We Got The Beat', 'Fading Fast', 'Automatic', \"You Can't Walk In Your Sleep (If You Can't Sleep)\", 'Skidmarks On My Heart', \"Can't Stop The World\"]}, {'artist': 'Van Halen', 'album': 'Van Halen', 'tracks': [\"Runnin' With The Devil - 2015 Remastered Version\", 'Eruption - 2015 Remastered Version', 'You Really Got Me - 2015 Remastered Version', \"Ain't Talkin' 'Bout Love - 2015 Remastered Version\", \"I'm The One - 2015 Remastered Version\", \"Jamie's Cryin' - 2015 Remastered Version\", 'Atomic Punk - 2015 Remastered Version', 'Feel Your Love Tonight - 2015 Remastered Version', 'Little Dreamer - 2015 Remastered Version', 'Ice Cream Man - 2015 Remastered Version', 'On Fire - 2015 Remastered Version']}, {'artist': 'Tom Waits', 'album': 'Mule Variations', 'tracks': ['Big In Japan', 'Lowside Of The Road', 'Hold On', 'Get Behind The Mule', 'House Where Nobody Lives', 'Cold Water', 'Pony', \"What's He Building?\", 'Black Market Baby', 'Eyeball Kid', 'Picture In A Frame', 'Chocolate Jesus', 'Georgia Lee', 'Filipino Box Spring Hog', 'Take It With Me', 'Come On Up To The House']}, {'artist': 'U2', 'album': 'Boy', 'tracks': ['Foreword', 'Where This Flower Blooms', 'Sometimes...', 'See You Again', 'Who Dat Boy', 'Pothole', 'Garden Shed', 'Boredom', \"I Ain't Got Time!\", '911 / Mr. Lonely', \"Droppin' Seeds\", 'November', 'Glitter', 'Enjoy Right Now, Today']}, {'artist': 'Paul McCartney & Wings', 'album': 'Band on the Run', 'tracks': ['Band On The Run - Remastered 2010', 'Jet - Remastered 2010', 'Bluebird - 2010 Digital Remaster', 'Mrs Vandebilt - Remastered 2010', 'Let Me Roll It - Remastered 2010', 'Mamunia - 2010 Digital Remaster', 'No Words - 2010 Digital Remaster', 'Picasso’s Last Words (Drink to Me) - 2010 Digital Remaster', 'Nineteen Hundred And Eighty Five - Remastered 2010']}, {'artist': 'Portishead', 'album': 'Dummy', 'tracks': ['Mysterons', 'Sour Times', 'Strangers', 'It Could Be Sweet', 'Wandering Star', \"It's A Fire\", 'Numb', 'Roads', 'Pedestal', 'Biscuit', 'Glory Box']}, {'artist': 'The Crickets', 'album': 'The \"Chirping\" Crickets', 'tracks': ['Oh Boy!', 'Not Fade Away', \"You've Got Love\", 'Maybe Baby', \"It's Too Late\", 'Tell Me How', \"That'll Be The Day\", \"I'm Lookin' For Someone To Love\", 'An Empty Cup (And A Broken Date)', \"Send Me Some Lovin'\", 'Last Night', 'Rock Me My Baby']}, {'artist': 'The Ronettes', 'album': 'Presenting the Fabulous Ronettes Featuring Veronica', 'tracks': ['Walking In the Rain', 'Do I Love You?', 'So Young', \"(The Best Part Of) Breakin' Up\", 'I Wonder', \"What'd I Say\", 'Be My Baby', 'You Baby', 'Baby, I Love You', 'How Does It Feel', 'When I Saw You', 'Chapel Of Love']}, {'artist': 'Diana Ross & The Supremes', 'album': 'Anthology', 'tracks': ['Courage', 'Movies', 'Flesh and Bone', 'Whisper', 'Summer', 'Sticks And Stones', 'Attitude', 'Stranded', 'Wish', 'Calico', 'Happy Death Day', 'Smooth Criminal', 'Universe']}, {'artist': 'Bruce Springsteen', 'album': 'The Rising', 'tracks': ['Introduction', 'Remember The Name (feat. Styles Of Beyond)', 'Right Now (feat. Black Thought & Styles Of Beyond)', 'Petrified', 'Feel Like Home (feat. Styles Of Beyond)', \"Where'd You Go (feat. Holly Brook & Jonah Matranga)\", 'In Stereo', 'Back Home (feat. Common & Styles Of Beyond)', 'Cigarettes', 'Believe Me (feat. Bobo & Styles Of Beyond)', 'Get Me Gone', 'High Road (feat. John Legend)', 'Kenji', 'Red To Black (feat. Kenna, Jonah Matranga & Styles Of Beyond)', 'The Battle (feat. Celph Titled)', 'Slip Out The Back (feat. Mr. Hahn)']}, {'artist': 'Gram Parsons', 'album': 'Grievous Angel', 'tracks': ['Return of the Grievous Angel - Remastered Version', 'Hearts on Fire - Remastered Version', \"I Can't Dance - Remastered Version\", 'Brass Buttons - Remastered Version', '$1000 Wedding - Remastered Version', 'Medley Live From Northern Quebec [A] Cash On The Barrelhead [B] Hickory Wind (Remastered Version)', 'Love Hurts - Remastered Version', 'Ooh Las Vegas - Remastered Version', 'In My Hour of Darkness - Remastered Version']}, {'artist': 'Peter Wolf', 'album': 'Sleepless', 'tracks': ['Keep Me', 'Sleepless', 'Waiting', 'Lyon', 'Pastoral']}, {'artist': 'The Police', 'album': \"Outlandos d'Amour\", 'tracks': ['Next To You - Remastered 2003', 'So Lonely - Remastered 2003', 'Roxanne - Remastered 2003', 'Hole In My Life - Remastered 2003', 'Peanuts - Remastered 2003', \"Can't Stand Losing You - Remastered 2003\", 'Truth Hits Everybody - Remastered 2003', \"Born In The 50's - Remastered 2003\", 'Be My Girl - Sally - Remastered 2003', 'Masoko Tanga - Remastered 2003']}, {'artist': 'Brian Eno', 'album': 'Another Green World', 'tracks': ['Sky Saw - 2004 Digital Remaster', 'Over Fire Island - 2004 Digital Remaster', \"St Elmo's Fire - 2004 Digital Remaster\", 'In Dark Trees - 2004 Digital Remaster', 'The Big Ship - 2004 Digital Remaster', \"I'll Come Running - 2004 Digital Remaster\", 'Another Green World - 2004 Digital Remaster', 'Sombre Reptiles - 2004 Digital Remaster', 'Little Fishes - 2004 Digital Remaster', 'Golden Hours - 2004 Digital Remaster', 'Becalmed - 2004 Digital Remaster', 'Zawinul/Lava - 2004 Digital Remaster', 'Everything Merges With The Night - 2004 Digital Remaster', 'Spirits Drifting - 2004 Digital Remaster']}, {'artist': 'Vampire Weekend', 'album': 'Vampire Weekend', 'tracks': ['Mansard Roof', 'Oxford Comma', 'A-Punk', 'Cape Cod Kwassa Kwassa', 'M79', 'Campus', 'Bryn', \"One (Blake's Got A New Face)\", 'I Stand Corrected', 'Walcott', \"The Kids Don't Stand A Chance\"]}, {'artist': 'PJ Harvey', 'album': 'Stories From the City, Stories From the Sea', 'tracks': ['Big Exit', 'Good Fortune', 'A Place Called Home', 'One Line', 'Beautiful Feeling', 'The Whores Hustle And The Hustlers Whore', \"This Mess We're In\", 'You Said Something', 'Kamikaze', 'This Is Love', 'Horses In My Dreams', 'We Float']}, {'artist': 'Brian Eno', 'album': 'Here Come the Warm Jets', 'tracks': [\"Needles In The Camel's Eye - 2004 Digital Remaster\", 'The Paw Paw Negro Blowtorch - 2004 Digital Remaster', \"Baby's On Fire - 2004 Digital Remaster\", 'Cindy Tells Me - 2004 Digital Remaster', 'Driving Me Backwards - 2004 - Remaster', 'On Some Faraway Beach - 2004 Digital Remaster', 'Blank Frank - 2004 Digital Remaster', \"Dead Finks Don't Talk - 2004 Digital Remaster\", 'Some Of Them Are Old - 2004 Digital Remaster', 'Here Come the Warm Jets - 2004 - Remaster']}, {'artist': 'George Harrison', 'album': 'All Things Must Pass', 'tracks': [\"I'd Have You Anytime\", 'My Sweet Lord', 'Wah-Wah', \"Isn't It A Pity\", 'What Is Life', 'If Not For You', 'Behind That Locked Door', 'Let It Down', 'Run Of The Mill', 'I Live For You', 'Beware Of Darkness - Version One / Bonus Track', 'Let It Down - Original Guitar And Vocal Version / Bonus Track', 'What Is Life - Backing Track / Bonus Track', 'My Sweet Lord (2000) - Bonus Track', 'Beware Of Darkness', 'Apple Scruffs', 'Ballad Of Sir Frankie Crisp (Let It Roll)', 'Awaiting On You All', 'All Things Must Pass', 'I Dig Love', 'Art Of Dying', \"Isn't It A Pity - Version Two\", 'Hear Me Lord', \"It's Johnny's Birthday\", 'Plug Me In', 'I Remember Jeep', 'Thanks For The Pepperoni', 'Out Of The Blue']}, {'artist': 'Big Star', 'album': '#1 Record', 'tracks': ['Feel', 'The Ballad Of El Goodo', 'In The Street', 'Thirteen', \"Don't Lie To Me\", 'The India Song', \"When My Baby's Beside Me\", 'My Life Is Right', 'Give Me Another Chance', 'Try Again', 'Watch The Sunrise', 'ST 100/6']}, {'artist': 'Nirvana', 'album': 'In Utero', 'tracks': ['Serve The Servants', 'Scentless Apprentice', 'Heart-Shaped Box', 'Rape Me', 'Frances Farmer Will Have Her Revenge On Seattle', 'Dumb', 'Very Ape', 'Milk It', 'Pennyroyal Tea', 'Radio Friendly Unit Shifter', \"Tourette's\", 'All Apologies', 'Gallons Of Rubbing Alcohol Flow Through The Strip', 'Marigold - B-Side', 'Moist Vagina - 2013 Mix', 'Sappy - 2013 Mix', 'I Hate Myself And Want To Die - 2013 Mix', 'Pennyroyal Tea - Scott Litt Mix', 'Heart Shaped Box - Original Steve Albini 1993 Mix', 'All Apologies - Original Steve Albini 1993 Mix', 'Serve The Servants - 2013 Mix', 'Scentless Apprentice - 2013 Mix', 'Heart Shaped Box - 2013 Mix', 'Rape Me - 2013 Mix', 'Frances Farmer Will Have Her Revenge On Seattle - 2013 Mix', 'Dumb - 2013 Mix', 'Very Ape - 2013 Mix', 'Milk It - 2013 Mix', 'Pennyroyal Tea - 2013 Mix', 'Radio Friendly Unit Shifter - 2013 Mix', \"Tourette's - 2013 Mix\", 'All Apologies - 2013 Mix', 'Scentless Apprentice - Demo', 'Frances Farmer Will Have Her Revenge On Seattle - Demo / Instrumental', 'Dumb - Demo / Instrumental', 'Very Ape - Demo / Instrumental', 'Pennyroyal Tea - Demo / Instrumental', 'Radio Friendly Unit Shifter - Demo / Instrumental', \"Tourette's - Demo / Instrumental\", 'Marigold - Demo', 'All Apologies - Demo', 'Forgotten Tune - Demo / Instrumental', 'Jam - Demo']}, {'artist': 'Beck', 'album': 'Sea Change', 'tracks': ['The Golden Age', 'Paper Tiger', \"Guess I'm Doing Fine\", 'Lonesome Tears', 'Lost Cause', 'End Of The Day', \"It's All In Your Mind\", 'Round The Bend', 'Already Dead', 'Sunday Sun', 'Little One', 'Side Of The Road']}, {'artist': 'Lil Wayne', 'album': 'Tha Carter III', 'tracks': ['3 Peat', 'Mr. Carter', 'A Milli', 'Got Money', 'Comfortable', 'Dr. Carter', 'Phone Home', 'Tie My Hands', 'Mrs. Officer', 'Let The Beat Build', 'Shoot Me Down', 'Lollipop', 'La La', 'Pussy Monster', \"You Ain't Got Nuthin\", 'DontGetIt']}, {'artist': 'The Cure', 'album': \"Boys Don't Cry\", 'tracks': ['Mama & Prometida', 'Re-Member', 'Fiesta en Keli', 'Skit - After Party', 'Vamos a Mirarnos', 'Al Carajo', 'Skit - Tipo Educado', 'Baila Más', 'Made in Taiwán', 'Agassi', 'Money Over Bitches', 'Skit - Kings Never Die']}, {'artist': 'Sam Cooke', 'album': 'Live at the Harlem Square Club, 1963', 'tracks': ['Soul Twist / Introduction - Live', \"Feel It (Don't Fight It) - Live\", 'Chain Gang - Live', 'Cupid - Live', \"Medley: It's All Right / For Sentimental Reasons - Live\", \"Twistin' The Night Away - Live\", 'Somebody Have Mercy - Live', 'Bring It on Home to Me - Live', 'Nothing Can Change This Love - Live', 'Having a Party - Live']}, {'artist': 'The Pogues', 'album': 'Rum Sodomy & the Lash', 'tracks': ['The Sick Bed Of Cuchulainn', 'The Old Main Drag', 'Wild Cats Of Kilkenny', \"I'm A Man You Don't Meet Every Day\", 'A Pair of Brown Eyes', 'Sally MacLennane', 'Dirty Old Town', 'Jesse James', 'Navigator', \"Billy's Bones\", 'The Gentleman Soldier', 'The Band Played Waltzing Matilda', 'A Pistol For Paddy Garcia', 'London Girl', 'A Rainy Night in Soho', 'The Body of An American', 'Planxty Noel Hill', 'The Parting Glass']}, {'artist': 'Suicide', 'album': 'Suicide', 'tracks': ['Purple Lamborghini (with Rick Ross)', 'Sucker For Pain (with Wiz Khalifa, Imagine Dragons, Logic & Ty Dolla $ign feat. X Ambassadors)', 'Heathens', 'Standing In The Rain (with Mark Ronson & Dan Auerbach)', 'Gangsta', 'Know Better', \"You Don't Own Me (feat. G-Eazy)\", 'Without Me', 'Wreak Havoc', 'Medieval Warfare', 'Bohemian Rhapsody', \"Slippin' Into Darkness\", 'Fortunate Son', 'I Started a Joke (feat. Becky Hanson)']}, {'artist': 'DEVO', 'album': 'Q: Are We Not Men? A: We Are Devo!', 'tracks': ['Uncontrollable Urge', \"[I Can't Get No] Satisfaction\", 'Praying Hands', 'Space Junk', 'Mongoloid', 'Jocko Homo', 'Too Much Paranoias', 'Gut Feeling/ Slap Your Mammy', 'Come Back Jonee', \"Sloppy [I Saw My Baby Gettin']\", 'Shrivel-Up']}, {'artist': 'Cheap Trick', 'album': 'In Color', 'tracks': ['Hello There', 'Big Eyes', 'Downed', 'I Want You to Want Me', \"You're All Talk\", 'Oh Caroline', 'Clock Strikes Ten', 'Southern Girls', 'Come on, Come On', 'So Good to See You']}, {'artist': 'War', 'album': 'The World Is a Ghetto', 'tracks': ['The Cisco Kid', 'Where Was You At', 'City, Country, City', 'Four Cornered Room', 'The World Is A Ghetto', 'Beetles In The Bog', 'Freight Train Jam', '58 Blues', 'War Is Coming - Blues Version', 'The World Is A Ghetto - Rehearsal Take']}, {'artist': 'Steve Miller Band', 'album': 'Fly Like an Eagle', 'tracks': ['Space Intro', 'Fly Like An Eagle', 'Wild Mountain Honey', 'Serenade', 'Dance, Dance, Dance', 'Mercury Blues', 'Take The Money And Run', \"Rock'n Me\", 'You Send Me', 'Blue Odyssey', 'Sweet Maree', 'The Window']}, {'artist': 'MC5', 'album': 'Back in the USA', 'tracks': ['Tutti-Frutti', 'Tonight', 'Teenage Lust', 'Let Me Try', 'Looking At You', 'High School', 'Call Me Animal', 'The American Ruse', \"Shakin' Street\", 'The Human Being Lawnmower', 'Back In The USA']}, {'artist': 'Stan Getz/Joao Gilberto featuring Antonio Carlos Jobim', 'album': 'Getz / Gilberto', 'tracks': ['The Girl From Ipanema', 'Doralice', 'Para Machuchar Meu Coracao', 'Desafinado', 'Corcovado', 'Só Danço Samba', 'O Grande Amor', 'Vivo Sonhando']}, {'artist': 'The Police', 'album': 'Synchronicity', 'tracks': ['Synchronicity I - Remastered 2003', 'Walking In Your Footsteps - Remastered 2003', 'O My God - Remastered 2003', 'Mother - Remastered 2003', 'Miss Gradenko - Remastered 2003', 'Synchronicity II - Remastered 2003', 'Every Breath You Take - Remastered 2003', 'King Of Pain - Remastered 2003', 'Wrapped Around Your Finger - Remastered 2003', 'Tea In The Sahara - Remastered 2003', 'Murder By Numbers - Remastered 2003']}, {'artist': 'Jackson Browne', 'album': 'For Everyman', 'tracks': ['Take It Easy', 'Our Lady Of The Well', 'Colors Of The Sun', 'I Thought I Was A Child', 'These Days', 'Red Neck Friend', \"The Times You've Come\", 'Ready Or Not', 'Sing My Songs To Me', 'For Everyman']}, {'artist': 'Amy Winehouse', 'album': 'Back to Black', 'tracks': ['Rehab', \"You Know I'm No Good\", 'Me & Mr Jones', 'Just Friends', 'Back To Black', 'Love Is A Losing Game', 'Tears Dry On Their Own', 'Wake Up Alone', 'Some Unholy War', 'He Can Only Hold Her', 'Addicted']}, {'artist': 'John Prine', 'album': 'John Prine', 'tracks': ['Illegal Smile', 'Spanish Pipedream', 'Hello In There', 'Sam Stone', 'Paradise', 'Pretty Good', \"Your Flag Decal Won't Get You Into Heaven Anymore\", 'Far From Me', 'Angel From Montgomery', 'Quiet Man', 'Donald And Lydia', \"Six O'Clock News\", 'Flashback Blues']}, {'artist': 'EPMD', 'album': 'Strictly Business', 'tracks': ['Strictly Business', \"I'm Housin'\", 'Let The Funk Flow', 'You Gots To Chill', \"It's My Thing\", \"You're A Customer\", 'The Steve Martin', 'Get Off The Bandwagon', 'D.J. K La Boss', 'Jane']}, {'artist': 'Alice Cooper', 'album': 'Love It to Death', 'tracks': ['Caught In A Dream', \"I'm Eighteen\", 'Long Way To Go', 'Black Juju', 'Is It My Body', 'Hallowed Be My Name', 'Second Coming', 'Ballad of Dwight Fry', 'Sun Arise']}, {'artist': 'Los Lobos', 'album': 'How Will the Wolf Survive?', 'tracks': [\"Don't Worry Baby\", 'A Matter of Time', 'Corrido #1', 'Our Last Night', 'The Breakdown', 'I Got Loaded', 'Serenata Nortena', 'Evangeline', 'I Got To Let You Know - Remastered Version', \"Lil' King of Everything\", 'Will the Wolf Survive?']}, {'artist': 'Marvin Gaye', 'album': 'Here, My Dear', 'tracks': ['Here, My Dear', 'I Met A Little Girl', 'When Did You Stop Loving Me, When Did I Stop Loving You', 'Anger', 'Is That Enough', 'Everybody Needs Love', 'Time To Get It Together', 'Sparrow', \"Anna's Song\", 'When Did You Stop Loving Me, When Did I Stop Loving You - Instrumental', 'A Funky Space Reincarnation', \"You Can Leave, But It's Going To Cost You\", 'Falling In Love Again', 'When Did You Stop Loving Me, When Did I Stop Loving You - Reprise']}, {'artist': 'My Morning Jacket', 'album': 'Z', 'tracks': ['Ur', 'Childs Play (feat. Chance the Rapper)', 'Julia', 'Warm Winds (feat. Isaiah Rashad)', 'HiiiJack', 'Green Mile', 'Babylon (feat. Kendrick Lamar)', 'Sweet November', 'Shattered Ring', 'Omega']}, {'artist': 'Elton John', 'album': 'Tumbleweed Connection', 'tracks': ['Ballad Of A Well-Known Gun', 'Come Down In Time', 'Country Comfort', 'Son Of Your Father', \"My Father's Gun\", 'Where To Now St. Peter?', 'Love Song', 'Amoreena', 'Talking Old Soldiers', 'Burn Down The Mission', \"Into The Old Man's Shoes\", 'Madman Across The Water']}, {'artist': 'Hole', 'album': 'Live Through This', 'tracks': ['Violet', 'Miss World', 'Plump', 'Asking For It', \"Jennifer's Body\", 'Doll Parts', 'Credit In The Straight World', 'Softer, Softest', 'She Walks On Me', 'I Think That I Would Die', 'Gutless', 'Rock Star']}, {'artist': 'Public Image Ltd.', 'album': 'Metal Box', 'tracks': ['Saffron', 'Agrimony', 'Pennyroyal', 'Safed Musli', 'Vinca Rosea', 'Arrow Root', 'Arabic Gum', 'Lavender Buds', 'Emblica Officinalis', 'Burdock Root', 'Zatar', 'Benzoin Gum', 'White Willow Bark', 'Licorice', 'Vervain', 'Fenugreek', 'Bergamot', 'Orange Blossoms', 'Sarsaparilla', 'Bergamont', 'Sumac Berries', 'Calamus', 'Coffin Nails', 'Fo-Ti', 'Podina', 'Coriander', \"Dragon's Blood Resin\", 'Kava Kava Root', 'Camphor', 'Untitled (Meditation)', 'Shallots', 'Elder Blossoms', 'Valerian Root', 'High John', 'Coltsfoot Leaf', 'Charnsuka', 'Styrax Gum', 'Jasmine Blossoms', 'Mandrake', 'Orris Root Powder', 'Monosodium Glutamate', 'Blood Root', 'Black Snake Root', \"Devil's Shoestring\", 'Passion Flower', 'Red #40', 'Star Anis', 'Horehound', 'Wormwood', 'Yellow Dock']}, {'artist': 'R.E.M.', 'album': 'Document', 'tracks': ['Finest Worksong', 'Welcome To The Occupation', 'Exhuming McCarthy', 'Disturbance At The Heron House', 'Strange', \"It's the End of the World As We Know It (And I Feel Fine)\", 'The One I Love', 'Fireplace', \"Lightnin' Hopkins\", 'King Of Birds', 'Oddfellows Local 151']}, {'artist': 'Echo and The Bunnymen', 'album': 'Heaven Up Here', 'tracks': ['Show Of Strength', 'With A Hip', 'Over The Wall', 'It Was A Pleasure', 'A Promise', 'Heaven Up Here', 'The Disease', 'All My Colours', 'No Dark Things', 'Turquoise Days', 'All I Want']}, {'artist': 'Def Leppard', 'album': 'Hysteria', 'tracks': ['Women - Remastered 2017', 'Rocket - Remastered 2017', 'Animal - Remastered 2017', 'Love Bites - Remastered 2017', 'Pour Some Sugar On Me - Remastered 2017', 'Armageddon It - Remastered 2017', 'Gods Of War - Remastered 2017', \"Don't Shoot Shot Gun - Remastered 2017\", 'Run Riot - Remastered 2017', 'Hysteria - Remastered 2017', 'Excitable - Remastered 2017', 'Love And Affection - Remastered 2017', 'Tear It Down', 'I Wanna Be Your Hero - Revised Version', 'Ride Into The Sun - Re-Recording', 'Ring Of Fire', 'Women - Radio Edit', 'Rocket - Lunar Mix / Radio Edit', 'Love Bites - Radio Edit', 'Hysteria - Radio Edit', 'Pour Some Sugar On Me - Radio Edit', 'Armageddon It - Radio Edit', 'Release Me', 'Rocket - Lunar Mix / Extended Version', 'Armageddon It - The Nuclear Mix', 'Animal - Extended Version', 'Pour Some Sugar On Me - Extended Version', 'Excitable - The Orgasmic Mix', 'Rocket - Lunar Mix', 'Rock Of Ages Medley - Live', 'Love And Affection - Live', \"Billy's Got A Gun - Live\", 'Stagefright - Live', 'Rock! Rock! (Till You Drop) - Live', 'Women - Live', 'Too Late For Love - Live', 'Hysteria - Live', 'Gods Of War - Live', 'Die Hard The Hunter - Live', \"Bringin' On The Heartbreak - Live\", \"Foolin' - Live\", 'Armageddon It - Live', 'Animal - Live', 'Pour Some Sugar On Me - Live', 'Phil Solo - Live', 'Rock Of Ages - Live', 'Photograph - Live']}, {'artist': 'The Magnetic Fields', 'album': '69 Love Songs', 'tracks': ['Absolutely Cuckoo', \"I Don't Believe in the Sun\", 'All My Little Words', 'A Chicken With Its Head Cut Off', 'Reno Dakota', \"I Don't Want to Get Over You\", 'Come Back From San Francisco', 'The Luckiest Guy on the Lower East Side', \"Let's Pretend We're Bunny Rabbits\", 'The Cactus Where Your Heart Should Be', 'I Think I Need a New Heart', 'The Book of Love', 'Fido, Your Leash Is Too Long', 'How Fucking Romantic', 'The One You Really Love', 'Punk Love', 'Parades Go By', 'Boa Constrictor', 'A Pretty Girl Is Like', 'My Sentimental Melody', \"Nothing Matters When We're Dancing\", \"Sweet-Lovin' Man\", \"The Things We Did and Didn't Do\", 'Roses', 'Love Is Like Jazz', 'When My Boy Walks Down the Street', \"Time Enough for Rocking When We're Old\", 'Very Funny', 'Grand Canyon', 'No One Will Ever Love You', \"If You Don't Cry\", \"You're My Only Home\", '(Crazy for You But) Not That Crazy', 'My Only Friend', 'Promises of Eternity', 'World Love', 'Washington, D.C.', 'Long-Forgotten Fairytale', 'Kiss Me Like You Mean It', 'Papa Was a Rodeo', 'Epitaph for My Heart', 'Asleep and Dreaming', 'The Sun Goes Down and the World Goes Dancing', 'The Way You Say Good-Night', 'Abigail, Belle of Kilronan', 'I Shatter', 'Underwear', \"It's a Crime\", 'Busby Berkeley Dreams', \"I'm Sorry I Love You\"]}, {'artist': 'Coldplay', 'album': 'A Rush of Blood to the Head', 'tracks': ['Politik', 'In My Place', 'God Put A Smile Upon Your Face', 'The Scientist', 'Clocks', 'Daylight', 'Green Eyes', 'Warning Sign', 'A Whisper', 'A Rush Of Blood To The Head', 'Amsterdam']}, {'artist': 'Bruce Springsteen', 'album': 'Tunnel of Love', 'tracks': [\"Ain't Got You\", 'Tougher Than the Rest', 'All That Heaven Will Allow', 'Spare Parts', 'Cautious Man', 'Walk Like A Man', 'Tunnel of Love', 'Two Faces', 'Brilliant Disguise', 'One Step Up', \"When You're Alone\", \"Valentine's Day\"]}, {'artist': 'The Paul Butterfield Blues Band', 'album': 'The Paul Butterfield Blues Band', 'tracks': ['Born In Chicago', 'Shake Your Money-Maker', 'Blues With A Feeling', 'Thank You Mr. Poobah', 'I Got My Mojo Working', 'Mellow Down Easy', \"Screamin'\", 'Our Love Is Drifting', 'Mystery Train', 'Last Night', 'Look Over Yonders Wall']}, {'artist': 'Fugees', 'album': 'The Score', 'tracks': ['Red Intro', 'How Many Mics', 'Ready or Not', 'Zealots', 'The Beast', 'Fu-Gee-La', 'Family Business', 'Killing Me Softly with His Song', 'The Score', 'The Mask', 'Cowboys', 'No Woman, No Cry', 'Manifest/Outro', 'Fu-Gee-La - Refugee Camp Remix', 'Fu-Gee-La - Sly & Robbie Mix', 'Mista Mista', 'Fu-Gee-La - Refugee Camp Global Mix']}, {'artist': 'L.L. Cool J', 'album': 'Radio', 'tracks': ['Dusk Till Dawn - Radio Edit']}, {'artist': 'Richard & Linda Thompson', 'album': 'I Want to See the Bright Lights Tonight', 'tracks': ['When I Get To The Border', 'The Calvary Cross', 'Withered And Died', 'I Want To See The Bright Lights Tonight', 'Down Where The Drunkards Roll', 'We Sing Hallelujah', 'Has He Got A Friend For Me', 'The Little Beggar Girl', 'The End Of The Rainbow', 'The Great Valerio', 'I Want To See The Bright Lights - Live', 'Together Again - Live', 'The Calvary Cross - Live']}, {'artist': 'George Michael', 'album': 'Faith', 'tracks': ['Faith - Remastered', 'Father Figure - Remastered', 'I Want Your Sex - Pts. 1 & 2 Remastered', 'One More Try - Remastered', 'Hard Day - Remastered', 'Hand to Mouth - Remastered', 'Look at Your Hands - Remastered', 'Monkey - Remastered', 'Kissing a Fool - Remastered', 'A Last Request (I Want Your Sex) - Remastered']}, {'artist': 'The Smiths', 'album': 'The Smiths', 'tracks': ['Reel Around The Fountain - 2011 Remastered Version', \"You've Got Everything Now - 2011 Remastered Version\", 'Miserable Lie - 2011 Remastered Version', 'Pretty Girls Make Graves - 2011 Remastered Version', 'The Hand That Rocks The Cradle - 2011 Remastered Version', 'This Charming Man - 2011 Remastered Version', 'Still Ill - 2011 Remastered Version', 'Hand In Glove - 2011 Remastered Version', 'What Difference Does It Make? - 2011 Remastered Version', \"I Don't Owe You Anything - 2011 Remastered Version\", 'Suffer Little Children - 2011 Remastered Version']}, {'artist': 'Manu Chao', 'album': 'Proxima estacion: Esperanza', 'tracks': ['Merry Blues', 'Bixo', 'Eldorado 1997', 'Promiscuity', 'La Primavera', 'Me Gustas Tu', 'Denia', 'Mi Vida', 'Trapped By Love', 'Le Rendez Vous', 'Mr Bobby', 'Papito', 'La Chinita', 'La Marea', 'Homens', 'La Vacaloca', 'Infinita Tristeza']}, {'artist': 'Elvis Costello & The Attractions', 'album': 'Armed Forces', 'tracks': ['Accidents Will Happen', 'Senior Service', \"Oliver's Army\", 'Big Boys', 'Green Shirt', 'Party Girl', 'Goon Squad', 'Busy Bodies', \"Sunday's Best\", 'Moods For Moderns', 'Chemistry Class', 'Two Little Hitlers', \"(What's So Funny 'Bout) Peace, Love And Understanding\"]}, {'artist': 'The Notorious B.I.G.', 'album': 'Life After Death', 'tracks': ['Life After Death (Intro) - 2014 Remastered Version', \"Somebody's Gotta Die - 2014 Remastered Version\", 'Hypnotize - 2014 Remastered Version', 'Kick In The Door - 2014 Remastered Version', '#!*@ You Tonight (feat. R. Kelly) - 2014 Remastered Version', 'Last Day (feat. The Lox) - 2014 Remastered Version', 'I Love The Dough (feat. Jay-Z & Angela Winbush)', \"What's Beef - 2014 Remastered Version\", 'B.I.G. (Interlude) - 2014 Remastered Version', 'Mo Money Mo Problems (feat. Mase & Puff Daddy) - 2014 Remastered Version', 'Niggas Bleed - 2014 Remastered Version', 'I Got A Story To Tell - 2014 Remastered Version', 'Notorious Thugs - 2014 Remastered Version', 'Miss U - 2014 Remastered Version', \"Another (feat. Lil' Kim) - 2014 Remastered Version\", 'Going Back To Cali - 2014 Remastered Version', 'Ten Crack Commandments - 2014 Remastered Version', 'Playa Hater - 2014 Remastered Version', 'Nasty Boy - 2014 Remastered Version', \"Sky's The Limit (feat. 112) - 2014 Remastered Version\", 'The World Is Filled... (feat. Too Short & Puff Daddy) - 2014 Remastered Version', 'My Downfall (feat. DMC) - 2014 Remastered Version', 'Long Kiss Goodnight - 2014 Remastered Version', \"You're Nobody (Til Somebody Kills You) - 2014 Remastered Version\"]}, {'artist': 'Merle Haggard', 'album': 'Down Every Road', 'tracks': ['Skid Row - Down Every Road Version', 'Sing A Sad Song', \"You Don't Even Try\", 'Sam Hill', '(My Friends Are Gonna Be) Strangers', 'Just Between The Two Of Us', 'If I Had Left It Up To You', \"I'm Gonna Break Every Heart I Can\", 'Swinging Doors - Down Every Road Version', 'The Bottle Let Me Down - Down Every Road Version', 'High on a Hilltop', \"I'll Look Over You\", 'The Fugitive', 'House Of Memories', 'All Of Me Belongs To You', \"Mary's Mine\", 'Someone Told My Story', 'Go Home', 'Whatever Happened To Me', 'Loneliness Is Eating Me Alive', 'I Threw Away The Rose', 'Branded Man', \"You Don't Have Very Far To Go\", 'Somewhere Between', 'Sing Me Back Home', \"The Son Of Hickory Holler's Tramp\", 'Seeing Eye Dog', 'The Legend Of Bonnie And Clyde', 'Today I Started Loving You Again', 'Is This The Beginning Of The End?', \"I'll Always Know\", 'Mama Tried', 'In The Good Old Days (When Times Were Bad)', 'Teach Me To Forget', \"I'm Looking For My Mind\", 'The Day The Rains Came', 'California Blues (Blue Yodel #4)', 'I Take A Lot Of Pride In What I Am', \"I'm Bringin' Home Good News\", \"I Can't Hold Myself In Line\", 'It Meant Goodbye To Me When You Said Hello To Him', 'Hungry Eyes', 'Silver Wings', \"Waitin' For A Train\", \"Jimmie Rodgers' Last Blue Yodel (The Women Make A Fool Out Of Me)\", 'California Cottonfields', 'White Line Fever - Down Every Road Version', \"Workin' Man Blues\", 'Okie From Muskogee - Down Every Road Version', \"I Can't Stop Loving You - Live\"]}, {'artist': 'Loretta Lynn', 'album': 'All Time Greatest Hits', 'tracks': ['I Got You (I Feel Good)', 'Get Up (I Feel Like Being A) Sex Machine - Pt. 1 & 2', \"I Got The Feelin'\", 'Mother Popcorn - Single Version', 'Give It Up Or Turnit A Loose', 'Make It Funky', \"Papa's Got A Brand New Bag\", 'Think', \"It's A Man's, Man's, Man's World\", 'Try Me', 'Night Train - Single Version', 'Cold Sweat', 'Get On The Good Foot', \"Papa Don't Take No Mess\", 'The Payback', \"Say It Loud - I'm Black And I'm Proud\", 'Super Bad', 'Hot Pants (She Got To Use What She Got To Get What She Wants)', 'Get Up Offa That Thing', 'Please, Please, Please']}, {'artist': 'Funkadelic', 'album': 'Maggot Brain', 'tracks': ['Maggot Brain', 'Can You Get To That', 'Hit It and Quit It', 'You and Your Folks, Me and My Folks', 'Super Stupid', 'Back In Our Minds', 'Wars of Armageddon', 'Whole Lot of BS - 1972 Version', 'I Miss My Baby - 1972 Version', 'Maggot Brain - Alternate Mix']}, {'artist': 'Raekwon', 'album': 'Only Built 4 Cuban Linx', 'tracks': ['Striving For Perfection', 'Knuckleheadz', 'Knowledge God', 'Criminology', 'Incarcerated Scarfaces', 'Rainy Dayz', 'Guillotine (Swordz)', 'Can It Be All So Simple (Remix)', 'Shark Niggas (Biters)', 'Ice Water', 'Glaciers of Ice', 'Verbal Intercourse', 'Wisdom Body', 'Spot Rusherz', 'Ice Cream', 'Wu-Gambinos - Hidden Chambers Remix', 'Heaven & Hell', 'North Star (Jewels)']}, {'artist': \"D'Angelo\", 'album': 'Voodoo', 'tracks': ['Playa Playa', \"Devil's Pie\", 'Left And Right', 'The Line', 'Send It On', 'Chicken Grease', \"One Mo'Gin\", 'The Root', 'Spanish Joint', \"Feel Like Makin' Love\", \"Greatdayndamornin'/Booty\", 'Untitled (How Does It Feel)', 'Africa']}, {'artist': 'Steve Earle', 'album': 'Guitar Town', 'tracks': ['Guitar Town', \"Goodbye's All We've Got Left\", 'Hillbilly Highway', \"Good Ol' Boy (Gettin' Tough)\", 'My Old Friend The Blues', 'Someday', 'Think It Over', 'Fearless Heart', \"Little Rock 'N' Roller\", 'Down The Road']}, {'artist': 'Gang of Four', 'album': 'Entertainment!', 'tracks': ['11:11', 'Blonde', 'Peach (Lobotomy)', 'We Need to Talk', 'Not Warriors', 'Lucky People', 'Rare', 'TANTRUM', 'Crybaby', 'Sleep Alone']}, {'artist': 'Mott the Hoople', 'album': 'All the Young Dudes', 'tracks': ['Sweet Jane', \"Momma's Little Jewel\", 'All the Young Dudes', 'Sucker', \"Jerkin' Crocus\", 'One of the Boys', 'Soft Ground', 'Ready for Love / After Lights', 'Sea Diver', 'One of the Boys - Demo Version', 'Black Scorpio - Demo Version', 'Ride On The Sun - Demo Version', 'One of the Boys - Single Verison', 'All the Young Dudes', 'Sucker - Live Version', 'Sweet Jane - Live Version']}, {'artist': 'Pearl Jam', 'album': 'Vitalogy', 'tracks': ['Last Exit - Remastered', 'Spin the Black Circle - Remastered', 'Not for You - Remastered', 'Tremor Christ - Remastered', 'Nothingman - Remastered', 'Whipping - Remastered', 'Pry, To - Remastered', 'Corduroy - Remastered', 'Bugs - Remastered', \"Satan's Bed - Remastered\", 'Better Man - Remastered', 'Aya Davanita - Remastered', 'Immortality - Remastered', 'Stupidmop - Remastered', 'Better Man - Guitar / Organ Only', 'Corduroy - Alternate Take', 'Nothingman - Demo']}, {'artist': 'Earth, Wind & Fire', 'album': \"That's the Way of the World\", 'tracks': ['Shining Star', \"That's the Way of the World\", \"Happy Feelin'\", 'All About Love', \"Yearnin' Learnin'\", 'Reasons', 'Africano', 'See the Light']}, {'artist': 'Cyndi Lauper', 'album': \"She's So Unusual\", 'tracks': ['Money Changes Everything', 'Girls Just Want to Have Fun', 'When You Were Mine', 'Time After Time', 'She Bop', 'All Through the Night', 'Witness', \"I'll Kiss You\", \"He's so Unusual\", 'Yeah Yeah']}, {'artist': 'Husker Du', 'album': 'New Day Rising', 'tracks': ['New Day Rising', 'The Girl Who Lives On Heaven Hill', 'I Apologize', 'Folk Lore', 'If I Told You', 'Celebrated Summer', 'Perfect Example', 'Terms Of Psychic Warfare', '59 Times The Pain', 'Powerline', 'Books About UFOs', \"I Don't Know What You're Talking About\", 'How To Skin A Cat', \"Whatcha Drinkin'\", 'Plans I Make']}, {'artist': 'KISS', 'album': 'Destroyer', 'tracks': ['Detroit Rock City', 'King Of The Night Time World', 'God Of Thunder', 'Great Expectations', 'Flaming Youth', 'Sweet Pain', 'Shout It Out Loud', 'Beth', 'Do You Love Me', 'Rock And Roll Party']}, {'artist': 'ZZ Top', 'album': 'Tres hombres', 'tracks': [\"Waitin' for the Bus - 2006 Remastered Version\", 'Jesus Just Left Chicago - 2006 Remastered Version', 'Beer Drinkers & Hell Raisers - 2006 Remastered Version', 'Master of Sparks - 2006 Remastered Version', 'Hot, Blue and Righteous - 2006 Remastered Version', 'Move Me On Down The Line - Remastered Version', 'Precious And Grace - Remastered Version', 'La Grange - 2005 Remastered Version', 'Sheik - Remastered Version', 'Have You Heard ? - Remastered Version', \"Waitin' For The Bus - Live Version Previously Unissued\", 'Jesus Just Left Chicago - Live Version Previously Unissued', 'La Grange - Live Version Previously Unissued']}, {'artist': 'Albert King', 'album': 'Born Under a Bad Sign', 'tracks': ['Born Under A Bad Sign', 'Crosscut Saw', 'Kansas City', \"Oh, Pretty Woman - Can't Make You Love Me\", \"Down Don't Bother Me\", 'The Hunter', 'I Almost Lost My Mind', 'Personal Manager', 'Laundromat Blues', 'As The Years Go Passing By', 'The Very Thought Of You']}, {'artist': 'Eurythmics', 'album': 'Touch', 'tracks': ['Everytime We Touch', 'Everytime We Touch - Rocco vs. Bass-T Remix', 'Everytime We Touch - Dan Winter Edit', 'Everytime We Touch - Verano Edit', 'Everytime We Touch - Original Mix', 'Everytime We Touch - Rocco vs. Bass-T Remix', 'Everytime We Touch - Dan Winter Remix', 'Everytime We Touch - Scarf! Remix', 'Everytime We Touch - Verano Remix']}, {'artist': 'Wilco', 'album': 'Yankee Hotel Foxtrot', 'tracks': ['I am trying to break your heart', 'Kamera', 'Radio cure', 'War on war', 'Jesus, etc.', 'Ashes of American Flags', 'Heavy metal drummer', \"I'm the man who loves you\", 'Pot kettle black', 'Poor places', 'Reservations']}, {'artist': 'MGMT', 'album': 'Oracular Spectacular', 'tracks': ['Time to Pretend', 'Weekend Wars', 'The Youth', 'Electric Feel', 'Kids', '4th Dimensional Transition', 'Pieces of What', 'Of Moons, Birds & Monsters', 'The Handshake', 'Future Reflections']}, {'artist': 'Bonnie Raitt', 'album': 'Give It Up', 'tracks': ['Give It Up']}, {'artist': 'Boz Scaggs', 'album': 'Boz Scaggs', 'tracks': [\"Runnin' Blue\", 'We Were Always Sweethearts', 'Near You', 'Painted Bells', 'Dinah Flo', 'Might Have to Cry', 'You Make It So Hard (To Say No)', 'I Got Your Number', 'Slow Dancer', 'Hercules', 'What Can I Say', \"It's Over\", 'Harbor Lights', 'Lowdown', 'Lido Shuffle', \"We're All Alone\", 'Loan Me A Dime', 'Hard Times', '1993', 'JoJo', \"Isn't It Time\", 'Simone', 'Breakdown Dead Ahead', 'Miss Sun', \"Look What You've Done to Me\", 'Heart of Mine', \"What's Number One?\", 'Drowning In the Sea of Love - Live', 'Sierra', 'Some Change', 'As the Years Go Passing By - Live', 'Just Go', 'Goodnight Louise']}, {'artist': 'The White Stripes', 'album': 'White Blood Cells', 'tracks': ['Dead Leaves And The Dirty Ground', 'Hotel Yorba', \"I'm Finding It Harder To Be A Gentleman\", 'Fell In Love With A Girl', 'Expecting', 'Little Room', 'The Union Forever', \"The Same Boy You've Always Known\", \"We're Going To Be Friends\", 'Offend In Every Way', 'I Think I Smell A Rat', 'Aluminum', \"I Can't Wait\", 'Now Mary', 'I Can Learn', 'This Protector']}, {'artist': 'The Stone Roses', 'album': 'The Stone Roses', 'tracks': ['I Wanna Be Adored - Remastered', 'She Bangs the Drums - Remastered', 'Waterfall - Remastered', \"Don't Stop - Remastered\", 'Bye Bye Bad Man - Remastered', 'Elizabeth My Dear - Remastered', '(Song for My) Sugar Spun Sister - Remastered', 'Made of Stone - Remastered', 'Shoot You Down - Remastered', 'This Is the One - Remastered', 'I Am the Resurrection - Remastered', 'Fools Gold - Remastered']}, {'artist': 'B.B. King', 'album': 'Live in Cook County Jail', 'tracks': ['Introduction', 'Every Day I Have The Blues', 'How Blue Can You Get?', 'Worry, Worry, Worry', \"Medley: 3 O'Clock Blues/Darlin' You Know I Love You\", 'Sweet Sixteen', 'The Thrill Is Gone', 'Please Accept My Love']}, {'artist': 'OutKast', 'album': 'Aquemini', 'tracks': ['Hold On Be Strong', 'Return of the \"G\"', 'Rosa Parks', 'Skew It on the Bar-B', 'Aquemini', 'Synthesizer', 'Slump', 'West Savannah', \"Da Art of Storytellin' (Pt. 1)\", \"Da Art of Storytellin' (Pt. 2)\", 'Mamacita', 'SpottieOttieDopaliscious', \"Y'All Scared\", 'Nathaniel', 'Liberation', 'Chonkyfire']}]\n"
     ]
    }
   ],
   "source": [
    "import json\n",
    "\n",
    "file = open('track_data.json', 'r')\n",
    "json_data = json.load(file)\n",
    "\n",
    "print(json_data)\n",
    "# output will look like this:\n",
    "# [{'artist': 'The Beatles', 'album': \"Sgt. Pepper's Lonely Hearts Club Band\", 'tracks': [\"Sgt. Pepper's Lonely Hearts Club Band - Remix\", 'With A Little Help From My Friends - Remix', 'Lucy In The Sky With Diamonds - Remix', 'Getting Better - Remix', 'Fixing A Hole - Remix', \"She's Leaving Home - Remix\", 'Being For The Benefit Of Mr. Kite! - Remix', 'Within You Without You - Remix', \"When I'm Sixty-Four - Remix\", 'Lovely Rita - Remix', 'Good Morning Good Morning - Remix', \"Sgt. Pepper's Lonely Hearts Club Band (Reprise) - Remix\", 'A Day In The Life - Remix', \"Sgt. Pepper's Lonely Hearts Club Band - Take 9 And Speech\", 'With A Little Help From My Friends - Take 1 / False Start And Take 2 / Instrumental', 'Lucy In The Sky With Diamonds - Take 1', 'Getting Better - Take 1 / Instrumental And Speech At The End', 'Fixing A Hole - Speech And Take 3', \"She's Leaving Home - Take 1 / Instrumental\", 'Being For The Benefit Of Mr. Kite! - Take 4', 'Within You Without You - Take 1 / Indian Instruments', \"When I'm Sixty-Four - Take 2\", 'Lovely Rita - Speech And Take 9', 'Good Morning Good Morning - Take 8', \"Sgt. Pepper's Lonely Hearts Club Band (Reprise) - Speech And Take 8\", 'A Day In The Life - Take 1 With Hums', 'Strawberry Fields Forever - Take 7', 'Strawberry Fields Forever - Take 26', 'Strawberry Fields Forever - Stereo Mix 2015', 'Penny Lane - Take 6 / Instrumental', 'Penny Lane - Stereo Mix 2017']}, {'artist': 'The Beach Boys', 'album': 'Pet Sounds', 'tracks': [\"Wouldn't It Be Nice - Digitally Remastered 96\", 'You Still Believe In Me - Digitally Remastered 96', \"That's Not Me - 1996 Digital Remaster\", \"Don't Talk (Put Your Head On My Shoulder) - 1996 Digital Remaster\", \"I'm Waiting For The Day - Digitally Remastered 96\", \"Let's Go Away For Awhile - Digitally Remastered 96\", 'Sloop John B - 1996 - Remaster', 'God Only Knows - 1997 - Remaster', \"I Know There's An Answer - Digitally Remastered 96\", 'Here Today - Digitally Remastered 96', \"I Just Wasn't Made For These Times - Digitally Remastered 96\", 'Pet Sounds - Digitally Remastered 96', 'Caroline, No - 1996 Digital Remaster', 'Hang On To Your Ego', \"Wouldn't It Be Nice - 2000 - Remaster\", 'You Still Believe In Me - 1996 Digital Remaster', \"That's Not Me - 1996 Digital Remaster\", \"Don't Talk (Put Your Head On My Shoulder) - 1996 Digital Remaster\", \"I'm Waiting For The Day - 1996 Digital Remaster\", \"Let's Go Away For Awhile - 1996 Digital Remaster\", 'Sloop John B - 1996 Digital Remaster', 'God Only Knows - 1996 Digital Remaster', \"I Know There's An Answer - 1996 Digital Remaster\", 'Here Today - 1996 Digital Remaster', \"I Just Wasn't Made For These Times - 1996 Digital Remaster\", 'Pet Sounds - 1996 Digital Remaster', 'Caroline, No - 1996 Digital Remaster']}, {'artist': 'The Beatles', 'album': 'Revolver', 'tracks': ['Taxman - Remastered', 'Eleanor Rigby - Remastered', \"I'm Only Sleeping - Remastered\", 'Love You To - Remastered', 'Here, There And Everywhere - Remastered', 'Yellow Submarine - Remastered', 'She Said She Said - Remastered', 'Good Day Sunshine - Remastered', 'And Your Bird Can Sing - Remastered', 'For No One - Remastered', 'Doctor Robert - Remastered', 'I Want To Tell You - Remastered', 'Got To Get You Into My Life - Remastered', 'Tomorrow Never Knows - Remastered']}, {'artist': 'Bob Dylan', 'album': 'Highway 61 Revisited', 'tracks': ['Like a Rolling Stone', 'Tombstone Blues', 'It Takes a Lot to Laugh, It Takes a Train to Cry', 'From a Buick 6', 'Ballad of a Thin Man', 'Queen Jane Approximately', 'Highway 61 Revisited', \"Just Like Tom Thumb's Blues\", 'Desolation Row']}, ...]"
   ]
  },
  {
   "cell_type": "code",
   "execution_count": 30,
   "metadata": {},
   "outputs": [],
   "source": [
    "def track_cleaner(data):\n",
    "    copy_data = data.copy()\n",
    "    for idx, album in enumerate(data):\n",
    "        copy_data[idx]['tracks'] = list({track.split('-')[0].strip() for track in album['tracks']})\n",
    "    return copy_data\n",
    "tracks = track_cleaner(json_data)"
   ]
  },
  {
   "cell_type": "markdown",
   "metadata": {},
   "source": [
    "**albumWithMostTopSongs** - returns the name of the artist and album that has that most songs featured on the top 500 songs list"
   ]
  },
  {
   "cell_type": "code",
   "execution_count": 31,
   "metadata": {},
   "outputs": [],
   "source": [
    "def album_with_most_top_songs(song_dict,album_song_file):\n",
    "    album_popularity_dict = {}\n",
    "    for song in song_dict:\n",
    "        for album in album_song_file:\n",
    "            if song['song'] in album['tracks']:\n",
    "                if album['album'] in album_popularity_dict:\n",
    "                    album_popularity_dict[album['album']] += 1\n",
    "                else:\n",
    "                    album_popularity_dict[album['album']] = 1\n",
    "    print(album_popularity_dict)\n",
    "    most_pop_album_num = max(album_popularity_dict.values())\n",
    "            \n",
    "    return [keys for keys, values in album_popularity_dict.items() if values == most_pop_album_num]\n",
    "            "
   ]
  },
  {
   "cell_type": "code",
   "execution_count": 32,
   "metadata": {},
   "outputs": [
    {
     "name": "stdout",
     "output_type": "stream",
     "text": [
      "{'Highway 61 Revisited': 3, \"What's Going On\": 1, 'Otis Blue: Otis Redding Sings Soul': 3, 'I Never Loved a Man the Way I Love You': 3, 'Ready to Die': 1, 'The Smile Sessions': 1, 'The Great Twenty Eight': 5, 'Meet The Beatles!': 2, 'The Sun Sessions': 2, 'Presenting the Fabulous Ronettes Featuring Veronica': 2, 'Live at Leeds': 3, 'My Generation': 2, 'Portrait of a Legend 1951-1964': 4, 'London Calling': 2, 'Are You Experienced': 4, 'Elvis Presley': 8, 'Let It Be': 2, 'Born to Run': 2, 'Rubber Soul': 2, 'Lady Soul': 2, 'The Anthology: 1961-1977': 1, 'Pet Sounds': 2, 'Layla and Other Assorted Love Songs': 3, 'Slowhand': 1, 'The Sun Records Collection': 6, 'Led Zeppelin': 2, '[Led Zeppelin IV]': 2, 'The Doors': 2, 'Achtung Baby': 2, 'Let It Bleed': 2, 'Music From Big Pink': 1, \"Here's Little Richard\": 2, 'Electric Ladyland': 2, 'John Wesley Harding': 1, 'Hotel California': 1, 'Purple Rain': 2, 'Thriller': 2, 'The Who Sell Out': 2, 'Talking Book': 1, 'Led Zeppelin II': 3, \"Sgt. Pepper's Lonely Hearts Club Band\": 2, 'The Paul Butterfield Blues Band': 1, 'Star Time': 1, 'All Time Greatest Hits': 1, 'Bringing It All Back Home': 4, 'Mr. Tambourine Man': 3, 'Van Halen': 1, 'Synchronicity': 1, 'If You Can Believe Your Eyes and Ears': 2, 'From Elvis in Memphis': 1, 'Ramones': 1, 'The Joshua Tree': 2, 'At Folsom Prison': 3, \"I'm Still in Love With You\": 1, 'Willy and the Poor Boys': 1, 'Suicide': 2, 'Bridge Over Troubled Water': 2, 'The \"Chirping\" Crickets': 2, '40 Greatest Hits': 2, 'Every Picture Tells a Story': 2, 'Fly Like an Eagle': 1, 'Rumours': 1, 'Squeezing Out Sparks': 1, 'Greatest Hits': 6, 'Odessey and Oracle': 1, 'Hunky Dory': 1, 'Moby Grape': 1, \"Who's Next\": 2, 'The Beatles (\"The White Album\")': 1, 'Revolver': 1, \"There's a Riot Goin' On\": 1, 'Please Please Me': 2, 'Physical Graffiti': 1, \"The B 52's\": 1, 'Pearl': 2, \"A Hard Day's Night\": 2, 'Loaded': 2, 'The Complete Recordings': 1, 'Down Every Road': 1, \"I Do Not Want What I Haven't Got\": 1, 'A Night at the Opera': 1, 'Tracy Chapman': 1, \"Let's Get It On\": 1, 'Berlin': 3, 'How Will the Wolf Survive?': 1, 'The Anthology': 2, 'Los Angeles': 1, 'Live in Cook County Jail': 1, 'Saturday Night Fever: The Original Movie Soundtrack Deluxe Edition': 2, \"(pronounced 'leh-'nerd 'skin-'nerd)\": 1, 'Appetite for Destruction': 2, 'Abbey Road': 3, 'Kick Out the Jams': 1, 'The Cars': 1, 'Fresh Cream': 1, 'Wheels of Fire': 3, \"Howlin' Wolf\": 1, 'Out of Our Heads': 1, 'Moondance': 1, 'Sweet Baby James': 1, 'Blonde on Blonde': 2, 'At Last!': 1, 'Paranoid': 2, 'All the Young Dudes': 2, 'Highway to Hell': 1, 'OK Computer': 1, 'Innervisions': 1, 'Going to a Go-Go': 1, 'Sail Away': 1, 'Rust Never Sleeps': 1, 'New York Dolls': 1, 'The Modern Lovers': 1, 'Volunteers': 1, 'Born in the U.S.A.': 1, 'The Rise and Fall of Ziggy Stardust and the Spiders From Mars': 1, 'Stardust': 1, 'Court and Spark': 1, 'Slanted and Enchanted': 1, 'Raising Hell': 2, 'Toys in the Attic': 3, 'The Marshall Mathers LP': 1, 'Beggars Banquet': 1, 'Red Headed Stranger': 1, 'Between the Buttons': 1, 'The Wall': 1, 'Wish You Were Here': 1, 'My Aim Is True': 1, 'The Birth of Soul': 1, \"That's the Way of the World\": 1, 'Sticky Fingers': 2, 'The Velvet Underground': 2, 'The Harder They Come': 2, 'Axis: Bold as Love': 1, 'Violator': 1, 'Marquee Moon': 1, 'The Bends': 1, 'Murmur': 1, 'Goodbye Yellow Brick Road': 1, 'At Fillmore East': 1, 'Paid in Full': 1, 'Tim': 1, \"Outlandos d'Amour\": 1, 'American Recordings': 1, '#1 Record': 1, 'Metallica (\"The Black Album\")': 1, 'Close to You': 1, 'Doolittle': 1, 'Crosby, Stills & Nash': 1, 'Exile on Main St.': 1, 'Forever Changes': 1, 'The Stooges': 1, 'MTV Unplugged in New York': 2, 'Funky Kingston': 1, 'The Velvet Underground & Nico': 1, 'Live at the Harlem Square Club, 1963': 1, 'All Things Must Pass': 1, 'In Utero': 1, 'Rocket to Russia': 1, 'Damn the Torpedoes': 1, 'My Beautiful Dark Twisted Fantasy': 1, 'Raw Power': 1, 'Tapestry': 1, 'Surrealistic Pillow': 1, 'Nightbirds': 1, 'Love It to Death': 1, 'Graceland': 1, 'Some Girls': 1, 'Weezer (Blue Album)': 1}\n"
     ]
    },
    {
     "data": {
      "text/plain": [
       "['Elvis Presley']"
      ]
     },
     "execution_count": 32,
     "metadata": {},
     "output_type": "execute_result"
    }
   ],
   "source": [
    "album_with_most_top_songs(song_dict, tracks)"
   ]
  },
  {
   "cell_type": "markdown",
   "metadata": {},
   "source": [
    "**albumsWithTopSongs** - returns a list with the name of only the albums that have tracks featured on the list of top 500 songs"
   ]
  },
  {
   "cell_type": "code",
   "execution_count": 33,
   "metadata": {},
   "outputs": [],
   "source": [
    "def album_with_top_songs(our_data,song_dict,album_song_file):\n",
    "    albums_with_popular_songs = []\n",
    "    for song in song_dict:\n",
    "        for album in album_song_file:\n",
    "            if song['song'] in album['tracks']:\n",
    "                albums_with_popular_songs.append(album['album'])\n",
    "                \n",
    "    ultimate_album_list = []            \n",
    "    for album in albums_with_popular_songs:\n",
    "        for top_albums in all_titles(our_data):\n",
    "            if album in top_albums:\n",
    "                ultimate_album_list.append(album)\n",
    "                \n",
    "    return list(set(ultimate_album_list))\n",
    "                \n",
    "    "
   ]
  },
  {
   "cell_type": "code",
   "execution_count": 34,
   "metadata": {},
   "outputs": [
    {
     "data": {
      "text/plain": [
       "168"
      ]
     },
     "execution_count": 34,
     "metadata": {},
     "output_type": "execute_result"
    }
   ],
   "source": [
    "len(album_with_top_songs(our_data,song_dict,tracks))"
   ]
  },
  {
   "cell_type": "markdown",
   "metadata": {},
   "source": [
    "**songsThatAreOnTopAlbums** - returns a list with the name of only the songs featured on the list of top albums"
   ]
  },
  {
   "cell_type": "code",
   "execution_count": 35,
   "metadata": {},
   "outputs": [],
   "source": [
    "def songs_on_top_albums(top_albums,album_song_file):\n",
    "    set_titles = set(all_titles(top_albums))\n",
    "    song_list = []\n",
    "    for album in album_song_file:\n",
    "        if album['album'] in set_titles:\n",
    "            song_list.extend(album['tracks'])\n",
    "    return song_list   "
   ]
  },
  {
   "cell_type": "code",
   "execution_count": 36,
   "metadata": {},
   "outputs": [
    {
     "data": {
      "text/plain": [
       "6754"
      ]
     },
     "execution_count": 36,
     "metadata": {},
     "output_type": "execute_result"
    }
   ],
   "source": [
    "len(songs_on_top_albums(our_data,tracks))"
   ]
  },
  {
   "cell_type": "markdown",
   "metadata": {},
   "source": [
    "**top10AlbumsByTopSongs** - returns a histogram with the 10 albums that have the most songs that appear in the top songs list. The album names should point to the number of songs that appear on the top 500 songs list."
   ]
  },
  {
   "cell_type": "code",
   "execution_count": 37,
   "metadata": {},
   "outputs": [],
   "source": [
    "def top_10_albums_by_songs(song_dict,album_song_file):\n",
    "    album_popularity_dict = {}\n",
    "    for song in song_dict:\n",
    "        for album in album_song_file:\n",
    "            if song['song'] in album['tracks']:\n",
    "                if album['album'] in album_popularity_dict:\n",
    "                    album_popularity_dict[album['album']] += 1\n",
    "                else:\n",
    "                    album_popularity_dict[album['album']] = 1\n",
    "#     print(album_popularity_dict)\n",
    "    sorted_by_value = sorted(album_popularity_dict.items(), key=lambda kv: kv[1],reverse=True)\n",
    "    num_top_songs_on_album = {a:b for a,b in sorted_by_value[:10]}\n",
    "    return iplot([{'type':'bar','x':list(num_top_songs_on_album.keys()),'y':list(num_top_songs_on_album.values())}])\n",
    "      \n",
    "    "
   ]
  },
  {
   "cell_type": "code",
   "execution_count": 38,
   "metadata": {},
   "outputs": [
    {
     "data": {
      "application/vnd.plotly.v1+json": {
       "config": {
        "linkText": "Export to plot.ly",
        "plotlyServerURL": "https://plot.ly",
        "showLink": false
       },
       "data": [
        {
         "type": "bar",
         "x": [
          "Elvis Presley",
          "The Sun Records Collection",
          "Greatest Hits",
          "The Great Twenty Eight",
          "Portrait of a Legend 1951-1964",
          "Are You Experienced",
          "Bringing It All Back Home",
          "Highway 61 Revisited",
          "Otis Blue: Otis Redding Sings Soul",
          "I Never Loved a Man the Way I Love You"
         ],
         "y": [
          8,
          6,
          6,
          5,
          4,
          4,
          4,
          3,
          3,
          3
         ]
        }
       ],
       "layout": {
        "template": {
         "data": {
          "bar": [
           {
            "error_x": {
             "color": "#2a3f5f"
            },
            "error_y": {
             "color": "#2a3f5f"
            },
            "marker": {
             "line": {
              "color": "#E5ECF6",
              "width": 0.5
             }
            },
            "type": "bar"
           }
          ],
          "barpolar": [
           {
            "marker": {
             "line": {
              "color": "#E5ECF6",
              "width": 0.5
             }
            },
            "type": "barpolar"
           }
          ],
          "carpet": [
           {
            "aaxis": {
             "endlinecolor": "#2a3f5f",
             "gridcolor": "white",
             "linecolor": "white",
             "minorgridcolor": "white",
             "startlinecolor": "#2a3f5f"
            },
            "baxis": {
             "endlinecolor": "#2a3f5f",
             "gridcolor": "white",
             "linecolor": "white",
             "minorgridcolor": "white",
             "startlinecolor": "#2a3f5f"
            },
            "type": "carpet"
           }
          ],
          "choropleth": [
           {
            "colorbar": {
             "outlinewidth": 0,
             "ticks": ""
            },
            "type": "choropleth"
           }
          ],
          "contour": [
           {
            "colorbar": {
             "outlinewidth": 0,
             "ticks": ""
            },
            "colorscale": [
             [
              0,
              "#0d0887"
             ],
             [
              0.1111111111111111,
              "#46039f"
             ],
             [
              0.2222222222222222,
              "#7201a8"
             ],
             [
              0.3333333333333333,
              "#9c179e"
             ],
             [
              0.4444444444444444,
              "#bd3786"
             ],
             [
              0.5555555555555556,
              "#d8576b"
             ],
             [
              0.6666666666666666,
              "#ed7953"
             ],
             [
              0.7777777777777778,
              "#fb9f3a"
             ],
             [
              0.8888888888888888,
              "#fdca26"
             ],
             [
              1,
              "#f0f921"
             ]
            ],
            "type": "contour"
           }
          ],
          "contourcarpet": [
           {
            "colorbar": {
             "outlinewidth": 0,
             "ticks": ""
            },
            "type": "contourcarpet"
           }
          ],
          "heatmap": [
           {
            "colorbar": {
             "outlinewidth": 0,
             "ticks": ""
            },
            "colorscale": [
             [
              0,
              "#0d0887"
             ],
             [
              0.1111111111111111,
              "#46039f"
             ],
             [
              0.2222222222222222,
              "#7201a8"
             ],
             [
              0.3333333333333333,
              "#9c179e"
             ],
             [
              0.4444444444444444,
              "#bd3786"
             ],
             [
              0.5555555555555556,
              "#d8576b"
             ],
             [
              0.6666666666666666,
              "#ed7953"
             ],
             [
              0.7777777777777778,
              "#fb9f3a"
             ],
             [
              0.8888888888888888,
              "#fdca26"
             ],
             [
              1,
              "#f0f921"
             ]
            ],
            "type": "heatmap"
           }
          ],
          "heatmapgl": [
           {
            "colorbar": {
             "outlinewidth": 0,
             "ticks": ""
            },
            "colorscale": [
             [
              0,
              "#0d0887"
             ],
             [
              0.1111111111111111,
              "#46039f"
             ],
             [
              0.2222222222222222,
              "#7201a8"
             ],
             [
              0.3333333333333333,
              "#9c179e"
             ],
             [
              0.4444444444444444,
              "#bd3786"
             ],
             [
              0.5555555555555556,
              "#d8576b"
             ],
             [
              0.6666666666666666,
              "#ed7953"
             ],
             [
              0.7777777777777778,
              "#fb9f3a"
             ],
             [
              0.8888888888888888,
              "#fdca26"
             ],
             [
              1,
              "#f0f921"
             ]
            ],
            "type": "heatmapgl"
           }
          ],
          "histogram": [
           {
            "marker": {
             "colorbar": {
              "outlinewidth": 0,
              "ticks": ""
             }
            },
            "type": "histogram"
           }
          ],
          "histogram2d": [
           {
            "colorbar": {
             "outlinewidth": 0,
             "ticks": ""
            },
            "colorscale": [
             [
              0,
              "#0d0887"
             ],
             [
              0.1111111111111111,
              "#46039f"
             ],
             [
              0.2222222222222222,
              "#7201a8"
             ],
             [
              0.3333333333333333,
              "#9c179e"
             ],
             [
              0.4444444444444444,
              "#bd3786"
             ],
             [
              0.5555555555555556,
              "#d8576b"
             ],
             [
              0.6666666666666666,
              "#ed7953"
             ],
             [
              0.7777777777777778,
              "#fb9f3a"
             ],
             [
              0.8888888888888888,
              "#fdca26"
             ],
             [
              1,
              "#f0f921"
             ]
            ],
            "type": "histogram2d"
           }
          ],
          "histogram2dcontour": [
           {
            "colorbar": {
             "outlinewidth": 0,
             "ticks": ""
            },
            "colorscale": [
             [
              0,
              "#0d0887"
             ],
             [
              0.1111111111111111,
              "#46039f"
             ],
             [
              0.2222222222222222,
              "#7201a8"
             ],
             [
              0.3333333333333333,
              "#9c179e"
             ],
             [
              0.4444444444444444,
              "#bd3786"
             ],
             [
              0.5555555555555556,
              "#d8576b"
             ],
             [
              0.6666666666666666,
              "#ed7953"
             ],
             [
              0.7777777777777778,
              "#fb9f3a"
             ],
             [
              0.8888888888888888,
              "#fdca26"
             ],
             [
              1,
              "#f0f921"
             ]
            ],
            "type": "histogram2dcontour"
           }
          ],
          "mesh3d": [
           {
            "colorbar": {
             "outlinewidth": 0,
             "ticks": ""
            },
            "type": "mesh3d"
           }
          ],
          "parcoords": [
           {
            "line": {
             "colorbar": {
              "outlinewidth": 0,
              "ticks": ""
             }
            },
            "type": "parcoords"
           }
          ],
          "pie": [
           {
            "automargin": true,
            "type": "pie"
           }
          ],
          "scatter": [
           {
            "marker": {
             "colorbar": {
              "outlinewidth": 0,
              "ticks": ""
             }
            },
            "type": "scatter"
           }
          ],
          "scatter3d": [
           {
            "line": {
             "colorbar": {
              "outlinewidth": 0,
              "ticks": ""
             }
            },
            "marker": {
             "colorbar": {
              "outlinewidth": 0,
              "ticks": ""
             }
            },
            "type": "scatter3d"
           }
          ],
          "scattercarpet": [
           {
            "marker": {
             "colorbar": {
              "outlinewidth": 0,
              "ticks": ""
             }
            },
            "type": "scattercarpet"
           }
          ],
          "scattergeo": [
           {
            "marker": {
             "colorbar": {
              "outlinewidth": 0,
              "ticks": ""
             }
            },
            "type": "scattergeo"
           }
          ],
          "scattergl": [
           {
            "marker": {
             "colorbar": {
              "outlinewidth": 0,
              "ticks": ""
             }
            },
            "type": "scattergl"
           }
          ],
          "scattermapbox": [
           {
            "marker": {
             "colorbar": {
              "outlinewidth": 0,
              "ticks": ""
             }
            },
            "type": "scattermapbox"
           }
          ],
          "scatterpolar": [
           {
            "marker": {
             "colorbar": {
              "outlinewidth": 0,
              "ticks": ""
             }
            },
            "type": "scatterpolar"
           }
          ],
          "scatterpolargl": [
           {
            "marker": {
             "colorbar": {
              "outlinewidth": 0,
              "ticks": ""
             }
            },
            "type": "scatterpolargl"
           }
          ],
          "scatterternary": [
           {
            "marker": {
             "colorbar": {
              "outlinewidth": 0,
              "ticks": ""
             }
            },
            "type": "scatterternary"
           }
          ],
          "surface": [
           {
            "colorbar": {
             "outlinewidth": 0,
             "ticks": ""
            },
            "colorscale": [
             [
              0,
              "#0d0887"
             ],
             [
              0.1111111111111111,
              "#46039f"
             ],
             [
              0.2222222222222222,
              "#7201a8"
             ],
             [
              0.3333333333333333,
              "#9c179e"
             ],
             [
              0.4444444444444444,
              "#bd3786"
             ],
             [
              0.5555555555555556,
              "#d8576b"
             ],
             [
              0.6666666666666666,
              "#ed7953"
             ],
             [
              0.7777777777777778,
              "#fb9f3a"
             ],
             [
              0.8888888888888888,
              "#fdca26"
             ],
             [
              1,
              "#f0f921"
             ]
            ],
            "type": "surface"
           }
          ],
          "table": [
           {
            "cells": {
             "fill": {
              "color": "#EBF0F8"
             },
             "line": {
              "color": "white"
             }
            },
            "header": {
             "fill": {
              "color": "#C8D4E3"
             },
             "line": {
              "color": "white"
             }
            },
            "type": "table"
           }
          ]
         },
         "layout": {
          "annotationdefaults": {
           "arrowcolor": "#2a3f5f",
           "arrowhead": 0,
           "arrowwidth": 1
          },
          "coloraxis": {
           "colorbar": {
            "outlinewidth": 0,
            "ticks": ""
           }
          },
          "colorscale": {
           "diverging": [
            [
             0,
             "#8e0152"
            ],
            [
             0.1,
             "#c51b7d"
            ],
            [
             0.2,
             "#de77ae"
            ],
            [
             0.3,
             "#f1b6da"
            ],
            [
             0.4,
             "#fde0ef"
            ],
            [
             0.5,
             "#f7f7f7"
            ],
            [
             0.6,
             "#e6f5d0"
            ],
            [
             0.7,
             "#b8e186"
            ],
            [
             0.8,
             "#7fbc41"
            ],
            [
             0.9,
             "#4d9221"
            ],
            [
             1,
             "#276419"
            ]
           ],
           "sequential": [
            [
             0,
             "#0d0887"
            ],
            [
             0.1111111111111111,
             "#46039f"
            ],
            [
             0.2222222222222222,
             "#7201a8"
            ],
            [
             0.3333333333333333,
             "#9c179e"
            ],
            [
             0.4444444444444444,
             "#bd3786"
            ],
            [
             0.5555555555555556,
             "#d8576b"
            ],
            [
             0.6666666666666666,
             "#ed7953"
            ],
            [
             0.7777777777777778,
             "#fb9f3a"
            ],
            [
             0.8888888888888888,
             "#fdca26"
            ],
            [
             1,
             "#f0f921"
            ]
           ],
           "sequentialminus": [
            [
             0,
             "#0d0887"
            ],
            [
             0.1111111111111111,
             "#46039f"
            ],
            [
             0.2222222222222222,
             "#7201a8"
            ],
            [
             0.3333333333333333,
             "#9c179e"
            ],
            [
             0.4444444444444444,
             "#bd3786"
            ],
            [
             0.5555555555555556,
             "#d8576b"
            ],
            [
             0.6666666666666666,
             "#ed7953"
            ],
            [
             0.7777777777777778,
             "#fb9f3a"
            ],
            [
             0.8888888888888888,
             "#fdca26"
            ],
            [
             1,
             "#f0f921"
            ]
           ]
          },
          "colorway": [
           "#636efa",
           "#EF553B",
           "#00cc96",
           "#ab63fa",
           "#FFA15A",
           "#19d3f3",
           "#FF6692",
           "#B6E880",
           "#FF97FF",
           "#FECB52"
          ],
          "font": {
           "color": "#2a3f5f"
          },
          "geo": {
           "bgcolor": "white",
           "lakecolor": "white",
           "landcolor": "#E5ECF6",
           "showlakes": true,
           "showland": true,
           "subunitcolor": "white"
          },
          "hoverlabel": {
           "align": "left"
          },
          "hovermode": "closest",
          "mapbox": {
           "style": "light"
          },
          "paper_bgcolor": "white",
          "plot_bgcolor": "#E5ECF6",
          "polar": {
           "angularaxis": {
            "gridcolor": "white",
            "linecolor": "white",
            "ticks": ""
           },
           "bgcolor": "#E5ECF6",
           "radialaxis": {
            "gridcolor": "white",
            "linecolor": "white",
            "ticks": ""
           }
          },
          "scene": {
           "xaxis": {
            "backgroundcolor": "#E5ECF6",
            "gridcolor": "white",
            "gridwidth": 2,
            "linecolor": "white",
            "showbackground": true,
            "ticks": "",
            "zerolinecolor": "white"
           },
           "yaxis": {
            "backgroundcolor": "#E5ECF6",
            "gridcolor": "white",
            "gridwidth": 2,
            "linecolor": "white",
            "showbackground": true,
            "ticks": "",
            "zerolinecolor": "white"
           },
           "zaxis": {
            "backgroundcolor": "#E5ECF6",
            "gridcolor": "white",
            "gridwidth": 2,
            "linecolor": "white",
            "showbackground": true,
            "ticks": "",
            "zerolinecolor": "white"
           }
          },
          "shapedefaults": {
           "line": {
            "color": "#2a3f5f"
           }
          },
          "ternary": {
           "aaxis": {
            "gridcolor": "white",
            "linecolor": "white",
            "ticks": ""
           },
           "baxis": {
            "gridcolor": "white",
            "linecolor": "white",
            "ticks": ""
           },
           "bgcolor": "#E5ECF6",
           "caxis": {
            "gridcolor": "white",
            "linecolor": "white",
            "ticks": ""
           }
          },
          "title": {
           "x": 0.05
          },
          "xaxis": {
           "automargin": true,
           "gridcolor": "white",
           "linecolor": "white",
           "ticks": "",
           "title": {
            "standoff": 15
           },
           "zerolinecolor": "white",
           "zerolinewidth": 2
          },
          "yaxis": {
           "automargin": true,
           "gridcolor": "white",
           "linecolor": "white",
           "ticks": "",
           "title": {
            "standoff": 15
           },
           "zerolinecolor": "white",
           "zerolinewidth": 2
          }
         }
        }
       }
      },
      "text/html": [
       "<div>\n",
       "        \n",
       "        \n",
       "            <div id=\"67c6d568-e32a-4cde-86a2-d1cd202aa0b9\" class=\"plotly-graph-div\" style=\"height:525px; width:100%;\"></div>\n",
       "            <script type=\"text/javascript\">\n",
       "                require([\"plotly\"], function(Plotly) {\n",
       "                    window.PLOTLYENV=window.PLOTLYENV || {};\n",
       "                    \n",
       "                if (document.getElementById(\"67c6d568-e32a-4cde-86a2-d1cd202aa0b9\")) {\n",
       "                    Plotly.newPlot(\n",
       "                        '67c6d568-e32a-4cde-86a2-d1cd202aa0b9',\n",
       "                        [{\"type\": \"bar\", \"x\": [\"Elvis Presley\", \"The Sun Records Collection\", \"Greatest Hits\", \"The Great Twenty Eight\", \"Portrait of a Legend 1951-1964\", \"Are You Experienced\", \"Bringing It All Back Home\", \"Highway 61 Revisited\", \"Otis Blue: Otis Redding Sings Soul\", \"I Never Loved a Man the Way I Love You\"], \"y\": [8, 6, 6, 5, 4, 4, 4, 3, 3, 3]}],\n",
       "                        {\"template\": {\"data\": {\"bar\": [{\"error_x\": {\"color\": \"#2a3f5f\"}, \"error_y\": {\"color\": \"#2a3f5f\"}, \"marker\": {\"line\": {\"color\": \"#E5ECF6\", \"width\": 0.5}}, \"type\": \"bar\"}], \"barpolar\": [{\"marker\": {\"line\": {\"color\": \"#E5ECF6\", \"width\": 0.5}}, \"type\": \"barpolar\"}], \"carpet\": [{\"aaxis\": {\"endlinecolor\": \"#2a3f5f\", \"gridcolor\": \"white\", \"linecolor\": \"white\", \"minorgridcolor\": \"white\", \"startlinecolor\": \"#2a3f5f\"}, \"baxis\": {\"endlinecolor\": \"#2a3f5f\", \"gridcolor\": \"white\", \"linecolor\": \"white\", \"minorgridcolor\": \"white\", \"startlinecolor\": \"#2a3f5f\"}, \"type\": \"carpet\"}], \"choropleth\": [{\"colorbar\": {\"outlinewidth\": 0, \"ticks\": \"\"}, \"type\": \"choropleth\"}], \"contour\": [{\"colorbar\": {\"outlinewidth\": 0, \"ticks\": \"\"}, \"colorscale\": [[0.0, \"#0d0887\"], [0.1111111111111111, \"#46039f\"], [0.2222222222222222, \"#7201a8\"], [0.3333333333333333, \"#9c179e\"], [0.4444444444444444, \"#bd3786\"], [0.5555555555555556, \"#d8576b\"], [0.6666666666666666, \"#ed7953\"], [0.7777777777777778, \"#fb9f3a\"], [0.8888888888888888, \"#fdca26\"], [1.0, \"#f0f921\"]], \"type\": \"contour\"}], \"contourcarpet\": [{\"colorbar\": {\"outlinewidth\": 0, \"ticks\": \"\"}, \"type\": \"contourcarpet\"}], \"heatmap\": [{\"colorbar\": {\"outlinewidth\": 0, \"ticks\": \"\"}, \"colorscale\": [[0.0, \"#0d0887\"], [0.1111111111111111, \"#46039f\"], [0.2222222222222222, \"#7201a8\"], [0.3333333333333333, \"#9c179e\"], [0.4444444444444444, \"#bd3786\"], [0.5555555555555556, \"#d8576b\"], [0.6666666666666666, \"#ed7953\"], [0.7777777777777778, \"#fb9f3a\"], [0.8888888888888888, \"#fdca26\"], [1.0, \"#f0f921\"]], \"type\": \"heatmap\"}], \"heatmapgl\": [{\"colorbar\": {\"outlinewidth\": 0, \"ticks\": \"\"}, \"colorscale\": [[0.0, \"#0d0887\"], [0.1111111111111111, \"#46039f\"], [0.2222222222222222, \"#7201a8\"], [0.3333333333333333, \"#9c179e\"], [0.4444444444444444, \"#bd3786\"], [0.5555555555555556, \"#d8576b\"], [0.6666666666666666, \"#ed7953\"], [0.7777777777777778, \"#fb9f3a\"], [0.8888888888888888, \"#fdca26\"], [1.0, \"#f0f921\"]], \"type\": \"heatmapgl\"}], \"histogram\": [{\"marker\": {\"colorbar\": {\"outlinewidth\": 0, \"ticks\": \"\"}}, \"type\": \"histogram\"}], \"histogram2d\": [{\"colorbar\": {\"outlinewidth\": 0, \"ticks\": \"\"}, \"colorscale\": [[0.0, \"#0d0887\"], [0.1111111111111111, \"#46039f\"], [0.2222222222222222, \"#7201a8\"], [0.3333333333333333, \"#9c179e\"], [0.4444444444444444, \"#bd3786\"], [0.5555555555555556, \"#d8576b\"], [0.6666666666666666, \"#ed7953\"], [0.7777777777777778, \"#fb9f3a\"], [0.8888888888888888, \"#fdca26\"], [1.0, \"#f0f921\"]], \"type\": \"histogram2d\"}], \"histogram2dcontour\": [{\"colorbar\": {\"outlinewidth\": 0, \"ticks\": \"\"}, \"colorscale\": [[0.0, \"#0d0887\"], [0.1111111111111111, \"#46039f\"], [0.2222222222222222, \"#7201a8\"], [0.3333333333333333, \"#9c179e\"], [0.4444444444444444, \"#bd3786\"], [0.5555555555555556, \"#d8576b\"], [0.6666666666666666, \"#ed7953\"], [0.7777777777777778, \"#fb9f3a\"], [0.8888888888888888, \"#fdca26\"], [1.0, \"#f0f921\"]], \"type\": \"histogram2dcontour\"}], \"mesh3d\": [{\"colorbar\": {\"outlinewidth\": 0, \"ticks\": \"\"}, \"type\": \"mesh3d\"}], \"parcoords\": [{\"line\": {\"colorbar\": {\"outlinewidth\": 0, \"ticks\": \"\"}}, \"type\": \"parcoords\"}], \"pie\": [{\"automargin\": true, \"type\": \"pie\"}], \"scatter\": [{\"marker\": {\"colorbar\": {\"outlinewidth\": 0, \"ticks\": \"\"}}, \"type\": \"scatter\"}], \"scatter3d\": [{\"line\": {\"colorbar\": {\"outlinewidth\": 0, \"ticks\": \"\"}}, \"marker\": {\"colorbar\": {\"outlinewidth\": 0, \"ticks\": \"\"}}, \"type\": \"scatter3d\"}], \"scattercarpet\": [{\"marker\": {\"colorbar\": {\"outlinewidth\": 0, \"ticks\": \"\"}}, \"type\": \"scattercarpet\"}], \"scattergeo\": [{\"marker\": {\"colorbar\": {\"outlinewidth\": 0, \"ticks\": \"\"}}, \"type\": \"scattergeo\"}], \"scattergl\": [{\"marker\": {\"colorbar\": {\"outlinewidth\": 0, \"ticks\": \"\"}}, \"type\": \"scattergl\"}], \"scattermapbox\": [{\"marker\": {\"colorbar\": {\"outlinewidth\": 0, \"ticks\": \"\"}}, \"type\": \"scattermapbox\"}], \"scatterpolar\": [{\"marker\": {\"colorbar\": {\"outlinewidth\": 0, \"ticks\": \"\"}}, \"type\": \"scatterpolar\"}], \"scatterpolargl\": [{\"marker\": {\"colorbar\": {\"outlinewidth\": 0, \"ticks\": \"\"}}, \"type\": \"scatterpolargl\"}], \"scatterternary\": [{\"marker\": {\"colorbar\": {\"outlinewidth\": 0, \"ticks\": \"\"}}, \"type\": \"scatterternary\"}], \"surface\": [{\"colorbar\": {\"outlinewidth\": 0, \"ticks\": \"\"}, \"colorscale\": [[0.0, \"#0d0887\"], [0.1111111111111111, \"#46039f\"], [0.2222222222222222, \"#7201a8\"], [0.3333333333333333, \"#9c179e\"], [0.4444444444444444, \"#bd3786\"], [0.5555555555555556, \"#d8576b\"], [0.6666666666666666, \"#ed7953\"], [0.7777777777777778, \"#fb9f3a\"], [0.8888888888888888, \"#fdca26\"], [1.0, \"#f0f921\"]], \"type\": \"surface\"}], \"table\": [{\"cells\": {\"fill\": {\"color\": \"#EBF0F8\"}, \"line\": {\"color\": \"white\"}}, \"header\": {\"fill\": {\"color\": \"#C8D4E3\"}, \"line\": {\"color\": \"white\"}}, \"type\": \"table\"}]}, \"layout\": {\"annotationdefaults\": {\"arrowcolor\": \"#2a3f5f\", \"arrowhead\": 0, \"arrowwidth\": 1}, \"coloraxis\": {\"colorbar\": {\"outlinewidth\": 0, \"ticks\": \"\"}}, \"colorscale\": {\"diverging\": [[0, \"#8e0152\"], [0.1, \"#c51b7d\"], [0.2, \"#de77ae\"], [0.3, \"#f1b6da\"], [0.4, \"#fde0ef\"], [0.5, \"#f7f7f7\"], [0.6, \"#e6f5d0\"], [0.7, \"#b8e186\"], [0.8, \"#7fbc41\"], [0.9, \"#4d9221\"], [1, \"#276419\"]], \"sequential\": [[0.0, \"#0d0887\"], [0.1111111111111111, \"#46039f\"], [0.2222222222222222, \"#7201a8\"], [0.3333333333333333, \"#9c179e\"], [0.4444444444444444, \"#bd3786\"], [0.5555555555555556, \"#d8576b\"], [0.6666666666666666, \"#ed7953\"], [0.7777777777777778, \"#fb9f3a\"], [0.8888888888888888, \"#fdca26\"], [1.0, \"#f0f921\"]], \"sequentialminus\": [[0.0, \"#0d0887\"], [0.1111111111111111, \"#46039f\"], [0.2222222222222222, \"#7201a8\"], [0.3333333333333333, \"#9c179e\"], [0.4444444444444444, \"#bd3786\"], [0.5555555555555556, \"#d8576b\"], [0.6666666666666666, \"#ed7953\"], [0.7777777777777778, \"#fb9f3a\"], [0.8888888888888888, \"#fdca26\"], [1.0, \"#f0f921\"]]}, \"colorway\": [\"#636efa\", \"#EF553B\", \"#00cc96\", \"#ab63fa\", \"#FFA15A\", \"#19d3f3\", \"#FF6692\", \"#B6E880\", \"#FF97FF\", \"#FECB52\"], \"font\": {\"color\": \"#2a3f5f\"}, \"geo\": {\"bgcolor\": \"white\", \"lakecolor\": \"white\", \"landcolor\": \"#E5ECF6\", \"showlakes\": true, \"showland\": true, \"subunitcolor\": \"white\"}, \"hoverlabel\": {\"align\": \"left\"}, \"hovermode\": \"closest\", \"mapbox\": {\"style\": \"light\"}, \"paper_bgcolor\": \"white\", \"plot_bgcolor\": \"#E5ECF6\", \"polar\": {\"angularaxis\": {\"gridcolor\": \"white\", \"linecolor\": \"white\", \"ticks\": \"\"}, \"bgcolor\": \"#E5ECF6\", \"radialaxis\": {\"gridcolor\": \"white\", \"linecolor\": \"white\", \"ticks\": \"\"}}, \"scene\": {\"xaxis\": {\"backgroundcolor\": \"#E5ECF6\", \"gridcolor\": \"white\", \"gridwidth\": 2, \"linecolor\": \"white\", \"showbackground\": true, \"ticks\": \"\", \"zerolinecolor\": \"white\"}, \"yaxis\": {\"backgroundcolor\": \"#E5ECF6\", \"gridcolor\": \"white\", \"gridwidth\": 2, \"linecolor\": \"white\", \"showbackground\": true, \"ticks\": \"\", \"zerolinecolor\": \"white\"}, \"zaxis\": {\"backgroundcolor\": \"#E5ECF6\", \"gridcolor\": \"white\", \"gridwidth\": 2, \"linecolor\": \"white\", \"showbackground\": true, \"ticks\": \"\", \"zerolinecolor\": \"white\"}}, \"shapedefaults\": {\"line\": {\"color\": \"#2a3f5f\"}}, \"ternary\": {\"aaxis\": {\"gridcolor\": \"white\", \"linecolor\": \"white\", \"ticks\": \"\"}, \"baxis\": {\"gridcolor\": \"white\", \"linecolor\": \"white\", \"ticks\": \"\"}, \"bgcolor\": \"#E5ECF6\", \"caxis\": {\"gridcolor\": \"white\", \"linecolor\": \"white\", \"ticks\": \"\"}}, \"title\": {\"x\": 0.05}, \"xaxis\": {\"automargin\": true, \"gridcolor\": \"white\", \"linecolor\": \"white\", \"ticks\": \"\", \"title\": {\"standoff\": 15}, \"zerolinecolor\": \"white\", \"zerolinewidth\": 2}, \"yaxis\": {\"automargin\": true, \"gridcolor\": \"white\", \"linecolor\": \"white\", \"ticks\": \"\", \"title\": {\"standoff\": 15}, \"zerolinecolor\": \"white\", \"zerolinewidth\": 2}}}},\n",
       "                        {\"responsive\": true}\n",
       "                    ).then(function(){\n",
       "                            \n",
       "var gd = document.getElementById('67c6d568-e32a-4cde-86a2-d1cd202aa0b9');\n",
       "var x = new MutationObserver(function (mutations, observer) {{\n",
       "        var display = window.getComputedStyle(gd).display;\n",
       "        if (!display || display === 'none') {{\n",
       "            console.log([gd, 'removed!']);\n",
       "            Plotly.purge(gd);\n",
       "            observer.disconnect();\n",
       "        }}\n",
       "}});\n",
       "\n",
       "// Listen for the removal of the full notebook cells\n",
       "var notebookContainer = gd.closest('#notebook-container');\n",
       "if (notebookContainer) {{\n",
       "    x.observe(notebookContainer, {childList: true});\n",
       "}}\n",
       "\n",
       "// Listen for the clearing of the current output cell\n",
       "var outputEl = gd.closest('.output');\n",
       "if (outputEl) {{\n",
       "    x.observe(outputEl, {childList: true});\n",
       "}}\n",
       "\n",
       "                        })\n",
       "                };\n",
       "                });\n",
       "            </script>\n",
       "        </div>"
      ]
     },
     "metadata": {},
     "output_type": "display_data"
    }
   ],
   "source": [
    "top_10_albums_by_songs(song_dict,tracks)"
   ]
  },
  {
   "cell_type": "markdown",
   "metadata": {},
   "source": [
    "**topOverallArtist** - Artist featured with the most songs and albums on the two lists. This means that if Brittany Spears had 3 of her albums featured on the top albums listed and 10 of her songs featured on the top songs, she would have a total of 13. The artist with the highest aggregate score would be the top overall artist."
   ]
  },
  {
   "cell_type": "code",
   "execution_count": 39,
   "metadata": {},
   "outputs": [],
   "source": [
    "from collections import Counter\n",
    "def top_overall_artist(album_data,song_data):\n",
    "    artist_album_count = Counter(all_artists(album_data))\n",
    "    artist_song_count = Counter(all_artists(song_data))\n",
    "    for artist in artist_album_count:\n",
    "        if artist in artist_song_count:\n",
    "            artist_song_count[artist] += artist_album_count[artist]\n",
    "        else:\n",
    "            artist_song_count[artist] = artist_album_count[artist]\n",
    "            \n",
    "    maximum_agg = max(artist_song_count.values())\n",
    "    lst = []\n",
    "    for key, value in artist_song_count.items():\n",
    "        if value == maximum_agg:\n",
    "            lst.append(key)\n",
    "    return lst"
   ]
  },
  {
   "cell_type": "code",
   "execution_count": 40,
   "metadata": {},
   "outputs": [
    {
     "data": {
      "text/plain": [
       "['The Beatles']"
      ]
     },
     "execution_count": 40,
     "metadata": {},
     "output_type": "execute_result"
    }
   ],
   "source": [
    "top_overall_artist(our_data,song_dict)"
   ]
  }
 ],
 "metadata": {
  "kernelspec": {
   "display_name": "Python 3",
   "language": "python",
   "name": "python3"
  },
  "language_info": {
   "codemirror_mode": {
    "name": "ipython",
    "version": 3
   },
   "file_extension": ".py",
   "mimetype": "text/x-python",
   "name": "python",
   "nbconvert_exporter": "python",
   "pygments_lexer": "ipython3",
   "version": "3.7.6"
  }
 },
 "nbformat": 4,
 "nbformat_minor": 2
}
