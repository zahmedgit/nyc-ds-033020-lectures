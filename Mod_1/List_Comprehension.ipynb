{
 "cells": [
  {
   "cell_type": "code",
   "execution_count": 1,
   "metadata": {},
   "outputs": [
    {
     "data": {
      "text/plain": [
       "[2, 4, 6, 8, 10]"
      ]
     },
     "execution_count": 1,
     "metadata": {},
     "output_type": "execute_result"
    }
   ],
   "source": [
    "def doubled(nums):\n",
    "    return [num*2 for num in nums]\n",
    "    \"\"\"Doubled:\n",
    "\n",
    "    Given a list of numbers, write a list comprehension that produces a list of each number doubled.\n",
    "\n",
    "        >>> doubled([1, 2, 3, 4, 5])\n",
    "        [2, 4, 6, 8, 10]\n",
    "\n",
    "        >>> doubled([-2, 2, -10, 10])\n",
    "        [-4, 4, -20, 20]\n",
    "    \"\"\"\n",
    "doubled([1, 2, 3, 4, 5])"
   ]
  },
  {
   "cell_type": "code",
   "execution_count": 2,
   "metadata": {},
   "outputs": [
    {
     "data": {
      "text/plain": [
       "[1, 4, 9, 16, 25]"
      ]
     },
     "execution_count": 2,
     "metadata": {},
     "output_type": "execute_result"
    }
   ],
   "source": [
    "def squared(nums):\n",
    "    return [num*num for num in nums]\n",
    "    \"\"\"Squared:\n",
    "\n",
    "    Given a list of numbers, write a list comprehension that produces a list of the squares of each number.\n",
    "\n",
    "        >>> squared([1, 2, 3, 4, 5])\n",
    "        [1, 4, 9, 16, 25]\n",
    "\n",
    "        >>> squared([-2, 2, -10, 10])\n",
    "        [4, 4, 100, 100]\n",
    "    \"\"\"\n",
    "squared([1, 2, 3, 4, 5])"
   ]
  },
  {
   "cell_type": "code",
   "execution_count": 4,
   "metadata": {},
   "outputs": [
    {
     "data": {
      "text/plain": [
       "[]"
      ]
     },
     "execution_count": 4,
     "metadata": {},
     "output_type": "execute_result"
    }
   ],
   "source": [
    "def evens(nums):\n",
    "    return [num for num in nums if num%2==0]\n",
    "    \"\"\"Evens:\n",
    "\n",
    "    Given a list of numbers, write a list comprehension that produces a list of only the even numbers in that list.\n",
    "\n",
    "        >>> evens([1, 2, 3, 4, 5])\n",
    "        [2, 4]\n",
    "\n",
    "        >>> evens([1, 3, 5])\n",
    "        []\n",
    "\n",
    "        >>> evens([-2, -4, -7])\n",
    "        [-2, -4]\n",
    "    \"\"\"\n",
    "evens([1, 2, 3, 4, 5])\n",
    "evens([1, 3, 5])"
   ]
  },
  {
   "cell_type": "code",
   "execution_count": 6,
   "metadata": {},
   "outputs": [
    {
     "data": {
      "text/plain": [
       "[]"
      ]
     },
     "execution_count": 6,
     "metadata": {},
     "output_type": "execute_result"
    }
   ],
   "source": [
    "def odds(nums):\n",
    "    return [num for num in nums if num%2==1]\n",
    "    \"\"\"Odds:\n",
    "\n",
    "    Given a list of numbers, write a list comprehension that produces a list of only the odd numbers in that list.\n",
    "\n",
    "        >>> odds([1, 2, 3, 4, 5])\n",
    "        [1, 3, 5]\n",
    "\n",
    "        >>> odds([2, 4, 6])\n",
    "        []\n",
    "\n",
    "        >>> odds([-2, -4, -7])\n",
    "        [-7]\n",
    "    \"\"\"\n",
    "odds([1, 2, 3, 4, 5])\n",
    "odds([2, 4, 6])"
   ]
  },
  {
   "cell_type": "code",
   "execution_count": 7,
   "metadata": {},
   "outputs": [
    {
     "data": {
      "text/plain": [
       "[1, 2]"
      ]
     },
     "execution_count": 7,
     "metadata": {},
     "output_type": "execute_result"
    }
   ],
   "source": [
    "def positives(nums):\n",
    "    return [num for num in nums if num>0]\n",
    "    \"\"\"Positives:\n",
    "\n",
    "    Given a list of numbers, write a list comprehension that produces a list of only the positive numbers in that list.\n",
    "\n",
    "        >>> positives([-2, -1, 0, 1, 2])\n",
    "        [1, 2]\n",
    "    \"\"\"\n",
    "positives([-2, -1, 0, 1, 2])"
   ]
  },
  {
   "cell_type": "code",
   "execution_count": 8,
   "metadata": {},
   "outputs": [
    {
     "data": {
      "text/plain": [
       "[5, 5, 3, 5, 4, 4, 3]"
      ]
     },
     "execution_count": 8,
     "metadata": {},
     "output_type": "execute_result"
    }
   ],
   "source": [
    "def words_not_the(sentence):\n",
    "    return [len(word) for word in sentence.split() if word != 'the']\n",
    "    \"\"\"Words not 'the'\n",
    "\n",
    "    Given a sentence, produce a list of the lengths of each word in the sentence, but only if the word is not 'the'.\n",
    "\n",
    "        >>> words_not_the('the quick brown fox jumps over the lazy dog')\n",
    "        [5, 5, 3, 5, 4, 4, 3]\n",
    "    \"\"\"\n",
    "words_not_the('the quick brown fox jumps over the lazy dog')"
   ]
  },
  {
   "cell_type": "code",
   "execution_count": null,
   "metadata": {},
   "outputs": [],
   "source": []
  }
 ],
 "metadata": {
  "kernelspec": {
   "display_name": "Python 3",
   "language": "python",
   "name": "python3"
  },
  "language_info": {
   "codemirror_mode": {
    "name": "ipython",
    "version": 3
   },
   "file_extension": ".py",
   "mimetype": "text/x-python",
   "name": "python",
   "nbconvert_exporter": "python",
   "pygments_lexer": "ipython3",
   "version": "3.7.6"
  }
 },
 "nbformat": 4,
 "nbformat_minor": 4
}
