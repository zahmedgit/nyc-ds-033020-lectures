{
 "cells": [
  {
   "cell_type": "markdown",
   "metadata": {},
   "source": [
    "# Yelp API - Lab\n",
    "\n",
    "\n",
    "\n",
    "## Introduction \n",
    "\n",
    "Now that we've seen how the Yelp API works, it's time to put those API and Pandas skills to work in order to do some basic business analysis! Taking things a step further, you'll also independently explore how to perform pagination in order to retrieve a full results set from the Yelp API!\n",
    "\n",
    "## Objectives\n",
    "\n",
    "You will be able to:\n",
    "* Create HTTP requests to get data from Yelp API\n",
    "* Parse HTTP responses and save the information in a csv\n",
    "* Perform pagination to retrieve troves of data!\n",
    "* Write Pandas code to answer questions about your data "
   ]
  },
  {
   "cell_type": "markdown",
   "metadata": {},
   "source": [
    "## Problem Introduction\n",
    "\n",
    "For this lab you will analyze the yelp data for a group of businesses to learn more about an industry. You will choose a type of business (Italian Restuarants, Nail Salons, Crossfit gyms) and a location to analyze. Then you will get data from the Yelp API, store that data in a SQL Database on AWS, and write queries to answer questions about the data. \n",
    "\n",
    "\n",
    "### Process:\n",
    "\n",
    "1. Read through the data questions and the API documentation to determine which pieces of information you need to pull from the Yelp API.\n",
    "\n",
    "2. Plan out what . One for the businesses and one for the reviews.\n",
    "\n",
    "3. Create code to:\n",
    "  - Perform a search of businesses using pagination\n",
    "  - Parse the API response for specific data points\n",
    "  - Save the data you pull as a csv\n",
    "\n",
    "4. Use the functions above in a loop that will paginate over the results to retrieve all of the results. \n",
    "\n",
    "5. Create functions to:\n",
    "  - Retrieve the reviews data of one business\n",
    "  - Parse the reviews response for specific review data\n",
    "  - Save the data you pull as a csv\n",
    "\n",
    "6. Take all of the business IDs from your business search, and  using the 3 Python functions you've created, run your business IDs through a loop to get the reviews for each business and save them in a csv.\n",
    "\n",
    "7. Write Pandas code to answer the following questions about your data.\n",
    "\n",
    "\n",
    "Bonus Steps:  \n",
    "- Place your helper functions in a package so that your final notebook only has the major steps listed.\n",
    "- Rewrite your business search functions to be able take an argument for the type of business you are searching for.\n",
    "- Add another group of businesses to your files.\n"
   ]
  },
  {
   "cell_type": "markdown",
   "metadata": {},
   "source": [
    " \n",
    "## Data Questions:\n",
    "\n",
    "- Which are the 5 most reviewed businesses?\n",
    "- What is the highest rating recieved in your data set and how many businesses have that rating?\n",
    "- What percentage of businesses have a rating greater than or  4.5?\n",
    "- What percentage of businesses have a rating less than 3?\n",
    "- What is the average rating of restaurants that have a price label of one dollar sign? Two dollar signs? Three dollar signs? \n",
    "- Return the text of the reviews for the most reviewed restaurant. \n",
    "- Return the name of the business with the most recent review. \n",
    "- Find the highest rated business and return text of the most recent review. If multiple business have the same rating, select the restaurant with the most reviews. \n",
    "- Find the lowest rated business and return text of the most recent review.  If multiple business have the same rating, select the restaurant with the least reviews. \n"
   ]
  },
  {
   "cell_type": "code",
   "execution_count": null,
   "metadata": {},
   "outputs": [],
   "source": [
    "#Movie Theaters, Brooklyn\n",
    "#business info: biz_id,name,rating,review_count,price,\n",
    "#reviews"
   ]
  },
  {
   "cell_type": "markdown",
   "metadata": {},
   "source": [
    "## Part 1 - Understanding your data and question\n",
    "\n",
    "Lok at the question and determine what data you will need to store in your database in order to answer the questions. Start to think about what tables will you want to create and what columns will you ahve for those tables. \n",
    "\n",
    "Look at the API documentation, and determine what fields of the API response you will match up with the columns you want in your Pandas Dataframes. \n",
    "\n",
    "\n",
    "https://www.yelp.com/developers/documentation/v3/get_started"
   ]
  },
  {
   "cell_type": "markdown",
   "metadata": {},
   "source": [
    "## Part 2 - Create ETL pipeline for the business data from the API\n",
    "\n",
    "Now that you know what data you need from the API, you want to write code that will execute a api call, parse those results and then insert the results into the DB.  \n",
    "\n",
    "It is helpful to break this up into three different functions (*api call, parse results, and insert into DB*) and then you can write a function/script that pull the other three functions together. \n",
    "\n",
    "Let's first do this for the Business endpoint."
   ]
  },
  {
   "cell_type": "code",
   "execution_count": 36,
   "metadata": {},
   "outputs": [],
   "source": [
    "import requests\n",
    "import json\n",
    "import numpy as np\n",
    "import pandas as pd"
   ]
  },
  {
   "cell_type": "code",
   "execution_count": 1,
   "metadata": {},
   "outputs": [],
   "source": [
    "# Write a function to make a call to the yelp API"
   ]
  },
  {
   "cell_type": "code",
   "execution_count": 8,
   "metadata": {},
   "outputs": [],
   "source": [
    "from keys import client_id,api_key\n",
    "url =  'https://api.yelp.com/v3/businesses/search'\n",
    "term='Movie Theaters'\n",
    "location='Brooklyn'\n",
    "\n",
    "url_params={\n",
    "    'term': term.replace(' ','+'),\n",
    "    'location': location.replace(' ','+'),\n",
    "    'limit': 50\n",
    "}\n",
    "\n"
   ]
  },
  {
   "cell_type": "code",
   "execution_count": 13,
   "metadata": {},
   "outputs": [],
   "source": [
    "def yelp_call(url_params, api_key):\n",
    "    # your code to make the yelp call\n",
    "    headers = {\n",
    "        'Authorization': 'Bearer {}'.format(api_key),\n",
    "    }\n",
    "    data= requests.get(url, headers=headers, params=url_params)\n",
    "    return data"
   ]
  },
  {
   "cell_type": "code",
   "execution_count": 14,
   "metadata": {},
   "outputs": [
    {
     "data": {
      "text/plain": [
       "200"
      ]
     },
     "execution_count": 14,
     "metadata": {},
     "output_type": "execute_result"
    }
   ],
   "source": [
    "response = yelp_call(url_params, api_key)\n",
    "response.status_code"
   ]
  },
  {
   "cell_type": "code",
   "execution_count": 47,
   "metadata": {},
   "outputs": [
    {
     "data": {
      "text/plain": [
       "dict_keys(['businesses', 'total', 'region'])"
      ]
     },
     "execution_count": 47,
     "metadata": {},
     "output_type": "execute_result"
    }
   ],
   "source": [
    "response.json().keys()"
   ]
  },
  {
   "cell_type": "code",
   "execution_count": 18,
   "metadata": {},
   "outputs": [
    {
     "data": {
      "text/plain": [
       "537"
      ]
     },
     "execution_count": 18,
     "metadata": {},
     "output_type": "execute_result"
    }
   ],
   "source": [
    "response.json()['total']"
   ]
  },
  {
   "cell_type": "code",
   "execution_count": 3,
   "metadata": {},
   "outputs": [],
   "source": [
    "# write a function to parse the API response \n",
    "# so that you can easily insert the data in to the DB\n"
   ]
  },
  {
   "cell_type": "code",
   "execution_count": 48,
   "metadata": {},
   "outputs": [
    {
     "data": {
      "text/plain": [
       "dict_keys(['id', 'alias', 'name', 'image_url', 'is_closed', 'url', 'review_count', 'categories', 'rating', 'coordinates', 'transactions', 'location', 'phone', 'display_phone', 'distance'])"
      ]
     },
     "execution_count": 48,
     "metadata": {},
     "output_type": "execute_result"
    }
   ],
   "source": [
    "data=response.json()['businesses']\n",
    "data[0].keys()"
   ]
  },
  {
   "cell_type": "code",
   "execution_count": 34,
   "metadata": {},
   "outputs": [],
   "source": [
    "def parse_results(results):\n",
    "    # your code to parse the result to make them easier to insert into the DB\n",
    "    # create a container to hold our parsed data\n",
    "    parsed_data = []\n",
    "    businesses = results.json()['businesses']\n",
    "    # loop through our business and parse each individual business\n",
    "    for business in businesses:\n",
    "        #print(business['name'])\n",
    "        if 'price' in list(business.keys()):\n",
    "            biz_list = [\n",
    "                business['id'],\n",
    "                business['name'], \n",
    "                business['review_count'], \n",
    "                business['rating'],\n",
    "                business['price']\n",
    "            ]\n",
    "        else:\n",
    "            biz_list = [\n",
    "                business['id'],\n",
    "                business['name'], \n",
    "                business['review_count'], \n",
    "                business['rating'],\n",
    "                np.nan\n",
    "            ]\n",
    "    # in the loop, add each individual parsed  business to our data container\n",
    "        parsed_data.append(biz_list)\n",
    "    return parsed_data"
   ]
  },
  {
   "cell_type": "code",
   "execution_count": 38,
   "metadata": {},
   "outputs": [],
   "source": [
    "parsed_data=parse_results(response)"
   ]
  },
  {
   "cell_type": "code",
   "execution_count": 49,
   "metadata": {
    "collapsed": true
   },
   "outputs": [
    {
     "data": {
      "text/plain": [
       "[['M2denMcXzZPJm9RkYhStkQ',\n",
       "  'Regal UA Sheepshead Bay IMAX & RPX',\n",
       "  335,\n",
       "  2.5,\n",
       "  nan],\n",
       " ['c1onPljpeivCbdgYisVWNw', 'Nitehawk Cinema', 693, 4.5, nan],\n",
       " ['-m6RCdKiS5fC0wkZJHe2xg', 'Alpine Theatre', 282, 2.5, nan],\n",
       " ['H38pIONXN5yM4FMNtCMZqw', 'Nitehawk Cinema - Prospect Park', 167, 3.5, '$$'],\n",
       " ['_GH68RRjkwNbwT6LWIgm9Q', 'Williamsburg Cinemas', 334, 3.0, nan],\n",
       " ['-KrKo3-o8wAN5OQn1z_Tow', 'Cobble Hill Cinemas', 318, 3.5, nan],\n",
       " ['0AKsd2lA76JIvSc-1rns1g', 'Regal UA Court Street & RPX', 433, 2.0, nan],\n",
       " ['jCsNg4IjZz7AOFBkNR-jxw', 'Syndicated Bar Theater Kitchen', 207, 4.0, '$$'],\n",
       " ['hKP_L68yaJw6UOMMpIegDw', 'Cinemart Cinemas', 201, 4.0, nan],\n",
       " ['8hCw819wU7LkMG-tJHcpZA', 'AMC Fresh Meadows 7', 612, 4.0, nan],\n",
       " ['9bm1OLJZ_xkGUrOVQzNEig', 'BAM Rose Cinemas', 260, 4.0, '$$'],\n",
       " ['cDGEgWAA2RRm1H_27e4-dg', 'Kerasotes ShowPlace 14', 325, 4.5, nan],\n",
       " ['LKiCVg9QCXWJwZa1_Q63dw', 'Regal Battery Park', 512, 4.0, nan],\n",
       " ['vieBJCxpsKQauyTdkYQm5A', 'Regal UA Midway', 218, 3.0, nan],\n",
       " ['XjnUeIR7cD0RdB3BKEgH_g', 'Regal Atlas Park', 181, 3.0, nan],\n",
       " ['w0dHYiT8t8vjulgEWgbAOw', 'Kent Theatre', 85, 2.5, nan],\n",
       " ['Zy35lp_Sz8htqgPAFftlqw', 'Regal UA Kaufman Astoria & RPX', 379, 3.5, nan],\n",
       " ['97ss3gK06QWQWBAy2bcjwg', 'Kew Gardens Cinema', 226, 4.0, nan],\n",
       " ['Ndem0ydCV03xpoMduv8tkQ', 'IPIC New York City', 605, 3.5, nan],\n",
       " ['cASJUJfNKam_PGM0ZJ0S9Q', 'AMC Ridgefield Park 12', 307, 3.5, nan],\n",
       " ['n_u1i-Y4gjqJYIDlhdAyrA', 'AMC Village 7', 131, 4.0, nan],\n",
       " ['7WcAE3pwnB9XOVKlG2CGRw', 'Regal Westbury IMAX & RPX', 166, 4.0, nan],\n",
       " ['RpBo2Vkb9IVLlNnsQqBUNg', 'AMC 84th Street 6', 360, 4.0, nan],\n",
       " ['4jDvCGK5CyYizKGs6bfsyw', 'Cinépolis Luxury Cinemas', 307, 3.5, nan],\n",
       " ['wViL44th02eQxqHx2kFCOA', 'The Artful Bachelorette', 83, 5.0, nan],\n",
       " ['NMm7eeQoXwzGfAGFuCAteA', 'AMC Lincoln Square 13', 781, 3.5, nan],\n",
       " ['NqdaBYSFoKhzj2686xQLyA', 'Fair Theatre', 8, 4.0, nan],\n",
       " ['eBmiF0-ggRPNG6TbjIH6DQ', 'Hoboken Cinemas', 95, 3.0, nan],\n",
       " ['_IxTTK9xDFuhljuFzkHd9w', 'AMC Roosevelt Field 8', 145, 3.5, nan],\n",
       " ['KkhpageuuLY53qdyicOL1g', 'Regal Union Square ScreenX & 4DX', 654, 2.5, nan],\n",
       " ['VDCVgrnkN4fYpoTSXHKGtA', 'AMC Dine-In Menlo Park 12', 599, 3.0, nan],\n",
       " ['W8RT3tQO7Pr_jp3bM7YLKw', 'AMC Bay Terrace 6', 85, 4.0, nan],\n",
       " ['2mQU3boAk0LTTFII67glnQ', 'Rooftop Films', 18, 4.5, nan],\n",
       " ['woJb30ianG8DaYuWMd_CTQ', 'AMC 34th Street 14', 513, 3.0, nan],\n",
       " ['FdH5VcZX-DIH1spK6_zf4w', 'IPIC Fort Lee', 505, 3.5, nan],\n",
       " ['nw7W-gvCjkU5mrEV9pdprg', 'Regal New Roc 4DX, IMAX & RPX', 141, 3.0, nan],\n",
       " ['IbebRhiIzxUMaWifYbPb0A', 'Spectacle', 15, 4.5, nan],\n",
       " ['nfaS-7o4ZrVdsdqhZHnksQ',\n",
       "  'Alamo Drafthouse Cinema Downtown Brooklyn',\n",
       "  686,\n",
       "  3.5,\n",
       "  '$$'],\n",
       " ['JgmWepTN9W8Q72SV1SOxOQ', 'Regal Lynbrook & RPX', 75, 3.5, nan],\n",
       " ['KZXAfGkFIJY1V2I4Gl2GtA', 'Regal E-Walk & RPX', 347, 3.5, nan],\n",
       " ['H0nq0YobAQ_DuxCcnHgA0g', 'Long Beach Cinema 4', 29, 3.5, nan],\n",
       " ['YgoYeg6FEJEz8cC4uBpgJg', 'Village East Cinema', 182, 3.5, nan],\n",
       " ['AIckQIzEq0bOlJfmA7ISvg', 'Regal UA Staten Island & RPX', 64, 3.0, nan],\n",
       " ['2oQFZgShII9x6YgTxZLJlw', 'Atrium Cinemas', 76, 3.0, nan],\n",
       " ['vr1XlygdTzkqS45PcCe2bg', 'AMC Kips Bay 15', 221, 3.5, nan],\n",
       " ['zxtK8Gjc2iJSK0_zAVFCdA', 'Teaneck Cinemas', 55, 4.0, nan],\n",
       " ['wbOHeWjCqRhObALJXMcpDQ', 'AMC Dine-In Staten Island 11', 133, 2.0, nan],\n",
       " ['IxrWDfDFW8PCmhCZkll2iw', 'Stuart Cinema & Cafe', 10, 4.5, nan],\n",
       " ['k4JKoFxAIcurjJhaip52sQ', 'Clairidge Cinemas', 48, 4.0, nan],\n",
       " ['k98bfuLCdK167ubwSa3wuA', 'The IFC Center', 330, 4.0, nan]]"
      ]
     },
     "execution_count": 49,
     "metadata": {},
     "output_type": "execute_result"
    }
   ],
   "source": [
    "parsed_data"
   ]
  },
  {
   "cell_type": "code",
   "execution_count": 1,
   "metadata": {},
   "outputs": [],
   "source": [
    "# Write a function to take your parsed data and insert it into CSV"
   ]
  },
  {
   "cell_type": "code",
   "execution_count": 53,
   "metadata": {},
   "outputs": [],
   "source": [
    "def data_save(parsed_results, csv_filename):\n",
    "    # your code to save the current results with all of the other results. \n",
    "    # I would save the data every time you pull 50 results\n",
    "    # in case something breaks in the process.\n",
    "    cols=['ID','Name','Reviews','Rating','Price']\n",
    "    df=pd.DataFrame(parsed_results,columns=cols)\n",
    "    df.to_csv(csv_filename)"
   ]
  },
  {
   "cell_type": "code",
   "execution_count": 43,
   "metadata": {},
   "outputs": [],
   "source": [
    "# Write a script that combines the three functions above into a single process.\n",
    "\n",
    "# create a variable  to keep track of which result you are in. \n",
    "cur = 0\n",
    "ready_data=[]\n",
    "#set up a while loop to go through and grab the result \n",
    "while  cur < 537:\n",
    "    #set the offset parameter to be where you currently are in the results \n",
    "    url_params['offset'] = cur\n",
    "    #make your API call with the new offset number\n",
    "    results = yelp_call(url_params, api_key)\n",
    "    \n",
    "    #after you get your results you can now use your function to parse those results\n",
    "    parsed_results = parse_results(results)\n",
    "    \n",
    "    # use your function to insert your parsed results into the db\n",
    "    #data_save(parsed_results, csv_file)\n",
    "    ready_data.extend(parsed_results)\n",
    "    #increment the counter by 50 to move on to the next results\n",
    "    cur += 50"
   ]
  },
  {
   "cell_type": "code",
   "execution_count": 44,
   "metadata": {},
   "outputs": [
    {
     "data": {
      "text/plain": [
       "537"
      ]
     },
     "execution_count": 44,
     "metadata": {},
     "output_type": "execute_result"
    }
   ],
   "source": [
    "len(ready_data)"
   ]
  },
  {
   "cell_type": "code",
   "execution_count": 54,
   "metadata": {},
   "outputs": [],
   "source": [
    "data_save(ready_data, 'yelp_data_biz.csv')"
   ]
  },
  {
   "cell_type": "code",
   "execution_count": 76,
   "metadata": {},
   "outputs": [
    {
     "data": {
      "text/html": [
       "<div>\n",
       "<style scoped>\n",
       "    .dataframe tbody tr th:only-of-type {\n",
       "        vertical-align: middle;\n",
       "    }\n",
       "\n",
       "    .dataframe tbody tr th {\n",
       "        vertical-align: top;\n",
       "    }\n",
       "\n",
       "    .dataframe thead th {\n",
       "        text-align: right;\n",
       "    }\n",
       "</style>\n",
       "<table border=\"1\" class=\"dataframe\">\n",
       "  <thead>\n",
       "    <tr style=\"text-align: right;\">\n",
       "      <th></th>\n",
       "      <th>ID</th>\n",
       "      <th>Name</th>\n",
       "      <th>Reviews</th>\n",
       "      <th>Rating</th>\n",
       "      <th>Price</th>\n",
       "    </tr>\n",
       "  </thead>\n",
       "  <tbody>\n",
       "    <tr>\n",
       "      <th>0</th>\n",
       "      <td>M2denMcXzZPJm9RkYhStkQ</td>\n",
       "      <td>Regal UA Sheepshead Bay IMAX &amp; RPX</td>\n",
       "      <td>335</td>\n",
       "      <td>2.5</td>\n",
       "      <td>NaN</td>\n",
       "    </tr>\n",
       "    <tr>\n",
       "      <th>1</th>\n",
       "      <td>c1onPljpeivCbdgYisVWNw</td>\n",
       "      <td>Nitehawk Cinema</td>\n",
       "      <td>693</td>\n",
       "      <td>4.5</td>\n",
       "      <td>NaN</td>\n",
       "    </tr>\n",
       "    <tr>\n",
       "      <th>2</th>\n",
       "      <td>-m6RCdKiS5fC0wkZJHe2xg</td>\n",
       "      <td>Alpine Theatre</td>\n",
       "      <td>282</td>\n",
       "      <td>2.5</td>\n",
       "      <td>NaN</td>\n",
       "    </tr>\n",
       "    <tr>\n",
       "      <th>3</th>\n",
       "      <td>H38pIONXN5yM4FMNtCMZqw</td>\n",
       "      <td>Nitehawk Cinema - Prospect Park</td>\n",
       "      <td>167</td>\n",
       "      <td>3.5</td>\n",
       "      <td>$$</td>\n",
       "    </tr>\n",
       "    <tr>\n",
       "      <th>4</th>\n",
       "      <td>_GH68RRjkwNbwT6LWIgm9Q</td>\n",
       "      <td>Williamsburg Cinemas</td>\n",
       "      <td>334</td>\n",
       "      <td>3.0</td>\n",
       "      <td>NaN</td>\n",
       "    </tr>\n",
       "  </tbody>\n",
       "</table>\n",
       "</div>"
      ],
      "text/plain": [
       "                       ID                                Name  Reviews  \\\n",
       "0  M2denMcXzZPJm9RkYhStkQ  Regal UA Sheepshead Bay IMAX & RPX      335   \n",
       "1  c1onPljpeivCbdgYisVWNw                     Nitehawk Cinema      693   \n",
       "2  -m6RCdKiS5fC0wkZJHe2xg                      Alpine Theatre      282   \n",
       "3  H38pIONXN5yM4FMNtCMZqw     Nitehawk Cinema - Prospect Park      167   \n",
       "4  _GH68RRjkwNbwT6LWIgm9Q                Williamsburg Cinemas      334   \n",
       "\n",
       "   Rating Price  \n",
       "0     2.5   NaN  \n",
       "1     4.5   NaN  \n",
       "2     2.5   NaN  \n",
       "3     3.5    $$  \n",
       "4     3.0   NaN  "
      ]
     },
     "execution_count": 76,
     "metadata": {},
     "output_type": "execute_result"
    }
   ],
   "source": [
    "df=pd.read_csv('yelp_data_biz.csv',index_col=0)\n",
    "\n",
    "df.head()"
   ]
  },
  {
   "cell_type": "markdown",
   "metadata": {},
   "source": [
    "## Part 4 -  Create ETL pipeline for the restaurant review data from the API\n",
    "\n",
    "You've done this for the Businesses, now you need to do this for reviews. You will follow the same process, but your functions will be specific to reviews."
   ]
  },
  {
   "cell_type": "code",
   "execution_count": 58,
   "metadata": {},
   "outputs": [],
   "source": [
    "# write Pandas code to pull back all of the business ids \n",
    "# you will need these ids to pull back the reviews for each restaurant\n",
    "biz_ids=df['ID'].values"
   ]
  },
  {
   "cell_type": "code",
   "execution_count": 59,
   "metadata": {},
   "outputs": [],
   "source": [
    "# write a function that takes a business id \n",
    "# and makes a call to the API for reivews\n",
    "def yelp_review(biz_id, api_key):\n",
    "    url =  'https://api.yelp.com/v3/businesses/{}/reviews'.format(biz_id)\n",
    "    headers = {\n",
    "        'Authorization': 'Bearer {}'.format(api_key),\n",
    "    }\n",
    "    data= requests.get(url, headers=headers)\n",
    "    return data\n",
    "    "
   ]
  },
  {
   "cell_type": "code",
   "execution_count": 61,
   "metadata": {},
   "outputs": [],
   "source": [
    "review_data=yelp_review(biz_ids[0], api_key)"
   ]
  },
  {
   "cell_type": "code",
   "execution_count": 88,
   "metadata": {
    "collapsed": true
   },
   "outputs": [
    {
     "data": {
      "text/plain": [
       "{'id': 'Zub5hKsEOXQv2dvy6-XJCQ',\n",
       " 'url': 'https://www.yelp.com/biz/regal-ua-sheepshead-bay-imax-and-rpx-brooklyn-2?adjust_creative=iiD4cWOR-Fz3fX4le1knTg&hrid=Zub5hKsEOXQv2dvy6-XJCQ&utm_campaign=yelp_api_v3&utm_medium=api_v3_business_reviews&utm_source=iiD4cWOR-Fz3fX4le1knTg',\n",
       " 'text': \"My childhood movie theater-- nicer than I remember it being lol. It's a movie theater, clean enough & gets the job done. On a Saturday night around 7 PM,...\",\n",
       " 'rating': 3,\n",
       " 'time_created': '2020-03-03 11:05:21',\n",
       " 'user': {'id': '96tc9KDtBj8V8zLWcBFluQ',\n",
       "  'profile_url': 'https://www.yelp.com/user_details?userid=96tc9KDtBj8V8zLWcBFluQ',\n",
       "  'image_url': 'https://s3-media3.fl.yelpcdn.com/photo/-cQz3qgwnOPQrLnBeMDqfg/o.jpg',\n",
       "  'name': 'Christal Y.'}}"
      ]
     },
     "execution_count": 88,
     "metadata": {},
     "output_type": "execute_result"
    }
   ],
   "source": [
    "review_data.json()['reviews'][0]"
   ]
  },
  {
   "cell_type": "code",
   "execution_count": 71,
   "metadata": {},
   "outputs": [],
   "source": [
    "# Write a function to parse out the relevant information from the reviews\n",
    "def parse_reviews(reviews, biz_id):\n",
    "    parsed_data=[]\n",
    "    data=reviews.json()['reviews']\n",
    "    for i in data:\n",
    "        review=[\n",
    "            biz_id,\n",
    "            i['text'],\n",
    "            i['time_created']\n",
    "        ]\n",
    "        parsed_data.append(review)\n",
    "    return parsed_data"
   ]
  },
  {
   "cell_type": "code",
   "execution_count": 72,
   "metadata": {
    "collapsed": true
   },
   "outputs": [
    {
     "data": {
      "text/plain": [
       "[['M2denMcXzZPJm9RkYhStkQ',\n",
       "  \"My childhood movie theater-- nicer than I remember it being lol. It's a movie theater, clean enough & gets the job done. On a Saturday night around 7 PM,...\",\n",
       "  '2020-03-03 11:05:21'],\n",
       " ['M2denMcXzZPJm9RkYhStkQ',\n",
       "  \"My first time there and I thought it would've been an upgrade from the usual theatre we visit (since this is an imax... if that even matters lol). WRONG!!!...\",\n",
       "  '2020-02-18 18:59:15'],\n",
       " ['M2denMcXzZPJm9RkYhStkQ',\n",
       "  \"Listen to me TRUST ME , DO NOT I REPEAT DO NOT GO TO THIS PLACE. I'm currently here and boy I should have known better . It stinks badly , it's dirty af I...\",\n",
       "  '2020-01-15 02:29:24']]"
      ]
     },
     "execution_count": 72,
     "metadata": {},
     "output_type": "execute_result"
    }
   ],
   "source": [
    "parse_reviews(review_data, biz_ids[0])"
   ]
  },
  {
   "cell_type": "code",
   "execution_count": 68,
   "metadata": {},
   "outputs": [],
   "source": [
    "# write a function to insert the parsed data into the reviews table\n",
    "def data_save2(parsed_results, csv_filename):\n",
    "    # your code to save the current results with all of the other results. \n",
    "    # I would save the data every time you pull 50 results\n",
    "    # in case something breaks in the process.\n",
    "    cols=['ID','Text','Time']\n",
    "    df=pd.DataFrame(parsed_results,columns=cols)\n",
    "    df.to_csv(csv_filename)"
   ]
  },
  {
   "cell_type": "code",
   "execution_count": 73,
   "metadata": {},
   "outputs": [
    {
     "data": {
      "text/plain": [
       "1573"
      ]
     },
     "execution_count": 73,
     "metadata": {},
     "output_type": "execute_result"
    }
   ],
   "source": [
    "# combine the functions above into a single script  \n",
    "all_reviews=[]\n",
    "for biz_id in biz_ids:\n",
    "    review=yelp_review(biz_id,api_key)\n",
    "    \n",
    "    parsed_reviews=parse_reviews(review,biz_id)\n",
    "    \n",
    "    all_reviews.extend(parsed_reviews)\n",
    "    \n",
    "len(all_reviews)"
   ]
  },
  {
   "cell_type": "code",
   "execution_count": 74,
   "metadata": {},
   "outputs": [],
   "source": [
    "data_save2(all_reviews,'yelp_reviews')"
   ]
  },
  {
   "cell_type": "code",
   "execution_count": 85,
   "metadata": {},
   "outputs": [
    {
     "data": {
      "text/html": [
       "<div>\n",
       "<style scoped>\n",
       "    .dataframe tbody tr th:only-of-type {\n",
       "        vertical-align: middle;\n",
       "    }\n",
       "\n",
       "    .dataframe tbody tr th {\n",
       "        vertical-align: top;\n",
       "    }\n",
       "\n",
       "    .dataframe thead th {\n",
       "        text-align: right;\n",
       "    }\n",
       "</style>\n",
       "<table border=\"1\" class=\"dataframe\">\n",
       "  <thead>\n",
       "    <tr style=\"text-align: right;\">\n",
       "      <th></th>\n",
       "      <th>ID</th>\n",
       "      <th>Text</th>\n",
       "      <th>Time</th>\n",
       "    </tr>\n",
       "  </thead>\n",
       "  <tbody>\n",
       "    <tr>\n",
       "      <th>0</th>\n",
       "      <td>M2denMcXzZPJm9RkYhStkQ</td>\n",
       "      <td>My childhood movie theater-- nicer than I reme...</td>\n",
       "      <td>2020-03-03 11:05:21</td>\n",
       "    </tr>\n",
       "    <tr>\n",
       "      <th>1</th>\n",
       "      <td>M2denMcXzZPJm9RkYhStkQ</td>\n",
       "      <td>My first time there and I thought it would've ...</td>\n",
       "      <td>2020-02-18 18:59:15</td>\n",
       "    </tr>\n",
       "    <tr>\n",
       "      <th>2</th>\n",
       "      <td>M2denMcXzZPJm9RkYhStkQ</td>\n",
       "      <td>Listen to me TRUST ME , DO NOT I REPEAT DO NOT...</td>\n",
       "      <td>2020-01-15 02:29:24</td>\n",
       "    </tr>\n",
       "    <tr>\n",
       "      <th>3</th>\n",
       "      <td>c1onPljpeivCbdgYisVWNw</td>\n",
       "      <td>Love coming here. They usually screen all the ...</td>\n",
       "      <td>2020-02-03 11:23:06</td>\n",
       "    </tr>\n",
       "    <tr>\n",
       "      <th>4</th>\n",
       "      <td>c1onPljpeivCbdgYisVWNw</td>\n",
       "      <td>Came here for the first time tonight and loved...</td>\n",
       "      <td>2020-01-31 22:03:15</td>\n",
       "    </tr>\n",
       "  </tbody>\n",
       "</table>\n",
       "</div>"
      ],
      "text/plain": [
       "                       ID                                               Text  \\\n",
       "0  M2denMcXzZPJm9RkYhStkQ  My childhood movie theater-- nicer than I reme...   \n",
       "1  M2denMcXzZPJm9RkYhStkQ  My first time there and I thought it would've ...   \n",
       "2  M2denMcXzZPJm9RkYhStkQ  Listen to me TRUST ME , DO NOT I REPEAT DO NOT...   \n",
       "3  c1onPljpeivCbdgYisVWNw  Love coming here. They usually screen all the ...   \n",
       "4  c1onPljpeivCbdgYisVWNw  Came here for the first time tonight and loved...   \n",
       "\n",
       "                  Time  \n",
       "0  2020-03-03 11:05:21  \n",
       "1  2020-02-18 18:59:15  \n",
       "2  2020-01-15 02:29:24  \n",
       "3  2020-02-03 11:23:06  \n",
       "4  2020-01-31 22:03:15  "
      ]
     },
     "execution_count": 85,
     "metadata": {},
     "output_type": "execute_result"
    }
   ],
   "source": [
    "df2=pd.read_csv('yelp_reviews',index_col=0)\n",
    "df2.head()"
   ]
  },
  {
   "cell_type": "markdown",
   "metadata": {},
   "source": [
    "## Part 5 -  Write Pandas code that will answer the questions posed. \n",
    "\n",
    "Now that your data is saved in CSVs, you can answer the questions. "
   ]
  },
  {
   "cell_type": "markdown",
   "metadata": {},
   "source": [
    " \n",
    "## Data Questions:\n",
    "\n",
    "- Which are the 5 most reviewed businesses?\n",
    "- What is the highest rating recieved in your data set and how many businesses have that rating?\n",
    "- What percentage of businesses have a rating greater than or  4.5?\n",
    "- What percentage of businesses have a rating less than 3?\n",
    "- What is the average rating of restaurants that have a price label of one dollar sign? Two dollar signs? Three dollar signs? \n",
    "- Return the text of the reviews for the most reviewed restaurant. \n",
    "- Return the name of the business with the most recent review. \n",
    "- Find the highest rated business and return text of the most recent review. If multiple business have the same rating, select the restaurant with the most reviews. \n",
    "- Find the lowest rated business and return text of the most recent review.  If multiple business have the same rating, select the restaurant with the least reviews. \n"
   ]
  },
  {
   "cell_type": "code",
   "execution_count": 92,
   "metadata": {},
   "outputs": [
    {
     "data": {
      "text/plain": [
       "493        The Metropolitan Museum of Art\n",
       "460    American Museum of Natural History\n",
       "383                 Empire State Building\n",
       "319              The Museum of Modern Art\n",
       "478                       Top of the Rock\n",
       "Name: Name, dtype: object"
      ]
     },
     "execution_count": 92,
     "metadata": {},
     "output_type": "execute_result"
    }
   ],
   "source": [
    "# 5 most reviewed\n",
    "top5_reviewed=df.sort_values(by='Reviews',ascending=False).head(5)\n",
    "top5_reviewed['Name']"
   ]
  },
  {
   "cell_type": "code",
   "execution_count": 95,
   "metadata": {},
   "outputs": [
    {
     "data": {
      "text/plain": [
       "Rating\n",
       "1.5      4\n",
       "2.0     16\n",
       "2.5     34\n",
       "3.0     52\n",
       "3.5    108\n",
       "4.0    172\n",
       "4.5    127\n",
       "5.0     24\n",
       "dtype: int64"
      ]
     },
     "execution_count": 95,
     "metadata": {},
     "output_type": "execute_result"
    }
   ],
   "source": [
    "# Highest Rating + how many Businesses have it\n",
    "highest_ratings=df.sort_values(by='Rating', ascending=False)\n",
    "highest_ratings.groupby('Rating').size()"
   ]
  },
  {
   "cell_type": "code",
   "execution_count": 114,
   "metadata": {},
   "outputs": [
    {
     "data": {
      "text/plain": [
       "28.11918063314711"
      ]
     },
     "execution_count": 114,
     "metadata": {},
     "output_type": "execute_result"
    }
   ],
   "source": [
    "# % with rating>=4.5\n",
    "rating_percents=df[df['Rating']>=4.5]['Rating'].count()/df['Rating'].count()\n",
    "rating_percents*100"
   ]
  },
  {
   "cell_type": "code",
   "execution_count": 115,
   "metadata": {},
   "outputs": [
    {
     "data": {
      "text/plain": [
       "10.05586592178771"
      ]
     },
     "execution_count": 115,
     "metadata": {},
     "output_type": "execute_result"
    }
   ],
   "source": [
    "# % with rating<3\n",
    "rating_percents=df[df['Rating']<3]['Rating'].count()/df['Rating'].count()\n",
    "rating_percents*100"
   ]
  },
  {
   "cell_type": "code",
   "execution_count": 120,
   "metadata": {},
   "outputs": [
    {
     "data": {
      "text/plain": [
       "Price\n",
       "$       3.916667\n",
       "$$      3.771429\n",
       "$$$     4.000000\n",
       "$$$$    4.000000\n",
       "Name: Rating, dtype: float64"
      ]
     },
     "execution_count": 120,
     "metadata": {},
     "output_type": "execute_result"
    }
   ],
   "source": [
    "#Average rating of restaurant based on Price\n",
    "df.groupby('Price')['Rating'].mean()"
   ]
  },
  {
   "cell_type": "code",
   "execution_count": 130,
   "metadata": {},
   "outputs": [
    {
     "data": {
      "text/plain": [
       "array([\"Celebrating 150 years and still as strong and exciting as ever. Second time here and still haven't see everything. There is so much to see that a ticket is...\",\n",
       "       'One of the best museums I went to in NY. \\n\\nI went especially to see the fashion exhibition, Heavenly Bodies: Fashion and The Catholic Imagination. Great...',\n",
       "       \"Come to the MET on several occasions through and like always you can never finish more than 4 exhibits and that's rushing it.  \\n\\nThey always have a seasonal...\"],\n",
       "      dtype=object)"
      ]
     },
     "execution_count": 130,
     "metadata": {},
     "output_type": "execute_result"
    }
   ],
   "source": [
    "#Return the text of the reviews for the most reviewed restaurant.\n",
    "df_all=pd.merge(df,df2,on='ID')\n",
    "most_reviews=df_all['Reviews'].max()\n",
    "df_all[df_all['Reviews']==most_reviews]['Text'].values"
   ]
  },
  {
   "cell_type": "code",
   "execution_count": 133,
   "metadata": {},
   "outputs": [
    {
     "data": {
      "text/plain": [
       "1389    Color Factory\n",
       "Name: Name, dtype: object"
      ]
     },
     "execution_count": 133,
     "metadata": {},
     "output_type": "execute_result"
    }
   ],
   "source": [
    "#Return the name of the business with the most recent review.\n",
    "df_all[df_all['Time']==df_all['Time'].max()]['Name']"
   ]
  },
  {
   "cell_type": "code",
   "execution_count": 144,
   "metadata": {},
   "outputs": [
    {
     "data": {
      "text/html": [
       "<div>\n",
       "<style scoped>\n",
       "    .dataframe tbody tr th:only-of-type {\n",
       "        vertical-align: middle;\n",
       "    }\n",
       "\n",
       "    .dataframe tbody tr th {\n",
       "        vertical-align: top;\n",
       "    }\n",
       "\n",
       "    .dataframe thead th {\n",
       "        text-align: right;\n",
       "    }\n",
       "</style>\n",
       "<table border=\"1\" class=\"dataframe\">\n",
       "  <thead>\n",
       "    <tr style=\"text-align: right;\">\n",
       "      <th></th>\n",
       "      <th>Name</th>\n",
       "      <th>Text</th>\n",
       "    </tr>\n",
       "  </thead>\n",
       "  <tbody>\n",
       "    <tr>\n",
       "      <th>1005</th>\n",
       "      <td>Blogologues</td>\n",
       "      <td>So funny and so relevant! I saw Blogologues wh...</td>\n",
       "    </tr>\n",
       "  </tbody>\n",
       "</table>\n",
       "</div>"
      ],
      "text/plain": [
       "             Name                                               Text\n",
       "1005  Blogologues  So funny and so relevant! I saw Blogologues wh..."
      ]
     },
     "execution_count": 144,
     "metadata": {},
     "output_type": "execute_result"
    }
   ],
   "source": [
    "#Find the highest rated business and return text of the most recent review. \n",
    "#If multiple business have the same rating, select the restaurant with the most reviews.\n",
    "highest_rated=df_all[df_all['Rating']==df_all['Rating'].max()]\n",
    "high_most_reviews=highest_rated[highest_rated['Reviews']==highest_rated['Reviews'].max()]\n",
    "high_most_reviews.sort_values(by='Time',ascending=False).head(1)[['Name','Text']]"
   ]
  },
  {
   "cell_type": "code",
   "execution_count": 145,
   "metadata": {},
   "outputs": [
    {
     "data": {
      "text/html": [
       "<div>\n",
       "<style scoped>\n",
       "    .dataframe tbody tr th:only-of-type {\n",
       "        vertical-align: middle;\n",
       "    }\n",
       "\n",
       "    .dataframe tbody tr th {\n",
       "        vertical-align: top;\n",
       "    }\n",
       "\n",
       "    .dataframe thead th {\n",
       "        text-align: right;\n",
       "    }\n",
       "</style>\n",
       "<table border=\"1\" class=\"dataframe\">\n",
       "  <thead>\n",
       "    <tr style=\"text-align: right;\">\n",
       "      <th></th>\n",
       "      <th>Name</th>\n",
       "      <th>Text</th>\n",
       "    </tr>\n",
       "  </thead>\n",
       "  <tbody>\n",
       "    <tr>\n",
       "      <th>412</th>\n",
       "      <td>Columbia Park 12</td>\n",
       "      <td>The night I went there to see Godzilla King of...</td>\n",
       "    </tr>\n",
       "  </tbody>\n",
       "</table>\n",
       "</div>"
      ],
      "text/plain": [
       "                 Name                                               Text\n",
       "412  Columbia Park 12  The night I went there to see Godzilla King of..."
      ]
     },
     "execution_count": 145,
     "metadata": {},
     "output_type": "execute_result"
    }
   ],
   "source": [
    "#Find the lowest rated business and return text of the most recent review. \n",
    "#If multiple business have the same rating, select the restaurant with the least reviews.\n",
    "lowest_rated=df_all[df_all['Rating']==df_all['Rating'].min()]\n",
    "low_least_reviews=lowest_rated[lowest_rated['Reviews']==lowest_rated['Reviews'].min()]\n",
    "low_least_reviews.sort_values(by='Time',ascending=False).head(1)[['Name','Text']]"
   ]
  },
  {
   "cell_type": "markdown",
   "metadata": {},
   "source": [
    "# Extra Reference help"
   ]
  },
  {
   "cell_type": "markdown",
   "metadata": {},
   "source": [
    "###  Pagination\n",
    "\n",
    "Returning to the Yelp API, the [documentation](https://www.yelp.com/developers/documentation/v3/business_search) also provides us details regarding the API limits. These often include details about the number of requests a user is allowed to make within a specified time limit and the maximum number of results to be returned. In this case, we are told that any request has a maximum of 50 results per request and defaults to 20. Furthermore, any search will be limited to a total of 1000 results. To retrieve all 1000 of these results, we would have to page through the results piece by piece, retriving 50 at a time. Processes such as these are often refered to as pagination.\n",
    "\n",
    "Now that you have an initial response, you can examine the contents of the json container. For example, you might start with ```response.json().keys()```. Here, you'll see a key for `'total'`, which tells you the full number of matching results given your query parameters. Write a loop (or ideally a function) which then makes successive API calls using the offset parameter to retrieve all of the results (or 5000 for a particularly large result set) for the original query. As you do this, be mindful of how you store the data. \n",
    "\n",
    "**Note: be mindful of the API rate limits. You can only make 5000 requests per day, and APIs can make requests too fast. Start prototyping small before running a loop that could be faulty. You can also use time.sleep(n) to add delays. For more details see https://www.yelp.com/developers/documentation/v3/rate_limiting.**"
   ]
  },
  {
   "cell_type": "markdown",
   "metadata": {},
   "source": [
    "***Below is sample code that you can use to help you deal with the pagination parameter and bring all of the functions together.***\n",
    "\n",
    "\n",
    "***Also, something might cause your code to break while it is running. You don't want to constantly repull the same data when this happens, so you should insert the data into the database as you call and parse it, not after you have all of the data***\n"
   ]
  },
  {
   "cell_type": "code",
   "execution_count": null,
   "metadata": {},
   "outputs": [],
   "source": [
    "# create a variable  to keep track of which result you are in. \n",
    "cur = 0\n",
    "\n",
    "#set up a while loop to go through and grab the result \n",
    "while cur < num and cur < 1000:\n",
    "    #set the offset parameter to be where you currently are in the results \n",
    "    url_params['offset'] = cur\n",
    "    #make your API call with the new offset number\n",
    "    results = yelp_call(url_params, api_key)\n",
    "    \n",
    "    #after you get your results you can now use your function to parse those results\n",
    "    parsed_results = parse_results(results)\n",
    "    \n",
    "    # use your function to insert your parsed results into the db\n",
    "    data_save(parsed_results)\n",
    "    #increment the counter by 50 to move on to the next results\n",
    "    cur += 50"
   ]
  },
  {
   "cell_type": "code",
   "execution_count": null,
   "metadata": {},
   "outputs": [],
   "source": []
  }
 ],
 "metadata": {
  "kernelspec": {
   "display_name": "Python 3",
   "language": "python",
   "name": "python3"
  },
  "language_info": {
   "codemirror_mode": {
    "name": "ipython",
    "version": 3
   },
   "file_extension": ".py",
   "mimetype": "text/x-python",
   "name": "python",
   "nbconvert_exporter": "python",
   "pygments_lexer": "ipython3",
   "version": "3.7.6"
  },
  "toc": {
   "base_numbering": 1,
   "nav_menu": {},
   "number_sections": false,
   "sideBar": true,
   "skip_h1_title": false,
   "title_cell": "Table of Contents",
   "title_sidebar": "Contents",
   "toc_cell": false,
   "toc_position": {},
   "toc_section_display": true,
   "toc_window_display": false
  }
 },
 "nbformat": 4,
 "nbformat_minor": 2
}
